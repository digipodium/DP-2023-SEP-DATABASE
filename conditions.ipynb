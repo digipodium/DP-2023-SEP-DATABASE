{
    "metadata": {
        "kernelspec": {
            "name": "SQL",
            "display_name": "SQL",
            "language": "sql"
        },
        "language_info": {
            "name": "sql",
            "version": ""
        }
    },
    "nbformat_minor": 2,
    "nbformat": 4,
    "cells": [
        {
            "cell_type": "markdown",
            "source": [
                "## if condition\n",
                "\n",
                "IF"
            ],
            "metadata": {
                "azdata_cell_guid": "77d8b65a-2ff8-4707-89ad-dee0d121ea71"
            },
            "attachments": {}
        },
        {
            "cell_type": "code",
            "source": [
                "use sales;"
            ],
            "metadata": {
                "azdata_cell_guid": "610e74aa-4260-4488-8efd-899d346930cc",
                "language": "sql"
            },
            "outputs": [
                {
                    "output_type": "display_data",
                    "data": {
                        "text/html": "Commands completed successfully"
                    },
                    "metadata": {}
                },
                {
                    "output_type": "display_data",
                    "data": {
                        "text/html": "Total execution time: 00:00:00.001"
                    },
                    "metadata": {}
                }
            ],
            "execution_count": 1
        },
        {
            "cell_type": "code",
            "source": [
                "select * from customers limit 2;"
            ],
            "metadata": {
                "language": "sql",
                "azdata_cell_guid": "0e0d6233-86dc-4e73-9463-f07071bbfccd"
            },
            "outputs": [
                {
                    "output_type": "display_data",
                    "data": {
                        "text/html": "(2 row(s) affected)"
                    },
                    "metadata": {}
                },
                {
                    "output_type": "display_data",
                    "data": {
                        "text/html": "Total execution time: 00:00:01.005"
                    },
                    "metadata": {}
                },
                {
                    "output_type": "execute_result",
                    "execution_count": 2,
                    "data": {
                        "application/vnd.dataresource+json": {
                            "schema": {
                                "fields": [
                                    {
                                        "name": "CID"
                                    },
                                    {
                                        "name": "FirstName"
                                    },
                                    {
                                        "name": "LastName"
                                    },
                                    {
                                        "name": "Address"
                                    },
                                    {
                                        "name": "City"
                                    },
                                    {
                                        "name": "State"
                                    },
                                    {
                                        "name": "Zip"
                                    },
                                    {
                                        "name": "email"
                                    },
                                    {
                                        "name": "phone"
                                    }
                                ]
                            },
                            "data": [
                                {
                                    "CID": "AB98",
                                    "FirstName": "Aiden",
                                    "LastName": "Berg",
                                    "Address": "11367 Maple Street",
                                    "City": "Delhi",
                                    "State": "CA",
                                    "Zip": "95315",
                                    "email": "Aiden.Berg@gmail.com",
                                    "phone": "123"
                                },
                                {
                                    "CID": "AC75",
                                    "FirstName": "Arianna",
                                    "LastName": "Cruz",
                                    "Address": "13944 Myrtle Avenue",
                                    "City": "Huntington",
                                    "State": "WV",
                                    "Zip": "25770",
                                    "email": "Arianna.Cruz@excite.com",
                                    "phone": "NULL"
                                }
                            ]
                        },
                        "text/html": "<table><tr><th>CID</th><th>FirstName</th><th>LastName</th><th>Address</th><th>City</th><th>State</th><th>Zip</th><th>email</th><th>phone</th></tr><tr><td>AB98</td><td>Aiden</td><td>Berg</td><td>11367 Maple Street</td><td>Delhi</td><td>CA</td><td>95315</td><td>Aiden.Berg@gmail.com</td><td>123</td></tr><tr><td>AC75</td><td>Arianna</td><td>Cruz</td><td>13944 Myrtle Avenue</td><td>Huntington</td><td>WV</td><td>25770</td><td>Arianna.Cruz@excite.com</td><td>NULL</td></tr></table>"
                    },
                    "metadata": {}
                }
            ],
            "execution_count": 2
        },
        {
            "cell_type": "code",
            "source": [
                "SELECT \r\n",
                "    COUNT(CID) as total,\r\n",
                "    state,\r\n",
                "    if(count(cid) >= 10,\"✅\", \"❌\") as importance\r\n",
                "FROM customers\r\n",
                "GROUP BY state\r\n",
                "ORDER BY importance;"
            ],
            "metadata": {
                "language": "sql",
                "azdata_cell_guid": "068bc8c5-38bf-4ef1-88da-78a1ba81404b",
                "tags": []
            },
            "outputs": [
                {
                    "output_type": "display_data",
                    "data": {
                        "text/html": "(47 row(s) affected)"
                    },
                    "metadata": {}
                },
                {
                    "output_type": "display_data",
                    "data": {
                        "text/html": "Total execution time: 00:00:01.010"
                    },
                    "metadata": {}
                },
                {
                    "output_type": "execute_result",
                    "execution_count": 14,
                    "data": {
                        "application/vnd.dataresource+json": {
                            "schema": {
                                "fields": [
                                    {
                                        "name": "total"
                                    },
                                    {
                                        "name": "state"
                                    },
                                    {
                                        "name": "importance"
                                    }
                                ]
                            },
                            "data": [
                                {
                                    "total": "18",
                                    "state": "CA",
                                    "importance": "✅"
                                },
                                {
                                    "total": "12",
                                    "state": "TX",
                                    "importance": "✅"
                                },
                                {
                                    "total": "11",
                                    "state": "TN",
                                    "importance": "✅"
                                },
                                {
                                    "total": "4",
                                    "state": "WV",
                                    "importance": "❌"
                                },
                                {
                                    "total": "6",
                                    "state": "MN",
                                    "importance": "❌"
                                },
                                {
                                    "total": "8",
                                    "state": "OH",
                                    "importance": "❌"
                                },
                                {
                                    "total": "8",
                                    "state": "WI",
                                    "importance": "❌"
                                },
                                {
                                    "total": "7",
                                    "state": "AL",
                                    "importance": "❌"
                                },
                                {
                                    "total": "5",
                                    "state": "FL",
                                    "importance": "❌"
                                },
                                {
                                    "total": "8",
                                    "state": "NY",
                                    "importance": "❌"
                                },
                                {
                                    "total": "7",
                                    "state": "MO",
                                    "importance": "❌"
                                },
                                {
                                    "total": "7",
                                    "state": "AR",
                                    "importance": "❌"
                                },
                                {
                                    "total": "7",
                                    "state": "PA",
                                    "importance": "❌"
                                },
                                {
                                    "total": "6",
                                    "state": "MI",
                                    "importance": "❌"
                                },
                                {
                                    "total": "4",
                                    "state": "VA",
                                    "importance": "❌"
                                },
                                {
                                    "total": "7",
                                    "state": "MA",
                                    "importance": "❌"
                                },
                                {
                                    "total": "3",
                                    "state": "GA",
                                    "importance": "❌"
                                },
                                {
                                    "total": "5",
                                    "state": "CO",
                                    "importance": "❌"
                                },
                                {
                                    "total": "3",
                                    "state": "NE",
                                    "importance": "❌"
                                },
                                {
                                    "total": "5",
                                    "state": "WA",
                                    "importance": "❌"
                                },
                                {
                                    "total": "4",
                                    "state": "MS",
                                    "importance": "❌"
                                },
                                {
                                    "total": "2",
                                    "state": "ND",
                                    "importance": "❌"
                                },
                                {
                                    "total": "3",
                                    "state": "NM",
                                    "importance": "❌"
                                },
                                {
                                    "total": "4",
                                    "state": "KS",
                                    "importance": "❌"
                                },
                                {
                                    "total": "1",
                                    "state": "NC",
                                    "importance": "❌"
                                },
                                {
                                    "total": "4",
                                    "state": "KY",
                                    "importance": "❌"
                                },
                                {
                                    "total": "2",
                                    "state": "MT",
                                    "importance": "❌"
                                },
                                {
                                    "total": "2",
                                    "state": "IN",
                                    "importance": "❌"
                                },
                                {
                                    "total": "4",
                                    "state": "OK",
                                    "importance": "❌"
                                },
                                {
                                    "total": "1",
                                    "state": "VT",
                                    "importance": "❌"
                                },
                                {
                                    "total": "3",
                                    "state": "IL",
                                    "importance": "❌"
                                },
                                {
                                    "total": "2",
                                    "state": "LA",
                                    "importance": "❌"
                                },
                                {
                                    "total": "3",
                                    "state": "UT",
                                    "importance": "❌"
                                },
                                {
                                    "total": "4",
                                    "state": "NJ",
                                    "importance": "❌"
                                },
                                {
                                    "total": "3",
                                    "state": "DC",
                                    "importance": "❌"
                                },
                                {
                                    "total": "1",
                                    "state": "ID",
                                    "importance": "❌"
                                },
                                {
                                    "total": "3",
                                    "state": "SD",
                                    "importance": "❌"
                                },
                                {
                                    "total": "3",
                                    "state": "OR",
                                    "importance": "❌"
                                },
                                {
                                    "total": "1",
                                    "state": "MD",
                                    "importance": "❌"
                                },
                                {
                                    "total": "1",
                                    "state": "SC",
                                    "importance": "❌"
                                },
                                {
                                    "total": "1",
                                    "state": "HI",
                                    "importance": "❌"
                                },
                                {
                                    "total": "1",
                                    "state": "ME",
                                    "importance": "❌"
                                },
                                {
                                    "total": "1",
                                    "state": "NV",
                                    "importance": "❌"
                                },
                                {
                                    "total": "3",
                                    "state": "AZ",
                                    "importance": "❌"
                                },
                                {
                                    "total": "2",
                                    "state": "IA",
                                    "importance": "❌"
                                },
                                {
                                    "total": "1",
                                    "state": "CT",
                                    "importance": "❌"
                                },
                                {
                                    "total": "1",
                                    "state": "NH",
                                    "importance": "❌"
                                }
                            ]
                        },
                        "text/html": "<table><tr><th>total</th><th>state</th><th>importance</th></tr><tr><td>18</td><td>CA</td><td>✅</td></tr><tr><td>12</td><td>TX</td><td>✅</td></tr><tr><td>11</td><td>TN</td><td>✅</td></tr><tr><td>4</td><td>WV</td><td>❌</td></tr><tr><td>6</td><td>MN</td><td>❌</td></tr><tr><td>8</td><td>OH</td><td>❌</td></tr><tr><td>8</td><td>WI</td><td>❌</td></tr><tr><td>7</td><td>AL</td><td>❌</td></tr><tr><td>5</td><td>FL</td><td>❌</td></tr><tr><td>8</td><td>NY</td><td>❌</td></tr><tr><td>7</td><td>MO</td><td>❌</td></tr><tr><td>7</td><td>AR</td><td>❌</td></tr><tr><td>7</td><td>PA</td><td>❌</td></tr><tr><td>6</td><td>MI</td><td>❌</td></tr><tr><td>4</td><td>VA</td><td>❌</td></tr><tr><td>7</td><td>MA</td><td>❌</td></tr><tr><td>3</td><td>GA</td><td>❌</td></tr><tr><td>5</td><td>CO</td><td>❌</td></tr><tr><td>3</td><td>NE</td><td>❌</td></tr><tr><td>5</td><td>WA</td><td>❌</td></tr><tr><td>4</td><td>MS</td><td>❌</td></tr><tr><td>2</td><td>ND</td><td>❌</td></tr><tr><td>3</td><td>NM</td><td>❌</td></tr><tr><td>4</td><td>KS</td><td>❌</td></tr><tr><td>1</td><td>NC</td><td>❌</td></tr><tr><td>4</td><td>KY</td><td>❌</td></tr><tr><td>2</td><td>MT</td><td>❌</td></tr><tr><td>2</td><td>IN</td><td>❌</td></tr><tr><td>4</td><td>OK</td><td>❌</td></tr><tr><td>1</td><td>VT</td><td>❌</td></tr><tr><td>3</td><td>IL</td><td>❌</td></tr><tr><td>2</td><td>LA</td><td>❌</td></tr><tr><td>3</td><td>UT</td><td>❌</td></tr><tr><td>4</td><td>NJ</td><td>❌</td></tr><tr><td>3</td><td>DC</td><td>❌</td></tr><tr><td>1</td><td>ID</td><td>❌</td></tr><tr><td>3</td><td>SD</td><td>❌</td></tr><tr><td>3</td><td>OR</td><td>❌</td></tr><tr><td>1</td><td>MD</td><td>❌</td></tr><tr><td>1</td><td>SC</td><td>❌</td></tr><tr><td>1</td><td>HI</td><td>❌</td></tr><tr><td>1</td><td>ME</td><td>❌</td></tr><tr><td>1</td><td>NV</td><td>❌</td></tr><tr><td>3</td><td>AZ</td><td>❌</td></tr><tr><td>2</td><td>IA</td><td>❌</td></tr><tr><td>1</td><td>CT</td><td>❌</td></tr><tr><td>1</td><td>NH</td><td>❌</td></tr></table>"
                    },
                    "metadata": {}
                }
            ],
            "execution_count": 14
        },
        {
            "cell_type": "code",
            "source": [
                "use sakila;\r\n",
                "select \r\n",
                "    title,\r\n",
                "    length,\r\n",
                "    if (length>=90, 'Long', 'Short') as length\r\n",
                "from film;"
            ],
            "metadata": {
                "language": "sql",
                "azdata_cell_guid": "8d6f3f8d-c80e-41c8-a442-d743c848e9b4"
            },
            "outputs": [
                {
                    "output_type": "display_data",
                    "data": {
                        "text/html": "Commands completed successfully"
                    },
                    "metadata": {}
                },
                {
                    "output_type": "display_data",
                    "data": {
                        "text/html": "(1000 row(s) affected)"
                    },
                    "metadata": {}
                },
                {
                    "output_type": "display_data",
                    "data": {
                        "text/html": "Total execution time: 00:00:01.013"
                    },
                    "metadata": {}
                },
                {
                    "output_type": "execute_result",
                    "execution_count": 19,
                    "data": {
                        "application/vnd.dataresource+json": {
                            "schema": {
                                "fields": [
                                    {
                                        "name": "title"
                                    },
                                    {
                                        "name": "length"
                                    },
                                    {
                                        "name": "length"
                                    }
                                ]
                            },
                            "data": [
                                {
                                    "title": "ACADEMY DINOSAUR",
                                    "length": "Short"
                                },
                                {
                                    "title": "ACE GOLDFINGER",
                                    "length": "Short"
                                },
                                {
                                    "title": "ADAPTATION HOLES",
                                    "length": "Short"
                                },
                                {
                                    "title": "AFFAIR PREJUDICE",
                                    "length": "Long"
                                },
                                {
                                    "title": "AFRICAN EGG",
                                    "length": "Long"
                                },
                                {
                                    "title": "AGENT TRUMAN",
                                    "length": "Long"
                                },
                                {
                                    "title": "AIRPLANE SIERRA",
                                    "length": "Short"
                                },
                                {
                                    "title": "AIRPORT POLLOCK",
                                    "length": "Short"
                                },
                                {
                                    "title": "ALABAMA DEVIL",
                                    "length": "Long"
                                },
                                {
                                    "title": "ALADDIN CALENDAR",
                                    "length": "Short"
                                },
                                {
                                    "title": "ALAMO VIDEOTAPE",
                                    "length": "Long"
                                },
                                {
                                    "title": "ALASKA PHANTOM",
                                    "length": "Long"
                                },
                                {
                                    "title": "ALI FOREVER",
                                    "length": "Long"
                                },
                                {
                                    "title": "ALICE FANTASIA",
                                    "length": "Long"
                                },
                                {
                                    "title": "ALIEN CENTER",
                                    "length": "Short"
                                },
                                {
                                    "title": "ALLEY EVOLUTION",
                                    "length": "Long"
                                },
                                {
                                    "title": "ALONE TRIP",
                                    "length": "Short"
                                },
                                {
                                    "title": "ALTER VICTORY",
                                    "length": "Short"
                                },
                                {
                                    "title": "AMADEUS HOLY",
                                    "length": "Long"
                                },
                                {
                                    "title": "AMELIE HELLFIGHTERS",
                                    "length": "Short"
                                },
                                {
                                    "title": "AMERICAN CIRCUS",
                                    "length": "Long"
                                },
                                {
                                    "title": "AMISTAD MIDSUMMER",
                                    "length": "Short"
                                },
                                {
                                    "title": "ANACONDA CONFESSIONS",
                                    "length": "Long"
                                },
                                {
                                    "title": "ANALYZE HOOSIERS",
                                    "length": "Long"
                                },
                                {
                                    "title": "ANGELS LIFE",
                                    "length": "Short"
                                },
                                {
                                    "title": "ANNIE IDENTITY",
                                    "length": "Short"
                                },
                                {
                                    "title": "ANONYMOUS HUMAN",
                                    "length": "Long"
                                },
                                {
                                    "title": "ANTHEM LUKE",
                                    "length": "Long"
                                },
                                {
                                    "title": "ANTITRUST TOMATOES",
                                    "length": "Long"
                                },
                                {
                                    "title": "ANYTHING SAVANNAH",
                                    "length": "Short"
                                },
                                {
                                    "title": "APACHE DIVINE",
                                    "length": "Long"
                                },
                                {
                                    "title": "APOCALYPSE FLAMINGOS",
                                    "length": "Long"
                                },
                                {
                                    "title": "APOLLO TEEN",
                                    "length": "Long"
                                },
                                {
                                    "title": "ARABIA DOGMA",
                                    "length": "Short"
                                },
                                {
                                    "title": "ARACHNOPHOBIA ROLLERCOASTER",
                                    "length": "Long"
                                },
                                {
                                    "title": "ARGONAUTS TOWN",
                                    "length": "Long"
                                },
                                {
                                    "title": "ARIZONA BANG",
                                    "length": "Long"
                                },
                                {
                                    "title": "ARK RIDGEMONT",
                                    "length": "Short"
                                },
                                {
                                    "title": "ARMAGEDDON LOST",
                                    "length": "Long"
                                },
                                {
                                    "title": "ARMY FLINTSTONES",
                                    "length": "Long"
                                },
                                {
                                    "title": "ARSENIC INDEPENDENCE",
                                    "length": "Long"
                                },
                                {
                                    "title": "ARTIST COLDBLOODED",
                                    "length": "Long"
                                },
                                {
                                    "title": "ATLANTIS CAUSE",
                                    "length": "Long"
                                },
                                {
                                    "title": "ATTACKS HATE",
                                    "length": "Long"
                                },
                                {
                                    "title": "ATTRACTION NEWTON",
                                    "length": "Short"
                                },
                                {
                                    "title": "AUTUMN CROW",
                                    "length": "Long"
                                },
                                {
                                    "title": "BABY HALL",
                                    "length": "Long"
                                },
                                {
                                    "title": "BACKLASH UNDEFEATED",
                                    "length": "Long"
                                },
                                {
                                    "title": "BADMAN DAWN",
                                    "length": "Long"
                                },
                                {
                                    "title": "BAKED CLEOPATRA",
                                    "length": "Long"
                                },
                                {
                                    "title": "BALLOON HOMEWARD",
                                    "length": "Short"
                                },
                                {
                                    "title": "BALLROOM MOCKINGBIRD",
                                    "length": "Long"
                                },
                                {
                                    "title": "BANG KWAI",
                                    "length": "Short"
                                },
                                {
                                    "title": "BANGER PINOCCHIO",
                                    "length": "Long"
                                },
                                {
                                    "title": "BARBARELLA STREETCAR",
                                    "length": "Short"
                                },
                                {
                                    "title": "BAREFOOT MANCHURIAN",
                                    "length": "Long"
                                },
                                {
                                    "title": "BASIC EASY",
                                    "length": "Long"
                                },
                                {
                                    "title": "BEACH HEARTBREAKERS",
                                    "length": "Long"
                                },
                                {
                                    "title": "BEAR GRACELAND",
                                    "length": "Long"
                                },
                                {
                                    "title": "BEAST HUNCHBACK",
                                    "length": "Short"
                                },
                                {
                                    "title": "BEAUTY GREASE",
                                    "length": "Long"
                                },
                                {
                                    "title": "BED HIGHBALL",
                                    "length": "Long"
                                },
                                {
                                    "title": "BEDAZZLED MARRIED",
                                    "length": "Short"
                                },
                                {
                                    "title": "BEETHOVEN EXORCIST",
                                    "length": "Long"
                                },
                                {
                                    "title": "BEHAVIOR RUNAWAY",
                                    "length": "Long"
                                },
                                {
                                    "title": "BENEATH RUSH",
                                    "length": "Short"
                                },
                                {
                                    "title": "BERETS AGENT",
                                    "length": "Short"
                                },
                                {
                                    "title": "BETRAYED REAR",
                                    "length": "Long"
                                },
                                {
                                    "title": "BEVERLY OUTLAW",
                                    "length": "Short"
                                },
                                {
                                    "title": "BIKINI BORROWERS",
                                    "length": "Long"
                                },
                                {
                                    "title": "BILKO ANONYMOUS",
                                    "length": "Long"
                                },
                                {
                                    "title": "BILL OTHERS",
                                    "length": "Long"
                                },
                                {
                                    "title": "BINGO TALENTED",
                                    "length": "Long"
                                },
                                {
                                    "title": "BIRCH ANTITRUST",
                                    "length": "Long"
                                },
                                {
                                    "title": "BIRD INDEPENDENCE",
                                    "length": "Long"
                                },
                                {
                                    "title": "BIRDCAGE CASPER",
                                    "length": "Long"
                                },
                                {
                                    "title": "BIRDS PERDITION",
                                    "length": "Short"
                                },
                                {
                                    "title": "BLACKOUT PRIVATE",
                                    "length": "Short"
                                },
                                {
                                    "title": "BLADE POLISH",
                                    "length": "Long"
                                },
                                {
                                    "title": "BLANKET BEVERLY",
                                    "length": "Long"
                                },
                                {
                                    "title": "BLINDNESS GUN",
                                    "length": "Long"
                                },
                                {
                                    "title": "BLOOD ARGONAUTS",
                                    "length": "Short"
                                },
                                {
                                    "title": "BLUES INSTINCT",
                                    "length": "Short"
                                },
                                {
                                    "title": "BOILED DARES",
                                    "length": "Long"
                                },
                                {
                                    "title": "BONNIE HOLOCAUST",
                                    "length": "Short"
                                },
                                {
                                    "title": "BOOGIE AMELIE",
                                    "length": "Long"
                                },
                                {
                                    "title": "BOONDOCK BALLROOM",
                                    "length": "Short"
                                },
                                {
                                    "title": "BORN SPINAL",
                                    "length": "Long"
                                },
                                {
                                    "title": "BORROWERS BEDAZZLED",
                                    "length": "Short"
                                },
                                {
                                    "title": "BOULEVARD MOB",
                                    "length": "Short"
                                },
                                {
                                    "title": "BOUND CHEAPER",
                                    "length": "Long"
                                },
                                {
                                    "title": "BOWFINGER GABLES",
                                    "length": "Short"
                                },
                                {
                                    "title": "BRANNIGAN SUNRISE",
                                    "length": "Long"
                                },
                                {
                                    "title": "BRAVEHEART HUMAN",
                                    "length": "Long"
                                },
                                {
                                    "title": "BREAKFAST GOLDFINGER",
                                    "length": "Long"
                                },
                                {
                                    "title": "BREAKING HOME",
                                    "length": "Long"
                                },
                                {
                                    "title": "BRIDE INTRIGUE",
                                    "length": "Short"
                                },
                                {
                                    "title": "BRIGHT ENCOUNTERS",
                                    "length": "Short"
                                },
                                {
                                    "title": "BRINGING HYSTERICAL",
                                    "length": "Long"
                                },
                                {
                                    "title": "BROOKLYN DESERT",
                                    "length": "Long"
                                },
                                {
                                    "title": "BROTHERHOOD BLANKET",
                                    "length": "Short"
                                },
                                {
                                    "title": "BUBBLE GROSSE",
                                    "length": "Short"
                                },
                                {
                                    "title": "BUCKET BROTHERHOOD",
                                    "length": "Long"
                                },
                                {
                                    "title": "BUGSY SONG",
                                    "length": "Long"
                                },
                                {
                                    "title": "BULL SHAWSHANK",
                                    "length": "Long"
                                },
                                {
                                    "title": "BULWORTH COMMANDMENTS",
                                    "length": "Short"
                                },
                                {
                                    "title": "BUNCH MINDS",
                                    "length": "Short"
                                },
                                {
                                    "title": "BUTCH PANTHER",
                                    "length": "Short"
                                },
                                {
                                    "title": "BUTTERFLY CHOCOLAT",
                                    "length": "Short"
                                },
                                {
                                    "title": "CABIN FLASH",
                                    "length": "Short"
                                },
                                {
                                    "title": "CADDYSHACK JEDI",
                                    "length": "Short"
                                },
                                {
                                    "title": "CALENDAR GUNFIGHT",
                                    "length": "Long"
                                },
                                {
                                    "title": "CALIFORNIA BIRDS",
                                    "length": "Short"
                                },
                                {
                                    "title": "CAMELOT VACATION",
                                    "length": "Short"
                                },
                                {
                                    "title": "CAMPUS REMEMBER",
                                    "length": "Long"
                                },
                                {
                                    "title": "CANDIDATE PERDITION",
                                    "length": "Short"
                                },
                                {
                                    "title": "CANDLES GRAPES",
                                    "length": "Long"
                                },
                                {
                                    "title": "CANYON STOCK",
                                    "length": "Short"
                                },
                                {
                                    "title": "CAPER MOTIONS",
                                    "length": "Long"
                                },
                                {
                                    "title": "CARIBBEAN LIBERTY",
                                    "length": "Long"
                                },
                                {
                                    "title": "CAROL TEXAS",
                                    "length": "Long"
                                },
                                {
                                    "title": "CARRIE BUNCH",
                                    "length": "Long"
                                },
                                {
                                    "title": "CASABLANCA SUPER",
                                    "length": "Short"
                                },
                                {
                                    "title": "CASPER DRAGONFLY",
                                    "length": "Long"
                                },
                                {
                                    "title": "CASSIDY WYOMING",
                                    "length": "Short"
                                },
                                {
                                    "title": "CASUALTIES ENCINO",
                                    "length": "Long"
                                },
                                {
                                    "title": "CAT CONEHEADS",
                                    "length": "Long"
                                },
                                {
                                    "title": "CATCH AMISTAD",
                                    "length": "Long"
                                },
                                {
                                    "title": "CAUSE DATE",
                                    "length": "Long"
                                },
                                {
                                    "title": "CELEBRITY HORN",
                                    "length": "Long"
                                },
                                {
                                    "title": "CENTER DINOSAUR",
                                    "length": "Long"
                                },
                                {
                                    "title": "CHAINSAW UPTOWN",
                                    "length": "Long"
                                },
                                {
                                    "title": "CHAMBER ITALIAN",
                                    "length": "Long"
                                },
                                {
                                    "title": "CHAMPION FLATLINERS",
                                    "length": "Short"
                                },
                                {
                                    "title": "CHANCE RESURRECTION",
                                    "length": "Short"
                                },
                                {
                                    "title": "CHAPLIN LICENSE",
                                    "length": "Long"
                                },
                                {
                                    "title": "CHARADE DUFFEL",
                                    "length": "Short"
                                },
                                {
                                    "title": "CHARIOTS CONSPIRACY",
                                    "length": "Short"
                                },
                                {
                                    "title": "CHASING FIGHT",
                                    "length": "Long"
                                },
                                {
                                    "title": "CHEAPER CLYDE",
                                    "length": "Short"
                                },
                                {
                                    "title": "CHICAGO NORTH",
                                    "length": "Long"
                                },
                                {
                                    "title": "CHICKEN HELLFIGHTERS",
                                    "length": "Long"
                                },
                                {
                                    "title": "CHILL LUCK",
                                    "length": "Long"
                                },
                                {
                                    "title": "CHINATOWN GLADIATOR",
                                    "length": "Short"
                                },
                                {
                                    "title": "CHISUM BEHAVIOR",
                                    "length": "Long"
                                },
                                {
                                    "title": "CHITTY LOCK",
                                    "length": "Long"
                                },
                                {
                                    "title": "CHOCOLAT HARRY",
                                    "length": "Long"
                                },
                                {
                                    "title": "CHOCOLATE DUCK",
                                    "length": "Long"
                                },
                                {
                                    "title": "CHRISTMAS MOONSHINE",
                                    "length": "Long"
                                },
                                {
                                    "title": "CIDER DESIRE",
                                    "length": "Long"
                                },
                                {
                                    "title": "CINCINATTI WHISPERER",
                                    "length": "Long"
                                },
                                {
                                    "title": "CIRCUS YOUTH",
                                    "length": "Long"
                                },
                                {
                                    "title": "CITIZEN SHREK",
                                    "length": "Long"
                                },
                                {
                                    "title": "CLASH FREDDY",
                                    "length": "Short"
                                },
                                {
                                    "title": "CLEOPATRA DEVIL",
                                    "length": "Long"
                                },
                                {
                                    "title": "CLERKS ANGELS",
                                    "length": "Long"
                                },
                                {
                                    "title": "CLOCKWORK PARADISE",
                                    "length": "Long"
                                },
                                {
                                    "title": "CLONES PINOCCHIO",
                                    "length": "Long"
                                },
                                {
                                    "title": "CLOSER BANG",
                                    "length": "Short"
                                },
                                {
                                    "title": "CLUB GRAFFITI",
                                    "length": "Short"
                                },
                                {
                                    "title": "CLUE GRAIL",
                                    "length": "Short"
                                },
                                {
                                    "title": "CLUELESS BUCKET",
                                    "length": "Long"
                                },
                                {
                                    "title": "CLYDE THEORY",
                                    "length": "Long"
                                },
                                {
                                    "title": "COAST RAINBOW",
                                    "length": "Short"
                                },
                                {
                                    "title": "COLDBLOODED DARLING",
                                    "length": "Short"
                                },
                                {
                                    "title": "COLOR PHILADELPHIA",
                                    "length": "Long"
                                },
                                {
                                    "title": "COMA HEAD",
                                    "length": "Long"
                                },
                                {
                                    "title": "COMANCHEROS ENEMY",
                                    "length": "Short"
                                },
                                {
                                    "title": "COMFORTS RUSH",
                                    "length": "Short"
                                },
                                {
                                    "title": "COMMAND DARLING",
                                    "length": "Long"
                                },
                                {
                                    "title": "COMMANDMENTS EXPRESS",
                                    "length": "Short"
                                },
                                {
                                    "title": "CONEHEADS SMOOCHY",
                                    "length": "Long"
                                },
                                {
                                    "title": "CONFESSIONS MAGUIRE",
                                    "length": "Short"
                                },
                                {
                                    "title": "CONFIDENTIAL INTERVIEW",
                                    "length": "Long"
                                },
                                {
                                    "title": "CONFUSED CANDLES",
                                    "length": "Long"
                                },
                                {
                                    "title": "CONGENIALITY QUEST",
                                    "length": "Short"
                                },
                                {
                                    "title": "CONNECTICUT TRAMP",
                                    "length": "Long"
                                },
                                {
                                    "title": "CONNECTION MICROCOSMOS",
                                    "length": "Long"
                                },
                                {
                                    "title": "CONQUERER NUTS",
                                    "length": "Long"
                                },
                                {
                                    "title": "CONSPIRACY SPIRIT",
                                    "length": "Long"
                                },
                                {
                                    "title": "CONTACT ANONYMOUS",
                                    "length": "Long"
                                },
                                {
                                    "title": "CONTROL ANTHEM",
                                    "length": "Long"
                                },
                                {
                                    "title": "CONVERSATION DOWNHILL",
                                    "length": "Long"
                                },
                                {
                                    "title": "CORE SUIT",
                                    "length": "Long"
                                },
                                {
                                    "title": "COWBOY DOOM",
                                    "length": "Long"
                                },
                                {
                                    "title": "CRAFT OUTFIELD",
                                    "length": "Short"
                                },
                                {
                                    "title": "CRANES RESERVOIR",
                                    "length": "Short"
                                },
                                {
                                    "title": "CRAZY HOME",
                                    "length": "Long"
                                },
                                {
                                    "title": "CREATURES SHAKESPEARE",
                                    "length": "Long"
                                },
                                {
                                    "title": "CREEPERS KANE",
                                    "length": "Long"
                                },
                                {
                                    "title": "CROOKED FROGMEN",
                                    "length": "Long"
                                },
                                {
                                    "title": "CROSSING DIVORCE",
                                    "length": "Short"
                                },
                                {
                                    "title": "CROSSROADS CASUALTIES",
                                    "length": "Long"
                                },
                                {
                                    "title": "CROW GREASE",
                                    "length": "Long"
                                },
                                {
                                    "title": "CROWDS TELEMARK",
                                    "length": "Long"
                                },
                                {
                                    "title": "CRUELTY UNFORGIVEN",
                                    "length": "Short"
                                },
                                {
                                    "title": "CRUSADE HONEY",
                                    "length": "Long"
                                },
                                {
                                    "title": "CRYSTAL BREAKING",
                                    "length": "Long"
                                },
                                {
                                    "title": "CUPBOARD SINNERS",
                                    "length": "Short"
                                },
                                {
                                    "title": "CURTAIN VIDEOTAPE",
                                    "length": "Long"
                                },
                                {
                                    "title": "CYCLONE FAMILY",
                                    "length": "Long"
                                },
                                {
                                    "title": "DADDY PITTSBURGH",
                                    "length": "Long"
                                },
                                {
                                    "title": "DAISY MENAGERIE",
                                    "length": "Short"
                                },
                                {
                                    "title": "DALMATIONS SWEDEN",
                                    "length": "Long"
                                },
                                {
                                    "title": "DANCES NONE",
                                    "length": "Short"
                                },
                                {
                                    "title": "DANCING FEVER",
                                    "length": "Long"
                                },
                                {
                                    "title": "DANGEROUS UPTOWN",
                                    "length": "Long"
                                },
                                {
                                    "title": "DARES PLUTO",
                                    "length": "Short"
                                },
                                {
                                    "title": "DARKNESS WAR",
                                    "length": "Long"
                                },
                                {
                                    "title": "DARKO DORADO",
                                    "length": "Long"
                                },
                                {
                                    "title": "DARLING BREAKING",
                                    "length": "Long"
                                },
                                {
                                    "title": "DARN FORRESTER",
                                    "length": "Long"
                                },
                                {
                                    "title": "DATE SPEED",
                                    "length": "Long"
                                },
                                {
                                    "title": "DAUGHTER MADIGAN",
                                    "length": "Short"
                                },
                                {
                                    "title": "DAWN POND",
                                    "length": "Short"
                                },
                                {
                                    "title": "DAY UNFAITHFUL",
                                    "length": "Long"
                                },
                                {
                                    "title": "DAZED PUNK",
                                    "length": "Long"
                                },
                                {
                                    "title": "DECEIVER BETRAYED",
                                    "length": "Long"
                                },
                                {
                                    "title": "DEEP CRUSADE",
                                    "length": "Short"
                                },
                                {
                                    "title": "DEER VIRGINIAN",
                                    "length": "Long"
                                },
                                {
                                    "title": "DELIVERANCE MULHOLLAND",
                                    "length": "Long"
                                },
                                {
                                    "title": "DESERT POSEIDON",
                                    "length": "Short"
                                },
                                {
                                    "title": "DESIRE ALIEN",
                                    "length": "Short"
                                },
                                {
                                    "title": "DESPERATE TRAINSPOTTING",
                                    "length": "Short"
                                },
                                {
                                    "title": "DESTINATION JERK",
                                    "length": "Short"
                                },
                                {
                                    "title": "DESTINY SATURDAY",
                                    "length": "Short"
                                },
                                {
                                    "title": "DETAILS PACKER",
                                    "length": "Short"
                                },
                                {
                                    "title": "DETECTIVE VISION",
                                    "length": "Long"
                                },
                                {
                                    "title": "DEVIL DESIRE",
                                    "length": "Short"
                                },
                                {
                                    "title": "DIARY PANIC",
                                    "length": "Long"
                                },
                                {
                                    "title": "DINOSAUR SECRETARY",
                                    "length": "Short"
                                },
                                {
                                    "title": "DIRTY ACE",
                                    "length": "Long"
                                },
                                {
                                    "title": "DISCIPLE MOTHER",
                                    "length": "Long"
                                },
                                {
                                    "title": "DISTURBING SCARFACE",
                                    "length": "Long"
                                },
                                {
                                    "title": "DIVIDE MONSTER",
                                    "length": "Short"
                                },
                                {
                                    "title": "DIVINE RESURRECTION",
                                    "length": "Long"
                                },
                                {
                                    "title": "DIVORCE SHINING",
                                    "length": "Short"
                                },
                                {
                                    "title": "DOCTOR GRAIL",
                                    "length": "Short"
                                },
                                {
                                    "title": "DOGMA FAMILY",
                                    "length": "Long"
                                },
                                {
                                    "title": "DOLLS RAGE",
                                    "length": "Long"
                                },
                                {
                                    "title": "DONNIE ALLEY",
                                    "length": "Long"
                                },
                                {
                                    "title": "DOOM DANCING",
                                    "length": "Short"
                                },
                                {
                                    "title": "DOORS PRESIDENT",
                                    "length": "Short"
                                },
                                {
                                    "title": "DORADO NOTTING",
                                    "length": "Long"
                                },
                                {
                                    "title": "DOUBLE WRATH",
                                    "length": "Long"
                                },
                                {
                                    "title": "DOUBTFIRE LABYRINTH",
                                    "length": "Long"
                                },
                                {
                                    "title": "DOWNHILL ENOUGH",
                                    "length": "Short"
                                },
                                {
                                    "title": "DOZEN LION",
                                    "length": "Long"
                                },
                                {
                                    "title": "DRACULA CRYSTAL",
                                    "length": "Long"
                                },
                                {
                                    "title": "DRAGON SQUAD",
                                    "length": "Long"
                                },
                                {
                                    "title": "DRAGONFLY STRANGERS",
                                    "length": "Long"
                                },
                                {
                                    "title": "DREAM PICKUP",
                                    "length": "Long"
                                },
                                {
                                    "title": "DRIFTER COMMANDMENTS",
                                    "length": "Short"
                                },
                                {
                                    "title": "DRIVER ANNIE",
                                    "length": "Long"
                                },
                                {
                                    "title": "DRIVING POLISH",
                                    "length": "Long"
                                },
                                {
                                    "title": "DROP WATERFRONT",
                                    "length": "Long"
                                },
                                {
                                    "title": "DRUMLINE CYCLONE",
                                    "length": "Long"
                                },
                                {
                                    "title": "DRUMS DYNAMITE",
                                    "length": "Long"
                                },
                                {
                                    "title": "DUCK RACER",
                                    "length": "Long"
                                },
                                {
                                    "title": "DUDE BLINDNESS",
                                    "length": "Long"
                                },
                                {
                                    "title": "DUFFEL APOCALYPSE",
                                    "length": "Long"
                                },
                                {
                                    "title": "DUMBO LUST",
                                    "length": "Long"
                                },
                                {
                                    "title": "DURHAM PANKY",
                                    "length": "Long"
                                },
                                {
                                    "title": "DWARFS ALTER",
                                    "length": "Long"
                                },
                                {
                                    "title": "DYING MAKER",
                                    "length": "Long"
                                },
                                {
                                    "title": "DYNAMITE TARZAN",
                                    "length": "Long"
                                },
                                {
                                    "title": "EAGLES PANKY",
                                    "length": "Long"
                                },
                                {
                                    "title": "EARLY HOME",
                                    "length": "Long"
                                },
                                {
                                    "title": "EARRING INSTINCT",
                                    "length": "Long"
                                },
                                {
                                    "title": "EARTH VISION",
                                    "length": "Short"
                                },
                                {
                                    "title": "EASY GLADIATOR",
                                    "length": "Long"
                                },
                                {
                                    "title": "EDGE KISSING",
                                    "length": "Long"
                                },
                                {
                                    "title": "EFFECT GLADIATOR",
                                    "length": "Long"
                                },
                                {
                                    "title": "EGG IGBY",
                                    "length": "Short"
                                },
                                {
                                    "title": "EGYPT TENENBAUMS",
                                    "length": "Short"
                                },
                                {
                                    "title": "ELEMENT FREDDY",
                                    "length": "Long"
                                },
                                {
                                    "title": "ELEPHANT TROJAN",
                                    "length": "Long"
                                },
                                {
                                    "title": "ELF MURDER",
                                    "length": "Long"
                                },
                                {
                                    "title": "ELIZABETH SHANE",
                                    "length": "Long"
                                },
                                {
                                    "title": "EMPIRE MALKOVICH",
                                    "length": "Long"
                                },
                                {
                                    "title": "ENCINO ELF",
                                    "length": "Long"
                                },
                                {
                                    "title": "ENCOUNTERS CURTAIN",
                                    "length": "Long"
                                },
                                {
                                    "title": "ENDING CROWDS",
                                    "length": "Short"
                                },
                                {
                                    "title": "ENEMY ODDS",
                                    "length": "Short"
                                },
                                {
                                    "title": "ENGLISH BULWORTH",
                                    "length": "Short"
                                },
                                {
                                    "title": "ENOUGH RAGING",
                                    "length": "Long"
                                },
                                {
                                    "title": "ENTRAPMENT SATISFACTION",
                                    "length": "Long"
                                },
                                {
                                    "title": "ESCAPE METROPOLIS",
                                    "length": "Long"
                                },
                                {
                                    "title": "EVE RESURRECTION",
                                    "length": "Short"
                                },
                                {
                                    "title": "EVERYONE CRAFT",
                                    "length": "Long"
                                },
                                {
                                    "title": "EVOLUTION ALTER",
                                    "length": "Long"
                                },
                                {
                                    "title": "EXCITEMENT EVE",
                                    "length": "Short"
                                },
                                {
                                    "title": "EXORCIST STING",
                                    "length": "Long"
                                },
                                {
                                    "title": "EXPECATIONS NATURAL",
                                    "length": "Long"
                                },
                                {
                                    "title": "EXPENDABLE STALLION",
                                    "length": "Long"
                                },
                                {
                                    "title": "EXPRESS LONELY",
                                    "length": "Long"
                                },
                                {
                                    "title": "EXTRAORDINARY CONQUERER",
                                    "length": "Long"
                                },
                                {
                                    "title": "EYES DRIVING",
                                    "length": "Long"
                                },
                                {
                                    "title": "FACTORY DRAGON",
                                    "length": "Long"
                                },
                                {
                                    "title": "FALCON VOLUME",
                                    "length": "Long"
                                },
                                {
                                    "title": "FAMILY SWEET",
                                    "length": "Long"
                                },
                                {
                                    "title": "FANTASIA PARK",
                                    "length": "Long"
                                },
                                {
                                    "title": "FANTASY TROOPERS",
                                    "length": "Short"
                                },
                                {
                                    "title": "FARGO GANDHI",
                                    "length": "Long"
                                },
                                {
                                    "title": "FATAL HAUNTED",
                                    "length": "Long"
                                },
                                {
                                    "title": "FEATHERS METAL",
                                    "length": "Long"
                                },
                                {
                                    "title": "FELLOWSHIP AUTUMN",
                                    "length": "Short"
                                },
                                {
                                    "title": "FERRIS MOTHER",
                                    "length": "Long"
                                },
                                {
                                    "title": "FEUD FROGMEN",
                                    "length": "Long"
                                },
                                {
                                    "title": "FEVER EMPIRE",
                                    "length": "Long"
                                },
                                {
                                    "title": "FICTION CHRISTMAS",
                                    "length": "Short"
                                },
                                {
                                    "title": "FIDDLER LOST",
                                    "length": "Short"
                                },
                                {
                                    "title": "FIDELITY DEVIL",
                                    "length": "Long"
                                },
                                {
                                    "title": "FIGHT JAWBREAKER",
                                    "length": "Long"
                                },
                                {
                                    "title": "FINDING ANACONDA",
                                    "length": "Long"
                                },
                                {
                                    "title": "FIRE WOLVES",
                                    "length": "Long"
                                },
                                {
                                    "title": "FIREBALL PHILADELPHIA",
                                    "length": "Long"
                                },
                                {
                                    "title": "FIREHOUSE VIETNAM",
                                    "length": "Long"
                                },
                                {
                                    "title": "FISH OPUS",
                                    "length": "Long"
                                },
                                {
                                    "title": "FLAMINGOS CONNECTICUT",
                                    "length": "Short"
                                },
                                {
                                    "title": "FLASH WARS",
                                    "length": "Long"
                                },
                                {
                                    "title": "FLATLINERS KILLER",
                                    "length": "Long"
                                },
                                {
                                    "title": "FLIGHT LIES",
                                    "length": "Long"
                                },
                                {
                                    "title": "FLINTSTONES HAPPINESS",
                                    "length": "Long"
                                },
                                {
                                    "title": "FLOATS GARDEN",
                                    "length": "Long"
                                },
                                {
                                    "title": "FLYING HOOK",
                                    "length": "Short"
                                },
                                {
                                    "title": "FOOL MOCKINGBIRD",
                                    "length": "Long"
                                },
                                {
                                    "title": "FOREVER CANDIDATE",
                                    "length": "Long"
                                },
                                {
                                    "title": "FORREST SONS",
                                    "length": "Short"
                                },
                                {
                                    "title": "FORRESTER COMANCHEROS",
                                    "length": "Long"
                                },
                                {
                                    "title": "FORWARD TEMPLE",
                                    "length": "Long"
                                },
                                {
                                    "title": "FRANKENSTEIN STRANGER",
                                    "length": "Long"
                                },
                                {
                                    "title": "FREAKY POCUS",
                                    "length": "Long"
                                },
                                {
                                    "title": "FREDDY STORM",
                                    "length": "Short"
                                },
                                {
                                    "title": "FREEDOM CLEOPATRA",
                                    "length": "Long"
                                },
                                {
                                    "title": "FRENCH HOLIDAY",
                                    "length": "Long"
                                },
                                {
                                    "title": "FRIDA SLIPPER",
                                    "length": "Short"
                                },
                                {
                                    "title": "FRISCO FORREST",
                                    "length": "Short"
                                },
                                {
                                    "title": "FROGMEN BREAKING",
                                    "length": "Long"
                                },
                                {
                                    "title": "FRONTIER CABIN",
                                    "length": "Long"
                                },
                                {
                                    "title": "FROST HEAD",
                                    "length": "Short"
                                },
                                {
                                    "title": "FUGITIVE MAGUIRE",
                                    "length": "Short"
                                },
                                {
                                    "title": "FULL FLATLINERS",
                                    "length": "Long"
                                },
                                {
                                    "title": "FURY MURDER",
                                    "length": "Long"
                                },
                                {
                                    "title": "GABLES METROPOLIS",
                                    "length": "Long"
                                },
                                {
                                    "title": "GALAXY SWEETHEARTS",
                                    "length": "Long"
                                },
                                {
                                    "title": "GAMES BOWFINGER",
                                    "length": "Long"
                                },
                                {
                                    "title": "GANDHI KWAI",
                                    "length": "Short"
                                },
                                {
                                    "title": "GANGS PRIDE",
                                    "length": "Long"
                                },
                                {
                                    "title": "GARDEN ISLAND",
                                    "length": "Short"
                                },
                                {
                                    "title": "GASLIGHT CRUSADE",
                                    "length": "Long"
                                },
                                {
                                    "title": "GATHERING CALENDAR",
                                    "length": "Long"
                                },
                                {
                                    "title": "GENTLEMEN STAGE",
                                    "length": "Long"
                                },
                                {
                                    "title": "GHOST GROUNDHOG",
                                    "length": "Short"
                                },
                                {
                                    "title": "GHOSTBUSTERS ELF",
                                    "length": "Long"
                                },
                                {
                                    "title": "GIANT TROOPERS",
                                    "length": "Long"
                                },
                                {
                                    "title": "GILBERT PELICAN",
                                    "length": "Long"
                                },
                                {
                                    "title": "GILMORE BOILED",
                                    "length": "Long"
                                },
                                {
                                    "title": "GLADIATOR WESTWARD",
                                    "length": "Long"
                                },
                                {
                                    "title": "GLASS DYING",
                                    "length": "Long"
                                },
                                {
                                    "title": "GLEAMING JAWBREAKER",
                                    "length": "Short"
                                },
                                {
                                    "title": "GLORY TRACY",
                                    "length": "Long"
                                },
                                {
                                    "title": "GO PURPLE",
                                    "length": "Short"
                                },
                                {
                                    "title": "GODFATHER DIARY",
                                    "length": "Short"
                                },
                                {
                                    "title": "GOLD RIVER",
                                    "length": "Long"
                                },
                                {
                                    "title": "GOLDFINGER SENSIBILITY",
                                    "length": "Long"
                                },
                                {
                                    "title": "GOLDMINE TYCOON",
                                    "length": "Long"
                                },
                                {
                                    "title": "GONE TROUBLE",
                                    "length": "Short"
                                },
                                {
                                    "title": "GOODFELLAS SALUTE",
                                    "length": "Short"
                                },
                                {
                                    "title": "GORGEOUS BINGO",
                                    "length": "Long"
                                },
                                {
                                    "title": "GOSFORD DONNIE",
                                    "length": "Long"
                                },
                                {
                                    "title": "GRACELAND DYNAMITE",
                                    "length": "Long"
                                },
                                {
                                    "title": "GRADUATE LORD",
                                    "length": "Long"
                                },
                                {
                                    "title": "GRAFFITI LOVE",
                                    "length": "Long"
                                },
                                {
                                    "title": "GRAIL FRANKENSTEIN",
                                    "length": "Short"
                                },
                                {
                                    "title": "GRAPES FURY",
                                    "length": "Long"
                                },
                                {
                                    "title": "GREASE YOUTH",
                                    "length": "Long"
                                },
                                {
                                    "title": "GREATEST NORTH",
                                    "length": "Long"
                                },
                                {
                                    "title": "GREEDY ROOTS",
                                    "length": "Long"
                                },
                                {
                                    "title": "GREEK EVERYONE",
                                    "length": "Long"
                                },
                                {
                                    "title": "GRINCH MASSAGE",
                                    "length": "Long"
                                },
                                {
                                    "title": "GRIT CLOCKWORK",
                                    "length": "Long"
                                },
                                {
                                    "title": "GROOVE FICTION",
                                    "length": "Long"
                                },
                                {
                                    "title": "GROSSE WONDERFUL",
                                    "length": "Short"
                                },
                                {
                                    "title": "GROUNDHOG UNCUT",
                                    "length": "Long"
                                },
                                {
                                    "title": "GUMP DATE",
                                    "length": "Short"
                                },
                                {
                                    "title": "GUN BONNIE",
                                    "length": "Long"
                                },
                                {
                                    "title": "GUNFIGHT MOON",
                                    "length": "Short"
                                },
                                {
                                    "title": "GUNFIGHTER MUSSOLINI",
                                    "length": "Long"
                                },
                                {
                                    "title": "GUYS FALCON",
                                    "length": "Short"
                                },
                                {
                                    "title": "HALF OUTFIELD",
                                    "length": "Long"
                                },
                                {
                                    "title": "HALL CASSIDY",
                                    "length": "Short"
                                },
                                {
                                    "title": "HALLOWEEN NUTS",
                                    "length": "Short"
                                },
                                {
                                    "title": "HAMLET WISDOM",
                                    "length": "Long"
                                },
                                {
                                    "title": "HANDICAP BOONDOCK",
                                    "length": "Long"
                                },
                                {
                                    "title": "HANGING DEEP",
                                    "length": "Short"
                                },
                                {
                                    "title": "HANKY OCTOBER",
                                    "length": "Long"
                                },
                                {
                                    "title": "HANOVER GALAXY",
                                    "length": "Short"
                                },
                                {
                                    "title": "HAPPINESS UNITED",
                                    "length": "Long"
                                },
                                {
                                    "title": "HARDLY ROBBERS",
                                    "length": "Short"
                                },
                                {
                                    "title": "HAROLD FRENCH",
                                    "length": "Long"
                                },
                                {
                                    "title": "HARPER DYING",
                                    "length": "Short"
                                },
                                {
                                    "title": "HARRY IDAHO",
                                    "length": "Long"
                                },
                                {
                                    "title": "HATE HANDICAP",
                                    "length": "Long"
                                },
                                {
                                    "title": "HAUNTED ANTITRUST",
                                    "length": "Short"
                                },
                                {
                                    "title": "HAUNTING PIANIST",
                                    "length": "Long"
                                },
                                {
                                    "title": "HAWK CHILL",
                                    "length": "Short"
                                },
                                {
                                    "title": "HEAD STRANGER",
                                    "length": "Short"
                                },
                                {
                                    "title": "HEARTBREAKERS BRIGHT",
                                    "length": "Short"
                                },
                                {
                                    "title": "HEAVEN FREEDOM",
                                    "length": "Short"
                                },
                                {
                                    "title": "HEAVENLY GUN",
                                    "length": "Short"
                                },
                                {
                                    "title": "HEAVYWEIGHTS BEAST",
                                    "length": "Long"
                                },
                                {
                                    "title": "HEDWIG ALTER",
                                    "length": "Long"
                                },
                                {
                                    "title": "HELLFIGHTERS SIERRA",
                                    "length": "Short"
                                },
                                {
                                    "title": "HIGH ENCINO",
                                    "length": "Short"
                                },
                                {
                                    "title": "HIGHBALL POTTER",
                                    "length": "Long"
                                },
                                {
                                    "title": "HILLS NEIGHBORS",
                                    "length": "Long"
                                },
                                {
                                    "title": "HOBBIT ALIEN",
                                    "length": "Long"
                                },
                                {
                                    "title": "HOCUS FRIDA",
                                    "length": "Long"
                                },
                                {
                                    "title": "HOLES BRANNIGAN",
                                    "length": "Long"
                                },
                                {
                                    "title": "HOLIDAY GAMES",
                                    "length": "Short"
                                },
                                {
                                    "title": "HOLLOW JEOPARDY",
                                    "length": "Long"
                                },
                                {
                                    "title": "HOLLYWOOD ANONYMOUS",
                                    "length": "Short"
                                },
                                {
                                    "title": "HOLOCAUST HIGHBALL",
                                    "length": "Long"
                                },
                                {
                                    "title": "HOLY TADPOLE",
                                    "length": "Short"
                                },
                                {
                                    "title": "HOME PITY",
                                    "length": "Long"
                                },
                                {
                                    "title": "HOMEWARD CIDER",
                                    "length": "Long"
                                },
                                {
                                    "title": "HOMICIDE PEACH",
                                    "length": "Long"
                                },
                                {
                                    "title": "HONEY TIES",
                                    "length": "Short"
                                },
                                {
                                    "title": "HOOK CHARIOTS",
                                    "length": "Short"
                                },
                                {
                                    "title": "HOOSIERS BIRDCAGE",
                                    "length": "Long"
                                },
                                {
                                    "title": "HOPE TOOTSIE",
                                    "length": "Long"
                                },
                                {
                                    "title": "HORN WORKING",
                                    "length": "Long"
                                },
                                {
                                    "title": "HORROR REIGN",
                                    "length": "Long"
                                },
                                {
                                    "title": "HOTEL HAPPINESS",
                                    "length": "Long"
                                },
                                {
                                    "title": "HOURS RAGE",
                                    "length": "Long"
                                },
                                {
                                    "title": "HOUSE DYNAMITE",
                                    "length": "Long"
                                },
                                {
                                    "title": "HUMAN GRAFFITI",
                                    "length": "Short"
                                },
                                {
                                    "title": "HUNCHBACK IMPOSSIBLE",
                                    "length": "Long"
                                },
                                {
                                    "title": "HUNGER ROOF",
                                    "length": "Long"
                                },
                                {
                                    "title": "HUNTER ALTER",
                                    "length": "Long"
                                },
                                {
                                    "title": "HUNTING MUSKETEERS",
                                    "length": "Short"
                                },
                                {
                                    "title": "HURRICANE AFFAIR",
                                    "length": "Short"
                                },
                                {
                                    "title": "HUSTLER PARTY",
                                    "length": "Short"
                                },
                                {
                                    "title": "HYDE DOCTOR",
                                    "length": "Long"
                                },
                                {
                                    "title": "HYSTERICAL GRAIL",
                                    "length": "Long"
                                },
                                {
                                    "title": "ICE CROSSING",
                                    "length": "Long"
                                },
                                {
                                    "title": "IDAHO LOVE",
                                    "length": "Long"
                                },
                                {
                                    "title": "IDENTITY LOVER",
                                    "length": "Long"
                                },
                                {
                                    "title": "IDOLS SNATCHERS",
                                    "length": "Short"
                                },
                                {
                                    "title": "IGBY MAKER",
                                    "length": "Long"
                                },
                                {
                                    "title": "ILLUSION AMELIE",
                                    "length": "Long"
                                },
                                {
                                    "title": "IMAGE PRINCESS",
                                    "length": "Long"
                                },
                                {
                                    "title": "IMPACT ALADDIN",
                                    "length": "Long"
                                },
                                {
                                    "title": "IMPOSSIBLE PREJUDICE",
                                    "length": "Long"
                                },
                                {
                                    "title": "INCH JET",
                                    "length": "Long"
                                },
                                {
                                    "title": "INDEPENDENCE HOTEL",
                                    "length": "Long"
                                },
                                {
                                    "title": "INDIAN LOVE",
                                    "length": "Long"
                                },
                                {
                                    "title": "INFORMER DOUBLE",
                                    "length": "Short"
                                },
                                {
                                    "title": "INNOCENT USUAL",
                                    "length": "Long"
                                },
                                {
                                    "title": "INSECTS STONE",
                                    "length": "Long"
                                },
                                {
                                    "title": "INSIDER ARIZONA",
                                    "length": "Short"
                                },
                                {
                                    "title": "INSTINCT AIRPORT",
                                    "length": "Long"
                                },
                                {
                                    "title": "INTENTIONS EMPIRE",
                                    "length": "Long"
                                },
                                {
                                    "title": "INTERVIEW LIAISONS",
                                    "length": "Short"
                                },
                                {
                                    "title": "INTOLERABLE INTENTIONS",
                                    "length": "Short"
                                },
                                {
                                    "title": "INTRIGUE WORST",
                                    "length": "Long"
                                },
                                {
                                    "title": "INVASION CYCLONE",
                                    "length": "Long"
                                },
                                {
                                    "title": "IRON MOON",
                                    "length": "Short"
                                },
                                {
                                    "title": "ISHTAR ROCKETEER",
                                    "length": "Short"
                                },
                                {
                                    "title": "ISLAND EXORCIST",
                                    "length": "Short"
                                },
                                {
                                    "title": "ITALIAN AFRICAN",
                                    "length": "Long"
                                },
                                {
                                    "title": "JACKET FRISCO",
                                    "length": "Long"
                                },
                                {
                                    "title": "JADE BUNCH",
                                    "length": "Long"
                                },
                                {
                                    "title": "JAPANESE RUN",
                                    "length": "Long"
                                },
                                {
                                    "title": "JASON TRAP",
                                    "length": "Long"
                                },
                                {
                                    "title": "JAWBREAKER BROOKLYN",
                                    "length": "Long"
                                },
                                {
                                    "title": "JAWS HARRY",
                                    "length": "Long"
                                },
                                {
                                    "title": "JEDI BENEATH",
                                    "length": "Long"
                                },
                                {
                                    "title": "JEEPERS WEDDING",
                                    "length": "Short"
                                },
                                {
                                    "title": "JEKYLL FROGMEN",
                                    "length": "Short"
                                },
                                {
                                    "title": "JEOPARDY ENCINO",
                                    "length": "Long"
                                },
                                {
                                    "title": "JERICHO MULAN",
                                    "length": "Long"
                                },
                                {
                                    "title": "JERK PAYCHECK",
                                    "length": "Long"
                                },
                                {
                                    "title": "JERSEY SASSY",
                                    "length": "Short"
                                },
                                {
                                    "title": "JET NEIGHBORS",
                                    "length": "Short"
                                },
                                {
                                    "title": "JINGLE SAGEBRUSH",
                                    "length": "Long"
                                },
                                {
                                    "title": "JOON NORTHWEST",
                                    "length": "Long"
                                },
                                {
                                    "title": "JUGGLER HARDLY",
                                    "length": "Short"
                                },
                                {
                                    "title": "JUMANJI BLADE",
                                    "length": "Long"
                                },
                                {
                                    "title": "JUMPING WRATH",
                                    "length": "Short"
                                },
                                {
                                    "title": "JUNGLE CLOSER",
                                    "length": "Long"
                                },
                                {
                                    "title": "KANE EXORCIST",
                                    "length": "Long"
                                },
                                {
                                    "title": "KARATE MOON",
                                    "length": "Long"
                                },
                                {
                                    "title": "KENTUCKIAN GIANT",
                                    "length": "Long"
                                },
                                {
                                    "title": "KICK SAVANNAH",
                                    "length": "Long"
                                },
                                {
                                    "title": "KILL BROTHERHOOD",
                                    "length": "Short"
                                },
                                {
                                    "title": "KILLER INNOCENT",
                                    "length": "Long"
                                },
                                {
                                    "title": "KING EVOLUTION",
                                    "length": "Long"
                                },
                                {
                                    "title": "KISS GLORY",
                                    "length": "Long"
                                },
                                {
                                    "title": "KISSING DOLLS",
                                    "length": "Long"
                                },
                                {
                                    "title": "KNOCK WARLOCK",
                                    "length": "Short"
                                },
                                {
                                    "title": "KRAMER CHOCOLATE",
                                    "length": "Long"
                                },
                                {
                                    "title": "KWAI HOMEWARD",
                                    "length": "Short"
                                },
                                {
                                    "title": "LABYRINTH LEAGUE",
                                    "length": "Short"
                                },
                                {
                                    "title": "LADY STAGE",
                                    "length": "Short"
                                },
                                {
                                    "title": "LADYBUGS ARMAGEDDON",
                                    "length": "Long"
                                },
                                {
                                    "title": "LAMBS CINCINATTI",
                                    "length": "Long"
                                },
                                {
                                    "title": "LANGUAGE COWBOY",
                                    "length": "Short"
                                },
                                {
                                    "title": "LAWLESS VISION",
                                    "length": "Long"
                                },
                                {
                                    "title": "LAWRENCE LOVE",
                                    "length": "Long"
                                },
                                {
                                    "title": "LEAGUE HELLFIGHTERS",
                                    "length": "Long"
                                },
                                {
                                    "title": "LEATHERNECKS DWARFS",
                                    "length": "Long"
                                },
                                {
                                    "title": "LEBOWSKI SOLDIERS",
                                    "length": "Short"
                                },
                                {
                                    "title": "LEGALLY SECRETARY",
                                    "length": "Long"
                                },
                                {
                                    "title": "LEGEND JEDI",
                                    "length": "Short"
                                },
                                {
                                    "title": "LESSON CLEOPATRA",
                                    "length": "Long"
                                },
                                {
                                    "title": "LIAISONS SWEET",
                                    "length": "Long"
                                },
                                {
                                    "title": "LIBERTY MAGNIFICENT",
                                    "length": "Long"
                                },
                                {
                                    "title": "LICENSE WEEKEND",
                                    "length": "Long"
                                },
                                {
                                    "title": "LIES TREATMENT",
                                    "length": "Long"
                                },
                                {
                                    "title": "LIFE TWISTED",
                                    "length": "Long"
                                },
                                {
                                    "title": "LIGHTS DEER",
                                    "length": "Long"
                                },
                                {
                                    "title": "LION UNCUT",
                                    "length": "Short"
                                },
                                {
                                    "title": "LOATHING LEGALLY",
                                    "length": "Long"
                                },
                                {
                                    "title": "LOCK REAR",
                                    "length": "Long"
                                },
                                {
                                    "title": "LOLA AGENT",
                                    "length": "Short"
                                },
                                {
                                    "title": "LOLITA WORLD",
                                    "length": "Long"
                                },
                                {
                                    "title": "LONELY ELEPHANT",
                                    "length": "Short"
                                },
                                {
                                    "title": "LORD ARIZONA",
                                    "length": "Long"
                                },
                                {
                                    "title": "LOSE INCH",
                                    "length": "Long"
                                },
                                {
                                    "title": "LOSER HUSTLER",
                                    "length": "Short"
                                },
                                {
                                    "title": "LOST BIRD",
                                    "length": "Long"
                                },
                                {
                                    "title": "LOUISIANA HARRY",
                                    "length": "Short"
                                },
                                {
                                    "title": "LOVE SUICIDES",
                                    "length": "Long"
                                },
                                {
                                    "title": "LOVELY JINGLE",
                                    "length": "Short"
                                },
                                {
                                    "title": "LOVER TRUMAN",
                                    "length": "Short"
                                },
                                {
                                    "title": "LOVERBOY ATTACKS",
                                    "length": "Long"
                                },
                                {
                                    "title": "LUCK OPUS",
                                    "length": "Long"
                                },
                                {
                                    "title": "LUCKY FLYING",
                                    "length": "Long"
                                },
                                {
                                    "title": "LUKE MUMMY",
                                    "length": "Short"
                                },
                                {
                                    "title": "LUST LOCK",
                                    "length": "Short"
                                },
                                {
                                    "title": "MADIGAN DORADO",
                                    "length": "Long"
                                },
                                {
                                    "title": "MADISON TRAP",
                                    "length": "Long"
                                },
                                {
                                    "title": "MADNESS ATTACKS",
                                    "length": "Long"
                                },
                                {
                                    "title": "MADRE GABLES",
                                    "length": "Long"
                                },
                                {
                                    "title": "MAGIC MALLRATS",
                                    "length": "Long"
                                },
                                {
                                    "title": "MAGNIFICENT CHITTY",
                                    "length": "Short"
                                },
                                {
                                    "title": "MAGNOLIA FORRESTER",
                                    "length": "Long"
                                },
                                {
                                    "title": "MAGUIRE APACHE",
                                    "length": "Short"
                                },
                                {
                                    "title": "MAIDEN HOME",
                                    "length": "Long"
                                },
                                {
                                    "title": "MAJESTIC FLOATS",
                                    "length": "Long"
                                },
                                {
                                    "title": "MAKER GABLES",
                                    "length": "Long"
                                },
                                {
                                    "title": "MALKOVICH PET",
                                    "length": "Long"
                                },
                                {
                                    "title": "MALLRATS UNITED",
                                    "length": "Long"
                                },
                                {
                                    "title": "MALTESE HOPE",
                                    "length": "Long"
                                },
                                {
                                    "title": "MANCHURIAN CURTAIN",
                                    "length": "Long"
                                },
                                {
                                    "title": "MANNEQUIN WORST",
                                    "length": "Short"
                                },
                                {
                                    "title": "MARRIED GO",
                                    "length": "Long"
                                },
                                {
                                    "title": "MARS ROMAN",
                                    "length": "Short"
                                },
                                {
                                    "title": "MASK PEACH",
                                    "length": "Long"
                                },
                                {
                                    "title": "MASKED BUBBLE",
                                    "length": "Long"
                                },
                                {
                                    "title": "MASSACRE USUAL",
                                    "length": "Long"
                                },
                                {
                                    "title": "MASSAGE IMAGE",
                                    "length": "Long"
                                },
                                {
                                    "title": "MATRIX SNOWMAN",
                                    "length": "Short"
                                },
                                {
                                    "title": "MAUDE MOD",
                                    "length": "Short"
                                },
                                {
                                    "title": "MEET CHOCOLATE",
                                    "length": "Short"
                                },
                                {
                                    "title": "MEMENTO ZOOLANDER",
                                    "length": "Short"
                                },
                                {
                                    "title": "MENAGERIE RUSHMORE",
                                    "length": "Long"
                                },
                                {
                                    "title": "MERMAID INSECTS",
                                    "length": "Long"
                                },
                                {
                                    "title": "METAL ARMAGEDDON",
                                    "length": "Long"
                                },
                                {
                                    "title": "METROPOLIS COMA",
                                    "length": "Short"
                                },
                                {
                                    "title": "MICROCOSMOS PARADISE",
                                    "length": "Long"
                                },
                                {
                                    "title": "MIDNIGHT WESTWARD",
                                    "length": "Short"
                                },
                                {
                                    "title": "MIDSUMMER GROUNDHOG",
                                    "length": "Short"
                                },
                                {
                                    "title": "MIGHTY LUCK",
                                    "length": "Long"
                                },
                                {
                                    "title": "MILE MULAN",
                                    "length": "Short"
                                },
                                {
                                    "title": "MILLION ACE",
                                    "length": "Long"
                                },
                                {
                                    "title": "MINDS TRUMAN",
                                    "length": "Long"
                                },
                                {
                                    "title": "MINE TITANS",
                                    "length": "Long"
                                },
                                {
                                    "title": "MINORITY KISS",
                                    "length": "Short"
                                },
                                {
                                    "title": "MIRACLE VIRTUAL",
                                    "length": "Long"
                                },
                                {
                                    "title": "MISSION ZOOLANDER",
                                    "length": "Long"
                                },
                                {
                                    "title": "MIXED DOORS",
                                    "length": "Long"
                                },
                                {
                                    "title": "MOB DUFFEL",
                                    "length": "Long"
                                },
                                {
                                    "title": "MOCKINGBIRD HOLLYWOOD",
                                    "length": "Short"
                                },
                                {
                                    "title": "MOD SECRETARY",
                                    "length": "Short"
                                },
                                {
                                    "title": "MODEL FISH",
                                    "length": "Long"
                                },
                                {
                                    "title": "MODERN DORADO",
                                    "length": "Short"
                                },
                                {
                                    "title": "MONEY HAROLD",
                                    "length": "Long"
                                },
                                {
                                    "title": "MONSOON CAUSE",
                                    "length": "Long"
                                },
                                {
                                    "title": "MONSTER SPARTACUS",
                                    "length": "Long"
                                },
                                {
                                    "title": "MONTEREY LABYRINTH",
                                    "length": "Long"
                                },
                                {
                                    "title": "MONTEZUMA COMMAND",
                                    "length": "Long"
                                },
                                {
                                    "title": "MOON BUNCH",
                                    "length": "Short"
                                },
                                {
                                    "title": "MOONSHINE CABIN",
                                    "length": "Long"
                                },
                                {
                                    "title": "MOONWALKER FOOL",
                                    "length": "Long"
                                },
                                {
                                    "title": "MOSQUITO ARMAGEDDON",
                                    "length": "Short"
                                },
                                {
                                    "title": "MOTHER OLEANDER",
                                    "length": "Long"
                                },
                                {
                                    "title": "MOTIONS DETAILS",
                                    "length": "Long"
                                },
                                {
                                    "title": "MOULIN WAKE",
                                    "length": "Short"
                                },
                                {
                                    "title": "MOURNING PURPLE",
                                    "length": "Long"
                                },
                                {
                                    "title": "MOVIE SHAKESPEARE",
                                    "length": "Short"
                                },
                                {
                                    "title": "MULAN MOON",
                                    "length": "Long"
                                },
                                {
                                    "title": "MULHOLLAND BEAST",
                                    "length": "Long"
                                },
                                {
                                    "title": "MUMMY CREATURES",
                                    "length": "Long"
                                },
                                {
                                    "title": "MUPPET MILE",
                                    "length": "Short"
                                },
                                {
                                    "title": "MURDER ANTITRUST",
                                    "length": "Long"
                                },
                                {
                                    "title": "MUSCLE BRIGHT",
                                    "length": "Long"
                                },
                                {
                                    "title": "MUSIC BOONDOCK",
                                    "length": "Long"
                                },
                                {
                                    "title": "MUSKETEERS WAIT",
                                    "length": "Short"
                                },
                                {
                                    "title": "MUSSOLINI SPOILERS",
                                    "length": "Long"
                                },
                                {
                                    "title": "MYSTIC TRUMAN",
                                    "length": "Long"
                                },
                                {
                                    "title": "NAME DETECTIVE",
                                    "length": "Long"
                                },
                                {
                                    "title": "NASH CHOCOLAT",
                                    "length": "Long"
                                },
                                {
                                    "title": "NATIONAL STORY",
                                    "length": "Long"
                                },
                                {
                                    "title": "NATURAL STOCK",
                                    "length": "Short"
                                },
                                {
                                    "title": "NECKLACE OUTBREAK",
                                    "length": "Long"
                                },
                                {
                                    "title": "NEIGHBORS CHARADE",
                                    "length": "Long"
                                },
                                {
                                    "title": "NEMO CAMPUS",
                                    "length": "Long"
                                },
                                {
                                    "title": "NETWORK PEAK",
                                    "length": "Short"
                                },
                                {
                                    "title": "NEWSIES STORY",
                                    "length": "Long"
                                },
                                {
                                    "title": "NEWTON LABYRINTH",
                                    "length": "Short"
                                },
                                {
                                    "title": "NIGHTMARE CHILL",
                                    "length": "Long"
                                },
                                {
                                    "title": "NONE SPIKING",
                                    "length": "Short"
                                },
                                {
                                    "title": "NOON PAPI",
                                    "length": "Short"
                                },
                                {
                                    "title": "NORTH TEQUILA",
                                    "length": "Short"
                                },
                                {
                                    "title": "NORTHWEST POLISH",
                                    "length": "Long"
                                },
                                {
                                    "title": "NOTORIOUS REUNION",
                                    "length": "Long"
                                },
                                {
                                    "title": "NOTTING SPEAKEASY",
                                    "length": "Short"
                                },
                                {
                                    "title": "NOVOCAINE FLIGHT",
                                    "length": "Short"
                                },
                                {
                                    "title": "NUTS TIES",
                                    "length": "Long"
                                },
                                {
                                    "title": "OCTOBER SUBMARINE",
                                    "length": "Short"
                                },
                                {
                                    "title": "ODDS BOOGIE",
                                    "length": "Short"
                                },
                                {
                                    "title": "OKLAHOMA JUMANJI",
                                    "length": "Short"
                                },
                                {
                                    "title": "OLEANDER CLUE",
                                    "length": "Long"
                                },
                                {
                                    "title": "OPEN AFRICAN",
                                    "length": "Long"
                                },
                                {
                                    "title": "OPERATION OPERATION",
                                    "length": "Long"
                                },
                                {
                                    "title": "OPPOSITE NECKLACE",
                                    "length": "Long"
                                },
                                {
                                    "title": "OPUS ICE",
                                    "length": "Long"
                                },
                                {
                                    "title": "ORANGE GRAPES",
                                    "length": "Short"
                                },
                                {
                                    "title": "ORDER BETRAYED",
                                    "length": "Long"
                                },
                                {
                                    "title": "ORIENT CLOSER",
                                    "length": "Long"
                                },
                                {
                                    "title": "OSCAR GOLD",
                                    "length": "Long"
                                },
                                {
                                    "title": "OTHERS SOUP",
                                    "length": "Long"
                                },
                                {
                                    "title": "OUTBREAK DIVINE",
                                    "length": "Long"
                                },
                                {
                                    "title": "OUTFIELD MASSACRE",
                                    "length": "Long"
                                },
                                {
                                    "title": "OUTLAW HANKY",
                                    "length": "Long"
                                },
                                {
                                    "title": "OZ LIAISONS",
                                    "length": "Short"
                                },
                                {
                                    "title": "PACIFIC AMISTAD",
                                    "length": "Long"
                                },
                                {
                                    "title": "PACKER MADIGAN",
                                    "length": "Short"
                                },
                                {
                                    "title": "PAJAMA JAWBREAKER",
                                    "length": "Long"
                                },
                                {
                                    "title": "PANIC CLUB",
                                    "length": "Long"
                                },
                                {
                                    "title": "PANKY SUBMARINE",
                                    "length": "Long"
                                },
                                {
                                    "title": "PANTHER REDS",
                                    "length": "Long"
                                },
                                {
                                    "title": "PAPI NECKLACE",
                                    "length": "Long"
                                },
                                {
                                    "title": "PARADISE SABRINA",
                                    "length": "Short"
                                },
                                {
                                    "title": "PARIS WEEKEND",
                                    "length": "Long"
                                },
                                {
                                    "title": "PARK CITIZEN",
                                    "length": "Long"
                                },
                                {
                                    "title": "PARTY KNOCK",
                                    "length": "Long"
                                },
                                {
                                    "title": "PAST SUICIDES",
                                    "length": "Long"
                                },
                                {
                                    "title": "PATHS CONTROL",
                                    "length": "Long"
                                },
                                {
                                    "title": "PATIENT SISTER",
                                    "length": "Long"
                                },
                                {
                                    "title": "PATRIOT ROMAN",
                                    "length": "Short"
                                },
                                {
                                    "title": "PATTON INTERVIEW",
                                    "length": "Long"
                                },
                                {
                                    "title": "PAYCHECK WAIT",
                                    "length": "Long"
                                },
                                {
                                    "title": "PEACH INNOCENT",
                                    "length": "Long"
                                },
                                {
                                    "title": "PEAK FOREVER",
                                    "length": "Short"
                                },
                                {
                                    "title": "PEARL DESTINY",
                                    "length": "Short"
                                },
                                {
                                    "title": "PELICAN COMFORTS",
                                    "length": "Short"
                                },
                                {
                                    "title": "PERDITION FARGO",
                                    "length": "Long"
                                },
                                {
                                    "title": "PERFECT GROOVE",
                                    "length": "Short"
                                },
                                {
                                    "title": "PERSONAL LADYBUGS",
                                    "length": "Long"
                                },
                                {
                                    "title": "PET HAUNTING",
                                    "length": "Long"
                                },
                                {
                                    "title": "PHANTOM GLORY",
                                    "length": "Short"
                                },
                                {
                                    "title": "PHILADELPHIA WIFE",
                                    "length": "Long"
                                },
                                {
                                    "title": "PIANIST OUTFIELD",
                                    "length": "Long"
                                },
                                {
                                    "title": "PICKUP DRIVING",
                                    "length": "Short"
                                },
                                {
                                    "title": "PILOT HOOSIERS",
                                    "length": "Short"
                                },
                                {
                                    "title": "PINOCCHIO SIMON",
                                    "length": "Long"
                                },
                                {
                                    "title": "PIRATES ROXANNE",
                                    "length": "Long"
                                },
                                {
                                    "title": "PITTSBURGH HUNCHBACK",
                                    "length": "Long"
                                },
                                {
                                    "title": "PITY BOUND",
                                    "length": "Short"
                                },
                                {
                                    "title": "PIZZA JUMANJI",
                                    "length": "Long"
                                },
                                {
                                    "title": "PLATOON INSTINCT",
                                    "length": "Long"
                                },
                                {
                                    "title": "PLUTO OLEANDER",
                                    "length": "Short"
                                },
                                {
                                    "title": "POCUS PULP",
                                    "length": "Long"
                                },
                                {
                                    "title": "POLISH BROOKLYN",
                                    "length": "Short"
                                },
                                {
                                    "title": "POLLOCK DELIVERANCE",
                                    "length": "Long"
                                },
                                {
                                    "title": "POND SEATTLE",
                                    "length": "Long"
                                },
                                {
                                    "title": "POSEIDON FOREVER",
                                    "length": "Long"
                                },
                                {
                                    "title": "POTLUCK MIXED",
                                    "length": "Long"
                                },
                                {
                                    "title": "POTTER CONNECTICUT",
                                    "length": "Long"
                                },
                                {
                                    "title": "PREJUDICE OLEANDER",
                                    "length": "Long"
                                },
                                {
                                    "title": "PRESIDENT BANG",
                                    "length": "Long"
                                },
                                {
                                    "title": "PRIDE ALAMO",
                                    "length": "Long"
                                },
                                {
                                    "title": "PRIMARY GLASS",
                                    "length": "Short"
                                },
                                {
                                    "title": "PRINCESS GIANT",
                                    "length": "Short"
                                },
                                {
                                    "title": "PRIVATE DROP",
                                    "length": "Long"
                                },
                                {
                                    "title": "PRIX UNDEFEATED",
                                    "length": "Long"
                                },
                                {
                                    "title": "PSYCHO SHRUNK",
                                    "length": "Long"
                                },
                                {
                                    "title": "PULP BEVERLY",
                                    "length": "Short"
                                },
                                {
                                    "title": "PUNK DIVORCE",
                                    "length": "Long"
                                },
                                {
                                    "title": "PURE RUNNER",
                                    "length": "Long"
                                },
                                {
                                    "title": "PURPLE MOVIE",
                                    "length": "Short"
                                },
                                {
                                    "title": "QUEEN LUKE",
                                    "length": "Long"
                                },
                                {
                                    "title": "QUEST MUSSOLINI",
                                    "length": "Long"
                                },
                                {
                                    "title": "QUILLS BULL",
                                    "length": "Long"
                                },
                                {
                                    "title": "RACER EGG",
                                    "length": "Long"
                                },
                                {
                                    "title": "RAGE GAMES",
                                    "length": "Long"
                                },
                                {
                                    "title": "RAGING AIRPLANE",
                                    "length": "Long"
                                },
                                {
                                    "title": "RAIDERS ANTITRUST",
                                    "length": "Short"
                                },
                                {
                                    "title": "RAINBOW SHOCK",
                                    "length": "Short"
                                },
                                {
                                    "title": "RANDOM GO",
                                    "length": "Short"
                                },
                                {
                                    "title": "RANGE MOONWALKER",
                                    "length": "Long"
                                },
                                {
                                    "title": "REAP UNFAITHFUL",
                                    "length": "Long"
                                },
                                {
                                    "title": "REAR TRADING",
                                    "length": "Long"
                                },
                                {
                                    "title": "REBEL AIRPORT",
                                    "length": "Short"
                                },
                                {
                                    "title": "RECORDS ZORRO",
                                    "length": "Long"
                                },
                                {
                                    "title": "REDEMPTION COMFORTS",
                                    "length": "Long"
                                },
                                {
                                    "title": "REDS POCUS",
                                    "length": "Long"
                                },
                                {
                                    "title": "REEF SALUTE",
                                    "length": "Long"
                                },
                                {
                                    "title": "REIGN GENTLEMEN",
                                    "length": "Short"
                                },
                                {
                                    "title": "REMEMBER DIARY",
                                    "length": "Long"
                                },
                                {
                                    "title": "REQUIEM TYCOON",
                                    "length": "Long"
                                },
                                {
                                    "title": "RESERVOIR ADAPTATION",
                                    "length": "Short"
                                },
                                {
                                    "title": "RESURRECTION SILVERADO",
                                    "length": "Long"
                                },
                                {
                                    "title": "REUNION WITCHES",
                                    "length": "Short"
                                },
                                {
                                    "title": "RIDER CADDYSHACK",
                                    "length": "Long"
                                },
                                {
                                    "title": "RIDGEMONT SUBMARINE",
                                    "length": "Short"
                                },
                                {
                                    "title": "RIGHT CRANES",
                                    "length": "Long"
                                },
                                {
                                    "title": "RINGS HEARTBREAKERS",
                                    "length": "Short"
                                },
                                {
                                    "title": "RIVER OUTLAW",
                                    "length": "Long"
                                },
                                {
                                    "title": "ROAD ROXANNE",
                                    "length": "Long"
                                },
                                {
                                    "title": "ROBBERS JOON",
                                    "length": "Long"
                                },
                                {
                                    "title": "ROBBERY BRIGHT",
                                    "length": "Long"
                                },
                                {
                                    "title": "ROCK INSTINCT",
                                    "length": "Long"
                                },
                                {
                                    "title": "ROCKETEER MOTHER",
                                    "length": "Long"
                                },
                                {
                                    "title": "ROCKY WAR",
                                    "length": "Long"
                                },
                                {
                                    "title": "ROLLERCOASTER BRINGING",
                                    "length": "Long"
                                },
                                {
                                    "title": "ROMAN PUNK",
                                    "length": "Short"
                                },
                                {
                                    "title": "ROOF CHAMPION",
                                    "length": "Long"
                                },
                                {
                                    "title": "ROOM ROMAN",
                                    "length": "Short"
                                },
                                {
                                    "title": "ROOTS REMEMBER",
                                    "length": "Short"
                                },
                                {
                                    "title": "ROSES TREASURE",
                                    "length": "Long"
                                },
                                {
                                    "title": "ROUGE SQUAD",
                                    "length": "Long"
                                },
                                {
                                    "title": "ROXANNE REBEL",
                                    "length": "Long"
                                },
                                {
                                    "title": "RUGRATS SHAKESPEARE",
                                    "length": "Long"
                                },
                                {
                                    "title": "RULES HUMAN",
                                    "length": "Long"
                                },
                                {
                                    "title": "RUN PACIFIC",
                                    "length": "Long"
                                },
                                {
                                    "title": "RUNAWAY TENENBAUMS",
                                    "length": "Long"
                                },
                                {
                                    "title": "RUNNER MADIGAN",
                                    "length": "Long"
                                },
                                {
                                    "title": "RUSH GOODFELLAS",
                                    "length": "Short"
                                },
                                {
                                    "title": "RUSHMORE MERMAID",
                                    "length": "Long"
                                },
                                {
                                    "title": "SABRINA MIDNIGHT",
                                    "length": "Long"
                                },
                                {
                                    "title": "SADDLE ANTITRUST",
                                    "length": "Short"
                                },
                                {
                                    "title": "SAGEBRUSH CLUELESS",
                                    "length": "Long"
                                },
                                {
                                    "title": "SAINTS BRIDE",
                                    "length": "Long"
                                },
                                {
                                    "title": "SALUTE APOLLO",
                                    "length": "Short"
                                },
                                {
                                    "title": "SAMURAI LION",
                                    "length": "Long"
                                },
                                {
                                    "title": "SANTA PARIS",
                                    "length": "Long"
                                },
                                {
                                    "title": "SASSY PACKER",
                                    "length": "Long"
                                },
                                {
                                    "title": "SATISFACTION CONFIDENTIAL",
                                    "length": "Short"
                                },
                                {
                                    "title": "SATURDAY LAMBS",
                                    "length": "Long"
                                },
                                {
                                    "title": "SATURN NAME",
                                    "length": "Long"
                                },
                                {
                                    "title": "SAVANNAH TOWN",
                                    "length": "Short"
                                },
                                {
                                    "title": "SCALAWAG DUCK",
                                    "length": "Long"
                                },
                                {
                                    "title": "SCARFACE BANG",
                                    "length": "Long"
                                },
                                {
                                    "title": "SCHOOL JACKET",
                                    "length": "Long"
                                },
                                {
                                    "title": "SCISSORHANDS SLUMS",
                                    "length": "Long"
                                },
                                {
                                    "title": "SCORPION APOLLO",
                                    "length": "Long"
                                },
                                {
                                    "title": "SEA VIRGIN",
                                    "length": "Short"
                                },
                                {
                                    "title": "SEABISCUIT PUNK",
                                    "length": "Long"
                                },
                                {
                                    "title": "SEARCHERS WAIT",
                                    "length": "Long"
                                },
                                {
                                    "title": "SEATTLE EXPECATIONS",
                                    "length": "Long"
                                },
                                {
                                    "title": "SECRET GROUNDHOG",
                                    "length": "Long"
                                },
                                {
                                    "title": "SECRETARY ROUGE",
                                    "length": "Long"
                                },
                                {
                                    "title": "SECRETS PARADISE",
                                    "length": "Long"
                                },
                                {
                                    "title": "SENSE GREEK",
                                    "length": "Short"
                                },
                                {
                                    "title": "SENSIBILITY REAR",
                                    "length": "Long"
                                },
                                {
                                    "title": "SEVEN SWARM",
                                    "length": "Long"
                                },
                                {
                                    "title": "SHAKESPEARE SADDLE",
                                    "length": "Short"
                                },
                                {
                                    "title": "SHANE DARKNESS",
                                    "length": "Long"
                                },
                                {
                                    "title": "SHANGHAI TYCOON",
                                    "length": "Short"
                                },
                                {
                                    "title": "SHAWSHANK BUBBLE",
                                    "length": "Short"
                                },
                                {
                                    "title": "SHEPHERD MIDSUMMER",
                                    "length": "Long"
                                },
                                {
                                    "title": "SHINING ROSES",
                                    "length": "Long"
                                },
                                {
                                    "title": "SHIP WONDERLAND",
                                    "length": "Long"
                                },
                                {
                                    "title": "SHOCK CABIN",
                                    "length": "Short"
                                },
                                {
                                    "title": "SHOOTIST SUPERFLY",
                                    "length": "Short"
                                },
                                {
                                    "title": "SHOW LORD",
                                    "length": "Long"
                                },
                                {
                                    "title": "SHREK LICENSE",
                                    "length": "Long"
                                },
                                {
                                    "title": "SHRUNK DIVINE",
                                    "length": "Long"
                                },
                                {
                                    "title": "SIDE ARK",
                                    "length": "Short"
                                },
                                {
                                    "title": "SIEGE MADRE",
                                    "length": "Long"
                                },
                                {
                                    "title": "SIERRA DIVIDE",
                                    "length": "Long"
                                },
                                {
                                    "title": "SILENCE KANE",
                                    "length": "Short"
                                },
                                {
                                    "title": "SILVERADO GOLDFINGER",
                                    "length": "Short"
                                },
                                {
                                    "title": "SIMON NORTH",
                                    "length": "Short"
                                },
                                {
                                    "title": "SINNERS ATLANTIS",
                                    "length": "Long"
                                },
                                {
                                    "title": "SISTER FREDDY",
                                    "length": "Long"
                                },
                                {
                                    "title": "SKY MIRACLE",
                                    "length": "Long"
                                },
                                {
                                    "title": "SLACKER LIAISONS",
                                    "length": "Long"
                                },
                                {
                                    "title": "SLEEPING SUSPECTS",
                                    "length": "Long"
                                },
                                {
                                    "title": "SLEEPLESS MONSOON",
                                    "length": "Short"
                                },
                                {
                                    "title": "SLEEPY JAPANESE",
                                    "length": "Long"
                                },
                                {
                                    "title": "SLEUTH ORIENT",
                                    "length": "Short"
                                },
                                {
                                    "title": "SLING LUKE",
                                    "length": "Short"
                                },
                                {
                                    "title": "SLIPPER FIDELITY",
                                    "length": "Long"
                                },
                                {
                                    "title": "SLUMS DUCK",
                                    "length": "Long"
                                },
                                {
                                    "title": "SMILE EARRING",
                                    "length": "Short"
                                },
                                {
                                    "title": "SMOKING BARBARELLA",
                                    "length": "Short"
                                },
                                {
                                    "title": "SMOOCHY CONTROL",
                                    "length": "Long"
                                },
                                {
                                    "title": "SNATCH SLIPPER",
                                    "length": "Long"
                                },
                                {
                                    "title": "SNATCHERS MONTEZUMA",
                                    "length": "Short"
                                },
                                {
                                    "title": "SNOWMAN ROLLERCOASTER",
                                    "length": "Short"
                                },
                                {
                                    "title": "SOLDIERS EVOLUTION",
                                    "length": "Long"
                                },
                                {
                                    "title": "SOMETHING DUCK",
                                    "length": "Long"
                                },
                                {
                                    "title": "SONG HEDWIG",
                                    "length": "Long"
                                },
                                {
                                    "title": "SONS INTERVIEW",
                                    "length": "Long"
                                },
                                {
                                    "title": "SORORITY QUEEN",
                                    "length": "Long"
                                },
                                {
                                    "title": "SOUP WISDOM",
                                    "length": "Long"
                                },
                                {
                                    "title": "SOUTH WAIT",
                                    "length": "Long"
                                },
                                {
                                    "title": "SPARTACUS CHEAPER",
                                    "length": "Short"
                                },
                                {
                                    "title": "SPEAKEASY DATE",
                                    "length": "Long"
                                },
                                {
                                    "title": "SPEED SUIT",
                                    "length": "Long"
                                },
                                {
                                    "title": "SPICE SORORITY",
                                    "length": "Long"
                                },
                                {
                                    "title": "SPIKING ELEMENT",
                                    "length": "Short"
                                },
                                {
                                    "title": "SPINAL ROCKY",
                                    "length": "Long"
                                },
                                {
                                    "title": "SPIRIT FLINTSTONES",
                                    "length": "Long"
                                },
                                {
                                    "title": "SPIRITED CASUALTIES",
                                    "length": "Long"
                                },
                                {
                                    "title": "SPLASH GUMP",
                                    "length": "Long"
                                },
                                {
                                    "title": "SPLENDOR PATTON",
                                    "length": "Long"
                                },
                                {
                                    "title": "SPOILERS HELLFIGHTERS",
                                    "length": "Long"
                                },
                                {
                                    "title": "SPY MILE",
                                    "length": "Long"
                                },
                                {
                                    "title": "SQUAD FISH",
                                    "length": "Long"
                                },
                                {
                                    "title": "STAGE WORLD",
                                    "length": "Short"
                                },
                                {
                                    "title": "STAGECOACH ARMAGEDDON",
                                    "length": "Long"
                                },
                                {
                                    "title": "STALLION SUNDANCE",
                                    "length": "Long"
                                },
                                {
                                    "title": "STAMPEDE DISTURBING",
                                    "length": "Short"
                                },
                                {
                                    "title": "STAR OPERATION",
                                    "length": "Long"
                                },
                                {
                                    "title": "STATE WASTELAND",
                                    "length": "Long"
                                },
                                {
                                    "title": "STEEL SANTA",
                                    "length": "Long"
                                },
                                {
                                    "title": "STEERS ARMAGEDDON",
                                    "length": "Long"
                                },
                                {
                                    "title": "STEPMOM DREAM",
                                    "length": "Short"
                                },
                                {
                                    "title": "STING PERSONAL",
                                    "length": "Long"
                                },
                                {
                                    "title": "STOCK GLASS",
                                    "length": "Long"
                                },
                                {
                                    "title": "STONE FIRE",
                                    "length": "Long"
                                },
                                {
                                    "title": "STORM HAPPINESS",
                                    "length": "Short"
                                },
                                {
                                    "title": "STORY SIDE",
                                    "length": "Long"
                                },
                                {
                                    "title": "STRAIGHT HOURS",
                                    "length": "Long"
                                },
                                {
                                    "title": "STRANGELOVE DESIRE",
                                    "length": "Long"
                                },
                                {
                                    "title": "STRANGER STRANGERS",
                                    "length": "Long"
                                },
                                {
                                    "title": "STRANGERS GRAFFITI",
                                    "length": "Long"
                                },
                                {
                                    "title": "STREAK RIDGEMONT",
                                    "length": "Long"
                                },
                                {
                                    "title": "STREETCAR INTENTIONS",
                                    "length": "Short"
                                },
                                {
                                    "title": "STRICTLY SCARFACE",
                                    "length": "Long"
                                },
                                {
                                    "title": "SUBMARINE BED",
                                    "length": "Long"
                                },
                                {
                                    "title": "SUGAR WONKA",
                                    "length": "Long"
                                },
                                {
                                    "title": "SUICIDES SILENCE",
                                    "length": "Long"
                                },
                                {
                                    "title": "SUIT WALLS",
                                    "length": "Long"
                                },
                                {
                                    "title": "SUMMER SCARFACE",
                                    "length": "Short"
                                },
                                {
                                    "title": "SUN CONFESSIONS",
                                    "length": "Long"
                                },
                                {
                                    "title": "SUNDANCE INVASION",
                                    "length": "Long"
                                },
                                {
                                    "title": "SUNRISE LEAGUE",
                                    "length": "Long"
                                },
                                {
                                    "title": "SUNSET RACER",
                                    "length": "Short"
                                },
                                {
                                    "title": "SUPER WYOMING",
                                    "length": "Short"
                                },
                                {
                                    "title": "SUPERFLY TRIP",
                                    "length": "Long"
                                },
                                {
                                    "title": "SUSPECTS QUILLS",
                                    "length": "Short"
                                },
                                {
                                    "title": "SWARM GOLD",
                                    "length": "Long"
                                },
                                {
                                    "title": "SWEDEN SHINING",
                                    "length": "Long"
                                },
                                {
                                    "title": "SWEET BROTHERHOOD",
                                    "length": "Long"
                                },
                                {
                                    "title": "SWEETHEARTS SUSPECTS",
                                    "length": "Long"
                                },
                                {
                                    "title": "TADPOLE PARK",
                                    "length": "Long"
                                },
                                {
                                    "title": "TALENTED HOMICIDE",
                                    "length": "Long"
                                },
                                {
                                    "title": "TARZAN VIDEOTAPE",
                                    "length": "Long"
                                },
                                {
                                    "title": "TAXI KICK",
                                    "length": "Short"
                                },
                                {
                                    "title": "TEEN APOLLO",
                                    "length": "Short"
                                },
                                {
                                    "title": "TELEGRAPH VOYAGE",
                                    "length": "Long"
                                },
                                {
                                    "title": "TELEMARK HEARTBREAKERS",
                                    "length": "Long"
                                },
                                {
                                    "title": "TEMPLE ATTRACTION",
                                    "length": "Short"
                                },
                                {
                                    "title": "TENENBAUMS COMMAND",
                                    "length": "Long"
                                },
                                {
                                    "title": "TEQUILA PAST",
                                    "length": "Short"
                                },
                                {
                                    "title": "TERMINATOR CLUB",
                                    "length": "Short"
                                },
                                {
                                    "title": "TEXAS WATCH",
                                    "length": "Long"
                                },
                                {
                                    "title": "THEORY MERMAID",
                                    "length": "Long"
                                },
                                {
                                    "title": "THIEF PELICAN",
                                    "length": "Long"
                                },
                                {
                                    "title": "THIN SAGEBRUSH",
                                    "length": "Short"
                                },
                                {
                                    "title": "TIES HUNGER",
                                    "length": "Long"
                                },
                                {
                                    "title": "TIGHTS DAWN",
                                    "length": "Long"
                                },
                                {
                                    "title": "TIMBERLAND SKY",
                                    "length": "Short"
                                },
                                {
                                    "title": "TITANIC BOONDOCK",
                                    "length": "Long"
                                },
                                {
                                    "title": "TITANS JERK",
                                    "length": "Long"
                                },
                                {
                                    "title": "TOMATOES HELLFIGHTERS",
                                    "length": "Short"
                                },
                                {
                                    "title": "TOMORROW HUSTLER",
                                    "length": "Long"
                                },
                                {
                                    "title": "TOOTSIE PILOT",
                                    "length": "Long"
                                },
                                {
                                    "title": "TORQUE BOUND",
                                    "length": "Long"
                                },
                                {
                                    "title": "TOURIST PELICAN",
                                    "length": "Long"
                                },
                                {
                                    "title": "TOWERS HURRICANE",
                                    "length": "Long"
                                },
                                {
                                    "title": "TOWN ARK",
                                    "length": "Long"
                                },
                                {
                                    "title": "TRACY CIDER",
                                    "length": "Long"
                                },
                                {
                                    "title": "TRADING PINOCCHIO",
                                    "length": "Long"
                                },
                                {
                                    "title": "TRAFFIC HOBBIT",
                                    "length": "Long"
                                },
                                {
                                    "title": "TRAIN BUNCH",
                                    "length": "Short"
                                },
                                {
                                    "title": "TRAINSPOTTING STRANGERS",
                                    "length": "Long"
                                },
                                {
                                    "title": "TRAMP OTHERS",
                                    "length": "Long"
                                },
                                {
                                    "title": "TRANSLATION SUMMER",
                                    "length": "Long"
                                },
                                {
                                    "title": "TRAP GUYS",
                                    "length": "Long"
                                },
                                {
                                    "title": "TREASURE COMMAND",
                                    "length": "Long"
                                },
                                {
                                    "title": "TREATMENT JEKYLL",
                                    "length": "Short"
                                },
                                {
                                    "title": "TRIP NEWTON",
                                    "length": "Short"
                                },
                                {
                                    "title": "TROJAN TOMORROW",
                                    "length": "Short"
                                },
                                {
                                    "title": "TROOPERS METAL",
                                    "length": "Long"
                                },
                                {
                                    "title": "TROUBLE DATE",
                                    "length": "Short"
                                },
                                {
                                    "title": "TRUMAN CRAZY",
                                    "length": "Long"
                                },
                                {
                                    "title": "TURN STAR",
                                    "length": "Short"
                                },
                                {
                                    "title": "TUXEDO MILE",
                                    "length": "Long"
                                },
                                {
                                    "title": "TWISTED PIRATES",
                                    "length": "Long"
                                },
                                {
                                    "title": "TYCOON GATHERING",
                                    "length": "Short"
                                },
                                {
                                    "title": "UNBREAKABLE KARATE",
                                    "length": "Short"
                                },
                                {
                                    "title": "UNCUT SUICIDES",
                                    "length": "Long"
                                },
                                {
                                    "title": "UNDEFEATED DALMATIONS",
                                    "length": "Long"
                                },
                                {
                                    "title": "UNFAITHFUL KILL",
                                    "length": "Short"
                                },
                                {
                                    "title": "UNFORGIVEN ZOOLANDER",
                                    "length": "Long"
                                },
                                {
                                    "title": "UNITED PILOT",
                                    "length": "Long"
                                },
                                {
                                    "title": "UNTOUCHABLES SUNRISE",
                                    "length": "Long"
                                },
                                {
                                    "title": "UPRISING UPTOWN",
                                    "length": "Long"
                                },
                                {
                                    "title": "UPTOWN YOUNG",
                                    "length": "Short"
                                },
                                {
                                    "title": "USUAL UNTOUCHABLES",
                                    "length": "Long"
                                },
                                {
                                    "title": "VACATION BOONDOCK",
                                    "length": "Long"
                                },
                                {
                                    "title": "VALENTINE VANISHING",
                                    "length": "Short"
                                },
                                {
                                    "title": "VALLEY PACKER",
                                    "length": "Short"
                                },
                                {
                                    "title": "VAMPIRE WHALE",
                                    "length": "Long"
                                },
                                {
                                    "title": "VANILLA DAY",
                                    "length": "Long"
                                },
                                {
                                    "title": "VANISHED GARDEN",
                                    "length": "Long"
                                },
                                {
                                    "title": "VANISHING ROCKY",
                                    "length": "Long"
                                },
                                {
                                    "title": "VARSITY TRIP",
                                    "length": "Short"
                                },
                                {
                                    "title": "VELVET TERMINATOR",
                                    "length": "Long"
                                },
                                {
                                    "title": "VERTIGO NORTHWEST",
                                    "length": "Long"
                                },
                                {
                                    "title": "VICTORY ACADEMY",
                                    "length": "Short"
                                },
                                {
                                    "title": "VIDEOTAPE ARSENIC",
                                    "length": "Long"
                                },
                                {
                                    "title": "VIETNAM SMOOCHY",
                                    "length": "Long"
                                },
                                {
                                    "title": "VILLAIN DESPERATE",
                                    "length": "Short"
                                },
                                {
                                    "title": "VIRGIN DAISY",
                                    "length": "Long"
                                },
                                {
                                    "title": "VIRGINIAN PLUTO",
                                    "length": "Long"
                                },
                                {
                                    "title": "VIRTUAL SPOILERS",
                                    "length": "Long"
                                },
                                {
                                    "title": "VISION TORQUE",
                                    "length": "Short"
                                },
                                {
                                    "title": "VOICE PEACH",
                                    "length": "Long"
                                },
                                {
                                    "title": "VOLCANO TEXAS",
                                    "length": "Long"
                                },
                                {
                                    "title": "VOLUME HOUSE",
                                    "length": "Long"
                                },
                                {
                                    "title": "VOYAGE LEGALLY",
                                    "length": "Short"
                                },
                                {
                                    "title": "WAGON JAWS",
                                    "length": "Long"
                                },
                                {
                                    "title": "WAIT CIDER",
                                    "length": "Long"
                                },
                                {
                                    "title": "WAKE JAWS",
                                    "length": "Short"
                                },
                                {
                                    "title": "WALLS ARTIST",
                                    "length": "Long"
                                },
                                {
                                    "title": "WANDA CHAMBER",
                                    "length": "Long"
                                },
                                {
                                    "title": "WAR NOTTING",
                                    "length": "Short"
                                },
                                {
                                    "title": "WARDROBE PHANTOM",
                                    "length": "Long"
                                },
                                {
                                    "title": "WARLOCK WEREWOLF",
                                    "length": "Short"
                                },
                                {
                                    "title": "WARS PLUTO",
                                    "length": "Long"
                                },
                                {
                                    "title": "WASH HEAVENLY",
                                    "length": "Long"
                                },
                                {
                                    "title": "WASTELAND DIVINE",
                                    "length": "Short"
                                },
                                {
                                    "title": "WATCH TRACY",
                                    "length": "Short"
                                },
                                {
                                    "title": "WATERFRONT DELIVERANCE",
                                    "length": "Short"
                                },
                                {
                                    "title": "WATERSHIP FRONTIER",
                                    "length": "Long"
                                },
                                {
                                    "title": "WEDDING APOLLO",
                                    "length": "Short"
                                },
                                {
                                    "title": "WEEKEND PERSONAL",
                                    "length": "Long"
                                },
                                {
                                    "title": "WEREWOLF LOLA",
                                    "length": "Short"
                                },
                                {
                                    "title": "WEST LION",
                                    "length": "Long"
                                },
                                {
                                    "title": "WESTWARD SEABISCUIT",
                                    "length": "Short"
                                },
                                {
                                    "title": "WHALE BIKINI",
                                    "length": "Long"
                                },
                                {
                                    "title": "WHISPERER GIANT",
                                    "length": "Short"
                                },
                                {
                                    "title": "WIFE TURN",
                                    "length": "Long"
                                },
                                {
                                    "title": "WILD APOLLO",
                                    "length": "Long"
                                },
                                {
                                    "title": "WILLOW TRACY",
                                    "length": "Long"
                                },
                                {
                                    "title": "WIND PHANTOM",
                                    "length": "Long"
                                },
                                {
                                    "title": "WINDOW SIDE",
                                    "length": "Short"
                                },
                                {
                                    "title": "WISDOM WORKER",
                                    "length": "Long"
                                },
                                {
                                    "title": "WITCHES PANIC",
                                    "length": "Long"
                                },
                                {
                                    "title": "WIZARD COLDBLOODED",
                                    "length": "Short"
                                },
                                {
                                    "title": "WOLVES DESIRE",
                                    "length": "Short"
                                },
                                {
                                    "title": "WOMEN DORADO",
                                    "length": "Long"
                                },
                                {
                                    "title": "WON DARES",
                                    "length": "Long"
                                },
                                {
                                    "title": "WONDERFUL DROP",
                                    "length": "Long"
                                },
                                {
                                    "title": "WONDERLAND CHRISTMAS",
                                    "length": "Long"
                                },
                                {
                                    "title": "WONKA SEA",
                                    "length": "Short"
                                },
                                {
                                    "title": "WORDS HUNTER",
                                    "length": "Long"
                                },
                                {
                                    "title": "WORKER TARZAN",
                                    "length": "Long"
                                },
                                {
                                    "title": "WORKING MICROCOSMOS",
                                    "length": "Short"
                                },
                                {
                                    "title": "WORLD LEATHERNECKS",
                                    "length": "Long"
                                },
                                {
                                    "title": "WORST BANGER",
                                    "length": "Long"
                                },
                                {
                                    "title": "WRATH MILE",
                                    "length": "Long"
                                },
                                {
                                    "title": "WRONG BEHAVIOR",
                                    "length": "Long"
                                },
                                {
                                    "title": "WYOMING STORM",
                                    "length": "Long"
                                },
                                {
                                    "title": "YENTL IDAHO",
                                    "length": "Short"
                                },
                                {
                                    "title": "YOUNG LANGUAGE",
                                    "length": "Long"
                                },
                                {
                                    "title": "YOUTH KICK",
                                    "length": "Long"
                                },
                                {
                                    "title": "ZHIVAGO CORE",
                                    "length": "Long"
                                },
                                {
                                    "title": "ZOOLANDER FICTION",
                                    "length": "Long"
                                },
                                {
                                    "title": "ZORRO ARK",
                                    "length": "Short"
                                }
                            ]
                        },
                        "text/html": "<table><tr><th>title</th><th>length</th><th>length</th></tr><tr><td>ACADEMY DINOSAUR</td><td>86</td><td>Short</td></tr><tr><td>ACE GOLDFINGER</td><td>48</td><td>Short</td></tr><tr><td>ADAPTATION HOLES</td><td>50</td><td>Short</td></tr><tr><td>AFFAIR PREJUDICE</td><td>117</td><td>Long</td></tr><tr><td>AFRICAN EGG</td><td>130</td><td>Long</td></tr><tr><td>AGENT TRUMAN</td><td>169</td><td>Long</td></tr><tr><td>AIRPLANE SIERRA</td><td>62</td><td>Short</td></tr><tr><td>AIRPORT POLLOCK</td><td>54</td><td>Short</td></tr><tr><td>ALABAMA DEVIL</td><td>114</td><td>Long</td></tr><tr><td>ALADDIN CALENDAR</td><td>63</td><td>Short</td></tr><tr><td>ALAMO VIDEOTAPE</td><td>126</td><td>Long</td></tr><tr><td>ALASKA PHANTOM</td><td>136</td><td>Long</td></tr><tr><td>ALI FOREVER</td><td>150</td><td>Long</td></tr><tr><td>ALICE FANTASIA</td><td>94</td><td>Long</td></tr><tr><td>ALIEN CENTER</td><td>46</td><td>Short</td></tr><tr><td>ALLEY EVOLUTION</td><td>180</td><td>Long</td></tr><tr><td>ALONE TRIP</td><td>82</td><td>Short</td></tr><tr><td>ALTER VICTORY</td><td>57</td><td>Short</td></tr><tr><td>AMADEUS HOLY</td><td>113</td><td>Long</td></tr><tr><td>AMELIE HELLFIGHTERS</td><td>79</td><td>Short</td></tr><tr><td>AMERICAN CIRCUS</td><td>129</td><td>Long</td></tr><tr><td>AMISTAD MIDSUMMER</td><td>85</td><td>Short</td></tr><tr><td>ANACONDA CONFESSIONS</td><td>92</td><td>Long</td></tr><tr><td>ANALYZE HOOSIERS</td><td>181</td><td>Long</td></tr><tr><td>ANGELS LIFE</td><td>74</td><td>Short</td></tr><tr><td>ANNIE IDENTITY</td><td>86</td><td>Short</td></tr><tr><td>ANONYMOUS HUMAN</td><td>179</td><td>Long</td></tr><tr><td>ANTHEM LUKE</td><td>91</td><td>Long</td></tr><tr><td>ANTITRUST TOMATOES</td><td>168</td><td>Long</td></tr><tr><td>ANYTHING SAVANNAH</td><td>82</td><td>Short</td></tr><tr><td>APACHE DIVINE</td><td>92</td><td>Long</td></tr><tr><td>APOCALYPSE FLAMINGOS</td><td>119</td><td>Long</td></tr><tr><td>APOLLO TEEN</td><td>153</td><td>Long</td></tr><tr><td>ARABIA DOGMA</td><td>62</td><td>Short</td></tr><tr><td>ARACHNOPHOBIA ROLLERCOASTER</td><td>147</td><td>Long</td></tr><tr><td>ARGONAUTS TOWN</td><td>127</td><td>Long</td></tr><tr><td>ARIZONA BANG</td><td>121</td><td>Long</td></tr><tr><td>ARK RIDGEMONT</td><td>68</td><td>Short</td></tr><tr><td>ARMAGEDDON LOST</td><td>99</td><td>Long</td></tr><tr><td>ARMY FLINTSTONES</td><td>148</td><td>Long</td></tr><tr><td>ARSENIC INDEPENDENCE</td><td>137</td><td>Long</td></tr><tr><td>ARTIST COLDBLOODED</td><td>170</td><td>Long</td></tr><tr><td>ATLANTIS CAUSE</td><td>170</td><td>Long</td></tr><tr><td>ATTACKS HATE</td><td>113</td><td>Long</td></tr><tr><td>ATTRACTION NEWTON</td><td>83</td><td>Short</td></tr><tr><td>AUTUMN CROW</td><td>108</td><td>Long</td></tr><tr><td>BABY HALL</td><td>153</td><td>Long</td></tr><tr><td>BACKLASH UNDEFEATED</td><td>118</td><td>Long</td></tr><tr><td>BADMAN DAWN</td><td>162</td><td>Long</td></tr><tr><td>BAKED CLEOPATRA</td><td>182</td><td>Long</td></tr><tr><td>BALLOON HOMEWARD</td><td>75</td><td>Short</td></tr><tr><td>BALLROOM MOCKINGBIRD</td><td>173</td><td>Long</td></tr><tr><td>BANG KWAI</td><td>87</td><td>Short</td></tr><tr><td>BANGER PINOCCHIO</td><td>113</td><td>Long</td></tr><tr><td>BARBARELLA STREETCAR</td><td>65</td><td>Short</td></tr><tr><td>BAREFOOT MANCHURIAN</td><td>129</td><td>Long</td></tr><tr><td>BASIC EASY</td><td>90</td><td>Long</td></tr><tr><td>BEACH HEARTBREAKERS</td><td>122</td><td>Long</td></tr><tr><td>BEAR GRACELAND</td><td>160</td><td>Long</td></tr><tr><td>BEAST HUNCHBACK</td><td>89</td><td>Short</td></tr><tr><td>BEAUTY GREASE</td><td>175</td><td>Long</td></tr><tr><td>BED HIGHBALL</td><td>106</td><td>Long</td></tr><tr><td>BEDAZZLED MARRIED</td><td>73</td><td>Short</td></tr><tr><td>BEETHOVEN EXORCIST</td><td>151</td><td>Long</td></tr><tr><td>BEHAVIOR RUNAWAY</td><td>100</td><td>Long</td></tr><tr><td>BENEATH RUSH</td><td>53</td><td>Short</td></tr><tr><td>BERETS AGENT</td><td>77</td><td>Short</td></tr><tr><td>BETRAYED REAR</td><td>122</td><td>Long</td></tr><tr><td>BEVERLY OUTLAW</td><td>85</td><td>Short</td></tr><tr><td>BIKINI BORROWERS</td><td>142</td><td>Long</td></tr><tr><td>BILKO ANONYMOUS</td><td>100</td><td>Long</td></tr><tr><td>BILL OTHERS</td><td>93</td><td>Long</td></tr><tr><td>BINGO TALENTED</td><td>150</td><td>Long</td></tr><tr><td>BIRCH ANTITRUST</td><td>162</td><td>Long</td></tr><tr><td>BIRD INDEPENDENCE</td><td>163</td><td>Long</td></tr><tr><td>BIRDCAGE CASPER</td><td>103</td><td>Long</td></tr><tr><td>BIRDS PERDITION</td><td>61</td><td>Short</td></tr><tr><td>BLACKOUT PRIVATE</td><td>85</td><td>Short</td></tr><tr><td>BLADE POLISH</td><td>114</td><td>Long</td></tr><tr><td>BLANKET BEVERLY</td><td>148</td><td>Long</td></tr><tr><td>BLINDNESS GUN</td><td>103</td><td>Long</td></tr><tr><td>BLOOD ARGONAUTS</td><td>71</td><td>Short</td></tr><tr><td>BLUES INSTINCT</td><td>50</td><td>Short</td></tr><tr><td>BOILED DARES</td><td>102</td><td>Long</td></tr><tr><td>BONNIE HOLOCAUST</td><td>63</td><td>Short</td></tr><tr><td>BOOGIE AMELIE</td><td>121</td><td>Long</td></tr><tr><td>BOONDOCK BALLROOM</td><td>76</td><td>Short</td></tr><tr><td>BORN SPINAL</td><td>179</td><td>Long</td></tr><tr><td>BORROWERS BEDAZZLED</td><td>63</td><td>Short</td></tr><tr><td>BOULEVARD MOB</td><td>63</td><td>Short</td></tr><tr><td>BOUND CHEAPER</td><td>98</td><td>Long</td></tr><tr><td>BOWFINGER GABLES</td><td>72</td><td>Short</td></tr><tr><td>BRANNIGAN SUNRISE</td><td>121</td><td>Long</td></tr><tr><td>BRAVEHEART HUMAN</td><td>176</td><td>Long</td></tr><tr><td>BREAKFAST GOLDFINGER</td><td>123</td><td>Long</td></tr><tr><td>BREAKING HOME</td><td>169</td><td>Long</td></tr><tr><td>BRIDE INTRIGUE</td><td>56</td><td>Short</td></tr><tr><td>BRIGHT ENCOUNTERS</td><td>73</td><td>Short</td></tr><tr><td>BRINGING HYSTERICAL</td><td>136</td><td>Long</td></tr><tr><td>BROOKLYN DESERT</td><td>161</td><td>Long</td></tr><tr><td>BROTHERHOOD BLANKET</td><td>73</td><td>Short</td></tr><tr><td>BUBBLE GROSSE</td><td>60</td><td>Short</td></tr><tr><td>BUCKET BROTHERHOOD</td><td>133</td><td>Long</td></tr><tr><td>BUGSY SONG</td><td>119</td><td>Long</td></tr><tr><td>BULL SHAWSHANK</td><td>125</td><td>Long</td></tr><tr><td>BULWORTH COMMANDMENTS</td><td>61</td><td>Short</td></tr><tr><td>BUNCH MINDS</td><td>63</td><td>Short</td></tr><tr><td>BUTCH PANTHER</td><td>67</td><td>Short</td></tr><tr><td>BUTTERFLY CHOCOLAT</td><td>89</td><td>Short</td></tr><tr><td>CABIN FLASH</td><td>53</td><td>Short</td></tr><tr><td>CADDYSHACK JEDI</td><td>52</td><td>Short</td></tr><tr><td>CALENDAR GUNFIGHT</td><td>120</td><td>Long</td></tr><tr><td>CALIFORNIA BIRDS</td><td>75</td><td>Short</td></tr><tr><td>CAMELOT VACATION</td><td>61</td><td>Short</td></tr><tr><td>CAMPUS REMEMBER</td><td>167</td><td>Long</td></tr><tr><td>CANDIDATE PERDITION</td><td>70</td><td>Short</td></tr><tr><td>CANDLES GRAPES</td><td>135</td><td>Long</td></tr><tr><td>CANYON STOCK</td><td>85</td><td>Short</td></tr><tr><td>CAPER MOTIONS</td><td>176</td><td>Long</td></tr><tr><td>CARIBBEAN LIBERTY</td><td>92</td><td>Long</td></tr><tr><td>CAROL TEXAS</td><td>151</td><td>Long</td></tr><tr><td>CARRIE BUNCH</td><td>114</td><td>Long</td></tr><tr><td>CASABLANCA SUPER</td><td>85</td><td>Short</td></tr><tr><td>CASPER DRAGONFLY</td><td>163</td><td>Long</td></tr><tr><td>CASSIDY WYOMING</td><td>61</td><td>Short</td></tr><tr><td>CASUALTIES ENCINO</td><td>179</td><td>Long</td></tr><tr><td>CAT CONEHEADS</td><td>112</td><td>Long</td></tr><tr><td>CATCH AMISTAD</td><td>183</td><td>Long</td></tr><tr><td>CAUSE DATE</td><td>179</td><td>Long</td></tr><tr><td>CELEBRITY HORN</td><td>110</td><td>Long</td></tr><tr><td>CENTER DINOSAUR</td><td>152</td><td>Long</td></tr><tr><td>CHAINSAW UPTOWN</td><td>114</td><td>Long</td></tr><tr><td>CHAMBER ITALIAN</td><td>117</td><td>Long</td></tr><tr><td>CHAMPION FLATLINERS</td><td>51</td><td>Short</td></tr><tr><td>CHANCE RESURRECTION</td><td>70</td><td>Short</td></tr><tr><td>CHAPLIN LICENSE</td><td>146</td><td>Long</td></tr><tr><td>CHARADE DUFFEL</td><td>66</td><td>Short</td></tr><tr><td>CHARIOTS CONSPIRACY</td><td>71</td><td>Short</td></tr><tr><td>CHASING FIGHT</td><td>114</td><td>Long</td></tr><tr><td>CHEAPER CLYDE</td><td>87</td><td>Short</td></tr><tr><td>CHICAGO NORTH</td><td>185</td><td>Long</td></tr><tr><td>CHICKEN HELLFIGHTERS</td><td>122</td><td>Long</td></tr><tr><td>CHILL LUCK</td><td>142</td><td>Long</td></tr><tr><td>CHINATOWN GLADIATOR</td><td>61</td><td>Short</td></tr><tr><td>CHISUM BEHAVIOR</td><td>124</td><td>Long</td></tr><tr><td>CHITTY LOCK</td><td>107</td><td>Long</td></tr><tr><td>CHOCOLAT HARRY</td><td>101</td><td>Long</td></tr><tr><td>CHOCOLATE DUCK</td><td>132</td><td>Long</td></tr><tr><td>CHRISTMAS MOONSHINE</td><td>150</td><td>Long</td></tr><tr><td>CIDER DESIRE</td><td>101</td><td>Long</td></tr><tr><td>CINCINATTI WHISPERER</td><td>143</td><td>Long</td></tr><tr><td>CIRCUS YOUTH</td><td>90</td><td>Long</td></tr><tr><td>CITIZEN SHREK</td><td>165</td><td>Long</td></tr><tr><td>CLASH FREDDY</td><td>81</td><td>Short</td></tr><tr><td>CLEOPATRA DEVIL</td><td>150</td><td>Long</td></tr><tr><td>CLERKS ANGELS</td><td>164</td><td>Long</td></tr><tr><td>CLOCKWORK PARADISE</td><td>143</td><td>Long</td></tr><tr><td>CLONES PINOCCHIO</td><td>124</td><td>Long</td></tr><tr><td>CLOSER BANG</td><td>58</td><td>Short</td></tr><tr><td>CLUB GRAFFITI</td><td>65</td><td>Short</td></tr><tr><td>CLUE GRAIL</td><td>70</td><td>Short</td></tr><tr><td>CLUELESS BUCKET</td><td>95</td><td>Long</td></tr><tr><td>CLYDE THEORY</td><td>139</td><td>Long</td></tr><tr><td>COAST RAINBOW</td><td>55</td><td>Short</td></tr><tr><td>COLDBLOODED DARLING</td><td>70</td><td>Short</td></tr><tr><td>COLOR PHILADELPHIA</td><td>149</td><td>Long</td></tr><tr><td>COMA HEAD</td><td>109</td><td>Long</td></tr><tr><td>COMANCHEROS ENEMY</td><td>67</td><td>Short</td></tr><tr><td>COMFORTS RUSH</td><td>76</td><td>Short</td></tr><tr><td>COMMAND DARLING</td><td>120</td><td>Long</td></tr><tr><td>COMMANDMENTS EXPRESS</td><td>59</td><td>Short</td></tr><tr><td>CONEHEADS SMOOCHY</td><td>112</td><td>Long</td></tr><tr><td>CONFESSIONS MAGUIRE</td><td>65</td><td>Short</td></tr><tr><td>CONFIDENTIAL INTERVIEW</td><td>180</td><td>Long</td></tr><tr><td>CONFUSED CANDLES</td><td>122</td><td>Long</td></tr><tr><td>CONGENIALITY QUEST</td><td>87</td><td>Short</td></tr><tr><td>CONNECTICUT TRAMP</td><td>172</td><td>Long</td></tr><tr><td>CONNECTION MICROCOSMOS</td><td>115</td><td>Long</td></tr><tr><td>CONQUERER NUTS</td><td>173</td><td>Long</td></tr><tr><td>CONSPIRACY SPIRIT</td><td>184</td><td>Long</td></tr><tr><td>CONTACT ANONYMOUS</td><td>166</td><td>Long</td></tr><tr><td>CONTROL ANTHEM</td><td>185</td><td>Long</td></tr><tr><td>CONVERSATION DOWNHILL</td><td>112</td><td>Long</td></tr><tr><td>CORE SUIT</td><td>92</td><td>Long</td></tr><tr><td>COWBOY DOOM</td><td>146</td><td>Long</td></tr><tr><td>CRAFT OUTFIELD</td><td>64</td><td>Short</td></tr><tr><td>CRANES RESERVOIR</td><td>57</td><td>Short</td></tr><tr><td>CRAZY HOME</td><td>136</td><td>Long</td></tr><tr><td>CREATURES SHAKESPEARE</td><td>139</td><td>Long</td></tr><tr><td>CREEPERS KANE</td><td>172</td><td>Long</td></tr><tr><td>CROOKED FROGMEN</td><td>143</td><td>Long</td></tr><tr><td>CROSSING DIVORCE</td><td>50</td><td>Short</td></tr><tr><td>CROSSROADS CASUALTIES</td><td>153</td><td>Long</td></tr><tr><td>CROW GREASE</td><td>104</td><td>Long</td></tr><tr><td>CROWDS TELEMARK</td><td>112</td><td>Long</td></tr><tr><td>CRUELTY UNFORGIVEN</td><td>69</td><td>Short</td></tr><tr><td>CRUSADE HONEY</td><td>112</td><td>Long</td></tr><tr><td>CRYSTAL BREAKING</td><td>184</td><td>Long</td></tr><tr><td>CUPBOARD SINNERS</td><td>56</td><td>Short</td></tr><tr><td>CURTAIN VIDEOTAPE</td><td>133</td><td>Long</td></tr><tr><td>CYCLONE FAMILY</td><td>176</td><td>Long</td></tr><tr><td>DADDY PITTSBURGH</td><td>161</td><td>Long</td></tr><tr><td>DAISY MENAGERIE</td><td>84</td><td>Short</td></tr><tr><td>DALMATIONS SWEDEN</td><td>106</td><td>Long</td></tr><tr><td>DANCES NONE</td><td>58</td><td>Short</td></tr><tr><td>DANCING FEVER</td><td>144</td><td>Long</td></tr><tr><td>DANGEROUS UPTOWN</td><td>121</td><td>Long</td></tr><tr><td>DARES PLUTO</td><td>89</td><td>Short</td></tr><tr><td>DARKNESS WAR</td><td>99</td><td>Long</td></tr><tr><td>DARKO DORADO</td><td>130</td><td>Long</td></tr><tr><td>DARLING BREAKING</td><td>165</td><td>Long</td></tr><tr><td>DARN FORRESTER</td><td>185</td><td>Long</td></tr><tr><td>DATE SPEED</td><td>104</td><td>Long</td></tr><tr><td>DAUGHTER MADIGAN</td><td>59</td><td>Short</td></tr><tr><td>DAWN POND</td><td>57</td><td>Short</td></tr><tr><td>DAY UNFAITHFUL</td><td>113</td><td>Long</td></tr><tr><td>DAZED PUNK</td><td>120</td><td>Long</td></tr><tr><td>DECEIVER BETRAYED</td><td>122</td><td>Long</td></tr><tr><td>DEEP CRUSADE</td><td>51</td><td>Short</td></tr><tr><td>DEER VIRGINIAN</td><td>106</td><td>Long</td></tr><tr><td>DELIVERANCE MULHOLLAND</td><td>100</td><td>Long</td></tr><tr><td>DESERT POSEIDON</td><td>64</td><td>Short</td></tr><tr><td>DESIRE ALIEN</td><td>76</td><td>Short</td></tr><tr><td>DESPERATE TRAINSPOTTING</td><td>81</td><td>Short</td></tr><tr><td>DESTINATION JERK</td><td>76</td><td>Short</td></tr><tr><td>DESTINY SATURDAY</td><td>56</td><td>Short</td></tr><tr><td>DETAILS PACKER</td><td>88</td><td>Short</td></tr><tr><td>DETECTIVE VISION</td><td>143</td><td>Long</td></tr><tr><td>DEVIL DESIRE</td><td>87</td><td>Short</td></tr><tr><td>DIARY PANIC</td><td>107</td><td>Long</td></tr><tr><td>DINOSAUR SECRETARY</td><td>63</td><td>Short</td></tr><tr><td>DIRTY ACE</td><td>147</td><td>Long</td></tr><tr><td>DISCIPLE MOTHER</td><td>141</td><td>Long</td></tr><tr><td>DISTURBING SCARFACE</td><td>94</td><td>Long</td></tr><tr><td>DIVIDE MONSTER</td><td>68</td><td>Short</td></tr><tr><td>DIVINE RESURRECTION</td><td>100</td><td>Long</td></tr><tr><td>DIVORCE SHINING</td><td>47</td><td>Short</td></tr><tr><td>DOCTOR GRAIL</td><td>57</td><td>Short</td></tr><tr><td>DOGMA FAMILY</td><td>122</td><td>Long</td></tr><tr><td>DOLLS RAGE</td><td>120</td><td>Long</td></tr><tr><td>DONNIE ALLEY</td><td>125</td><td>Long</td></tr><tr><td>DOOM DANCING</td><td>68</td><td>Short</td></tr><tr><td>DOORS PRESIDENT</td><td>49</td><td>Short</td></tr><tr><td>DORADO NOTTING</td><td>139</td><td>Long</td></tr><tr><td>DOUBLE WRATH</td><td>177</td><td>Long</td></tr><tr><td>DOUBTFIRE LABYRINTH</td><td>154</td><td>Long</td></tr><tr><td>DOWNHILL ENOUGH</td><td>47</td><td>Short</td></tr><tr><td>DOZEN LION</td><td>177</td><td>Long</td></tr><tr><td>DRACULA CRYSTAL</td><td>176</td><td>Long</td></tr><tr><td>DRAGON SQUAD</td><td>170</td><td>Long</td></tr><tr><td>DRAGONFLY STRANGERS</td><td>133</td><td>Long</td></tr><tr><td>DREAM PICKUP</td><td>135</td><td>Long</td></tr><tr><td>DRIFTER COMMANDMENTS</td><td>61</td><td>Short</td></tr><tr><td>DRIVER ANNIE</td><td>159</td><td>Long</td></tr><tr><td>DRIVING POLISH</td><td>175</td><td>Long</td></tr><tr><td>DROP WATERFRONT</td><td>178</td><td>Long</td></tr><tr><td>DRUMLINE CYCLONE</td><td>110</td><td>Long</td></tr><tr><td>DRUMS DYNAMITE</td><td>96</td><td>Long</td></tr><tr><td>DUCK RACER</td><td>116</td><td>Long</td></tr><tr><td>DUDE BLINDNESS</td><td>132</td><td>Long</td></tr><tr><td>DUFFEL APOCALYPSE</td><td>171</td><td>Long</td></tr><tr><td>DUMBO LUST</td><td>119</td><td>Long</td></tr><tr><td>DURHAM PANKY</td><td>154</td><td>Long</td></tr><tr><td>DWARFS ALTER</td><td>101</td><td>Long</td></tr><tr><td>DYING MAKER</td><td>168</td><td>Long</td></tr><tr><td>DYNAMITE TARZAN</td><td>141</td><td>Long</td></tr><tr><td>EAGLES PANKY</td><td>140</td><td>Long</td></tr><tr><td>EARLY HOME</td><td>96</td><td>Long</td></tr><tr><td>EARRING INSTINCT</td><td>98</td><td>Long</td></tr><tr><td>EARTH VISION</td><td>85</td><td>Short</td></tr><tr><td>EASY GLADIATOR</td><td>148</td><td>Long</td></tr><tr><td>EDGE KISSING</td><td>153</td><td>Long</td></tr><tr><td>EFFECT GLADIATOR</td><td>107</td><td>Long</td></tr><tr><td>EGG IGBY</td><td>67</td><td>Short</td></tr><tr><td>EGYPT TENENBAUMS</td><td>85</td><td>Short</td></tr><tr><td>ELEMENT FREDDY</td><td>115</td><td>Long</td></tr><tr><td>ELEPHANT TROJAN</td><td>126</td><td>Long</td></tr><tr><td>ELF MURDER</td><td>155</td><td>Long</td></tr><tr><td>ELIZABETH SHANE</td><td>152</td><td>Long</td></tr><tr><td>EMPIRE MALKOVICH</td><td>177</td><td>Long</td></tr><tr><td>ENCINO ELF</td><td>143</td><td>Long</td></tr><tr><td>ENCOUNTERS CURTAIN</td><td>92</td><td>Long</td></tr><tr><td>ENDING CROWDS</td><td>85</td><td>Short</td></tr><tr><td>ENEMY ODDS</td><td>77</td><td>Short</td></tr><tr><td>ENGLISH BULWORTH</td><td>51</td><td>Short</td></tr><tr><td>ENOUGH RAGING</td><td>158</td><td>Long</td></tr><tr><td>ENTRAPMENT SATISFACTION</td><td>176</td><td>Long</td></tr><tr><td>ESCAPE METROPOLIS</td><td>167</td><td>Long</td></tr><tr><td>EVE RESURRECTION</td><td>66</td><td>Short</td></tr><tr><td>EVERYONE CRAFT</td><td>163</td><td>Long</td></tr><tr><td>EVOLUTION ALTER</td><td>174</td><td>Long</td></tr><tr><td>EXCITEMENT EVE</td><td>51</td><td>Short</td></tr><tr><td>EXORCIST STING</td><td>167</td><td>Long</td></tr><tr><td>EXPECATIONS NATURAL</td><td>138</td><td>Long</td></tr><tr><td>EXPENDABLE STALLION</td><td>97</td><td>Long</td></tr><tr><td>EXPRESS LONELY</td><td>178</td><td>Long</td></tr><tr><td>EXTRAORDINARY CONQUERER</td><td>122</td><td>Long</td></tr><tr><td>EYES DRIVING</td><td>172</td><td>Long</td></tr><tr><td>FACTORY DRAGON</td><td>144</td><td>Long</td></tr><tr><td>FALCON VOLUME</td><td>102</td><td>Long</td></tr><tr><td>FAMILY SWEET</td><td>155</td><td>Long</td></tr><tr><td>FANTASIA PARK</td><td>131</td><td>Long</td></tr><tr><td>FANTASY TROOPERS</td><td>58</td><td>Short</td></tr><tr><td>FARGO GANDHI</td><td>130</td><td>Long</td></tr><tr><td>FATAL HAUNTED</td><td>91</td><td>Long</td></tr><tr><td>FEATHERS METAL</td><td>104</td><td>Long</td></tr><tr><td>FELLOWSHIP AUTUMN</td><td>77</td><td>Short</td></tr><tr><td>FERRIS MOTHER</td><td>142</td><td>Long</td></tr><tr><td>FEUD FROGMEN</td><td>98</td><td>Long</td></tr><tr><td>FEVER EMPIRE</td><td>158</td><td>Long</td></tr><tr><td>FICTION CHRISTMAS</td><td>72</td><td>Short</td></tr><tr><td>FIDDLER LOST</td><td>75</td><td>Short</td></tr><tr><td>FIDELITY DEVIL</td><td>118</td><td>Long</td></tr><tr><td>FIGHT JAWBREAKER</td><td>91</td><td>Long</td></tr><tr><td>FINDING ANACONDA</td><td>156</td><td>Long</td></tr><tr><td>FIRE WOLVES</td><td>173</td><td>Long</td></tr><tr><td>FIREBALL PHILADELPHIA</td><td>148</td><td>Long</td></tr><tr><td>FIREHOUSE VIETNAM</td><td>103</td><td>Long</td></tr><tr><td>FISH OPUS</td><td>125</td><td>Long</td></tr><tr><td>FLAMINGOS CONNECTICUT</td><td>80</td><td>Short</td></tr><tr><td>FLASH WARS</td><td>123</td><td>Long</td></tr><tr><td>FLATLINERS KILLER</td><td>100</td><td>Long</td></tr><tr><td>FLIGHT LIES</td><td>179</td><td>Long</td></tr><tr><td>FLINTSTONES HAPPINESS</td><td>148</td><td>Long</td></tr><tr><td>FLOATS GARDEN</td><td>145</td><td>Long</td></tr><tr><td>FLYING HOOK</td><td>69</td><td>Short</td></tr><tr><td>FOOL MOCKINGBIRD</td><td>158</td><td>Long</td></tr><tr><td>FOREVER CANDIDATE</td><td>131</td><td>Long</td></tr><tr><td>FORREST SONS</td><td>63</td><td>Short</td></tr><tr><td>FORRESTER COMANCHEROS</td><td>112</td><td>Long</td></tr><tr><td>FORWARD TEMPLE</td><td>90</td><td>Long</td></tr><tr><td>FRANKENSTEIN STRANGER</td><td>159</td><td>Long</td></tr><tr><td>FREAKY POCUS</td><td>126</td><td>Long</td></tr><tr><td>FREDDY STORM</td><td>65</td><td>Short</td></tr><tr><td>FREEDOM CLEOPATRA</td><td>133</td><td>Long</td></tr><tr><td>FRENCH HOLIDAY</td><td>99</td><td>Long</td></tr><tr><td>FRIDA SLIPPER</td><td>73</td><td>Short</td></tr><tr><td>FRISCO FORREST</td><td>51</td><td>Short</td></tr><tr><td>FROGMEN BREAKING</td><td>111</td><td>Long</td></tr><tr><td>FRONTIER CABIN</td><td>183</td><td>Long</td></tr><tr><td>FROST HEAD</td><td>82</td><td>Short</td></tr><tr><td>FUGITIVE MAGUIRE</td><td>83</td><td>Short</td></tr><tr><td>FULL FLATLINERS</td><td>94</td><td>Long</td></tr><tr><td>FURY MURDER</td><td>178</td><td>Long</td></tr><tr><td>GABLES METROPOLIS</td><td>161</td><td>Long</td></tr><tr><td>GALAXY SWEETHEARTS</td><td>128</td><td>Long</td></tr><tr><td>GAMES BOWFINGER</td><td>119</td><td>Long</td></tr><tr><td>GANDHI KWAI</td><td>86</td><td>Short</td></tr><tr><td>GANGS PRIDE</td><td>185</td><td>Long</td></tr><tr><td>GARDEN ISLAND</td><td>80</td><td>Short</td></tr><tr><td>GASLIGHT CRUSADE</td><td>106</td><td>Long</td></tr><tr><td>GATHERING CALENDAR</td><td>176</td><td>Long</td></tr><tr><td>GENTLEMEN STAGE</td><td>125</td><td>Long</td></tr><tr><td>GHOST GROUNDHOG</td><td>85</td><td>Short</td></tr><tr><td>GHOSTBUSTERS ELF</td><td>101</td><td>Long</td></tr><tr><td>GIANT TROOPERS</td><td>102</td><td>Long</td></tr><tr><td>GILBERT PELICAN</td><td>114</td><td>Long</td></tr><tr><td>GILMORE BOILED</td><td>163</td><td>Long</td></tr><tr><td>GLADIATOR WESTWARD</td><td>173</td><td>Long</td></tr><tr><td>GLASS DYING</td><td>103</td><td>Long</td></tr><tr><td>GLEAMING JAWBREAKER</td><td>89</td><td>Short</td></tr><tr><td>GLORY TRACY</td><td>115</td><td>Long</td></tr><tr><td>GO PURPLE</td><td>54</td><td>Short</td></tr><tr><td>GODFATHER DIARY</td><td>73</td><td>Short</td></tr><tr><td>GOLD RIVER</td><td>154</td><td>Long</td></tr><tr><td>GOLDFINGER SENSIBILITY</td><td>93</td><td>Long</td></tr><tr><td>GOLDMINE TYCOON</td><td>153</td><td>Long</td></tr><tr><td>GONE TROUBLE</td><td>84</td><td>Short</td></tr><tr><td>GOODFELLAS SALUTE</td><td>56</td><td>Short</td></tr><tr><td>GORGEOUS BINGO</td><td>108</td><td>Long</td></tr><tr><td>GOSFORD DONNIE</td><td>129</td><td>Long</td></tr><tr><td>GRACELAND DYNAMITE</td><td>140</td><td>Long</td></tr><tr><td>GRADUATE LORD</td><td>156</td><td>Long</td></tr><tr><td>GRAFFITI LOVE</td><td>117</td><td>Long</td></tr><tr><td>GRAIL FRANKENSTEIN</td><td>85</td><td>Short</td></tr><tr><td>GRAPES FURY</td><td>155</td><td>Long</td></tr><tr><td>GREASE YOUTH</td><td>135</td><td>Long</td></tr><tr><td>GREATEST NORTH</td><td>93</td><td>Long</td></tr><tr><td>GREEDY ROOTS</td><td>166</td><td>Long</td></tr><tr><td>GREEK EVERYONE</td><td>176</td><td>Long</td></tr><tr><td>GRINCH MASSAGE</td><td>150</td><td>Long</td></tr><tr><td>GRIT CLOCKWORK</td><td>137</td><td>Long</td></tr><tr><td>GROOVE FICTION</td><td>111</td><td>Long</td></tr><tr><td>GROSSE WONDERFUL</td><td>49</td><td>Short</td></tr><tr><td>GROUNDHOG UNCUT</td><td>139</td><td>Long</td></tr><tr><td>GUMP DATE</td><td>53</td><td>Short</td></tr><tr><td>GUN BONNIE</td><td>100</td><td>Long</td></tr><tr><td>GUNFIGHT MOON</td><td>70</td><td>Short</td></tr><tr><td>GUNFIGHTER MUSSOLINI</td><td>127</td><td>Long</td></tr><tr><td>GUYS FALCON</td><td>84</td><td>Short</td></tr><tr><td>HALF OUTFIELD</td><td>146</td><td>Long</td></tr><tr><td>HALL CASSIDY</td><td>51</td><td>Short</td></tr><tr><td>HALLOWEEN NUTS</td><td>47</td><td>Short</td></tr><tr><td>HAMLET WISDOM</td><td>146</td><td>Long</td></tr><tr><td>HANDICAP BOONDOCK</td><td>108</td><td>Long</td></tr><tr><td>HANGING DEEP</td><td>62</td><td>Short</td></tr><tr><td>HANKY OCTOBER</td><td>107</td><td>Long</td></tr><tr><td>HANOVER GALAXY</td><td>47</td><td>Short</td></tr><tr><td>HAPPINESS UNITED</td><td>100</td><td>Long</td></tr><tr><td>HARDLY ROBBERS</td><td>72</td><td>Short</td></tr><tr><td>HAROLD FRENCH</td><td>168</td><td>Long</td></tr><tr><td>HARPER DYING</td><td>52</td><td>Short</td></tr><tr><td>HARRY IDAHO</td><td>121</td><td>Long</td></tr><tr><td>HATE HANDICAP</td><td>107</td><td>Long</td></tr><tr><td>HAUNTED ANTITRUST</td><td>76</td><td>Short</td></tr><tr><td>HAUNTING PIANIST</td><td>181</td><td>Long</td></tr><tr><td>HAWK CHILL</td><td>47</td><td>Short</td></tr><tr><td>HEAD STRANGER</td><td>69</td><td>Short</td></tr><tr><td>HEARTBREAKERS BRIGHT</td><td>59</td><td>Short</td></tr><tr><td>HEAVEN FREEDOM</td><td>48</td><td>Short</td></tr><tr><td>HEAVENLY GUN</td><td>49</td><td>Short</td></tr><tr><td>HEAVYWEIGHTS BEAST</td><td>102</td><td>Long</td></tr><tr><td>HEDWIG ALTER</td><td>169</td><td>Long</td></tr><tr><td>HELLFIGHTERS SIERRA</td><td>75</td><td>Short</td></tr><tr><td>HIGH ENCINO</td><td>84</td><td>Short</td></tr><tr><td>HIGHBALL POTTER</td><td>110</td><td>Long</td></tr><tr><td>HILLS NEIGHBORS</td><td>93</td><td>Long</td></tr><tr><td>HOBBIT ALIEN</td><td>157</td><td>Long</td></tr><tr><td>HOCUS FRIDA</td><td>141</td><td>Long</td></tr><tr><td>HOLES BRANNIGAN</td><td>128</td><td>Long</td></tr><tr><td>HOLIDAY GAMES</td><td>78</td><td>Short</td></tr><tr><td>HOLLOW JEOPARDY</td><td>136</td><td>Long</td></tr><tr><td>HOLLYWOOD ANONYMOUS</td><td>69</td><td>Short</td></tr><tr><td>HOLOCAUST HIGHBALL</td><td>149</td><td>Long</td></tr><tr><td>HOLY TADPOLE</td><td>88</td><td>Short</td></tr><tr><td>HOME PITY</td><td>185</td><td>Long</td></tr><tr><td>HOMEWARD CIDER</td><td>103</td><td>Long</td></tr><tr><td>HOMICIDE PEACH</td><td>141</td><td>Long</td></tr><tr><td>HONEY TIES</td><td>84</td><td>Short</td></tr><tr><td>HOOK CHARIOTS</td><td>49</td><td>Short</td></tr><tr><td>HOOSIERS BIRDCAGE</td><td>176</td><td>Long</td></tr><tr><td>HOPE TOOTSIE</td><td>139</td><td>Long</td></tr><tr><td>HORN WORKING</td><td>95</td><td>Long</td></tr><tr><td>HORROR REIGN</td><td>139</td><td>Long</td></tr><tr><td>HOTEL HAPPINESS</td><td>181</td><td>Long</td></tr><tr><td>HOURS RAGE</td><td>122</td><td>Long</td></tr><tr><td>HOUSE DYNAMITE</td><td>109</td><td>Long</td></tr><tr><td>HUMAN GRAFFITI</td><td>68</td><td>Short</td></tr><tr><td>HUNCHBACK IMPOSSIBLE</td><td>151</td><td>Long</td></tr><tr><td>HUNGER ROOF</td><td>105</td><td>Long</td></tr><tr><td>HUNTER ALTER</td><td>125</td><td>Long</td></tr><tr><td>HUNTING MUSKETEERS</td><td>65</td><td>Short</td></tr><tr><td>HURRICANE AFFAIR</td><td>49</td><td>Short</td></tr><tr><td>HUSTLER PARTY</td><td>83</td><td>Short</td></tr><tr><td>HYDE DOCTOR</td><td>100</td><td>Long</td></tr><tr><td>HYSTERICAL GRAIL</td><td>150</td><td>Long</td></tr><tr><td>ICE CROSSING</td><td>131</td><td>Long</td></tr><tr><td>IDAHO LOVE</td><td>172</td><td>Long</td></tr><tr><td>IDENTITY LOVER</td><td>119</td><td>Long</td></tr><tr><td>IDOLS SNATCHERS</td><td>84</td><td>Short</td></tr><tr><td>IGBY MAKER</td><td>160</td><td>Long</td></tr><tr><td>ILLUSION AMELIE</td><td>122</td><td>Long</td></tr><tr><td>IMAGE PRINCESS</td><td>178</td><td>Long</td></tr><tr><td>IMPACT ALADDIN</td><td>180</td><td>Long</td></tr><tr><td>IMPOSSIBLE PREJUDICE</td><td>103</td><td>Long</td></tr><tr><td>INCH JET</td><td>167</td><td>Long</td></tr><tr><td>INDEPENDENCE HOTEL</td><td>157</td><td>Long</td></tr><tr><td>INDIAN LOVE</td><td>135</td><td>Long</td></tr><tr><td>INFORMER DOUBLE</td><td>74</td><td>Short</td></tr><tr><td>INNOCENT USUAL</td><td>178</td><td>Long</td></tr><tr><td>INSECTS STONE</td><td>123</td><td>Long</td></tr><tr><td>INSIDER ARIZONA</td><td>78</td><td>Short</td></tr><tr><td>INSTINCT AIRPORT</td><td>116</td><td>Long</td></tr><tr><td>INTENTIONS EMPIRE</td><td>107</td><td>Long</td></tr><tr><td>INTERVIEW LIAISONS</td><td>59</td><td>Short</td></tr><tr><td>INTOLERABLE INTENTIONS</td><td>63</td><td>Short</td></tr><tr><td>INTRIGUE WORST</td><td>181</td><td>Long</td></tr><tr><td>INVASION CYCLONE</td><td>97</td><td>Long</td></tr><tr><td>IRON MOON</td><td>46</td><td>Short</td></tr><tr><td>ISHTAR ROCKETEER</td><td>79</td><td>Short</td></tr><tr><td>ISLAND EXORCIST</td><td>84</td><td>Short</td></tr><tr><td>ITALIAN AFRICAN</td><td>174</td><td>Long</td></tr><tr><td>JACKET FRISCO</td><td>181</td><td>Long</td></tr><tr><td>JADE BUNCH</td><td>174</td><td>Long</td></tr><tr><td>JAPANESE RUN</td><td>135</td><td>Long</td></tr><tr><td>JASON TRAP</td><td>130</td><td>Long</td></tr><tr><td>JAWBREAKER BROOKLYN</td><td>118</td><td>Long</td></tr><tr><td>JAWS HARRY</td><td>112</td><td>Long</td></tr><tr><td>JEDI BENEATH</td><td>128</td><td>Long</td></tr><tr><td>JEEPERS WEDDING</td><td>84</td><td>Short</td></tr><tr><td>JEKYLL FROGMEN</td><td>58</td><td>Short</td></tr><tr><td>JEOPARDY ENCINO</td><td>102</td><td>Long</td></tr><tr><td>JERICHO MULAN</td><td>171</td><td>Long</td></tr><tr><td>JERK PAYCHECK</td><td>172</td><td>Long</td></tr><tr><td>JERSEY SASSY</td><td>60</td><td>Short</td></tr><tr><td>JET NEIGHBORS</td><td>59</td><td>Short</td></tr><tr><td>JINGLE SAGEBRUSH</td><td>124</td><td>Long</td></tr><tr><td>JOON NORTHWEST</td><td>105</td><td>Long</td></tr><tr><td>JUGGLER HARDLY</td><td>54</td><td>Short</td></tr><tr><td>JUMANJI BLADE</td><td>121</td><td>Long</td></tr><tr><td>JUMPING WRATH</td><td>74</td><td>Short</td></tr><tr><td>JUNGLE CLOSER</td><td>134</td><td>Long</td></tr><tr><td>KANE EXORCIST</td><td>92</td><td>Long</td></tr><tr><td>KARATE MOON</td><td>120</td><td>Long</td></tr><tr><td>KENTUCKIAN GIANT</td><td>169</td><td>Long</td></tr><tr><td>KICK SAVANNAH</td><td>179</td><td>Long</td></tr><tr><td>KILL BROTHERHOOD</td><td>54</td><td>Short</td></tr><tr><td>KILLER INNOCENT</td><td>161</td><td>Long</td></tr><tr><td>KING EVOLUTION</td><td>184</td><td>Long</td></tr><tr><td>KISS GLORY</td><td>163</td><td>Long</td></tr><tr><td>KISSING DOLLS</td><td>141</td><td>Long</td></tr><tr><td>KNOCK WARLOCK</td><td>71</td><td>Short</td></tr><tr><td>KRAMER CHOCOLATE</td><td>171</td><td>Long</td></tr><tr><td>KWAI HOMEWARD</td><td>46</td><td>Short</td></tr><tr><td>LABYRINTH LEAGUE</td><td>46</td><td>Short</td></tr><tr><td>LADY STAGE</td><td>67</td><td>Short</td></tr><tr><td>LADYBUGS ARMAGEDDON</td><td>113</td><td>Long</td></tr><tr><td>LAMBS CINCINATTI</td><td>144</td><td>Long</td></tr><tr><td>LANGUAGE COWBOY</td><td>78</td><td>Short</td></tr><tr><td>LAWLESS VISION</td><td>181</td><td>Long</td></tr><tr><td>LAWRENCE LOVE</td><td>175</td><td>Long</td></tr><tr><td>LEAGUE HELLFIGHTERS</td><td>110</td><td>Long</td></tr><tr><td>LEATHERNECKS DWARFS</td><td>153</td><td>Long</td></tr><tr><td>LEBOWSKI SOLDIERS</td><td>69</td><td>Short</td></tr><tr><td>LEGALLY SECRETARY</td><td>113</td><td>Long</td></tr><tr><td>LEGEND JEDI</td><td>59</td><td>Short</td></tr><tr><td>LESSON CLEOPATRA</td><td>167</td><td>Long</td></tr><tr><td>LIAISONS SWEET</td><td>140</td><td>Long</td></tr><tr><td>LIBERTY MAGNIFICENT</td><td>138</td><td>Long</td></tr><tr><td>LICENSE WEEKEND</td><td>91</td><td>Long</td></tr><tr><td>LIES TREATMENT</td><td>147</td><td>Long</td></tr><tr><td>LIFE TWISTED</td><td>137</td><td>Long</td></tr><tr><td>LIGHTS DEER</td><td>174</td><td>Long</td></tr><tr><td>LION UNCUT</td><td>50</td><td>Short</td></tr><tr><td>LOATHING LEGALLY</td><td>140</td><td>Long</td></tr><tr><td>LOCK REAR</td><td>120</td><td>Long</td></tr><tr><td>LOLA AGENT</td><td>85</td><td>Short</td></tr><tr><td>LOLITA WORLD</td><td>155</td><td>Long</td></tr><tr><td>LONELY ELEPHANT</td><td>67</td><td>Short</td></tr><tr><td>LORD ARIZONA</td><td>108</td><td>Long</td></tr><tr><td>LOSE INCH</td><td>137</td><td>Long</td></tr><tr><td>LOSER HUSTLER</td><td>80</td><td>Short</td></tr><tr><td>LOST BIRD</td><td>98</td><td>Long</td></tr><tr><td>LOUISIANA HARRY</td><td>70</td><td>Short</td></tr><tr><td>LOVE SUICIDES</td><td>181</td><td>Long</td></tr><tr><td>LOVELY JINGLE</td><td>65</td><td>Short</td></tr><tr><td>LOVER TRUMAN</td><td>75</td><td>Short</td></tr><tr><td>LOVERBOY ATTACKS</td><td>162</td><td>Long</td></tr><tr><td>LUCK OPUS</td><td>152</td><td>Long</td></tr><tr><td>LUCKY FLYING</td><td>97</td><td>Long</td></tr><tr><td>LUKE MUMMY</td><td>74</td><td>Short</td></tr><tr><td>LUST LOCK</td><td>52</td><td>Short</td></tr><tr><td>MADIGAN DORADO</td><td>116</td><td>Long</td></tr><tr><td>MADISON TRAP</td><td>147</td><td>Long</td></tr><tr><td>MADNESS ATTACKS</td><td>178</td><td>Long</td></tr><tr><td>MADRE GABLES</td><td>98</td><td>Long</td></tr><tr><td>MAGIC MALLRATS</td><td>117</td><td>Long</td></tr><tr><td>MAGNIFICENT CHITTY</td><td>53</td><td>Short</td></tr><tr><td>MAGNOLIA FORRESTER</td><td>171</td><td>Long</td></tr><tr><td>MAGUIRE APACHE</td><td>74</td><td>Short</td></tr><tr><td>MAIDEN HOME</td><td>138</td><td>Long</td></tr><tr><td>MAJESTIC FLOATS</td><td>130</td><td>Long</td></tr><tr><td>MAKER GABLES</td><td>136</td><td>Long</td></tr><tr><td>MALKOVICH PET</td><td>159</td><td>Long</td></tr><tr><td>MALLRATS UNITED</td><td>133</td><td>Long</td></tr><tr><td>MALTESE HOPE</td><td>127</td><td>Long</td></tr><tr><td>MANCHURIAN CURTAIN</td><td>177</td><td>Long</td></tr><tr><td>MANNEQUIN WORST</td><td>71</td><td>Short</td></tr><tr><td>MARRIED GO</td><td>114</td><td>Long</td></tr><tr><td>MARS ROMAN</td><td>62</td><td>Short</td></tr><tr><td>MASK PEACH</td><td>123</td><td>Long</td></tr><tr><td>MASKED BUBBLE</td><td>151</td><td>Long</td></tr><tr><td>MASSACRE USUAL</td><td>165</td><td>Long</td></tr><tr><td>MASSAGE IMAGE</td><td>161</td><td>Long</td></tr><tr><td>MATRIX SNOWMAN</td><td>56</td><td>Short</td></tr><tr><td>MAUDE MOD</td><td>72</td><td>Short</td></tr><tr><td>MEET CHOCOLATE</td><td>80</td><td>Short</td></tr><tr><td>MEMENTO ZOOLANDER</td><td>77</td><td>Short</td></tr><tr><td>MENAGERIE RUSHMORE</td><td>147</td><td>Long</td></tr><tr><td>MERMAID INSECTS</td><td>104</td><td>Long</td></tr><tr><td>METAL ARMAGEDDON</td><td>161</td><td>Long</td></tr><tr><td>METROPOLIS COMA</td><td>64</td><td>Short</td></tr><tr><td>MICROCOSMOS PARADISE</td><td>105</td><td>Long</td></tr><tr><td>MIDNIGHT WESTWARD</td><td>86</td><td>Short</td></tr><tr><td>MIDSUMMER GROUNDHOG</td><td>48</td><td>Short</td></tr><tr><td>MIGHTY LUCK</td><td>122</td><td>Long</td></tr><tr><td>MILE MULAN</td><td>64</td><td>Short</td></tr><tr><td>MILLION ACE</td><td>142</td><td>Long</td></tr><tr><td>MINDS TRUMAN</td><td>149</td><td>Long</td></tr><tr><td>MINE TITANS</td><td>166</td><td>Long</td></tr><tr><td>MINORITY KISS</td><td>59</td><td>Short</td></tr><tr><td>MIRACLE VIRTUAL</td><td>162</td><td>Long</td></tr><tr><td>MISSION ZOOLANDER</td><td>164</td><td>Long</td></tr><tr><td>MIXED DOORS</td><td>180</td><td>Long</td></tr><tr><td>MOB DUFFEL</td><td>105</td><td>Long</td></tr><tr><td>MOCKINGBIRD HOLLYWOOD</td><td>60</td><td>Short</td></tr><tr><td>MOD SECRETARY</td><td>77</td><td>Short</td></tr><tr><td>MODEL FISH</td><td>175</td><td>Long</td></tr><tr><td>MODERN DORADO</td><td>74</td><td>Short</td></tr><tr><td>MONEY HAROLD</td><td>135</td><td>Long</td></tr><tr><td>MONSOON CAUSE</td><td>182</td><td>Long</td></tr><tr><td>MONSTER SPARTACUS</td><td>107</td><td>Long</td></tr><tr><td>MONTEREY LABYRINTH</td><td>158</td><td>Long</td></tr><tr><td>MONTEZUMA COMMAND</td><td>126</td><td>Long</td></tr><tr><td>MOON BUNCH</td><td>83</td><td>Short</td></tr><tr><td>MOONSHINE CABIN</td><td>171</td><td>Long</td></tr><tr><td>MOONWALKER FOOL</td><td>184</td><td>Long</td></tr><tr><td>MOSQUITO ARMAGEDDON</td><td>57</td><td>Short</td></tr><tr><td>MOTHER OLEANDER</td><td>103</td><td>Long</td></tr><tr><td>MOTIONS DETAILS</td><td>166</td><td>Long</td></tr><tr><td>MOULIN WAKE</td><td>79</td><td>Short</td></tr><tr><td>MOURNING PURPLE</td><td>146</td><td>Long</td></tr><tr><td>MOVIE SHAKESPEARE</td><td>53</td><td>Short</td></tr><tr><td>MULAN MOON</td><td>160</td><td>Long</td></tr><tr><td>MULHOLLAND BEAST</td><td>157</td><td>Long</td></tr><tr><td>MUMMY CREATURES</td><td>160</td><td>Long</td></tr><tr><td>MUPPET MILE</td><td>50</td><td>Short</td></tr><tr><td>MURDER ANTITRUST</td><td>166</td><td>Long</td></tr><tr><td>MUSCLE BRIGHT</td><td>185</td><td>Long</td></tr><tr><td>MUSIC BOONDOCK</td><td>129</td><td>Long</td></tr><tr><td>MUSKETEERS WAIT</td><td>73</td><td>Short</td></tr><tr><td>MUSSOLINI SPOILERS</td><td>180</td><td>Long</td></tr><tr><td>MYSTIC TRUMAN</td><td>92</td><td>Long</td></tr><tr><td>NAME DETECTIVE</td><td>178</td><td>Long</td></tr><tr><td>NASH CHOCOLAT</td><td>180</td><td>Long</td></tr><tr><td>NATIONAL STORY</td><td>92</td><td>Long</td></tr><tr><td>NATURAL STOCK</td><td>50</td><td>Short</td></tr><tr><td>NECKLACE OUTBREAK</td><td>132</td><td>Long</td></tr><tr><td>NEIGHBORS CHARADE</td><td>161</td><td>Long</td></tr><tr><td>NEMO CAMPUS</td><td>131</td><td>Long</td></tr><tr><td>NETWORK PEAK</td><td>75</td><td>Short</td></tr><tr><td>NEWSIES STORY</td><td>159</td><td>Long</td></tr><tr><td>NEWTON LABYRINTH</td><td>75</td><td>Short</td></tr><tr><td>NIGHTMARE CHILL</td><td>149</td><td>Long</td></tr><tr><td>NONE SPIKING</td><td>83</td><td>Short</td></tr><tr><td>NOON PAPI</td><td>57</td><td>Short</td></tr><tr><td>NORTH TEQUILA</td><td>67</td><td>Short</td></tr><tr><td>NORTHWEST POLISH</td><td>172</td><td>Long</td></tr><tr><td>NOTORIOUS REUNION</td><td>128</td><td>Long</td></tr><tr><td>NOTTING SPEAKEASY</td><td>48</td><td>Short</td></tr><tr><td>NOVOCAINE FLIGHT</td><td>64</td><td>Short</td></tr><tr><td>NUTS TIES</td><td>145</td><td>Long</td></tr><tr><td>OCTOBER SUBMARINE</td><td>54</td><td>Short</td></tr><tr><td>ODDS BOOGIE</td><td>48</td><td>Short</td></tr><tr><td>OKLAHOMA JUMANJI</td><td>58</td><td>Short</td></tr><tr><td>OLEANDER CLUE</td><td>161</td><td>Long</td></tr><tr><td>OPEN AFRICAN</td><td>131</td><td>Long</td></tr><tr><td>OPERATION OPERATION</td><td>156</td><td>Long</td></tr><tr><td>OPPOSITE NECKLACE</td><td>92</td><td>Long</td></tr><tr><td>OPUS ICE</td><td>102</td><td>Long</td></tr><tr><td>ORANGE GRAPES</td><td>76</td><td>Short</td></tr><tr><td>ORDER BETRAYED</td><td>120</td><td>Long</td></tr><tr><td>ORIENT CLOSER</td><td>118</td><td>Long</td></tr><tr><td>OSCAR GOLD</td><td>115</td><td>Long</td></tr><tr><td>OTHERS SOUP</td><td>118</td><td>Long</td></tr><tr><td>OUTBREAK DIVINE</td><td>169</td><td>Long</td></tr><tr><td>OUTFIELD MASSACRE</td><td>129</td><td>Long</td></tr><tr><td>OUTLAW HANKY</td><td>148</td><td>Long</td></tr><tr><td>OZ LIAISONS</td><td>85</td><td>Short</td></tr><tr><td>PACIFIC AMISTAD</td><td>144</td><td>Long</td></tr><tr><td>PACKER MADIGAN</td><td>84</td><td>Short</td></tr><tr><td>PAJAMA JAWBREAKER</td><td>126</td><td>Long</td></tr><tr><td>PANIC CLUB</td><td>102</td><td>Long</td></tr><tr><td>PANKY SUBMARINE</td><td>93</td><td>Long</td></tr><tr><td>PANTHER REDS</td><td>109</td><td>Long</td></tr><tr><td>PAPI NECKLACE</td><td>128</td><td>Long</td></tr><tr><td>PARADISE SABRINA</td><td>48</td><td>Short</td></tr><tr><td>PARIS WEEKEND</td><td>121</td><td>Long</td></tr><tr><td>PARK CITIZEN</td><td>109</td><td>Long</td></tr><tr><td>PARTY KNOCK</td><td>107</td><td>Long</td></tr><tr><td>PAST SUICIDES</td><td>157</td><td>Long</td></tr><tr><td>PATHS CONTROL</td><td>118</td><td>Long</td></tr><tr><td>PATIENT SISTER</td><td>99</td><td>Long</td></tr><tr><td>PATRIOT ROMAN</td><td>65</td><td>Short</td></tr><tr><td>PATTON INTERVIEW</td><td>175</td><td>Long</td></tr><tr><td>PAYCHECK WAIT</td><td>145</td><td>Long</td></tr><tr><td>PEACH INNOCENT</td><td>160</td><td>Long</td></tr><tr><td>PEAK FOREVER</td><td>80</td><td>Short</td></tr><tr><td>PEARL DESTINY</td><td>74</td><td>Short</td></tr><tr><td>PELICAN COMFORTS</td><td>48</td><td>Short</td></tr><tr><td>PERDITION FARGO</td><td>99</td><td>Long</td></tr><tr><td>PERFECT GROOVE</td><td>82</td><td>Short</td></tr><tr><td>PERSONAL LADYBUGS</td><td>118</td><td>Long</td></tr><tr><td>PET HAUNTING</td><td>99</td><td>Long</td></tr><tr><td>PHANTOM GLORY</td><td>60</td><td>Short</td></tr><tr><td>PHILADELPHIA WIFE</td><td>137</td><td>Long</td></tr><tr><td>PIANIST OUTFIELD</td><td>136</td><td>Long</td></tr><tr><td>PICKUP DRIVING</td><td>77</td><td>Short</td></tr><tr><td>PILOT HOOSIERS</td><td>50</td><td>Short</td></tr><tr><td>PINOCCHIO SIMON</td><td>103</td><td>Long</td></tr><tr><td>PIRATES ROXANNE</td><td>100</td><td>Long</td></tr><tr><td>PITTSBURGH HUNCHBACK</td><td>134</td><td>Long</td></tr><tr><td>PITY BOUND</td><td>60</td><td>Short</td></tr><tr><td>PIZZA JUMANJI</td><td>173</td><td>Long</td></tr><tr><td>PLATOON INSTINCT</td><td>132</td><td>Long</td></tr><tr><td>PLUTO OLEANDER</td><td>84</td><td>Short</td></tr><tr><td>POCUS PULP</td><td>138</td><td>Long</td></tr><tr><td>POLISH BROOKLYN</td><td>61</td><td>Short</td></tr><tr><td>POLLOCK DELIVERANCE</td><td>137</td><td>Long</td></tr><tr><td>POND SEATTLE</td><td>185</td><td>Long</td></tr><tr><td>POSEIDON FOREVER</td><td>159</td><td>Long</td></tr><tr><td>POTLUCK MIXED</td><td>179</td><td>Long</td></tr><tr><td>POTTER CONNECTICUT</td><td>115</td><td>Long</td></tr><tr><td>PREJUDICE OLEANDER</td><td>98</td><td>Long</td></tr><tr><td>PRESIDENT BANG</td><td>144</td><td>Long</td></tr><tr><td>PRIDE ALAMO</td><td>114</td><td>Long</td></tr><tr><td>PRIMARY GLASS</td><td>53</td><td>Short</td></tr><tr><td>PRINCESS GIANT</td><td>71</td><td>Short</td></tr><tr><td>PRIVATE DROP</td><td>106</td><td>Long</td></tr><tr><td>PRIX UNDEFEATED</td><td>115</td><td>Long</td></tr><tr><td>PSYCHO SHRUNK</td><td>155</td><td>Long</td></tr><tr><td>PULP BEVERLY</td><td>89</td><td>Short</td></tr><tr><td>PUNK DIVORCE</td><td>100</td><td>Long</td></tr><tr><td>PURE RUNNER</td><td>121</td><td>Long</td></tr><tr><td>PURPLE MOVIE</td><td>88</td><td>Short</td></tr><tr><td>QUEEN LUKE</td><td>163</td><td>Long</td></tr><tr><td>QUEST MUSSOLINI</td><td>177</td><td>Long</td></tr><tr><td>QUILLS BULL</td><td>112</td><td>Long</td></tr><tr><td>RACER EGG</td><td>147</td><td>Long</td></tr><tr><td>RAGE GAMES</td><td>120</td><td>Long</td></tr><tr><td>RAGING AIRPLANE</td><td>154</td><td>Long</td></tr><tr><td>RAIDERS ANTITRUST</td><td>82</td><td>Short</td></tr><tr><td>RAINBOW SHOCK</td><td>74</td><td>Short</td></tr><tr><td>RANDOM GO</td><td>73</td><td>Short</td></tr><tr><td>RANGE MOONWALKER</td><td>147</td><td>Long</td></tr><tr><td>REAP UNFAITHFUL</td><td>136</td><td>Long</td></tr><tr><td>REAR TRADING</td><td>97</td><td>Long</td></tr><tr><td>REBEL AIRPORT</td><td>73</td><td>Short</td></tr><tr><td>RECORDS ZORRO</td><td>182</td><td>Long</td></tr><tr><td>REDEMPTION COMFORTS</td><td>179</td><td>Long</td></tr><tr><td>REDS POCUS</td><td>182</td><td>Long</td></tr><tr><td>REEF SALUTE</td><td>123</td><td>Long</td></tr><tr><td>REIGN GENTLEMEN</td><td>82</td><td>Short</td></tr><tr><td>REMEMBER DIARY</td><td>110</td><td>Long</td></tr><tr><td>REQUIEM TYCOON</td><td>167</td><td>Long</td></tr><tr><td>RESERVOIR ADAPTATION</td><td>61</td><td>Short</td></tr><tr><td>RESURRECTION SILVERADO</td><td>117</td><td>Long</td></tr><tr><td>REUNION WITCHES</td><td>63</td><td>Short</td></tr><tr><td>RIDER CADDYSHACK</td><td>177</td><td>Long</td></tr><tr><td>RIDGEMONT SUBMARINE</td><td>46</td><td>Short</td></tr><tr><td>RIGHT CRANES</td><td>153</td><td>Long</td></tr><tr><td>RINGS HEARTBREAKERS</td><td>58</td><td>Short</td></tr><tr><td>RIVER OUTLAW</td><td>149</td><td>Long</td></tr><tr><td>ROAD ROXANNE</td><td>158</td><td>Long</td></tr><tr><td>ROBBERS JOON</td><td>102</td><td>Long</td></tr><tr><td>ROBBERY BRIGHT</td><td>134</td><td>Long</td></tr><tr><td>ROCK INSTINCT</td><td>102</td><td>Long</td></tr><tr><td>ROCKETEER MOTHER</td><td>178</td><td>Long</td></tr><tr><td>ROCKY WAR</td><td>145</td><td>Long</td></tr><tr><td>ROLLERCOASTER BRINGING</td><td>153</td><td>Long</td></tr><tr><td>ROMAN PUNK</td><td>81</td><td>Short</td></tr><tr><td>ROOF CHAMPION</td><td>101</td><td>Long</td></tr><tr><td>ROOM ROMAN</td><td>60</td><td>Short</td></tr><tr><td>ROOTS REMEMBER</td><td>89</td><td>Short</td></tr><tr><td>ROSES TREASURE</td><td>162</td><td>Long</td></tr><tr><td>ROUGE SQUAD</td><td>118</td><td>Long</td></tr><tr><td>ROXANNE REBEL</td><td>171</td><td>Long</td></tr><tr><td>RUGRATS SHAKESPEARE</td><td>109</td><td>Long</td></tr><tr><td>RULES HUMAN</td><td>153</td><td>Long</td></tr><tr><td>RUN PACIFIC</td><td>145</td><td>Long</td></tr><tr><td>RUNAWAY TENENBAUMS</td><td>181</td><td>Long</td></tr><tr><td>RUNNER MADIGAN</td><td>101</td><td>Long</td></tr><tr><td>RUSH GOODFELLAS</td><td>48</td><td>Short</td></tr><tr><td>RUSHMORE MERMAID</td><td>150</td><td>Long</td></tr><tr><td>SABRINA MIDNIGHT</td><td>99</td><td>Long</td></tr><tr><td>SADDLE ANTITRUST</td><td>80</td><td>Short</td></tr><tr><td>SAGEBRUSH CLUELESS</td><td>106</td><td>Long</td></tr><tr><td>SAINTS BRIDE</td><td>125</td><td>Long</td></tr><tr><td>SALUTE APOLLO</td><td>73</td><td>Short</td></tr><tr><td>SAMURAI LION</td><td>110</td><td>Long</td></tr><tr><td>SANTA PARIS</td><td>154</td><td>Long</td></tr><tr><td>SASSY PACKER</td><td>154</td><td>Long</td></tr><tr><td>SATISFACTION CONFIDENTIAL</td><td>75</td><td>Short</td></tr><tr><td>SATURDAY LAMBS</td><td>150</td><td>Long</td></tr><tr><td>SATURN NAME</td><td>182</td><td>Long</td></tr><tr><td>SAVANNAH TOWN</td><td>84</td><td>Short</td></tr><tr><td>SCALAWAG DUCK</td><td>183</td><td>Long</td></tr><tr><td>SCARFACE BANG</td><td>102</td><td>Long</td></tr><tr><td>SCHOOL JACKET</td><td>151</td><td>Long</td></tr><tr><td>SCISSORHANDS SLUMS</td><td>147</td><td>Long</td></tr><tr><td>SCORPION APOLLO</td><td>137</td><td>Long</td></tr><tr><td>SEA VIRGIN</td><td>80</td><td>Short</td></tr><tr><td>SEABISCUIT PUNK</td><td>112</td><td>Long</td></tr><tr><td>SEARCHERS WAIT</td><td>182</td><td>Long</td></tr><tr><td>SEATTLE EXPECATIONS</td><td>110</td><td>Long</td></tr><tr><td>SECRET GROUNDHOG</td><td>90</td><td>Long</td></tr><tr><td>SECRETARY ROUGE</td><td>158</td><td>Long</td></tr><tr><td>SECRETS PARADISE</td><td>109</td><td>Long</td></tr><tr><td>SENSE GREEK</td><td>54</td><td>Short</td></tr><tr><td>SENSIBILITY REAR</td><td>98</td><td>Long</td></tr><tr><td>SEVEN SWARM</td><td>127</td><td>Long</td></tr><tr><td>SHAKESPEARE SADDLE</td><td>60</td><td>Short</td></tr><tr><td>SHANE DARKNESS</td><td>93</td><td>Long</td></tr><tr><td>SHANGHAI TYCOON</td><td>47</td><td>Short</td></tr><tr><td>SHAWSHANK BUBBLE</td><td>80</td><td>Short</td></tr><tr><td>SHEPHERD MIDSUMMER</td><td>113</td><td>Long</td></tr><tr><td>SHINING ROSES</td><td>125</td><td>Long</td></tr><tr><td>SHIP WONDERLAND</td><td>104</td><td>Long</td></tr><tr><td>SHOCK CABIN</td><td>79</td><td>Short</td></tr><tr><td>SHOOTIST SUPERFLY</td><td>67</td><td>Short</td></tr><tr><td>SHOW LORD</td><td>167</td><td>Long</td></tr><tr><td>SHREK LICENSE</td><td>154</td><td>Long</td></tr><tr><td>SHRUNK DIVINE</td><td>139</td><td>Long</td></tr><tr><td>SIDE ARK</td><td>52</td><td>Short</td></tr><tr><td>SIEGE MADRE</td><td>111</td><td>Long</td></tr><tr><td>SIERRA DIVIDE</td><td>135</td><td>Long</td></tr><tr><td>SILENCE KANE</td><td>67</td><td>Short</td></tr><tr><td>SILVERADO GOLDFINGER</td><td>74</td><td>Short</td></tr><tr><td>SIMON NORTH</td><td>51</td><td>Short</td></tr><tr><td>SINNERS ATLANTIS</td><td>126</td><td>Long</td></tr><tr><td>SISTER FREDDY</td><td>152</td><td>Long</td></tr><tr><td>SKY MIRACLE</td><td>132</td><td>Long</td></tr><tr><td>SLACKER LIAISONS</td><td>179</td><td>Long</td></tr><tr><td>SLEEPING SUSPECTS</td><td>129</td><td>Long</td></tr><tr><td>SLEEPLESS MONSOON</td><td>64</td><td>Short</td></tr><tr><td>SLEEPY JAPANESE</td><td>137</td><td>Long</td></tr><tr><td>SLEUTH ORIENT</td><td>87</td><td>Short</td></tr><tr><td>SLING LUKE</td><td>84</td><td>Short</td></tr><tr><td>SLIPPER FIDELITY</td><td>156</td><td>Long</td></tr><tr><td>SLUMS DUCK</td><td>147</td><td>Long</td></tr><tr><td>SMILE EARRING</td><td>60</td><td>Short</td></tr><tr><td>SMOKING BARBARELLA</td><td>50</td><td>Short</td></tr><tr><td>SMOOCHY CONTROL</td><td>184</td><td>Long</td></tr><tr><td>SNATCH SLIPPER</td><td>110</td><td>Long</td></tr><tr><td>SNATCHERS MONTEZUMA</td><td>74</td><td>Short</td></tr><tr><td>SNOWMAN ROLLERCOASTER</td><td>62</td><td>Short</td></tr><tr><td>SOLDIERS EVOLUTION</td><td>185</td><td>Long</td></tr><tr><td>SOMETHING DUCK</td><td>180</td><td>Long</td></tr><tr><td>SONG HEDWIG</td><td>165</td><td>Long</td></tr><tr><td>SONS INTERVIEW</td><td>184</td><td>Long</td></tr><tr><td>SORORITY QUEEN</td><td>184</td><td>Long</td></tr><tr><td>SOUP WISDOM</td><td>169</td><td>Long</td></tr><tr><td>SOUTH WAIT</td><td>143</td><td>Long</td></tr><tr><td>SPARTACUS CHEAPER</td><td>52</td><td>Short</td></tr><tr><td>SPEAKEASY DATE</td><td>165</td><td>Long</td></tr><tr><td>SPEED SUIT</td><td>124</td><td>Long</td></tr><tr><td>SPICE SORORITY</td><td>141</td><td>Long</td></tr><tr><td>SPIKING ELEMENT</td><td>79</td><td>Short</td></tr><tr><td>SPINAL ROCKY</td><td>138</td><td>Long</td></tr><tr><td>SPIRIT FLINTSTONES</td><td>149</td><td>Long</td></tr><tr><td>SPIRITED CASUALTIES</td><td>138</td><td>Long</td></tr><tr><td>SPLASH GUMP</td><td>175</td><td>Long</td></tr><tr><td>SPLENDOR PATTON</td><td>134</td><td>Long</td></tr><tr><td>SPOILERS HELLFIGHTERS</td><td>151</td><td>Long</td></tr><tr><td>SPY MILE</td><td>112</td><td>Long</td></tr><tr><td>SQUAD FISH</td><td>136</td><td>Long</td></tr><tr><td>STAGE WORLD</td><td>85</td><td>Short</td></tr><tr><td>STAGECOACH ARMAGEDDON</td><td>112</td><td>Long</td></tr><tr><td>STALLION SUNDANCE</td><td>130</td><td>Long</td></tr><tr><td>STAMPEDE DISTURBING</td><td>75</td><td>Short</td></tr><tr><td>STAR OPERATION</td><td>181</td><td>Long</td></tr><tr><td>STATE WASTELAND</td><td>113</td><td>Long</td></tr><tr><td>STEEL SANTA</td><td>143</td><td>Long</td></tr><tr><td>STEERS ARMAGEDDON</td><td>140</td><td>Long</td></tr><tr><td>STEPMOM DREAM</td><td>48</td><td>Short</td></tr><tr><td>STING PERSONAL</td><td>93</td><td>Long</td></tr><tr><td>STOCK GLASS</td><td>160</td><td>Long</td></tr><tr><td>STONE FIRE</td><td>94</td><td>Long</td></tr><tr><td>STORM HAPPINESS</td><td>57</td><td>Short</td></tr><tr><td>STORY SIDE</td><td>163</td><td>Long</td></tr><tr><td>STRAIGHT HOURS</td><td>151</td><td>Long</td></tr><tr><td>STRANGELOVE DESIRE</td><td>103</td><td>Long</td></tr><tr><td>STRANGER STRANGERS</td><td>139</td><td>Long</td></tr><tr><td>STRANGERS GRAFFITI</td><td>119</td><td>Long</td></tr><tr><td>STREAK RIDGEMONT</td><td>132</td><td>Long</td></tr><tr><td>STREETCAR INTENTIONS</td><td>73</td><td>Short</td></tr><tr><td>STRICTLY SCARFACE</td><td>144</td><td>Long</td></tr><tr><td>SUBMARINE BED</td><td>127</td><td>Long</td></tr><tr><td>SUGAR WONKA</td><td>114</td><td>Long</td></tr><tr><td>SUICIDES SILENCE</td><td>93</td><td>Long</td></tr><tr><td>SUIT WALLS</td><td>111</td><td>Long</td></tr><tr><td>SUMMER SCARFACE</td><td>53</td><td>Short</td></tr><tr><td>SUN CONFESSIONS</td><td>141</td><td>Long</td></tr><tr><td>SUNDANCE INVASION</td><td>92</td><td>Long</td></tr><tr><td>SUNRISE LEAGUE</td><td>135</td><td>Long</td></tr><tr><td>SUNSET RACER</td><td>48</td><td>Short</td></tr><tr><td>SUPER WYOMING</td><td>58</td><td>Short</td></tr><tr><td>SUPERFLY TRIP</td><td>114</td><td>Long</td></tr><tr><td>SUSPECTS QUILLS</td><td>47</td><td>Short</td></tr><tr><td>SWARM GOLD</td><td>123</td><td>Long</td></tr><tr><td>SWEDEN SHINING</td><td>176</td><td>Long</td></tr><tr><td>SWEET BROTHERHOOD</td><td>185</td><td>Long</td></tr><tr><td>SWEETHEARTS SUSPECTS</td><td>108</td><td>Long</td></tr><tr><td>TADPOLE PARK</td><td>155</td><td>Long</td></tr><tr><td>TALENTED HOMICIDE</td><td>173</td><td>Long</td></tr><tr><td>TARZAN VIDEOTAPE</td><td>91</td><td>Long</td></tr><tr><td>TAXI KICK</td><td>64</td><td>Short</td></tr><tr><td>TEEN APOLLO</td><td>74</td><td>Short</td></tr><tr><td>TELEGRAPH VOYAGE</td><td>148</td><td>Long</td></tr><tr><td>TELEMARK HEARTBREAKERS</td><td>152</td><td>Long</td></tr><tr><td>TEMPLE ATTRACTION</td><td>71</td><td>Short</td></tr><tr><td>TENENBAUMS COMMAND</td><td>99</td><td>Long</td></tr><tr><td>TEQUILA PAST</td><td>53</td><td>Short</td></tr><tr><td>TERMINATOR CLUB</td><td>88</td><td>Short</td></tr><tr><td>TEXAS WATCH</td><td>179</td><td>Long</td></tr><tr><td>THEORY MERMAID</td><td>184</td><td>Long</td></tr><tr><td>THIEF PELICAN</td><td>135</td><td>Long</td></tr><tr><td>THIN SAGEBRUSH</td><td>53</td><td>Short</td></tr><tr><td>TIES HUNGER</td><td>111</td><td>Long</td></tr><tr><td>TIGHTS DAWN</td><td>172</td><td>Long</td></tr><tr><td>TIMBERLAND SKY</td><td>69</td><td>Short</td></tr><tr><td>TITANIC BOONDOCK</td><td>104</td><td>Long</td></tr><tr><td>TITANS JERK</td><td>91</td><td>Long</td></tr><tr><td>TOMATOES HELLFIGHTERS</td><td>68</td><td>Short</td></tr><tr><td>TOMORROW HUSTLER</td><td>142</td><td>Long</td></tr><tr><td>TOOTSIE PILOT</td><td>157</td><td>Long</td></tr><tr><td>TORQUE BOUND</td><td>179</td><td>Long</td></tr><tr><td>TOURIST PELICAN</td><td>152</td><td>Long</td></tr><tr><td>TOWERS HURRICANE</td><td>144</td><td>Long</td></tr><tr><td>TOWN ARK</td><td>136</td><td>Long</td></tr><tr><td>TRACY CIDER</td><td>142</td><td>Long</td></tr><tr><td>TRADING PINOCCHIO</td><td>170</td><td>Long</td></tr><tr><td>TRAFFIC HOBBIT</td><td>139</td><td>Long</td></tr><tr><td>TRAIN BUNCH</td><td>71</td><td>Short</td></tr><tr><td>TRAINSPOTTING STRANGERS</td><td>132</td><td>Long</td></tr><tr><td>TRAMP OTHERS</td><td>171</td><td>Long</td></tr><tr><td>TRANSLATION SUMMER</td><td>168</td><td>Long</td></tr><tr><td>TRAP GUYS</td><td>110</td><td>Long</td></tr><tr><td>TREASURE COMMAND</td><td>102</td><td>Long</td></tr><tr><td>TREATMENT JEKYLL</td><td>87</td><td>Short</td></tr><tr><td>TRIP NEWTON</td><td>64</td><td>Short</td></tr><tr><td>TROJAN TOMORROW</td><td>52</td><td>Short</td></tr><tr><td>TROOPERS METAL</td><td>115</td><td>Long</td></tr><tr><td>TROUBLE DATE</td><td>61</td><td>Short</td></tr><tr><td>TRUMAN CRAZY</td><td>92</td><td>Long</td></tr><tr><td>TURN STAR</td><td>80</td><td>Short</td></tr><tr><td>TUXEDO MILE</td><td>152</td><td>Long</td></tr><tr><td>TWISTED PIRATES</td><td>152</td><td>Long</td></tr><tr><td>TYCOON GATHERING</td><td>82</td><td>Short</td></tr><tr><td>UNBREAKABLE KARATE</td><td>62</td><td>Short</td></tr><tr><td>UNCUT SUICIDES</td><td>172</td><td>Long</td></tr><tr><td>UNDEFEATED DALMATIONS</td><td>107</td><td>Long</td></tr><tr><td>UNFAITHFUL KILL</td><td>78</td><td>Short</td></tr><tr><td>UNFORGIVEN ZOOLANDER</td><td>129</td><td>Long</td></tr><tr><td>UNITED PILOT</td><td>164</td><td>Long</td></tr><tr><td>UNTOUCHABLES SUNRISE</td><td>120</td><td>Long</td></tr><tr><td>UPRISING UPTOWN</td><td>174</td><td>Long</td></tr><tr><td>UPTOWN YOUNG</td><td>84</td><td>Short</td></tr><tr><td>USUAL UNTOUCHABLES</td><td>128</td><td>Long</td></tr><tr><td>VACATION BOONDOCK</td><td>145</td><td>Long</td></tr><tr><td>VALENTINE VANISHING</td><td>48</td><td>Short</td></tr><tr><td>VALLEY PACKER</td><td>73</td><td>Short</td></tr><tr><td>VAMPIRE WHALE</td><td>126</td><td>Long</td></tr><tr><td>VANILLA DAY</td><td>122</td><td>Long</td></tr><tr><td>VANISHED GARDEN</td><td>142</td><td>Long</td></tr><tr><td>VANISHING ROCKY</td><td>123</td><td>Long</td></tr><tr><td>VARSITY TRIP</td><td>85</td><td>Short</td></tr><tr><td>VELVET TERMINATOR</td><td>173</td><td>Long</td></tr><tr><td>VERTIGO NORTHWEST</td><td>90</td><td>Long</td></tr><tr><td>VICTORY ACADEMY</td><td>64</td><td>Short</td></tr><tr><td>VIDEOTAPE ARSENIC</td><td>145</td><td>Long</td></tr><tr><td>VIETNAM SMOOCHY</td><td>174</td><td>Long</td></tr><tr><td>VILLAIN DESPERATE</td><td>76</td><td>Short</td></tr><tr><td>VIRGIN DAISY</td><td>179</td><td>Long</td></tr><tr><td>VIRGINIAN PLUTO</td><td>164</td><td>Long</td></tr><tr><td>VIRTUAL SPOILERS</td><td>144</td><td>Long</td></tr><tr><td>VISION TORQUE</td><td>59</td><td>Short</td></tr><tr><td>VOICE PEACH</td><td>139</td><td>Long</td></tr><tr><td>VOLCANO TEXAS</td><td>157</td><td>Long</td></tr><tr><td>VOLUME HOUSE</td><td>132</td><td>Long</td></tr><tr><td>VOYAGE LEGALLY</td><td>78</td><td>Short</td></tr><tr><td>WAGON JAWS</td><td>152</td><td>Long</td></tr><tr><td>WAIT CIDER</td><td>112</td><td>Long</td></tr><tr><td>WAKE JAWS</td><td>73</td><td>Short</td></tr><tr><td>WALLS ARTIST</td><td>135</td><td>Long</td></tr><tr><td>WANDA CHAMBER</td><td>107</td><td>Long</td></tr><tr><td>WAR NOTTING</td><td>80</td><td>Short</td></tr><tr><td>WARDROBE PHANTOM</td><td>178</td><td>Long</td></tr><tr><td>WARLOCK WEREWOLF</td><td>83</td><td>Short</td></tr><tr><td>WARS PLUTO</td><td>128</td><td>Long</td></tr><tr><td>WASH HEAVENLY</td><td>161</td><td>Long</td></tr><tr><td>WASTELAND DIVINE</td><td>85</td><td>Short</td></tr><tr><td>WATCH TRACY</td><td>78</td><td>Short</td></tr><tr><td>WATERFRONT DELIVERANCE</td><td>61</td><td>Short</td></tr><tr><td>WATERSHIP FRONTIER</td><td>112</td><td>Long</td></tr><tr><td>WEDDING APOLLO</td><td>70</td><td>Short</td></tr><tr><td>WEEKEND PERSONAL</td><td>134</td><td>Long</td></tr><tr><td>WEREWOLF LOLA</td><td>79</td><td>Short</td></tr><tr><td>WEST LION</td><td>159</td><td>Long</td></tr><tr><td>WESTWARD SEABISCUIT</td><td>52</td><td>Short</td></tr><tr><td>WHALE BIKINI</td><td>109</td><td>Long</td></tr><tr><td>WHISPERER GIANT</td><td>59</td><td>Short</td></tr><tr><td>WIFE TURN</td><td>183</td><td>Long</td></tr><tr><td>WILD APOLLO</td><td>181</td><td>Long</td></tr><tr><td>WILLOW TRACY</td><td>137</td><td>Long</td></tr><tr><td>WIND PHANTOM</td><td>111</td><td>Long</td></tr><tr><td>WINDOW SIDE</td><td>85</td><td>Short</td></tr><tr><td>WISDOM WORKER</td><td>98</td><td>Long</td></tr><tr><td>WITCHES PANIC</td><td>100</td><td>Long</td></tr><tr><td>WIZARD COLDBLOODED</td><td>75</td><td>Short</td></tr><tr><td>WOLVES DESIRE</td><td>55</td><td>Short</td></tr><tr><td>WOMEN DORADO</td><td>126</td><td>Long</td></tr><tr><td>WON DARES</td><td>105</td><td>Long</td></tr><tr><td>WONDERFUL DROP</td><td>126</td><td>Long</td></tr><tr><td>WONDERLAND CHRISTMAS</td><td>111</td><td>Long</td></tr><tr><td>WONKA SEA</td><td>85</td><td>Short</td></tr><tr><td>WORDS HUNTER</td><td>116</td><td>Long</td></tr><tr><td>WORKER TARZAN</td><td>139</td><td>Long</td></tr><tr><td>WORKING MICROCOSMOS</td><td>74</td><td>Short</td></tr><tr><td>WORLD LEATHERNECKS</td><td>171</td><td>Long</td></tr><tr><td>WORST BANGER</td><td>185</td><td>Long</td></tr><tr><td>WRATH MILE</td><td>176</td><td>Long</td></tr><tr><td>WRONG BEHAVIOR</td><td>178</td><td>Long</td></tr><tr><td>WYOMING STORM</td><td>100</td><td>Long</td></tr><tr><td>YENTL IDAHO</td><td>86</td><td>Short</td></tr><tr><td>YOUNG LANGUAGE</td><td>183</td><td>Long</td></tr><tr><td>YOUTH KICK</td><td>179</td><td>Long</td></tr><tr><td>ZHIVAGO CORE</td><td>105</td><td>Long</td></tr><tr><td>ZOOLANDER FICTION</td><td>101</td><td>Long</td></tr><tr><td>ZORRO ARK</td><td>50</td><td>Short</td></tr></table>"
                    },
                    "metadata": {}
                }
            ],
            "execution_count": 19
        },
        {
            "cell_type": "markdown",
            "source": [
                "## if elif - match - switch\n",
                "\n",
                "CASE WHEN THEN END"
            ],
            "metadata": {
                "language": "sql",
                "azdata_cell_guid": "af4f75f1-209a-4061-9b7c-82b34d5ec675"
            },
            "attachments": {}
        },
        {
            "cell_type": "code",
            "source": [
                "SELECT\r\n",
                "    title,\r\n",
                "    length,\r\n",
                "    CASE\r\n",
                "        WHEN length <=60 THEN 'short movie'\r\n",
                "        WHEN length <=90 THEN 'normal movie'\r\n",
                "        WHEN length <=120 THEN 'long movie'\r\n",
                "        ELSE 'extra long movie'\r\n",
                "    END as movie_length\r\n",
                "    FROM \r\n",
                "        film\r\n",
                "    ORDER BY\r\n",
                "        movie_length DESC;\r\n",
                ""
            ],
            "metadata": {
                "language": "sql",
                "azdata_cell_guid": "513ef0ba-5372-422e-b0c9-eeba20ceee6c",
                "tags": []
            },
            "outputs": [
                {
                    "output_type": "display_data",
                    "data": {
                        "text/html": "(1000 row(s) affected)"
                    },
                    "metadata": {}
                },
                {
                    "output_type": "display_data",
                    "data": {
                        "text/html": "Total execution time: 00:00:01.015"
                    },
                    "metadata": {}
                },
                {
                    "output_type": "execute_result",
                    "execution_count": 45,
                    "data": {
                        "application/vnd.dataresource+json": {
                            "schema": {
                                "fields": [
                                    {
                                        "name": "title"
                                    },
                                    {
                                        "name": "length"
                                    },
                                    {
                                        "name": "movie_length"
                                    }
                                ]
                            },
                            "data": [
                                {
                                    "title": "MUPPET MILE",
                                    "length": "50",
                                    "movie_length": "short movie"
                                },
                                {
                                    "title": "ACE GOLDFINGER",
                                    "length": "48",
                                    "movie_length": "short movie"
                                },
                                {
                                    "title": "ADAPTATION HOLES",
                                    "length": "50",
                                    "movie_length": "short movie"
                                },
                                {
                                    "title": "CROSSING DIVORCE",
                                    "length": "50",
                                    "movie_length": "short movie"
                                },
                                {
                                    "title": "SIDE ARK",
                                    "length": "52",
                                    "movie_length": "short movie"
                                },
                                {
                                    "title": "SHANGHAI TYCOON",
                                    "length": "47",
                                    "movie_length": "short movie"
                                },
                                {
                                    "title": "SHAKESPEARE SADDLE",
                                    "length": "60",
                                    "movie_length": "short movie"
                                },
                                {
                                    "title": "AIRPORT POLLOCK",
                                    "length": "54",
                                    "movie_length": "short movie"
                                },
                                {
                                    "title": "CABIN FLASH",
                                    "length": "53",
                                    "movie_length": "short movie"
                                },
                                {
                                    "title": "CADDYSHACK JEDI",
                                    "length": "52",
                                    "movie_length": "short movie"
                                },
                                {
                                    "title": "ENGLISH BULWORTH",
                                    "length": "51",
                                    "movie_length": "short movie"
                                },
                                {
                                    "title": "HARPER DYING",
                                    "length": "52",
                                    "movie_length": "short movie"
                                },
                                {
                                    "title": "MOVIE SHAKESPEARE",
                                    "length": "53",
                                    "movie_length": "short movie"
                                },
                                {
                                    "title": "SENSE GREEK",
                                    "length": "54",
                                    "movie_length": "short movie"
                                },
                                {
                                    "title": "ALIEN CENTER",
                                    "length": "46",
                                    "movie_length": "short movie"
                                },
                                {
                                    "title": "GO PURPLE",
                                    "length": "54",
                                    "movie_length": "short movie"
                                },
                                {
                                    "title": "CUPBOARD SINNERS",
                                    "length": "56",
                                    "movie_length": "short movie"
                                },
                                {
                                    "title": "ALTER VICTORY",
                                    "length": "57",
                                    "movie_length": "short movie"
                                },
                                {
                                    "title": "MOSQUITO ARMAGEDDON",
                                    "length": "57",
                                    "movie_length": "short movie"
                                },
                                {
                                    "title": "RUSH GOODFELLAS",
                                    "length": "48",
                                    "movie_length": "short movie"
                                },
                                {
                                    "title": "ZORRO ARK",
                                    "length": "50",
                                    "movie_length": "short movie"
                                },
                                {
                                    "title": "GROSSE WONDERFUL",
                                    "length": "49",
                                    "movie_length": "short movie"
                                },
                                {
                                    "title": "ROOM ROMAN",
                                    "length": "60",
                                    "movie_length": "short movie"
                                },
                                {
                                    "title": "DANCES NONE",
                                    "length": "58",
                                    "movie_length": "short movie"
                                },
                                {
                                    "title": "LEGEND JEDI",
                                    "length": "59",
                                    "movie_length": "short movie"
                                },
                                {
                                    "title": "LABYRINTH LEAGUE",
                                    "length": "46",
                                    "movie_length": "short movie"
                                },
                                {
                                    "title": "GUMP DATE",
                                    "length": "53",
                                    "movie_length": "short movie"
                                },
                                {
                                    "title": "SUSPECTS QUILLS",
                                    "length": "47",
                                    "movie_length": "short movie"
                                },
                                {
                                    "title": "EXCITEMENT EVE",
                                    "length": "51",
                                    "movie_length": "short movie"
                                },
                                {
                                    "title": "GOODFELLAS SALUTE",
                                    "length": "56",
                                    "movie_length": "short movie"
                                },
                                {
                                    "title": "RINGS HEARTBREAKERS",
                                    "length": "58",
                                    "movie_length": "short movie"
                                },
                                {
                                    "title": "MOCKINGBIRD HOLLYWOOD",
                                    "length": "60",
                                    "movie_length": "short movie"
                                },
                                {
                                    "title": "HAWK CHILL",
                                    "length": "47",
                                    "movie_length": "short movie"
                                },
                                {
                                    "title": "RIDGEMONT SUBMARINE",
                                    "length": "46",
                                    "movie_length": "short movie"
                                },
                                {
                                    "title": "DAUGHTER MADIGAN",
                                    "length": "59",
                                    "movie_length": "short movie"
                                },
                                {
                                    "title": "DAWN POND",
                                    "length": "57",
                                    "movie_length": "short movie"
                                },
                                {
                                    "title": "HEARTBREAKERS BRIGHT",
                                    "length": "59",
                                    "movie_length": "short movie"
                                },
                                {
                                    "title": "PRIMARY GLASS",
                                    "length": "53",
                                    "movie_length": "short movie"
                                },
                                {
                                    "title": "PITY BOUND",
                                    "length": "60",
                                    "movie_length": "short movie"
                                },
                                {
                                    "title": "HEAVEN FREEDOM",
                                    "length": "48",
                                    "movie_length": "short movie"
                                },
                                {
                                    "title": "HEAVENLY GUN",
                                    "length": "49",
                                    "movie_length": "short movie"
                                },
                                {
                                    "title": "CHAMPION FLATLINERS",
                                    "length": "51",
                                    "movie_length": "short movie"
                                },
                                {
                                    "title": "HURRICANE AFFAIR",
                                    "length": "49",
                                    "movie_length": "short movie"
                                },
                                {
                                    "title": "HOOK CHARIOTS",
                                    "length": "49",
                                    "movie_length": "short movie"
                                },
                                {
                                    "title": "DEEP CRUSADE",
                                    "length": "51",
                                    "movie_length": "short movie"
                                },
                                {
                                    "title": "PILOT HOOSIERS",
                                    "length": "50",
                                    "movie_length": "short movie"
                                },
                                {
                                    "title": "PHANTOM GLORY",
                                    "length": "60",
                                    "movie_length": "short movie"
                                },
                                {
                                    "title": "KWAI HOMEWARD",
                                    "length": "46",
                                    "movie_length": "short movie"
                                },
                                {
                                    "title": "MINORITY KISS",
                                    "length": "59",
                                    "movie_length": "short movie"
                                },
                                {
                                    "title": "FANTASY TROOPERS",
                                    "length": "58",
                                    "movie_length": "short movie"
                                },
                                {
                                    "title": "MIDSUMMER GROUNDHOG",
                                    "length": "48",
                                    "movie_length": "short movie"
                                },
                                {
                                    "title": "FRISCO FORREST",
                                    "length": "51",
                                    "movie_length": "short movie"
                                },
                                {
                                    "title": "MATRIX SNOWMAN",
                                    "length": "56",
                                    "movie_length": "short movie"
                                },
                                {
                                    "title": "DESTINY SATURDAY",
                                    "length": "56",
                                    "movie_length": "short movie"
                                },
                                {
                                    "title": "MAGNIFICENT CHITTY",
                                    "length": "53",
                                    "movie_length": "short movie"
                                },
                                {
                                    "title": "HANOVER GALAXY",
                                    "length": "47",
                                    "movie_length": "short movie"
                                },
                                {
                                    "title": "INTERVIEW LIAISONS",
                                    "length": "59",
                                    "movie_length": "short movie"
                                },
                                {
                                    "title": "LUST LOCK",
                                    "length": "52",
                                    "movie_length": "short movie"
                                },
                                {
                                    "title": "PELICAN COMFORTS",
                                    "length": "48",
                                    "movie_length": "short movie"
                                },
                                {
                                    "title": "JUGGLER HARDLY",
                                    "length": "54",
                                    "movie_length": "short movie"
                                },
                                {
                                    "title": "PARADISE SABRINA",
                                    "length": "48",
                                    "movie_length": "short movie"
                                },
                                {
                                    "title": "WOLVES DESIRE",
                                    "length": "55",
                                    "movie_length": "short movie"
                                },
                                {
                                    "title": "LION UNCUT",
                                    "length": "50",
                                    "movie_length": "short movie"
                                },
                                {
                                    "title": "OKLAHOMA JUMANJI",
                                    "length": "58",
                                    "movie_length": "short movie"
                                },
                                {
                                    "title": "WHISPERER GIANT",
                                    "length": "59",
                                    "movie_length": "short movie"
                                },
                                {
                                    "title": "BENEATH RUSH",
                                    "length": "53",
                                    "movie_length": "short movie"
                                },
                                {
                                    "title": "KILL BROTHERHOOD",
                                    "length": "54",
                                    "movie_length": "short movie"
                                },
                                {
                                    "title": "WESTWARD SEABISCUIT",
                                    "length": "52",
                                    "movie_length": "short movie"
                                },
                                {
                                    "title": "CLOSER BANG",
                                    "length": "58",
                                    "movie_length": "short movie"
                                },
                                {
                                    "title": "HALL CASSIDY",
                                    "length": "51",
                                    "movie_length": "short movie"
                                },
                                {
                                    "title": "ODDS BOOGIE",
                                    "length": "48",
                                    "movie_length": "short movie"
                                },
                                {
                                    "title": "VISION TORQUE",
                                    "length": "59",
                                    "movie_length": "short movie"
                                },
                                {
                                    "title": "DIVORCE SHINING",
                                    "length": "47",
                                    "movie_length": "short movie"
                                },
                                {
                                    "title": "COAST RAINBOW",
                                    "length": "55",
                                    "movie_length": "short movie"
                                },
                                {
                                    "title": "DOCTOR GRAIL",
                                    "length": "57",
                                    "movie_length": "short movie"
                                },
                                {
                                    "title": "VALENTINE VANISHING",
                                    "length": "48",
                                    "movie_length": "short movie"
                                },
                                {
                                    "title": "TROJAN TOMORROW",
                                    "length": "52",
                                    "movie_length": "short movie"
                                },
                                {
                                    "title": "NOON PAPI",
                                    "length": "57",
                                    "movie_length": "short movie"
                                },
                                {
                                    "title": "OCTOBER SUBMARINE",
                                    "length": "54",
                                    "movie_length": "short movie"
                                },
                                {
                                    "title": "JEKYLL FROGMEN",
                                    "length": "58",
                                    "movie_length": "short movie"
                                },
                                {
                                    "title": "THIN SAGEBRUSH",
                                    "length": "53",
                                    "movie_length": "short movie"
                                },
                                {
                                    "title": "COMMANDMENTS EXPRESS",
                                    "length": "59",
                                    "movie_length": "short movie"
                                },
                                {
                                    "title": "BLUES INSTINCT",
                                    "length": "50",
                                    "movie_length": "short movie"
                                },
                                {
                                    "title": "TEQUILA PAST",
                                    "length": "53",
                                    "movie_length": "short movie"
                                },
                                {
                                    "title": "NOTTING SPEAKEASY",
                                    "length": "48",
                                    "movie_length": "short movie"
                                },
                                {
                                    "title": "HALLOWEEN NUTS",
                                    "length": "47",
                                    "movie_length": "short movie"
                                },
                                {
                                    "title": "SUPER WYOMING",
                                    "length": "58",
                                    "movie_length": "short movie"
                                },
                                {
                                    "title": "DOORS PRESIDENT",
                                    "length": "49",
                                    "movie_length": "short movie"
                                },
                                {
                                    "title": "IRON MOON",
                                    "length": "46",
                                    "movie_length": "short movie"
                                },
                                {
                                    "title": "SUNSET RACER",
                                    "length": "48",
                                    "movie_length": "short movie"
                                },
                                {
                                    "title": "SUMMER SCARFACE",
                                    "length": "53",
                                    "movie_length": "short movie"
                                },
                                {
                                    "title": "NATURAL STOCK",
                                    "length": "50",
                                    "movie_length": "short movie"
                                },
                                {
                                    "title": "STORM HAPPINESS",
                                    "length": "57",
                                    "movie_length": "short movie"
                                },
                                {
                                    "title": "STEPMOM DREAM",
                                    "length": "48",
                                    "movie_length": "short movie"
                                },
                                {
                                    "title": "SPARTACUS CHEAPER",
                                    "length": "52",
                                    "movie_length": "short movie"
                                },
                                {
                                    "title": "SMOKING BARBARELLA",
                                    "length": "50",
                                    "movie_length": "short movie"
                                },
                                {
                                    "title": "BRIDE INTRIGUE",
                                    "length": "56",
                                    "movie_length": "short movie"
                                },
                                {
                                    "title": "SMILE EARRING",
                                    "length": "60",
                                    "movie_length": "short movie"
                                },
                                {
                                    "title": "JERSEY SASSY",
                                    "length": "60",
                                    "movie_length": "short movie"
                                },
                                {
                                    "title": "CRANES RESERVOIR",
                                    "length": "57",
                                    "movie_length": "short movie"
                                },
                                {
                                    "title": "JET NEIGHBORS",
                                    "length": "59",
                                    "movie_length": "short movie"
                                },
                                {
                                    "title": "BUBBLE GROSSE",
                                    "length": "60",
                                    "movie_length": "short movie"
                                },
                                {
                                    "title": "DOWNHILL ENOUGH",
                                    "length": "47",
                                    "movie_length": "short movie"
                                },
                                {
                                    "title": "SIMON NORTH",
                                    "length": "51",
                                    "movie_length": "short movie"
                                },
                                {
                                    "title": "ACADEMY DINOSAUR",
                                    "length": "86",
                                    "movie_length": "normal movie"
                                },
                                {
                                    "title": "ROOTS REMEMBER",
                                    "length": "89",
                                    "movie_length": "normal movie"
                                },
                                {
                                    "title": "ENDING CROWDS",
                                    "length": "85",
                                    "movie_length": "normal movie"
                                },
                                {
                                    "title": "ENEMY ODDS",
                                    "length": "77",
                                    "movie_length": "normal movie"
                                },
                                {
                                    "title": "AIRPLANE SIERRA",
                                    "length": "62",
                                    "movie_length": "normal movie"
                                },
                                {
                                    "title": "SADDLE ANTITRUST",
                                    "length": "80",
                                    "movie_length": "normal movie"
                                },
                                {
                                    "title": "ALADDIN CALENDAR",
                                    "length": "63",
                                    "movie_length": "normal movie"
                                },
                                {
                                    "title": "SALUTE APOLLO",
                                    "length": "73",
                                    "movie_length": "normal movie"
                                },
                                {
                                    "title": "SATISFACTION CONFIDENTIAL",
                                    "length": "75",
                                    "movie_length": "normal movie"
                                },
                                {
                                    "title": "SAVANNAH TOWN",
                                    "length": "84",
                                    "movie_length": "normal movie"
                                },
                                {
                                    "title": "ALONE TRIP",
                                    "length": "82",
                                    "movie_length": "normal movie"
                                },
                                {
                                    "title": "SEA VIRGIN",
                                    "length": "80",
                                    "movie_length": "normal movie"
                                },
                                {
                                    "title": "AMELIE HELLFIGHTERS",
                                    "length": "79",
                                    "movie_length": "normal movie"
                                },
                                {
                                    "title": "EVE RESURRECTION",
                                    "length": "66",
                                    "movie_length": "normal movie"
                                },
                                {
                                    "title": "AMISTAD MIDSUMMER",
                                    "length": "85",
                                    "movie_length": "normal movie"
                                },
                                {
                                    "title": "SECRET GROUNDHOG",
                                    "length": "90",
                                    "movie_length": "normal movie"
                                },
                                {
                                    "title": "HAUNTED ANTITRUST",
                                    "length": "76",
                                    "movie_length": "normal movie"
                                },
                                {
                                    "title": "ANGELS LIFE",
                                    "length": "74",
                                    "movie_length": "normal movie"
                                },
                                {
                                    "title": "ANNIE IDENTITY",
                                    "length": "86",
                                    "movie_length": "normal movie"
                                },
                                {
                                    "title": "SHAWSHANK BUBBLE",
                                    "length": "80",
                                    "movie_length": "normal movie"
                                },
                                {
                                    "title": "SHOCK CABIN",
                                    "length": "79",
                                    "movie_length": "normal movie"
                                },
                                {
                                    "title": "ANYTHING SAVANNAH",
                                    "length": "82",
                                    "movie_length": "normal movie"
                                },
                                {
                                    "title": "SHOOTIST SUPERFLY",
                                    "length": "67",
                                    "movie_length": "normal movie"
                                },
                                {
                                    "title": "SILENCE KANE",
                                    "length": "67",
                                    "movie_length": "normal movie"
                                },
                                {
                                    "title": "ARABIA DOGMA",
                                    "length": "62",
                                    "movie_length": "normal movie"
                                },
                                {
                                    "title": "HEAD STRANGER",
                                    "length": "69",
                                    "movie_length": "normal movie"
                                },
                                {
                                    "title": "SILVERADO GOLDFINGER",
                                    "length": "74",
                                    "movie_length": "normal movie"
                                },
                                {
                                    "title": "ARK RIDGEMONT",
                                    "length": "68",
                                    "movie_length": "normal movie"
                                },
                                {
                                    "title": "SLEEPLESS MONSOON",
                                    "length": "64",
                                    "movie_length": "normal movie"
                                },
                                {
                                    "title": "SLEUTH ORIENT",
                                    "length": "87",
                                    "movie_length": "normal movie"
                                },
                                {
                                    "title": "SLING LUKE",
                                    "length": "84",
                                    "movie_length": "normal movie"
                                },
                                {
                                    "title": "SNATCHERS MONTEZUMA",
                                    "length": "74",
                                    "movie_length": "normal movie"
                                },
                                {
                                    "title": "ATTRACTION NEWTON",
                                    "length": "83",
                                    "movie_length": "normal movie"
                                },
                                {
                                    "title": "SNOWMAN ROLLERCOASTER",
                                    "length": "62",
                                    "movie_length": "normal movie"
                                },
                                {
                                    "title": "JEEPERS WEDDING",
                                    "length": "84",
                                    "movie_length": "normal movie"
                                },
                                {
                                    "title": "SPIKING ELEMENT",
                                    "length": "79",
                                    "movie_length": "normal movie"
                                },
                                {
                                    "title": "HELLFIGHTERS SIERRA",
                                    "length": "75",
                                    "movie_length": "normal movie"
                                },
                                {
                                    "title": "BALLOON HOMEWARD",
                                    "length": "75",
                                    "movie_length": "normal movie"
                                },
                                {
                                    "title": "HIGH ENCINO",
                                    "length": "84",
                                    "movie_length": "normal movie"
                                },
                                {
                                    "title": "BANG KWAI",
                                    "length": "87",
                                    "movie_length": "normal movie"
                                },
                                {
                                    "title": "STAGE WORLD",
                                    "length": "85",
                                    "movie_length": "normal movie"
                                },
                                {
                                    "title": "BARBARELLA STREETCAR",
                                    "length": "65",
                                    "movie_length": "normal movie"
                                },
                                {
                                    "title": "STAMPEDE DISTURBING",
                                    "length": "75",
                                    "movie_length": "normal movie"
                                },
                                {
                                    "title": "BASIC EASY",
                                    "length": "90",
                                    "movie_length": "normal movie"
                                },
                                {
                                    "title": "STREETCAR INTENTIONS",
                                    "length": "73",
                                    "movie_length": "normal movie"
                                },
                                {
                                    "title": "FELLOWSHIP AUTUMN",
                                    "length": "77",
                                    "movie_length": "normal movie"
                                },
                                {
                                    "title": "BEAST HUNCHBACK",
                                    "length": "89",
                                    "movie_length": "normal movie"
                                },
                                {
                                    "title": "ROMAN PUNK",
                                    "length": "81",
                                    "movie_length": "normal movie"
                                },
                                {
                                    "title": "TAXI KICK",
                                    "length": "64",
                                    "movie_length": "normal movie"
                                },
                                {
                                    "title": "BEDAZZLED MARRIED",
                                    "length": "73",
                                    "movie_length": "normal movie"
                                },
                                {
                                    "title": "TEEN APOLLO",
                                    "length": "74",
                                    "movie_length": "normal movie"
                                },
                                {
                                    "title": "TEMPLE ATTRACTION",
                                    "length": "71",
                                    "movie_length": "normal movie"
                                },
                                {
                                    "title": "BERETS AGENT",
                                    "length": "77",
                                    "movie_length": "normal movie"
                                },
                                {
                                    "title": "CHANCE RESURRECTION",
                                    "length": "70",
                                    "movie_length": "normal movie"
                                },
                                {
                                    "title": "BEVERLY OUTLAW",
                                    "length": "85",
                                    "movie_length": "normal movie"
                                },
                                {
                                    "title": "FICTION CHRISTMAS",
                                    "length": "72",
                                    "movie_length": "normal movie"
                                },
                                {
                                    "title": "TERMINATOR CLUB",
                                    "length": "88",
                                    "movie_length": "normal movie"
                                },
                                {
                                    "title": "TIMBERLAND SKY",
                                    "length": "69",
                                    "movie_length": "normal movie"
                                },
                                {
                                    "title": "FIDDLER LOST",
                                    "length": "75",
                                    "movie_length": "normal movie"
                                },
                                {
                                    "title": "TOMATOES HELLFIGHTERS",
                                    "length": "68",
                                    "movie_length": "normal movie"
                                },
                                {
                                    "title": "TRAIN BUNCH",
                                    "length": "71",
                                    "movie_length": "normal movie"
                                },
                                {
                                    "title": "TREATMENT JEKYLL",
                                    "length": "87",
                                    "movie_length": "normal movie"
                                },
                                {
                                    "title": "BIRDS PERDITION",
                                    "length": "61",
                                    "movie_length": "normal movie"
                                },
                                {
                                    "title": "BLACKOUT PRIVATE",
                                    "length": "85",
                                    "movie_length": "normal movie"
                                },
                                {
                                    "title": "TRIP NEWTON",
                                    "length": "64",
                                    "movie_length": "normal movie"
                                },
                                {
                                    "title": "TROUBLE DATE",
                                    "length": "61",
                                    "movie_length": "normal movie"
                                },
                                {
                                    "title": "BLOOD ARGONAUTS",
                                    "length": "71",
                                    "movie_length": "normal movie"
                                },
                                {
                                    "title": "TURN STAR",
                                    "length": "80",
                                    "movie_length": "normal movie"
                                },
                                {
                                    "title": "BONNIE HOLOCAUST",
                                    "length": "63",
                                    "movie_length": "normal movie"
                                },
                                {
                                    "title": "INFORMER DOUBLE",
                                    "length": "74",
                                    "movie_length": "normal movie"
                                },
                                {
                                    "title": "BOONDOCK BALLROOM",
                                    "length": "76",
                                    "movie_length": "normal movie"
                                },
                                {
                                    "title": "TYCOON GATHERING",
                                    "length": "82",
                                    "movie_length": "normal movie"
                                },
                                {
                                    "title": "BORROWERS BEDAZZLED",
                                    "length": "63",
                                    "movie_length": "normal movie"
                                },
                                {
                                    "title": "BOULEVARD MOB",
                                    "length": "63",
                                    "movie_length": "normal movie"
                                },
                                {
                                    "title": "UNBREAKABLE KARATE",
                                    "length": "62",
                                    "movie_length": "normal movie"
                                },
                                {
                                    "title": "BOWFINGER GABLES",
                                    "length": "72",
                                    "movie_length": "normal movie"
                                },
                                {
                                    "title": "UNFAITHFUL KILL",
                                    "length": "78",
                                    "movie_length": "normal movie"
                                },
                                {
                                    "title": "HOLIDAY GAMES",
                                    "length": "78",
                                    "movie_length": "normal movie"
                                },
                                {
                                    "title": "FLAMINGOS CONNECTICUT",
                                    "length": "80",
                                    "movie_length": "normal movie"
                                },
                                {
                                    "title": "JUMPING WRATH",
                                    "length": "74",
                                    "movie_length": "normal movie"
                                },
                                {
                                    "title": "BRIGHT ENCOUNTERS",
                                    "length": "73",
                                    "movie_length": "normal movie"
                                },
                                {
                                    "title": "UPTOWN YOUNG",
                                    "length": "84",
                                    "movie_length": "normal movie"
                                },
                                {
                                    "title": "HOLLYWOOD ANONYMOUS",
                                    "length": "69",
                                    "movie_length": "normal movie"
                                },
                                {
                                    "title": "BROTHERHOOD BLANKET",
                                    "length": "73",
                                    "movie_length": "normal movie"
                                },
                                {
                                    "title": "INSIDER ARIZONA",
                                    "length": "78",
                                    "movie_length": "normal movie"
                                },
                                {
                                    "title": "VALLEY PACKER",
                                    "length": "73",
                                    "movie_length": "normal movie"
                                },
                                {
                                    "title": "HOLY TADPOLE",
                                    "length": "88",
                                    "movie_length": "normal movie"
                                },
                                {
                                    "title": "BULWORTH COMMANDMENTS",
                                    "length": "61",
                                    "movie_length": "normal movie"
                                },
                                {
                                    "title": "BUNCH MINDS",
                                    "length": "63",
                                    "movie_length": "normal movie"
                                },
                                {
                                    "title": "BUTCH PANTHER",
                                    "length": "67",
                                    "movie_length": "normal movie"
                                },
                                {
                                    "title": "BUTTERFLY CHOCOLAT",
                                    "length": "89",
                                    "movie_length": "normal movie"
                                },
                                {
                                    "title": "VARSITY TRIP",
                                    "length": "85",
                                    "movie_length": "normal movie"
                                },
                                {
                                    "title": "CALIFORNIA BIRDS",
                                    "length": "75",
                                    "movie_length": "normal movie"
                                },
                                {
                                    "title": "CAMELOT VACATION",
                                    "length": "61",
                                    "movie_length": "normal movie"
                                },
                                {
                                    "title": "FLYING HOOK",
                                    "length": "69",
                                    "movie_length": "normal movie"
                                },
                                {
                                    "title": "CANDIDATE PERDITION",
                                    "length": "70",
                                    "movie_length": "normal movie"
                                },
                                {
                                    "title": "VERTIGO NORTHWEST",
                                    "length": "90",
                                    "movie_length": "normal movie"
                                },
                                {
                                    "title": "CANYON STOCK",
                                    "length": "85",
                                    "movie_length": "normal movie"
                                },
                                {
                                    "title": "VICTORY ACADEMY",
                                    "length": "64",
                                    "movie_length": "normal movie"
                                },
                                {
                                    "title": "VILLAIN DESPERATE",
                                    "length": "76",
                                    "movie_length": "normal movie"
                                },
                                {
                                    "title": "FORREST SONS",
                                    "length": "63",
                                    "movie_length": "normal movie"
                                },
                                {
                                    "title": "VOYAGE LEGALLY",
                                    "length": "78",
                                    "movie_length": "normal movie"
                                },
                                {
                                    "title": "CASABLANCA SUPER",
                                    "length": "85",
                                    "movie_length": "normal movie"
                                },
                                {
                                    "title": "WAKE JAWS",
                                    "length": "73",
                                    "movie_length": "normal movie"
                                },
                                {
                                    "title": "CASSIDY WYOMING",
                                    "length": "61",
                                    "movie_length": "normal movie"
                                },
                                {
                                    "title": "FORWARD TEMPLE",
                                    "length": "90",
                                    "movie_length": "normal movie"
                                },
                                {
                                    "title": "WAR NOTTING",
                                    "length": "80",
                                    "movie_length": "normal movie"
                                },
                                {
                                    "title": "WARLOCK WEREWOLF",
                                    "length": "83",
                                    "movie_length": "normal movie"
                                },
                                {
                                    "title": "HONEY TIES",
                                    "length": "84",
                                    "movie_length": "normal movie"
                                },
                                {
                                    "title": "WASTELAND DIVINE",
                                    "length": "85",
                                    "movie_length": "normal movie"
                                },
                                {
                                    "title": "FREDDY STORM",
                                    "length": "65",
                                    "movie_length": "normal movie"
                                },
                                {
                                    "title": "WATCH TRACY",
                                    "length": "78",
                                    "movie_length": "normal movie"
                                },
                                {
                                    "title": "WATERFRONT DELIVERANCE",
                                    "length": "61",
                                    "movie_length": "normal movie"
                                },
                                {
                                    "title": "WEDDING APOLLO",
                                    "length": "70",
                                    "movie_length": "normal movie"
                                },
                                {
                                    "title": "CHARADE DUFFEL",
                                    "length": "66",
                                    "movie_length": "normal movie"
                                },
                                {
                                    "title": "CHARIOTS CONSPIRACY",
                                    "length": "71",
                                    "movie_length": "normal movie"
                                },
                                {
                                    "title": "WEREWOLF LOLA",
                                    "length": "79",
                                    "movie_length": "normal movie"
                                },
                                {
                                    "title": "CHEAPER CLYDE",
                                    "length": "87",
                                    "movie_length": "normal movie"
                                },
                                {
                                    "title": "WINDOW SIDE",
                                    "length": "85",
                                    "movie_length": "normal movie"
                                },
                                {
                                    "title": "FRIDA SLIPPER",
                                    "length": "73",
                                    "movie_length": "normal movie"
                                },
                                {
                                    "title": "CHINATOWN GLADIATOR",
                                    "length": "61",
                                    "movie_length": "normal movie"
                                },
                                {
                                    "title": "WIZARD COLDBLOODED",
                                    "length": "75",
                                    "movie_length": "normal movie"
                                },
                                {
                                    "title": "WONKA SEA",
                                    "length": "85",
                                    "movie_length": "normal movie"
                                },
                                {
                                    "title": "WORKING MICROCOSMOS",
                                    "length": "74",
                                    "movie_length": "normal movie"
                                },
                                {
                                    "title": "FROST HEAD",
                                    "length": "82",
                                    "movie_length": "normal movie"
                                },
                                {
                                    "title": "YENTL IDAHO",
                                    "length": "86",
                                    "movie_length": "normal movie"
                                },
                                {
                                    "title": "FUGITIVE MAGUIRE",
                                    "length": "83",
                                    "movie_length": "normal movie"
                                },
                                {
                                    "title": "CIRCUS YOUTH",
                                    "length": "90",
                                    "movie_length": "normal movie"
                                },
                                {
                                    "title": "CLASH FREDDY",
                                    "length": "81",
                                    "movie_length": "normal movie"
                                },
                                {
                                    "title": "INTOLERABLE INTENTIONS",
                                    "length": "63",
                                    "movie_length": "normal movie"
                                },
                                {
                                    "title": "CLUB GRAFFITI",
                                    "length": "65",
                                    "movie_length": "normal movie"
                                },
                                {
                                    "title": "CLUE GRAIL",
                                    "length": "70",
                                    "movie_length": "normal movie"
                                },
                                {
                                    "title": "GANDHI KWAI",
                                    "length": "86",
                                    "movie_length": "normal movie"
                                },
                                {
                                    "title": "COLDBLOODED DARLING",
                                    "length": "70",
                                    "movie_length": "normal movie"
                                },
                                {
                                    "title": "COMANCHEROS ENEMY",
                                    "length": "67",
                                    "movie_length": "normal movie"
                                },
                                {
                                    "title": "COMFORTS RUSH",
                                    "length": "76",
                                    "movie_length": "normal movie"
                                },
                                {
                                    "title": "CONFESSIONS MAGUIRE",
                                    "length": "65",
                                    "movie_length": "normal movie"
                                },
                                {
                                    "title": "GARDEN ISLAND",
                                    "length": "80",
                                    "movie_length": "normal movie"
                                },
                                {
                                    "title": "CONGENIALITY QUEST",
                                    "length": "87",
                                    "movie_length": "normal movie"
                                },
                                {
                                    "title": "GHOST GROUNDHOG",
                                    "length": "85",
                                    "movie_length": "normal movie"
                                },
                                {
                                    "title": "CRAFT OUTFIELD",
                                    "length": "64",
                                    "movie_length": "normal movie"
                                },
                                {
                                    "title": "HUMAN GRAFFITI",
                                    "length": "68",
                                    "movie_length": "normal movie"
                                },
                                {
                                    "title": "ISHTAR ROCKETEER",
                                    "length": "79",
                                    "movie_length": "normal movie"
                                },
                                {
                                    "title": "GLEAMING JAWBREAKER",
                                    "length": "89",
                                    "movie_length": "normal movie"
                                },
                                {
                                    "title": "CRUELTY UNFORGIVEN",
                                    "length": "69",
                                    "movie_length": "normal movie"
                                },
                                {
                                    "title": "GODFATHER DIARY",
                                    "length": "73",
                                    "movie_length": "normal movie"
                                },
                                {
                                    "title": "DAISY MENAGERIE",
                                    "length": "84",
                                    "movie_length": "normal movie"
                                },
                                {
                                    "title": "ISLAND EXORCIST",
                                    "length": "84",
                                    "movie_length": "normal movie"
                                },
                                {
                                    "title": "GONE TROUBLE",
                                    "length": "84",
                                    "movie_length": "normal movie"
                                },
                                {
                                    "title": "DARES PLUTO",
                                    "length": "89",
                                    "movie_length": "normal movie"
                                },
                                {
                                    "title": "HUNTING MUSKETEERS",
                                    "length": "65",
                                    "movie_length": "normal movie"
                                },
                                {
                                    "title": "DESERT POSEIDON",
                                    "length": "64",
                                    "movie_length": "normal movie"
                                },
                                {
                                    "title": "DESIRE ALIEN",
                                    "length": "76",
                                    "movie_length": "normal movie"
                                },
                                {
                                    "title": "DESPERATE TRAINSPOTTING",
                                    "length": "81",
                                    "movie_length": "normal movie"
                                },
                                {
                                    "title": "DESTINATION JERK",
                                    "length": "76",
                                    "movie_length": "normal movie"
                                },
                                {
                                    "title": "DETAILS PACKER",
                                    "length": "88",
                                    "movie_length": "normal movie"
                                },
                                {
                                    "title": "HUSTLER PARTY",
                                    "length": "83",
                                    "movie_length": "normal movie"
                                },
                                {
                                    "title": "DEVIL DESIRE",
                                    "length": "87",
                                    "movie_length": "normal movie"
                                },
                                {
                                    "title": "DINOSAUR SECRETARY",
                                    "length": "63",
                                    "movie_length": "normal movie"
                                },
                                {
                                    "title": "GRAIL FRANKENSTEIN",
                                    "length": "85",
                                    "movie_length": "normal movie"
                                },
                                {
                                    "title": "DIVIDE MONSTER",
                                    "length": "68",
                                    "movie_length": "normal movie"
                                },
                                {
                                    "title": "DOOM DANCING",
                                    "length": "68",
                                    "movie_length": "normal movie"
                                },
                                {
                                    "title": "IDOLS SNATCHERS",
                                    "length": "84",
                                    "movie_length": "normal movie"
                                },
                                {
                                    "title": "DRIFTER COMMANDMENTS",
                                    "length": "61",
                                    "movie_length": "normal movie"
                                },
                                {
                                    "title": "GUNFIGHT MOON",
                                    "length": "70",
                                    "movie_length": "normal movie"
                                },
                                {
                                    "title": "GUYS FALCON",
                                    "length": "84",
                                    "movie_length": "normal movie"
                                },
                                {
                                    "title": "EARTH VISION",
                                    "length": "85",
                                    "movie_length": "normal movie"
                                },
                                {
                                    "title": "HANGING DEEP",
                                    "length": "62",
                                    "movie_length": "normal movie"
                                },
                                {
                                    "title": "EGG IGBY",
                                    "length": "67",
                                    "movie_length": "normal movie"
                                },
                                {
                                    "title": "EGYPT TENENBAUMS",
                                    "length": "85",
                                    "movie_length": "normal movie"
                                },
                                {
                                    "title": "HARDLY ROBBERS",
                                    "length": "72",
                                    "movie_length": "normal movie"
                                },
                                {
                                    "title": "KNOCK WARLOCK",
                                    "length": "71",
                                    "movie_length": "normal movie"
                                },
                                {
                                    "title": "LADY STAGE",
                                    "length": "67",
                                    "movie_length": "normal movie"
                                },
                                {
                                    "title": "LANGUAGE COWBOY",
                                    "length": "78",
                                    "movie_length": "normal movie"
                                },
                                {
                                    "title": "LEBOWSKI SOLDIERS",
                                    "length": "69",
                                    "movie_length": "normal movie"
                                },
                                {
                                    "title": "LOLA AGENT",
                                    "length": "85",
                                    "movie_length": "normal movie"
                                },
                                {
                                    "title": "LONELY ELEPHANT",
                                    "length": "67",
                                    "movie_length": "normal movie"
                                },
                                {
                                    "title": "LOSER HUSTLER",
                                    "length": "80",
                                    "movie_length": "normal movie"
                                },
                                {
                                    "title": "LOUISIANA HARRY",
                                    "length": "70",
                                    "movie_length": "normal movie"
                                },
                                {
                                    "title": "LOVELY JINGLE",
                                    "length": "65",
                                    "movie_length": "normal movie"
                                },
                                {
                                    "title": "LOVER TRUMAN",
                                    "length": "75",
                                    "movie_length": "normal movie"
                                },
                                {
                                    "title": "LUKE MUMMY",
                                    "length": "74",
                                    "movie_length": "normal movie"
                                },
                                {
                                    "title": "MAGUIRE APACHE",
                                    "length": "74",
                                    "movie_length": "normal movie"
                                },
                                {
                                    "title": "MANNEQUIN WORST",
                                    "length": "71",
                                    "movie_length": "normal movie"
                                },
                                {
                                    "title": "MARS ROMAN",
                                    "length": "62",
                                    "movie_length": "normal movie"
                                },
                                {
                                    "title": "MAUDE MOD",
                                    "length": "72",
                                    "movie_length": "normal movie"
                                },
                                {
                                    "title": "MEET CHOCOLATE",
                                    "length": "80",
                                    "movie_length": "normal movie"
                                },
                                {
                                    "title": "MEMENTO ZOOLANDER",
                                    "length": "77",
                                    "movie_length": "normal movie"
                                },
                                {
                                    "title": "METROPOLIS COMA",
                                    "length": "64",
                                    "movie_length": "normal movie"
                                },
                                {
                                    "title": "MIDNIGHT WESTWARD",
                                    "length": "86",
                                    "movie_length": "normal movie"
                                },
                                {
                                    "title": "MILE MULAN",
                                    "length": "64",
                                    "movie_length": "normal movie"
                                },
                                {
                                    "title": "MOD SECRETARY",
                                    "length": "77",
                                    "movie_length": "normal movie"
                                },
                                {
                                    "title": "MODERN DORADO",
                                    "length": "74",
                                    "movie_length": "normal movie"
                                },
                                {
                                    "title": "MOON BUNCH",
                                    "length": "83",
                                    "movie_length": "normal movie"
                                },
                                {
                                    "title": "MOULIN WAKE",
                                    "length": "79",
                                    "movie_length": "normal movie"
                                },
                                {
                                    "title": "MUSKETEERS WAIT",
                                    "length": "73",
                                    "movie_length": "normal movie"
                                },
                                {
                                    "title": "NETWORK PEAK",
                                    "length": "75",
                                    "movie_length": "normal movie"
                                },
                                {
                                    "title": "NEWTON LABYRINTH",
                                    "length": "75",
                                    "movie_length": "normal movie"
                                },
                                {
                                    "title": "NONE SPIKING",
                                    "length": "83",
                                    "movie_length": "normal movie"
                                },
                                {
                                    "title": "NORTH TEQUILA",
                                    "length": "67",
                                    "movie_length": "normal movie"
                                },
                                {
                                    "title": "NOVOCAINE FLIGHT",
                                    "length": "64",
                                    "movie_length": "normal movie"
                                },
                                {
                                    "title": "ORANGE GRAPES",
                                    "length": "76",
                                    "movie_length": "normal movie"
                                },
                                {
                                    "title": "OZ LIAISONS",
                                    "length": "85",
                                    "movie_length": "normal movie"
                                },
                                {
                                    "title": "PACKER MADIGAN",
                                    "length": "84",
                                    "movie_length": "normal movie"
                                },
                                {
                                    "title": "PATRIOT ROMAN",
                                    "length": "65",
                                    "movie_length": "normal movie"
                                },
                                {
                                    "title": "PEAK FOREVER",
                                    "length": "80",
                                    "movie_length": "normal movie"
                                },
                                {
                                    "title": "PEARL DESTINY",
                                    "length": "74",
                                    "movie_length": "normal movie"
                                },
                                {
                                    "title": "PERFECT GROOVE",
                                    "length": "82",
                                    "movie_length": "normal movie"
                                },
                                {
                                    "title": "PICKUP DRIVING",
                                    "length": "77",
                                    "movie_length": "normal movie"
                                },
                                {
                                    "title": "PLUTO OLEANDER",
                                    "length": "84",
                                    "movie_length": "normal movie"
                                },
                                {
                                    "title": "POLISH BROOKLYN",
                                    "length": "61",
                                    "movie_length": "normal movie"
                                },
                                {
                                    "title": "PRINCESS GIANT",
                                    "length": "71",
                                    "movie_length": "normal movie"
                                },
                                {
                                    "title": "PULP BEVERLY",
                                    "length": "89",
                                    "movie_length": "normal movie"
                                },
                                {
                                    "title": "PURPLE MOVIE",
                                    "length": "88",
                                    "movie_length": "normal movie"
                                },
                                {
                                    "title": "RAIDERS ANTITRUST",
                                    "length": "82",
                                    "movie_length": "normal movie"
                                },
                                {
                                    "title": "RAINBOW SHOCK",
                                    "length": "74",
                                    "movie_length": "normal movie"
                                },
                                {
                                    "title": "RANDOM GO",
                                    "length": "73",
                                    "movie_length": "normal movie"
                                },
                                {
                                    "title": "REBEL AIRPORT",
                                    "length": "73",
                                    "movie_length": "normal movie"
                                },
                                {
                                    "title": "REIGN GENTLEMEN",
                                    "length": "82",
                                    "movie_length": "normal movie"
                                },
                                {
                                    "title": "RESERVOIR ADAPTATION",
                                    "length": "61",
                                    "movie_length": "normal movie"
                                },
                                {
                                    "title": "REUNION WITCHES",
                                    "length": "63",
                                    "movie_length": "normal movie"
                                },
                                {
                                    "title": "AFFAIR PREJUDICE",
                                    "length": "117",
                                    "movie_length": "long movie"
                                },
                                {
                                    "title": "ALABAMA DEVIL",
                                    "length": "114",
                                    "movie_length": "long movie"
                                },
                                {
                                    "title": "IMPOSSIBLE PREJUDICE",
                                    "length": "103",
                                    "movie_length": "long movie"
                                },
                                {
                                    "title": "ALICE FANTASIA",
                                    "length": "94",
                                    "movie_length": "long movie"
                                },
                                {
                                    "title": "HATE HANDICAP",
                                    "length": "107",
                                    "movie_length": "long movie"
                                },
                                {
                                    "title": "AMADEUS HOLY",
                                    "length": "113",
                                    "movie_length": "long movie"
                                },
                                {
                                    "title": "ANACONDA CONFESSIONS",
                                    "length": "92",
                                    "movie_length": "long movie"
                                },
                                {
                                    "title": "KARATE MOON",
                                    "length": "120",
                                    "movie_length": "long movie"
                                },
                                {
                                    "title": "ANTHEM LUKE",
                                    "length": "91",
                                    "movie_length": "long movie"
                                },
                                {
                                    "title": "APACHE DIVINE",
                                    "length": "92",
                                    "movie_length": "long movie"
                                },
                                {
                                    "title": "APOCALYPSE FLAMINGOS",
                                    "length": "119",
                                    "movie_length": "long movie"
                                },
                                {
                                    "title": "EXPENDABLE STALLION",
                                    "length": "97",
                                    "movie_length": "long movie"
                                },
                                {
                                    "title": "ARMAGEDDON LOST",
                                    "length": "99",
                                    "movie_length": "long movie"
                                },
                                {
                                    "title": "HEAVYWEIGHTS BEAST",
                                    "length": "102",
                                    "movie_length": "long movie"
                                },
                                {
                                    "title": "FALCON VOLUME",
                                    "length": "102",
                                    "movie_length": "long movie"
                                },
                                {
                                    "title": "ATTACKS HATE",
                                    "length": "113",
                                    "movie_length": "long movie"
                                },
                                {
                                    "title": "AUTUMN CROW",
                                    "length": "108",
                                    "movie_length": "long movie"
                                },
                                {
                                    "title": "BACKLASH UNDEFEATED",
                                    "length": "118",
                                    "movie_length": "long movie"
                                },
                                {
                                    "title": "BANGER PINOCCHIO",
                                    "length": "113",
                                    "movie_length": "long movie"
                                },
                                {
                                    "title": "FATAL HAUNTED",
                                    "length": "91",
                                    "movie_length": "long movie"
                                },
                                {
                                    "title": "FEATHERS METAL",
                                    "length": "104",
                                    "movie_length": "long movie"
                                },
                                {
                                    "title": "HIGHBALL POTTER",
                                    "length": "110",
                                    "movie_length": "long movie"
                                },
                                {
                                    "title": "BED HIGHBALL",
                                    "length": "106",
                                    "movie_length": "long movie"
                                },
                                {
                                    "title": "FEUD FROGMEN",
                                    "length": "98",
                                    "movie_length": "long movie"
                                },
                                {
                                    "title": "BEHAVIOR RUNAWAY",
                                    "length": "100",
                                    "movie_length": "long movie"
                                },
                                {
                                    "title": "BILKO ANONYMOUS",
                                    "length": "100",
                                    "movie_length": "long movie"
                                },
                                {
                                    "title": "BILL OTHERS",
                                    "length": "93",
                                    "movie_length": "long movie"
                                },
                                {
                                    "title": "FIDELITY DEVIL",
                                    "length": "118",
                                    "movie_length": "long movie"
                                },
                                {
                                    "title": "FIGHT JAWBREAKER",
                                    "length": "91",
                                    "movie_length": "long movie"
                                },
                                {
                                    "title": "BIRDCAGE CASPER",
                                    "length": "103",
                                    "movie_length": "long movie"
                                },
                                {
                                    "title": "BLADE POLISH",
                                    "length": "114",
                                    "movie_length": "long movie"
                                },
                                {
                                    "title": "BLINDNESS GUN",
                                    "length": "103",
                                    "movie_length": "long movie"
                                },
                                {
                                    "title": "BOILED DARES",
                                    "length": "102",
                                    "movie_length": "long movie"
                                },
                                {
                                    "title": "JEOPARDY ENCINO",
                                    "length": "102",
                                    "movie_length": "long movie"
                                },
                                {
                                    "title": "BOUND CHEAPER",
                                    "length": "98",
                                    "movie_length": "long movie"
                                },
                                {
                                    "title": "FIREHOUSE VIETNAM",
                                    "length": "103",
                                    "movie_length": "long movie"
                                },
                                {
                                    "title": "FLATLINERS KILLER",
                                    "length": "100",
                                    "movie_length": "long movie"
                                },
                                {
                                    "title": "BUGSY SONG",
                                    "length": "119",
                                    "movie_length": "long movie"
                                },
                                {
                                    "title": "CALENDAR GUNFIGHT",
                                    "length": "120",
                                    "movie_length": "long movie"
                                },
                                {
                                    "title": "INSTINCT AIRPORT",
                                    "length": "116",
                                    "movie_length": "long movie"
                                },
                                {
                                    "title": "HOMEWARD CIDER",
                                    "length": "103",
                                    "movie_length": "long movie"
                                },
                                {
                                    "title": "CARIBBEAN LIBERTY",
                                    "length": "92",
                                    "movie_length": "long movie"
                                },
                                {
                                    "title": "CARRIE BUNCH",
                                    "length": "114",
                                    "movie_length": "long movie"
                                },
                                {
                                    "title": "FORRESTER COMANCHEROS",
                                    "length": "112",
                                    "movie_length": "long movie"
                                },
                                {
                                    "title": "CAT CONEHEADS",
                                    "length": "112",
                                    "movie_length": "long movie"
                                },
                                {
                                    "title": "INTENTIONS EMPIRE",
                                    "length": "107",
                                    "movie_length": "long movie"
                                },
                                {
                                    "title": "CELEBRITY HORN",
                                    "length": "110",
                                    "movie_length": "long movie"
                                },
                                {
                                    "title": "CHAINSAW UPTOWN",
                                    "length": "114",
                                    "movie_length": "long movie"
                                },
                                {
                                    "title": "CHAMBER ITALIAN",
                                    "length": "117",
                                    "movie_length": "long movie"
                                },
                                {
                                    "title": "HILLS NEIGHBORS",
                                    "length": "93",
                                    "movie_length": "long movie"
                                },
                                {
                                    "title": "CHASING FIGHT",
                                    "length": "114",
                                    "movie_length": "long movie"
                                },
                                {
                                    "title": "FRENCH HOLIDAY",
                                    "length": "99",
                                    "movie_length": "long movie"
                                },
                                {
                                    "title": "FROGMEN BREAKING",
                                    "length": "111",
                                    "movie_length": "long movie"
                                },
                                {
                                    "title": "CHITTY LOCK",
                                    "length": "107",
                                    "movie_length": "long movie"
                                },
                                {
                                    "title": "CHOCOLAT HARRY",
                                    "length": "101",
                                    "movie_length": "long movie"
                                },
                                {
                                    "title": "CIDER DESIRE",
                                    "length": "101",
                                    "movie_length": "long movie"
                                },
                                {
                                    "title": "DUCK RACER",
                                    "length": "116",
                                    "movie_length": "long movie"
                                },
                                {
                                    "title": "POTTER CONNECTICUT",
                                    "length": "115",
                                    "movie_length": "long movie"
                                },
                                {
                                    "title": "PREJUDICE OLEANDER",
                                    "length": "98",
                                    "movie_length": "long movie"
                                },
                                {
                                    "title": "PRIDE ALAMO",
                                    "length": "114",
                                    "movie_length": "long movie"
                                },
                                {
                                    "title": "DAY UNFAITHFUL",
                                    "length": "113",
                                    "movie_length": "long movie"
                                },
                                {
                                    "title": "HAPPINESS UNITED",
                                    "length": "100",
                                    "movie_length": "long movie"
                                },
                                {
                                    "title": "PRIVATE DROP",
                                    "length": "106",
                                    "movie_length": "long movie"
                                },
                                {
                                    "title": "PRIX UNDEFEATED",
                                    "length": "115",
                                    "movie_length": "long movie"
                                },
                                {
                                    "title": "LEGALLY SECRETARY",
                                    "length": "113",
                                    "movie_length": "long movie"
                                },
                                {
                                    "title": "PUNK DIVORCE",
                                    "length": "100",
                                    "movie_length": "long movie"
                                },
                                {
                                    "title": "JAWBREAKER BROOKLYN",
                                    "length": "118",
                                    "movie_length": "long movie"
                                },
                                {
                                    "title": "QUILLS BULL",
                                    "length": "112",
                                    "movie_length": "long movie"
                                },
                                {
                                    "title": "RAGE GAMES",
                                    "length": "120",
                                    "movie_length": "long movie"
                                },
                                {
                                    "title": "MERMAID INSECTS",
                                    "length": "104",
                                    "movie_length": "long movie"
                                },
                                {
                                    "title": "LICENSE WEEKEND",
                                    "length": "91",
                                    "movie_length": "long movie"
                                },
                                {
                                    "title": "MICROCOSMOS PARADISE",
                                    "length": "105",
                                    "movie_length": "long movie"
                                },
                                {
                                    "title": "REAR TRADING",
                                    "length": "97",
                                    "movie_length": "long movie"
                                },
                                {
                                    "title": "DWARFS ALTER",
                                    "length": "101",
                                    "movie_length": "long movie"
                                },
                                {
                                    "title": "DRUMS DYNAMITE",
                                    "length": "96",
                                    "movie_length": "long movie"
                                },
                                {
                                    "title": "REMEMBER DIARY",
                                    "length": "110",
                                    "movie_length": "long movie"
                                },
                                {
                                    "title": "LOCK REAR",
                                    "length": "120",
                                    "movie_length": "long movie"
                                },
                                {
                                    "title": "RESURRECTION SILVERADO",
                                    "length": "117",
                                    "movie_length": "long movie"
                                },
                                {
                                    "title": "DRUMLINE CYCLONE",
                                    "length": "110",
                                    "movie_length": "long movie"
                                },
                                {
                                    "title": "DATE SPEED",
                                    "length": "104",
                                    "movie_length": "long movie"
                                },
                                {
                                    "title": "GORGEOUS BINGO",
                                    "length": "108",
                                    "movie_length": "long movie"
                                },
                                {
                                    "title": "ROBBERS JOON",
                                    "length": "102",
                                    "movie_length": "long movie"
                                },
                                {
                                    "title": "ROCK INSTINCT",
                                    "length": "102",
                                    "movie_length": "long movie"
                                },
                                {
                                    "title": "DARKNESS WAR",
                                    "length": "99",
                                    "movie_length": "long movie"
                                },
                                {
                                    "title": "ROOF CHAMPION",
                                    "length": "101",
                                    "movie_length": "long movie"
                                },
                                {
                                    "title": "DALMATIONS SWEDEN",
                                    "length": "106",
                                    "movie_length": "long movie"
                                },
                                {
                                    "title": "MOB DUFFEL",
                                    "length": "105",
                                    "movie_length": "long movie"
                                },
                                {
                                    "title": "ROUGE SQUAD",
                                    "length": "118",
                                    "movie_length": "long movie"
                                },
                                {
                                    "title": "RUGRATS SHAKESPEARE",
                                    "length": "109",
                                    "movie_length": "long movie"
                                },
                                {
                                    "title": "GOLDFINGER SENSIBILITY",
                                    "length": "93",
                                    "movie_length": "long movie"
                                },
                                {
                                    "title": "RUNNER MADIGAN",
                                    "length": "101",
                                    "movie_length": "long movie"
                                },
                                {
                                    "title": "HUNGER ROOF",
                                    "length": "105",
                                    "movie_length": "long movie"
                                },
                                {
                                    "title": "SABRINA MIDNIGHT",
                                    "length": "99",
                                    "movie_length": "long movie"
                                },
                                {
                                    "title": "GUN BONNIE",
                                    "length": "100",
                                    "movie_length": "long movie"
                                },
                                {
                                    "title": "SAGEBRUSH CLUELESS",
                                    "length": "106",
                                    "movie_length": "long movie"
                                },
                                {
                                    "title": "EFFECT GLADIATOR",
                                    "length": "107",
                                    "movie_length": "long movie"
                                },
                                {
                                    "title": "SAMURAI LION",
                                    "length": "110",
                                    "movie_length": "long movie"
                                },
                                {
                                    "title": "JAWS HARRY",
                                    "length": "112",
                                    "movie_length": "long movie"
                                },
                                {
                                    "title": "MONSTER SPARTACUS",
                                    "length": "107",
                                    "movie_length": "long movie"
                                },
                                {
                                    "title": "SCARFACE BANG",
                                    "length": "102",
                                    "movie_length": "long movie"
                                },
                                {
                                    "title": "LORD ARIZONA",
                                    "length": "108",
                                    "movie_length": "long movie"
                                },
                                {
                                    "title": "SEABISCUIT PUNK",
                                    "length": "112",
                                    "movie_length": "long movie"
                                },
                                {
                                    "title": "SEATTLE EXPECATIONS",
                                    "length": "110",
                                    "movie_length": "long movie"
                                },
                                {
                                    "title": "GROOVE FICTION",
                                    "length": "111",
                                    "movie_length": "long movie"
                                },
                                {
                                    "title": "SECRETS PARADISE",
                                    "length": "109",
                                    "movie_length": "long movie"
                                },
                                {
                                    "title": "CRUSADE HONEY",
                                    "length": "112",
                                    "movie_length": "long movie"
                                },
                                {
                                    "title": "SENSIBILITY REAR",
                                    "length": "98",
                                    "movie_length": "long movie"
                                },
                                {
                                    "title": "CROWDS TELEMARK",
                                    "length": "112",
                                    "movie_length": "long movie"
                                },
                                {
                                    "title": "SHANE DARKNESS",
                                    "length": "93",
                                    "movie_length": "long movie"
                                },
                                {
                                    "title": "CROW GREASE",
                                    "length": "104",
                                    "movie_length": "long movie"
                                },
                                {
                                    "title": "MOTHER OLEANDER",
                                    "length": "103",
                                    "movie_length": "long movie"
                                },
                                {
                                    "title": "SHEPHERD MIDSUMMER",
                                    "length": "113",
                                    "movie_length": "long movie"
                                },
                                {
                                    "title": "SHIP WONDERLAND",
                                    "length": "104",
                                    "movie_length": "long movie"
                                },
                                {
                                    "title": "ENCOUNTERS CURTAIN",
                                    "length": "92",
                                    "movie_length": "long movie"
                                },
                                {
                                    "title": "IDENTITY LOVER",
                                    "length": "119",
                                    "movie_length": "long movie"
                                },
                                {
                                    "title": "GLORY TRACY",
                                    "length": "115",
                                    "movie_length": "long movie"
                                },
                                {
                                    "title": "SIEGE MADRE",
                                    "length": "111",
                                    "movie_length": "long movie"
                                },
                                {
                                    "title": "KANE EXORCIST",
                                    "length": "92",
                                    "movie_length": "long movie"
                                },
                                {
                                    "title": "LOST BIRD",
                                    "length": "98",
                                    "movie_length": "long movie"
                                },
                                {
                                    "title": "GLASS DYING",
                                    "length": "103",
                                    "movie_length": "long movie"
                                },
                                {
                                    "title": "MYSTIC TRUMAN",
                                    "length": "92",
                                    "movie_length": "long movie"
                                },
                                {
                                    "title": "NATIONAL STORY",
                                    "length": "92",
                                    "movie_length": "long movie"
                                },
                                {
                                    "title": "GREATEST NORTH",
                                    "length": "93",
                                    "movie_length": "long movie"
                                },
                                {
                                    "title": "GILBERT PELICAN",
                                    "length": "114",
                                    "movie_length": "long movie"
                                },
                                {
                                    "title": "CORE SUIT",
                                    "length": "92",
                                    "movie_length": "long movie"
                                },
                                {
                                    "title": "SNATCH SLIPPER",
                                    "length": "110",
                                    "movie_length": "long movie"
                                },
                                {
                                    "title": "ELEMENT FREDDY",
                                    "length": "115",
                                    "movie_length": "long movie"
                                },
                                {
                                    "title": "EARRING INSTINCT",
                                    "length": "98",
                                    "movie_length": "long movie"
                                },
                                {
                                    "title": "CONVERSATION DOWNHILL",
                                    "length": "112",
                                    "movie_length": "long movie"
                                },
                                {
                                    "title": "EARLY HOME",
                                    "length": "96",
                                    "movie_length": "long movie"
                                },
                                {
                                    "title": "SPY MILE",
                                    "length": "112",
                                    "movie_length": "long movie"
                                },
                                {
                                    "title": "LUCKY FLYING",
                                    "length": "97",
                                    "movie_length": "long movie"
                                },
                                {
                                    "title": "STAGECOACH ARMAGEDDON",
                                    "length": "112",
                                    "movie_length": "long movie"
                                },
                                {
                                    "title": "HYDE DOCTOR",
                                    "length": "100",
                                    "movie_length": "long movie"
                                },
                                {
                                    "title": "STATE WASTELAND",
                                    "length": "113",
                                    "movie_length": "long movie"
                                },
                                {
                                    "title": "GIANT TROOPERS",
                                    "length": "102",
                                    "movie_length": "long movie"
                                },
                                {
                                    "title": "STING PERSONAL",
                                    "length": "93",
                                    "movie_length": "long movie"
                                },
                                {
                                    "title": "STONE FIRE",
                                    "length": "94",
                                    "movie_length": "long movie"
                                },
                                {
                                    "title": "GHOSTBUSTERS ELF",
                                    "length": "101",
                                    "movie_length": "long movie"
                                },
                                {
                                    "title": "STRANGELOVE DESIRE",
                                    "length": "103",
                                    "movie_length": "long movie"
                                },
                                {
                                    "title": "STRANGERS GRAFFITI",
                                    "length": "119",
                                    "movie_length": "long movie"
                                },
                                {
                                    "title": "HANKY OCTOBER",
                                    "length": "107",
                                    "movie_length": "long movie"
                                },
                                {
                                    "title": "SUGAR WONKA",
                                    "length": "114",
                                    "movie_length": "long movie"
                                },
                                {
                                    "title": "SUICIDES SILENCE",
                                    "length": "93",
                                    "movie_length": "long movie"
                                },
                                {
                                    "title": "SUIT WALLS",
                                    "length": "111",
                                    "movie_length": "long movie"
                                },
                                {
                                    "title": "HOUSE DYNAMITE",
                                    "length": "109",
                                    "movie_length": "long movie"
                                },
                                {
                                    "title": "SUNDANCE INVASION",
                                    "length": "92",
                                    "movie_length": "long movie"
                                },
                                {
                                    "title": "CONNECTION MICROCOSMOS",
                                    "length": "115",
                                    "movie_length": "long movie"
                                },
                                {
                                    "title": "GASLIGHT CRUSADE",
                                    "length": "106",
                                    "movie_length": "long movie"
                                },
                                {
                                    "title": "SUPERFLY TRIP",
                                    "length": "114",
                                    "movie_length": "long movie"
                                },
                                {
                                    "title": "DOLLS RAGE",
                                    "length": "120",
                                    "movie_length": "long movie"
                                },
                                {
                                    "title": "SWEETHEARTS SUSPECTS",
                                    "length": "108",
                                    "movie_length": "long movie"
                                },
                                {
                                    "title": "TARZAN VIDEOTAPE",
                                    "length": "91",
                                    "movie_length": "long movie"
                                },
                                {
                                    "title": "DIVINE RESURRECTION",
                                    "length": "100",
                                    "movie_length": "long movie"
                                },
                                {
                                    "title": "DISTURBING SCARFACE",
                                    "length": "94",
                                    "movie_length": "long movie"
                                },
                                {
                                    "title": "OPPOSITE NECKLACE",
                                    "length": "92",
                                    "movie_length": "long movie"
                                },
                                {
                                    "title": "TENENBAUMS COMMAND",
                                    "length": "99",
                                    "movie_length": "long movie"
                                },
                                {
                                    "title": "CONEHEADS SMOOCHY",
                                    "length": "112",
                                    "movie_length": "long movie"
                                },
                                {
                                    "title": "OPUS ICE",
                                    "length": "102",
                                    "movie_length": "long movie"
                                },
                                {
                                    "title": "COMMAND DARLING",
                                    "length": "120",
                                    "movie_length": "long movie"
                                },
                                {
                                    "title": "TIES HUNGER",
                                    "length": "111",
                                    "movie_length": "long movie"
                                },
                                {
                                    "title": "DUMBO LUST",
                                    "length": "119",
                                    "movie_length": "long movie"
                                },
                                {
                                    "title": "TITANIC BOONDOCK",
                                    "length": "104",
                                    "movie_length": "long movie"
                                },
                                {
                                    "title": "TITANS JERK",
                                    "length": "91",
                                    "movie_length": "long movie"
                                },
                                {
                                    "title": "ORDER BETRAYED",
                                    "length": "120",
                                    "movie_length": "long movie"
                                },
                                {
                                    "title": "ORIENT CLOSER",
                                    "length": "118",
                                    "movie_length": "long movie"
                                },
                                {
                                    "title": "TRAP GUYS",
                                    "length": "110",
                                    "movie_length": "long movie"
                                },
                                {
                                    "title": "TREASURE COMMAND",
                                    "length": "102",
                                    "movie_length": "long movie"
                                },
                                {
                                    "title": "OSCAR GOLD",
                                    "length": "115",
                                    "movie_length": "long movie"
                                },
                                {
                                    "title": "OTHERS SOUP",
                                    "length": "118",
                                    "movie_length": "long movie"
                                },
                                {
                                    "title": "COMA HEAD",
                                    "length": "109",
                                    "movie_length": "long movie"
                                },
                                {
                                    "title": "TROOPERS METAL",
                                    "length": "115",
                                    "movie_length": "long movie"
                                },
                                {
                                    "title": "MADIGAN DORADO",
                                    "length": "116",
                                    "movie_length": "long movie"
                                },
                                {
                                    "title": "TRUMAN CRAZY",
                                    "length": "92",
                                    "movie_length": "long movie"
                                },
                                {
                                    "title": "MADRE GABLES",
                                    "length": "98",
                                    "movie_length": "long movie"
                                },
                                {
                                    "title": "PANIC CLUB",
                                    "length": "102",
                                    "movie_length": "long movie"
                                },
                                {
                                    "title": "PANKY SUBMARINE",
                                    "length": "93",
                                    "movie_length": "long movie"
                                },
                                {
                                    "title": "UNDEFEATED DALMATIONS",
                                    "length": "107",
                                    "movie_length": "long movie"
                                },
                                {
                                    "title": "PANTHER REDS",
                                    "length": "109",
                                    "movie_length": "long movie"
                                },
                                {
                                    "title": "UNTOUCHABLES SUNRISE",
                                    "length": "120",
                                    "movie_length": "long movie"
                                },
                                {
                                    "title": "GRAFFITI LOVE",
                                    "length": "117",
                                    "movie_length": "long movie"
                                },
                                {
                                    "title": "INVASION CYCLONE",
                                    "length": "97",
                                    "movie_length": "long movie"
                                },
                                {
                                    "title": "PARK CITIZEN",
                                    "length": "109",
                                    "movie_length": "long movie"
                                },
                                {
                                    "title": "PARTY KNOCK",
                                    "length": "107",
                                    "movie_length": "long movie"
                                },
                                {
                                    "title": "PATHS CONTROL",
                                    "length": "118",
                                    "movie_length": "long movie"
                                },
                                {
                                    "title": "PATIENT SISTER",
                                    "length": "99",
                                    "movie_length": "long movie"
                                },
                                {
                                    "title": "MAGIC MALLRATS",
                                    "length": "117",
                                    "movie_length": "long movie"
                                },
                                {
                                    "title": "CLUELESS BUCKET",
                                    "length": "95",
                                    "movie_length": "long movie"
                                },
                                {
                                    "title": "JOON NORTHWEST",
                                    "length": "105",
                                    "movie_length": "long movie"
                                },
                                {
                                    "title": "WAIT CIDER",
                                    "length": "112",
                                    "movie_length": "long movie"
                                },
                                {
                                    "title": "LADYBUGS ARMAGEDDON",
                                    "length": "113",
                                    "movie_length": "long movie"
                                },
                                {
                                    "title": "WANDA CHAMBER",
                                    "length": "107",
                                    "movie_length": "long movie"
                                },
                                {
                                    "title": "DIARY PANIC",
                                    "length": "107",
                                    "movie_length": "long movie"
                                },
                                {
                                    "title": "PERDITION FARGO",
                                    "length": "99",
                                    "movie_length": "long movie"
                                },
                                {
                                    "title": "HANDICAP BOONDOCK",
                                    "length": "108",
                                    "movie_length": "long movie"
                                },
                                {
                                    "title": "PERSONAL LADYBUGS",
                                    "length": "118",
                                    "movie_length": "long movie"
                                },
                                {
                                    "title": "PET HAUNTING",
                                    "length": "99",
                                    "movie_length": "long movie"
                                },
                                {
                                    "title": "WATERSHIP FRONTIER",
                                    "length": "112",
                                    "movie_length": "long movie"
                                },
                                {
                                    "title": "DELIVERANCE MULHOLLAND",
                                    "length": "100",
                                    "movie_length": "long movie"
                                },
                                {
                                    "title": "MARRIED GO",
                                    "length": "114",
                                    "movie_length": "long movie"
                                },
                                {
                                    "title": "GAMES BOWFINGER",
                                    "length": "119",
                                    "movie_length": "long movie"
                                },
                                {
                                    "title": "WHALE BIKINI",
                                    "length": "109",
                                    "movie_length": "long movie"
                                },
                                {
                                    "title": "HORN WORKING",
                                    "length": "95",
                                    "movie_length": "long movie"
                                },
                                {
                                    "title": "WIND PHANTOM",
                                    "length": "111",
                                    "movie_length": "long movie"
                                },
                                {
                                    "title": "DEER VIRGINIAN",
                                    "length": "106",
                                    "movie_length": "long movie"
                                },
                                {
                                    "title": "WISDOM WORKER",
                                    "length": "98",
                                    "movie_length": "long movie"
                                },
                                {
                                    "title": "WITCHES PANIC",
                                    "length": "100",
                                    "movie_length": "long movie"
                                },
                                {
                                    "title": "PINOCCHIO SIMON",
                                    "length": "103",
                                    "movie_length": "long movie"
                                },
                                {
                                    "title": "FULL FLATLINERS",
                                    "length": "94",
                                    "movie_length": "long movie"
                                },
                                {
                                    "title": "WON DARES",
                                    "length": "105",
                                    "movie_length": "long movie"
                                },
                                {
                                    "title": "WONDERLAND CHRISTMAS",
                                    "length": "111",
                                    "movie_length": "long movie"
                                },
                                {
                                    "title": "PIRATES ROXANNE",
                                    "length": "100",
                                    "movie_length": "long movie"
                                },
                                {
                                    "title": "WORDS HUNTER",
                                    "length": "116",
                                    "movie_length": "long movie"
                                },
                                {
                                    "title": "DAZED PUNK",
                                    "length": "120",
                                    "movie_length": "long movie"
                                },
                                {
                                    "title": "WYOMING STORM",
                                    "length": "100",
                                    "movie_length": "long movie"
                                },
                                {
                                    "title": "LEAGUE HELLFIGHTERS",
                                    "length": "110",
                                    "movie_length": "long movie"
                                },
                                {
                                    "title": "ZHIVAGO CORE",
                                    "length": "105",
                                    "movie_length": "long movie"
                                },
                                {
                                    "title": "ZOOLANDER FICTION",
                                    "length": "101",
                                    "movie_length": "long movie"
                                },
                                {
                                    "title": "MADISON TRAP",
                                    "length": "147",
                                    "movie_length": "extra long movie"
                                },
                                {
                                    "title": "MADNESS ATTACKS",
                                    "length": "178",
                                    "movie_length": "extra long movie"
                                },
                                {
                                    "title": "BEAUTY GREASE",
                                    "length": "175",
                                    "movie_length": "extra long movie"
                                },
                                {
                                    "title": "BEETHOVEN EXORCIST",
                                    "length": "151",
                                    "movie_length": "extra long movie"
                                },
                                {
                                    "title": "BETRAYED REAR",
                                    "length": "122",
                                    "movie_length": "extra long movie"
                                },
                                {
                                    "title": "MAGNOLIA FORRESTER",
                                    "length": "171",
                                    "movie_length": "extra long movie"
                                },
                                {
                                    "title": "BIKINI BORROWERS",
                                    "length": "142",
                                    "movie_length": "extra long movie"
                                },
                                {
                                    "title": "MAIDEN HOME",
                                    "length": "138",
                                    "movie_length": "extra long movie"
                                },
                                {
                                    "title": "MAJESTIC FLOATS",
                                    "length": "130",
                                    "movie_length": "extra long movie"
                                },
                                {
                                    "title": "MAKER GABLES",
                                    "length": "136",
                                    "movie_length": "extra long movie"
                                },
                                {
                                    "title": "MALKOVICH PET",
                                    "length": "159",
                                    "movie_length": "extra long movie"
                                },
                                {
                                    "title": "MALLRATS UNITED",
                                    "length": "133",
                                    "movie_length": "extra long movie"
                                },
                                {
                                    "title": "MALTESE HOPE",
                                    "length": "127",
                                    "movie_length": "extra long movie"
                                },
                                {
                                    "title": "MANCHURIAN CURTAIN",
                                    "length": "177",
                                    "movie_length": "extra long movie"
                                },
                                {
                                    "title": "BINGO TALENTED",
                                    "length": "150",
                                    "movie_length": "extra long movie"
                                },
                                {
                                    "title": "BIRCH ANTITRUST",
                                    "length": "162",
                                    "movie_length": "extra long movie"
                                },
                                {
                                    "title": "BIRD INDEPENDENCE",
                                    "length": "163",
                                    "movie_length": "extra long movie"
                                },
                                {
                                    "title": "MASK PEACH",
                                    "length": "123",
                                    "movie_length": "extra long movie"
                                },
                                {
                                    "title": "MASKED BUBBLE",
                                    "length": "151",
                                    "movie_length": "extra long movie"
                                },
                                {
                                    "title": "MASSACRE USUAL",
                                    "length": "165",
                                    "movie_length": "extra long movie"
                                },
                                {
                                    "title": "MASSAGE IMAGE",
                                    "length": "161",
                                    "movie_length": "extra long movie"
                                },
                                {
                                    "title": "BLANKET BEVERLY",
                                    "length": "148",
                                    "movie_length": "extra long movie"
                                },
                                {
                                    "title": "BOOGIE AMELIE",
                                    "length": "121",
                                    "movie_length": "extra long movie"
                                },
                                {
                                    "title": "BORN SPINAL",
                                    "length": "179",
                                    "movie_length": "extra long movie"
                                },
                                {
                                    "title": "BRANNIGAN SUNRISE",
                                    "length": "121",
                                    "movie_length": "extra long movie"
                                },
                                {
                                    "title": "MENAGERIE RUSHMORE",
                                    "length": "147",
                                    "movie_length": "extra long movie"
                                },
                                {
                                    "title": "BRAVEHEART HUMAN",
                                    "length": "176",
                                    "movie_length": "extra long movie"
                                },
                                {
                                    "title": "METAL ARMAGEDDON",
                                    "length": "161",
                                    "movie_length": "extra long movie"
                                },
                                {
                                    "title": "BREAKFAST GOLDFINGER",
                                    "length": "123",
                                    "movie_length": "extra long movie"
                                },
                                {
                                    "title": "BREAKING HOME",
                                    "length": "169",
                                    "movie_length": "extra long movie"
                                },
                                {
                                    "title": "BRINGING HYSTERICAL",
                                    "length": "136",
                                    "movie_length": "extra long movie"
                                },
                                {
                                    "title": "BROOKLYN DESERT",
                                    "length": "161",
                                    "movie_length": "extra long movie"
                                },
                                {
                                    "title": "MIGHTY LUCK",
                                    "length": "122",
                                    "movie_length": "extra long movie"
                                },
                                {
                                    "title": "BUCKET BROTHERHOOD",
                                    "length": "133",
                                    "movie_length": "extra long movie"
                                },
                                {
                                    "title": "MILLION ACE",
                                    "length": "142",
                                    "movie_length": "extra long movie"
                                },
                                {
                                    "title": "MINDS TRUMAN",
                                    "length": "149",
                                    "movie_length": "extra long movie"
                                },
                                {
                                    "title": "MINE TITANS",
                                    "length": "166",
                                    "movie_length": "extra long movie"
                                },
                                {
                                    "title": "BULL SHAWSHANK",
                                    "length": "125",
                                    "movie_length": "extra long movie"
                                },
                                {
                                    "title": "MIRACLE VIRTUAL",
                                    "length": "162",
                                    "movie_length": "extra long movie"
                                },
                                {
                                    "title": "MISSION ZOOLANDER",
                                    "length": "164",
                                    "movie_length": "extra long movie"
                                },
                                {
                                    "title": "MIXED DOORS",
                                    "length": "180",
                                    "movie_length": "extra long movie"
                                },
                                {
                                    "title": "CAMPUS REMEMBER",
                                    "length": "167",
                                    "movie_length": "extra long movie"
                                },
                                {
                                    "title": "CANDLES GRAPES",
                                    "length": "135",
                                    "movie_length": "extra long movie"
                                },
                                {
                                    "title": "CAPER MOTIONS",
                                    "length": "176",
                                    "movie_length": "extra long movie"
                                },
                                {
                                    "title": "MODEL FISH",
                                    "length": "175",
                                    "movie_length": "extra long movie"
                                },
                                {
                                    "title": "CAROL TEXAS",
                                    "length": "151",
                                    "movie_length": "extra long movie"
                                },
                                {
                                    "title": "MONEY HAROLD",
                                    "length": "135",
                                    "movie_length": "extra long movie"
                                },
                                {
                                    "title": "MONSOON CAUSE",
                                    "length": "182",
                                    "movie_length": "extra long movie"
                                },
                                {
                                    "title": "CASPER DRAGONFLY",
                                    "length": "163",
                                    "movie_length": "extra long movie"
                                },
                                {
                                    "title": "MONTEREY LABYRINTH",
                                    "length": "158",
                                    "movie_length": "extra long movie"
                                },
                                {
                                    "title": "MONTEZUMA COMMAND",
                                    "length": "126",
                                    "movie_length": "extra long movie"
                                },
                                {
                                    "title": "CASUALTIES ENCINO",
                                    "length": "179",
                                    "movie_length": "extra long movie"
                                },
                                {
                                    "title": "MOONSHINE CABIN",
                                    "length": "171",
                                    "movie_length": "extra long movie"
                                },
                                {
                                    "title": "MOONWALKER FOOL",
                                    "length": "184",
                                    "movie_length": "extra long movie"
                                },
                                {
                                    "title": "CATCH AMISTAD",
                                    "length": "183",
                                    "movie_length": "extra long movie"
                                },
                                {
                                    "title": "CAUSE DATE",
                                    "length": "179",
                                    "movie_length": "extra long movie"
                                },
                                {
                                    "title": "MOTIONS DETAILS",
                                    "length": "166",
                                    "movie_length": "extra long movie"
                                },
                                {
                                    "title": "CENTER DINOSAUR",
                                    "length": "152",
                                    "movie_length": "extra long movie"
                                },
                                {
                                    "title": "MOURNING PURPLE",
                                    "length": "146",
                                    "movie_length": "extra long movie"
                                },
                                {
                                    "title": "CHAPLIN LICENSE",
                                    "length": "146",
                                    "movie_length": "extra long movie"
                                },
                                {
                                    "title": "MULAN MOON",
                                    "length": "160",
                                    "movie_length": "extra long movie"
                                },
                                {
                                    "title": "MULHOLLAND BEAST",
                                    "length": "157",
                                    "movie_length": "extra long movie"
                                },
                                {
                                    "title": "MUMMY CREATURES",
                                    "length": "160",
                                    "movie_length": "extra long movie"
                                },
                                {
                                    "title": "CHICAGO NORTH",
                                    "length": "185",
                                    "movie_length": "extra long movie"
                                },
                                {
                                    "title": "MURDER ANTITRUST",
                                    "length": "166",
                                    "movie_length": "extra long movie"
                                },
                                {
                                    "title": "MUSCLE BRIGHT",
                                    "length": "185",
                                    "movie_length": "extra long movie"
                                },
                                {
                                    "title": "MUSIC BOONDOCK",
                                    "length": "129",
                                    "movie_length": "extra long movie"
                                },
                                {
                                    "title": "CHICKEN HELLFIGHTERS",
                                    "length": "122",
                                    "movie_length": "extra long movie"
                                },
                                {
                                    "title": "MUSSOLINI SPOILERS",
                                    "length": "180",
                                    "movie_length": "extra long movie"
                                },
                                {
                                    "title": "CHILL LUCK",
                                    "length": "142",
                                    "movie_length": "extra long movie"
                                },
                                {
                                    "title": "NAME DETECTIVE",
                                    "length": "178",
                                    "movie_length": "extra long movie"
                                },
                                {
                                    "title": "NASH CHOCOLAT",
                                    "length": "180",
                                    "movie_length": "extra long movie"
                                },
                                {
                                    "title": "CHISUM BEHAVIOR",
                                    "length": "124",
                                    "movie_length": "extra long movie"
                                },
                                {
                                    "title": "CHOCOLATE DUCK",
                                    "length": "132",
                                    "movie_length": "extra long movie"
                                },
                                {
                                    "title": "NECKLACE OUTBREAK",
                                    "length": "132",
                                    "movie_length": "extra long movie"
                                },
                                {
                                    "title": "NEIGHBORS CHARADE",
                                    "length": "161",
                                    "movie_length": "extra long movie"
                                },
                                {
                                    "title": "NEMO CAMPUS",
                                    "length": "131",
                                    "movie_length": "extra long movie"
                                },
                                {
                                    "title": "CHRISTMAS MOONSHINE",
                                    "length": "150",
                                    "movie_length": "extra long movie"
                                },
                                {
                                    "title": "NEWSIES STORY",
                                    "length": "159",
                                    "movie_length": "extra long movie"
                                },
                                {
                                    "title": "CINCINATTI WHISPERER",
                                    "length": "143",
                                    "movie_length": "extra long movie"
                                },
                                {
                                    "title": "NIGHTMARE CHILL",
                                    "length": "149",
                                    "movie_length": "extra long movie"
                                },
                                {
                                    "title": "CITIZEN SHREK",
                                    "length": "165",
                                    "movie_length": "extra long movie"
                                },
                                {
                                    "title": "KISSING DOLLS",
                                    "length": "141",
                                    "movie_length": "extra long movie"
                                },
                                {
                                    "title": "CLEOPATRA DEVIL",
                                    "length": "150",
                                    "movie_length": "extra long movie"
                                },
                                {
                                    "title": "NORTHWEST POLISH",
                                    "length": "172",
                                    "movie_length": "extra long movie"
                                },
                                {
                                    "title": "NOTORIOUS REUNION",
                                    "length": "128",
                                    "movie_length": "extra long movie"
                                },
                                {
                                    "title": "CLERKS ANGELS",
                                    "length": "164",
                                    "movie_length": "extra long movie"
                                },
                                {
                                    "title": "CLOCKWORK PARADISE",
                                    "length": "143",
                                    "movie_length": "extra long movie"
                                },
                                {
                                    "title": "NUTS TIES",
                                    "length": "145",
                                    "movie_length": "extra long movie"
                                },
                                {
                                    "title": "CLONES PINOCCHIO",
                                    "length": "124",
                                    "movie_length": "extra long movie"
                                },
                                {
                                    "title": "CLYDE THEORY",
                                    "length": "139",
                                    "movie_length": "extra long movie"
                                },
                                {
                                    "title": "COLOR PHILADELPHIA",
                                    "length": "149",
                                    "movie_length": "extra long movie"
                                },
                                {
                                    "title": "OLEANDER CLUE",
                                    "length": "161",
                                    "movie_length": "extra long movie"
                                },
                                {
                                    "title": "OPEN AFRICAN",
                                    "length": "131",
                                    "movie_length": "extra long movie"
                                },
                                {
                                    "title": "OPERATION OPERATION",
                                    "length": "156",
                                    "movie_length": "extra long movie"
                                },
                                {
                                    "title": "CONFIDENTIAL INTERVIEW",
                                    "length": "180",
                                    "movie_length": "extra long movie"
                                },
                                {
                                    "title": "CONFUSED CANDLES",
                                    "length": "122",
                                    "movie_length": "extra long movie"
                                },
                                {
                                    "title": "CONNECTICUT TRAMP",
                                    "length": "172",
                                    "movie_length": "extra long movie"
                                },
                                {
                                    "title": "CONQUERER NUTS",
                                    "length": "173",
                                    "movie_length": "extra long movie"
                                },
                                {
                                    "title": "CONSPIRACY SPIRIT",
                                    "length": "184",
                                    "movie_length": "extra long movie"
                                },
                                {
                                    "title": "CONTACT ANONYMOUS",
                                    "length": "166",
                                    "movie_length": "extra long movie"
                                },
                                {
                                    "title": "CONTROL ANTHEM",
                                    "length": "185",
                                    "movie_length": "extra long movie"
                                },
                                {
                                    "title": "OUTBREAK DIVINE",
                                    "length": "169",
                                    "movie_length": "extra long movie"
                                },
                                {
                                    "title": "OUTFIELD MASSACRE",
                                    "length": "129",
                                    "movie_length": "extra long movie"
                                },
                                {
                                    "title": "OUTLAW HANKY",
                                    "length": "148",
                                    "movie_length": "extra long movie"
                                },
                                {
                                    "title": "COWBOY DOOM",
                                    "length": "146",
                                    "movie_length": "extra long movie"
                                },
                                {
                                    "title": "PACIFIC AMISTAD",
                                    "length": "144",
                                    "movie_length": "extra long movie"
                                },
                                {
                                    "title": "CRAZY HOME",
                                    "length": "136",
                                    "movie_length": "extra long movie"
                                },
                                {
                                    "title": "PAJAMA JAWBREAKER",
                                    "length": "126",
                                    "movie_length": "extra long movie"
                                },
                                {
                                    "title": "CREATURES SHAKESPEARE",
                                    "length": "139",
                                    "movie_length": "extra long movie"
                                },
                                {
                                    "title": "CREEPERS KANE",
                                    "length": "172",
                                    "movie_length": "extra long movie"
                                },
                                {
                                    "title": "CROOKED FROGMEN",
                                    "length": "143",
                                    "movie_length": "extra long movie"
                                },
                                {
                                    "title": "PAPI NECKLACE",
                                    "length": "128",
                                    "movie_length": "extra long movie"
                                },
                                {
                                    "title": "CROSSROADS CASUALTIES",
                                    "length": "153",
                                    "movie_length": "extra long movie"
                                },
                                {
                                    "title": "PARIS WEEKEND",
                                    "length": "121",
                                    "movie_length": "extra long movie"
                                },
                                {
                                    "title": "CRYSTAL BREAKING",
                                    "length": "184",
                                    "movie_length": "extra long movie"
                                },
                                {
                                    "title": "CURTAIN VIDEOTAPE",
                                    "length": "133",
                                    "movie_length": "extra long movie"
                                },
                                {
                                    "title": "PAST SUICIDES",
                                    "length": "157",
                                    "movie_length": "extra long movie"
                                },
                                {
                                    "title": "CYCLONE FAMILY",
                                    "length": "176",
                                    "movie_length": "extra long movie"
                                },
                                {
                                    "title": "DADDY PITTSBURGH",
                                    "length": "161",
                                    "movie_length": "extra long movie"
                                },
                                {
                                    "title": "DANCING FEVER",
                                    "length": "144",
                                    "movie_length": "extra long movie"
                                },
                                {
                                    "title": "PATTON INTERVIEW",
                                    "length": "175",
                                    "movie_length": "extra long movie"
                                },
                                {
                                    "title": "PAYCHECK WAIT",
                                    "length": "145",
                                    "movie_length": "extra long movie"
                                },
                                {
                                    "title": "PEACH INNOCENT",
                                    "length": "160",
                                    "movie_length": "extra long movie"
                                },
                                {
                                    "title": "DANGEROUS UPTOWN",
                                    "length": "121",
                                    "movie_length": "extra long movie"
                                },
                                {
                                    "title": "DARKO DORADO",
                                    "length": "130",
                                    "movie_length": "extra long movie"
                                },
                                {
                                    "title": "DARLING BREAKING",
                                    "length": "165",
                                    "movie_length": "extra long movie"
                                },
                                {
                                    "title": "DARN FORRESTER",
                                    "length": "185",
                                    "movie_length": "extra long movie"
                                },
                                {
                                    "title": "DECEIVER BETRAYED",
                                    "length": "122",
                                    "movie_length": "extra long movie"
                                },
                                {
                                    "title": "DETECTIVE VISION",
                                    "length": "143",
                                    "movie_length": "extra long movie"
                                },
                                {
                                    "title": "DIRTY ACE",
                                    "length": "147",
                                    "movie_length": "extra long movie"
                                },
                                {
                                    "title": "DISCIPLE MOTHER",
                                    "length": "141",
                                    "movie_length": "extra long movie"
                                },
                                {
                                    "title": "PHILADELPHIA WIFE",
                                    "length": "137",
                                    "movie_length": "extra long movie"
                                },
                                {
                                    "title": "PIANIST OUTFIELD",
                                    "length": "136",
                                    "movie_length": "extra long movie"
                                },
                                {
                                    "title": "DOGMA FAMILY",
                                    "length": "122",
                                    "movie_length": "extra long movie"
                                },
                                {
                                    "title": "DONNIE ALLEY",
                                    "length": "125",
                                    "movie_length": "extra long movie"
                                },
                                {
                                    "title": "DORADO NOTTING",
                                    "length": "139",
                                    "movie_length": "extra long movie"
                                },
                                {
                                    "title": "DOUBLE WRATH",
                                    "length": "177",
                                    "movie_length": "extra long movie"
                                },
                                {
                                    "title": "PITTSBURGH HUNCHBACK",
                                    "length": "134",
                                    "movie_length": "extra long movie"
                                },
                                {
                                    "title": "DOUBTFIRE LABYRINTH",
                                    "length": "154",
                                    "movie_length": "extra long movie"
                                },
                                {
                                    "title": "PIZZA JUMANJI",
                                    "length": "173",
                                    "movie_length": "extra long movie"
                                },
                                {
                                    "title": "PLATOON INSTINCT",
                                    "length": "132",
                                    "movie_length": "extra long movie"
                                },
                                {
                                    "title": "DOZEN LION",
                                    "length": "177",
                                    "movie_length": "extra long movie"
                                },
                                {
                                    "title": "POCUS PULP",
                                    "length": "138",
                                    "movie_length": "extra long movie"
                                },
                                {
                                    "title": "DRACULA CRYSTAL",
                                    "length": "176",
                                    "movie_length": "extra long movie"
                                },
                                {
                                    "title": "POLLOCK DELIVERANCE",
                                    "length": "137",
                                    "movie_length": "extra long movie"
                                },
                                {
                                    "title": "POND SEATTLE",
                                    "length": "185",
                                    "movie_length": "extra long movie"
                                },
                                {
                                    "title": "POSEIDON FOREVER",
                                    "length": "159",
                                    "movie_length": "extra long movie"
                                },
                                {
                                    "title": "POTLUCK MIXED",
                                    "length": "179",
                                    "movie_length": "extra long movie"
                                },
                                {
                                    "title": "DRAGON SQUAD",
                                    "length": "170",
                                    "movie_length": "extra long movie"
                                },
                                {
                                    "title": "DRAGONFLY STRANGERS",
                                    "length": "133",
                                    "movie_length": "extra long movie"
                                },
                                {
                                    "title": "PRESIDENT BANG",
                                    "length": "144",
                                    "movie_length": "extra long movie"
                                },
                                {
                                    "title": "DREAM PICKUP",
                                    "length": "135",
                                    "movie_length": "extra long movie"
                                },
                                {
                                    "title": "DRIVER ANNIE",
                                    "length": "159",
                                    "movie_length": "extra long movie"
                                },
                                {
                                    "title": "DRIVING POLISH",
                                    "length": "175",
                                    "movie_length": "extra long movie"
                                },
                                {
                                    "title": "DROP WATERFRONT",
                                    "length": "178",
                                    "movie_length": "extra long movie"
                                },
                                {
                                    "title": "DUDE BLINDNESS",
                                    "length": "132",
                                    "movie_length": "extra long movie"
                                },
                                {
                                    "title": "PSYCHO SHRUNK",
                                    "length": "155",
                                    "movie_length": "extra long movie"
                                },
                                {
                                    "title": "DUFFEL APOCALYPSE",
                                    "length": "171",
                                    "movie_length": "extra long movie"
                                },
                                {
                                    "title": "DURHAM PANKY",
                                    "length": "154",
                                    "movie_length": "extra long movie"
                                },
                                {
                                    "title": "PURE RUNNER",
                                    "length": "121",
                                    "movie_length": "extra long movie"
                                },
                                {
                                    "title": "DYING MAKER",
                                    "length": "168",
                                    "movie_length": "extra long movie"
                                },
                                {
                                    "title": "QUEEN LUKE",
                                    "length": "163",
                                    "movie_length": "extra long movie"
                                },
                                {
                                    "title": "QUEST MUSSOLINI",
                                    "length": "177",
                                    "movie_length": "extra long movie"
                                },
                                {
                                    "title": "DYNAMITE TARZAN",
                                    "length": "141",
                                    "movie_length": "extra long movie"
                                },
                                {
                                    "title": "RACER EGG",
                                    "length": "147",
                                    "movie_length": "extra long movie"
                                },
                                {
                                    "title": "EAGLES PANKY",
                                    "length": "140",
                                    "movie_length": "extra long movie"
                                },
                                {
                                    "title": "RAGING AIRPLANE",
                                    "length": "154",
                                    "movie_length": "extra long movie"
                                },
                                {
                                    "title": "EASY GLADIATOR",
                                    "length": "148",
                                    "movie_length": "extra long movie"
                                },
                                {
                                    "title": "EDGE KISSING",
                                    "length": "153",
                                    "movie_length": "extra long movie"
                                },
                                {
                                    "title": "ELEPHANT TROJAN",
                                    "length": "126",
                                    "movie_length": "extra long movie"
                                },
                                {
                                    "title": "RANGE MOONWALKER",
                                    "length": "147",
                                    "movie_length": "extra long movie"
                                },
                                {
                                    "title": "REAP UNFAITHFUL",
                                    "length": "136",
                                    "movie_length": "extra long movie"
                                },
                                {
                                    "title": "ELF MURDER",
                                    "length": "155",
                                    "movie_length": "extra long movie"
                                },
                                {
                                    "title": "ELIZABETH SHANE",
                                    "length": "152",
                                    "movie_length": "extra long movie"
                                },
                                {
                                    "title": "RECORDS ZORRO",
                                    "length": "182",
                                    "movie_length": "extra long movie"
                                },
                                {
                                    "title": "REDEMPTION COMFORTS",
                                    "length": "179",
                                    "movie_length": "extra long movie"
                                },
                                {
                                    "title": "REDS POCUS",
                                    "length": "182",
                                    "movie_length": "extra long movie"
                                },
                                {
                                    "title": "REEF SALUTE",
                                    "length": "123",
                                    "movie_length": "extra long movie"
                                },
                                {
                                    "title": "EMPIRE MALKOVICH",
                                    "length": "177",
                                    "movie_length": "extra long movie"
                                },
                                {
                                    "title": "ENCINO ELF",
                                    "length": "143",
                                    "movie_length": "extra long movie"
                                },
                                {
                                    "title": "REQUIEM TYCOON",
                                    "length": "167",
                                    "movie_length": "extra long movie"
                                },
                                {
                                    "title": "ENOUGH RAGING",
                                    "length": "158",
                                    "movie_length": "extra long movie"
                                },
                                {
                                    "title": "ENTRAPMENT SATISFACTION",
                                    "length": "176",
                                    "movie_length": "extra long movie"
                                },
                                {
                                    "title": "ESCAPE METROPOLIS",
                                    "length": "167",
                                    "movie_length": "extra long movie"
                                },
                                {
                                    "title": "RIDER CADDYSHACK",
                                    "length": "177",
                                    "movie_length": "extra long movie"
                                },
                                {
                                    "title": "EVERYONE CRAFT",
                                    "length": "163",
                                    "movie_length": "extra long movie"
                                },
                                {
                                    "title": "RIGHT CRANES",
                                    "length": "153",
                                    "movie_length": "extra long movie"
                                },
                                {
                                    "title": "EVOLUTION ALTER",
                                    "length": "174",
                                    "movie_length": "extra long movie"
                                },
                                {
                                    "title": "RIVER OUTLAW",
                                    "length": "149",
                                    "movie_length": "extra long movie"
                                },
                                {
                                    "title": "ROAD ROXANNE",
                                    "length": "158",
                                    "movie_length": "extra long movie"
                                },
                                {
                                    "title": "EXORCIST STING",
                                    "length": "167",
                                    "movie_length": "extra long movie"
                                },
                                {
                                    "title": "ROBBERY BRIGHT",
                                    "length": "134",
                                    "movie_length": "extra long movie"
                                },
                                {
                                    "title": "EXPECATIONS NATURAL",
                                    "length": "138",
                                    "movie_length": "extra long movie"
                                },
                                {
                                    "title": "ROCKETEER MOTHER",
                                    "length": "178",
                                    "movie_length": "extra long movie"
                                },
                                {
                                    "title": "ROCKY WAR",
                                    "length": "145",
                                    "movie_length": "extra long movie"
                                },
                                {
                                    "title": "ROLLERCOASTER BRINGING",
                                    "length": "153",
                                    "movie_length": "extra long movie"
                                },
                                {
                                    "title": "EXPRESS LONELY",
                                    "length": "178",
                                    "movie_length": "extra long movie"
                                },
                                {
                                    "title": "EXTRAORDINARY CONQUERER",
                                    "length": "122",
                                    "movie_length": "extra long movie"
                                },
                                {
                                    "title": "EYES DRIVING",
                                    "length": "172",
                                    "movie_length": "extra long movie"
                                },
                                {
                                    "title": "FACTORY DRAGON",
                                    "length": "144",
                                    "movie_length": "extra long movie"
                                },
                                {
                                    "title": "ROSES TREASURE",
                                    "length": "162",
                                    "movie_length": "extra long movie"
                                },
                                {
                                    "title": "FAMILY SWEET",
                                    "length": "155",
                                    "movie_length": "extra long movie"
                                },
                                {
                                    "title": "ROXANNE REBEL",
                                    "length": "171",
                                    "movie_length": "extra long movie"
                                },
                                {
                                    "title": "FANTASIA PARK",
                                    "length": "131",
                                    "movie_length": "extra long movie"
                                },
                                {
                                    "title": "RULES HUMAN",
                                    "length": "153",
                                    "movie_length": "extra long movie"
                                },
                                {
                                    "title": "FARGO GANDHI",
                                    "length": "130",
                                    "movie_length": "extra long movie"
                                },
                                {
                                    "title": "RUNAWAY TENENBAUMS",
                                    "length": "181",
                                    "movie_length": "extra long movie"
                                },
                                {
                                    "title": "FERRIS MOTHER",
                                    "length": "142",
                                    "movie_length": "extra long movie"
                                },
                                {
                                    "title": "FEVER EMPIRE",
                                    "length": "158",
                                    "movie_length": "extra long movie"
                                },
                                {
                                    "title": "RUSHMORE MERMAID",
                                    "length": "150",
                                    "movie_length": "extra long movie"
                                },
                                {
                                    "title": "FINDING ANACONDA",
                                    "length": "156",
                                    "movie_length": "extra long movie"
                                },
                                {
                                    "title": "FIRE WOLVES",
                                    "length": "173",
                                    "movie_length": "extra long movie"
                                },
                                {
                                    "title": "FIREBALL PHILADELPHIA",
                                    "length": "148",
                                    "movie_length": "extra long movie"
                                },
                                {
                                    "title": "SAINTS BRIDE",
                                    "length": "125",
                                    "movie_length": "extra long movie"
                                },
                                {
                                    "title": "FISH OPUS",
                                    "length": "125",
                                    "movie_length": "extra long movie"
                                },
                                {
                                    "title": "FLASH WARS",
                                    "length": "123",
                                    "movie_length": "extra long movie"
                                },
                                {
                                    "title": "SANTA PARIS",
                                    "length": "154",
                                    "movie_length": "extra long movie"
                                },
                                {
                                    "title": "SASSY PACKER",
                                    "length": "154",
                                    "movie_length": "extra long movie"
                                },
                                {
                                    "title": "FLIGHT LIES",
                                    "length": "179",
                                    "movie_length": "extra long movie"
                                },
                                {
                                    "title": "SATURDAY LAMBS",
                                    "length": "150",
                                    "movie_length": "extra long movie"
                                },
                                {
                                    "title": "SATURN NAME",
                                    "length": "182",
                                    "movie_length": "extra long movie"
                                },
                                {
                                    "title": "FLINTSTONES HAPPINESS",
                                    "length": "148",
                                    "movie_length": "extra long movie"
                                },
                                {
                                    "title": "SCALAWAG DUCK",
                                    "length": "183",
                                    "movie_length": "extra long movie"
                                },
                                {
                                    "title": "FLOATS GARDEN",
                                    "length": "145",
                                    "movie_length": "extra long movie"
                                },
                                {
                                    "title": "SCHOOL JACKET",
                                    "length": "151",
                                    "movie_length": "extra long movie"
                                },
                                {
                                    "title": "SCISSORHANDS SLUMS",
                                    "length": "147",
                                    "movie_length": "extra long movie"
                                },
                                {
                                    "title": "SCORPION APOLLO",
                                    "length": "137",
                                    "movie_length": "extra long movie"
                                },
                                {
                                    "title": "FOOL MOCKINGBIRD",
                                    "length": "158",
                                    "movie_length": "extra long movie"
                                },
                                {
                                    "title": "FOREVER CANDIDATE",
                                    "length": "131",
                                    "movie_length": "extra long movie"
                                },
                                {
                                    "title": "SEARCHERS WAIT",
                                    "length": "182",
                                    "movie_length": "extra long movie"
                                },
                                {
                                    "title": "FRANKENSTEIN STRANGER",
                                    "length": "159",
                                    "movie_length": "extra long movie"
                                },
                                {
                                    "title": "FREAKY POCUS",
                                    "length": "126",
                                    "movie_length": "extra long movie"
                                },
                                {
                                    "title": "SECRETARY ROUGE",
                                    "length": "158",
                                    "movie_length": "extra long movie"
                                },
                                {
                                    "title": "FREEDOM CLEOPATRA",
                                    "length": "133",
                                    "movie_length": "extra long movie"
                                },
                                {
                                    "title": "FRONTIER CABIN",
                                    "length": "183",
                                    "movie_length": "extra long movie"
                                },
                                {
                                    "title": "FURY MURDER",
                                    "length": "178",
                                    "movie_length": "extra long movie"
                                },
                                {
                                    "title": "SEVEN SWARM",
                                    "length": "127",
                                    "movie_length": "extra long movie"
                                },
                                {
                                    "title": "GABLES METROPOLIS",
                                    "length": "161",
                                    "movie_length": "extra long movie"
                                },
                                {
                                    "title": "GALAXY SWEETHEARTS",
                                    "length": "128",
                                    "movie_length": "extra long movie"
                                },
                                {
                                    "title": "GANGS PRIDE",
                                    "length": "185",
                                    "movie_length": "extra long movie"
                                },
                                {
                                    "title": "GATHERING CALENDAR",
                                    "length": "176",
                                    "movie_length": "extra long movie"
                                },
                                {
                                    "title": "GENTLEMEN STAGE",
                                    "length": "125",
                                    "movie_length": "extra long movie"
                                },
                                {
                                    "title": "SHINING ROSES",
                                    "length": "125",
                                    "movie_length": "extra long movie"
                                },
                                {
                                    "title": "GILMORE BOILED",
                                    "length": "163",
                                    "movie_length": "extra long movie"
                                },
                                {
                                    "title": "GLADIATOR WESTWARD",
                                    "length": "173",
                                    "movie_length": "extra long movie"
                                },
                                {
                                    "title": "GOLD RIVER",
                                    "length": "154",
                                    "movie_length": "extra long movie"
                                },
                                {
                                    "title": "SHOW LORD",
                                    "length": "167",
                                    "movie_length": "extra long movie"
                                },
                                {
                                    "title": "SHREK LICENSE",
                                    "length": "154",
                                    "movie_length": "extra long movie"
                                },
                                {
                                    "title": "SHRUNK DIVINE",
                                    "length": "139",
                                    "movie_length": "extra long movie"
                                },
                                {
                                    "title": "GOLDMINE TYCOON",
                                    "length": "153",
                                    "movie_length": "extra long movie"
                                },
                                {
                                    "title": "GOSFORD DONNIE",
                                    "length": "129",
                                    "movie_length": "extra long movie"
                                },
                                {
                                    "title": "SIERRA DIVIDE",
                                    "length": "135",
                                    "movie_length": "extra long movie"
                                },
                                {
                                    "title": "GRACELAND DYNAMITE",
                                    "length": "140",
                                    "movie_length": "extra long movie"
                                },
                                {
                                    "title": "GRADUATE LORD",
                                    "length": "156",
                                    "movie_length": "extra long movie"
                                },
                                {
                                    "title": "GREASE YOUTH",
                                    "length": "135",
                                    "movie_length": "extra long movie"
                                },
                                {
                                    "title": "SINNERS ATLANTIS",
                                    "length": "126",
                                    "movie_length": "extra long movie"
                                },
                                {
                                    "title": "SISTER FREDDY",
                                    "length": "152",
                                    "movie_length": "extra long movie"
                                },
                                {
                                    "title": "SKY MIRACLE",
                                    "length": "132",
                                    "movie_length": "extra long movie"
                                },
                                {
                                    "title": "SLACKER LIAISONS",
                                    "length": "179",
                                    "movie_length": "extra long movie"
                                },
                                {
                                    "title": "SLEEPING SUSPECTS",
                                    "length": "129",
                                    "movie_length": "extra long movie"
                                },
                                {
                                    "title": "GREEDY ROOTS",
                                    "length": "166",
                                    "movie_length": "extra long movie"
                                },
                                {
                                    "title": "SLEEPY JAPANESE",
                                    "length": "137",
                                    "movie_length": "extra long movie"
                                },
                                {
                                    "title": "GREEK EVERYONE",
                                    "length": "176",
                                    "movie_length": "extra long movie"
                                },
                                {
                                    "title": "GRINCH MASSAGE",
                                    "length": "150",
                                    "movie_length": "extra long movie"
                                },
                                {
                                    "title": "SLIPPER FIDELITY",
                                    "length": "156",
                                    "movie_length": "extra long movie"
                                },
                                {
                                    "title": "SLUMS DUCK",
                                    "length": "147",
                                    "movie_length": "extra long movie"
                                },
                                {
                                    "title": "GRIT CLOCKWORK",
                                    "length": "137",
                                    "movie_length": "extra long movie"
                                },
                                {
                                    "title": "GROUNDHOG UNCUT",
                                    "length": "139",
                                    "movie_length": "extra long movie"
                                },
                                {
                                    "title": "SMOOCHY CONTROL",
                                    "length": "184",
                                    "movie_length": "extra long movie"
                                },
                                {
                                    "title": "GUNFIGHTER MUSSOLINI",
                                    "length": "127",
                                    "movie_length": "extra long movie"
                                },
                                {
                                    "title": "HALF OUTFIELD",
                                    "length": "146",
                                    "movie_length": "extra long movie"
                                },
                                {
                                    "title": "HAMLET WISDOM",
                                    "length": "146",
                                    "movie_length": "extra long movie"
                                },
                                {
                                    "title": "SOLDIERS EVOLUTION",
                                    "length": "185",
                                    "movie_length": "extra long movie"
                                },
                                {
                                    "title": "SOMETHING DUCK",
                                    "length": "180",
                                    "movie_length": "extra long movie"
                                },
                                {
                                    "title": "SONG HEDWIG",
                                    "length": "165",
                                    "movie_length": "extra long movie"
                                },
                                {
                                    "title": "SONS INTERVIEW",
                                    "length": "184",
                                    "movie_length": "extra long movie"
                                },
                                {
                                    "title": "SORORITY QUEEN",
                                    "length": "184",
                                    "movie_length": "extra long movie"
                                },
                                {
                                    "title": "SOUP WISDOM",
                                    "length": "169",
                                    "movie_length": "extra long movie"
                                },
                                {
                                    "title": "SOUTH WAIT",
                                    "length": "143",
                                    "movie_length": "extra long movie"
                                },
                                {
                                    "title": "HAROLD FRENCH",
                                    "length": "168",
                                    "movie_length": "extra long movie"
                                },
                                {
                                    "title": "SPEAKEASY DATE",
                                    "length": "165",
                                    "movie_length": "extra long movie"
                                },
                                {
                                    "title": "SPEED SUIT",
                                    "length": "124",
                                    "movie_length": "extra long movie"
                                },
                                {
                                    "title": "SPICE SORORITY",
                                    "length": "141",
                                    "movie_length": "extra long movie"
                                },
                                {
                                    "title": "HARRY IDAHO",
                                    "length": "121",
                                    "movie_length": "extra long movie"
                                },
                                {
                                    "title": "SPINAL ROCKY",
                                    "length": "138",
                                    "movie_length": "extra long movie"
                                },
                                {
                                    "title": "SPIRIT FLINTSTONES",
                                    "length": "149",
                                    "movie_length": "extra long movie"
                                },
                                {
                                    "title": "SPIRITED CASUALTIES",
                                    "length": "138",
                                    "movie_length": "extra long movie"
                                },
                                {
                                    "title": "SPLASH GUMP",
                                    "length": "175",
                                    "movie_length": "extra long movie"
                                },
                                {
                                    "title": "SPLENDOR PATTON",
                                    "length": "134",
                                    "movie_length": "extra long movie"
                                },
                                {
                                    "title": "SPOILERS HELLFIGHTERS",
                                    "length": "151",
                                    "movie_length": "extra long movie"
                                },
                                {
                                    "title": "HAUNTING PIANIST",
                                    "length": "181",
                                    "movie_length": "extra long movie"
                                },
                                {
                                    "title": "SQUAD FISH",
                                    "length": "136",
                                    "movie_length": "extra long movie"
                                },
                                {
                                    "title": "HEDWIG ALTER",
                                    "length": "169",
                                    "movie_length": "extra long movie"
                                },
                                {
                                    "title": "HOBBIT ALIEN",
                                    "length": "157",
                                    "movie_length": "extra long movie"
                                },
                                {
                                    "title": "STALLION SUNDANCE",
                                    "length": "130",
                                    "movie_length": "extra long movie"
                                },
                                {
                                    "title": "HOCUS FRIDA",
                                    "length": "141",
                                    "movie_length": "extra long movie"
                                },
                                {
                                    "title": "STAR OPERATION",
                                    "length": "181",
                                    "movie_length": "extra long movie"
                                },
                                {
                                    "title": "HOLES BRANNIGAN",
                                    "length": "128",
                                    "movie_length": "extra long movie"
                                },
                                {
                                    "title": "STEEL SANTA",
                                    "length": "143",
                                    "movie_length": "extra long movie"
                                },
                                {
                                    "title": "STEERS ARMAGEDDON",
                                    "length": "140",
                                    "movie_length": "extra long movie"
                                },
                                {
                                    "title": "HOLLOW JEOPARDY",
                                    "length": "136",
                                    "movie_length": "extra long movie"
                                },
                                {
                                    "title": "HOLOCAUST HIGHBALL",
                                    "length": "149",
                                    "movie_length": "extra long movie"
                                },
                                {
                                    "title": "STOCK GLASS",
                                    "length": "160",
                                    "movie_length": "extra long movie"
                                },
                                {
                                    "title": "HOME PITY",
                                    "length": "185",
                                    "movie_length": "extra long movie"
                                },
                                {
                                    "title": "HOMICIDE PEACH",
                                    "length": "141",
                                    "movie_length": "extra long movie"
                                },
                                {
                                    "title": "STORY SIDE",
                                    "length": "163",
                                    "movie_length": "extra long movie"
                                },
                                {
                                    "title": "STRAIGHT HOURS",
                                    "length": "151",
                                    "movie_length": "extra long movie"
                                },
                                {
                                    "title": "HOOSIERS BIRDCAGE",
                                    "length": "176",
                                    "movie_length": "extra long movie"
                                },
                                {
                                    "title": "STRANGER STRANGERS",
                                    "length": "139",
                                    "movie_length": "extra long movie"
                                },
                                {
                                    "title": "HOPE TOOTSIE",
                                    "length": "139",
                                    "movie_length": "extra long movie"
                                },
                                {
                                    "title": "STREAK RIDGEMONT",
                                    "length": "132",
                                    "movie_length": "extra long movie"
                                },
                                {
                                    "title": "HORROR REIGN",
                                    "length": "139",
                                    "movie_length": "extra long movie"
                                },
                                {
                                    "title": "STRICTLY SCARFACE",
                                    "length": "144",
                                    "movie_length": "extra long movie"
                                },
                                {
                                    "title": "SUBMARINE BED",
                                    "length": "127",
                                    "movie_length": "extra long movie"
                                },
                                {
                                    "title": "HOTEL HAPPINESS",
                                    "length": "181",
                                    "movie_length": "extra long movie"
                                },
                                {
                                    "title": "HOURS RAGE",
                                    "length": "122",
                                    "movie_length": "extra long movie"
                                },
                                {
                                    "title": "HUNCHBACK IMPOSSIBLE",
                                    "length": "151",
                                    "movie_length": "extra long movie"
                                },
                                {
                                    "title": "HUNTER ALTER",
                                    "length": "125",
                                    "movie_length": "extra long movie"
                                },
                                {
                                    "title": "SUN CONFESSIONS",
                                    "length": "141",
                                    "movie_length": "extra long movie"
                                },
                                {
                                    "title": "HYSTERICAL GRAIL",
                                    "length": "150",
                                    "movie_length": "extra long movie"
                                },
                                {
                                    "title": "SUNRISE LEAGUE",
                                    "length": "135",
                                    "movie_length": "extra long movie"
                                },
                                {
                                    "title": "ICE CROSSING",
                                    "length": "131",
                                    "movie_length": "extra long movie"
                                },
                                {
                                    "title": "IDAHO LOVE",
                                    "length": "172",
                                    "movie_length": "extra long movie"
                                },
                                {
                                    "title": "IGBY MAKER",
                                    "length": "160",
                                    "movie_length": "extra long movie"
                                },
                                {
                                    "title": "ILLUSION AMELIE",
                                    "length": "122",
                                    "movie_length": "extra long movie"
                                },
                                {
                                    "title": "SWARM GOLD",
                                    "length": "123",
                                    "movie_length": "extra long movie"
                                },
                                {
                                    "title": "SWEDEN SHINING",
                                    "length": "176",
                                    "movie_length": "extra long movie"
                                },
                                {
                                    "title": "SWEET BROTHERHOOD",
                                    "length": "185",
                                    "movie_length": "extra long movie"
                                },
                                {
                                    "title": "IMAGE PRINCESS",
                                    "length": "178",
                                    "movie_length": "extra long movie"
                                },
                                {
                                    "title": "TADPOLE PARK",
                                    "length": "155",
                                    "movie_length": "extra long movie"
                                },
                                {
                                    "title": "RUN PACIFIC",
                                    "length": "145",
                                    "movie_length": "extra long movie"
                                },
                                {
                                    "title": "IMPACT ALADDIN",
                                    "length": "180",
                                    "movie_length": "extra long movie"
                                },
                                {
                                    "title": "INCH JET",
                                    "length": "167",
                                    "movie_length": "extra long movie"
                                },
                                {
                                    "title": "INDEPENDENCE HOTEL",
                                    "length": "157",
                                    "movie_length": "extra long movie"
                                },
                                {
                                    "title": "TELEGRAPH VOYAGE",
                                    "length": "148",
                                    "movie_length": "extra long movie"
                                },
                                {
                                    "title": "TELEMARK HEARTBREAKERS",
                                    "length": "152",
                                    "movie_length": "extra long movie"
                                },
                                {
                                    "title": "INDIAN LOVE",
                                    "length": "135",
                                    "movie_length": "extra long movie"
                                },
                                {
                                    "title": "INNOCENT USUAL",
                                    "length": "178",
                                    "movie_length": "extra long movie"
                                },
                                {
                                    "title": "INSECTS STONE",
                                    "length": "123",
                                    "movie_length": "extra long movie"
                                },
                                {
                                    "title": "INTRIGUE WORST",
                                    "length": "181",
                                    "movie_length": "extra long movie"
                                },
                                {
                                    "title": "TEXAS WATCH",
                                    "length": "179",
                                    "movie_length": "extra long movie"
                                },
                                {
                                    "title": "THEORY MERMAID",
                                    "length": "184",
                                    "movie_length": "extra long movie"
                                },
                                {
                                    "title": "THIEF PELICAN",
                                    "length": "135",
                                    "movie_length": "extra long movie"
                                },
                                {
                                    "title": "ITALIAN AFRICAN",
                                    "length": "174",
                                    "movie_length": "extra long movie"
                                },
                                {
                                    "title": "JACKET FRISCO",
                                    "length": "181",
                                    "movie_length": "extra long movie"
                                },
                                {
                                    "title": "TIGHTS DAWN",
                                    "length": "172",
                                    "movie_length": "extra long movie"
                                },
                                {
                                    "title": "JADE BUNCH",
                                    "length": "174",
                                    "movie_length": "extra long movie"
                                },
                                {
                                    "title": "JAPANESE RUN",
                                    "length": "135",
                                    "movie_length": "extra long movie"
                                },
                                {
                                    "title": "JASON TRAP",
                                    "length": "130",
                                    "movie_length": "extra long movie"
                                },
                                {
                                    "title": "JEDI BENEATH",
                                    "length": "128",
                                    "movie_length": "extra long movie"
                                },
                                {
                                    "title": "TOMORROW HUSTLER",
                                    "length": "142",
                                    "movie_length": "extra long movie"
                                },
                                {
                                    "title": "TOOTSIE PILOT",
                                    "length": "157",
                                    "movie_length": "extra long movie"
                                },
                                {
                                    "title": "TORQUE BOUND",
                                    "length": "179",
                                    "movie_length": "extra long movie"
                                },
                                {
                                    "title": "TOURIST PELICAN",
                                    "length": "152",
                                    "movie_length": "extra long movie"
                                },
                                {
                                    "title": "TOWERS HURRICANE",
                                    "length": "144",
                                    "movie_length": "extra long movie"
                                },
                                {
                                    "title": "TOWN ARK",
                                    "length": "136",
                                    "movie_length": "extra long movie"
                                },
                                {
                                    "title": "TRACY CIDER",
                                    "length": "142",
                                    "movie_length": "extra long movie"
                                },
                                {
                                    "title": "TRADING PINOCCHIO",
                                    "length": "170",
                                    "movie_length": "extra long movie"
                                },
                                {
                                    "title": "TRAFFIC HOBBIT",
                                    "length": "139",
                                    "movie_length": "extra long movie"
                                },
                                {
                                    "title": "JERICHO MULAN",
                                    "length": "171",
                                    "movie_length": "extra long movie"
                                },
                                {
                                    "title": "TRAINSPOTTING STRANGERS",
                                    "length": "132",
                                    "movie_length": "extra long movie"
                                },
                                {
                                    "title": "TRAMP OTHERS",
                                    "length": "171",
                                    "movie_length": "extra long movie"
                                },
                                {
                                    "title": "TRANSLATION SUMMER",
                                    "length": "168",
                                    "movie_length": "extra long movie"
                                },
                                {
                                    "title": "JERK PAYCHECK",
                                    "length": "172",
                                    "movie_length": "extra long movie"
                                },
                                {
                                    "title": "JINGLE SAGEBRUSH",
                                    "length": "124",
                                    "movie_length": "extra long movie"
                                },
                                {
                                    "title": "JUMANJI BLADE",
                                    "length": "121",
                                    "movie_length": "extra long movie"
                                },
                                {
                                    "title": "JUNGLE CLOSER",
                                    "length": "134",
                                    "movie_length": "extra long movie"
                                },
                                {
                                    "title": "KENTUCKIAN GIANT",
                                    "length": "169",
                                    "movie_length": "extra long movie"
                                },
                                {
                                    "title": "KICK SAVANNAH",
                                    "length": "179",
                                    "movie_length": "extra long movie"
                                },
                                {
                                    "title": "KILLER INNOCENT",
                                    "length": "161",
                                    "movie_length": "extra long movie"
                                },
                                {
                                    "title": "KING EVOLUTION",
                                    "length": "184",
                                    "movie_length": "extra long movie"
                                },
                                {
                                    "title": "KISS GLORY",
                                    "length": "163",
                                    "movie_length": "extra long movie"
                                },
                                {
                                    "title": "TUXEDO MILE",
                                    "length": "152",
                                    "movie_length": "extra long movie"
                                },
                                {
                                    "title": "TWISTED PIRATES",
                                    "length": "152",
                                    "movie_length": "extra long movie"
                                },
                                {
                                    "title": "GRAPES FURY",
                                    "length": "155",
                                    "movie_length": "extra long movie"
                                },
                                {
                                    "title": "AFRICAN EGG",
                                    "length": "130",
                                    "movie_length": "extra long movie"
                                },
                                {
                                    "title": "UNCUT SUICIDES",
                                    "length": "172",
                                    "movie_length": "extra long movie"
                                },
                                {
                                    "title": "KRAMER CHOCOLATE",
                                    "length": "171",
                                    "movie_length": "extra long movie"
                                },
                                {
                                    "title": "AGENT TRUMAN",
                                    "length": "169",
                                    "movie_length": "extra long movie"
                                },
                                {
                                    "title": "UNFORGIVEN ZOOLANDER",
                                    "length": "129",
                                    "movie_length": "extra long movie"
                                },
                                {
                                    "title": "UNITED PILOT",
                                    "length": "164",
                                    "movie_length": "extra long movie"
                                },
                                {
                                    "title": "ALAMO VIDEOTAPE",
                                    "length": "126",
                                    "movie_length": "extra long movie"
                                },
                                {
                                    "title": "UPRISING UPTOWN",
                                    "length": "174",
                                    "movie_length": "extra long movie"
                                },
                                {
                                    "title": "ALASKA PHANTOM",
                                    "length": "136",
                                    "movie_length": "extra long movie"
                                },
                                {
                                    "title": "USUAL UNTOUCHABLES",
                                    "length": "128",
                                    "movie_length": "extra long movie"
                                },
                                {
                                    "title": "VACATION BOONDOCK",
                                    "length": "145",
                                    "movie_length": "extra long movie"
                                },
                                {
                                    "title": "ALI FOREVER",
                                    "length": "150",
                                    "movie_length": "extra long movie"
                                },
                                {
                                    "title": "LAMBS CINCINATTI",
                                    "length": "144",
                                    "movie_length": "extra long movie"
                                },
                                {
                                    "title": "VAMPIRE WHALE",
                                    "length": "126",
                                    "movie_length": "extra long movie"
                                },
                                {
                                    "title": "VANILLA DAY",
                                    "length": "122",
                                    "movie_length": "extra long movie"
                                },
                                {
                                    "title": "VANISHED GARDEN",
                                    "length": "142",
                                    "movie_length": "extra long movie"
                                },
                                {
                                    "title": "VANISHING ROCKY",
                                    "length": "123",
                                    "movie_length": "extra long movie"
                                },
                                {
                                    "title": "ALLEY EVOLUTION",
                                    "length": "180",
                                    "movie_length": "extra long movie"
                                },
                                {
                                    "title": "VELVET TERMINATOR",
                                    "length": "173",
                                    "movie_length": "extra long movie"
                                },
                                {
                                    "title": "LAWLESS VISION",
                                    "length": "181",
                                    "movie_length": "extra long movie"
                                },
                                {
                                    "title": "LAWRENCE LOVE",
                                    "length": "175",
                                    "movie_length": "extra long movie"
                                },
                                {
                                    "title": "VIDEOTAPE ARSENIC",
                                    "length": "145",
                                    "movie_length": "extra long movie"
                                },
                                {
                                    "title": "VIETNAM SMOOCHY",
                                    "length": "174",
                                    "movie_length": "extra long movie"
                                },
                                {
                                    "title": "AMERICAN CIRCUS",
                                    "length": "129",
                                    "movie_length": "extra long movie"
                                },
                                {
                                    "title": "VIRGIN DAISY",
                                    "length": "179",
                                    "movie_length": "extra long movie"
                                },
                                {
                                    "title": "VIRGINIAN PLUTO",
                                    "length": "164",
                                    "movie_length": "extra long movie"
                                },
                                {
                                    "title": "VIRTUAL SPOILERS",
                                    "length": "144",
                                    "movie_length": "extra long movie"
                                },
                                {
                                    "title": "LEATHERNECKS DWARFS",
                                    "length": "153",
                                    "movie_length": "extra long movie"
                                },
                                {
                                    "title": "VOICE PEACH",
                                    "length": "139",
                                    "movie_length": "extra long movie"
                                },
                                {
                                    "title": "VOLCANO TEXAS",
                                    "length": "157",
                                    "movie_length": "extra long movie"
                                },
                                {
                                    "title": "VOLUME HOUSE",
                                    "length": "132",
                                    "movie_length": "extra long movie"
                                },
                                {
                                    "title": "ANALYZE HOOSIERS",
                                    "length": "181",
                                    "movie_length": "extra long movie"
                                },
                                {
                                    "title": "WAGON JAWS",
                                    "length": "152",
                                    "movie_length": "extra long movie"
                                },
                                {
                                    "title": "ANONYMOUS HUMAN",
                                    "length": "179",
                                    "movie_length": "extra long movie"
                                },
                                {
                                    "title": "ANTITRUST TOMATOES",
                                    "length": "168",
                                    "movie_length": "extra long movie"
                                },
                                {
                                    "title": "WALLS ARTIST",
                                    "length": "135",
                                    "movie_length": "extra long movie"
                                },
                                {
                                    "title": "LESSON CLEOPATRA",
                                    "length": "167",
                                    "movie_length": "extra long movie"
                                },
                                {
                                    "title": "LIAISONS SWEET",
                                    "length": "140",
                                    "movie_length": "extra long movie"
                                },
                                {
                                    "title": "WARDROBE PHANTOM",
                                    "length": "178",
                                    "movie_length": "extra long movie"
                                },
                                {
                                    "title": "LIBERTY MAGNIFICENT",
                                    "length": "138",
                                    "movie_length": "extra long movie"
                                },
                                {
                                    "title": "WARS PLUTO",
                                    "length": "128",
                                    "movie_length": "extra long movie"
                                },
                                {
                                    "title": "WASH HEAVENLY",
                                    "length": "161",
                                    "movie_length": "extra long movie"
                                },
                                {
                                    "title": "APOLLO TEEN",
                                    "length": "153",
                                    "movie_length": "extra long movie"
                                },
                                {
                                    "title": "LIES TREATMENT",
                                    "length": "147",
                                    "movie_length": "extra long movie"
                                },
                                {
                                    "title": "LIFE TWISTED",
                                    "length": "137",
                                    "movie_length": "extra long movie"
                                },
                                {
                                    "title": "LIGHTS DEER",
                                    "length": "174",
                                    "movie_length": "extra long movie"
                                },
                                {
                                    "title": "ARACHNOPHOBIA ROLLERCOASTER",
                                    "length": "147",
                                    "movie_length": "extra long movie"
                                },
                                {
                                    "title": "WEEKEND PERSONAL",
                                    "length": "134",
                                    "movie_length": "extra long movie"
                                },
                                {
                                    "title": "LOATHING LEGALLY",
                                    "length": "140",
                                    "movie_length": "extra long movie"
                                },
                                {
                                    "title": "WEST LION",
                                    "length": "159",
                                    "movie_length": "extra long movie"
                                },
                                {
                                    "title": "ARGONAUTS TOWN",
                                    "length": "127",
                                    "movie_length": "extra long movie"
                                },
                                {
                                    "title": "ARIZONA BANG",
                                    "length": "121",
                                    "movie_length": "extra long movie"
                                },
                                {
                                    "title": "LOLITA WORLD",
                                    "length": "155",
                                    "movie_length": "extra long movie"
                                },
                                {
                                    "title": "WIFE TURN",
                                    "length": "183",
                                    "movie_length": "extra long movie"
                                },
                                {
                                    "title": "WILD APOLLO",
                                    "length": "181",
                                    "movie_length": "extra long movie"
                                },
                                {
                                    "title": "WILLOW TRACY",
                                    "length": "137",
                                    "movie_length": "extra long movie"
                                },
                                {
                                    "title": "ARMY FLINTSTONES",
                                    "length": "148",
                                    "movie_length": "extra long movie"
                                },
                                {
                                    "title": "ARSENIC INDEPENDENCE",
                                    "length": "137",
                                    "movie_length": "extra long movie"
                                },
                                {
                                    "title": "LOSE INCH",
                                    "length": "137",
                                    "movie_length": "extra long movie"
                                },
                                {
                                    "title": "ARTIST COLDBLOODED",
                                    "length": "170",
                                    "movie_length": "extra long movie"
                                },
                                {
                                    "title": "ATLANTIS CAUSE",
                                    "length": "170",
                                    "movie_length": "extra long movie"
                                },
                                {
                                    "title": "BABY HALL",
                                    "length": "153",
                                    "movie_length": "extra long movie"
                                },
                                {
                                    "title": "WOMEN DORADO",
                                    "length": "126",
                                    "movie_length": "extra long movie"
                                },
                                {
                                    "title": "LOVE SUICIDES",
                                    "length": "181",
                                    "movie_length": "extra long movie"
                                },
                                {
                                    "title": "WONDERFUL DROP",
                                    "length": "126",
                                    "movie_length": "extra long movie"
                                },
                                {
                                    "title": "BADMAN DAWN",
                                    "length": "162",
                                    "movie_length": "extra long movie"
                                },
                                {
                                    "title": "BAKED CLEOPATRA",
                                    "length": "182",
                                    "movie_length": "extra long movie"
                                },
                                {
                                    "title": "LOVERBOY ATTACKS",
                                    "length": "162",
                                    "movie_length": "extra long movie"
                                },
                                {
                                    "title": "WORKER TARZAN",
                                    "length": "139",
                                    "movie_length": "extra long movie"
                                },
                                {
                                    "title": "LUCK OPUS",
                                    "length": "152",
                                    "movie_length": "extra long movie"
                                },
                                {
                                    "title": "WORLD LEATHERNECKS",
                                    "length": "171",
                                    "movie_length": "extra long movie"
                                },
                                {
                                    "title": "WORST BANGER",
                                    "length": "185",
                                    "movie_length": "extra long movie"
                                },
                                {
                                    "title": "WRATH MILE",
                                    "length": "176",
                                    "movie_length": "extra long movie"
                                },
                                {
                                    "title": "WRONG BEHAVIOR",
                                    "length": "178",
                                    "movie_length": "extra long movie"
                                },
                                {
                                    "title": "BALLROOM MOCKINGBIRD",
                                    "length": "173",
                                    "movie_length": "extra long movie"
                                },
                                {
                                    "title": "BAREFOOT MANCHURIAN",
                                    "length": "129",
                                    "movie_length": "extra long movie"
                                },
                                {
                                    "title": "YOUNG LANGUAGE",
                                    "length": "183",
                                    "movie_length": "extra long movie"
                                },
                                {
                                    "title": "YOUTH KICK",
                                    "length": "179",
                                    "movie_length": "extra long movie"
                                },
                                {
                                    "title": "BEACH HEARTBREAKERS",
                                    "length": "122",
                                    "movie_length": "extra long movie"
                                },
                                {
                                    "title": "BEAR GRACELAND",
                                    "length": "160",
                                    "movie_length": "extra long movie"
                                },
                                {
                                    "title": "TALENTED HOMICIDE",
                                    "length": "173",
                                    "movie_length": "extra long movie"
                                }
                            ]
                        },
                        "text/html": "<table><tr><th>title</th><th>length</th><th>movie_length</th></tr><tr><td>MUPPET MILE</td><td>50</td><td>short movie</td></tr><tr><td>ACE GOLDFINGER</td><td>48</td><td>short movie</td></tr><tr><td>ADAPTATION HOLES</td><td>50</td><td>short movie</td></tr><tr><td>CROSSING DIVORCE</td><td>50</td><td>short movie</td></tr><tr><td>SIDE ARK</td><td>52</td><td>short movie</td></tr><tr><td>SHANGHAI TYCOON</td><td>47</td><td>short movie</td></tr><tr><td>SHAKESPEARE SADDLE</td><td>60</td><td>short movie</td></tr><tr><td>AIRPORT POLLOCK</td><td>54</td><td>short movie</td></tr><tr><td>CABIN FLASH</td><td>53</td><td>short movie</td></tr><tr><td>CADDYSHACK JEDI</td><td>52</td><td>short movie</td></tr><tr><td>ENGLISH BULWORTH</td><td>51</td><td>short movie</td></tr><tr><td>HARPER DYING</td><td>52</td><td>short movie</td></tr><tr><td>MOVIE SHAKESPEARE</td><td>53</td><td>short movie</td></tr><tr><td>SENSE GREEK</td><td>54</td><td>short movie</td></tr><tr><td>ALIEN CENTER</td><td>46</td><td>short movie</td></tr><tr><td>GO PURPLE</td><td>54</td><td>short movie</td></tr><tr><td>CUPBOARD SINNERS</td><td>56</td><td>short movie</td></tr><tr><td>ALTER VICTORY</td><td>57</td><td>short movie</td></tr><tr><td>MOSQUITO ARMAGEDDON</td><td>57</td><td>short movie</td></tr><tr><td>RUSH GOODFELLAS</td><td>48</td><td>short movie</td></tr><tr><td>ZORRO ARK</td><td>50</td><td>short movie</td></tr><tr><td>GROSSE WONDERFUL</td><td>49</td><td>short movie</td></tr><tr><td>ROOM ROMAN</td><td>60</td><td>short movie</td></tr><tr><td>DANCES NONE</td><td>58</td><td>short movie</td></tr><tr><td>LEGEND JEDI</td><td>59</td><td>short movie</td></tr><tr><td>LABYRINTH LEAGUE</td><td>46</td><td>short movie</td></tr><tr><td>GUMP DATE</td><td>53</td><td>short movie</td></tr><tr><td>SUSPECTS QUILLS</td><td>47</td><td>short movie</td></tr><tr><td>EXCITEMENT EVE</td><td>51</td><td>short movie</td></tr><tr><td>GOODFELLAS SALUTE</td><td>56</td><td>short movie</td></tr><tr><td>RINGS HEARTBREAKERS</td><td>58</td><td>short movie</td></tr><tr><td>MOCKINGBIRD HOLLYWOOD</td><td>60</td><td>short movie</td></tr><tr><td>HAWK CHILL</td><td>47</td><td>short movie</td></tr><tr><td>RIDGEMONT SUBMARINE</td><td>46</td><td>short movie</td></tr><tr><td>DAUGHTER MADIGAN</td><td>59</td><td>short movie</td></tr><tr><td>DAWN POND</td><td>57</td><td>short movie</td></tr><tr><td>HEARTBREAKERS BRIGHT</td><td>59</td><td>short movie</td></tr><tr><td>PRIMARY GLASS</td><td>53</td><td>short movie</td></tr><tr><td>PITY BOUND</td><td>60</td><td>short movie</td></tr><tr><td>HEAVEN FREEDOM</td><td>48</td><td>short movie</td></tr><tr><td>HEAVENLY GUN</td><td>49</td><td>short movie</td></tr><tr><td>CHAMPION FLATLINERS</td><td>51</td><td>short movie</td></tr><tr><td>HURRICANE AFFAIR</td><td>49</td><td>short movie</td></tr><tr><td>HOOK CHARIOTS</td><td>49</td><td>short movie</td></tr><tr><td>DEEP CRUSADE</td><td>51</td><td>short movie</td></tr><tr><td>PILOT HOOSIERS</td><td>50</td><td>short movie</td></tr><tr><td>PHANTOM GLORY</td><td>60</td><td>short movie</td></tr><tr><td>KWAI HOMEWARD</td><td>46</td><td>short movie</td></tr><tr><td>MINORITY KISS</td><td>59</td><td>short movie</td></tr><tr><td>FANTASY TROOPERS</td><td>58</td><td>short movie</td></tr><tr><td>MIDSUMMER GROUNDHOG</td><td>48</td><td>short movie</td></tr><tr><td>FRISCO FORREST</td><td>51</td><td>short movie</td></tr><tr><td>MATRIX SNOWMAN</td><td>56</td><td>short movie</td></tr><tr><td>DESTINY SATURDAY</td><td>56</td><td>short movie</td></tr><tr><td>MAGNIFICENT CHITTY</td><td>53</td><td>short movie</td></tr><tr><td>HANOVER GALAXY</td><td>47</td><td>short movie</td></tr><tr><td>INTERVIEW LIAISONS</td><td>59</td><td>short movie</td></tr><tr><td>LUST LOCK</td><td>52</td><td>short movie</td></tr><tr><td>PELICAN COMFORTS</td><td>48</td><td>short movie</td></tr><tr><td>JUGGLER HARDLY</td><td>54</td><td>short movie</td></tr><tr><td>PARADISE SABRINA</td><td>48</td><td>short movie</td></tr><tr><td>WOLVES DESIRE</td><td>55</td><td>short movie</td></tr><tr><td>LION UNCUT</td><td>50</td><td>short movie</td></tr><tr><td>OKLAHOMA JUMANJI</td><td>58</td><td>short movie</td></tr><tr><td>WHISPERER GIANT</td><td>59</td><td>short movie</td></tr><tr><td>BENEATH RUSH</td><td>53</td><td>short movie</td></tr><tr><td>KILL BROTHERHOOD</td><td>54</td><td>short movie</td></tr><tr><td>WESTWARD SEABISCUIT</td><td>52</td><td>short movie</td></tr><tr><td>CLOSER BANG</td><td>58</td><td>short movie</td></tr><tr><td>HALL CASSIDY</td><td>51</td><td>short movie</td></tr><tr><td>ODDS BOOGIE</td><td>48</td><td>short movie</td></tr><tr><td>VISION TORQUE</td><td>59</td><td>short movie</td></tr><tr><td>DIVORCE SHINING</td><td>47</td><td>short movie</td></tr><tr><td>COAST RAINBOW</td><td>55</td><td>short movie</td></tr><tr><td>DOCTOR GRAIL</td><td>57</td><td>short movie</td></tr><tr><td>VALENTINE VANISHING</td><td>48</td><td>short movie</td></tr><tr><td>TROJAN TOMORROW</td><td>52</td><td>short movie</td></tr><tr><td>NOON PAPI</td><td>57</td><td>short movie</td></tr><tr><td>OCTOBER SUBMARINE</td><td>54</td><td>short movie</td></tr><tr><td>JEKYLL FROGMEN</td><td>58</td><td>short movie</td></tr><tr><td>THIN SAGEBRUSH</td><td>53</td><td>short movie</td></tr><tr><td>COMMANDMENTS EXPRESS</td><td>59</td><td>short movie</td></tr><tr><td>BLUES INSTINCT</td><td>50</td><td>short movie</td></tr><tr><td>TEQUILA PAST</td><td>53</td><td>short movie</td></tr><tr><td>NOTTING SPEAKEASY</td><td>48</td><td>short movie</td></tr><tr><td>HALLOWEEN NUTS</td><td>47</td><td>short movie</td></tr><tr><td>SUPER WYOMING</td><td>58</td><td>short movie</td></tr><tr><td>DOORS PRESIDENT</td><td>49</td><td>short movie</td></tr><tr><td>IRON MOON</td><td>46</td><td>short movie</td></tr><tr><td>SUNSET RACER</td><td>48</td><td>short movie</td></tr><tr><td>SUMMER SCARFACE</td><td>53</td><td>short movie</td></tr><tr><td>NATURAL STOCK</td><td>50</td><td>short movie</td></tr><tr><td>STORM HAPPINESS</td><td>57</td><td>short movie</td></tr><tr><td>STEPMOM DREAM</td><td>48</td><td>short movie</td></tr><tr><td>SPARTACUS CHEAPER</td><td>52</td><td>short movie</td></tr><tr><td>SMOKING BARBARELLA</td><td>50</td><td>short movie</td></tr><tr><td>BRIDE INTRIGUE</td><td>56</td><td>short movie</td></tr><tr><td>SMILE EARRING</td><td>60</td><td>short movie</td></tr><tr><td>JERSEY SASSY</td><td>60</td><td>short movie</td></tr><tr><td>CRANES RESERVOIR</td><td>57</td><td>short movie</td></tr><tr><td>JET NEIGHBORS</td><td>59</td><td>short movie</td></tr><tr><td>BUBBLE GROSSE</td><td>60</td><td>short movie</td></tr><tr><td>DOWNHILL ENOUGH</td><td>47</td><td>short movie</td></tr><tr><td>SIMON NORTH</td><td>51</td><td>short movie</td></tr><tr><td>ACADEMY DINOSAUR</td><td>86</td><td>normal movie</td></tr><tr><td>ROOTS REMEMBER</td><td>89</td><td>normal movie</td></tr><tr><td>ENDING CROWDS</td><td>85</td><td>normal movie</td></tr><tr><td>ENEMY ODDS</td><td>77</td><td>normal movie</td></tr><tr><td>AIRPLANE SIERRA</td><td>62</td><td>normal movie</td></tr><tr><td>SADDLE ANTITRUST</td><td>80</td><td>normal movie</td></tr><tr><td>ALADDIN CALENDAR</td><td>63</td><td>normal movie</td></tr><tr><td>SALUTE APOLLO</td><td>73</td><td>normal movie</td></tr><tr><td>SATISFACTION CONFIDENTIAL</td><td>75</td><td>normal movie</td></tr><tr><td>SAVANNAH TOWN</td><td>84</td><td>normal movie</td></tr><tr><td>ALONE TRIP</td><td>82</td><td>normal movie</td></tr><tr><td>SEA VIRGIN</td><td>80</td><td>normal movie</td></tr><tr><td>AMELIE HELLFIGHTERS</td><td>79</td><td>normal movie</td></tr><tr><td>EVE RESURRECTION</td><td>66</td><td>normal movie</td></tr><tr><td>AMISTAD MIDSUMMER</td><td>85</td><td>normal movie</td></tr><tr><td>SECRET GROUNDHOG</td><td>90</td><td>normal movie</td></tr><tr><td>HAUNTED ANTITRUST</td><td>76</td><td>normal movie</td></tr><tr><td>ANGELS LIFE</td><td>74</td><td>normal movie</td></tr><tr><td>ANNIE IDENTITY</td><td>86</td><td>normal movie</td></tr><tr><td>SHAWSHANK BUBBLE</td><td>80</td><td>normal movie</td></tr><tr><td>SHOCK CABIN</td><td>79</td><td>normal movie</td></tr><tr><td>ANYTHING SAVANNAH</td><td>82</td><td>normal movie</td></tr><tr><td>SHOOTIST SUPERFLY</td><td>67</td><td>normal movie</td></tr><tr><td>SILENCE KANE</td><td>67</td><td>normal movie</td></tr><tr><td>ARABIA DOGMA</td><td>62</td><td>normal movie</td></tr><tr><td>HEAD STRANGER</td><td>69</td><td>normal movie</td></tr><tr><td>SILVERADO GOLDFINGER</td><td>74</td><td>normal movie</td></tr><tr><td>ARK RIDGEMONT</td><td>68</td><td>normal movie</td></tr><tr><td>SLEEPLESS MONSOON</td><td>64</td><td>normal movie</td></tr><tr><td>SLEUTH ORIENT</td><td>87</td><td>normal movie</td></tr><tr><td>SLING LUKE</td><td>84</td><td>normal movie</td></tr><tr><td>SNATCHERS MONTEZUMA</td><td>74</td><td>normal movie</td></tr><tr><td>ATTRACTION NEWTON</td><td>83</td><td>normal movie</td></tr><tr><td>SNOWMAN ROLLERCOASTER</td><td>62</td><td>normal movie</td></tr><tr><td>JEEPERS WEDDING</td><td>84</td><td>normal movie</td></tr><tr><td>SPIKING ELEMENT</td><td>79</td><td>normal movie</td></tr><tr><td>HELLFIGHTERS SIERRA</td><td>75</td><td>normal movie</td></tr><tr><td>BALLOON HOMEWARD</td><td>75</td><td>normal movie</td></tr><tr><td>HIGH ENCINO</td><td>84</td><td>normal movie</td></tr><tr><td>BANG KWAI</td><td>87</td><td>normal movie</td></tr><tr><td>STAGE WORLD</td><td>85</td><td>normal movie</td></tr><tr><td>BARBARELLA STREETCAR</td><td>65</td><td>normal movie</td></tr><tr><td>STAMPEDE DISTURBING</td><td>75</td><td>normal movie</td></tr><tr><td>BASIC EASY</td><td>90</td><td>normal movie</td></tr><tr><td>STREETCAR INTENTIONS</td><td>73</td><td>normal movie</td></tr><tr><td>FELLOWSHIP AUTUMN</td><td>77</td><td>normal movie</td></tr><tr><td>BEAST HUNCHBACK</td><td>89</td><td>normal movie</td></tr><tr><td>ROMAN PUNK</td><td>81</td><td>normal movie</td></tr><tr><td>TAXI KICK</td><td>64</td><td>normal movie</td></tr><tr><td>BEDAZZLED MARRIED</td><td>73</td><td>normal movie</td></tr><tr><td>TEEN APOLLO</td><td>74</td><td>normal movie</td></tr><tr><td>TEMPLE ATTRACTION</td><td>71</td><td>normal movie</td></tr><tr><td>BERETS AGENT</td><td>77</td><td>normal movie</td></tr><tr><td>CHANCE RESURRECTION</td><td>70</td><td>normal movie</td></tr><tr><td>BEVERLY OUTLAW</td><td>85</td><td>normal movie</td></tr><tr><td>FICTION CHRISTMAS</td><td>72</td><td>normal movie</td></tr><tr><td>TERMINATOR CLUB</td><td>88</td><td>normal movie</td></tr><tr><td>TIMBERLAND SKY</td><td>69</td><td>normal movie</td></tr><tr><td>FIDDLER LOST</td><td>75</td><td>normal movie</td></tr><tr><td>TOMATOES HELLFIGHTERS</td><td>68</td><td>normal movie</td></tr><tr><td>TRAIN BUNCH</td><td>71</td><td>normal movie</td></tr><tr><td>TREATMENT JEKYLL</td><td>87</td><td>normal movie</td></tr><tr><td>BIRDS PERDITION</td><td>61</td><td>normal movie</td></tr><tr><td>BLACKOUT PRIVATE</td><td>85</td><td>normal movie</td></tr><tr><td>TRIP NEWTON</td><td>64</td><td>normal movie</td></tr><tr><td>TROUBLE DATE</td><td>61</td><td>normal movie</td></tr><tr><td>BLOOD ARGONAUTS</td><td>71</td><td>normal movie</td></tr><tr><td>TURN STAR</td><td>80</td><td>normal movie</td></tr><tr><td>BONNIE HOLOCAUST</td><td>63</td><td>normal movie</td></tr><tr><td>INFORMER DOUBLE</td><td>74</td><td>normal movie</td></tr><tr><td>BOONDOCK BALLROOM</td><td>76</td><td>normal movie</td></tr><tr><td>TYCOON GATHERING</td><td>82</td><td>normal movie</td></tr><tr><td>BORROWERS BEDAZZLED</td><td>63</td><td>normal movie</td></tr><tr><td>BOULEVARD MOB</td><td>63</td><td>normal movie</td></tr><tr><td>UNBREAKABLE KARATE</td><td>62</td><td>normal movie</td></tr><tr><td>BOWFINGER GABLES</td><td>72</td><td>normal movie</td></tr><tr><td>UNFAITHFUL KILL</td><td>78</td><td>normal movie</td></tr><tr><td>HOLIDAY GAMES</td><td>78</td><td>normal movie</td></tr><tr><td>FLAMINGOS CONNECTICUT</td><td>80</td><td>normal movie</td></tr><tr><td>JUMPING WRATH</td><td>74</td><td>normal movie</td></tr><tr><td>BRIGHT ENCOUNTERS</td><td>73</td><td>normal movie</td></tr><tr><td>UPTOWN YOUNG</td><td>84</td><td>normal movie</td></tr><tr><td>HOLLYWOOD ANONYMOUS</td><td>69</td><td>normal movie</td></tr><tr><td>BROTHERHOOD BLANKET</td><td>73</td><td>normal movie</td></tr><tr><td>INSIDER ARIZONA</td><td>78</td><td>normal movie</td></tr><tr><td>VALLEY PACKER</td><td>73</td><td>normal movie</td></tr><tr><td>HOLY TADPOLE</td><td>88</td><td>normal movie</td></tr><tr><td>BULWORTH COMMANDMENTS</td><td>61</td><td>normal movie</td></tr><tr><td>BUNCH MINDS</td><td>63</td><td>normal movie</td></tr><tr><td>BUTCH PANTHER</td><td>67</td><td>normal movie</td></tr><tr><td>BUTTERFLY CHOCOLAT</td><td>89</td><td>normal movie</td></tr><tr><td>VARSITY TRIP</td><td>85</td><td>normal movie</td></tr><tr><td>CALIFORNIA BIRDS</td><td>75</td><td>normal movie</td></tr><tr><td>CAMELOT VACATION</td><td>61</td><td>normal movie</td></tr><tr><td>FLYING HOOK</td><td>69</td><td>normal movie</td></tr><tr><td>CANDIDATE PERDITION</td><td>70</td><td>normal movie</td></tr><tr><td>VERTIGO NORTHWEST</td><td>90</td><td>normal movie</td></tr><tr><td>CANYON STOCK</td><td>85</td><td>normal movie</td></tr><tr><td>VICTORY ACADEMY</td><td>64</td><td>normal movie</td></tr><tr><td>VILLAIN DESPERATE</td><td>76</td><td>normal movie</td></tr><tr><td>FORREST SONS</td><td>63</td><td>normal movie</td></tr><tr><td>VOYAGE LEGALLY</td><td>78</td><td>normal movie</td></tr><tr><td>CASABLANCA SUPER</td><td>85</td><td>normal movie</td></tr><tr><td>WAKE JAWS</td><td>73</td><td>normal movie</td></tr><tr><td>CASSIDY WYOMING</td><td>61</td><td>normal movie</td></tr><tr><td>FORWARD TEMPLE</td><td>90</td><td>normal movie</td></tr><tr><td>WAR NOTTING</td><td>80</td><td>normal movie</td></tr><tr><td>WARLOCK WEREWOLF</td><td>83</td><td>normal movie</td></tr><tr><td>HONEY TIES</td><td>84</td><td>normal movie</td></tr><tr><td>WASTELAND DIVINE</td><td>85</td><td>normal movie</td></tr><tr><td>FREDDY STORM</td><td>65</td><td>normal movie</td></tr><tr><td>WATCH TRACY</td><td>78</td><td>normal movie</td></tr><tr><td>WATERFRONT DELIVERANCE</td><td>61</td><td>normal movie</td></tr><tr><td>WEDDING APOLLO</td><td>70</td><td>normal movie</td></tr><tr><td>CHARADE DUFFEL</td><td>66</td><td>normal movie</td></tr><tr><td>CHARIOTS CONSPIRACY</td><td>71</td><td>normal movie</td></tr><tr><td>WEREWOLF LOLA</td><td>79</td><td>normal movie</td></tr><tr><td>CHEAPER CLYDE</td><td>87</td><td>normal movie</td></tr><tr><td>WINDOW SIDE</td><td>85</td><td>normal movie</td></tr><tr><td>FRIDA SLIPPER</td><td>73</td><td>normal movie</td></tr><tr><td>CHINATOWN GLADIATOR</td><td>61</td><td>normal movie</td></tr><tr><td>WIZARD COLDBLOODED</td><td>75</td><td>normal movie</td></tr><tr><td>WONKA SEA</td><td>85</td><td>normal movie</td></tr><tr><td>WORKING MICROCOSMOS</td><td>74</td><td>normal movie</td></tr><tr><td>FROST HEAD</td><td>82</td><td>normal movie</td></tr><tr><td>YENTL IDAHO</td><td>86</td><td>normal movie</td></tr><tr><td>FUGITIVE MAGUIRE</td><td>83</td><td>normal movie</td></tr><tr><td>CIRCUS YOUTH</td><td>90</td><td>normal movie</td></tr><tr><td>CLASH FREDDY</td><td>81</td><td>normal movie</td></tr><tr><td>INTOLERABLE INTENTIONS</td><td>63</td><td>normal movie</td></tr><tr><td>CLUB GRAFFITI</td><td>65</td><td>normal movie</td></tr><tr><td>CLUE GRAIL</td><td>70</td><td>normal movie</td></tr><tr><td>GANDHI KWAI</td><td>86</td><td>normal movie</td></tr><tr><td>COLDBLOODED DARLING</td><td>70</td><td>normal movie</td></tr><tr><td>COMANCHEROS ENEMY</td><td>67</td><td>normal movie</td></tr><tr><td>COMFORTS RUSH</td><td>76</td><td>normal movie</td></tr><tr><td>CONFESSIONS MAGUIRE</td><td>65</td><td>normal movie</td></tr><tr><td>GARDEN ISLAND</td><td>80</td><td>normal movie</td></tr><tr><td>CONGENIALITY QUEST</td><td>87</td><td>normal movie</td></tr><tr><td>GHOST GROUNDHOG</td><td>85</td><td>normal movie</td></tr><tr><td>CRAFT OUTFIELD</td><td>64</td><td>normal movie</td></tr><tr><td>HUMAN GRAFFITI</td><td>68</td><td>normal movie</td></tr><tr><td>ISHTAR ROCKETEER</td><td>79</td><td>normal movie</td></tr><tr><td>GLEAMING JAWBREAKER</td><td>89</td><td>normal movie</td></tr><tr><td>CRUELTY UNFORGIVEN</td><td>69</td><td>normal movie</td></tr><tr><td>GODFATHER DIARY</td><td>73</td><td>normal movie</td></tr><tr><td>DAISY MENAGERIE</td><td>84</td><td>normal movie</td></tr><tr><td>ISLAND EXORCIST</td><td>84</td><td>normal movie</td></tr><tr><td>GONE TROUBLE</td><td>84</td><td>normal movie</td></tr><tr><td>DARES PLUTO</td><td>89</td><td>normal movie</td></tr><tr><td>HUNTING MUSKETEERS</td><td>65</td><td>normal movie</td></tr><tr><td>DESERT POSEIDON</td><td>64</td><td>normal movie</td></tr><tr><td>DESIRE ALIEN</td><td>76</td><td>normal movie</td></tr><tr><td>DESPERATE TRAINSPOTTING</td><td>81</td><td>normal movie</td></tr><tr><td>DESTINATION JERK</td><td>76</td><td>normal movie</td></tr><tr><td>DETAILS PACKER</td><td>88</td><td>normal movie</td></tr><tr><td>HUSTLER PARTY</td><td>83</td><td>normal movie</td></tr><tr><td>DEVIL DESIRE</td><td>87</td><td>normal movie</td></tr><tr><td>DINOSAUR SECRETARY</td><td>63</td><td>normal movie</td></tr><tr><td>GRAIL FRANKENSTEIN</td><td>85</td><td>normal movie</td></tr><tr><td>DIVIDE MONSTER</td><td>68</td><td>normal movie</td></tr><tr><td>DOOM DANCING</td><td>68</td><td>normal movie</td></tr><tr><td>IDOLS SNATCHERS</td><td>84</td><td>normal movie</td></tr><tr><td>DRIFTER COMMANDMENTS</td><td>61</td><td>normal movie</td></tr><tr><td>GUNFIGHT MOON</td><td>70</td><td>normal movie</td></tr><tr><td>GUYS FALCON</td><td>84</td><td>normal movie</td></tr><tr><td>EARTH VISION</td><td>85</td><td>normal movie</td></tr><tr><td>HANGING DEEP</td><td>62</td><td>normal movie</td></tr><tr><td>EGG IGBY</td><td>67</td><td>normal movie</td></tr><tr><td>EGYPT TENENBAUMS</td><td>85</td><td>normal movie</td></tr><tr><td>HARDLY ROBBERS</td><td>72</td><td>normal movie</td></tr><tr><td>KNOCK WARLOCK</td><td>71</td><td>normal movie</td></tr><tr><td>LADY STAGE</td><td>67</td><td>normal movie</td></tr><tr><td>LANGUAGE COWBOY</td><td>78</td><td>normal movie</td></tr><tr><td>LEBOWSKI SOLDIERS</td><td>69</td><td>normal movie</td></tr><tr><td>LOLA AGENT</td><td>85</td><td>normal movie</td></tr><tr><td>LONELY ELEPHANT</td><td>67</td><td>normal movie</td></tr><tr><td>LOSER HUSTLER</td><td>80</td><td>normal movie</td></tr><tr><td>LOUISIANA HARRY</td><td>70</td><td>normal movie</td></tr><tr><td>LOVELY JINGLE</td><td>65</td><td>normal movie</td></tr><tr><td>LOVER TRUMAN</td><td>75</td><td>normal movie</td></tr><tr><td>LUKE MUMMY</td><td>74</td><td>normal movie</td></tr><tr><td>MAGUIRE APACHE</td><td>74</td><td>normal movie</td></tr><tr><td>MANNEQUIN WORST</td><td>71</td><td>normal movie</td></tr><tr><td>MARS ROMAN</td><td>62</td><td>normal movie</td></tr><tr><td>MAUDE MOD</td><td>72</td><td>normal movie</td></tr><tr><td>MEET CHOCOLATE</td><td>80</td><td>normal movie</td></tr><tr><td>MEMENTO ZOOLANDER</td><td>77</td><td>normal movie</td></tr><tr><td>METROPOLIS COMA</td><td>64</td><td>normal movie</td></tr><tr><td>MIDNIGHT WESTWARD</td><td>86</td><td>normal movie</td></tr><tr><td>MILE MULAN</td><td>64</td><td>normal movie</td></tr><tr><td>MOD SECRETARY</td><td>77</td><td>normal movie</td></tr><tr><td>MODERN DORADO</td><td>74</td><td>normal movie</td></tr><tr><td>MOON BUNCH</td><td>83</td><td>normal movie</td></tr><tr><td>MOULIN WAKE</td><td>79</td><td>normal movie</td></tr><tr><td>MUSKETEERS WAIT</td><td>73</td><td>normal movie</td></tr><tr><td>NETWORK PEAK</td><td>75</td><td>normal movie</td></tr><tr><td>NEWTON LABYRINTH</td><td>75</td><td>normal movie</td></tr><tr><td>NONE SPIKING</td><td>83</td><td>normal movie</td></tr><tr><td>NORTH TEQUILA</td><td>67</td><td>normal movie</td></tr><tr><td>NOVOCAINE FLIGHT</td><td>64</td><td>normal movie</td></tr><tr><td>ORANGE GRAPES</td><td>76</td><td>normal movie</td></tr><tr><td>OZ LIAISONS</td><td>85</td><td>normal movie</td></tr><tr><td>PACKER MADIGAN</td><td>84</td><td>normal movie</td></tr><tr><td>PATRIOT ROMAN</td><td>65</td><td>normal movie</td></tr><tr><td>PEAK FOREVER</td><td>80</td><td>normal movie</td></tr><tr><td>PEARL DESTINY</td><td>74</td><td>normal movie</td></tr><tr><td>PERFECT GROOVE</td><td>82</td><td>normal movie</td></tr><tr><td>PICKUP DRIVING</td><td>77</td><td>normal movie</td></tr><tr><td>PLUTO OLEANDER</td><td>84</td><td>normal movie</td></tr><tr><td>POLISH BROOKLYN</td><td>61</td><td>normal movie</td></tr><tr><td>PRINCESS GIANT</td><td>71</td><td>normal movie</td></tr><tr><td>PULP BEVERLY</td><td>89</td><td>normal movie</td></tr><tr><td>PURPLE MOVIE</td><td>88</td><td>normal movie</td></tr><tr><td>RAIDERS ANTITRUST</td><td>82</td><td>normal movie</td></tr><tr><td>RAINBOW SHOCK</td><td>74</td><td>normal movie</td></tr><tr><td>RANDOM GO</td><td>73</td><td>normal movie</td></tr><tr><td>REBEL AIRPORT</td><td>73</td><td>normal movie</td></tr><tr><td>REIGN GENTLEMEN</td><td>82</td><td>normal movie</td></tr><tr><td>RESERVOIR ADAPTATION</td><td>61</td><td>normal movie</td></tr><tr><td>REUNION WITCHES</td><td>63</td><td>normal movie</td></tr><tr><td>AFFAIR PREJUDICE</td><td>117</td><td>long movie</td></tr><tr><td>ALABAMA DEVIL</td><td>114</td><td>long movie</td></tr><tr><td>IMPOSSIBLE PREJUDICE</td><td>103</td><td>long movie</td></tr><tr><td>ALICE FANTASIA</td><td>94</td><td>long movie</td></tr><tr><td>HATE HANDICAP</td><td>107</td><td>long movie</td></tr><tr><td>AMADEUS HOLY</td><td>113</td><td>long movie</td></tr><tr><td>ANACONDA CONFESSIONS</td><td>92</td><td>long movie</td></tr><tr><td>KARATE MOON</td><td>120</td><td>long movie</td></tr><tr><td>ANTHEM LUKE</td><td>91</td><td>long movie</td></tr><tr><td>APACHE DIVINE</td><td>92</td><td>long movie</td></tr><tr><td>APOCALYPSE FLAMINGOS</td><td>119</td><td>long movie</td></tr><tr><td>EXPENDABLE STALLION</td><td>97</td><td>long movie</td></tr><tr><td>ARMAGEDDON LOST</td><td>99</td><td>long movie</td></tr><tr><td>HEAVYWEIGHTS BEAST</td><td>102</td><td>long movie</td></tr><tr><td>FALCON VOLUME</td><td>102</td><td>long movie</td></tr><tr><td>ATTACKS HATE</td><td>113</td><td>long movie</td></tr><tr><td>AUTUMN CROW</td><td>108</td><td>long movie</td></tr><tr><td>BACKLASH UNDEFEATED</td><td>118</td><td>long movie</td></tr><tr><td>BANGER PINOCCHIO</td><td>113</td><td>long movie</td></tr><tr><td>FATAL HAUNTED</td><td>91</td><td>long movie</td></tr><tr><td>FEATHERS METAL</td><td>104</td><td>long movie</td></tr><tr><td>HIGHBALL POTTER</td><td>110</td><td>long movie</td></tr><tr><td>BED HIGHBALL</td><td>106</td><td>long movie</td></tr><tr><td>FEUD FROGMEN</td><td>98</td><td>long movie</td></tr><tr><td>BEHAVIOR RUNAWAY</td><td>100</td><td>long movie</td></tr><tr><td>BILKO ANONYMOUS</td><td>100</td><td>long movie</td></tr><tr><td>BILL OTHERS</td><td>93</td><td>long movie</td></tr><tr><td>FIDELITY DEVIL</td><td>118</td><td>long movie</td></tr><tr><td>FIGHT JAWBREAKER</td><td>91</td><td>long movie</td></tr><tr><td>BIRDCAGE CASPER</td><td>103</td><td>long movie</td></tr><tr><td>BLADE POLISH</td><td>114</td><td>long movie</td></tr><tr><td>BLINDNESS GUN</td><td>103</td><td>long movie</td></tr><tr><td>BOILED DARES</td><td>102</td><td>long movie</td></tr><tr><td>JEOPARDY ENCINO</td><td>102</td><td>long movie</td></tr><tr><td>BOUND CHEAPER</td><td>98</td><td>long movie</td></tr><tr><td>FIREHOUSE VIETNAM</td><td>103</td><td>long movie</td></tr><tr><td>FLATLINERS KILLER</td><td>100</td><td>long movie</td></tr><tr><td>BUGSY SONG</td><td>119</td><td>long movie</td></tr><tr><td>CALENDAR GUNFIGHT</td><td>120</td><td>long movie</td></tr><tr><td>INSTINCT AIRPORT</td><td>116</td><td>long movie</td></tr><tr><td>HOMEWARD CIDER</td><td>103</td><td>long movie</td></tr><tr><td>CARIBBEAN LIBERTY</td><td>92</td><td>long movie</td></tr><tr><td>CARRIE BUNCH</td><td>114</td><td>long movie</td></tr><tr><td>FORRESTER COMANCHEROS</td><td>112</td><td>long movie</td></tr><tr><td>CAT CONEHEADS</td><td>112</td><td>long movie</td></tr><tr><td>INTENTIONS EMPIRE</td><td>107</td><td>long movie</td></tr><tr><td>CELEBRITY HORN</td><td>110</td><td>long movie</td></tr><tr><td>CHAINSAW UPTOWN</td><td>114</td><td>long movie</td></tr><tr><td>CHAMBER ITALIAN</td><td>117</td><td>long movie</td></tr><tr><td>HILLS NEIGHBORS</td><td>93</td><td>long movie</td></tr><tr><td>CHASING FIGHT</td><td>114</td><td>long movie</td></tr><tr><td>FRENCH HOLIDAY</td><td>99</td><td>long movie</td></tr><tr><td>FROGMEN BREAKING</td><td>111</td><td>long movie</td></tr><tr><td>CHITTY LOCK</td><td>107</td><td>long movie</td></tr><tr><td>CHOCOLAT HARRY</td><td>101</td><td>long movie</td></tr><tr><td>CIDER DESIRE</td><td>101</td><td>long movie</td></tr><tr><td>DUCK RACER</td><td>116</td><td>long movie</td></tr><tr><td>POTTER CONNECTICUT</td><td>115</td><td>long movie</td></tr><tr><td>PREJUDICE OLEANDER</td><td>98</td><td>long movie</td></tr><tr><td>PRIDE ALAMO</td><td>114</td><td>long movie</td></tr><tr><td>DAY UNFAITHFUL</td><td>113</td><td>long movie</td></tr><tr><td>HAPPINESS UNITED</td><td>100</td><td>long movie</td></tr><tr><td>PRIVATE DROP</td><td>106</td><td>long movie</td></tr><tr><td>PRIX UNDEFEATED</td><td>115</td><td>long movie</td></tr><tr><td>LEGALLY SECRETARY</td><td>113</td><td>long movie</td></tr><tr><td>PUNK DIVORCE</td><td>100</td><td>long movie</td></tr><tr><td>JAWBREAKER BROOKLYN</td><td>118</td><td>long movie</td></tr><tr><td>QUILLS BULL</td><td>112</td><td>long movie</td></tr><tr><td>RAGE GAMES</td><td>120</td><td>long movie</td></tr><tr><td>MERMAID INSECTS</td><td>104</td><td>long movie</td></tr><tr><td>LICENSE WEEKEND</td><td>91</td><td>long movie</td></tr><tr><td>MICROCOSMOS PARADISE</td><td>105</td><td>long movie</td></tr><tr><td>REAR TRADING</td><td>97</td><td>long movie</td></tr><tr><td>DWARFS ALTER</td><td>101</td><td>long movie</td></tr><tr><td>DRUMS DYNAMITE</td><td>96</td><td>long movie</td></tr><tr><td>REMEMBER DIARY</td><td>110</td><td>long movie</td></tr><tr><td>LOCK REAR</td><td>120</td><td>long movie</td></tr><tr><td>RESURRECTION SILVERADO</td><td>117</td><td>long movie</td></tr><tr><td>DRUMLINE CYCLONE</td><td>110</td><td>long movie</td></tr><tr><td>DATE SPEED</td><td>104</td><td>long movie</td></tr><tr><td>GORGEOUS BINGO</td><td>108</td><td>long movie</td></tr><tr><td>ROBBERS JOON</td><td>102</td><td>long movie</td></tr><tr><td>ROCK INSTINCT</td><td>102</td><td>long movie</td></tr><tr><td>DARKNESS WAR</td><td>99</td><td>long movie</td></tr><tr><td>ROOF CHAMPION</td><td>101</td><td>long movie</td></tr><tr><td>DALMATIONS SWEDEN</td><td>106</td><td>long movie</td></tr><tr><td>MOB DUFFEL</td><td>105</td><td>long movie</td></tr><tr><td>ROUGE SQUAD</td><td>118</td><td>long movie</td></tr><tr><td>RUGRATS SHAKESPEARE</td><td>109</td><td>long movie</td></tr><tr><td>GOLDFINGER SENSIBILITY</td><td>93</td><td>long movie</td></tr><tr><td>RUNNER MADIGAN</td><td>101</td><td>long movie</td></tr><tr><td>HUNGER ROOF</td><td>105</td><td>long movie</td></tr><tr><td>SABRINA MIDNIGHT</td><td>99</td><td>long movie</td></tr><tr><td>GUN BONNIE</td><td>100</td><td>long movie</td></tr><tr><td>SAGEBRUSH CLUELESS</td><td>106</td><td>long movie</td></tr><tr><td>EFFECT GLADIATOR</td><td>107</td><td>long movie</td></tr><tr><td>SAMURAI LION</td><td>110</td><td>long movie</td></tr><tr><td>JAWS HARRY</td><td>112</td><td>long movie</td></tr><tr><td>MONSTER SPARTACUS</td><td>107</td><td>long movie</td></tr><tr><td>SCARFACE BANG</td><td>102</td><td>long movie</td></tr><tr><td>LORD ARIZONA</td><td>108</td><td>long movie</td></tr><tr><td>SEABISCUIT PUNK</td><td>112</td><td>long movie</td></tr><tr><td>SEATTLE EXPECATIONS</td><td>110</td><td>long movie</td></tr><tr><td>GROOVE FICTION</td><td>111</td><td>long movie</td></tr><tr><td>SECRETS PARADISE</td><td>109</td><td>long movie</td></tr><tr><td>CRUSADE HONEY</td><td>112</td><td>long movie</td></tr><tr><td>SENSIBILITY REAR</td><td>98</td><td>long movie</td></tr><tr><td>CROWDS TELEMARK</td><td>112</td><td>long movie</td></tr><tr><td>SHANE DARKNESS</td><td>93</td><td>long movie</td></tr><tr><td>CROW GREASE</td><td>104</td><td>long movie</td></tr><tr><td>MOTHER OLEANDER</td><td>103</td><td>long movie</td></tr><tr><td>SHEPHERD MIDSUMMER</td><td>113</td><td>long movie</td></tr><tr><td>SHIP WONDERLAND</td><td>104</td><td>long movie</td></tr><tr><td>ENCOUNTERS CURTAIN</td><td>92</td><td>long movie</td></tr><tr><td>IDENTITY LOVER</td><td>119</td><td>long movie</td></tr><tr><td>GLORY TRACY</td><td>115</td><td>long movie</td></tr><tr><td>SIEGE MADRE</td><td>111</td><td>long movie</td></tr><tr><td>KANE EXORCIST</td><td>92</td><td>long movie</td></tr><tr><td>LOST BIRD</td><td>98</td><td>long movie</td></tr><tr><td>GLASS DYING</td><td>103</td><td>long movie</td></tr><tr><td>MYSTIC TRUMAN</td><td>92</td><td>long movie</td></tr><tr><td>NATIONAL STORY</td><td>92</td><td>long movie</td></tr><tr><td>GREATEST NORTH</td><td>93</td><td>long movie</td></tr><tr><td>GILBERT PELICAN</td><td>114</td><td>long movie</td></tr><tr><td>CORE SUIT</td><td>92</td><td>long movie</td></tr><tr><td>SNATCH SLIPPER</td><td>110</td><td>long movie</td></tr><tr><td>ELEMENT FREDDY</td><td>115</td><td>long movie</td></tr><tr><td>EARRING INSTINCT</td><td>98</td><td>long movie</td></tr><tr><td>CONVERSATION DOWNHILL</td><td>112</td><td>long movie</td></tr><tr><td>EARLY HOME</td><td>96</td><td>long movie</td></tr><tr><td>SPY MILE</td><td>112</td><td>long movie</td></tr><tr><td>LUCKY FLYING</td><td>97</td><td>long movie</td></tr><tr><td>STAGECOACH ARMAGEDDON</td><td>112</td><td>long movie</td></tr><tr><td>HYDE DOCTOR</td><td>100</td><td>long movie</td></tr><tr><td>STATE WASTELAND</td><td>113</td><td>long movie</td></tr><tr><td>GIANT TROOPERS</td><td>102</td><td>long movie</td></tr><tr><td>STING PERSONAL</td><td>93</td><td>long movie</td></tr><tr><td>STONE FIRE</td><td>94</td><td>long movie</td></tr><tr><td>GHOSTBUSTERS ELF</td><td>101</td><td>long movie</td></tr><tr><td>STRANGELOVE DESIRE</td><td>103</td><td>long movie</td></tr><tr><td>STRANGERS GRAFFITI</td><td>119</td><td>long movie</td></tr><tr><td>HANKY OCTOBER</td><td>107</td><td>long movie</td></tr><tr><td>SUGAR WONKA</td><td>114</td><td>long movie</td></tr><tr><td>SUICIDES SILENCE</td><td>93</td><td>long movie</td></tr><tr><td>SUIT WALLS</td><td>111</td><td>long movie</td></tr><tr><td>HOUSE DYNAMITE</td><td>109</td><td>long movie</td></tr><tr><td>SUNDANCE INVASION</td><td>92</td><td>long movie</td></tr><tr><td>CONNECTION MICROCOSMOS</td><td>115</td><td>long movie</td></tr><tr><td>GASLIGHT CRUSADE</td><td>106</td><td>long movie</td></tr><tr><td>SUPERFLY TRIP</td><td>114</td><td>long movie</td></tr><tr><td>DOLLS RAGE</td><td>120</td><td>long movie</td></tr><tr><td>SWEETHEARTS SUSPECTS</td><td>108</td><td>long movie</td></tr><tr><td>TARZAN VIDEOTAPE</td><td>91</td><td>long movie</td></tr><tr><td>DIVINE RESURRECTION</td><td>100</td><td>long movie</td></tr><tr><td>DISTURBING SCARFACE</td><td>94</td><td>long movie</td></tr><tr><td>OPPOSITE NECKLACE</td><td>92</td><td>long movie</td></tr><tr><td>TENENBAUMS COMMAND</td><td>99</td><td>long movie</td></tr><tr><td>CONEHEADS SMOOCHY</td><td>112</td><td>long movie</td></tr><tr><td>OPUS ICE</td><td>102</td><td>long movie</td></tr><tr><td>COMMAND DARLING</td><td>120</td><td>long movie</td></tr><tr><td>TIES HUNGER</td><td>111</td><td>long movie</td></tr><tr><td>DUMBO LUST</td><td>119</td><td>long movie</td></tr><tr><td>TITANIC BOONDOCK</td><td>104</td><td>long movie</td></tr><tr><td>TITANS JERK</td><td>91</td><td>long movie</td></tr><tr><td>ORDER BETRAYED</td><td>120</td><td>long movie</td></tr><tr><td>ORIENT CLOSER</td><td>118</td><td>long movie</td></tr><tr><td>TRAP GUYS</td><td>110</td><td>long movie</td></tr><tr><td>TREASURE COMMAND</td><td>102</td><td>long movie</td></tr><tr><td>OSCAR GOLD</td><td>115</td><td>long movie</td></tr><tr><td>OTHERS SOUP</td><td>118</td><td>long movie</td></tr><tr><td>COMA HEAD</td><td>109</td><td>long movie</td></tr><tr><td>TROOPERS METAL</td><td>115</td><td>long movie</td></tr><tr><td>MADIGAN DORADO</td><td>116</td><td>long movie</td></tr><tr><td>TRUMAN CRAZY</td><td>92</td><td>long movie</td></tr><tr><td>MADRE GABLES</td><td>98</td><td>long movie</td></tr><tr><td>PANIC CLUB</td><td>102</td><td>long movie</td></tr><tr><td>PANKY SUBMARINE</td><td>93</td><td>long movie</td></tr><tr><td>UNDEFEATED DALMATIONS</td><td>107</td><td>long movie</td></tr><tr><td>PANTHER REDS</td><td>109</td><td>long movie</td></tr><tr><td>UNTOUCHABLES SUNRISE</td><td>120</td><td>long movie</td></tr><tr><td>GRAFFITI LOVE</td><td>117</td><td>long movie</td></tr><tr><td>INVASION CYCLONE</td><td>97</td><td>long movie</td></tr><tr><td>PARK CITIZEN</td><td>109</td><td>long movie</td></tr><tr><td>PARTY KNOCK</td><td>107</td><td>long movie</td></tr><tr><td>PATHS CONTROL</td><td>118</td><td>long movie</td></tr><tr><td>PATIENT SISTER</td><td>99</td><td>long movie</td></tr><tr><td>MAGIC MALLRATS</td><td>117</td><td>long movie</td></tr><tr><td>CLUELESS BUCKET</td><td>95</td><td>long movie</td></tr><tr><td>JOON NORTHWEST</td><td>105</td><td>long movie</td></tr><tr><td>WAIT CIDER</td><td>112</td><td>long movie</td></tr><tr><td>LADYBUGS ARMAGEDDON</td><td>113</td><td>long movie</td></tr><tr><td>WANDA CHAMBER</td><td>107</td><td>long movie</td></tr><tr><td>DIARY PANIC</td><td>107</td><td>long movie</td></tr><tr><td>PERDITION FARGO</td><td>99</td><td>long movie</td></tr><tr><td>HANDICAP BOONDOCK</td><td>108</td><td>long movie</td></tr><tr><td>PERSONAL LADYBUGS</td><td>118</td><td>long movie</td></tr><tr><td>PET HAUNTING</td><td>99</td><td>long movie</td></tr><tr><td>WATERSHIP FRONTIER</td><td>112</td><td>long movie</td></tr><tr><td>DELIVERANCE MULHOLLAND</td><td>100</td><td>long movie</td></tr><tr><td>MARRIED GO</td><td>114</td><td>long movie</td></tr><tr><td>GAMES BOWFINGER</td><td>119</td><td>long movie</td></tr><tr><td>WHALE BIKINI</td><td>109</td><td>long movie</td></tr><tr><td>HORN WORKING</td><td>95</td><td>long movie</td></tr><tr><td>WIND PHANTOM</td><td>111</td><td>long movie</td></tr><tr><td>DEER VIRGINIAN</td><td>106</td><td>long movie</td></tr><tr><td>WISDOM WORKER</td><td>98</td><td>long movie</td></tr><tr><td>WITCHES PANIC</td><td>100</td><td>long movie</td></tr><tr><td>PINOCCHIO SIMON</td><td>103</td><td>long movie</td></tr><tr><td>FULL FLATLINERS</td><td>94</td><td>long movie</td></tr><tr><td>WON DARES</td><td>105</td><td>long movie</td></tr><tr><td>WONDERLAND CHRISTMAS</td><td>111</td><td>long movie</td></tr><tr><td>PIRATES ROXANNE</td><td>100</td><td>long movie</td></tr><tr><td>WORDS HUNTER</td><td>116</td><td>long movie</td></tr><tr><td>DAZED PUNK</td><td>120</td><td>long movie</td></tr><tr><td>WYOMING STORM</td><td>100</td><td>long movie</td></tr><tr><td>LEAGUE HELLFIGHTERS</td><td>110</td><td>long movie</td></tr><tr><td>ZHIVAGO CORE</td><td>105</td><td>long movie</td></tr><tr><td>ZOOLANDER FICTION</td><td>101</td><td>long movie</td></tr><tr><td>MADISON TRAP</td><td>147</td><td>extra long movie</td></tr><tr><td>MADNESS ATTACKS</td><td>178</td><td>extra long movie</td></tr><tr><td>BEAUTY GREASE</td><td>175</td><td>extra long movie</td></tr><tr><td>BEETHOVEN EXORCIST</td><td>151</td><td>extra long movie</td></tr><tr><td>BETRAYED REAR</td><td>122</td><td>extra long movie</td></tr><tr><td>MAGNOLIA FORRESTER</td><td>171</td><td>extra long movie</td></tr><tr><td>BIKINI BORROWERS</td><td>142</td><td>extra long movie</td></tr><tr><td>MAIDEN HOME</td><td>138</td><td>extra long movie</td></tr><tr><td>MAJESTIC FLOATS</td><td>130</td><td>extra long movie</td></tr><tr><td>MAKER GABLES</td><td>136</td><td>extra long movie</td></tr><tr><td>MALKOVICH PET</td><td>159</td><td>extra long movie</td></tr><tr><td>MALLRATS UNITED</td><td>133</td><td>extra long movie</td></tr><tr><td>MALTESE HOPE</td><td>127</td><td>extra long movie</td></tr><tr><td>MANCHURIAN CURTAIN</td><td>177</td><td>extra long movie</td></tr><tr><td>BINGO TALENTED</td><td>150</td><td>extra long movie</td></tr><tr><td>BIRCH ANTITRUST</td><td>162</td><td>extra long movie</td></tr><tr><td>BIRD INDEPENDENCE</td><td>163</td><td>extra long movie</td></tr><tr><td>MASK PEACH</td><td>123</td><td>extra long movie</td></tr><tr><td>MASKED BUBBLE</td><td>151</td><td>extra long movie</td></tr><tr><td>MASSACRE USUAL</td><td>165</td><td>extra long movie</td></tr><tr><td>MASSAGE IMAGE</td><td>161</td><td>extra long movie</td></tr><tr><td>BLANKET BEVERLY</td><td>148</td><td>extra long movie</td></tr><tr><td>BOOGIE AMELIE</td><td>121</td><td>extra long movie</td></tr><tr><td>BORN SPINAL</td><td>179</td><td>extra long movie</td></tr><tr><td>BRANNIGAN SUNRISE</td><td>121</td><td>extra long movie</td></tr><tr><td>MENAGERIE RUSHMORE</td><td>147</td><td>extra long movie</td></tr><tr><td>BRAVEHEART HUMAN</td><td>176</td><td>extra long movie</td></tr><tr><td>METAL ARMAGEDDON</td><td>161</td><td>extra long movie</td></tr><tr><td>BREAKFAST GOLDFINGER</td><td>123</td><td>extra long movie</td></tr><tr><td>BREAKING HOME</td><td>169</td><td>extra long movie</td></tr><tr><td>BRINGING HYSTERICAL</td><td>136</td><td>extra long movie</td></tr><tr><td>BROOKLYN DESERT</td><td>161</td><td>extra long movie</td></tr><tr><td>MIGHTY LUCK</td><td>122</td><td>extra long movie</td></tr><tr><td>BUCKET BROTHERHOOD</td><td>133</td><td>extra long movie</td></tr><tr><td>MILLION ACE</td><td>142</td><td>extra long movie</td></tr><tr><td>MINDS TRUMAN</td><td>149</td><td>extra long movie</td></tr><tr><td>MINE TITANS</td><td>166</td><td>extra long movie</td></tr><tr><td>BULL SHAWSHANK</td><td>125</td><td>extra long movie</td></tr><tr><td>MIRACLE VIRTUAL</td><td>162</td><td>extra long movie</td></tr><tr><td>MISSION ZOOLANDER</td><td>164</td><td>extra long movie</td></tr><tr><td>MIXED DOORS</td><td>180</td><td>extra long movie</td></tr><tr><td>CAMPUS REMEMBER</td><td>167</td><td>extra long movie</td></tr><tr><td>CANDLES GRAPES</td><td>135</td><td>extra long movie</td></tr><tr><td>CAPER MOTIONS</td><td>176</td><td>extra long movie</td></tr><tr><td>MODEL FISH</td><td>175</td><td>extra long movie</td></tr><tr><td>CAROL TEXAS</td><td>151</td><td>extra long movie</td></tr><tr><td>MONEY HAROLD</td><td>135</td><td>extra long movie</td></tr><tr><td>MONSOON CAUSE</td><td>182</td><td>extra long movie</td></tr><tr><td>CASPER DRAGONFLY</td><td>163</td><td>extra long movie</td></tr><tr><td>MONTEREY LABYRINTH</td><td>158</td><td>extra long movie</td></tr><tr><td>MONTEZUMA COMMAND</td><td>126</td><td>extra long movie</td></tr><tr><td>CASUALTIES ENCINO</td><td>179</td><td>extra long movie</td></tr><tr><td>MOONSHINE CABIN</td><td>171</td><td>extra long movie</td></tr><tr><td>MOONWALKER FOOL</td><td>184</td><td>extra long movie</td></tr><tr><td>CATCH AMISTAD</td><td>183</td><td>extra long movie</td></tr><tr><td>CAUSE DATE</td><td>179</td><td>extra long movie</td></tr><tr><td>MOTIONS DETAILS</td><td>166</td><td>extra long movie</td></tr><tr><td>CENTER DINOSAUR</td><td>152</td><td>extra long movie</td></tr><tr><td>MOURNING PURPLE</td><td>146</td><td>extra long movie</td></tr><tr><td>CHAPLIN LICENSE</td><td>146</td><td>extra long movie</td></tr><tr><td>MULAN MOON</td><td>160</td><td>extra long movie</td></tr><tr><td>MULHOLLAND BEAST</td><td>157</td><td>extra long movie</td></tr><tr><td>MUMMY CREATURES</td><td>160</td><td>extra long movie</td></tr><tr><td>CHICAGO NORTH</td><td>185</td><td>extra long movie</td></tr><tr><td>MURDER ANTITRUST</td><td>166</td><td>extra long movie</td></tr><tr><td>MUSCLE BRIGHT</td><td>185</td><td>extra long movie</td></tr><tr><td>MUSIC BOONDOCK</td><td>129</td><td>extra long movie</td></tr><tr><td>CHICKEN HELLFIGHTERS</td><td>122</td><td>extra long movie</td></tr><tr><td>MUSSOLINI SPOILERS</td><td>180</td><td>extra long movie</td></tr><tr><td>CHILL LUCK</td><td>142</td><td>extra long movie</td></tr><tr><td>NAME DETECTIVE</td><td>178</td><td>extra long movie</td></tr><tr><td>NASH CHOCOLAT</td><td>180</td><td>extra long movie</td></tr><tr><td>CHISUM BEHAVIOR</td><td>124</td><td>extra long movie</td></tr><tr><td>CHOCOLATE DUCK</td><td>132</td><td>extra long movie</td></tr><tr><td>NECKLACE OUTBREAK</td><td>132</td><td>extra long movie</td></tr><tr><td>NEIGHBORS CHARADE</td><td>161</td><td>extra long movie</td></tr><tr><td>NEMO CAMPUS</td><td>131</td><td>extra long movie</td></tr><tr><td>CHRISTMAS MOONSHINE</td><td>150</td><td>extra long movie</td></tr><tr><td>NEWSIES STORY</td><td>159</td><td>extra long movie</td></tr><tr><td>CINCINATTI WHISPERER</td><td>143</td><td>extra long movie</td></tr><tr><td>NIGHTMARE CHILL</td><td>149</td><td>extra long movie</td></tr><tr><td>CITIZEN SHREK</td><td>165</td><td>extra long movie</td></tr><tr><td>KISSING DOLLS</td><td>141</td><td>extra long movie</td></tr><tr><td>CLEOPATRA DEVIL</td><td>150</td><td>extra long movie</td></tr><tr><td>NORTHWEST POLISH</td><td>172</td><td>extra long movie</td></tr><tr><td>NOTORIOUS REUNION</td><td>128</td><td>extra long movie</td></tr><tr><td>CLERKS ANGELS</td><td>164</td><td>extra long movie</td></tr><tr><td>CLOCKWORK PARADISE</td><td>143</td><td>extra long movie</td></tr><tr><td>NUTS TIES</td><td>145</td><td>extra long movie</td></tr><tr><td>CLONES PINOCCHIO</td><td>124</td><td>extra long movie</td></tr><tr><td>CLYDE THEORY</td><td>139</td><td>extra long movie</td></tr><tr><td>COLOR PHILADELPHIA</td><td>149</td><td>extra long movie</td></tr><tr><td>OLEANDER CLUE</td><td>161</td><td>extra long movie</td></tr><tr><td>OPEN AFRICAN</td><td>131</td><td>extra long movie</td></tr><tr><td>OPERATION OPERATION</td><td>156</td><td>extra long movie</td></tr><tr><td>CONFIDENTIAL INTERVIEW</td><td>180</td><td>extra long movie</td></tr><tr><td>CONFUSED CANDLES</td><td>122</td><td>extra long movie</td></tr><tr><td>CONNECTICUT TRAMP</td><td>172</td><td>extra long movie</td></tr><tr><td>CONQUERER NUTS</td><td>173</td><td>extra long movie</td></tr><tr><td>CONSPIRACY SPIRIT</td><td>184</td><td>extra long movie</td></tr><tr><td>CONTACT ANONYMOUS</td><td>166</td><td>extra long movie</td></tr><tr><td>CONTROL ANTHEM</td><td>185</td><td>extra long movie</td></tr><tr><td>OUTBREAK DIVINE</td><td>169</td><td>extra long movie</td></tr><tr><td>OUTFIELD MASSACRE</td><td>129</td><td>extra long movie</td></tr><tr><td>OUTLAW HANKY</td><td>148</td><td>extra long movie</td></tr><tr><td>COWBOY DOOM</td><td>146</td><td>extra long movie</td></tr><tr><td>PACIFIC AMISTAD</td><td>144</td><td>extra long movie</td></tr><tr><td>CRAZY HOME</td><td>136</td><td>extra long movie</td></tr><tr><td>PAJAMA JAWBREAKER</td><td>126</td><td>extra long movie</td></tr><tr><td>CREATURES SHAKESPEARE</td><td>139</td><td>extra long movie</td></tr><tr><td>CREEPERS KANE</td><td>172</td><td>extra long movie</td></tr><tr><td>CROOKED FROGMEN</td><td>143</td><td>extra long movie</td></tr><tr><td>PAPI NECKLACE</td><td>128</td><td>extra long movie</td></tr><tr><td>CROSSROADS CASUALTIES</td><td>153</td><td>extra long movie</td></tr><tr><td>PARIS WEEKEND</td><td>121</td><td>extra long movie</td></tr><tr><td>CRYSTAL BREAKING</td><td>184</td><td>extra long movie</td></tr><tr><td>CURTAIN VIDEOTAPE</td><td>133</td><td>extra long movie</td></tr><tr><td>PAST SUICIDES</td><td>157</td><td>extra long movie</td></tr><tr><td>CYCLONE FAMILY</td><td>176</td><td>extra long movie</td></tr><tr><td>DADDY PITTSBURGH</td><td>161</td><td>extra long movie</td></tr><tr><td>DANCING FEVER</td><td>144</td><td>extra long movie</td></tr><tr><td>PATTON INTERVIEW</td><td>175</td><td>extra long movie</td></tr><tr><td>PAYCHECK WAIT</td><td>145</td><td>extra long movie</td></tr><tr><td>PEACH INNOCENT</td><td>160</td><td>extra long movie</td></tr><tr><td>DANGEROUS UPTOWN</td><td>121</td><td>extra long movie</td></tr><tr><td>DARKO DORADO</td><td>130</td><td>extra long movie</td></tr><tr><td>DARLING BREAKING</td><td>165</td><td>extra long movie</td></tr><tr><td>DARN FORRESTER</td><td>185</td><td>extra long movie</td></tr><tr><td>DECEIVER BETRAYED</td><td>122</td><td>extra long movie</td></tr><tr><td>DETECTIVE VISION</td><td>143</td><td>extra long movie</td></tr><tr><td>DIRTY ACE</td><td>147</td><td>extra long movie</td></tr><tr><td>DISCIPLE MOTHER</td><td>141</td><td>extra long movie</td></tr><tr><td>PHILADELPHIA WIFE</td><td>137</td><td>extra long movie</td></tr><tr><td>PIANIST OUTFIELD</td><td>136</td><td>extra long movie</td></tr><tr><td>DOGMA FAMILY</td><td>122</td><td>extra long movie</td></tr><tr><td>DONNIE ALLEY</td><td>125</td><td>extra long movie</td></tr><tr><td>DORADO NOTTING</td><td>139</td><td>extra long movie</td></tr><tr><td>DOUBLE WRATH</td><td>177</td><td>extra long movie</td></tr><tr><td>PITTSBURGH HUNCHBACK</td><td>134</td><td>extra long movie</td></tr><tr><td>DOUBTFIRE LABYRINTH</td><td>154</td><td>extra long movie</td></tr><tr><td>PIZZA JUMANJI</td><td>173</td><td>extra long movie</td></tr><tr><td>PLATOON INSTINCT</td><td>132</td><td>extra long movie</td></tr><tr><td>DOZEN LION</td><td>177</td><td>extra long movie</td></tr><tr><td>POCUS PULP</td><td>138</td><td>extra long movie</td></tr><tr><td>DRACULA CRYSTAL</td><td>176</td><td>extra long movie</td></tr><tr><td>POLLOCK DELIVERANCE</td><td>137</td><td>extra long movie</td></tr><tr><td>POND SEATTLE</td><td>185</td><td>extra long movie</td></tr><tr><td>POSEIDON FOREVER</td><td>159</td><td>extra long movie</td></tr><tr><td>POTLUCK MIXED</td><td>179</td><td>extra long movie</td></tr><tr><td>DRAGON SQUAD</td><td>170</td><td>extra long movie</td></tr><tr><td>DRAGONFLY STRANGERS</td><td>133</td><td>extra long movie</td></tr><tr><td>PRESIDENT BANG</td><td>144</td><td>extra long movie</td></tr><tr><td>DREAM PICKUP</td><td>135</td><td>extra long movie</td></tr><tr><td>DRIVER ANNIE</td><td>159</td><td>extra long movie</td></tr><tr><td>DRIVING POLISH</td><td>175</td><td>extra long movie</td></tr><tr><td>DROP WATERFRONT</td><td>178</td><td>extra long movie</td></tr><tr><td>DUDE BLINDNESS</td><td>132</td><td>extra long movie</td></tr><tr><td>PSYCHO SHRUNK</td><td>155</td><td>extra long movie</td></tr><tr><td>DUFFEL APOCALYPSE</td><td>171</td><td>extra long movie</td></tr><tr><td>DURHAM PANKY</td><td>154</td><td>extra long movie</td></tr><tr><td>PURE RUNNER</td><td>121</td><td>extra long movie</td></tr><tr><td>DYING MAKER</td><td>168</td><td>extra long movie</td></tr><tr><td>QUEEN LUKE</td><td>163</td><td>extra long movie</td></tr><tr><td>QUEST MUSSOLINI</td><td>177</td><td>extra long movie</td></tr><tr><td>DYNAMITE TARZAN</td><td>141</td><td>extra long movie</td></tr><tr><td>RACER EGG</td><td>147</td><td>extra long movie</td></tr><tr><td>EAGLES PANKY</td><td>140</td><td>extra long movie</td></tr><tr><td>RAGING AIRPLANE</td><td>154</td><td>extra long movie</td></tr><tr><td>EASY GLADIATOR</td><td>148</td><td>extra long movie</td></tr><tr><td>EDGE KISSING</td><td>153</td><td>extra long movie</td></tr><tr><td>ELEPHANT TROJAN</td><td>126</td><td>extra long movie</td></tr><tr><td>RANGE MOONWALKER</td><td>147</td><td>extra long movie</td></tr><tr><td>REAP UNFAITHFUL</td><td>136</td><td>extra long movie</td></tr><tr><td>ELF MURDER</td><td>155</td><td>extra long movie</td></tr><tr><td>ELIZABETH SHANE</td><td>152</td><td>extra long movie</td></tr><tr><td>RECORDS ZORRO</td><td>182</td><td>extra long movie</td></tr><tr><td>REDEMPTION COMFORTS</td><td>179</td><td>extra long movie</td></tr><tr><td>REDS POCUS</td><td>182</td><td>extra long movie</td></tr><tr><td>REEF SALUTE</td><td>123</td><td>extra long movie</td></tr><tr><td>EMPIRE MALKOVICH</td><td>177</td><td>extra long movie</td></tr><tr><td>ENCINO ELF</td><td>143</td><td>extra long movie</td></tr><tr><td>REQUIEM TYCOON</td><td>167</td><td>extra long movie</td></tr><tr><td>ENOUGH RAGING</td><td>158</td><td>extra long movie</td></tr><tr><td>ENTRAPMENT SATISFACTION</td><td>176</td><td>extra long movie</td></tr><tr><td>ESCAPE METROPOLIS</td><td>167</td><td>extra long movie</td></tr><tr><td>RIDER CADDYSHACK</td><td>177</td><td>extra long movie</td></tr><tr><td>EVERYONE CRAFT</td><td>163</td><td>extra long movie</td></tr><tr><td>RIGHT CRANES</td><td>153</td><td>extra long movie</td></tr><tr><td>EVOLUTION ALTER</td><td>174</td><td>extra long movie</td></tr><tr><td>RIVER OUTLAW</td><td>149</td><td>extra long movie</td></tr><tr><td>ROAD ROXANNE</td><td>158</td><td>extra long movie</td></tr><tr><td>EXORCIST STING</td><td>167</td><td>extra long movie</td></tr><tr><td>ROBBERY BRIGHT</td><td>134</td><td>extra long movie</td></tr><tr><td>EXPECATIONS NATURAL</td><td>138</td><td>extra long movie</td></tr><tr><td>ROCKETEER MOTHER</td><td>178</td><td>extra long movie</td></tr><tr><td>ROCKY WAR</td><td>145</td><td>extra long movie</td></tr><tr><td>ROLLERCOASTER BRINGING</td><td>153</td><td>extra long movie</td></tr><tr><td>EXPRESS LONELY</td><td>178</td><td>extra long movie</td></tr><tr><td>EXTRAORDINARY CONQUERER</td><td>122</td><td>extra long movie</td></tr><tr><td>EYES DRIVING</td><td>172</td><td>extra long movie</td></tr><tr><td>FACTORY DRAGON</td><td>144</td><td>extra long movie</td></tr><tr><td>ROSES TREASURE</td><td>162</td><td>extra long movie</td></tr><tr><td>FAMILY SWEET</td><td>155</td><td>extra long movie</td></tr><tr><td>ROXANNE REBEL</td><td>171</td><td>extra long movie</td></tr><tr><td>FANTASIA PARK</td><td>131</td><td>extra long movie</td></tr><tr><td>RULES HUMAN</td><td>153</td><td>extra long movie</td></tr><tr><td>FARGO GANDHI</td><td>130</td><td>extra long movie</td></tr><tr><td>RUNAWAY TENENBAUMS</td><td>181</td><td>extra long movie</td></tr><tr><td>FERRIS MOTHER</td><td>142</td><td>extra long movie</td></tr><tr><td>FEVER EMPIRE</td><td>158</td><td>extra long movie</td></tr><tr><td>RUSHMORE MERMAID</td><td>150</td><td>extra long movie</td></tr><tr><td>FINDING ANACONDA</td><td>156</td><td>extra long movie</td></tr><tr><td>FIRE WOLVES</td><td>173</td><td>extra long movie</td></tr><tr><td>FIREBALL PHILADELPHIA</td><td>148</td><td>extra long movie</td></tr><tr><td>SAINTS BRIDE</td><td>125</td><td>extra long movie</td></tr><tr><td>FISH OPUS</td><td>125</td><td>extra long movie</td></tr><tr><td>FLASH WARS</td><td>123</td><td>extra long movie</td></tr><tr><td>SANTA PARIS</td><td>154</td><td>extra long movie</td></tr><tr><td>SASSY PACKER</td><td>154</td><td>extra long movie</td></tr><tr><td>FLIGHT LIES</td><td>179</td><td>extra long movie</td></tr><tr><td>SATURDAY LAMBS</td><td>150</td><td>extra long movie</td></tr><tr><td>SATURN NAME</td><td>182</td><td>extra long movie</td></tr><tr><td>FLINTSTONES HAPPINESS</td><td>148</td><td>extra long movie</td></tr><tr><td>SCALAWAG DUCK</td><td>183</td><td>extra long movie</td></tr><tr><td>FLOATS GARDEN</td><td>145</td><td>extra long movie</td></tr><tr><td>SCHOOL JACKET</td><td>151</td><td>extra long movie</td></tr><tr><td>SCISSORHANDS SLUMS</td><td>147</td><td>extra long movie</td></tr><tr><td>SCORPION APOLLO</td><td>137</td><td>extra long movie</td></tr><tr><td>FOOL MOCKINGBIRD</td><td>158</td><td>extra long movie</td></tr><tr><td>FOREVER CANDIDATE</td><td>131</td><td>extra long movie</td></tr><tr><td>SEARCHERS WAIT</td><td>182</td><td>extra long movie</td></tr><tr><td>FRANKENSTEIN STRANGER</td><td>159</td><td>extra long movie</td></tr><tr><td>FREAKY POCUS</td><td>126</td><td>extra long movie</td></tr><tr><td>SECRETARY ROUGE</td><td>158</td><td>extra long movie</td></tr><tr><td>FREEDOM CLEOPATRA</td><td>133</td><td>extra long movie</td></tr><tr><td>FRONTIER CABIN</td><td>183</td><td>extra long movie</td></tr><tr><td>FURY MURDER</td><td>178</td><td>extra long movie</td></tr><tr><td>SEVEN SWARM</td><td>127</td><td>extra long movie</td></tr><tr><td>GABLES METROPOLIS</td><td>161</td><td>extra long movie</td></tr><tr><td>GALAXY SWEETHEARTS</td><td>128</td><td>extra long movie</td></tr><tr><td>GANGS PRIDE</td><td>185</td><td>extra long movie</td></tr><tr><td>GATHERING CALENDAR</td><td>176</td><td>extra long movie</td></tr><tr><td>GENTLEMEN STAGE</td><td>125</td><td>extra long movie</td></tr><tr><td>SHINING ROSES</td><td>125</td><td>extra long movie</td></tr><tr><td>GILMORE BOILED</td><td>163</td><td>extra long movie</td></tr><tr><td>GLADIATOR WESTWARD</td><td>173</td><td>extra long movie</td></tr><tr><td>GOLD RIVER</td><td>154</td><td>extra long movie</td></tr><tr><td>SHOW LORD</td><td>167</td><td>extra long movie</td></tr><tr><td>SHREK LICENSE</td><td>154</td><td>extra long movie</td></tr><tr><td>SHRUNK DIVINE</td><td>139</td><td>extra long movie</td></tr><tr><td>GOLDMINE TYCOON</td><td>153</td><td>extra long movie</td></tr><tr><td>GOSFORD DONNIE</td><td>129</td><td>extra long movie</td></tr><tr><td>SIERRA DIVIDE</td><td>135</td><td>extra long movie</td></tr><tr><td>GRACELAND DYNAMITE</td><td>140</td><td>extra long movie</td></tr><tr><td>GRADUATE LORD</td><td>156</td><td>extra long movie</td></tr><tr><td>GREASE YOUTH</td><td>135</td><td>extra long movie</td></tr><tr><td>SINNERS ATLANTIS</td><td>126</td><td>extra long movie</td></tr><tr><td>SISTER FREDDY</td><td>152</td><td>extra long movie</td></tr><tr><td>SKY MIRACLE</td><td>132</td><td>extra long movie</td></tr><tr><td>SLACKER LIAISONS</td><td>179</td><td>extra long movie</td></tr><tr><td>SLEEPING SUSPECTS</td><td>129</td><td>extra long movie</td></tr><tr><td>GREEDY ROOTS</td><td>166</td><td>extra long movie</td></tr><tr><td>SLEEPY JAPANESE</td><td>137</td><td>extra long movie</td></tr><tr><td>GREEK EVERYONE</td><td>176</td><td>extra long movie</td></tr><tr><td>GRINCH MASSAGE</td><td>150</td><td>extra long movie</td></tr><tr><td>SLIPPER FIDELITY</td><td>156</td><td>extra long movie</td></tr><tr><td>SLUMS DUCK</td><td>147</td><td>extra long movie</td></tr><tr><td>GRIT CLOCKWORK</td><td>137</td><td>extra long movie</td></tr><tr><td>GROUNDHOG UNCUT</td><td>139</td><td>extra long movie</td></tr><tr><td>SMOOCHY CONTROL</td><td>184</td><td>extra long movie</td></tr><tr><td>GUNFIGHTER MUSSOLINI</td><td>127</td><td>extra long movie</td></tr><tr><td>HALF OUTFIELD</td><td>146</td><td>extra long movie</td></tr><tr><td>HAMLET WISDOM</td><td>146</td><td>extra long movie</td></tr><tr><td>SOLDIERS EVOLUTION</td><td>185</td><td>extra long movie</td></tr><tr><td>SOMETHING DUCK</td><td>180</td><td>extra long movie</td></tr><tr><td>SONG HEDWIG</td><td>165</td><td>extra long movie</td></tr><tr><td>SONS INTERVIEW</td><td>184</td><td>extra long movie</td></tr><tr><td>SORORITY QUEEN</td><td>184</td><td>extra long movie</td></tr><tr><td>SOUP WISDOM</td><td>169</td><td>extra long movie</td></tr><tr><td>SOUTH WAIT</td><td>143</td><td>extra long movie</td></tr><tr><td>HAROLD FRENCH</td><td>168</td><td>extra long movie</td></tr><tr><td>SPEAKEASY DATE</td><td>165</td><td>extra long movie</td></tr><tr><td>SPEED SUIT</td><td>124</td><td>extra long movie</td></tr><tr><td>SPICE SORORITY</td><td>141</td><td>extra long movie</td></tr><tr><td>HARRY IDAHO</td><td>121</td><td>extra long movie</td></tr><tr><td>SPINAL ROCKY</td><td>138</td><td>extra long movie</td></tr><tr><td>SPIRIT FLINTSTONES</td><td>149</td><td>extra long movie</td></tr><tr><td>SPIRITED CASUALTIES</td><td>138</td><td>extra long movie</td></tr><tr><td>SPLASH GUMP</td><td>175</td><td>extra long movie</td></tr><tr><td>SPLENDOR PATTON</td><td>134</td><td>extra long movie</td></tr><tr><td>SPOILERS HELLFIGHTERS</td><td>151</td><td>extra long movie</td></tr><tr><td>HAUNTING PIANIST</td><td>181</td><td>extra long movie</td></tr><tr><td>SQUAD FISH</td><td>136</td><td>extra long movie</td></tr><tr><td>HEDWIG ALTER</td><td>169</td><td>extra long movie</td></tr><tr><td>HOBBIT ALIEN</td><td>157</td><td>extra long movie</td></tr><tr><td>STALLION SUNDANCE</td><td>130</td><td>extra long movie</td></tr><tr><td>HOCUS FRIDA</td><td>141</td><td>extra long movie</td></tr><tr><td>STAR OPERATION</td><td>181</td><td>extra long movie</td></tr><tr><td>HOLES BRANNIGAN</td><td>128</td><td>extra long movie</td></tr><tr><td>STEEL SANTA</td><td>143</td><td>extra long movie</td></tr><tr><td>STEERS ARMAGEDDON</td><td>140</td><td>extra long movie</td></tr><tr><td>HOLLOW JEOPARDY</td><td>136</td><td>extra long movie</td></tr><tr><td>HOLOCAUST HIGHBALL</td><td>149</td><td>extra long movie</td></tr><tr><td>STOCK GLASS</td><td>160</td><td>extra long movie</td></tr><tr><td>HOME PITY</td><td>185</td><td>extra long movie</td></tr><tr><td>HOMICIDE PEACH</td><td>141</td><td>extra long movie</td></tr><tr><td>STORY SIDE</td><td>163</td><td>extra long movie</td></tr><tr><td>STRAIGHT HOURS</td><td>151</td><td>extra long movie</td></tr><tr><td>HOOSIERS BIRDCAGE</td><td>176</td><td>extra long movie</td></tr><tr><td>STRANGER STRANGERS</td><td>139</td><td>extra long movie</td></tr><tr><td>HOPE TOOTSIE</td><td>139</td><td>extra long movie</td></tr><tr><td>STREAK RIDGEMONT</td><td>132</td><td>extra long movie</td></tr><tr><td>HORROR REIGN</td><td>139</td><td>extra long movie</td></tr><tr><td>STRICTLY SCARFACE</td><td>144</td><td>extra long movie</td></tr><tr><td>SUBMARINE BED</td><td>127</td><td>extra long movie</td></tr><tr><td>HOTEL HAPPINESS</td><td>181</td><td>extra long movie</td></tr><tr><td>HOURS RAGE</td><td>122</td><td>extra long movie</td></tr><tr><td>HUNCHBACK IMPOSSIBLE</td><td>151</td><td>extra long movie</td></tr><tr><td>HUNTER ALTER</td><td>125</td><td>extra long movie</td></tr><tr><td>SUN CONFESSIONS</td><td>141</td><td>extra long movie</td></tr><tr><td>HYSTERICAL GRAIL</td><td>150</td><td>extra long movie</td></tr><tr><td>SUNRISE LEAGUE</td><td>135</td><td>extra long movie</td></tr><tr><td>ICE CROSSING</td><td>131</td><td>extra long movie</td></tr><tr><td>IDAHO LOVE</td><td>172</td><td>extra long movie</td></tr><tr><td>IGBY MAKER</td><td>160</td><td>extra long movie</td></tr><tr><td>ILLUSION AMELIE</td><td>122</td><td>extra long movie</td></tr><tr><td>SWARM GOLD</td><td>123</td><td>extra long movie</td></tr><tr><td>SWEDEN SHINING</td><td>176</td><td>extra long movie</td></tr><tr><td>SWEET BROTHERHOOD</td><td>185</td><td>extra long movie</td></tr><tr><td>IMAGE PRINCESS</td><td>178</td><td>extra long movie</td></tr><tr><td>TADPOLE PARK</td><td>155</td><td>extra long movie</td></tr><tr><td>RUN PACIFIC</td><td>145</td><td>extra long movie</td></tr><tr><td>IMPACT ALADDIN</td><td>180</td><td>extra long movie</td></tr><tr><td>INCH JET</td><td>167</td><td>extra long movie</td></tr><tr><td>INDEPENDENCE HOTEL</td><td>157</td><td>extra long movie</td></tr><tr><td>TELEGRAPH VOYAGE</td><td>148</td><td>extra long movie</td></tr><tr><td>TELEMARK HEARTBREAKERS</td><td>152</td><td>extra long movie</td></tr><tr><td>INDIAN LOVE</td><td>135</td><td>extra long movie</td></tr><tr><td>INNOCENT USUAL</td><td>178</td><td>extra long movie</td></tr><tr><td>INSECTS STONE</td><td>123</td><td>extra long movie</td></tr><tr><td>INTRIGUE WORST</td><td>181</td><td>extra long movie</td></tr><tr><td>TEXAS WATCH</td><td>179</td><td>extra long movie</td></tr><tr><td>THEORY MERMAID</td><td>184</td><td>extra long movie</td></tr><tr><td>THIEF PELICAN</td><td>135</td><td>extra long movie</td></tr><tr><td>ITALIAN AFRICAN</td><td>174</td><td>extra long movie</td></tr><tr><td>JACKET FRISCO</td><td>181</td><td>extra long movie</td></tr><tr><td>TIGHTS DAWN</td><td>172</td><td>extra long movie</td></tr><tr><td>JADE BUNCH</td><td>174</td><td>extra long movie</td></tr><tr><td>JAPANESE RUN</td><td>135</td><td>extra long movie</td></tr><tr><td>JASON TRAP</td><td>130</td><td>extra long movie</td></tr><tr><td>JEDI BENEATH</td><td>128</td><td>extra long movie</td></tr><tr><td>TOMORROW HUSTLER</td><td>142</td><td>extra long movie</td></tr><tr><td>TOOTSIE PILOT</td><td>157</td><td>extra long movie</td></tr><tr><td>TORQUE BOUND</td><td>179</td><td>extra long movie</td></tr><tr><td>TOURIST PELICAN</td><td>152</td><td>extra long movie</td></tr><tr><td>TOWERS HURRICANE</td><td>144</td><td>extra long movie</td></tr><tr><td>TOWN ARK</td><td>136</td><td>extra long movie</td></tr><tr><td>TRACY CIDER</td><td>142</td><td>extra long movie</td></tr><tr><td>TRADING PINOCCHIO</td><td>170</td><td>extra long movie</td></tr><tr><td>TRAFFIC HOBBIT</td><td>139</td><td>extra long movie</td></tr><tr><td>JERICHO MULAN</td><td>171</td><td>extra long movie</td></tr><tr><td>TRAINSPOTTING STRANGERS</td><td>132</td><td>extra long movie</td></tr><tr><td>TRAMP OTHERS</td><td>171</td><td>extra long movie</td></tr><tr><td>TRANSLATION SUMMER</td><td>168</td><td>extra long movie</td></tr><tr><td>JERK PAYCHECK</td><td>172</td><td>extra long movie</td></tr><tr><td>JINGLE SAGEBRUSH</td><td>124</td><td>extra long movie</td></tr><tr><td>JUMANJI BLADE</td><td>121</td><td>extra long movie</td></tr><tr><td>JUNGLE CLOSER</td><td>134</td><td>extra long movie</td></tr><tr><td>KENTUCKIAN GIANT</td><td>169</td><td>extra long movie</td></tr><tr><td>KICK SAVANNAH</td><td>179</td><td>extra long movie</td></tr><tr><td>KILLER INNOCENT</td><td>161</td><td>extra long movie</td></tr><tr><td>KING EVOLUTION</td><td>184</td><td>extra long movie</td></tr><tr><td>KISS GLORY</td><td>163</td><td>extra long movie</td></tr><tr><td>TUXEDO MILE</td><td>152</td><td>extra long movie</td></tr><tr><td>TWISTED PIRATES</td><td>152</td><td>extra long movie</td></tr><tr><td>GRAPES FURY</td><td>155</td><td>extra long movie</td></tr><tr><td>AFRICAN EGG</td><td>130</td><td>extra long movie</td></tr><tr><td>UNCUT SUICIDES</td><td>172</td><td>extra long movie</td></tr><tr><td>KRAMER CHOCOLATE</td><td>171</td><td>extra long movie</td></tr><tr><td>AGENT TRUMAN</td><td>169</td><td>extra long movie</td></tr><tr><td>UNFORGIVEN ZOOLANDER</td><td>129</td><td>extra long movie</td></tr><tr><td>UNITED PILOT</td><td>164</td><td>extra long movie</td></tr><tr><td>ALAMO VIDEOTAPE</td><td>126</td><td>extra long movie</td></tr><tr><td>UPRISING UPTOWN</td><td>174</td><td>extra long movie</td></tr><tr><td>ALASKA PHANTOM</td><td>136</td><td>extra long movie</td></tr><tr><td>USUAL UNTOUCHABLES</td><td>128</td><td>extra long movie</td></tr><tr><td>VACATION BOONDOCK</td><td>145</td><td>extra long movie</td></tr><tr><td>ALI FOREVER</td><td>150</td><td>extra long movie</td></tr><tr><td>LAMBS CINCINATTI</td><td>144</td><td>extra long movie</td></tr><tr><td>VAMPIRE WHALE</td><td>126</td><td>extra long movie</td></tr><tr><td>VANILLA DAY</td><td>122</td><td>extra long movie</td></tr><tr><td>VANISHED GARDEN</td><td>142</td><td>extra long movie</td></tr><tr><td>VANISHING ROCKY</td><td>123</td><td>extra long movie</td></tr><tr><td>ALLEY EVOLUTION</td><td>180</td><td>extra long movie</td></tr><tr><td>VELVET TERMINATOR</td><td>173</td><td>extra long movie</td></tr><tr><td>LAWLESS VISION</td><td>181</td><td>extra long movie</td></tr><tr><td>LAWRENCE LOVE</td><td>175</td><td>extra long movie</td></tr><tr><td>VIDEOTAPE ARSENIC</td><td>145</td><td>extra long movie</td></tr><tr><td>VIETNAM SMOOCHY</td><td>174</td><td>extra long movie</td></tr><tr><td>AMERICAN CIRCUS</td><td>129</td><td>extra long movie</td></tr><tr><td>VIRGIN DAISY</td><td>179</td><td>extra long movie</td></tr><tr><td>VIRGINIAN PLUTO</td><td>164</td><td>extra long movie</td></tr><tr><td>VIRTUAL SPOILERS</td><td>144</td><td>extra long movie</td></tr><tr><td>LEATHERNECKS DWARFS</td><td>153</td><td>extra long movie</td></tr><tr><td>VOICE PEACH</td><td>139</td><td>extra long movie</td></tr><tr><td>VOLCANO TEXAS</td><td>157</td><td>extra long movie</td></tr><tr><td>VOLUME HOUSE</td><td>132</td><td>extra long movie</td></tr><tr><td>ANALYZE HOOSIERS</td><td>181</td><td>extra long movie</td></tr><tr><td>WAGON JAWS</td><td>152</td><td>extra long movie</td></tr><tr><td>ANONYMOUS HUMAN</td><td>179</td><td>extra long movie</td></tr><tr><td>ANTITRUST TOMATOES</td><td>168</td><td>extra long movie</td></tr><tr><td>WALLS ARTIST</td><td>135</td><td>extra long movie</td></tr><tr><td>LESSON CLEOPATRA</td><td>167</td><td>extra long movie</td></tr><tr><td>LIAISONS SWEET</td><td>140</td><td>extra long movie</td></tr><tr><td>WARDROBE PHANTOM</td><td>178</td><td>extra long movie</td></tr><tr><td>LIBERTY MAGNIFICENT</td><td>138</td><td>extra long movie</td></tr><tr><td>WARS PLUTO</td><td>128</td><td>extra long movie</td></tr><tr><td>WASH HEAVENLY</td><td>161</td><td>extra long movie</td></tr><tr><td>APOLLO TEEN</td><td>153</td><td>extra long movie</td></tr><tr><td>LIES TREATMENT</td><td>147</td><td>extra long movie</td></tr><tr><td>LIFE TWISTED</td><td>137</td><td>extra long movie</td></tr><tr><td>LIGHTS DEER</td><td>174</td><td>extra long movie</td></tr><tr><td>ARACHNOPHOBIA ROLLERCOASTER</td><td>147</td><td>extra long movie</td></tr><tr><td>WEEKEND PERSONAL</td><td>134</td><td>extra long movie</td></tr><tr><td>LOATHING LEGALLY</td><td>140</td><td>extra long movie</td></tr><tr><td>WEST LION</td><td>159</td><td>extra long movie</td></tr><tr><td>ARGONAUTS TOWN</td><td>127</td><td>extra long movie</td></tr><tr><td>ARIZONA BANG</td><td>121</td><td>extra long movie</td></tr><tr><td>LOLITA WORLD</td><td>155</td><td>extra long movie</td></tr><tr><td>WIFE TURN</td><td>183</td><td>extra long movie</td></tr><tr><td>WILD APOLLO</td><td>181</td><td>extra long movie</td></tr><tr><td>WILLOW TRACY</td><td>137</td><td>extra long movie</td></tr><tr><td>ARMY FLINTSTONES</td><td>148</td><td>extra long movie</td></tr><tr><td>ARSENIC INDEPENDENCE</td><td>137</td><td>extra long movie</td></tr><tr><td>LOSE INCH</td><td>137</td><td>extra long movie</td></tr><tr><td>ARTIST COLDBLOODED</td><td>170</td><td>extra long movie</td></tr><tr><td>ATLANTIS CAUSE</td><td>170</td><td>extra long movie</td></tr><tr><td>BABY HALL</td><td>153</td><td>extra long movie</td></tr><tr><td>WOMEN DORADO</td><td>126</td><td>extra long movie</td></tr><tr><td>LOVE SUICIDES</td><td>181</td><td>extra long movie</td></tr><tr><td>WONDERFUL DROP</td><td>126</td><td>extra long movie</td></tr><tr><td>BADMAN DAWN</td><td>162</td><td>extra long movie</td></tr><tr><td>BAKED CLEOPATRA</td><td>182</td><td>extra long movie</td></tr><tr><td>LOVERBOY ATTACKS</td><td>162</td><td>extra long movie</td></tr><tr><td>WORKER TARZAN</td><td>139</td><td>extra long movie</td></tr><tr><td>LUCK OPUS</td><td>152</td><td>extra long movie</td></tr><tr><td>WORLD LEATHERNECKS</td><td>171</td><td>extra long movie</td></tr><tr><td>WORST BANGER</td><td>185</td><td>extra long movie</td></tr><tr><td>WRATH MILE</td><td>176</td><td>extra long movie</td></tr><tr><td>WRONG BEHAVIOR</td><td>178</td><td>extra long movie</td></tr><tr><td>BALLROOM MOCKINGBIRD</td><td>173</td><td>extra long movie</td></tr><tr><td>BAREFOOT MANCHURIAN</td><td>129</td><td>extra long movie</td></tr><tr><td>YOUNG LANGUAGE</td><td>183</td><td>extra long movie</td></tr><tr><td>YOUTH KICK</td><td>179</td><td>extra long movie</td></tr><tr><td>BEACH HEARTBREAKERS</td><td>122</td><td>extra long movie</td></tr><tr><td>BEAR GRACELAND</td><td>160</td><td>extra long movie</td></tr><tr><td>TALENTED HOMICIDE</td><td>173</td><td>extra long movie</td></tr></table>"
                    },
                    "metadata": {}
                }
            ],
            "execution_count": 45
        },
        {
            "cell_type": "code",
            "source": [
                "SELECT\r\n",
                "    CASE\r\n",
                "        WHEN length <=60 THEN 'short movie'\r\n",
                "        WHEN length <=90 THEN 'normal movie'\r\n",
                "        WHEN length <=120 THEN 'long movie'\r\n",
                "        ELSE 'extra long movie'\r\n",
                "    END as movie_length,\r\n",
                "    COUNT(*) as number_of_movies\r\n",
                "    FROM film   \r\n",
                "    GROUP BY movie_length;"
            ],
            "metadata": {
                "language": "sql",
                "azdata_cell_guid": "b611666c-7063-4309-8aed-e1acbd6b3df6",
                "tags": []
            },
            "outputs": [
                {
                    "output_type": "display_data",
                    "data": {
                        "text/html": "(4 row(s) affected)"
                    },
                    "metadata": {}
                },
                {
                    "output_type": "display_data",
                    "data": {
                        "text/html": "Total execution time: 00:00:01.011"
                    },
                    "metadata": {}
                },
                {
                    "output_type": "execute_result",
                    "execution_count": 44,
                    "data": {
                        "application/vnd.dataresource+json": {
                            "schema": {
                                "fields": [
                                    {
                                        "name": "movie_length"
                                    },
                                    {
                                        "name": "number_of_movies"
                                    }
                                ]
                            },
                            "data": [
                                {
                                    "movie_length": "normal movie",
                                    "number_of_movies": "221"
                                },
                                {
                                    "movie_length": "short movie",
                                    "number_of_movies": "104"
                                },
                                {
                                    "movie_length": "long movie",
                                    "number_of_movies": "218"
                                },
                                {
                                    "movie_length": "extra long movie",
                                    "number_of_movies": "457"
                                }
                            ]
                        },
                        "text/html": "<table><tr><th>movie_length</th><th>number_of_movies</th></tr><tr><td>normal movie</td><td>221</td></tr><tr><td>short movie</td><td>104</td></tr><tr><td>long movie</td><td>218</td></tr><tr><td>extra long movie</td><td>457</td></tr></table>"
                    },
                    "metadata": {}
                }
            ],
            "execution_count": 44
        },
        {
            "cell_type": "code",
            "source": [
                "!mysql"
            ],
            "metadata": {
                "language": "sql",
                "azdata_cell_guid": "d6504213-c043-453e-a8f2-145ea0c5df1d"
            },
            "outputs": [
{
    "output_type": "display_data",
    "data": {
        "text/html": "Total execution time: 00:00:00"
    },
    "metadata": {}
}
],
            "execution_count": 1
        }
    ]
}