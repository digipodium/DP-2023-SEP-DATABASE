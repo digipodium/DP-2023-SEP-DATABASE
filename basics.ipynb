{
    "metadata": {
        "kernelspec": {
            "name": "SQL",
            "display_name": "SQL",
            "language": "sql"
        },
        "language_info": {
            "name": "sql",
            "version": ""
        }
    },
    "nbformat_minor": 2,
    "nbformat": 4,
    "cells": [
        {
            "cell_type": "code",
            "source": [
                "select database();"
            ],
            "metadata": {
                "azdata_cell_guid": "f849bfa7-f0e1-4eba-8901-d1a6c97a0365",
                "language": "sql"
            },
            "outputs": [
                {
                    "output_type": "display_data",
                    "data": {
                        "text/html": "(1 row(s) affected)"
                    },
                    "metadata": {}
                },
                {
                    "output_type": "display_data",
                    "data": {
                        "text/html": "Total execution time: 00:00:01.014"
                    },
                    "metadata": {}
                },
                {
                    "output_type": "execute_result",
                    "metadata": {},
                    "execution_count": 4,
                    "data": {
                        "application/vnd.dataresource+json": {
                            "schema": {
                                "fields": [
                                    {
                                        "name": "database()"
                                    }
                                ]
                            },
                            "data": [
                                {
                                    "database()": "NULL"
                                }
                            ]
                        },
                        "text/html": [
                            "<table>",
                            "<tr><th>database()</th></tr>",
                            "<tr><td>NULL</td></tr>",
                            "</table>"
                        ]
                    }
                }
            ],
            "execution_count": 4
        },
        {
            "cell_type": "code",
            "source": [
                "USE sakila; -- Database changed"
            ],
            "metadata": {
                "azdata_cell_guid": "515bc727-b5c7-48d3-94d2-5cc34e9b22ef",
                "language": "sql"
            },
            "outputs": [
                {
                    "output_type": "display_data",
                    "data": {
                        "text/html": "Commands completed successfully"
                    },
                    "metadata": {}
                },
                {
                    "output_type": "display_data",
                    "data": {
                        "text/html": "Total execution time: 00:00:00"
                    },
                    "metadata": {}
                }
            ],
            "execution_count": 6
        },
        {
            "cell_type": "code",
            "source": [
                "show databases;"
            ],
            "metadata": {
                "language": "sql",
                "azdata_cell_guid": "50a4296e-5d84-4340-918e-79ebfc803d03"
            },
            "outputs": [
                {
                    "output_type": "display_data",
                    "data": {
                        "text/html": "(9 row(s) affected)"
                    },
                    "metadata": {}
                },
                {
                    "output_type": "display_data",
                    "data": {
                        "text/html": "Total execution time: 00:00:01.009"
                    },
                    "metadata": {}
                },
                {
                    "output_type": "execute_result",
                    "metadata": {},
                    "execution_count": 7,
                    "data": {
                        "application/vnd.dataresource+json": {
                            "schema": {
                                "fields": [
                                    {
                                        "name": "Database"
                                    }
                                ]
                            },
                            "data": [
                                {
                                    "Database": "customerdb"
                                },
                                {
                                    "Database": "database_classes_630"
                                },
                                {
                                    "Database": "dbclass500"
                                },
                                {
                                    "Database": "information_schema"
                                },
                                {
                                    "Database": "mysql"
                                },
                                {
                                    "Database": "performance_schema"
                                },
                                {
                                    "Database": "revision"
                                },
                                {
                                    "Database": "sakila"
                                },
                                {
                                    "Database": "sys"
                                }
                            ]
                        },
                        "text/html": [
                            "<table>",
                            "<tr><th>Database</th></tr>",
                            "<tr><td>customerdb</td></tr>",
                            "<tr><td>database_classes_630</td></tr>",
                            "<tr><td>dbclass500</td></tr>",
                            "<tr><td>information_schema</td></tr>",
                            "<tr><td>mysql</td></tr>",
                            "<tr><td>performance_schema</td></tr>",
                            "<tr><td>revision</td></tr>",
                            "<tr><td>sakila</td></tr>",
                            "<tr><td>sys</td></tr>",
                            "</table>"
                        ]
                    }
                }
            ],
            "execution_count": 7
        },
        {
            "cell_type": "code",
            "source": [
                "CREATE DATABASE IF NOT EXISTS school;\r\n",
                "SHOW DATABASES;"
            ],
            "metadata": {
                "azdata_cell_guid": "a089c24e-5493-41bf-a44f-42cafe5e99bb",
                "language": "sql"
            },
            "outputs": [
                {
                    "output_type": "display_data",
                    "data": {
                        "text/html": "Commands completed successfully"
                    },
                    "metadata": {}
                },
                {
                    "output_type": "display_data",
                    "data": {
                        "text/html": "(10 row(s) affected)"
                    },
                    "metadata": {}
                },
                {
                    "output_type": "display_data",
                    "data": {
                        "text/html": "Total execution time: 00:00:01.020"
                    },
                    "metadata": {}
                },
                {
                    "output_type": "execute_result",
                    "metadata": {},
                    "execution_count": 10,
                    "data": {
                        "application/vnd.dataresource+json": {
                            "schema": {
                                "fields": [
                                    {
                                        "name": "Database"
                                    }
                                ]
                            },
                            "data": [
                                {
                                    "Database": "customerdb"
                                },
                                {
                                    "Database": "database_classes_630"
                                },
                                {
                                    "Database": "dbclass500"
                                },
                                {
                                    "Database": "information_schema"
                                },
                                {
                                    "Database": "mysql"
                                },
                                {
                                    "Database": "performance_schema"
                                },
                                {
                                    "Database": "revision"
                                },
                                {
                                    "Database": "sakila"
                                },
                                {
                                    "Database": "school"
                                },
                                {
                                    "Database": "sys"
                                }
                            ]
                        },
                        "text/html": [
                            "<table>",
                            "<tr><th>Database</th></tr>",
                            "<tr><td>customerdb</td></tr>",
                            "<tr><td>database_classes_630</td></tr>",
                            "<tr><td>dbclass500</td></tr>",
                            "<tr><td>information_schema</td></tr>",
                            "<tr><td>mysql</td></tr>",
                            "<tr><td>performance_schema</td></tr>",
                            "<tr><td>revision</td></tr>",
                            "<tr><td>sakila</td></tr>",
                            "<tr><td>school</td></tr>",
                            "<tr><td>sys</td></tr>",
                            "</table>"
                        ]
                    }
                }
            ],
            "execution_count": 10
        },
        {
            "cell_type": "code",
            "source": [
                "use school;"
            ],
            "metadata": {
                "azdata_cell_guid": "6f2f00a7-f937-41f0-8289-e8e53f568618",
                "language": "sql"
            },
            "outputs": [
                {
                    "output_type": "display_data",
                    "data": {
                        "text/html": "Commands completed successfully"
                    },
                    "metadata": {}
                },
                {
                    "output_type": "display_data",
                    "data": {
                        "text/html": "Total execution time: 00:00:00"
                    },
                    "metadata": {}
                }
            ],
            "execution_count": 11
        },
        {
            "cell_type": "code",
            "source": [
                "show tables;"
            ],
            "metadata": {
                "azdata_cell_guid": "5e5af082-7876-41ec-9cb6-6e3e0ba2c05c",
                "language": "sql"
            },
            "outputs": [
{
    "output_type": "display_data",
    "data": {
        "text/html": "(0 row(s) affected)"
    },
    "metadata": {}
}, {
    "output_type": "display_data",
    "data": {
        "text/html": "Total execution time: 00:00:01.007"
    },
    "metadata": {}
}, {
    "output_type": "execute_result",
    "metadata": {},
    "execution_count": 12,
    "data": {
        "application/vnd.dataresource+json": {
            "schema": {
                "fields": [
                    {
                        "name": "Tables_in_school"
                    }
                ]
            },
            "data": []
        },
        "text/html": [
            "<table>",
            "<tr><th>Tables_in_school</th></tr>",
            "</table>"
        ]
    }
}
],
            "execution_count": 12
        }
    ]
}