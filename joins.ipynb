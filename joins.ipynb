{
    "metadata": {
        "kernelspec": {
            "name": "SQL",
            "display_name": "SQL",
            "language": "sql"
        },
        "language_info": {
            "name": "sql",
            "version": ""
        }
    },
    "nbformat_minor": 2,
    "nbformat": 4,
    "cells": [
        {
            "cell_type": "markdown",
            "source": [
                "# <span style=\"color: #569cd6;\">SQL</span> joins\n",
                "\n",
                "1. cross join\n",
                "2. inner join\n",
                "3. left join\n",
                "4. right join"
            ],
            "metadata": {
                "azdata_cell_guid": "98afa1cb-f194-45cc-b394-470876b26b04"
            },
            "attachments": {}
        },
        {
            "cell_type": "code",
            "source": [
                "use sakila;"
            ],
            "metadata": {
                "language": "sql",
                "azdata_cell_guid": "0a38492e-b496-457c-af3f-180663c0e672"
            },
            "outputs": [
                {
                    "output_type": "display_data",
                    "data": {
                        "text/html": "Commands completed successfully"
                    },
                    "metadata": {}
                },
                {
                    "output_type": "display_data",
                    "data": {
                        "text/html": "Total execution time: 00:00:00.001"
                    },
                    "metadata": {}
                }
            ],
            "execution_count": 1
        },
        {
            "cell_type": "code",
            "source": [
                "-- cross join between country and city\r\n",
                "select \r\n",
                "    city.city as city,\r\n",
                "    country.country as country\r\n",
                "from city CROSS JOIN country\r\n",
                "limit 10;\r\n",
                "\r\n",
                "-- not useful"
            ],
            "metadata": {
                "language": "sql",
                "azdata_cell_guid": "31f4f3fc-6575-4349-9efe-2dfe7a3dc3e5",
                "tags": []
            },
            "outputs": [
                {
                    "output_type": "display_data",
                    "data": {
                        "text/html": "(10 row(s) affected)"
                    },
                    "metadata": {}
                },
                {
                    "output_type": "display_data",
                    "data": {
                        "text/html": "Total execution time: 00:00:01.009"
                    },
                    "metadata": {}
                },
                {
                    "output_type": "execute_result",
                    "metadata": {},
                    "execution_count": 9,
                    "data": {
                        "application/vnd.dataresource+json": {
                            "schema": {
                                "fields": [
                                    {
                                        "name": "city"
                                    },
                                    {
                                        "name": "country"
                                    }
                                ]
                            },
                            "data": [
                                {
                                    "city": "A Coruña (La Coruña)",
                                    "country": "Zambia"
                                },
                                {
                                    "city": "A Coruña (La Coruña)",
                                    "country": "Yugoslavia"
                                },
                                {
                                    "city": "A Coruña (La Coruña)",
                                    "country": "Yemen"
                                },
                                {
                                    "city": "A Coruña (La Coruña)",
                                    "country": "Virgin Islands, U.S."
                                },
                                {
                                    "city": "A Coruña (La Coruña)",
                                    "country": "Vietnam"
                                },
                                {
                                    "city": "A Coruña (La Coruña)",
                                    "country": "Venezuela"
                                },
                                {
                                    "city": "A Coruña (La Coruña)",
                                    "country": "United States"
                                },
                                {
                                    "city": "A Coruña (La Coruña)",
                                    "country": "United Kingdom"
                                },
                                {
                                    "city": "A Coruña (La Coruña)",
                                    "country": "United Arab Emirates"
                                },
                                {
                                    "city": "A Coruña (La Coruña)",
                                    "country": "Ukraine"
                                }
                            ]
                        },
                        "text/html": [
                            "<table>",
                            "<tr><th>city</th><th>country</th></tr>",
                            "<tr><td>A Coruña (La Coruña)</td><td>Zambia</td></tr>",
                            "<tr><td>A Coruña (La Coruña)</td><td>Yugoslavia</td></tr>",
                            "<tr><td>A Coruña (La Coruña)</td><td>Yemen</td></tr>",
                            "<tr><td>A Coruña (La Coruña)</td><td>Virgin Islands, U.S.</td></tr>",
                            "<tr><td>A Coruña (La Coruña)</td><td>Vietnam</td></tr>",
                            "<tr><td>A Coruña (La Coruña)</td><td>Venezuela</td></tr>",
                            "<tr><td>A Coruña (La Coruña)</td><td>United States</td></tr>",
                            "<tr><td>A Coruña (La Coruña)</td><td>United Kingdom</td></tr>",
                            "<tr><td>A Coruña (La Coruña)</td><td>United Arab Emirates</td></tr>",
                            "<tr><td>A Coruña (La Coruña)</td><td>Ukraine</td></tr>",
                            "</table>"
                        ]
                    }
                }
            ],
            "execution_count": 9
        },
        {
            "cell_type": "code",
            "source": [
                "-- inner join for city and country\r\n",
                "select \r\n",
                "    city.city as city,\r\n",
                "    country.country as country\r\n",
                "from \r\n",
                "    city INNER JOIN country\r\n",
                "ON \r\n",
                "    city.country_id = country.country_id\r\n",
                "ORDER BY country"
            ],
            "metadata": {
                "language": "sql",
                "azdata_cell_guid": "96725a57-c32b-452b-9b23-ab8290de0c3c"
            },
            "outputs": [
                {
                    "output_type": "display_data",
                    "data": {
                        "text/html": "(600 row(s) affected)"
                    },
                    "metadata": {}
                },
                {
                    "output_type": "display_data",
                    "data": {
                        "text/html": "Total execution time: 00:00:01.013"
                    },
                    "metadata": {}
                },
                {
                    "output_type": "execute_result",
                    "metadata": {},
                    "execution_count": 11,
                    "data": {
                        "application/vnd.dataresource+json": {
                            "schema": {
                                "fields": [
                                    {
                                        "name": "city"
                                    },
                                    {
                                        "name": "country"
                                    }
                                ]
                            },
                            "data": [
                                {
                                    "city": "Kabul",
                                    "country": "Afghanistan"
                                },
                                {
                                    "city": "Batna",
                                    "country": "Algeria"
                                },
                                {
                                    "city": "Béchar",
                                    "country": "Algeria"
                                },
                                {
                                    "city": "Skikda",
                                    "country": "Algeria"
                                },
                                {
                                    "city": "Tafuna",
                                    "country": "American Samoa"
                                },
                                {
                                    "city": "Benguela",
                                    "country": "Angola"
                                },
                                {
                                    "city": "Namibe",
                                    "country": "Angola"
                                },
                                {
                                    "city": "South Hill",
                                    "country": "Anguilla"
                                },
                                {
                                    "city": "Almirante Brown",
                                    "country": "Argentina"
                                },
                                {
                                    "city": "Avellaneda",
                                    "country": "Argentina"
                                },
                                {
                                    "city": "Bahía Blanca",
                                    "country": "Argentina"
                                },
                                {
                                    "city": "Córdoba",
                                    "country": "Argentina"
                                },
                                {
                                    "city": "Escobar",
                                    "country": "Argentina"
                                },
                                {
                                    "city": "Ezeiza",
                                    "country": "Argentina"
                                },
                                {
                                    "city": "La Plata",
                                    "country": "Argentina"
                                },
                                {
                                    "city": "Merlo",
                                    "country": "Argentina"
                                },
                                {
                                    "city": "Quilmes",
                                    "country": "Argentina"
                                },
                                {
                                    "city": "San Miguel de Tucumán",
                                    "country": "Argentina"
                                },
                                {
                                    "city": "Santa Fé",
                                    "country": "Argentina"
                                },
                                {
                                    "city": "Tandil",
                                    "country": "Argentina"
                                },
                                {
                                    "city": "Vicente López",
                                    "country": "Argentina"
                                },
                                {
                                    "city": "Yerevan",
                                    "country": "Armenia"
                                },
                                {
                                    "city": "Woodridge",
                                    "country": "Australia"
                                },
                                {
                                    "city": "Graz",
                                    "country": "Austria"
                                },
                                {
                                    "city": "Linz",
                                    "country": "Austria"
                                },
                                {
                                    "city": "Salzburg",
                                    "country": "Austria"
                                },
                                {
                                    "city": "Baku",
                                    "country": "Azerbaijan"
                                },
                                {
                                    "city": "Sumqayit",
                                    "country": "Azerbaijan"
                                },
                                {
                                    "city": "al-Manama",
                                    "country": "Bahrain"
                                },
                                {
                                    "city": "Dhaka",
                                    "country": "Bangladesh"
                                },
                                {
                                    "city": "Jamalpur",
                                    "country": "Bangladesh"
                                },
                                {
                                    "city": "Tangail",
                                    "country": "Bangladesh"
                                },
                                {
                                    "city": "Mogiljov",
                                    "country": "Belarus"
                                },
                                {
                                    "city": "Molodetšno",
                                    "country": "Belarus"
                                },
                                {
                                    "city": "El Alto",
                                    "country": "Bolivia"
                                },
                                {
                                    "city": "Sucre",
                                    "country": "Bolivia"
                                },
                                {
                                    "city": "Alvorada",
                                    "country": "Brazil"
                                },
                                {
                                    "city": "Angra dos Reis",
                                    "country": "Brazil"
                                },
                                {
                                    "city": "Anápolis",
                                    "country": "Brazil"
                                },
                                {
                                    "city": "Aparecida de Goiânia",
                                    "country": "Brazil"
                                },
                                {
                                    "city": "Araçatuba",
                                    "country": "Brazil"
                                },
                                {
                                    "city": "Bagé",
                                    "country": "Brazil"
                                },
                                {
                                    "city": "Belém",
                                    "country": "Brazil"
                                },
                                {
                                    "city": "Blumenau",
                                    "country": "Brazil"
                                },
                                {
                                    "city": "Boa Vista",
                                    "country": "Brazil"
                                },
                                {
                                    "city": "Brasília",
                                    "country": "Brazil"
                                },
                                {
                                    "city": "Goiânia",
                                    "country": "Brazil"
                                },
                                {
                                    "city": "Guarujá",
                                    "country": "Brazil"
                                },
                                {
                                    "city": "Águas Lindas de Goiás",
                                    "country": "Brazil"
                                },
                                {
                                    "city": "Ibirité",
                                    "country": "Brazil"
                                },
                                {
                                    "city": "Juazeiro do Norte",
                                    "country": "Brazil"
                                },
                                {
                                    "city": "Juiz de Fora",
                                    "country": "Brazil"
                                },
                                {
                                    "city": "Luziânia",
                                    "country": "Brazil"
                                },
                                {
                                    "city": "Maringá",
                                    "country": "Brazil"
                                },
                                {
                                    "city": "Poá",
                                    "country": "Brazil"
                                },
                                {
                                    "city": "Poços de Caldas",
                                    "country": "Brazil"
                                },
                                {
                                    "city": "Rio Claro",
                                    "country": "Brazil"
                                },
                                {
                                    "city": "Santa Brbara dOeste",
                                    "country": "Brazil"
                                },
                                {
                                    "city": "Santo André",
                                    "country": "Brazil"
                                },
                                {
                                    "city": "São Bernardo do Campo",
                                    "country": "Brazil"
                                },
                                {
                                    "city": "São Leopoldo",
                                    "country": "Brazil"
                                },
                                {
                                    "city": "Sorocaba",
                                    "country": "Brazil"
                                },
                                {
                                    "city": "Vila Velha",
                                    "country": "Brazil"
                                },
                                {
                                    "city": "Vitória de Santo Antão",
                                    "country": "Brazil"
                                },
                                {
                                    "city": "Bandar Seri Begawan",
                                    "country": "Brunei"
                                },
                                {
                                    "city": "Ruse",
                                    "country": "Bulgaria"
                                },
                                {
                                    "city": "Stara Zagora",
                                    "country": "Bulgaria"
                                },
                                {
                                    "city": "Battambang",
                                    "country": "Cambodia"
                                },
                                {
                                    "city": "Phnom Penh",
                                    "country": "Cambodia"
                                },
                                {
                                    "city": "Bamenda",
                                    "country": "Cameroon"
                                },
                                {
                                    "city": "Yaoundé",
                                    "country": "Cameroon"
                                },
                                {
                                    "city": "Gatineau",
                                    "country": "Canada"
                                },
                                {
                                    "city": "Halifax",
                                    "country": "Canada"
                                },
                                {
                                    "city": "Lethbridge",
                                    "country": "Canada"
                                },
                                {
                                    "city": "London",
                                    "country": "Canada"
                                },
                                {
                                    "city": "Oshawa",
                                    "country": "Canada"
                                },
                                {
                                    "city": "Richmond Hill",
                                    "country": "Canada"
                                },
                                {
                                    "city": "Vancouver",
                                    "country": "Canada"
                                },
                                {
                                    "city": "NDjamna",
                                    "country": "Chad"
                                },
                                {
                                    "city": "Antofagasta",
                                    "country": "Chile"
                                },
                                {
                                    "city": "Coquimbo",
                                    "country": "Chile"
                                },
                                {
                                    "city": "Rancagua",
                                    "country": "Chile"
                                },
                                {
                                    "city": "Baicheng",
                                    "country": "China"
                                },
                                {
                                    "city": "Baiyin",
                                    "country": "China"
                                },
                                {
                                    "city": "Binzhou",
                                    "country": "China"
                                },
                                {
                                    "city": "Changzhou",
                                    "country": "China"
                                },
                                {
                                    "city": "Datong",
                                    "country": "China"
                                },
                                {
                                    "city": "Daxian",
                                    "country": "China"
                                },
                                {
                                    "city": "Dongying",
                                    "country": "China"
                                },
                                {
                                    "city": "Emeishan",
                                    "country": "China"
                                },
                                {
                                    "city": "Enshi",
                                    "country": "China"
                                },
                                {
                                    "city": "Ezhou",
                                    "country": "China"
                                },
                                {
                                    "city": "Fuyu",
                                    "country": "China"
                                },
                                {
                                    "city": "Fuzhou",
                                    "country": "China"
                                },
                                {
                                    "city": "Haining",
                                    "country": "China"
                                },
                                {
                                    "city": "Hami",
                                    "country": "China"
                                },
                                {
                                    "city": "Hohhot",
                                    "country": "China"
                                },
                                {
                                    "city": "Huai´an",
                                    "country": "China"
                                },
                                {
                                    "city": "Jinchang",
                                    "country": "China"
                                },
                                {
                                    "city": "Jining",
                                    "country": "China"
                                },
                                {
                                    "city": "Jinzhou",
                                    "country": "China"
                                },
                                {
                                    "city": "Junan",
                                    "country": "China"
                                },
                                {
                                    "city": "Korla",
                                    "country": "China"
                                },
                                {
                                    "city": "Laiwu",
                                    "country": "China"
                                },
                                {
                                    "city": "Laohekou",
                                    "country": "China"
                                },
                                {
                                    "city": "Lengshuijiang",
                                    "country": "China"
                                },
                                {
                                    "city": "Leshan",
                                    "country": "China"
                                },
                                {
                                    "city": "Liaocheng",
                                    "country": "China"
                                },
                                {
                                    "city": "Meixian",
                                    "country": "China"
                                },
                                {
                                    "city": "Nanyang",
                                    "country": "China"
                                },
                                {
                                    "city": "Pingxiang",
                                    "country": "China"
                                },
                                {
                                    "city": "Qinhuangdao",
                                    "country": "China"
                                },
                                {
                                    "city": "Rizhao",
                                    "country": "China"
                                },
                                {
                                    "city": "Sanya",
                                    "country": "China"
                                },
                                {
                                    "city": "Shanwei",
                                    "country": "China"
                                },
                                {
                                    "city": "Shaoguan",
                                    "country": "China"
                                },
                                {
                                    "city": "Shenzhen",
                                    "country": "China"
                                },
                                {
                                    "city": "Suihua",
                                    "country": "China"
                                },
                                {
                                    "city": "Tianjin",
                                    "country": "China"
                                },
                                {
                                    "city": "Tiefa",
                                    "country": "China"
                                },
                                {
                                    "city": "Tieli",
                                    "country": "China"
                                },
                                {
                                    "city": "Tongliao",
                                    "country": "China"
                                },
                                {
                                    "city": "Weifang",
                                    "country": "China"
                                },
                                {
                                    "city": "Xi´angfan",
                                    "country": "China"
                                },
                                {
                                    "city": "Xi´angtan",
                                    "country": "China"
                                },
                                {
                                    "city": "Xintai",
                                    "country": "China"
                                },
                                {
                                    "city": "Xinxiang",
                                    "country": "China"
                                },
                                {
                                    "city": "Yantai",
                                    "country": "China"
                                },
                                {
                                    "city": "Yinchuan",
                                    "country": "China"
                                },
                                {
                                    "city": "Yingkou",
                                    "country": "China"
                                },
                                {
                                    "city": "Yuncheng",
                                    "country": "China"
                                },
                                {
                                    "city": "Yuzhou",
                                    "country": "China"
                                },
                                {
                                    "city": "Zalantun",
                                    "country": "China"
                                },
                                {
                                    "city": "Zaoyang",
                                    "country": "China"
                                },
                                {
                                    "city": "Zhoushan",
                                    "country": "China"
                                },
                                {
                                    "city": "Buenaventura",
                                    "country": "Colombia"
                                },
                                {
                                    "city": "Dos Quebradas",
                                    "country": "Colombia"
                                },
                                {
                                    "city": "Florencia",
                                    "country": "Colombia"
                                },
                                {
                                    "city": "Pereira",
                                    "country": "Colombia"
                                },
                                {
                                    "city": "Sincelejo",
                                    "country": "Colombia"
                                },
                                {
                                    "city": "Sogamoso",
                                    "country": "Colombia"
                                },
                                {
                                    "city": "Lubumbashi",
                                    "country": "Congo, The Democratic Republic of the"
                                },
                                {
                                    "city": "Mwene-Ditu",
                                    "country": "Congo, The Democratic Republic of the"
                                },
                                {
                                    "city": "Olomouc",
                                    "country": "Czech Republic"
                                },
                                {
                                    "city": "La Romana",
                                    "country": "Dominican Republic"
                                },
                                {
                                    "city": "San Felipe de Puerto Plata",
                                    "country": "Dominican Republic"
                                },
                                {
                                    "city": "Santiago de los Caballeros",
                                    "country": "Dominican Republic"
                                },
                                {
                                    "city": "Loja",
                                    "country": "Ecuador"
                                },
                                {
                                    "city": "Portoviejo",
                                    "country": "Ecuador"
                                },
                                {
                                    "city": "Ríobamba",
                                    "country": "Ecuador"
                                },
                                {
                                    "city": "Bilbays",
                                    "country": "Egypt"
                                },
                                {
                                    "city": "Idfu",
                                    "country": "Egypt"
                                },
                                {
                                    "city": "Mit Ghamr",
                                    "country": "Egypt"
                                },
                                {
                                    "city": "Qalyub",
                                    "country": "Egypt"
                                },
                                {
                                    "city": "Sawhaj",
                                    "country": "Egypt"
                                },
                                {
                                    "city": "Shubra al-Khayma",
                                    "country": "Egypt"
                                },
                                {
                                    "city": "Tartu",
                                    "country": "Estonia"
                                },
                                {
                                    "city": "Addis Abeba",
                                    "country": "Ethiopia"
                                },
                                {
                                    "city": "Tórshavn",
                                    "country": "Faroe Islands"
                                },
                                {
                                    "city": "Oulu",
                                    "country": "Finland"
                                },
                                {
                                    "city": "Brest",
                                    "country": "France"
                                },
                                {
                                    "city": "Le Mans",
                                    "country": "France"
                                },
                                {
                                    "city": "Toulon",
                                    "country": "France"
                                },
                                {
                                    "city": "Toulouse",
                                    "country": "France"
                                },
                                {
                                    "city": "Cayenne",
                                    "country": "French Guiana"
                                },
                                {
                                    "city": "Faaa",
                                    "country": "French Polynesia"
                                },
                                {
                                    "city": "Papeete",
                                    "country": "French Polynesia"
                                },
                                {
                                    "city": "Banjul",
                                    "country": "Gambia"
                                },
                                {
                                    "city": "Duisburg",
                                    "country": "Germany"
                                },
                                {
                                    "city": "Erlangen",
                                    "country": "Germany"
                                },
                                {
                                    "city": "Halle/Saale",
                                    "country": "Germany"
                                },
                                {
                                    "city": "Mannheim",
                                    "country": "Germany"
                                },
                                {
                                    "city": "Saarbrücken",
                                    "country": "Germany"
                                },
                                {
                                    "city": "Siegen",
                                    "country": "Germany"
                                },
                                {
                                    "city": "Witten",
                                    "country": "Germany"
                                },
                                {
                                    "city": "Athenai",
                                    "country": "Greece"
                                },
                                {
                                    "city": "Patras",
                                    "country": "Greece"
                                },
                                {
                                    "city": "Nuuk",
                                    "country": "Greenland"
                                },
                                {
                                    "city": "Città del Vaticano",
                                    "country": "Holy See (Vatican City State)"
                                },
                                {
                                    "city": "Kowloon and New Kowloon",
                                    "country": "Hong Kong"
                                },
                                {
                                    "city": "Székesfehérvár",
                                    "country": "Hungary"
                                },
                                {
                                    "city": "Adoni",
                                    "country": "India"
                                },
                                {
                                    "city": "Ahmadnagar",
                                    "country": "India"
                                },
                                {
                                    "city": "Allappuzha (Alleppey)",
                                    "country": "India"
                                },
                                {
                                    "city": "Ambattur",
                                    "country": "India"
                                },
                                {
                                    "city": "Amroha",
                                    "country": "India"
                                },
                                {
                                    "city": "Balurghat",
                                    "country": "India"
                                },
                                {
                                    "city": "Berhampore (Baharampur)",
                                    "country": "India"
                                },
                                {
                                    "city": "Bhavnagar",
                                    "country": "India"
                                },
                                {
                                    "city": "Bhilwara",
                                    "country": "India"
                                },
                                {
                                    "city": "Bhimavaram",
                                    "country": "India"
                                },
                                {
                                    "city": "Bhopal",
                                    "country": "India"
                                },
                                {
                                    "city": "Bhusawal",
                                    "country": "India"
                                },
                                {
                                    "city": "Bijapur",
                                    "country": "India"
                                },
                                {
                                    "city": "Chandrapur",
                                    "country": "India"
                                },
                                {
                                    "city": "Chapra",
                                    "country": "India"
                                },
                                {
                                    "city": "Dhule (Dhulia)",
                                    "country": "India"
                                },
                                {
                                    "city": "Etawah",
                                    "country": "India"
                                },
                                {
                                    "city": "Firozabad",
                                    "country": "India"
                                },
                                {
                                    "city": "Gandhinagar",
                                    "country": "India"
                                },
                                {
                                    "city": "Gulbarga",
                                    "country": "India"
                                },
                                {
                                    "city": "Haldia",
                                    "country": "India"
                                },
                                {
                                    "city": "Halisahar",
                                    "country": "India"
                                },
                                {
                                    "city": "Hoshiarpur",
                                    "country": "India"
                                },
                                {
                                    "city": "Hubli-Dharwad",
                                    "country": "India"
                                },
                                {
                                    "city": "Jaipur",
                                    "country": "India"
                                },
                                {
                                    "city": "Jhansi",
                                    "country": "India"
                                },
                                {
                                    "city": "Jodhpur",
                                    "country": "India"
                                },
                                {
                                    "city": "Kamarhati",
                                    "country": "India"
                                },
                                {
                                    "city": "Kanchrapara",
                                    "country": "India"
                                },
                                {
                                    "city": "Karnal",
                                    "country": "India"
                                },
                                {
                                    "city": "Katihar",
                                    "country": "India"
                                },
                                {
                                    "city": "Kumbakonam",
                                    "country": "India"
                                },
                                {
                                    "city": "Miraj",
                                    "country": "India"
                                },
                                {
                                    "city": "Munger (Monghyr)",
                                    "country": "India"
                                },
                                {
                                    "city": "Mysore",
                                    "country": "India"
                                },
                                {
                                    "city": "Nagaon",
                                    "country": "India"
                                },
                                {
                                    "city": "Palghat (Palakkad)",
                                    "country": "India"
                                },
                                {
                                    "city": "Parbhani",
                                    "country": "India"
                                },
                                {
                                    "city": "Pathankot",
                                    "country": "India"
                                },
                                {
                                    "city": "Patiala",
                                    "country": "India"
                                },
                                {
                                    "city": "Pudukkottai",
                                    "country": "India"
                                },
                                {
                                    "city": "Pune",
                                    "country": "India"
                                },
                                {
                                    "city": "Purnea (Purnia)",
                                    "country": "India"
                                },
                                {
                                    "city": "Rae Bareli",
                                    "country": "India"
                                },
                                {
                                    "city": "Rajkot",
                                    "country": "India"
                                },
                                {
                                    "city": "Rampur",
                                    "country": "India"
                                },
                                {
                                    "city": "Ranchi",
                                    "country": "India"
                                },
                                {
                                    "city": "Sambhal",
                                    "country": "India"
                                },
                                {
                                    "city": "Satna",
                                    "country": "India"
                                },
                                {
                                    "city": "Shimoga",
                                    "country": "India"
                                },
                                {
                                    "city": "Shivapuri",
                                    "country": "India"
                                },
                                {
                                    "city": "Siliguri (Shiliguri)",
                                    "country": "India"
                                },
                                {
                                    "city": "Tambaram",
                                    "country": "India"
                                },
                                {
                                    "city": "Udaipur",
                                    "country": "India"
                                },
                                {
                                    "city": "Uluberia",
                                    "country": "India"
                                },
                                {
                                    "city": "Uttarpara-Kotrung",
                                    "country": "India"
                                },
                                {
                                    "city": "Valparai",
                                    "country": "India"
                                },
                                {
                                    "city": "Varanasi (Benares)",
                                    "country": "India"
                                },
                                {
                                    "city": "Vijayawada",
                                    "country": "India"
                                },
                                {
                                    "city": "Yamuna Nagar",
                                    "country": "India"
                                },
                                {
                                    "city": "Cianjur",
                                    "country": "Indonesia"
                                },
                                {
                                    "city": "Ciomas",
                                    "country": "Indonesia"
                                },
                                {
                                    "city": "Ciparay",
                                    "country": "Indonesia"
                                },
                                {
                                    "city": "Gorontalo",
                                    "country": "Indonesia"
                                },
                                {
                                    "city": "Jakarta",
                                    "country": "Indonesia"
                                },
                                {
                                    "city": "Lhokseumawe",
                                    "country": "Indonesia"
                                },
                                {
                                    "city": "Madiun",
                                    "country": "Indonesia"
                                },
                                {
                                    "city": "Pangkal Pinang",
                                    "country": "Indonesia"
                                },
                                {
                                    "city": "Pemalang",
                                    "country": "Indonesia"
                                },
                                {
                                    "city": "Pontianak",
                                    "country": "Indonesia"
                                },
                                {
                                    "city": "Probolinggo",
                                    "country": "Indonesia"
                                },
                                {
                                    "city": "Purwakarta",
                                    "country": "Indonesia"
                                },
                                {
                                    "city": "Surakarta",
                                    "country": "Indonesia"
                                },
                                {
                                    "city": "Tegal",
                                    "country": "Indonesia"
                                },
                                {
                                    "city": "Arak",
                                    "country": "Iran"
                                },
                                {
                                    "city": "Esfahan",
                                    "country": "Iran"
                                },
                                {
                                    "city": "Kermanshah",
                                    "country": "Iran"
                                },
                                {
                                    "city": "Najafabad",
                                    "country": "Iran"
                                },
                                {
                                    "city": "Qomsheh",
                                    "country": "Iran"
                                },
                                {
                                    "city": "Shahr-e Kord",
                                    "country": "Iran"
                                },
                                {
                                    "city": "Sirjan",
                                    "country": "Iran"
                                },
                                {
                                    "city": "Tabriz",
                                    "country": "Iran"
                                },
                                {
                                    "city": "Mosul",
                                    "country": "Iraq"
                                },
                                {
                                    "city": "Ashdod",
                                    "country": "Israel"
                                },
                                {
                                    "city": "Ashqelon",
                                    "country": "Israel"
                                },
                                {
                                    "city": "Bat Yam",
                                    "country": "Israel"
                                },
                                {
                                    "city": "Tel Aviv-Jaffa",
                                    "country": "Israel"
                                },
                                {
                                    "city": "Alessandria",
                                    "country": "Italy"
                                },
                                {
                                    "city": "Bergamo",
                                    "country": "Italy"
                                },
                                {
                                    "city": "Brescia",
                                    "country": "Italy"
                                },
                                {
                                    "city": "Brindisi",
                                    "country": "Italy"
                                },
                                {
                                    "city": "Livorno",
                                    "country": "Italy"
                                },
                                {
                                    "city": "Syrakusa",
                                    "country": "Italy"
                                },
                                {
                                    "city": "Udine",
                                    "country": "Italy"
                                },
                                {
                                    "city": "Akishima",
                                    "country": "Japan"
                                },
                                {
                                    "city": "Fukuyama",
                                    "country": "Japan"
                                },
                                {
                                    "city": "Higashiosaka",
                                    "country": "Japan"
                                },
                                {
                                    "city": "Hino",
                                    "country": "Japan"
                                },
                                {
                                    "city": "Hiroshima",
                                    "country": "Japan"
                                },
                                {
                                    "city": "Isesaki",
                                    "country": "Japan"
                                },
                                {
                                    "city": "Iwaki",
                                    "country": "Japan"
                                },
                                {
                                    "city": "Iwakuni",
                                    "country": "Japan"
                                },
                                {
                                    "city": "Iwatsuki",
                                    "country": "Japan"
                                },
                                {
                                    "city": "Izumisano",
                                    "country": "Japan"
                                },
                                {
                                    "city": "Kakamigahara",
                                    "country": "Japan"
                                },
                                {
                                    "city": "Kamakura",
                                    "country": "Japan"
                                },
                                {
                                    "city": "Kanazawa",
                                    "country": "Japan"
                                },
                                {
                                    "city": "Koriyama",
                                    "country": "Japan"
                                },
                                {
                                    "city": "Kurashiki",
                                    "country": "Japan"
                                },
                                {
                                    "city": "Kuwana",
                                    "country": "Japan"
                                },
                                {
                                    "city": "Matsue",
                                    "country": "Japan"
                                },
                                {
                                    "city": "Miyakonojo",
                                    "country": "Japan"
                                },
                                {
                                    "city": "Nagareyama",
                                    "country": "Japan"
                                },
                                {
                                    "city": "Okayama",
                                    "country": "Japan"
                                },
                                {
                                    "city": "Okinawa",
                                    "country": "Japan"
                                },
                                {
                                    "city": "Omiya",
                                    "country": "Japan"
                                },
                                {
                                    "city": "Onomichi",
                                    "country": "Japan"
                                },
                                {
                                    "city": "Otsu",
                                    "country": "Japan"
                                },
                                {
                                    "city": "Sagamihara",
                                    "country": "Japan"
                                },
                                {
                                    "city": "Sasebo",
                                    "country": "Japan"
                                },
                                {
                                    "city": "Shimonoseki",
                                    "country": "Japan"
                                },
                                {
                                    "city": "Tama",
                                    "country": "Japan"
                                },
                                {
                                    "city": "Tsuyama",
                                    "country": "Japan"
                                },
                                {
                                    "city": "Ueda",
                                    "country": "Japan"
                                },
                                {
                                    "city": "Urawa",
                                    "country": "Japan"
                                },
                                {
                                    "city": "Pavlodar",
                                    "country": "Kazakstan"
                                },
                                {
                                    "city": "Zhezqazghan",
                                    "country": "Kazakstan"
                                },
                                {
                                    "city": "Kisumu",
                                    "country": "Kenya"
                                },
                                {
                                    "city": "Nyeri",
                                    "country": "Kenya"
                                },
                                {
                                    "city": "Jalib al-Shuyukh",
                                    "country": "Kuwait"
                                },
                                {
                                    "city": "Daugavpils",
                                    "country": "Latvia"
                                },
                                {
                                    "city": "Liepaja",
                                    "country": "Latvia"
                                },
                                {
                                    "city": "Vaduz",
                                    "country": "Liechtenstein"
                                },
                                {
                                    "city": "Vilnius",
                                    "country": "Lithuania"
                                },
                                {
                                    "city": "Mahajanga",
                                    "country": "Madagascar"
                                },
                                {
                                    "city": "Lilongwe",
                                    "country": "Malawi"
                                },
                                {
                                    "city": "Ipoh",
                                    "country": "Malaysia"
                                },
                                {
                                    "city": "Kuching",
                                    "country": "Malaysia"
                                },
                                {
                                    "city": "Sungai Petani",
                                    "country": "Malaysia"
                                },
                                {
                                    "city": "Acuña",
                                    "country": "Mexico"
                                },
                                {
                                    "city": "Allende",
                                    "country": "Mexico"
                                },
                                {
                                    "city": "Atlixco",
                                    "country": "Mexico"
                                },
                                {
                                    "city": "Carmen",
                                    "country": "Mexico"
                                },
                                {
                                    "city": "Celaya",
                                    "country": "Mexico"
                                },
                                {
                                    "city": "Coacalco de Berriozábal",
                                    "country": "Mexico"
                                },
                                {
                                    "city": "Coatzacoalcos",
                                    "country": "Mexico"
                                },
                                {
                                    "city": "Cuauhtémoc",
                                    "country": "Mexico"
                                },
                                {
                                    "city": "Cuautla",
                                    "country": "Mexico"
                                },
                                {
                                    "city": "Cuernavaca",
                                    "country": "Mexico"
                                },
                                {
                                    "city": "El Fuerte",
                                    "country": "Mexico"
                                },
                                {
                                    "city": "Guadalajara",
                                    "country": "Mexico"
                                },
                                {
                                    "city": "Hidalgo",
                                    "country": "Mexico"
                                },
                                {
                                    "city": "Huejutla de Reyes",
                                    "country": "Mexico"
                                },
                                {
                                    "city": "Huixquilucan",
                                    "country": "Mexico"
                                },
                                {
                                    "city": "José Azueta",
                                    "country": "Mexico"
                                },
                                {
                                    "city": "Juárez",
                                    "country": "Mexico"
                                },
                                {
                                    "city": "La Paz",
                                    "country": "Mexico"
                                },
                                {
                                    "city": "Matamoros",
                                    "country": "Mexico"
                                },
                                {
                                    "city": "Mexicali",
                                    "country": "Mexico"
                                },
                                {
                                    "city": "Monclova",
                                    "country": "Mexico"
                                },
                                {
                                    "city": "Nezahualcóyotl",
                                    "country": "Mexico"
                                },
                                {
                                    "city": "Pachuca de Soto",
                                    "country": "Mexico"
                                },
                                {
                                    "city": "Salamanca",
                                    "country": "Mexico"
                                },
                                {
                                    "city": "San Felipe del Progreso",
                                    "country": "Mexico"
                                },
                                {
                                    "city": "San Juan Bautista Tuxtepec",
                                    "country": "Mexico"
                                },
                                {
                                    "city": "Torreón",
                                    "country": "Mexico"
                                },
                                {
                                    "city": "Uruapan",
                                    "country": "Mexico"
                                },
                                {
                                    "city": "Valle de Santiago",
                                    "country": "Mexico"
                                },
                                {
                                    "city": "Zapopan",
                                    "country": "Mexico"
                                },
                                {
                                    "city": "Chisinau",
                                    "country": "Moldova"
                                },
                                {
                                    "city": "Beni-Mellal",
                                    "country": "Morocco"
                                },
                                {
                                    "city": "Nador",
                                    "country": "Morocco"
                                },
                                {
                                    "city": "Salé",
                                    "country": "Morocco"
                                },
                                {
                                    "city": "Beira",
                                    "country": "Mozambique"
                                },
                                {
                                    "city": "Naçala-Porto",
                                    "country": "Mozambique"
                                },
                                {
                                    "city": "Tete",
                                    "country": "Mozambique"
                                },
                                {
                                    "city": "Monywa",
                                    "country": "Myanmar"
                                },
                                {
                                    "city": "Myingyan",
                                    "country": "Myanmar"
                                },
                                {
                                    "city": "Yangor",
                                    "country": "Nauru"
                                },
                                {
                                    "city": "Birgunj",
                                    "country": "Nepal"
                                },
                                {
                                    "city": "Amersfoort",
                                    "country": "Netherlands"
                                },
                                {
                                    "city": "Apeldoorn",
                                    "country": "Netherlands"
                                },
                                {
                                    "city": "Ede",
                                    "country": "Netherlands"
                                },
                                {
                                    "city": "Emmen",
                                    "country": "Netherlands"
                                },
                                {
                                    "city": "´s-Hertogenbosch",
                                    "country": "Netherlands"
                                },
                                {
                                    "city": "Hamilton",
                                    "country": "New Zealand"
                                },
                                {
                                    "city": "Benin City",
                                    "country": "Nigeria"
                                },
                                {
                                    "city": "Deba Habe",
                                    "country": "Nigeria"
                                },
                                {
                                    "city": "Effon-Alaiye",
                                    "country": "Nigeria"
                                },
                                {
                                    "city": "Ife",
                                    "country": "Nigeria"
                                },
                                {
                                    "city": "Ikerre",
                                    "country": "Nigeria"
                                },
                                {
                                    "city": "Ilorin",
                                    "country": "Nigeria"
                                },
                                {
                                    "city": "Kaduna",
                                    "country": "Nigeria"
                                },
                                {
                                    "city": "Ogbomosho",
                                    "country": "Nigeria"
                                },
                                {
                                    "city": "Ondo",
                                    "country": "Nigeria"
                                },
                                {
                                    "city": "Owo",
                                    "country": "Nigeria"
                                },
                                {
                                    "city": "Oyo",
                                    "country": "Nigeria"
                                },
                                {
                                    "city": "Sokoto",
                                    "country": "Nigeria"
                                },
                                {
                                    "city": "Zaria",
                                    "country": "Nigeria"
                                },
                                {
                                    "city": "Pyongyang",
                                    "country": "North Korea"
                                },
                                {
                                    "city": "Masqat",
                                    "country": "Oman"
                                },
                                {
                                    "city": "Salala",
                                    "country": "Oman"
                                },
                                {
                                    "city": "Dadu",
                                    "country": "Pakistan"
                                },
                                {
                                    "city": "Mandi Bahauddin",
                                    "country": "Pakistan"
                                },
                                {
                                    "city": "Mardan",
                                    "country": "Pakistan"
                                },
                                {
                                    "city": "Okara",
                                    "country": "Pakistan"
                                },
                                {
                                    "city": "Shikarpur",
                                    "country": "Pakistan"
                                },
                                {
                                    "city": "Asunción",
                                    "country": "Paraguay"
                                },
                                {
                                    "city": "Ciudad del Este",
                                    "country": "Paraguay"
                                },
                                {
                                    "city": "San Lorenzo",
                                    "country": "Paraguay"
                                },
                                {
                                    "city": "Callao",
                                    "country": "Peru"
                                },
                                {
                                    "city": "Huánuco",
                                    "country": "Peru"
                                },
                                {
                                    "city": "Lima",
                                    "country": "Peru"
                                },
                                {
                                    "city": "Sullana",
                                    "country": "Peru"
                                },
                                {
                                    "city": "Baybay",
                                    "country": "Philippines"
                                },
                                {
                                    "city": "Bayugan",
                                    "country": "Philippines"
                                },
                                {
                                    "city": "Bislig",
                                    "country": "Philippines"
                                },
                                {
                                    "city": "Cabuyao",
                                    "country": "Philippines"
                                },
                                {
                                    "city": "Cavite",
                                    "country": "Philippines"
                                },
                                {
                                    "city": "Davao",
                                    "country": "Philippines"
                                },
                                {
                                    "city": "Gingoog",
                                    "country": "Philippines"
                                },
                                {
                                    "city": "Hagonoy",
                                    "country": "Philippines"
                                },
                                {
                                    "city": "Iligan",
                                    "country": "Philippines"
                                },
                                {
                                    "city": "Imus",
                                    "country": "Philippines"
                                },
                                {
                                    "city": "Lapu-Lapu",
                                    "country": "Philippines"
                                },
                                {
                                    "city": "Mandaluyong",
                                    "country": "Philippines"
                                },
                                {
                                    "city": "Ozamis",
                                    "country": "Philippines"
                                },
                                {
                                    "city": "Santa Rosa",
                                    "country": "Philippines"
                                },
                                {
                                    "city": "Taguig",
                                    "country": "Philippines"
                                },
                                {
                                    "city": "Talavera",
                                    "country": "Philippines"
                                },
                                {
                                    "city": "Tanauan",
                                    "country": "Philippines"
                                },
                                {
                                    "city": "Tanza",
                                    "country": "Philippines"
                                },
                                {
                                    "city": "Tarlac",
                                    "country": "Philippines"
                                },
                                {
                                    "city": "Tuguegarao",
                                    "country": "Philippines"
                                },
                                {
                                    "city": "Bydgoszcz",
                                    "country": "Poland"
                                },
                                {
                                    "city": "Czestochowa",
                                    "country": "Poland"
                                },
                                {
                                    "city": "Jastrzebie-Zdrój",
                                    "country": "Poland"
                                },
                                {
                                    "city": "Kalisz",
                                    "country": "Poland"
                                },
                                {
                                    "city": "Lublin",
                                    "country": "Poland"
                                },
                                {
                                    "city": "Plock",
                                    "country": "Poland"
                                },
                                {
                                    "city": "Tychy",
                                    "country": "Poland"
                                },
                                {
                                    "city": "Wroclaw",
                                    "country": "Poland"
                                },
                                {
                                    "city": "Arecibo",
                                    "country": "Puerto Rico"
                                },
                                {
                                    "city": "Ponce",
                                    "country": "Puerto Rico"
                                },
                                {
                                    "city": "Saint-Denis",
                                    "country": "Réunion"
                                },
                                {
                                    "city": "Botosani",
                                    "country": "Romania"
                                },
                                {
                                    "city": "Bucuresti",
                                    "country": "Romania"
                                },
                                {
                                    "city": "Atšinsk",
                                    "country": "Russian Federation"
                                },
                                {
                                    "city": "Balašiha",
                                    "country": "Russian Federation"
                                },
                                {
                                    "city": "Dzerzinsk",
                                    "country": "Russian Federation"
                                },
                                {
                                    "city": "Elista",
                                    "country": "Russian Federation"
                                },
                                {
                                    "city": "Ivanovo",
                                    "country": "Russian Federation"
                                },
                                {
                                    "city": "Jaroslavl",
                                    "country": "Russian Federation"
                                },
                                {
                                    "city": "Jelets",
                                    "country": "Russian Federation"
                                },
                                {
                                    "city": "Kaliningrad",
                                    "country": "Russian Federation"
                                },
                                {
                                    "city": "Kamyšin",
                                    "country": "Russian Federation"
                                },
                                {
                                    "city": "Kirovo-Tšepetsk",
                                    "country": "Russian Federation"
                                },
                                {
                                    "city": "Kolpino",
                                    "country": "Russian Federation"
                                },
                                {
                                    "city": "Korolev",
                                    "country": "Russian Federation"
                                },
                                {
                                    "city": "Kurgan",
                                    "country": "Russian Federation"
                                },
                                {
                                    "city": "Kursk",
                                    "country": "Russian Federation"
                                },
                                {
                                    "city": "Lipetsk",
                                    "country": "Russian Federation"
                                },
                                {
                                    "city": "Ljubertsy",
                                    "country": "Russian Federation"
                                },
                                {
                                    "city": "Maikop",
                                    "country": "Russian Federation"
                                },
                                {
                                    "city": "Moscow",
                                    "country": "Russian Federation"
                                },
                                {
                                    "city": "Nabereznyje Tšelny",
                                    "country": "Russian Federation"
                                },
                                {
                                    "city": "Niznekamsk",
                                    "country": "Russian Federation"
                                },
                                {
                                    "city": "Novotšerkassk",
                                    "country": "Russian Federation"
                                },
                                {
                                    "city": "Pjatigorsk",
                                    "country": "Russian Federation"
                                },
                                {
                                    "city": "Serpuhov",
                                    "country": "Russian Federation"
                                },
                                {
                                    "city": "Smolensk",
                                    "country": "Russian Federation"
                                },
                                {
                                    "city": "Syktyvkar",
                                    "country": "Russian Federation"
                                },
                                {
                                    "city": "Tšeboksary",
                                    "country": "Russian Federation"
                                },
                                {
                                    "city": "Usolje-Sibirskoje",
                                    "country": "Russian Federation"
                                },
                                {
                                    "city": "Zeleznogorsk",
                                    "country": "Russian Federation"
                                },
                                {
                                    "city": "Kingstown",
                                    "country": "Saint Vincent and the Grenadines"
                                },
                                {
                                    "city": "Abha",
                                    "country": "Saudi Arabia"
                                },
                                {
                                    "city": "al-Hawiya",
                                    "country": "Saudi Arabia"
                                },
                                {
                                    "city": "al-Qatif",
                                    "country": "Saudi Arabia"
                                },
                                {
                                    "city": "Jedda",
                                    "country": "Saudi Arabia"
                                },
                                {
                                    "city": "Tabuk",
                                    "country": "Saudi Arabia"
                                },
                                {
                                    "city": "Ziguinchor",
                                    "country": "Senegal"
                                },
                                {
                                    "city": "Bratislava",
                                    "country": "Slovakia"
                                },
                                {
                                    "city": "Boksburg",
                                    "country": "South Africa"
                                },
                                {
                                    "city": "Botshabelo",
                                    "country": "South Africa"
                                },
                                {
                                    "city": "Chatsworth",
                                    "country": "South Africa"
                                },
                                {
                                    "city": "Johannesburg",
                                    "country": "South Africa"
                                },
                                {
                                    "city": "Kimberley",
                                    "country": "South Africa"
                                },
                                {
                                    "city": "Klerksdorp",
                                    "country": "South Africa"
                                },
                                {
                                    "city": "Newcastle",
                                    "country": "South Africa"
                                },
                                {
                                    "city": "Paarl",
                                    "country": "South Africa"
                                },
                                {
                                    "city": "Rustenburg",
                                    "country": "South Africa"
                                },
                                {
                                    "city": "Soshanguve",
                                    "country": "South Africa"
                                },
                                {
                                    "city": "Springs",
                                    "country": "South Africa"
                                },
                                {
                                    "city": "Cheju",
                                    "country": "South Korea"
                                },
                                {
                                    "city": "Kimchon",
                                    "country": "South Korea"
                                },
                                {
                                    "city": "Naju",
                                    "country": "South Korea"
                                },
                                {
                                    "city": "Tonghae",
                                    "country": "South Korea"
                                },
                                {
                                    "city": "Uijongbu",
                                    "country": "South Korea"
                                },
                                {
                                    "city": "A Coruña (La Coruña)",
                                    "country": "Spain"
                                },
                                {
                                    "city": "Donostia-San Sebastián",
                                    "country": "Spain"
                                },
                                {
                                    "city": "Gijón",
                                    "country": "Spain"
                                },
                                {
                                    "city": "Ourense (Orense)",
                                    "country": "Spain"
                                },
                                {
                                    "city": "Santiago de Compostela",
                                    "country": "Spain"
                                },
                                {
                                    "city": "Jaffna",
                                    "country": "Sri Lanka"
                                },
                                {
                                    "city": "al-Qadarif",
                                    "country": "Sudan"
                                },
                                {
                                    "city": "Omdurman",
                                    "country": "Sudan"
                                },
                                {
                                    "city": "Malmö",
                                    "country": "Sweden"
                                },
                                {
                                    "city": "Basel",
                                    "country": "Switzerland"
                                },
                                {
                                    "city": "Bern",
                                    "country": "Switzerland"
                                },
                                {
                                    "city": "Lausanne",
                                    "country": "Switzerland"
                                },
                                {
                                    "city": "Changhwa",
                                    "country": "Taiwan"
                                },
                                {
                                    "city": "Chiayi",
                                    "country": "Taiwan"
                                },
                                {
                                    "city": "Chungho",
                                    "country": "Taiwan"
                                },
                                {
                                    "city": "Fengshan",
                                    "country": "Taiwan"
                                },
                                {
                                    "city": "Hsichuh",
                                    "country": "Taiwan"
                                },
                                {
                                    "city": "Lungtan",
                                    "country": "Taiwan"
                                },
                                {
                                    "city": "Nantou",
                                    "country": "Taiwan"
                                },
                                {
                                    "city": "Tanshui",
                                    "country": "Taiwan"
                                },
                                {
                                    "city": "Touliu",
                                    "country": "Taiwan"
                                },
                                {
                                    "city": "Tsaotun",
                                    "country": "Taiwan"
                                },
                                {
                                    "city": "Mwanza",
                                    "country": "Tanzania"
                                },
                                {
                                    "city": "Tabora",
                                    "country": "Tanzania"
                                },
                                {
                                    "city": "Zanzibar",
                                    "country": "Tanzania"
                                },
                                {
                                    "city": "Nakhon Sawan",
                                    "country": "Thailand"
                                },
                                {
                                    "city": "Pak Kret",
                                    "country": "Thailand"
                                },
                                {
                                    "city": "Songkhla",
                                    "country": "Thailand"
                                },
                                {
                                    "city": "Nuku´alofa",
                                    "country": "Tonga"
                                },
                                {
                                    "city": "Sousse",
                                    "country": "Tunisia"
                                },
                                {
                                    "city": "Adana",
                                    "country": "Turkey"
                                },
                                {
                                    "city": "Balikesir",
                                    "country": "Turkey"
                                },
                                {
                                    "city": "Batman",
                                    "country": "Turkey"
                                },
                                {
                                    "city": "Denizli",
                                    "country": "Turkey"
                                },
                                {
                                    "city": "Eskisehir",
                                    "country": "Turkey"
                                },
                                {
                                    "city": "Gaziantep",
                                    "country": "Turkey"
                                },
                                {
                                    "city": "Inegöl",
                                    "country": "Turkey"
                                },
                                {
                                    "city": "Kilis",
                                    "country": "Turkey"
                                },
                                {
                                    "city": "Kütahya",
                                    "country": "Turkey"
                                },
                                {
                                    "city": "Osmaniye",
                                    "country": "Turkey"
                                },
                                {
                                    "city": "Sivas",
                                    "country": "Turkey"
                                },
                                {
                                    "city": "Sultanbeyli",
                                    "country": "Turkey"
                                },
                                {
                                    "city": "Tarsus",
                                    "country": "Turkey"
                                },
                                {
                                    "city": "Tokat",
                                    "country": "Turkey"
                                },
                                {
                                    "city": "Usak",
                                    "country": "Turkey"
                                },
                                {
                                    "city": "Ashgabat",
                                    "country": "Turkmenistan"
                                },
                                {
                                    "city": "Funafuti",
                                    "country": "Tuvalu"
                                },
                                {
                                    "city": "Kamjanets-Podilskyi",
                                    "country": "Ukraine"
                                },
                                {
                                    "city": "Konotop",
                                    "country": "Ukraine"
                                },
                                {
                                    "city": "Mukatševe",
                                    "country": "Ukraine"
                                },
                                {
                                    "city": "Šostka",
                                    "country": "Ukraine"
                                },
                                {
                                    "city": "Simferopol",
                                    "country": "Ukraine"
                                },
                                {
                                    "city": "Sumy",
                                    "country": "Ukraine"
                                },
                                {
                                    "city": "Abu Dhabi",
                                    "country": "United Arab Emirates"
                                },
                                {
                                    "city": "al-Ayn",
                                    "country": "United Arab Emirates"
                                },
                                {
                                    "city": "Sharja",
                                    "country": "United Arab Emirates"
                                },
                                {
                                    "city": "Bradford",
                                    "country": "United Kingdom"
                                },
                                {
                                    "city": "Dundee",
                                    "country": "United Kingdom"
                                },
                                {
                                    "city": "London",
                                    "country": "United Kingdom"
                                },
                                {
                                    "city": "Southampton",
                                    "country": "United Kingdom"
                                },
                                {
                                    "city": "Southend-on-Sea",
                                    "country": "United Kingdom"
                                },
                                {
                                    "city": "Southport",
                                    "country": "United Kingdom"
                                },
                                {
                                    "city": "Stockport",
                                    "country": "United Kingdom"
                                },
                                {
                                    "city": "York",
                                    "country": "United Kingdom"
                                },
                                {
                                    "city": "Akron",
                                    "country": "United States"
                                },
                                {
                                    "city": "Arlington",
                                    "country": "United States"
                                },
                                {
                                    "city": "Augusta-Richmond County",
                                    "country": "United States"
                                },
                                {
                                    "city": "Aurora",
                                    "country": "United States"
                                },
                                {
                                    "city": "Bellevue",
                                    "country": "United States"
                                },
                                {
                                    "city": "Brockton",
                                    "country": "United States"
                                },
                                {
                                    "city": "Cape Coral",
                                    "country": "United States"
                                },
                                {
                                    "city": "Citrus Heights",
                                    "country": "United States"
                                },
                                {
                                    "city": "Clarksville",
                                    "country": "United States"
                                },
                                {
                                    "city": "Compton",
                                    "country": "United States"
                                },
                                {
                                    "city": "Dallas",
                                    "country": "United States"
                                },
                                {
                                    "city": "Dayton",
                                    "country": "United States"
                                },
                                {
                                    "city": "El Monte",
                                    "country": "United States"
                                },
                                {
                                    "city": "Fontana",
                                    "country": "United States"
                                },
                                {
                                    "city": "Garden Grove",
                                    "country": "United States"
                                },
                                {
                                    "city": "Garland",
                                    "country": "United States"
                                },
                                {
                                    "city": "Grand Prairie",
                                    "country": "United States"
                                },
                                {
                                    "city": "Greensboro",
                                    "country": "United States"
                                },
                                {
                                    "city": "Joliet",
                                    "country": "United States"
                                },
                                {
                                    "city": "Kansas City",
                                    "country": "United States"
                                },
                                {
                                    "city": "Lancaster",
                                    "country": "United States"
                                },
                                {
                                    "city": "Laredo",
                                    "country": "United States"
                                },
                                {
                                    "city": "Lincoln",
                                    "country": "United States"
                                },
                                {
                                    "city": "Manchester",
                                    "country": "United States"
                                },
                                {
                                    "city": "Memphis",
                                    "country": "United States"
                                },
                                {
                                    "city": "Peoria",
                                    "country": "United States"
                                },
                                {
                                    "city": "Roanoke",
                                    "country": "United States"
                                },
                                {
                                    "city": "Rockford",
                                    "country": "United States"
                                },
                                {
                                    "city": "Saint Louis",
                                    "country": "United States"
                                },
                                {
                                    "city": "Salinas",
                                    "country": "United States"
                                },
                                {
                                    "city": "San Bernardino",
                                    "country": "United States"
                                },
                                {
                                    "city": "Sterling Heights",
                                    "country": "United States"
                                },
                                {
                                    "city": "Sunnyvale",
                                    "country": "United States"
                                },
                                {
                                    "city": "Tallahassee",
                                    "country": "United States"
                                },
                                {
                                    "city": "Warren",
                                    "country": "United States"
                                },
                                {
                                    "city": "Barcelona",
                                    "country": "Venezuela"
                                },
                                {
                                    "city": "Caracas",
                                    "country": "Venezuela"
                                },
                                {
                                    "city": "Cumaná",
                                    "country": "Venezuela"
                                },
                                {
                                    "city": "Maracaíbo",
                                    "country": "Venezuela"
                                },
                                {
                                    "city": "Ocumare del Tuy",
                                    "country": "Venezuela"
                                },
                                {
                                    "city": "Valencia",
                                    "country": "Venezuela"
                                },
                                {
                                    "city": "Valle de la Pascua",
                                    "country": "Venezuela"
                                },
                                {
                                    "city": "Cam Ranh",
                                    "country": "Vietnam"
                                },
                                {
                                    "city": "Haiphong",
                                    "country": "Vietnam"
                                },
                                {
                                    "city": "Hanoi",
                                    "country": "Vietnam"
                                },
                                {
                                    "city": "Nam Dinh",
                                    "country": "Vietnam"
                                },
                                {
                                    "city": "Nha Trang",
                                    "country": "Vietnam"
                                },
                                {
                                    "city": "Vinh",
                                    "country": "Vietnam"
                                },
                                {
                                    "city": "Charlotte Amalie",
                                    "country": "Virgin Islands, U.S."
                                },
                                {
                                    "city": "Aden",
                                    "country": "Yemen"
                                },
                                {
                                    "city": "Hodeida",
                                    "country": "Yemen"
                                },
                                {
                                    "city": "Sanaa",
                                    "country": "Yemen"
                                },
                                {
                                    "city": "Taizz",
                                    "country": "Yemen"
                                },
                                {
                                    "city": "Kragujevac",
                                    "country": "Yugoslavia"
                                },
                                {
                                    "city": "Novi Sad",
                                    "country": "Yugoslavia"
                                },
                                {
                                    "city": "Kitwe",
                                    "country": "Zambia"
                                }
                            ]
                        },
                        "text/html": [
                            "<table>",
                            "<tr><th>city</th><th>country</th></tr>",
                            "<tr><td>Kabul</td><td>Afghanistan</td></tr>",
                            "<tr><td>Batna</td><td>Algeria</td></tr>",
                            "<tr><td>Béchar</td><td>Algeria</td></tr>",
                            "<tr><td>Skikda</td><td>Algeria</td></tr>",
                            "<tr><td>Tafuna</td><td>American Samoa</td></tr>",
                            "<tr><td>Benguela</td><td>Angola</td></tr>",
                            "<tr><td>Namibe</td><td>Angola</td></tr>",
                            "<tr><td>South Hill</td><td>Anguilla</td></tr>",
                            "<tr><td>Almirante Brown</td><td>Argentina</td></tr>",
                            "<tr><td>Avellaneda</td><td>Argentina</td></tr>",
                            "<tr><td>Bahía Blanca</td><td>Argentina</td></tr>",
                            "<tr><td>Córdoba</td><td>Argentina</td></tr>",
                            "<tr><td>Escobar</td><td>Argentina</td></tr>",
                            "<tr><td>Ezeiza</td><td>Argentina</td></tr>",
                            "<tr><td>La Plata</td><td>Argentina</td></tr>",
                            "<tr><td>Merlo</td><td>Argentina</td></tr>",
                            "<tr><td>Quilmes</td><td>Argentina</td></tr>",
                            "<tr><td>San Miguel de Tucumán</td><td>Argentina</td></tr>",
                            "<tr><td>Santa Fé</td><td>Argentina</td></tr>",
                            "<tr><td>Tandil</td><td>Argentina</td></tr>",
                            "<tr><td>Vicente López</td><td>Argentina</td></tr>",
                            "<tr><td>Yerevan</td><td>Armenia</td></tr>",
                            "<tr><td>Woodridge</td><td>Australia</td></tr>",
                            "<tr><td>Graz</td><td>Austria</td></tr>",
                            "<tr><td>Linz</td><td>Austria</td></tr>",
                            "<tr><td>Salzburg</td><td>Austria</td></tr>",
                            "<tr><td>Baku</td><td>Azerbaijan</td></tr>",
                            "<tr><td>Sumqayit</td><td>Azerbaijan</td></tr>",
                            "<tr><td>al-Manama</td><td>Bahrain</td></tr>",
                            "<tr><td>Dhaka</td><td>Bangladesh</td></tr>",
                            "<tr><td>Jamalpur</td><td>Bangladesh</td></tr>",
                            "<tr><td>Tangail</td><td>Bangladesh</td></tr>",
                            "<tr><td>Mogiljov</td><td>Belarus</td></tr>",
                            "<tr><td>Molodetšno</td><td>Belarus</td></tr>",
                            "<tr><td>El Alto</td><td>Bolivia</td></tr>",
                            "<tr><td>Sucre</td><td>Bolivia</td></tr>",
                            "<tr><td>Alvorada</td><td>Brazil</td></tr>",
                            "<tr><td>Angra dos Reis</td><td>Brazil</td></tr>",
                            "<tr><td>Anápolis</td><td>Brazil</td></tr>",
                            "<tr><td>Aparecida de Goiânia</td><td>Brazil</td></tr>",
                            "<tr><td>Araçatuba</td><td>Brazil</td></tr>",
                            "<tr><td>Bagé</td><td>Brazil</td></tr>",
                            "<tr><td>Belém</td><td>Brazil</td></tr>",
                            "<tr><td>Blumenau</td><td>Brazil</td></tr>",
                            "<tr><td>Boa Vista</td><td>Brazil</td></tr>",
                            "<tr><td>Brasília</td><td>Brazil</td></tr>",
                            "<tr><td>Goiânia</td><td>Brazil</td></tr>",
                            "<tr><td>Guarujá</td><td>Brazil</td></tr>",
                            "<tr><td>Águas Lindas de Goiás</td><td>Brazil</td></tr>",
                            "<tr><td>Ibirité</td><td>Brazil</td></tr>",
                            "<tr><td>Juazeiro do Norte</td><td>Brazil</td></tr>",
                            "<tr><td>Juiz de Fora</td><td>Brazil</td></tr>",
                            "<tr><td>Luziânia</td><td>Brazil</td></tr>",
                            "<tr><td>Maringá</td><td>Brazil</td></tr>",
                            "<tr><td>Poá</td><td>Brazil</td></tr>",
                            "<tr><td>Poços de Caldas</td><td>Brazil</td></tr>",
                            "<tr><td>Rio Claro</td><td>Brazil</td></tr>",
                            "<tr><td>Santa Brbara dOeste</td><td>Brazil</td></tr>",
                            "<tr><td>Santo André</td><td>Brazil</td></tr>",
                            "<tr><td>São Bernardo do Campo</td><td>Brazil</td></tr>",
                            "<tr><td>São Leopoldo</td><td>Brazil</td></tr>",
                            "<tr><td>Sorocaba</td><td>Brazil</td></tr>",
                            "<tr><td>Vila Velha</td><td>Brazil</td></tr>",
                            "<tr><td>Vitória de Santo Antão</td><td>Brazil</td></tr>",
                            "<tr><td>Bandar Seri Begawan</td><td>Brunei</td></tr>",
                            "<tr><td>Ruse</td><td>Bulgaria</td></tr>",
                            "<tr><td>Stara Zagora</td><td>Bulgaria</td></tr>",
                            "<tr><td>Battambang</td><td>Cambodia</td></tr>",
                            "<tr><td>Phnom Penh</td><td>Cambodia</td></tr>",
                            "<tr><td>Bamenda</td><td>Cameroon</td></tr>",
                            "<tr><td>Yaoundé</td><td>Cameroon</td></tr>",
                            "<tr><td>Gatineau</td><td>Canada</td></tr>",
                            "<tr><td>Halifax</td><td>Canada</td></tr>",
                            "<tr><td>Lethbridge</td><td>Canada</td></tr>",
                            "<tr><td>London</td><td>Canada</td></tr>",
                            "<tr><td>Oshawa</td><td>Canada</td></tr>",
                            "<tr><td>Richmond Hill</td><td>Canada</td></tr>",
                            "<tr><td>Vancouver</td><td>Canada</td></tr>",
                            "<tr><td>NDjamna</td><td>Chad</td></tr>",
                            "<tr><td>Antofagasta</td><td>Chile</td></tr>",
                            "<tr><td>Coquimbo</td><td>Chile</td></tr>",
                            "<tr><td>Rancagua</td><td>Chile</td></tr>",
                            "<tr><td>Baicheng</td><td>China</td></tr>",
                            "<tr><td>Baiyin</td><td>China</td></tr>",
                            "<tr><td>Binzhou</td><td>China</td></tr>",
                            "<tr><td>Changzhou</td><td>China</td></tr>",
                            "<tr><td>Datong</td><td>China</td></tr>",
                            "<tr><td>Daxian</td><td>China</td></tr>",
                            "<tr><td>Dongying</td><td>China</td></tr>",
                            "<tr><td>Emeishan</td><td>China</td></tr>",
                            "<tr><td>Enshi</td><td>China</td></tr>",
                            "<tr><td>Ezhou</td><td>China</td></tr>",
                            "<tr><td>Fuyu</td><td>China</td></tr>",
                            "<tr><td>Fuzhou</td><td>China</td></tr>",
                            "<tr><td>Haining</td><td>China</td></tr>",
                            "<tr><td>Hami</td><td>China</td></tr>",
                            "<tr><td>Hohhot</td><td>China</td></tr>",
                            "<tr><td>Huai´an</td><td>China</td></tr>",
                            "<tr><td>Jinchang</td><td>China</td></tr>",
                            "<tr><td>Jining</td><td>China</td></tr>",
                            "<tr><td>Jinzhou</td><td>China</td></tr>",
                            "<tr><td>Junan</td><td>China</td></tr>",
                            "<tr><td>Korla</td><td>China</td></tr>",
                            "<tr><td>Laiwu</td><td>China</td></tr>",
                            "<tr><td>Laohekou</td><td>China</td></tr>",
                            "<tr><td>Lengshuijiang</td><td>China</td></tr>",
                            "<tr><td>Leshan</td><td>China</td></tr>",
                            "<tr><td>Liaocheng</td><td>China</td></tr>",
                            "<tr><td>Meixian</td><td>China</td></tr>",
                            "<tr><td>Nanyang</td><td>China</td></tr>",
                            "<tr><td>Pingxiang</td><td>China</td></tr>",
                            "<tr><td>Qinhuangdao</td><td>China</td></tr>",
                            "<tr><td>Rizhao</td><td>China</td></tr>",
                            "<tr><td>Sanya</td><td>China</td></tr>",
                            "<tr><td>Shanwei</td><td>China</td></tr>",
                            "<tr><td>Shaoguan</td><td>China</td></tr>",
                            "<tr><td>Shenzhen</td><td>China</td></tr>",
                            "<tr><td>Suihua</td><td>China</td></tr>",
                            "<tr><td>Tianjin</td><td>China</td></tr>",
                            "<tr><td>Tiefa</td><td>China</td></tr>",
                            "<tr><td>Tieli</td><td>China</td></tr>",
                            "<tr><td>Tongliao</td><td>China</td></tr>",
                            "<tr><td>Weifang</td><td>China</td></tr>",
                            "<tr><td>Xi´angfan</td><td>China</td></tr>",
                            "<tr><td>Xi´angtan</td><td>China</td></tr>",
                            "<tr><td>Xintai</td><td>China</td></tr>",
                            "<tr><td>Xinxiang</td><td>China</td></tr>",
                            "<tr><td>Yantai</td><td>China</td></tr>",
                            "<tr><td>Yinchuan</td><td>China</td></tr>",
                            "<tr><td>Yingkou</td><td>China</td></tr>",
                            "<tr><td>Yuncheng</td><td>China</td></tr>",
                            "<tr><td>Yuzhou</td><td>China</td></tr>",
                            "<tr><td>Zalantun</td><td>China</td></tr>",
                            "<tr><td>Zaoyang</td><td>China</td></tr>",
                            "<tr><td>Zhoushan</td><td>China</td></tr>",
                            "<tr><td>Buenaventura</td><td>Colombia</td></tr>",
                            "<tr><td>Dos Quebradas</td><td>Colombia</td></tr>",
                            "<tr><td>Florencia</td><td>Colombia</td></tr>",
                            "<tr><td>Pereira</td><td>Colombia</td></tr>",
                            "<tr><td>Sincelejo</td><td>Colombia</td></tr>",
                            "<tr><td>Sogamoso</td><td>Colombia</td></tr>",
                            "<tr><td>Lubumbashi</td><td>Congo, The Democratic Republic of the</td></tr>",
                            "<tr><td>Mwene-Ditu</td><td>Congo, The Democratic Republic of the</td></tr>",
                            "<tr><td>Olomouc</td><td>Czech Republic</td></tr>",
                            "<tr><td>La Romana</td><td>Dominican Republic</td></tr>",
                            "<tr><td>San Felipe de Puerto Plata</td><td>Dominican Republic</td></tr>",
                            "<tr><td>Santiago de los Caballeros</td><td>Dominican Republic</td></tr>",
                            "<tr><td>Loja</td><td>Ecuador</td></tr>",
                            "<tr><td>Portoviejo</td><td>Ecuador</td></tr>",
                            "<tr><td>Ríobamba</td><td>Ecuador</td></tr>",
                            "<tr><td>Bilbays</td><td>Egypt</td></tr>",
                            "<tr><td>Idfu</td><td>Egypt</td></tr>",
                            "<tr><td>Mit Ghamr</td><td>Egypt</td></tr>",
                            "<tr><td>Qalyub</td><td>Egypt</td></tr>",
                            "<tr><td>Sawhaj</td><td>Egypt</td></tr>",
                            "<tr><td>Shubra al-Khayma</td><td>Egypt</td></tr>",
                            "<tr><td>Tartu</td><td>Estonia</td></tr>",
                            "<tr><td>Addis Abeba</td><td>Ethiopia</td></tr>",
                            "<tr><td>Tórshavn</td><td>Faroe Islands</td></tr>",
                            "<tr><td>Oulu</td><td>Finland</td></tr>",
                            "<tr><td>Brest</td><td>France</td></tr>",
                            "<tr><td>Le Mans</td><td>France</td></tr>",
                            "<tr><td>Toulon</td><td>France</td></tr>",
                            "<tr><td>Toulouse</td><td>France</td></tr>",
                            "<tr><td>Cayenne</td><td>French Guiana</td></tr>",
                            "<tr><td>Faaa</td><td>French Polynesia</td></tr>",
                            "<tr><td>Papeete</td><td>French Polynesia</td></tr>",
                            "<tr><td>Banjul</td><td>Gambia</td></tr>",
                            "<tr><td>Duisburg</td><td>Germany</td></tr>",
                            "<tr><td>Erlangen</td><td>Germany</td></tr>",
                            "<tr><td>Halle/Saale</td><td>Germany</td></tr>",
                            "<tr><td>Mannheim</td><td>Germany</td></tr>",
                            "<tr><td>Saarbrücken</td><td>Germany</td></tr>",
                            "<tr><td>Siegen</td><td>Germany</td></tr>",
                            "<tr><td>Witten</td><td>Germany</td></tr>",
                            "<tr><td>Athenai</td><td>Greece</td></tr>",
                            "<tr><td>Patras</td><td>Greece</td></tr>",
                            "<tr><td>Nuuk</td><td>Greenland</td></tr>",
                            "<tr><td>Città del Vaticano</td><td>Holy See (Vatican City State)</td></tr>",
                            "<tr><td>Kowloon and New Kowloon</td><td>Hong Kong</td></tr>",
                            "<tr><td>Székesfehérvár</td><td>Hungary</td></tr>",
                            "<tr><td>Adoni</td><td>India</td></tr>",
                            "<tr><td>Ahmadnagar</td><td>India</td></tr>",
                            "<tr><td>Allappuzha (Alleppey)</td><td>India</td></tr>",
                            "<tr><td>Ambattur</td><td>India</td></tr>",
                            "<tr><td>Amroha</td><td>India</td></tr>",
                            "<tr><td>Balurghat</td><td>India</td></tr>",
                            "<tr><td>Berhampore (Baharampur)</td><td>India</td></tr>",
                            "<tr><td>Bhavnagar</td><td>India</td></tr>",
                            "<tr><td>Bhilwara</td><td>India</td></tr>",
                            "<tr><td>Bhimavaram</td><td>India</td></tr>",
                            "<tr><td>Bhopal</td><td>India</td></tr>",
                            "<tr><td>Bhusawal</td><td>India</td></tr>",
                            "<tr><td>Bijapur</td><td>India</td></tr>",
                            "<tr><td>Chandrapur</td><td>India</td></tr>",
                            "<tr><td>Chapra</td><td>India</td></tr>",
                            "<tr><td>Dhule (Dhulia)</td><td>India</td></tr>",
                            "<tr><td>Etawah</td><td>India</td></tr>",
                            "<tr><td>Firozabad</td><td>India</td></tr>",
                            "<tr><td>Gandhinagar</td><td>India</td></tr>",
                            "<tr><td>Gulbarga</td><td>India</td></tr>",
                            "<tr><td>Haldia</td><td>India</td></tr>",
                            "<tr><td>Halisahar</td><td>India</td></tr>",
                            "<tr><td>Hoshiarpur</td><td>India</td></tr>",
                            "<tr><td>Hubli-Dharwad</td><td>India</td></tr>",
                            "<tr><td>Jaipur</td><td>India</td></tr>",
                            "<tr><td>Jhansi</td><td>India</td></tr>",
                            "<tr><td>Jodhpur</td><td>India</td></tr>",
                            "<tr><td>Kamarhati</td><td>India</td></tr>",
                            "<tr><td>Kanchrapara</td><td>India</td></tr>",
                            "<tr><td>Karnal</td><td>India</td></tr>",
                            "<tr><td>Katihar</td><td>India</td></tr>",
                            "<tr><td>Kumbakonam</td><td>India</td></tr>",
                            "<tr><td>Miraj</td><td>India</td></tr>",
                            "<tr><td>Munger (Monghyr)</td><td>India</td></tr>",
                            "<tr><td>Mysore</td><td>India</td></tr>",
                            "<tr><td>Nagaon</td><td>India</td></tr>",
                            "<tr><td>Palghat (Palakkad)</td><td>India</td></tr>",
                            "<tr><td>Parbhani</td><td>India</td></tr>",
                            "<tr><td>Pathankot</td><td>India</td></tr>",
                            "<tr><td>Patiala</td><td>India</td></tr>",
                            "<tr><td>Pudukkottai</td><td>India</td></tr>",
                            "<tr><td>Pune</td><td>India</td></tr>",
                            "<tr><td>Purnea (Purnia)</td><td>India</td></tr>",
                            "<tr><td>Rae Bareli</td><td>India</td></tr>",
                            "<tr><td>Rajkot</td><td>India</td></tr>",
                            "<tr><td>Rampur</td><td>India</td></tr>",
                            "<tr><td>Ranchi</td><td>India</td></tr>",
                            "<tr><td>Sambhal</td><td>India</td></tr>",
                            "<tr><td>Satna</td><td>India</td></tr>",
                            "<tr><td>Shimoga</td><td>India</td></tr>",
                            "<tr><td>Shivapuri</td><td>India</td></tr>",
                            "<tr><td>Siliguri (Shiliguri)</td><td>India</td></tr>",
                            "<tr><td>Tambaram</td><td>India</td></tr>",
                            "<tr><td>Udaipur</td><td>India</td></tr>",
                            "<tr><td>Uluberia</td><td>India</td></tr>",
                            "<tr><td>Uttarpara-Kotrung</td><td>India</td></tr>",
                            "<tr><td>Valparai</td><td>India</td></tr>",
                            "<tr><td>Varanasi (Benares)</td><td>India</td></tr>",
                            "<tr><td>Vijayawada</td><td>India</td></tr>",
                            "<tr><td>Yamuna Nagar</td><td>India</td></tr>",
                            "<tr><td>Cianjur</td><td>Indonesia</td></tr>",
                            "<tr><td>Ciomas</td><td>Indonesia</td></tr>",
                            "<tr><td>Ciparay</td><td>Indonesia</td></tr>",
                            "<tr><td>Gorontalo</td><td>Indonesia</td></tr>",
                            "<tr><td>Jakarta</td><td>Indonesia</td></tr>",
                            "<tr><td>Lhokseumawe</td><td>Indonesia</td></tr>",
                            "<tr><td>Madiun</td><td>Indonesia</td></tr>",
                            "<tr><td>Pangkal Pinang</td><td>Indonesia</td></tr>",
                            "<tr><td>Pemalang</td><td>Indonesia</td></tr>",
                            "<tr><td>Pontianak</td><td>Indonesia</td></tr>",
                            "<tr><td>Probolinggo</td><td>Indonesia</td></tr>",
                            "<tr><td>Purwakarta</td><td>Indonesia</td></tr>",
                            "<tr><td>Surakarta</td><td>Indonesia</td></tr>",
                            "<tr><td>Tegal</td><td>Indonesia</td></tr>",
                            "<tr><td>Arak</td><td>Iran</td></tr>",
                            "<tr><td>Esfahan</td><td>Iran</td></tr>",
                            "<tr><td>Kermanshah</td><td>Iran</td></tr>",
                            "<tr><td>Najafabad</td><td>Iran</td></tr>",
                            "<tr><td>Qomsheh</td><td>Iran</td></tr>",
                            "<tr><td>Shahr-e Kord</td><td>Iran</td></tr>",
                            "<tr><td>Sirjan</td><td>Iran</td></tr>",
                            "<tr><td>Tabriz</td><td>Iran</td></tr>",
                            "<tr><td>Mosul</td><td>Iraq</td></tr>",
                            "<tr><td>Ashdod</td><td>Israel</td></tr>",
                            "<tr><td>Ashqelon</td><td>Israel</td></tr>",
                            "<tr><td>Bat Yam</td><td>Israel</td></tr>",
                            "<tr><td>Tel Aviv-Jaffa</td><td>Israel</td></tr>",
                            "<tr><td>Alessandria</td><td>Italy</td></tr>",
                            "<tr><td>Bergamo</td><td>Italy</td></tr>",
                            "<tr><td>Brescia</td><td>Italy</td></tr>",
                            "<tr><td>Brindisi</td><td>Italy</td></tr>",
                            "<tr><td>Livorno</td><td>Italy</td></tr>",
                            "<tr><td>Syrakusa</td><td>Italy</td></tr>",
                            "<tr><td>Udine</td><td>Italy</td></tr>",
                            "<tr><td>Akishima</td><td>Japan</td></tr>",
                            "<tr><td>Fukuyama</td><td>Japan</td></tr>",
                            "<tr><td>Higashiosaka</td><td>Japan</td></tr>",
                            "<tr><td>Hino</td><td>Japan</td></tr>",
                            "<tr><td>Hiroshima</td><td>Japan</td></tr>",
                            "<tr><td>Isesaki</td><td>Japan</td></tr>",
                            "<tr><td>Iwaki</td><td>Japan</td></tr>",
                            "<tr><td>Iwakuni</td><td>Japan</td></tr>",
                            "<tr><td>Iwatsuki</td><td>Japan</td></tr>",
                            "<tr><td>Izumisano</td><td>Japan</td></tr>",
                            "<tr><td>Kakamigahara</td><td>Japan</td></tr>",
                            "<tr><td>Kamakura</td><td>Japan</td></tr>",
                            "<tr><td>Kanazawa</td><td>Japan</td></tr>",
                            "<tr><td>Koriyama</td><td>Japan</td></tr>",
                            "<tr><td>Kurashiki</td><td>Japan</td></tr>",
                            "<tr><td>Kuwana</td><td>Japan</td></tr>",
                            "<tr><td>Matsue</td><td>Japan</td></tr>",
                            "<tr><td>Miyakonojo</td><td>Japan</td></tr>",
                            "<tr><td>Nagareyama</td><td>Japan</td></tr>",
                            "<tr><td>Okayama</td><td>Japan</td></tr>",
                            "<tr><td>Okinawa</td><td>Japan</td></tr>",
                            "<tr><td>Omiya</td><td>Japan</td></tr>",
                            "<tr><td>Onomichi</td><td>Japan</td></tr>",
                            "<tr><td>Otsu</td><td>Japan</td></tr>",
                            "<tr><td>Sagamihara</td><td>Japan</td></tr>",
                            "<tr><td>Sasebo</td><td>Japan</td></tr>",
                            "<tr><td>Shimonoseki</td><td>Japan</td></tr>",
                            "<tr><td>Tama</td><td>Japan</td></tr>",
                            "<tr><td>Tsuyama</td><td>Japan</td></tr>",
                            "<tr><td>Ueda</td><td>Japan</td></tr>",
                            "<tr><td>Urawa</td><td>Japan</td></tr>",
                            "<tr><td>Pavlodar</td><td>Kazakstan</td></tr>",
                            "<tr><td>Zhezqazghan</td><td>Kazakstan</td></tr>",
                            "<tr><td>Kisumu</td><td>Kenya</td></tr>",
                            "<tr><td>Nyeri</td><td>Kenya</td></tr>",
                            "<tr><td>Jalib al-Shuyukh</td><td>Kuwait</td></tr>",
                            "<tr><td>Daugavpils</td><td>Latvia</td></tr>",
                            "<tr><td>Liepaja</td><td>Latvia</td></tr>",
                            "<tr><td>Vaduz</td><td>Liechtenstein</td></tr>",
                            "<tr><td>Vilnius</td><td>Lithuania</td></tr>",
                            "<tr><td>Mahajanga</td><td>Madagascar</td></tr>",
                            "<tr><td>Lilongwe</td><td>Malawi</td></tr>",
                            "<tr><td>Ipoh</td><td>Malaysia</td></tr>",
                            "<tr><td>Kuching</td><td>Malaysia</td></tr>",
                            "<tr><td>Sungai Petani</td><td>Malaysia</td></tr>",
                            "<tr><td>Acuña</td><td>Mexico</td></tr>",
                            "<tr><td>Allende</td><td>Mexico</td></tr>",
                            "<tr><td>Atlixco</td><td>Mexico</td></tr>",
                            "<tr><td>Carmen</td><td>Mexico</td></tr>",
                            "<tr><td>Celaya</td><td>Mexico</td></tr>",
                            "<tr><td>Coacalco de Berriozábal</td><td>Mexico</td></tr>",
                            "<tr><td>Coatzacoalcos</td><td>Mexico</td></tr>",
                            "<tr><td>Cuauhtémoc</td><td>Mexico</td></tr>",
                            "<tr><td>Cuautla</td><td>Mexico</td></tr>",
                            "<tr><td>Cuernavaca</td><td>Mexico</td></tr>",
                            "<tr><td>El Fuerte</td><td>Mexico</td></tr>",
                            "<tr><td>Guadalajara</td><td>Mexico</td></tr>",
                            "<tr><td>Hidalgo</td><td>Mexico</td></tr>",
                            "<tr><td>Huejutla de Reyes</td><td>Mexico</td></tr>",
                            "<tr><td>Huixquilucan</td><td>Mexico</td></tr>",
                            "<tr><td>José Azueta</td><td>Mexico</td></tr>",
                            "<tr><td>Juárez</td><td>Mexico</td></tr>",
                            "<tr><td>La Paz</td><td>Mexico</td></tr>",
                            "<tr><td>Matamoros</td><td>Mexico</td></tr>",
                            "<tr><td>Mexicali</td><td>Mexico</td></tr>",
                            "<tr><td>Monclova</td><td>Mexico</td></tr>",
                            "<tr><td>Nezahualcóyotl</td><td>Mexico</td></tr>",
                            "<tr><td>Pachuca de Soto</td><td>Mexico</td></tr>",
                            "<tr><td>Salamanca</td><td>Mexico</td></tr>",
                            "<tr><td>San Felipe del Progreso</td><td>Mexico</td></tr>",
                            "<tr><td>San Juan Bautista Tuxtepec</td><td>Mexico</td></tr>",
                            "<tr><td>Torreón</td><td>Mexico</td></tr>",
                            "<tr><td>Uruapan</td><td>Mexico</td></tr>",
                            "<tr><td>Valle de Santiago</td><td>Mexico</td></tr>",
                            "<tr><td>Zapopan</td><td>Mexico</td></tr>",
                            "<tr><td>Chisinau</td><td>Moldova</td></tr>",
                            "<tr><td>Beni-Mellal</td><td>Morocco</td></tr>",
                            "<tr><td>Nador</td><td>Morocco</td></tr>",
                            "<tr><td>Salé</td><td>Morocco</td></tr>",
                            "<tr><td>Beira</td><td>Mozambique</td></tr>",
                            "<tr><td>Naçala-Porto</td><td>Mozambique</td></tr>",
                            "<tr><td>Tete</td><td>Mozambique</td></tr>",
                            "<tr><td>Monywa</td><td>Myanmar</td></tr>",
                            "<tr><td>Myingyan</td><td>Myanmar</td></tr>",
                            "<tr><td>Yangor</td><td>Nauru</td></tr>",
                            "<tr><td>Birgunj</td><td>Nepal</td></tr>",
                            "<tr><td>Amersfoort</td><td>Netherlands</td></tr>",
                            "<tr><td>Apeldoorn</td><td>Netherlands</td></tr>",
                            "<tr><td>Ede</td><td>Netherlands</td></tr>",
                            "<tr><td>Emmen</td><td>Netherlands</td></tr>",
                            "<tr><td>´s-Hertogenbosch</td><td>Netherlands</td></tr>",
                            "<tr><td>Hamilton</td><td>New Zealand</td></tr>",
                            "<tr><td>Benin City</td><td>Nigeria</td></tr>",
                            "<tr><td>Deba Habe</td><td>Nigeria</td></tr>",
                            "<tr><td>Effon-Alaiye</td><td>Nigeria</td></tr>",
                            "<tr><td>Ife</td><td>Nigeria</td></tr>",
                            "<tr><td>Ikerre</td><td>Nigeria</td></tr>",
                            "<tr><td>Ilorin</td><td>Nigeria</td></tr>",
                            "<tr><td>Kaduna</td><td>Nigeria</td></tr>",
                            "<tr><td>Ogbomosho</td><td>Nigeria</td></tr>",
                            "<tr><td>Ondo</td><td>Nigeria</td></tr>",
                            "<tr><td>Owo</td><td>Nigeria</td></tr>",
                            "<tr><td>Oyo</td><td>Nigeria</td></tr>",
                            "<tr><td>Sokoto</td><td>Nigeria</td></tr>",
                            "<tr><td>Zaria</td><td>Nigeria</td></tr>",
                            "<tr><td>Pyongyang</td><td>North Korea</td></tr>",
                            "<tr><td>Masqat</td><td>Oman</td></tr>",
                            "<tr><td>Salala</td><td>Oman</td></tr>",
                            "<tr><td>Dadu</td><td>Pakistan</td></tr>",
                            "<tr><td>Mandi Bahauddin</td><td>Pakistan</td></tr>",
                            "<tr><td>Mardan</td><td>Pakistan</td></tr>",
                            "<tr><td>Okara</td><td>Pakistan</td></tr>",
                            "<tr><td>Shikarpur</td><td>Pakistan</td></tr>",
                            "<tr><td>Asunción</td><td>Paraguay</td></tr>",
                            "<tr><td>Ciudad del Este</td><td>Paraguay</td></tr>",
                            "<tr><td>San Lorenzo</td><td>Paraguay</td></tr>",
                            "<tr><td>Callao</td><td>Peru</td></tr>",
                            "<tr><td>Huánuco</td><td>Peru</td></tr>",
                            "<tr><td>Lima</td><td>Peru</td></tr>",
                            "<tr><td>Sullana</td><td>Peru</td></tr>",
                            "<tr><td>Baybay</td><td>Philippines</td></tr>",
                            "<tr><td>Bayugan</td><td>Philippines</td></tr>",
                            "<tr><td>Bislig</td><td>Philippines</td></tr>",
                            "<tr><td>Cabuyao</td><td>Philippines</td></tr>",
                            "<tr><td>Cavite</td><td>Philippines</td></tr>",
                            "<tr><td>Davao</td><td>Philippines</td></tr>",
                            "<tr><td>Gingoog</td><td>Philippines</td></tr>",
                            "<tr><td>Hagonoy</td><td>Philippines</td></tr>",
                            "<tr><td>Iligan</td><td>Philippines</td></tr>",
                            "<tr><td>Imus</td><td>Philippines</td></tr>",
                            "<tr><td>Lapu-Lapu</td><td>Philippines</td></tr>",
                            "<tr><td>Mandaluyong</td><td>Philippines</td></tr>",
                            "<tr><td>Ozamis</td><td>Philippines</td></tr>",
                            "<tr><td>Santa Rosa</td><td>Philippines</td></tr>",
                            "<tr><td>Taguig</td><td>Philippines</td></tr>",
                            "<tr><td>Talavera</td><td>Philippines</td></tr>",
                            "<tr><td>Tanauan</td><td>Philippines</td></tr>",
                            "<tr><td>Tanza</td><td>Philippines</td></tr>",
                            "<tr><td>Tarlac</td><td>Philippines</td></tr>",
                            "<tr><td>Tuguegarao</td><td>Philippines</td></tr>",
                            "<tr><td>Bydgoszcz</td><td>Poland</td></tr>",
                            "<tr><td>Czestochowa</td><td>Poland</td></tr>",
                            "<tr><td>Jastrzebie-Zdrój</td><td>Poland</td></tr>",
                            "<tr><td>Kalisz</td><td>Poland</td></tr>",
                            "<tr><td>Lublin</td><td>Poland</td></tr>",
                            "<tr><td>Plock</td><td>Poland</td></tr>",
                            "<tr><td>Tychy</td><td>Poland</td></tr>",
                            "<tr><td>Wroclaw</td><td>Poland</td></tr>",
                            "<tr><td>Arecibo</td><td>Puerto Rico</td></tr>",
                            "<tr><td>Ponce</td><td>Puerto Rico</td></tr>",
                            "<tr><td>Saint-Denis</td><td>Réunion</td></tr>",
                            "<tr><td>Botosani</td><td>Romania</td></tr>",
                            "<tr><td>Bucuresti</td><td>Romania</td></tr>",
                            "<tr><td>Atšinsk</td><td>Russian Federation</td></tr>",
                            "<tr><td>Balašiha</td><td>Russian Federation</td></tr>",
                            "<tr><td>Dzerzinsk</td><td>Russian Federation</td></tr>",
                            "<tr><td>Elista</td><td>Russian Federation</td></tr>",
                            "<tr><td>Ivanovo</td><td>Russian Federation</td></tr>",
                            "<tr><td>Jaroslavl</td><td>Russian Federation</td></tr>",
                            "<tr><td>Jelets</td><td>Russian Federation</td></tr>",
                            "<tr><td>Kaliningrad</td><td>Russian Federation</td></tr>",
                            "<tr><td>Kamyšin</td><td>Russian Federation</td></tr>",
                            "<tr><td>Kirovo-Tšepetsk</td><td>Russian Federation</td></tr>",
                            "<tr><td>Kolpino</td><td>Russian Federation</td></tr>",
                            "<tr><td>Korolev</td><td>Russian Federation</td></tr>",
                            "<tr><td>Kurgan</td><td>Russian Federation</td></tr>",
                            "<tr><td>Kursk</td><td>Russian Federation</td></tr>",
                            "<tr><td>Lipetsk</td><td>Russian Federation</td></tr>",
                            "<tr><td>Ljubertsy</td><td>Russian Federation</td></tr>",
                            "<tr><td>Maikop</td><td>Russian Federation</td></tr>",
                            "<tr><td>Moscow</td><td>Russian Federation</td></tr>",
                            "<tr><td>Nabereznyje Tšelny</td><td>Russian Federation</td></tr>",
                            "<tr><td>Niznekamsk</td><td>Russian Federation</td></tr>",
                            "<tr><td>Novotšerkassk</td><td>Russian Federation</td></tr>",
                            "<tr><td>Pjatigorsk</td><td>Russian Federation</td></tr>",
                            "<tr><td>Serpuhov</td><td>Russian Federation</td></tr>",
                            "<tr><td>Smolensk</td><td>Russian Federation</td></tr>",
                            "<tr><td>Syktyvkar</td><td>Russian Federation</td></tr>",
                            "<tr><td>Tšeboksary</td><td>Russian Federation</td></tr>",
                            "<tr><td>Usolje-Sibirskoje</td><td>Russian Federation</td></tr>",
                            "<tr><td>Zeleznogorsk</td><td>Russian Federation</td></tr>",
                            "<tr><td>Kingstown</td><td>Saint Vincent and the Grenadines</td></tr>",
                            "<tr><td>Abha</td><td>Saudi Arabia</td></tr>",
                            "<tr><td>al-Hawiya</td><td>Saudi Arabia</td></tr>",
                            "<tr><td>al-Qatif</td><td>Saudi Arabia</td></tr>",
                            "<tr><td>Jedda</td><td>Saudi Arabia</td></tr>",
                            "<tr><td>Tabuk</td><td>Saudi Arabia</td></tr>",
                            "<tr><td>Ziguinchor</td><td>Senegal</td></tr>",
                            "<tr><td>Bratislava</td><td>Slovakia</td></tr>",
                            "<tr><td>Boksburg</td><td>South Africa</td></tr>",
                            "<tr><td>Botshabelo</td><td>South Africa</td></tr>",
                            "<tr><td>Chatsworth</td><td>South Africa</td></tr>",
                            "<tr><td>Johannesburg</td><td>South Africa</td></tr>",
                            "<tr><td>Kimberley</td><td>South Africa</td></tr>",
                            "<tr><td>Klerksdorp</td><td>South Africa</td></tr>",
                            "<tr><td>Newcastle</td><td>South Africa</td></tr>",
                            "<tr><td>Paarl</td><td>South Africa</td></tr>",
                            "<tr><td>Rustenburg</td><td>South Africa</td></tr>",
                            "<tr><td>Soshanguve</td><td>South Africa</td></tr>",
                            "<tr><td>Springs</td><td>South Africa</td></tr>",
                            "<tr><td>Cheju</td><td>South Korea</td></tr>",
                            "<tr><td>Kimchon</td><td>South Korea</td></tr>",
                            "<tr><td>Naju</td><td>South Korea</td></tr>",
                            "<tr><td>Tonghae</td><td>South Korea</td></tr>",
                            "<tr><td>Uijongbu</td><td>South Korea</td></tr>",
                            "<tr><td>A Coruña (La Coruña)</td><td>Spain</td></tr>",
                            "<tr><td>Donostia-San Sebastián</td><td>Spain</td></tr>",
                            "<tr><td>Gijón</td><td>Spain</td></tr>",
                            "<tr><td>Ourense (Orense)</td><td>Spain</td></tr>",
                            "<tr><td>Santiago de Compostela</td><td>Spain</td></tr>",
                            "<tr><td>Jaffna</td><td>Sri Lanka</td></tr>",
                            "<tr><td>al-Qadarif</td><td>Sudan</td></tr>",
                            "<tr><td>Omdurman</td><td>Sudan</td></tr>",
                            "<tr><td>Malmö</td><td>Sweden</td></tr>",
                            "<tr><td>Basel</td><td>Switzerland</td></tr>",
                            "<tr><td>Bern</td><td>Switzerland</td></tr>",
                            "<tr><td>Lausanne</td><td>Switzerland</td></tr>",
                            "<tr><td>Changhwa</td><td>Taiwan</td></tr>",
                            "<tr><td>Chiayi</td><td>Taiwan</td></tr>",
                            "<tr><td>Chungho</td><td>Taiwan</td></tr>",
                            "<tr><td>Fengshan</td><td>Taiwan</td></tr>",
                            "<tr><td>Hsichuh</td><td>Taiwan</td></tr>",
                            "<tr><td>Lungtan</td><td>Taiwan</td></tr>",
                            "<tr><td>Nantou</td><td>Taiwan</td></tr>",
                            "<tr><td>Tanshui</td><td>Taiwan</td></tr>",
                            "<tr><td>Touliu</td><td>Taiwan</td></tr>",
                            "<tr><td>Tsaotun</td><td>Taiwan</td></tr>",
                            "<tr><td>Mwanza</td><td>Tanzania</td></tr>",
                            "<tr><td>Tabora</td><td>Tanzania</td></tr>",
                            "<tr><td>Zanzibar</td><td>Tanzania</td></tr>",
                            "<tr><td>Nakhon Sawan</td><td>Thailand</td></tr>",
                            "<tr><td>Pak Kret</td><td>Thailand</td></tr>",
                            "<tr><td>Songkhla</td><td>Thailand</td></tr>",
                            "<tr><td>Nuku´alofa</td><td>Tonga</td></tr>",
                            "<tr><td>Sousse</td><td>Tunisia</td></tr>",
                            "<tr><td>Adana</td><td>Turkey</td></tr>",
                            "<tr><td>Balikesir</td><td>Turkey</td></tr>",
                            "<tr><td>Batman</td><td>Turkey</td></tr>",
                            "<tr><td>Denizli</td><td>Turkey</td></tr>",
                            "<tr><td>Eskisehir</td><td>Turkey</td></tr>",
                            "<tr><td>Gaziantep</td><td>Turkey</td></tr>",
                            "<tr><td>Inegöl</td><td>Turkey</td></tr>",
                            "<tr><td>Kilis</td><td>Turkey</td></tr>",
                            "<tr><td>Kütahya</td><td>Turkey</td></tr>",
                            "<tr><td>Osmaniye</td><td>Turkey</td></tr>",
                            "<tr><td>Sivas</td><td>Turkey</td></tr>",
                            "<tr><td>Sultanbeyli</td><td>Turkey</td></tr>",
                            "<tr><td>Tarsus</td><td>Turkey</td></tr>",
                            "<tr><td>Tokat</td><td>Turkey</td></tr>",
                            "<tr><td>Usak</td><td>Turkey</td></tr>",
                            "<tr><td>Ashgabat</td><td>Turkmenistan</td></tr>",
                            "<tr><td>Funafuti</td><td>Tuvalu</td></tr>",
                            "<tr><td>Kamjanets-Podilskyi</td><td>Ukraine</td></tr>",
                            "<tr><td>Konotop</td><td>Ukraine</td></tr>",
                            "<tr><td>Mukatševe</td><td>Ukraine</td></tr>",
                            "<tr><td>Šostka</td><td>Ukraine</td></tr>",
                            "<tr><td>Simferopol</td><td>Ukraine</td></tr>",
                            "<tr><td>Sumy</td><td>Ukraine</td></tr>",
                            "<tr><td>Abu Dhabi</td><td>United Arab Emirates</td></tr>",
                            "<tr><td>al-Ayn</td><td>United Arab Emirates</td></tr>",
                            "<tr><td>Sharja</td><td>United Arab Emirates</td></tr>",
                            "<tr><td>Bradford</td><td>United Kingdom</td></tr>",
                            "<tr><td>Dundee</td><td>United Kingdom</td></tr>",
                            "<tr><td>London</td><td>United Kingdom</td></tr>",
                            "<tr><td>Southampton</td><td>United Kingdom</td></tr>",
                            "<tr><td>Southend-on-Sea</td><td>United Kingdom</td></tr>",
                            "<tr><td>Southport</td><td>United Kingdom</td></tr>",
                            "<tr><td>Stockport</td><td>United Kingdom</td></tr>",
                            "<tr><td>York</td><td>United Kingdom</td></tr>",
                            "<tr><td>Akron</td><td>United States</td></tr>",
                            "<tr><td>Arlington</td><td>United States</td></tr>",
                            "<tr><td>Augusta-Richmond County</td><td>United States</td></tr>",
                            "<tr><td>Aurora</td><td>United States</td></tr>",
                            "<tr><td>Bellevue</td><td>United States</td></tr>",
                            "<tr><td>Brockton</td><td>United States</td></tr>",
                            "<tr><td>Cape Coral</td><td>United States</td></tr>",
                            "<tr><td>Citrus Heights</td><td>United States</td></tr>",
                            "<tr><td>Clarksville</td><td>United States</td></tr>",
                            "<tr><td>Compton</td><td>United States</td></tr>",
                            "<tr><td>Dallas</td><td>United States</td></tr>",
                            "<tr><td>Dayton</td><td>United States</td></tr>",
                            "<tr><td>El Monte</td><td>United States</td></tr>",
                            "<tr><td>Fontana</td><td>United States</td></tr>",
                            "<tr><td>Garden Grove</td><td>United States</td></tr>",
                            "<tr><td>Garland</td><td>United States</td></tr>",
                            "<tr><td>Grand Prairie</td><td>United States</td></tr>",
                            "<tr><td>Greensboro</td><td>United States</td></tr>",
                            "<tr><td>Joliet</td><td>United States</td></tr>",
                            "<tr><td>Kansas City</td><td>United States</td></tr>",
                            "<tr><td>Lancaster</td><td>United States</td></tr>",
                            "<tr><td>Laredo</td><td>United States</td></tr>",
                            "<tr><td>Lincoln</td><td>United States</td></tr>",
                            "<tr><td>Manchester</td><td>United States</td></tr>",
                            "<tr><td>Memphis</td><td>United States</td></tr>",
                            "<tr><td>Peoria</td><td>United States</td></tr>",
                            "<tr><td>Roanoke</td><td>United States</td></tr>",
                            "<tr><td>Rockford</td><td>United States</td></tr>",
                            "<tr><td>Saint Louis</td><td>United States</td></tr>",
                            "<tr><td>Salinas</td><td>United States</td></tr>",
                            "<tr><td>San Bernardino</td><td>United States</td></tr>",
                            "<tr><td>Sterling Heights</td><td>United States</td></tr>",
                            "<tr><td>Sunnyvale</td><td>United States</td></tr>",
                            "<tr><td>Tallahassee</td><td>United States</td></tr>",
                            "<tr><td>Warren</td><td>United States</td></tr>",
                            "<tr><td>Barcelona</td><td>Venezuela</td></tr>",
                            "<tr><td>Caracas</td><td>Venezuela</td></tr>",
                            "<tr><td>Cumaná</td><td>Venezuela</td></tr>",
                            "<tr><td>Maracaíbo</td><td>Venezuela</td></tr>",
                            "<tr><td>Ocumare del Tuy</td><td>Venezuela</td></tr>",
                            "<tr><td>Valencia</td><td>Venezuela</td></tr>",
                            "<tr><td>Valle de la Pascua</td><td>Venezuela</td></tr>",
                            "<tr><td>Cam Ranh</td><td>Vietnam</td></tr>",
                            "<tr><td>Haiphong</td><td>Vietnam</td></tr>",
                            "<tr><td>Hanoi</td><td>Vietnam</td></tr>",
                            "<tr><td>Nam Dinh</td><td>Vietnam</td></tr>",
                            "<tr><td>Nha Trang</td><td>Vietnam</td></tr>",
                            "<tr><td>Vinh</td><td>Vietnam</td></tr>",
                            "<tr><td>Charlotte Amalie</td><td>Virgin Islands, U.S.</td></tr>",
                            "<tr><td>Aden</td><td>Yemen</td></tr>",
                            "<tr><td>Hodeida</td><td>Yemen</td></tr>",
                            "<tr><td>Sanaa</td><td>Yemen</td></tr>",
                            "<tr><td>Taizz</td><td>Yemen</td></tr>",
                            "<tr><td>Kragujevac</td><td>Yugoslavia</td></tr>",
                            "<tr><td>Novi Sad</td><td>Yugoslavia</td></tr>",
                            "<tr><td>Kitwe</td><td>Zambia</td></tr>",
                            "</table>"
                        ]
                    }
                }
            ],
            "execution_count": 11
        },
        {
            "cell_type": "code",
            "source": [
                "select \r\n",
                "    address.address,\r\n",
                "    address.district,\r\n",
                "    address.phone,\r\n",
                "    city.city\r\n",
                "from\r\n",
                "    address inner join city on address.city_id = city.city_id\r\n",
                "order by\r\n",
                "    city.city\r\n",
                ""
            ],
            "metadata": {
                "language": "sql",
                "azdata_cell_guid": "6a5676fe-31f5-4e49-87b0-e5ca63370754"
            },
            "outputs": [
                {
                    "output_type": "display_data",
                    "data": {
                        "text/html": "(603 row(s) affected)"
                    },
                    "metadata": {}
                },
                {
                    "output_type": "display_data",
                    "data": {
                        "text/html": "Total execution time: 00:00:01.003"
                    },
                    "metadata": {}
                },
                {
                    "output_type": "execute_result",
                    "metadata": {},
                    "execution_count": 12,
                    "data": {
                        "application/vnd.dataresource+json": {
                            "schema": {
                                "fields": [
                                    {
                                        "name": "address"
                                    },
                                    {
                                        "name": "district"
                                    },
                                    {
                                        "name": "phone"
                                    },
                                    {
                                        "name": "city"
                                    }
                                ]
                            },
                            "data": [
                                {
                                    "address": "741 Ambattur Manor",
                                    "district": "Noord-Brabant",
                                    "phone": "302590383819",
                                    "city": "´s-Hertogenbosch"
                                },
                                {
                                    "address": "939 Probolinggo Loop",
                                    "district": "Galicia",
                                    "phone": "680428310138",
                                    "city": "A Coruña (La Coruña)"
                                },
                                {
                                    "address": "733 Mandaluyong Place",
                                    "district": "Asir",
                                    "phone": "196568435814",
                                    "city": "Abha"
                                },
                                {
                                    "address": "535 Ahmadnagar Manor",
                                    "district": "Abu Dhabi",
                                    "phone": "985109775584",
                                    "city": "Abu Dhabi"
                                },
                                {
                                    "address": "1789 Saint-Denis Parkway",
                                    "district": "Coahuila de Zaragoza",
                                    "phone": "936806643983",
                                    "city": "Acuña"
                                },
                                {
                                    "address": "663 Baha Blanca Parkway",
                                    "district": "Adana",
                                    "phone": "834418779292",
                                    "city": "Adana"
                                },
                                {
                                    "address": "614 Pak Kret Street",
                                    "district": "Addis Abeba",
                                    "phone": "47808359842",
                                    "city": "Addis Abeba"
                                },
                                {
                                    "address": "751 Lima Loop",
                                    "district": "Aden",
                                    "phone": "756460337785",
                                    "city": "Aden"
                                },
                                {
                                    "address": "230 Urawa Drive",
                                    "district": "Andhra Pradesh",
                                    "phone": "166898395731",
                                    "city": "Adoni"
                                },
                                {
                                    "address": "758 Junan Lane",
                                    "district": "Gois",
                                    "phone": "935448624185",
                                    "city": "Águas Lindas de Goiás"
                                },
                                {
                                    "address": "922 Vila Velha Loop",
                                    "district": "Maharashtra",
                                    "phone": "510737228015",
                                    "city": "Ahmadnagar"
                                },
                                {
                                    "address": "923 Tangail Boulevard",
                                    "district": "Tokyo-to",
                                    "phone": "315528269898",
                                    "city": "Akishima"
                                },
                                {
                                    "address": "98 Pyongyang Boulevard",
                                    "district": "Ohio",
                                    "phone": "191958435142",
                                    "city": "Akron"
                                },
                                {
                                    "address": "669 Firozabad Loop",
                                    "district": "Abu Dhabi",
                                    "phone": "412903167998",
                                    "city": "al-Ayn"
                                },
                                {
                                    "address": "1124 Buenaventura Drive",
                                    "district": "Mekka",
                                    "phone": "407733804223",
                                    "city": "al-Hawiya"
                                },
                                {
                                    "address": "1759 Niznekamsk Avenue",
                                    "district": "al-Manama",
                                    "phone": "864392582257",
                                    "city": "al-Manama"
                                },
                                {
                                    "address": "1152 Citrus Heights Manor",
                                    "district": "al-Qadarif",
                                    "phone": "765957414528",
                                    "city": "al-Qadarif"
                                },
                                {
                                    "address": "289 Santo Andr Manor",
                                    "district": "al-Sharqiya",
                                    "phone": "214976066017",
                                    "city": "al-Qatif"
                                },
                                {
                                    "address": "127 Purnea (Purnia) Manor",
                                    "district": "Piemonte",
                                    "phone": "911872220378",
                                    "city": "Alessandria"
                                },
                                {
                                    "address": "431 Xi´angtan Avenue",
                                    "district": "Kerala",
                                    "phone": "230250973122",
                                    "city": "Allappuzha (Alleppey)"
                                },
                                {
                                    "address": "397 Sunnyvale Avenue",
                                    "district": "Guanajuato",
                                    "phone": "680851640676",
                                    "city": "Allende"
                                },
                                {
                                    "address": "1623 Kingstown Drive",
                                    "district": "Buenos Aires",
                                    "phone": "296394569728",
                                    "city": "Almirante Brown"
                                },
                                {
                                    "address": "1407 Pachuca de Soto Place",
                                    "district": "Rio Grande do Sul",
                                    "phone": "380077794770",
                                    "city": "Alvorada"
                                },
                                {
                                    "address": "1014 Loja Manor",
                                    "district": "Tamil Nadu",
                                    "phone": "460795526514",
                                    "city": "Ambattur"
                                },
                                {
                                    "address": "992 Klerksdorp Loop",
                                    "district": "Utrecht",
                                    "phone": "855290087237",
                                    "city": "Amersfoort"
                                },
                                {
                                    "address": "949 Allende Lane",
                                    "district": "Uttar Pradesh",
                                    "phone": "122981120653",
                                    "city": "Amroha"
                                },
                                {
                                    "address": "356 Olomouc Manor",
                                    "district": "Gois",
                                    "phone": "22326410776",
                                    "city": "Anápolis"
                                },
                                {
                                    "address": "1354 Siegen Street",
                                    "district": "Rio de Janeiro",
                                    "phone": "573441801529",
                                    "city": "Angra dos Reis"
                                },
                                {
                                    "address": "1718 Valencia Street",
                                    "district": "Antofagasta",
                                    "phone": "675292816413",
                                    "city": "Antofagasta"
                                },
                                {
                                    "address": "1201 Qomsheh Manor",
                                    "district": "Gois",
                                    "phone": "873492228462",
                                    "city": "Aparecida de Goiânia"
                                },
                                {
                                    "address": "1749 Daxian Place",
                                    "district": "Gelderland",
                                    "phone": "963369996279",
                                    "city": "Apeldoorn"
                                },
                                {
                                    "address": "1692 Ede Loop",
                                    "district": "São Paulo",
                                    "phone": "918711376618",
                                    "city": "Araçatuba"
                                },
                                {
                                    "address": "334 Munger (Monghyr) Lane",
                                    "district": "Markazi",
                                    "phone": "481183273622",
                                    "city": "Arak"
                                },
                                {
                                    "address": "1009 Zanzibar Lane",
                                    "district": "Arecibo",
                                    "phone": "102396298916",
                                    "city": "Arecibo"
                                },
                                {
                                    "address": "913 Coacalco de Berriozbal Loop",
                                    "district": "Texas",
                                    "phone": "262088367001",
                                    "city": "Arlington"
                                },
                                {
                                    "address": "659 Vaduz Drive",
                                    "district": "Ha Darom",
                                    "phone": "709935135487",
                                    "city": "Ashdod"
                                },
                                {
                                    "address": "387 Mwene-Ditu Drive",
                                    "district": "Ahal",
                                    "phone": "764477681869",
                                    "city": "Ashgabat"
                                },
                                {
                                    "address": "632 Usolje-Sibirskoje Parkway",
                                    "district": "Ha Darom",
                                    "phone": "667648979883",
                                    "city": "Ashqelon"
                                },
                                {
                                    "address": "201 Effon-Alaiye Way",
                                    "district": "Asunción",
                                    "phone": "684192903087",
                                    "city": "Asunción"
                                },
                                {
                                    "address": "692 Joliet Street",
                                    "district": "Attika",
                                    "phone": "448477190408",
                                    "city": "Athenai"
                                },
                                {
                                    "address": "125 Citt del Vaticano Boulevard",
                                    "district": "Puebla",
                                    "phone": "48417642933",
                                    "city": "Atlixco"
                                },
                                {
                                    "address": "616 Hagonoy Avenue",
                                    "district": "Krasnojarsk",
                                    "phone": "604177838256",
                                    "city": "Atšinsk"
                                },
                                {
                                    "address": "1308 Arecibo Way",
                                    "district": "Georgia",
                                    "phone": "6171054059",
                                    "city": "Augusta-Richmond County"
                                },
                                {
                                    "address": "587 Benguela Manor",
                                    "district": "Illinois",
                                    "phone": "165450987037",
                                    "city": "Aurora"
                                },
                                {
                                    "address": "43 Vilnius Manor",
                                    "district": "Colorado",
                                    "phone": "484500282381",
                                    "city": "Aurora"
                                },
                                {
                                    "address": "1229 Varanasi (Benares) Manor",
                                    "district": "Buenos Aires",
                                    "phone": "817740355461",
                                    "city": "Avellaneda"
                                },
                                {
                                    "address": "1190 0 Place",
                                    "district": "Rio Grande do Sul",
                                    "phone": "841876514789",
                                    "city": "Bagé"
                                },
                                {
                                    "address": "1427 A Corua (La Corua) Place",
                                    "district": "Buenos Aires",
                                    "phone": "972574862516",
                                    "city": "Bahía Blanca"
                                },
                                {
                                    "address": "183 Haiphong Street",
                                    "district": "Jilin",
                                    "phone": "488600270038",
                                    "city": "Baicheng"
                                },
                                {
                                    "address": "362 Rajkot Lane",
                                    "district": "Gansu",
                                    "phone": "962020153680",
                                    "city": "Baiyin"
                                },
                                {
                                    "address": "431 Szkesfehrvr Avenue",
                                    "district": "Baki",
                                    "phone": "119501405123",
                                    "city": "Baku"
                                },
                                {
                                    "address": "1697 Kowloon and New Kowloon Loop",
                                    "district": "Moskova",
                                    "phone": "499352017190",
                                    "city": "Balašiha"
                                },
                                {
                                    "address": "1912 Emeishan Drive",
                                    "district": "Balikesir",
                                    "phone": "99883471275",
                                    "city": "Balikesir"
                                },
                                {
                                    "address": "624 Oshawa Boulevard",
                                    "district": "West Bengali",
                                    "phone": "49677664184",
                                    "city": "Balurghat"
                                },
                                {
                                    "address": "1641 Changhwa Place",
                                    "district": "Nord-Ouest",
                                    "phone": "256546485220",
                                    "city": "Bamenda"
                                },
                                {
                                    "address": "1370 Le Mans Avenue",
                                    "district": "Brunei and Muara",
                                    "phone": "345679835036",
                                    "city": "Bandar Seri Begawan"
                                },
                                {
                                    "address": "247 Jining Parkway",
                                    "district": "Banjul",
                                    "phone": "170115379190",
                                    "city": "Banjul"
                                },
                                {
                                    "address": "502 Mandi Bahauddin Parkway",
                                    "district": "Anzotegui",
                                    "phone": "618156722572",
                                    "city": "Barcelona"
                                },
                                {
                                    "address": "915 Ponce Place",
                                    "district": "Basel-Stadt",
                                    "phone": "1395251317",
                                    "city": "Basel"
                                },
                                {
                                    "address": "1542 Lubumbashi Boulevard",
                                    "district": "Tel Aviv",
                                    "phone": "508800331065",
                                    "city": "Bat Yam"
                                },
                                {
                                    "address": "29 Pyongyang Loop",
                                    "district": "Batman",
                                    "phone": "734780743462",
                                    "city": "Batman"
                                },
                                {
                                    "address": "1924 Shimonoseki Drive",
                                    "district": "Batna",
                                    "phone": "406784385440",
                                    "city": "Batna"
                                },
                                {
                                    "address": "1768 Udine Loop",
                                    "district": "Battambang",
                                    "phone": "448876499197",
                                    "city": "Battambang"
                                },
                                {
                                    "address": "492 Cam Ranh Street",
                                    "district": "Eastern Visayas",
                                    "phone": "565018274456",
                                    "city": "Baybay"
                                },
                                {
                                    "address": "1166 Changhwa Street",
                                    "district": "Caraga",
                                    "phone": "650752094490",
                                    "city": "Bayugan"
                                },
                                {
                                    "address": "1031 Daugavpils Parkway",
                                    "district": "Béchar",
                                    "phone": "107137400143",
                                    "city": "Béchar"
                                },
                                {
                                    "address": "771 Yaound Manor",
                                    "district": "Sofala",
                                    "phone": "245477603573",
                                    "city": "Beira"
                                },
                                {
                                    "address": "1163 London Parkway",
                                    "district": "Par",
                                    "phone": "675120358494",
                                    "city": "Belém"
                                },
                                {
                                    "address": "660 Jedda Boulevard",
                                    "district": "Washington",
                                    "phone": "168758068397",
                                    "city": "Bellevue"
                                },
                                {
                                    "address": "486 Ondo Parkway",
                                    "district": "Benguela",
                                    "phone": "105882218332",
                                    "city": "Benguela"
                                },
                                {
                                    "address": "454 Qinhuangdao Drive",
                                    "district": "Tadla-Azilal",
                                    "phone": "786270036240",
                                    "city": "Beni-Mellal"
                                },
                                {
                                    "address": "1279 Udine Parkway",
                                    "district": "Edo & Delta",
                                    "phone": "195003555232",
                                    "city": "Benin City"
                                },
                                {
                                    "address": "231 Kaliningrad Place",
                                    "district": "Lombardia",
                                    "phone": "575081026569",
                                    "city": "Bergamo"
                                },
                                {
                                    "address": "126 Acua Parkway",
                                    "district": "West Bengali",
                                    "phone": "480039662421",
                                    "city": "Berhampore (Baharampur)"
                                },
                                {
                                    "address": "185 Novi Sad Place",
                                    "district": "Bern",
                                    "phone": "904253967161",
                                    "city": "Bern"
                                },
                                {
                                    "address": "97 Mogiljov Lane",
                                    "district": "Gujarat",
                                    "phone": "924815207181",
                                    "city": "Bhavnagar"
                                },
                                {
                                    "address": "43 Dadu Avenue",
                                    "district": "Rajasthan",
                                    "phone": "95666951770",
                                    "city": "Bhilwara"
                                },
                                {
                                    "address": "635 Brest Manor",
                                    "district": "Andhra Pradesh",
                                    "phone": "80593242951",
                                    "city": "Bhimavaram"
                                },
                                {
                                    "address": "419 Iligan Lane",
                                    "district": "Madhya Pradesh",
                                    "phone": "990911107354",
                                    "city": "Bhopal"
                                },
                                {
                                    "address": "642 Nador Drive",
                                    "district": "Maharashtra",
                                    "phone": "369050085652",
                                    "city": "Bhusawal"
                                },
                                {
                                    "address": "1257 Guadalajara Street",
                                    "district": "Karnataka",
                                    "phone": "195337700615",
                                    "city": "Bijapur"
                                },
                                {
                                    "address": "1741 Hoshiarpur Boulevard",
                                    "district": "al-Sharqiya",
                                    "phone": "855066328617",
                                    "city": "Bilbays"
                                },
                                {
                                    "address": "1332 Gaziantep Lane",
                                    "district": "Shandong",
                                    "phone": "383353187467",
                                    "city": "Binzhou"
                                },
                                {
                                    "address": "470 Boksburg Street",
                                    "district": "Central",
                                    "phone": "908029859266",
                                    "city": "Birgunj"
                                },
                                {
                                    "address": "152 Kitwe Parkway",
                                    "district": "Caraga",
                                    "phone": "835433605312",
                                    "city": "Bislig"
                                },
                                {
                                    "address": "1304 ´s-Hertogenbosch Way",
                                    "district": "Santa Catarina",
                                    "phone": "90336226227",
                                    "city": "Blumenau"
                                },
                                {
                                    "address": "1293 Nam Dinh Way",
                                    "district": "Roraima",
                                    "phone": "697656479977",
                                    "city": "Boa Vista"
                                },
                                {
                                    "address": "569 Baicheng Lane",
                                    "district": "Gauteng",
                                    "phone": "490211944645",
                                    "city": "Boksburg"
                                },
                                {
                                    "address": "1256 Bislig Boulevard",
                                    "district": "Botosani",
                                    "phone": "479007229460",
                                    "city": "Botosani"
                                },
                                {
                                    "address": "898 Belm Manor",
                                    "district": "Free State",
                                    "phone": "707169393853",
                                    "city": "Botshabelo"
                                },
                                {
                                    "address": "1557 Ktahya Boulevard",
                                    "district": "England",
                                    "phone": "720998247660",
                                    "city": "Bradford"
                                },
                                {
                                    "address": "981 Kumbakonam Place",
                                    "district": "Distrito Federal",
                                    "phone": "829116184079",
                                    "city": "Brasília"
                                },
                                {
                                    "address": "482 Kowloon and New Kowloon Manor",
                                    "district": "Bratislava",
                                    "phone": "738968474939",
                                    "city": "Bratislava"
                                },
                                {
                                    "address": "1224 Huejutla de Reyes Boulevard",
                                    "district": "Lombardia",
                                    "phone": "806016930576",
                                    "city": "Brescia"
                                },
                                {
                                    "address": "1346 Mysore Drive",
                                    "district": "Bretagne",
                                    "phone": "516647474029",
                                    "city": "Brest"
                                },
                                {
                                    "address": "1 Valle de Santiago Avenue",
                                    "district": "Apulia",
                                    "phone": "465897838272",
                                    "city": "Brindisi"
                                },
                                {
                                    "address": "782 Mosul Street",
                                    "district": "Massachusetts",
                                    "phone": "885899703621",
                                    "city": "Brockton"
                                },
                                {
                                    "address": "1342 Abha Boulevard",
                                    "district": "Bukarest",
                                    "phone": "997453607116",
                                    "city": "Bucuresti"
                                },
                                {
                                    "address": "98 Stara Zagora Boulevard",
                                    "district": "Valle",
                                    "phone": "610173756082",
                                    "city": "Buenaventura"
                                },
                                {
                                    "address": "1769 Iwaki Lane",
                                    "district": "Kujawsko-Pomorskie",
                                    "phone": "556100547674",
                                    "city": "Bydgoszcz"
                                },
                                {
                                    "address": "1061 Ede Avenue",
                                    "district": "Southern Tagalog",
                                    "phone": "333390595558",
                                    "city": "Cabuyao"
                                },
                                {
                                    "address": "827 Yuncheng Drive",
                                    "district": "Callao",
                                    "phone": "504434452842",
                                    "city": "Callao"
                                },
                                {
                                    "address": "1817 Livorno Way",
                                    "district": "Khanh Hoa",
                                    "phone": "478380208348",
                                    "city": "Cam Ranh"
                                },
                                {
                                    "address": "1427 Tabuk Place",
                                    "district": "Florida",
                                    "phone": "214756839122",
                                    "city": "Cape Coral"
                                },
                                {
                                    "address": "1378 Alvorada Avenue",
                                    "district": "Distrito Federal",
                                    "phone": "272234298332",
                                    "city": "Caracas"
                                },
                                {
                                    "address": "1819 Alessandria Loop",
                                    "district": "Campeche",
                                    "phone": "377633994405",
                                    "city": "Carmen"
                                },
                                {
                                    "address": "717 Changzhou Lane",
                                    "district": "Southern Tagalog",
                                    "phone": "426255288071",
                                    "city": "Cavite"
                                },
                                {
                                    "address": "698 Otsu Street",
                                    "district": "Cayenne",
                                    "phone": "409983924481",
                                    "city": "Cayenne"
                                },
                                {
                                    "address": "1402 Zanzibar Boulevard",
                                    "district": "Guanajuato",
                                    "phone": "387448063440",
                                    "city": "Celaya"
                                },
                                {
                                    "address": "1540 Wroclaw Drive",
                                    "district": "Maharashtra",
                                    "phone": "182363341674",
                                    "city": "Chandrapur"
                                },
                                {
                                    "address": "1551 Rampur Lane",
                                    "district": "Changhwa",
                                    "phone": "251164340471",
                                    "city": "Changhwa"
                                },
                                {
                                    "address": "817 Bradford Loop",
                                    "district": "Ji´angsu",
                                    "phone": "264286442804",
                                    "city": "Changzhou"
                                },
                                {
                                    "address": "1747 Rustenburg Place",
                                    "district": "Bihar",
                                    "phone": "442673923363",
                                    "city": "Chapra"
                                },
                                {
                                    "address": "264 Bhimavaram Manor",
                                    "district": "St Thomas",
                                    "phone": "302526949177",
                                    "city": "Charlotte Amalie"
                                },
                                {
                                    "address": "1497 Fengshan Drive",
                                    "district": "KwaZulu-Natal",
                                    "phone": "368738360376",
                                    "city": "Chatsworth"
                                },
                                {
                                    "address": "1942 Ciparay Parkway",
                                    "district": "Cheju",
                                    "phone": "978987363654",
                                    "city": "Cheju"
                                },
                                {
                                    "address": "1947 Poos de Caldas Boulevard",
                                    "district": "Chiayi",
                                    "phone": "427454485876",
                                    "city": "Chiayi"
                                },
                                {
                                    "address": "269 Cam Ranh Parkway",
                                    "district": "Chisinau",
                                    "phone": "489783829737",
                                    "city": "Chisinau"
                                },
                                {
                                    "address": "608 Birgunj Parkway",
                                    "district": "Taipei",
                                    "phone": "627425618482",
                                    "city": "Chungho"
                                },
                                {
                                    "address": "1445 Carmen Parkway",
                                    "district": "West Java",
                                    "phone": "598912394463",
                                    "city": "Cianjur"
                                },
                                {
                                    "address": "47 Syktyvkar Lane",
                                    "district": "West Java",
                                    "phone": "63937119031",
                                    "city": "Ciomas"
                                },
                                {
                                    "address": "1860 Taguig Loop",
                                    "district": "West Java",
                                    "phone": "38158430589",
                                    "city": "Ciparay"
                                },
                                {
                                    "address": "770 Bydgoszcz Avenue",
                                    "district": "California",
                                    "phone": "517338314235",
                                    "city": "Citrus Heights"
                                },
                                {
                                    "address": "18 Duisburg Boulevard",
                                    "district": "",
                                    "phone": "998009777982",
                                    "city": "Città del Vaticano"
                                },
                                {
                                    "address": "1679 Antofagasta Street",
                                    "district": "Alto Paran",
                                    "phone": "905903574913",
                                    "city": "Ciudad del Este"
                                },
                                {
                                    "address": "1666 Beni-Mellal Place",
                                    "district": "Tennessee",
                                    "phone": "9099941466",
                                    "city": "Clarksville"
                                },
                                {
                                    "address": "1473 Changhwa Parkway",
                                    "district": "Mxico",
                                    "phone": "266798132374",
                                    "city": "Coacalco de Berriozábal"
                                },
                                {
                                    "address": "1785 So Bernardo do Campo Street",
                                    "district": "Veracruz",
                                    "phone": "684529463244",
                                    "city": "Coatzacoalcos"
                                },
                                {
                                    "address": "533 al-Ayn Boulevard",
                                    "district": "California",
                                    "phone": "662227486184",
                                    "city": "Compton"
                                },
                                {
                                    "address": "568 Dhule (Dhulia) Loop",
                                    "district": "Coquimbo",
                                    "phone": "602101369463",
                                    "city": "Coquimbo"
                                },
                                {
                                    "address": "96 Tafuna Way",
                                    "district": "Córdoba",
                                    "phone": "934730187245",
                                    "city": "Córdoba"
                                },
                                {
                                    "address": "1447 Chatsworth Place",
                                    "district": "Chihuahua",
                                    "phone": "769370126331",
                                    "city": "Cuauhtémoc"
                                },
                                {
                                    "address": "479 San Felipe del Progreso Avenue",
                                    "district": "Morelos",
                                    "phone": "869051782691",
                                    "city": "Cuautla"
                                },
                                {
                                    "address": "186 Skikda Lane",
                                    "district": "Morelos",
                                    "phone": "14465669789",
                                    "city": "Cuernavaca"
                                },
                                {
                                    "address": "1079 Tel Aviv-Jaffa Boulevard",
                                    "district": "Sucre",
                                    "phone": "358178933857",
                                    "city": "Cumaná"
                                },
                                {
                                    "address": "1405 Hagonoy Avenue",
                                    "district": "Slaskie",
                                    "phone": "867287719310",
                                    "city": "Czestochowa"
                                },
                                {
                                    "address": "966 Arecibo Loop",
                                    "district": "Sind",
                                    "phone": "15273765306",
                                    "city": "Dadu"
                                },
                                {
                                    "address": "530 Lausanne Lane",
                                    "district": "Texas",
                                    "phone": "775235029633",
                                    "city": "Dallas"
                                },
                                {
                                    "address": "1158 Mandi Bahauddin Parkway",
                                    "district": "Shanxi",
                                    "phone": "276555730211",
                                    "city": "Datong"
                                },
                                {
                                    "address": "1673 Tangail Drive",
                                    "district": "Daugavpils",
                                    "phone": "627924259271",
                                    "city": "Daugavpils"
                                },
                                {
                                    "address": "217 Botshabelo Place",
                                    "district": "Southern Mindanao",
                                    "phone": "665356572025",
                                    "city": "Davao"
                                },
                                {
                                    "address": "1966 Amroha Avenue",
                                    "district": "Sichuan",
                                    "phone": "333489324603",
                                    "city": "Daxian"
                                },
                                {
                                    "address": "32 Pudukkottai Lane",
                                    "district": "Ohio",
                                    "phone": "967274728547",
                                    "city": "Dayton"
                                },
                                {
                                    "address": "1936 Lapu-Lapu Parkway",
                                    "district": "Bauchi & Gombe",
                                    "phone": "653436985797",
                                    "city": "Deba Habe"
                                },
                                {
                                    "address": "698 Jelets Boulevard",
                                    "district": "Denizli",
                                    "phone": "975185523021",
                                    "city": "Denizli"
                                },
                                {
                                    "address": "1838 Tabriz Lane",
                                    "district": "Dhaka",
                                    "phone": "38988715447",
                                    "city": "Dhaka"
                                },
                                {
                                    "address": "495 Bhimavaram Lane",
                                    "district": "Maharashtra",
                                    "phone": "82088937724",
                                    "city": "Dhule (Dhulia)"
                                },
                                {
                                    "address": "1322 Mosul Parkway",
                                    "district": "Shandong",
                                    "phone": "268053970382",
                                    "city": "Dongying"
                                },
                                {
                                    "address": "44 Najafabad Way",
                                    "district": "Baskimaa",
                                    "phone": "96604821070",
                                    "city": "Donostia-San Sebastián"
                                },
                                {
                                    "address": "241 Mosul Lane",
                                    "district": "Risaralda",
                                    "phone": "765345144779",
                                    "city": "Dos Quebradas"
                                },
                                {
                                    "address": "442 Rae Bareli Place",
                                    "district": "Nordrhein-Westfalen",
                                    "phone": "886636413768",
                                    "city": "Duisburg"
                                },
                                {
                                    "address": "483 Ljubertsy Parkway",
                                    "district": "Scotland",
                                    "phone": "581174211853",
                                    "city": "Dundee"
                                },
                                {
                                    "address": "740 Udaipur Lane",
                                    "district": "Nizni Novgorod",
                                    "phone": "497288595103",
                                    "city": "Dzerzinsk"
                                },
                                {
                                    "address": "1217 Konotop Avenue",
                                    "district": "Gelderland",
                                    "phone": "718917251754",
                                    "city": "Ede"
                                },
                                {
                                    "address": "1155 Liaocheng Place",
                                    "district": "Oyo & Osun",
                                    "phone": "558236142492",
                                    "city": "Effon-Alaiye"
                                },
                                {
                                    "address": "659 Gatineau Boulevard",
                                    "district": "La Paz",
                                    "phone": "205524798287",
                                    "city": "El Alto"
                                },
                                {
                                    "address": "814 Simferopol Loop",
                                    "district": "Sinaloa",
                                    "phone": "524567129902",
                                    "city": "El Fuerte"
                                },
                                {
                                    "address": "1866 al-Qatif Avenue",
                                    "district": "California",
                                    "phone": "546793516940",
                                    "city": "El Monte"
                                },
                                {
                                    "address": "270 Toulon Boulevard",
                                    "district": "Kalmykia",
                                    "phone": "407752414682",
                                    "city": "Elista"
                                },
                                {
                                    "address": "753 Ilorin Avenue",
                                    "district": "Sichuan",
                                    "phone": "464511145118",
                                    "city": "Emeishan"
                                },
                                {
                                    "address": "1854 Okara Boulevard",
                                    "district": "Drenthe",
                                    "phone": "131912793873",
                                    "city": "Emmen"
                                },
                                {
                                    "address": "804 Elista Drive",
                                    "district": "Hubei",
                                    "phone": "379804592943",
                                    "city": "Enshi"
                                },
                                {
                                    "address": "319 Springs Loop",
                                    "district": "Baijeri",
                                    "phone": "72524459905",
                                    "city": "Erlangen"
                                },
                                {
                                    "address": "203 Tambaram Street",
                                    "district": "Buenos Aires",
                                    "phone": "411549550611",
                                    "city": "Escobar"
                                },
                                {
                                    "address": "1531 Sal Drive",
                                    "district": "Esfahan",
                                    "phone": "648856936185",
                                    "city": "Esfahan"
                                },
                                {
                                    "address": "1269 Ipoh Avenue",
                                    "district": "Eskisehir",
                                    "phone": "402630109080",
                                    "city": "Eskisehir"
                                },
                                {
                                    "address": "211 Chiayi Drive",
                                    "district": "Uttar Pradesh",
                                    "phone": "665993880048",
                                    "city": "Etawah"
                                },
                                {
                                    "address": "166 Jinchang Street",
                                    "district": "Buenos Aires",
                                    "phone": "717566026669",
                                    "city": "Ezeiza"
                                },
                                {
                                    "address": "1774 Yaound Place",
                                    "district": "Hubei",
                                    "phone": "613124286867",
                                    "city": "Ezhou"
                                },
                                {
                                    "address": "1447 Imus Way",
                                    "district": "Tahiti",
                                    "phone": "539758313890",
                                    "city": "Faaa"
                                },
                                {
                                    "address": "1568 Celaya Parkway",
                                    "district": "Kaohsiung",
                                    "phone": "278669994384",
                                    "city": "Fengshan"
                                },
                                {
                                    "address": "9 San Miguel de Tucumn Manor",
                                    "district": "Uttar Pradesh",
                                    "phone": "956188728558",
                                    "city": "Firozabad"
                                },
                                {
                                    "address": "734 Tanshui Avenue",
                                    "district": "Caquet",
                                    "phone": "366776723320",
                                    "city": "Florencia"
                                },
                                {
                                    "address": "1135 Izumisano Parkway",
                                    "district": "California",
                                    "phone": "171822533480",
                                    "city": "Fontana"
                                },
                                {
                                    "address": "928 Jaffna Loop",
                                    "district": "Hiroshima",
                                    "phone": "581852137991",
                                    "city": "Fukuyama"
                                },
                                {
                                    "address": "454 Nakhon Sawan Boulevard",
                                    "district": "Funafuti",
                                    "phone": "963887147572",
                                    "city": "Funafuti"
                                },
                                {
                                    "address": "1333 Haldia Street",
                                    "district": "Jilin",
                                    "phone": "408304391718",
                                    "city": "Fuyu"
                                },
                                {
                                    "address": "1308 Sumy Loop",
                                    "district": "Fujian",
                                    "phone": "583021225407",
                                    "city": "Fuzhou"
                                },
                                {
                                    "address": "1967 Sincelejo Place",
                                    "district": "Gujarat",
                                    "phone": "577812616052",
                                    "city": "Gandhinagar"
                                },
                                {
                                    "address": "1895 Zhezqazghan Drive",
                                    "district": "California",
                                    "phone": "137809746111",
                                    "city": "Garden Grove"
                                },
                                {
                                    "address": "1894 Boa Vista Way",
                                    "district": "Texas",
                                    "phone": "239357986667",
                                    "city": "Garland"
                                },
                                {
                                    "address": "1153 Allende Way",
                                    "district": "Québec",
                                    "phone": "856872225376",
                                    "city": "Gatineau"
                                },
                                {
                                    "address": "984 Novoterkassk Loop",
                                    "district": "Gaziantep",
                                    "phone": "435118527255",
                                    "city": "Gaziantep"
                                },
                                {
                                    "address": "331 Bydgoszcz Parkway",
                                    "district": "Asturia",
                                    "phone": "537374465982",
                                    "city": "Gijón"
                                },
                                {
                                    "address": "118 Jaffna Loop",
                                    "district": "Northern Mindanao",
                                    "phone": "325526730021",
                                    "city": "Gingoog"
                                },
                                {
                                    "address": "984 Effon-Alaiye Avenue",
                                    "district": "Gois",
                                    "phone": "132986892228",
                                    "city": "Goiânia"
                                },
                                {
                                    "address": "1688 Nador Lane",
                                    "district": "Sulawesi Utara",
                                    "phone": "652218196731",
                                    "city": "Gorontalo"
                                },
                                {
                                    "address": "333 Goinia Way",
                                    "district": "Texas",
                                    "phone": "909029256431",
                                    "city": "Grand Prairie"
                                },
                                {
                                    "address": "1010 Klerksdorp Way",
                                    "district": "Steiermark",
                                    "phone": "493008546874",
                                    "city": "Graz"
                                },
                                {
                                    "address": "369 Papeete Way",
                                    "district": "North Carolina",
                                    "phone": "170117068815",
                                    "city": "Greensboro"
                                },
                                {
                                    "address": "817 Laredo Avenue",
                                    "district": "Jalisco",
                                    "phone": "151249681135",
                                    "city": "Guadalajara"
                                },
                                {
                                    "address": "259 Ipoh Drive",
                                    "district": "São Paulo",
                                    "phone": "419009857119",
                                    "city": "Guarujá"
                                },
                                {
                                    "address": "1049 Matamoros Parkway",
                                    "district": "Karnataka",
                                    "phone": "960505250340",
                                    "city": "Gulbarga"
                                },
                                {
                                    "address": "127 Iwakuni Boulevard",
                                    "district": "Central Luzon",
                                    "phone": "987442542471",
                                    "city": "Hagonoy"
                                },
                                {
                                    "address": "904 Clarksville Drive",
                                    "district": "Zhejiang",
                                    "phone": "955349440539",
                                    "city": "Haining"
                                },
                                {
                                    "address": "1149 A Corua (La Corua) Boulevard",
                                    "district": "Haiphong",
                                    "phone": "470884141195",
                                    "city": "Haiphong"
                                },
                                {
                                    "address": "435 0 Way",
                                    "district": "West Bengali",
                                    "phone": "760171523969",
                                    "city": "Haldia"
                                },
                                {
                                    "address": "1844 Usak Avenue",
                                    "district": "Nova Scotia",
                                    "phone": "164414772677",
                                    "city": "Halifax"
                                },
                                {
                                    "address": "1027 Banjul Place",
                                    "district": "West Bengali",
                                    "phone": "538241037443",
                                    "city": "Halisahar"
                                },
                                {
                                    "address": "1966 Tonghae Street",
                                    "district": "Anhalt Sachsen",
                                    "phone": "567359279425",
                                    "city": "Halle/Saale"
                                },
                                {
                                    "address": "154 Tallahassee Loop",
                                    "district": "Xinxiang",
                                    "phone": "935508855935",
                                    "city": "Hami"
                                },
                                {
                                    "address": "478 Joliet Way",
                                    "district": "Hamilton",
                                    "phone": "657282285970",
                                    "city": "Hamilton"
                                },
                                {
                                    "address": "68 Ponce Parkway",
                                    "district": "Hanoi",
                                    "phone": "870635127812",
                                    "city": "Hanoi"
                                },
                                {
                                    "address": "781 Shimonoseki Drive",
                                    "district": "Michoacn de Ocampo",
                                    "phone": "632316273199",
                                    "city": "Hidalgo"
                                },
                                {
                                    "address": "446 Kirovo-Tepetsk Lane",
                                    "district": "Osaka",
                                    "phone": "303967439816",
                                    "city": "Higashiosaka"
                                },
                                {
                                    "address": "345 Oshawa Boulevard",
                                    "district": "Tokyo-to",
                                    "phone": "104491201771",
                                    "city": "Hino"
                                },
                                {
                                    "address": "1635 Kuwana Boulevard",
                                    "district": "Hiroshima",
                                    "phone": "710603868323",
                                    "city": "Hiroshima"
                                },
                                {
                                    "address": "434 Ourense (Orense) Manor",
                                    "district": "Hodeida",
                                    "phone": "562370137426",
                                    "city": "Hodeida"
                                },
                                {
                                    "address": "1587 Sullana Lane",
                                    "district": "Inner Mongolia",
                                    "phone": "468060467018",
                                    "city": "Hohhot"
                                },
                                {
                                    "address": "791 Salinas Street",
                                    "district": "Punjab",
                                    "phone": "129953030512",
                                    "city": "Hoshiarpur"
                                },
                                {
                                    "address": "381 Kabul Way",
                                    "district": "Taipei",
                                    "phone": "55477302294",
                                    "city": "Hsichuh"
                                },
                                {
                                    "address": "500 Lincoln Parkway",
                                    "district": "Ji´angsu",
                                    "phone": "550306965159",
                                    "city": "Huai´an"
                                },
                                {
                                    "address": "1746 Faaa Way",
                                    "district": "Huánuco",
                                    "phone": "863080561151",
                                    "city": "Huánuco"
                                },
                                {
                                    "address": "788 Atinsk Street",
                                    "district": "Karnataka",
                                    "phone": "146497509724",
                                    "city": "Hubli-Dharwad"
                                },
                                {
                                    "address": "966 Asuncin Way",
                                    "district": "Hidalgo",
                                    "phone": "995527378381",
                                    "city": "Huejutla de Reyes"
                                },
                                {
                                    "address": "1002 Ahmadnagar Manor",
                                    "district": "Mxico",
                                    "phone": "371490777743",
                                    "city": "Huixquilucan"
                                },
                                {
                                    "address": "543 Bergamo Avenue",
                                    "district": "Minas Gerais",
                                    "phone": "103602195112",
                                    "city": "Ibirité"
                                },
                                {
                                    "address": "1736 Cavite Place",
                                    "district": "Qina",
                                    "phone": "431770603551",
                                    "city": "Idfu"
                                },
                                {
                                    "address": "1888 Kabul Drive",
                                    "district": "Oyo & Osun",
                                    "phone": "701457319790",
                                    "city": "Ife"
                                },
                                {
                                    "address": "955 Bamenda Way",
                                    "district": "Ondo & Ekiti",
                                    "phone": "768481779568",
                                    "city": "Ikerre"
                                },
                                {
                                    "address": "951 Springs Lane",
                                    "district": "Central Mindanao",
                                    "phone": "165164761435",
                                    "city": "Iligan"
                                },
                                {
                                    "address": "1177 Jelets Way",
                                    "district": "Kwara & Kogi",
                                    "phone": "484292626944",
                                    "city": "Ilorin"
                                },
                                {
                                    "address": "953 Hodeida Street",
                                    "district": "Southern Tagalog",
                                    "phone": "53912826864",
                                    "city": "Imus"
                                },
                                {
                                    "address": "457 Tongliao Loop",
                                    "district": "Bursa",
                                    "phone": "880756161823",
                                    "city": "Inegöl"
                                },
                                {
                                    "address": "316 Uruapan Street",
                                    "district": "Perak",
                                    "phone": "275788967899",
                                    "city": "Ipoh"
                                },
                                {
                                    "address": "1949 Sanya Street",
                                    "district": "Gumma",
                                    "phone": "132100972047",
                                    "city": "Isesaki"
                                },
                                {
                                    "address": "1867 San Juan Bautista Tuxtepec Avenue",
                                    "district": "Ivanovo",
                                    "phone": "547003310357",
                                    "city": "Ivanovo"
                                },
                                {
                                    "address": "1148 Saarbrcken Parkway",
                                    "district": "Fukushima",
                                    "phone": "137773001988",
                                    "city": "Iwaki"
                                },
                                {
                                    "address": "1964 Allappuzha (Alleppey) Street",
                                    "district": "Yamaguchi",
                                    "phone": "920811325222",
                                    "city": "Iwakuni"
                                },
                                {
                                    "address": "168 Cianjur Manor",
                                    "district": "Saitama",
                                    "phone": "679095087143",
                                    "city": "Iwatsuki"
                                },
                                {
                                    "address": "767 Pyongyang Drive",
                                    "district": "Osaka",
                                    "phone": "667736124769",
                                    "city": "Izumisano"
                                },
                                {
                                    "address": "692 Amroha Drive",
                                    "district": "Northern",
                                    "phone": "359478883004",
                                    "city": "Jaffna"
                                },
                                {
                                    "address": "81 Hodeida Way",
                                    "district": "Rajasthan",
                                    "phone": "250767749542",
                                    "city": "Jaipur"
                                },
                                {
                                    "address": "456 Escobar Way",
                                    "district": "Jakarta Raya",
                                    "phone": "719202533520",
                                    "city": "Jakarta"
                                },
                                {
                                    "address": "346 Skikda Parkway",
                                    "district": "Hawalli",
                                    "phone": "630424482919",
                                    "city": "Jalib al-Shuyukh"
                                },
                                {
                                    "address": "1816 Bydgoszcz Loop",
                                    "district": "Dhaka",
                                    "phone": "965273813662",
                                    "city": "Jamalpur"
                                },
                                {
                                    "address": "810 Palghat (Palakkad) Boulevard",
                                    "district": "Jaroslavl",
                                    "phone": "516331171356",
                                    "city": "Jaroslavl"
                                },
                                {
                                    "address": "1050 Garden Grove Avenue",
                                    "district": "Slaskie",
                                    "phone": "973047364353",
                                    "city": "Jastrzebie-Zdrój"
                                },
                                {
                                    "address": "725 Isesaki Place",
                                    "district": "Mekka",
                                    "phone": "876295323994",
                                    "city": "Jedda"
                                },
                                {
                                    "address": "1913 Kamakura Place",
                                    "district": "Lipetsk",
                                    "phone": "942570536750",
                                    "city": "Jelets"
                                },
                                {
                                    "address": "176 Mandaluyong Place",
                                    "district": "Uttar Pradesh",
                                    "phone": "627705991774",
                                    "city": "Jhansi"
                                },
                                {
                                    "address": "475 Atinsk Way",
                                    "district": "Gansu",
                                    "phone": "201705577290",
                                    "city": "Jinchang"
                                },
                                {
                                    "address": "1837 Kaduna Parkway",
                                    "district": "Inner Mongolia",
                                    "phone": "640843562301",
                                    "city": "Jining"
                                },
                                {
                                    "address": "844 Bucuresti Place",
                                    "district": "Liaoning",
                                    "phone": "935952366111",
                                    "city": "Jinzhou"
                                },
                                {
                                    "address": "60 Poos de Caldas Street",
                                    "district": "Rajasthan",
                                    "phone": "963063788669",
                                    "city": "Jodhpur"
                                },
                                {
                                    "address": "270 Tambaram Parkway",
                                    "district": "Gauteng",
                                    "phone": "248446668735",
                                    "city": "Johannesburg"
                                },
                                {
                                    "address": "786 Matsue Way",
                                    "district": "Illinois",
                                    "phone": "111177206479",
                                    "city": "Joliet"
                                },
                                {
                                    "address": "760 Miyakonojo Drive",
                                    "district": "Guerrero",
                                    "phone": "294449058179",
                                    "city": "José Azueta"
                                },
                                {
                                    "address": "433 Florencia Street",
                                    "district": "Chihuahua",
                                    "phone": "561729882725",
                                    "city": "Juárez"
                                },
                                {
                                    "address": "686 Garland Manor",
                                    "district": "Cear",
                                    "phone": "69493378813",
                                    "city": "Juazeiro do Norte"
                                },
                                {
                                    "address": "32 Liaocheng Way",
                                    "district": "Minas Gerais",
                                    "phone": "410877354933",
                                    "city": "Juiz de Fora"
                                },
                                {
                                    "address": "722 Bradford Lane",
                                    "district": "Shandong",
                                    "phone": "746251338300",
                                    "city": "Junan"
                                },
                                {
                                    "address": "1168 Najafabad Parkway",
                                    "district": "Kabol",
                                    "phone": "886649065861",
                                    "city": "Kabul"
                                },
                                {
                                    "address": "320 Brest Avenue",
                                    "district": "Kaduna",
                                    "phone": "747791594069",
                                    "city": "Kaduna"
                                },
                                {
                                    "address": "1287 Xi´angfan Boulevard",
                                    "district": "Gifu",
                                    "phone": "819416131190",
                                    "city": "Kakamigahara"
                                },
                                {
                                    "address": "1883 Maikop Lane",
                                    "district": "Kaliningrad",
                                    "phone": "96110042435",
                                    "city": "Kaliningrad"
                                },
                                {
                                    "address": "906 Goinia Way",
                                    "district": "Wielkopolskie",
                                    "phone": "701767622697",
                                    "city": "Kalisz"
                                },
                                {
                                    "address": "586 Tete Way",
                                    "district": "Kanagawa",
                                    "phone": "18581624103",
                                    "city": "Kamakura"
                                },
                                {
                                    "address": "33 Gorontalo Way",
                                    "district": "West Bengali",
                                    "phone": "745994947458",
                                    "city": "Kamarhati"
                                },
                                {
                                    "address": "1793 Meixian Place",
                                    "district": "Hmelnytskyi",
                                    "phone": "619966287415",
                                    "city": "Kamjanets-Podilskyi"
                                },
                                {
                                    "address": "886 Tonghae Place",
                                    "district": "Volgograd",
                                    "phone": "711928348157",
                                    "city": "Kamyšin"
                                },
                                {
                                    "address": "1421 Quilmes Lane",
                                    "district": "Ishikawa",
                                    "phone": "135407755975",
                                    "city": "Kanazawa"
                                },
                                {
                                    "address": "1013 Tabuk Boulevard",
                                    "district": "West Bengali",
                                    "phone": "158399646978",
                                    "city": "Kanchrapara"
                                },
                                {
                                    "address": "1191 Sungai Petani Boulevard",
                                    "district": "Missouri",
                                    "phone": "983259819766",
                                    "city": "Kansas City"
                                },
                                {
                                    "address": "1884 Shikarpur Avenue",
                                    "district": "Haryana",
                                    "phone": "959949395183",
                                    "city": "Karnal"
                                },
                                {
                                    "address": "1948 Bayugan Parkway",
                                    "district": "Bihar",
                                    "phone": "987306329957",
                                    "city": "Katihar"
                                },
                                {
                                    "address": "220 Hidalgo Drive",
                                    "district": "Kermanshah",
                                    "phone": "342720754566",
                                    "city": "Kermanshah"
                                },
                                {
                                    "address": "374 Bat Yam Boulevard",
                                    "district": "Kilis",
                                    "phone": "923261616249",
                                    "city": "Kilis"
                                },
                                {
                                    "address": "1417 Lancaster Avenue",
                                    "district": "Northern Cape",
                                    "phone": "272572357893",
                                    "city": "Kimberley"
                                },
                                {
                                    "address": "588 Vila Velha Manor",
                                    "district": "Kyongsangbuk",
                                    "phone": "333339908719",
                                    "city": "Kimchon"
                                },
                                {
                                    "address": "1016 Iwakuni Street",
                                    "district": "St George",
                                    "phone": "961370847344",
                                    "city": "Kingstown"
                                },
                                {
                                    "address": "1089 Iwatsuki Avenue",
                                    "district": "Kirov",
                                    "phone": "866092335135",
                                    "city": "Kirovo-Tšepetsk"
                                },
                                {
                                    "address": "447 Surakarta Loop",
                                    "district": "Nyanza",
                                    "phone": "940830176580",
                                    "city": "Kisumu"
                                },
                                {
                                    "address": "1836 Korla Parkway",
                                    "district": "Copperbelt",
                                    "phone": "689681677428",
                                    "city": "Kitwe"
                                },
                                {
                                    "address": "682 Junan Way",
                                    "district": "North West",
                                    "phone": "622255216127",
                                    "city": "Klerksdorp"
                                },
                                {
                                    "address": "661 Chisinau Lane",
                                    "district": "Pietari",
                                    "phone": "816436065431",
                                    "city": "Kolpino"
                                },
                                {
                                    "address": "182 Nuku´alofa Drive",
                                    "district": "Sumy",
                                    "phone": "426346224043",
                                    "city": "Konotop"
                                },
                                {
                                    "address": "454 Patiala Lane",
                                    "district": "Fukushima",
                                    "phone": "794553031307",
                                    "city": "Koriyama"
                                },
                                {
                                    "address": "226 Halifax Street",
                                    "district": "Xinxiang",
                                    "phone": "790651020929",
                                    "city": "Korla"
                                },
                                {
                                    "address": "954 Lapu-Lapu Way",
                                    "district": "Moskova",
                                    "phone": "737229003916",
                                    "city": "Korolev"
                                },
                                {
                                    "address": "1912 Allende Manor",
                                    "district": "Kowloon and New Kowl",
                                    "phone": "172262454487",
                                    "city": "Kowloon and New Kowloon"
                                },
                                {
                                    "address": "900 Santiago de Compostela Parkway",
                                    "district": "Central Serbia",
                                    "phone": "716571220373",
                                    "city": "Kragujevac"
                                },
                                {
                                    "address": "1114 Liepaja Street",
                                    "district": "Sarawak",
                                    "phone": "212869228936",
                                    "city": "Kuching"
                                },
                                {
                                    "address": "1675 Xi´angfan Manor",
                                    "district": "Tamil Nadu",
                                    "phone": "271149517630",
                                    "city": "Kumbakonam"
                                },
                                {
                                    "address": "61 Tama Street",
                                    "district": "Okayama",
                                    "phone": "708403338270",
                                    "city": "Kurashiki"
                                },
                                {
                                    "address": "1618 Olomouc Manor",
                                    "district": "Kurgan",
                                    "phone": "96846695220",
                                    "city": "Kurgan"
                                },
                                {
                                    "address": "746 Joliet Lane",
                                    "district": "Kursk",
                                    "phone": "688485191923",
                                    "city": "Kursk"
                                },
                                {
                                    "address": "848 Tafuna Manor",
                                    "district": "Kütahya",
                                    "phone": "614935229095",
                                    "city": "Kütahya"
                                },
                                {
                                    "address": "958 Sagamihara Lane",
                                    "district": "Mie",
                                    "phone": "427274926505",
                                    "city": "Kuwana"
                                },
                                {
                                    "address": "184 Mandaluyong Street",
                                    "district": "Baja California Sur",
                                    "phone": "488425406814",
                                    "city": "La Paz"
                                },
                                {
                                    "address": "1926 El Alto Avenue",
                                    "district": "Buenos Aires",
                                    "phone": "846225459260",
                                    "city": "La Plata"
                                },
                                {
                                    "address": "1245 Ibirit Way",
                                    "district": "La Romana",
                                    "phone": "331888642162",
                                    "city": "La Romana"
                                },
                                {
                                    "address": "1560 Jelets Boulevard",
                                    "district": "Shandong",
                                    "phone": "189446090264",
                                    "city": "Laiwu"
                                },
                                {
                                    "address": "793 Cam Ranh Avenue",
                                    "district": "California",
                                    "phone": "824370924746",
                                    "city": "Lancaster"
                                },
                                {
                                    "address": "1557 Cape Coral Parkway",
                                    "district": "Hubei",
                                    "phone": "368284120423",
                                    "city": "Laohekou"
                                },
                                {
                                    "address": "582 Papeete Loop",
                                    "district": "Central Visayas",
                                    "phone": "569868543137",
                                    "city": "Lapu-Lapu"
                                },
                                {
                                    "address": "1795 Santiago de Compostela Way",
                                    "district": "Texas",
                                    "phone": "860452626434",
                                    "city": "Laredo"
                                },
                                {
                                    "address": "1331 Usak Boulevard",
                                    "district": "Vaud",
                                    "phone": "145308717464",
                                    "city": "Lausanne"
                                },
                                {
                                    "address": "1740 Le Mans Loop",
                                    "district": "Pays de la Loire",
                                    "phone": "168476538960",
                                    "city": "Le Mans"
                                },
                                {
                                    "address": "1762 Paarl Parkway",
                                    "district": "Hunan",
                                    "phone": "192459639410",
                                    "city": "Lengshuijiang"
                                },
                                {
                                    "address": "1052 Pathankot Avenue",
                                    "district": "Sichuan",
                                    "phone": "128499386727",
                                    "city": "Leshan"
                                },
                                {
                                    "address": "47 MySakila Drive",
                                    "district": "Alberta",
                                    "phone": "",
                                    "city": "Lethbridge"
                                },
                                {
                                    "address": "23 Workhaven Lane",
                                    "district": "Alberta",
                                    "phone": "14033335568",
                                    "city": "Lethbridge"
                                },
                                {
                                    "address": "1078 Stara Zagora Drive",
                                    "district": "Aceh",
                                    "phone": "932992626595",
                                    "city": "Lhokseumawe"
                                },
                                {
                                    "address": "1854 Tieli Street",
                                    "district": "Shandong",
                                    "phone": "509492324775",
                                    "city": "Liaocheng"
                                },
                                {
                                    "address": "1780 Hino Boulevard",
                                    "district": "Liepaja",
                                    "phone": "902731229323",
                                    "city": "Liepaja"
                                },
                                {
                                    "address": "710 San Felipe del Progreso Avenue",
                                    "district": "Lilongwe",
                                    "phone": "843801144113",
                                    "city": "Lilongwe"
                                },
                                {
                                    "address": "1175 Tanauan Way",
                                    "district": "Lima",
                                    "phone": "937222955822",
                                    "city": "Lima"
                                },
                                {
                                    "address": "1214 Hanoi Way",
                                    "district": "Nebraska",
                                    "phone": "491001136577",
                                    "city": "Lincoln"
                                },
                                {
                                    "address": "1440 Compton Place",
                                    "district": "North Austria",
                                    "phone": "931059836497",
                                    "city": "Linz"
                                },
                                {
                                    "address": "1998 Halifax Drive",
                                    "district": "Lipetsk",
                                    "phone": "177727722820",
                                    "city": "Lipetsk"
                                },
                                {
                                    "address": "379 Lublin Parkway",
                                    "district": "Toscana",
                                    "phone": "921960450089",
                                    "city": "Livorno"
                                },
                                {
                                    "address": "1623 Baha Blanca Manor",
                                    "district": "Moskova",
                                    "phone": "149981248346",
                                    "city": "Ljubertsy"
                                },
                                {
                                    "address": "1074 Sanaa Parkway",
                                    "district": "Loja",
                                    "phone": "154124128457",
                                    "city": "Loja"
                                },
                                {
                                    "address": "548 Uruapan Street",
                                    "district": "Ontario",
                                    "phone": "879347453467",
                                    "city": "London"
                                },
                                {
                                    "address": "1497 Yuzhou Drive",
                                    "district": "England",
                                    "phone": "246810237916",
                                    "city": "London"
                                },
                                {
                                    "address": "414 Mandaluyong Street",
                                    "district": "Lubelskie",
                                    "phone": "52709222667",
                                    "city": "Lublin"
                                },
                                {
                                    "address": "514 Ife Way",
                                    "district": "Shaba",
                                    "phone": "900235712074",
                                    "city": "Lubumbashi"
                                },
                                {
                                    "address": "1668 Anpolis Street",
                                    "district": "Taipei",
                                    "phone": "525255540978",
                                    "city": "Lungtan"
                                },
                                {
                                    "address": "1839 Szkesfehrvr Parkway",
                                    "district": "Gois",
                                    "phone": "947468818183",
                                    "city": "Luziânia"
                                },
                                {
                                    "address": "519 Brescia Parkway",
                                    "district": "East Java",
                                    "phone": "793996678771",
                                    "city": "Madiun"
                                },
                                {
                                    "address": "320 Baiyin Parkway",
                                    "district": "Mahajanga",
                                    "phone": "223664661973",
                                    "city": "Mahajanga"
                                },
                                {
                                    "address": "1157 Nyeri Loop",
                                    "district": "Adygea",
                                    "phone": "262744791493",
                                    "city": "Maikop"
                                },
                                {
                                    "address": "1150 Kimchon Manor",
                                    "district": "Skne ln",
                                    "phone": "663449333709",
                                    "city": "Malmö"
                                },
                                {
                                    "address": "401 Sucre Boulevard",
                                    "district": "New Hampshire",
                                    "phone": "486395999608",
                                    "city": "Manchester"
                                },
                                {
                                    "address": "1831 Nam Dinh Loop",
                                    "district": "National Capital Reg",
                                    "phone": "322888976727",
                                    "city": "Mandaluyong"
                                },
                                {
                                    "address": "1820 Maring Parkway",
                                    "district": "Punjab",
                                    "phone": "99760893676",
                                    "city": "Mandi Bahauddin"
                                },
                                {
                                    "address": "1074 Binzhou Manor",
                                    "district": "Baden-Wrttemberg",
                                    "phone": "331132568928",
                                    "city": "Mannheim"
                                },
                                {
                                    "address": "138 Caracas Boulevard",
                                    "district": "Zulia",
                                    "phone": "974433019532",
                                    "city": "Maracaíbo"
                                },
                                {
                                    "address": "1688 Okara Way",
                                    "district": "Nothwest Border Prov",
                                    "phone": "144453869132",
                                    "city": "Mardan"
                                },
                                {
                                    "address": "829 Grand Prairie Way",
                                    "district": "Paraná",
                                    "phone": "741070712873",
                                    "city": "Maringá"
                                },
                                {
                                    "address": "613 Korolev Drive",
                                    "district": "Masqat",
                                    "phone": "380657522649",
                                    "city": "Masqat"
                                },
                                {
                                    "address": "146 Johannesburg Way",
                                    "district": "Tamaulipas",
                                    "phone": "953689007081",
                                    "city": "Matamoros"
                                },
                                {
                                    "address": "619 Hunuco Avenue",
                                    "district": "Shimane",
                                    "phone": "142596392389",
                                    "city": "Matsue"
                                },
                                {
                                    "address": "1952 Chatsworth Drive",
                                    "district": "Guangdong",
                                    "phone": "991562402283",
                                    "city": "Meixian"
                                },
                                {
                                    "address": "682 Garden Grove Place",
                                    "district": "Tennessee",
                                    "phone": "72136330362",
                                    "city": "Memphis"
                                },
                                {
                                    "address": "1532 Dzerzinsk Way",
                                    "district": "Buenos Aires",
                                    "phone": "330838016880",
                                    "city": "Merlo"
                                },
                                {
                                    "address": "785 Vaduz Street",
                                    "district": "Baja California",
                                    "phone": "895616862749",
                                    "city": "Mexicali"
                                },
                                {
                                    "address": "651 Pathankot Loop",
                                    "district": "Maharashtra",
                                    "phone": "139378397418",
                                    "city": "Miraj"
                                },
                                {
                                    "address": "775 ostka Drive",
                                    "district": "al-Daqahliya",
                                    "phone": "171973024401",
                                    "city": "Mit Ghamr"
                                },
                                {
                                    "address": "752 Ondo Loop",
                                    "district": "Miyazaki",
                                    "phone": "134673576619",
                                    "city": "Miyakonojo"
                                },
                                {
                                    "address": "556 Asuncin Way",
                                    "district": "Mogiljov",
                                    "phone": "338244023543",
                                    "city": "Mogiljov"
                                },
                                {
                                    "address": "1027 Songkhla Manor",
                                    "district": "Minsk",
                                    "phone": "563660187896",
                                    "city": "Molodetšno"
                                },
                                {
                                    "address": "1351 Sousse Lane",
                                    "district": "Coahuila de Zaragoza",
                                    "phone": "203804046132",
                                    "city": "Monclova"
                                },
                                {
                                    "address": "51 Laredo Avenue",
                                    "district": "Sagaing",
                                    "phone": "884536620568",
                                    "city": "Monywa"
                                },
                                {
                                    "address": "46 Pjatigorsk Lane",
                                    "district": "Moscow (City)",
                                    "phone": "262076994845",
                                    "city": "Moscow"
                                },
                                {
                                    "address": "1208 Tama Loop",
                                    "district": "Ninawa",
                                    "phone": "954786054144",
                                    "city": "Mosul"
                                },
                                {
                                    "address": "1752 So Leopoldo Parkway",
                                    "district": "Taka-Karpatia",
                                    "phone": "252265130067",
                                    "city": "Mukatševe"
                                },
                                {
                                    "address": "1425 Shikarpur Manor",
                                    "district": "Bihar",
                                    "phone": "678220867005",
                                    "city": "Munger (Monghyr)"
                                },
                                {
                                    "address": "64 Korla Street",
                                    "district": "Mwanza",
                                    "phone": "510383179153",
                                    "city": "Mwanza"
                                },
                                {
                                    "address": "1519 Santiago de los Caballeros Loop",
                                    "district": "East Kasai",
                                    "phone": "409315295763",
                                    "city": "Mwene-Ditu"
                                },
                                {
                                    "address": "1566 Inegl Manor",
                                    "district": "Mandalay",
                                    "phone": "705814003527",
                                    "city": "Myingyan"
                                },
                                {
                                    "address": "1213 Ranchi Parkway",
                                    "district": "Karnataka",
                                    "phone": "800024380485",
                                    "city": "Mysore"
                                },
                                {
                                    "address": "207 Cuernavaca Loop",
                                    "district": "Tatarstan",
                                    "phone": "782900030287",
                                    "city": "Nabereznyje Tšelny"
                                },
                                {
                                    "address": "596 Huixquilucan Place",
                                    "district": "Nampula",
                                    "phone": "342709348083",
                                    "city": "Naçala-Porto"
                                },
                                {
                                    "address": "671 Graz Street",
                                    "district": "Oriental",
                                    "phone": "680768868518",
                                    "city": "Nador"
                                },
                                {
                                    "address": "1963 Moscow Place",
                                    "district": "Assam",
                                    "phone": "761379480249",
                                    "city": "Nagaon"
                                },
                                {
                                    "address": "17 Kabul Boulevard",
                                    "district": "Chiba",
                                    "phone": "697760867968",
                                    "city": "Nagareyama"
                                },
                                {
                                    "address": "1922 Miraj Way",
                                    "district": "Esfahan",
                                    "phone": "320471479776",
                                    "city": "Najafabad"
                                },
                                {
                                    "address": "647 A Corua (La Corua) Street",
                                    "district": "Chollanam",
                                    "phone": "792557457753",
                                    "city": "Naju"
                                },
                                {
                                    "address": "1337 Mit Ghamr Avenue",
                                    "district": "Nakhon Sawan",
                                    "phone": "175283210378",
                                    "city": "Nakhon Sawan"
                                },
                                {
                                    "address": "1786 Salinas Place",
                                    "district": "Nam Ha",
                                    "phone": "206060652238",
                                    "city": "Nam Dinh"
                                },
                                {
                                    "address": "368 Hunuco Boulevard",
                                    "district": "Namibe",
                                    "phone": "106439158941",
                                    "city": "Namibe"
                                },
                                {
                                    "address": "53 Idfu Parkway",
                                    "district": "Nantou",
                                    "phone": "10655648674",
                                    "city": "Nantou"
                                },
                                {
                                    "address": "1440 Fukuyama Loop",
                                    "district": "Henan",
                                    "phone": "912257250465",
                                    "city": "Nanyang"
                                },
                                {
                                    "address": "195 Ilorin Street",
                                    "district": "Chari-Baguirmi",
                                    "phone": "8912935608",
                                    "city": "NDjamna"
                                },
                                {
                                    "address": "1766 Almirante Brown Street",
                                    "district": "KwaZulu-Natal",
                                    "phone": "617567598243",
                                    "city": "Newcastle"
                                },
                                {
                                    "address": "1107 Nakhon Sawan Avenue",
                                    "district": "Mxico",
                                    "phone": "867546627903",
                                    "city": "Nezahualcóyotl"
                                },
                                {
                                    "address": "617 Klerksdorp Place",
                                    "district": "Khanh Hoa",
                                    "phone": "574973479129",
                                    "city": "Nha Trang"
                                },
                                {
                                    "address": "909 Garland Manor",
                                    "district": "Tatarstan",
                                    "phone": "705800322606",
                                    "city": "Niznekamsk"
                                },
                                {
                                    "address": "1917 Kumbakonam Parkway",
                                    "district": "Vojvodina",
                                    "phone": "698182547686",
                                    "city": "Novi Sad"
                                },
                                {
                                    "address": "1077 San Felipe de Puerto Plata Place",
                                    "district": "Rostov-na-Donu",
                                    "phone": "812824036424",
                                    "city": "Novotšerkassk"
                                },
                                {
                                    "address": "1516 Escobar Drive",
                                    "district": "Tongatapu",
                                    "phone": "64536069371",
                                    "city": "Nuku´alofa"
                                },
                                {
                                    "address": "850 Salala Loop",
                                    "district": "Kitaa",
                                    "phone": "403404780639",
                                    "city": "Nuuk"
                                },
                                {
                                    "address": "1658 Jastrzebie-Zdrj Loop",
                                    "district": "Central",
                                    "phone": "568367775448",
                                    "city": "Nyeri"
                                },
                                {
                                    "address": "1848 Salala Boulevard",
                                    "district": "Miranda",
                                    "phone": "48265851133",
                                    "city": "Ocumare del Tuy"
                                },
                                {
                                    "address": "556 Baybay Manor",
                                    "district": "Oyo & Osun",
                                    "phone": "363982224739",
                                    "city": "Ogbomosho"
                                },
                                {
                                    "address": "734 Bchar Place",
                                    "district": "Punjab",
                                    "phone": "280578750435",
                                    "city": "Okara"
                                },
                                {
                                    "address": "591 Sungai Petani Drive",
                                    "district": "Okayama",
                                    "phone": "37247325001",
                                    "city": "Okayama"
                                },
                                {
                                    "address": "1565 Tangail Manor",
                                    "district": "Okinawa",
                                    "phone": "634445428822",
                                    "city": "Okinawa"
                                },
                                {
                                    "address": "682 Halisahar Place",
                                    "district": "Severn Morava",
                                    "phone": "475553436330",
                                    "city": "Olomouc"
                                },
                                {
                                    "address": "115 Hidalgo Parkway",
                                    "district": "Khartum",
                                    "phone": "307703950263",
                                    "city": "Omdurman"
                                },
                                {
                                    "address": "1266 Laredo Parkway",
                                    "district": "Saitama",
                                    "phone": "1483365694",
                                    "city": "Omiya"
                                },
                                {
                                    "address": "1367 Yantai Manor",
                                    "district": "Ondo & Ekiti",
                                    "phone": "889538496300",
                                    "city": "Ondo"
                                },
                                {
                                    "address": "124 al-Manama Way",
                                    "district": "Hiroshima",
                                    "phone": "647899404952",
                                    "city": "Onomichi"
                                },
                                {
                                    "address": "891 Novi Sad Manor",
                                    "district": "Ontario",
                                    "phone": "247646995453",
                                    "city": "Oshawa"
                                },
                                {
                                    "address": "270 Amroha Parkway",
                                    "district": "Osmaniye",
                                    "phone": "695479687538",
                                    "city": "Osmaniye"
                                },
                                {
                                    "address": "1336 Benin City Drive",
                                    "district": "Shiga",
                                    "phone": "341242939532",
                                    "city": "Otsu"
                                },
                                {
                                    "address": "898 Jining Lane",
                                    "district": "Pohjois-Pohjanmaa",
                                    "phone": "161643343536",
                                    "city": "Oulu"
                                },
                                {
                                    "address": "1469 Plock Lane",
                                    "district": "Galicia",
                                    "phone": "622884741180",
                                    "city": "Ourense (Orense)"
                                },
                                {
                                    "address": "1006 Santa Brbara dOeste Manor",
                                    "district": "Ondo & Ekiti",
                                    "phone": "85059738746",
                                    "city": "Owo"
                                },
                                {
                                    "address": "786 Stara Zagora Way",
                                    "district": "Oyo & Osun",
                                    "phone": "716256596301",
                                    "city": "Oyo"
                                },
                                {
                                    "address": "1351 Aparecida de Goinia Parkway",
                                    "district": "Northern Mindanao",
                                    "phone": "959834530529",
                                    "city": "Ozamis"
                                },
                                {
                                    "address": "1443 Mardan Street",
                                    "district": "Western Cape",
                                    "phone": "231383037471",
                                    "city": "Paarl"
                                },
                                {
                                    "address": "1698 Southport Loop",
                                    "district": "Hidalgo",
                                    "phone": "754358349853",
                                    "city": "Pachuca de Soto"
                                },
                                {
                                    "address": "1632 Bislig Avenue",
                                    "district": "Nonthaburi",
                                    "phone": "471675840679",
                                    "city": "Pak Kret"
                                },
                                {
                                    "address": "1519 Ilorin Place",
                                    "district": "Kerala",
                                    "phone": "357445645426",
                                    "city": "Palghat (Palakkad)"
                                },
                                {
                                    "address": "1658 Cuman Loop",
                                    "district": "Sumatera Selatan",
                                    "phone": "784907335610",
                                    "city": "Pangkal Pinang"
                                },
                                {
                                    "address": "1668 Saint Louis Place",
                                    "district": "Tahiti",
                                    "phone": "347487831378",
                                    "city": "Papeete"
                                },
                                {
                                    "address": "41 El Alto Parkway",
                                    "district": "Maharashtra",
                                    "phone": "51917807050",
                                    "city": "Parbhani"
                                },
                                {
                                    "address": "1697 Tanauan Lane",
                                    "district": "Punjab",
                                    "phone": "4764773857",
                                    "city": "Pathankot"
                                },
                                {
                                    "address": "951 Stara Zagora Manor",
                                    "district": "Punjab",
                                    "phone": "429925609431",
                                    "city": "Patiala"
                                },
                                {
                                    "address": "1101 Bucuresti Boulevard",
                                    "district": "West Greece",
                                    "phone": "199514580428",
                                    "city": "Patras"
                                },
                                {
                                    "address": "602 Paarl Street",
                                    "district": "Pavlodar",
                                    "phone": "896314772871",
                                    "city": "Pavlodar"
                                },
                                {
                                    "address": "544 Malm Parkway",
                                    "district": "Central Java",
                                    "phone": "386759646229",
                                    "city": "Pemalang"
                                },
                                {
                                    "address": "1980 Kamjanets-Podilskyi Street",
                                    "district": "Illinois",
                                    "phone": "874337098891",
                                    "city": "Peoria"
                                },
                                {
                                    "address": "1410 Benin City Parkway",
                                    "district": "Risaralda",
                                    "phone": "104150372603",
                                    "city": "Pereira"
                                },
                                {
                                    "address": "754 Valencia Place",
                                    "district": "Phnom Penh",
                                    "phone": "594319417514",
                                    "city": "Phnom Penh"
                                },
                                {
                                    "address": "1294 Firozabad Drive",
                                    "district": "Ji´angxi",
                                    "phone": "161801569569",
                                    "city": "Pingxiang"
                                },
                                {
                                    "address": "185 Mannheim Lane",
                                    "district": "Stavropol",
                                    "phone": "589377568313",
                                    "city": "Pjatigorsk"
                                },
                                {
                                    "address": "1501 Pangkal Pinang Avenue",
                                    "district": "Mazowieckie",
                                    "phone": "770864062795",
                                    "city": "Plock"
                                },
                                {
                                    "address": "1666 Qomsheh Drive",
                                    "district": "São Paulo",
                                    "phone": "582835362905",
                                    "city": "Poá"
                                },
                                {
                                    "address": "1338 Zalantun Lane",
                                    "district": "Minas Gerais",
                                    "phone": "840522972766",
                                    "city": "Poços de Caldas"
                                },
                                {
                                    "address": "1405 Chisinau Place",
                                    "district": "Ponce",
                                    "phone": "62781725285",
                                    "city": "Ponce"
                                },
                                {
                                    "address": "1152 al-Qatif Lane",
                                    "district": "Kalimantan Barat",
                                    "phone": "131370665218",
                                    "city": "Pontianak"
                                },
                                {
                                    "address": "816 Cayenne Parkway",
                                    "district": "Manab",
                                    "phone": "282874611748",
                                    "city": "Portoviejo"
                                },
                                {
                                    "address": "154 Oshawa Manor",
                                    "district": "East Java",
                                    "phone": "440365973660",
                                    "city": "Probolinggo"
                                },
                                {
                                    "address": "1661 Abha Drive",
                                    "district": "Tamil Nadu",
                                    "phone": "270456873752",
                                    "city": "Pudukkottai"
                                },
                                {
                                    "address": "943 Johannesburg Avenue",
                                    "district": "Maharashtra",
                                    "phone": "90921003005",
                                    "city": "Pune"
                                },
                                {
                                    "address": "1596 Acua Parkway",
                                    "district": "Jharkhand",
                                    "phone": "157133457169",
                                    "city": "Purnea (Purnia)"
                                },
                                {
                                    "address": "1003 Qinhuangdao Street",
                                    "district": "West Java",
                                    "phone": "35533115997",
                                    "city": "Purwakarta"
                                },
                                {
                                    "address": "1386 Nakhon Sawan Boulevard",
                                    "district": "Pyongyang-si",
                                    "phone": "368899174225",
                                    "city": "Pyongyang"
                                },
                                {
                                    "address": "765 Southampton Drive",
                                    "district": "al-Qalyubiya",
                                    "phone": "23712411567",
                                    "city": "Qalyub"
                                },
                                {
                                    "address": "1246 Boksburg Parkway",
                                    "district": "Hebei",
                                    "phone": "890283544295",
                                    "city": "Qinhuangdao"
                                },
                                {
                                    "address": "76 Kermanshah Manor",
                                    "district": "Esfahan",
                                    "phone": "762361821578",
                                    "city": "Qomsheh"
                                },
                                {
                                    "address": "773 Dallas Manor",
                                    "district": "Buenos Aires",
                                    "phone": "914466027044",
                                    "city": "Quilmes"
                                },
                                {
                                    "address": "936 Salzburg Lane",
                                    "district": "Uttar Pradesh",
                                    "phone": "875756771675",
                                    "city": "Rae Bareli"
                                },
                                {
                                    "address": "1447 Imus Place",
                                    "district": "Gujarat",
                                    "phone": "62127829280",
                                    "city": "Rajkot"
                                },
                                {
                                    "address": "1920 Weifang Avenue",
                                    "district": "Uttar Pradesh",
                                    "phone": "869507847714",
                                    "city": "Rampur"
                                },
                                {
                                    "address": "1872 Toulon Loop",
                                    "district": "OHiggins",
                                    "phone": "928809465153",
                                    "city": "Rancagua"
                                },
                                {
                                    "address": "604 Bern Place",
                                    "district": "Jharkhand",
                                    "phone": "620719383725",
                                    "city": "Ranchi"
                                },
                                {
                                    "address": "432 Garden Grove Street",
                                    "district": "Ontario",
                                    "phone": "615964523510",
                                    "city": "Richmond Hill"
                                },
                                {
                                    "address": "1206 Dos Quebradas Place",
                                    "district": "São Paulo",
                                    "phone": "241832790687",
                                    "city": "Rio Claro"
                                },
                                {
                                    "address": "1954 Kowloon and New Kowloon Way",
                                    "district": "Chimborazo",
                                    "phone": "898559280434",
                                    "city": "Ríobamba"
                                },
                                {
                                    "address": "1060 Tandil Lane",
                                    "district": "Shandong",
                                    "phone": "211256301880",
                                    "city": "Rizhao"
                                },
                                {
                                    "address": "1936 Cuman Avenue",
                                    "district": "Virginia",
                                    "phone": "976798660411",
                                    "city": "Roanoke"
                                },
                                {
                                    "address": "1485 Bratislava Place",
                                    "district": "Illinois",
                                    "phone": "924663855568",
                                    "city": "Rockford"
                                },
                                {
                                    "address": "191 Jos Azueta Parkway",
                                    "district": "Ruse",
                                    "phone": "932156667696",
                                    "city": "Ruse"
                                },
                                {
                                    "address": "1639 Saarbrcken Drive",
                                    "district": "North West",
                                    "phone": "328494873422",
                                    "city": "Rustenburg"
                                },
                                {
                                    "address": "430 Alessandria Loop",
                                    "district": "Saarland",
                                    "phone": "669828224459",
                                    "city": "Saarbrücken"
                                },
                                {
                                    "address": "1542 Tarlac Parkway",
                                    "district": "Kanagawa",
                                    "phone": "635297277345",
                                    "city": "Sagamihara"
                                },
                                {
                                    "address": "1717 Guadalajara Lane",
                                    "district": "Missouri",
                                    "phone": "914090181665",
                                    "city": "Saint Louis"
                                },
                                {
                                    "address": "1952 Pune Lane",
                                    "district": "Saint-Denis",
                                    "phone": "354615066969",
                                    "city": "Saint-Denis"
                                },
                                {
                                    "address": "1416 San Juan Bautista Tuxtepec Avenue",
                                    "district": "Zufar",
                                    "phone": "144206758053",
                                    "city": "Salala"
                                },
                                {
                                    "address": "144 South Hill Loop",
                                    "district": "Guanajuato",
                                    "phone": "45387294817",
                                    "city": "Salamanca"
                                },
                                {
                                    "address": "28 Charlotte Amalie Street",
                                    "district": "Rabat-Sal-Zammour-Z",
                                    "phone": "161968374323",
                                    "city": "Salé"
                                },
                                {
                                    "address": "920 Kumbakonam Loop",
                                    "district": "California",
                                    "phone": "685010736240",
                                    "city": "Salinas"
                                },
                                {
                                    "address": "1587 Loja Manor",
                                    "district": "Salzburg",
                                    "phone": "621625204422",
                                    "city": "Salzburg"
                                },
                                {
                                    "address": "866 Shivapuri Manor",
                                    "district": "Uttar Pradesh",
                                    "phone": "778502731092",
                                    "city": "Sambhal"
                                },
                                {
                                    "address": "1121 Loja Avenue",
                                    "district": "California",
                                    "phone": "838635286649",
                                    "city": "San Bernardino"
                                },
                                {
                                    "address": "437 Chungho Drive",
                                    "district": "Puerto Plata",
                                    "phone": "491271355190",
                                    "city": "San Felipe de Puerto Plata"
                                },
                                {
                                    "address": "1145 Vilnius Manor",
                                    "district": "Mxico",
                                    "phone": "674805712553",
                                    "city": "San Felipe del Progreso"
                                },
                                {
                                    "address": "355 Vitria de Santo Anto Way",
                                    "district": "Oaxaca",
                                    "phone": "548003849552",
                                    "city": "San Juan Bautista Tuxtepec"
                                },
                                {
                                    "address": "1628 Nagareyama Lane",
                                    "district": "Central",
                                    "phone": "20064292617",
                                    "city": "San Lorenzo"
                                },
                                {
                                    "address": "1483 Pathankot Street",
                                    "district": "Tucumn",
                                    "phone": "686015532180",
                                    "city": "San Miguel de Tucumán"
                                },
                                {
                                    "address": "687 Alessandria Parkway",
                                    "district": "Sanaa",
                                    "phone": "407218522294",
                                    "city": "Sanaa"
                                },
                                {
                                    "address": "1891 Rizhao Boulevard",
                                    "district": "São Paulo",
                                    "phone": "391065549876",
                                    "city": "Santa Brbara dOeste"
                                },
                                {
                                    "address": "430 Kumbakonam Drive",
                                    "district": "Santa Fé",
                                    "phone": "105470691550",
                                    "city": "Santa Fé"
                                },
                                {
                                    "address": "1176 Southend-on-Sea Manor",
                                    "district": "Southern Tagalog",
                                    "phone": "236679267178",
                                    "city": "Santa Rosa"
                                },
                                {
                                    "address": "1764 Jalib al-Shuyukh Parkway",
                                    "district": "Galicia",
                                    "phone": "84794532510",
                                    "city": "Santiago de Compostela"
                                },
                                {
                                    "address": "532 Toulon Street",
                                    "district": "Santiago",
                                    "phone": "46871694740",
                                    "city": "Santiago de los Caballeros"
                                },
                                {
                                    "address": "519 Nyeri Manor",
                                    "district": "São Paulo",
                                    "phone": "764680915323",
                                    "city": "Santo André"
                                },
                                {
                                    "address": "390 Wroclaw Way",
                                    "district": "Hainan",
                                    "phone": "357593328658",
                                    "city": "Sanya"
                                },
                                {
                                    "address": "1715 Okayama Street",
                                    "district": "São Paulo",
                                    "phone": "169352919175",
                                    "city": "São Bernardo do Campo"
                                },
                                {
                                    "address": "614 Denizli Parkway",
                                    "district": "Rio Grande do Sul",
                                    "phone": "876491807547",
                                    "city": "São Leopoldo"
                                },
                                {
                                    "address": "1913 Hanoi Way",
                                    "district": "Nagasaki",
                                    "phone": "28303384290",
                                    "city": "Sasebo"
                                },
                                {
                                    "address": "45 Aparecida de Goinia Place",
                                    "district": "Madhya Pradesh",
                                    "phone": "650496654258",
                                    "city": "Satna"
                                },
                                {
                                    "address": "1727 Matamoros Place",
                                    "district": "Sawhaj",
                                    "phone": "129673677866",
                                    "city": "Sawhaj"
                                },
                                {
                                    "address": "1407 Surakarta Manor",
                                    "district": "Moskova",
                                    "phone": "324346485054",
                                    "city": "Serpuhov"
                                },
                                {
                                    "address": "927 Barcelona Street",
                                    "district": "Chaharmahal va Bakht",
                                    "phone": "951486492670",
                                    "city": "Shahr-e Kord"
                                },
                                {
                                    "address": "1269 Botosani Manor",
                                    "district": "Guangdong",
                                    "phone": "736517327853",
                                    "city": "Shanwei"
                                },
                                {
                                    "address": "1909 Dayton Avenue",
                                    "district": "Guangdong",
                                    "phone": "702955450528",
                                    "city": "Shaoguan"
                                },
                                {
                                    "address": "1192 Tongliao Street",
                                    "district": "Sharja",
                                    "phone": "350970907017",
                                    "city": "Sharja"
                                },
                                {
                                    "address": "686 Donostia-San Sebastin Lane",
                                    "district": "Guangdong",
                                    "phone": "71857599858",
                                    "city": "Shenzhen"
                                },
                                {
                                    "address": "934 San Felipe de Puerto Plata Street",
                                    "district": "Sind",
                                    "phone": "196495945706",
                                    "city": "Shikarpur"
                                },
                                {
                                    "address": "1964 Gijn Manor",
                                    "district": "Karnataka",
                                    "phone": "918119601885",
                                    "city": "Shimoga"
                                },
                                {
                                    "address": "786 Aurora Avenue",
                                    "district": "Yamaguchi",
                                    "phone": "18461860151",
                                    "city": "Shimonoseki"
                                },
                                {
                                    "address": "57 Arlington Manor",
                                    "district": "Madhya Pradesh",
                                    "phone": "990214419142",
                                    "city": "Shivapuri"
                                },
                                {
                                    "address": "1987 Coacalco de Berriozbal Loop",
                                    "district": "al-Qalyubiya",
                                    "phone": "787654415858",
                                    "city": "Shubra al-Khayma"
                                },
                                {
                                    "address": "1792 Valle de la Pascua Place",
                                    "district": "Nordrhein-Westfalen",
                                    "phone": "419419591240",
                                    "city": "Siegen"
                                },
                                {
                                    "address": "1197 Sokoto Boulevard",
                                    "district": "West Bengali",
                                    "phone": "868602816371",
                                    "city": "Siliguri (Shiliguri)"
                                },
                                {
                                    "address": "927 Baha Blanca Parkway",
                                    "district": "Krim",
                                    "phone": "821972242086",
                                    "city": "Simferopol"
                                },
                                {
                                    "address": "1740 Portoviejo Avenue",
                                    "district": "Sucre",
                                    "phone": "198123170793",
                                    "city": "Sincelejo"
                                },
                                {
                                    "address": "956 Nam Dinh Manor",
                                    "district": "Kerman",
                                    "phone": "474047727727",
                                    "city": "Sirjan"
                                },
                                {
                                    "address": "680 A Corua (La Corua) Manor",
                                    "district": "Sivas",
                                    "phone": "158326114853",
                                    "city": "Sivas"
                                },
                                {
                                    "address": "757 Rustenburg Avenue",
                                    "district": "Skikda",
                                    "phone": "506134035434",
                                    "city": "Skikda"
                                },
                                {
                                    "address": "801 Hagonoy Drive",
                                    "district": "Smolensk",
                                    "phone": "237426099212",
                                    "city": "Smolensk"
                                },
                                {
                                    "address": "656 Matamoros Drive",
                                    "district": "Boyac",
                                    "phone": "17305839123",
                                    "city": "Sogamoso"
                                },
                                {
                                    "address": "1342 Sharja Way",
                                    "district": "Sokoto & Kebbi & Zam",
                                    "phone": "946114054231",
                                    "city": "Sokoto"
                                },
                                {
                                    "address": "870 Ashqelon Loop",
                                    "district": "Songkhla",
                                    "phone": "135117278909",
                                    "city": "Songkhla"
                                },
                                {
                                    "address": "1957 Yantai Lane",
                                    "district": "São Paulo",
                                    "phone": "704948322302",
                                    "city": "Sorocaba"
                                },
                                {
                                    "address": "999 Sanaa Loop",
                                    "district": "Gauteng",
                                    "phone": "918032330119",
                                    "city": "Soshanguve"
                                },
                                {
                                    "address": "421 Yaound Street",
                                    "district": "Sumy",
                                    "phone": "726875628268",
                                    "city": "Šostka"
                                },
                                {
                                    "address": "507 Smolensk Loop",
                                    "district": "Sousse",
                                    "phone": "80303246192",
                                    "city": "Sousse"
                                },
                                {
                                    "address": "1368 Maracabo Boulevard",
                                    "district": "",
                                    "phone": "934352415130",
                                    "city": "South Hill"
                                },
                                {
                                    "address": "1584 Ljubertsy Lane",
                                    "district": "England",
                                    "phone": "285710089439",
                                    "city": "Southampton"
                                },
                                {
                                    "address": "360 Toulouse Parkway",
                                    "district": "England",
                                    "phone": "949312333307",
                                    "city": "Southend-on-Sea"
                                },
                                {
                                    "address": "869 Shikarpur Way",
                                    "district": "England",
                                    "phone": "590764256785",
                                    "city": "Southport"
                                },
                                {
                                    "address": "929 Tallahassee Loop",
                                    "district": "Gauteng",
                                    "phone": "800716535041",
                                    "city": "Springs"
                                },
                                {
                                    "address": "1229 Valencia Parkway",
                                    "district": "Haskovo",
                                    "phone": "352679173732",
                                    "city": "Stara Zagora"
                                },
                                {
                                    "address": "879 Newcastle Way",
                                    "district": "Michigan",
                                    "phone": "206841104594",
                                    "city": "Sterling Heights"
                                },
                                {
                                    "address": "808 Naala-Porto Parkway",
                                    "district": "England",
                                    "phone": "553452430707",
                                    "city": "Stockport"
                                },
                                {
                                    "address": "287 Cuautla Boulevard",
                                    "district": "Chuquisaca",
                                    "phone": "82619513349",
                                    "city": "Sucre"
                                },
                                {
                                    "address": "1574 Goinia Boulevard",
                                    "district": "Heilongjiang",
                                    "phone": "59634255214",
                                    "city": "Suihua"
                                },
                                {
                                    "address": "1103 Quilmes Boulevard",
                                    "district": "Piura",
                                    "phone": "644021380889",
                                    "city": "Sullana"
                                },
                                {
                                    "address": "319 Plock Parkway",
                                    "district": "Istanbul",
                                    "phone": "854259976812",
                                    "city": "Sultanbeyli"
                                },
                                {
                                    "address": "503 Sogamoso Loop",
                                    "district": "Sumqayit",
                                    "phone": "834626715837",
                                    "city": "Sumqayit"
                                },
                                {
                                    "address": "140 Chiayi Parkway",
                                    "district": "Sumy",
                                    "phone": "855863906434",
                                    "city": "Sumy"
                                },
                                {
                                    "address": "715 So Bernardo do Campo Lane",
                                    "district": "Kedah",
                                    "phone": "181179321332",
                                    "city": "Sungai Petani"
                                },
                                {
                                    "address": "226 Brest Manor",
                                    "district": "California",
                                    "phone": "785881412500",
                                    "city": "Sunnyvale"
                                },
                                {
                                    "address": "1947 Paarl Way",
                                    "district": "Central Java",
                                    "phone": "834061016202",
                                    "city": "Surakarta"
                                },
                                {
                                    "address": "1823 Hoshiarpur Lane",
                                    "district": "Komi",
                                    "phone": "307133768620",
                                    "city": "Syktyvkar"
                                },
                                {
                                    "address": "1926 Gingoog Street",
                                    "district": "Sisilia",
                                    "phone": "469738825391",
                                    "city": "Syrakusa"
                                },
                                {
                                    "address": "42 Fontana Avenue",
                                    "district": "Fejr",
                                    "phone": "437829801725",
                                    "city": "Székesfehérvár"
                                },
                                {
                                    "address": "605 Rio Claro Parkway",
                                    "district": "Tabora",
                                    "phone": "352469351088",
                                    "city": "Tabora"
                                },
                                {
                                    "address": "600 Bradford Street",
                                    "district": "East Azerbaidzan",
                                    "phone": "117592274996",
                                    "city": "Tabriz"
                                },
                                {
                                    "address": "780 Kimberley Way",
                                    "district": "Tabuk",
                                    "phone": "824396883951",
                                    "city": "Tabuk"
                                },
                                {
                                    "address": "1892 Nabereznyje Telny Lane",
                                    "district": "Tutuila",
                                    "phone": "478229987054",
                                    "city": "Tafuna"
                                },
                                {
                                    "address": "89 Allappuzha (Alleppey) Manor",
                                    "district": "National Capital Reg",
                                    "phone": "255800440636",
                                    "city": "Taguig"
                                },
                                {
                                    "address": "1001 Miyakonojo Lane",
                                    "district": "Taizz",
                                    "phone": "584316724815",
                                    "city": "Taizz"
                                },
                                {
                                    "address": "48 Maracabo Place",
                                    "district": "Central Luzon",
                                    "phone": "82671830126",
                                    "city": "Talavera"
                                },
                                {
                                    "address": "1309 Weifang Street",
                                    "district": "Florida",
                                    "phone": "435785045362",
                                    "city": "Tallahassee"
                                },
                                {
                                    "address": "102 Chapra Drive",
                                    "district": "Ibaragi",
                                    "phone": "776031833752",
                                    "city": "Tama"
                                },
                                {
                                    "address": "1993 Tabuk Lane",
                                    "district": "Tamil Nadu",
                                    "phone": "648482415405",
                                    "city": "Tambaram"
                                },
                                {
                                    "address": "1191 Tandil Drive",
                                    "district": "Southern Tagalog",
                                    "phone": "45554316010",
                                    "city": "Tanauan"
                                },
                                {
                                    "address": "88 Nagaon Manor",
                                    "district": "Buenos Aires",
                                    "phone": "779461480495",
                                    "city": "Tandil"
                                },
                                {
                                    "address": "262 A Corua (La Corua) Parkway",
                                    "district": "Dhaka",
                                    "phone": "892775750063",
                                    "city": "Tangail"
                                },
                                {
                                    "address": "1489 Kakamigahara Lane",
                                    "district": "Taipei",
                                    "phone": "29341849811",
                                    "city": "Tanshui"
                                },
                                {
                                    "address": "1479 Rustenburg Boulevard",
                                    "district": "Southern Tagalog",
                                    "phone": "727785483194",
                                    "city": "Tanza"
                                },
                                {
                                    "address": "947 Trshavn Place",
                                    "district": "Central Luzon",
                                    "phone": "50898428626",
                                    "city": "Tarlac"
                                },
                                {
                                    "address": "842 Salzburg Lane",
                                    "district": "Adana",
                                    "phone": "697151428760",
                                    "city": "Tarsus"
                                },
                                {
                                    "address": "1289 Belm Boulevard",
                                    "district": "Tartumaa",
                                    "phone": "237368926031",
                                    "city": "Tartu"
                                },
                                {
                                    "address": "935 Aden Boulevard",
                                    "district": "Central Java",
                                    "phone": "335052544020",
                                    "city": "Tegal"
                                },
                                {
                                    "address": "97 Shimoga Avenue",
                                    "district": "Tel Aviv",
                                    "phone": "177167004331",
                                    "city": "Tel Aviv-Jaffa"
                                },
                                {
                                    "address": "1599 Plock Drive",
                                    "district": "Tete",
                                    "phone": "817248913162",
                                    "city": "Tete"
                                },
                                {
                                    "address": "1760 Oshawa Manor",
                                    "district": "Tianjin",
                                    "phone": "56257502250",
                                    "city": "Tianjin"
                                },
                                {
                                    "address": "1908 Gaziantep Place",
                                    "district": "Liaoning",
                                    "phone": "108053751300",
                                    "city": "Tiefa"
                                },
                                {
                                    "address": "1325 Fukuyama Street",
                                    "district": "Heilongjiang",
                                    "phone": "288241215394",
                                    "city": "Tieli"
                                },
                                {
                                    "address": "539 Hami Way",
                                    "district": "Tokat",
                                    "phone": "525518075499",
                                    "city": "Tokat"
                                },
                                {
                                    "address": "193 Bhusawal Place",
                                    "district": "Kang-won",
                                    "phone": "745267607502",
                                    "city": "Tonghae"
                                },
                                {
                                    "address": "105 Dzerzinsk Manor",
                                    "district": "Inner Mongolia",
                                    "phone": "240776414296",
                                    "city": "Tongliao"
                                },
                                {
                                    "address": "261 Saint Louis Way",
                                    "district": "Coahuila de Zaragoza",
                                    "phone": "321944036800",
                                    "city": "Torreón"
                                },
                                {
                                    "address": "1359 Zhoushan Parkway",
                                    "district": "Streymoyar",
                                    "phone": "46568045367",
                                    "city": "Tórshavn"
                                },
                                {
                                    "address": "1029 Dzerzinsk Manor",
                                    "district": "Ynlin",
                                    "phone": "33173584456",
                                    "city": "Touliu"
                                },
                                {
                                    "address": "1386 Yangor Avenue",
                                    "district": "Provence-Alpes-Cte",
                                    "phone": "449216226468",
                                    "city": "Toulon"
                                },
                                {
                                    "address": "391 Callao Drive",
                                    "district": "Midi-Pyrnes",
                                    "phone": "440512153169",
                                    "city": "Toulouse"
                                },
                                {
                                    "address": "1923 Stara Zagora Lane",
                                    "district": "Nantou",
                                    "phone": "182178609211",
                                    "city": "Tsaotun"
                                },
                                {
                                    "address": "469 Nakhon Sawan Street",
                                    "district": "Tuvassia",
                                    "phone": "689199636560",
                                    "city": "Tšeboksary"
                                },
                                {
                                    "address": "1404 Taguig Drive",
                                    "district": "Okayama",
                                    "phone": "572068624538",
                                    "city": "Tsuyama"
                                },
                                {
                                    "address": "862 Xintai Lane",
                                    "district": "Cagayan Valley",
                                    "phone": "265153400632",
                                    "city": "Tuguegarao"
                                },
                                {
                                    "address": "1642 Charlotte Amalie Drive",
                                    "district": "Slaskie",
                                    "phone": "821476736117",
                                    "city": "Tychy"
                                },
                                {
                                    "address": "1877 Ezhou Lane",
                                    "district": "Rajasthan",
                                    "phone": "264541743403",
                                    "city": "Udaipur"
                                },
                                {
                                    "address": "1986 Sivas Place",
                                    "district": "Friuli-Venezia Giuli",
                                    "phone": "182059202712",
                                    "city": "Udine"
                                },
                                {
                                    "address": "496 Celaya Drive",
                                    "district": "Nagano",
                                    "phone": "759586584889",
                                    "city": "Ueda"
                                },
                                {
                                    "address": "300 Junan Street",
                                    "district": "Kyonggi",
                                    "phone": "890289150158",
                                    "city": "Uijongbu"
                                },
                                {
                                    "address": "1704 Tambaram Manor",
                                    "district": "West Bengali",
                                    "phone": "39463554936",
                                    "city": "Uluberia"
                                },
                                {
                                    "address": "1337 Lincoln Parkway",
                                    "district": "Saitama",
                                    "phone": "597815221267",
                                    "city": "Urawa"
                                },
                                {
                                    "address": "251 Florencia Drive",
                                    "district": "Michoacn de Ocampo",
                                    "phone": "118011831565",
                                    "city": "Uruapan"
                                },
                                {
                                    "address": "1215 Pyongyang Parkway",
                                    "district": "Usak",
                                    "phone": "646237101779",
                                    "city": "Usak"
                                },
                                {
                                    "address": "1621 Tongliao Avenue",
                                    "district": "Irkutsk",
                                    "phone": "209342540247",
                                    "city": "Usolje-Sibirskoje"
                                },
                                {
                                    "address": "954 Kimchon Place",
                                    "district": "West Bengali",
                                    "phone": "541327526474",
                                    "city": "Uttarpara-Kotrung"
                                },
                                {
                                    "address": "943 Tokat Street",
                                    "district": "Vaduz",
                                    "phone": "889318963672",
                                    "city": "Vaduz"
                                },
                                {
                                    "address": "163 Augusta-Richmond County Loop",
                                    "district": "Carabobo",
                                    "phone": "754579047924",
                                    "city": "Valencia"
                                },
                                {
                                    "address": "544 Tarsus Boulevard",
                                    "district": "Gurico",
                                    "phone": "892523334",
                                    "city": "Valle de la Pascua"
                                },
                                {
                                    "address": "86 Higashiosaka Lane",
                                    "district": "Guanajuato",
                                    "phone": "957128697225",
                                    "city": "Valle de Santiago"
                                },
                                {
                                    "address": "990 Etawah Loop",
                                    "district": "Tamil Nadu",
                                    "phone": "206169448769",
                                    "city": "Valparai"
                                },
                                {
                                    "address": "983 Santa F Way",
                                    "district": "British Colombia",
                                    "phone": "145720452260",
                                    "city": "Vancouver"
                                },
                                {
                                    "address": "117 Boa Vista Way",
                                    "district": "Uttar Pradesh",
                                    "phone": "677976133614",
                                    "city": "Varanasi (Benares)"
                                },
                                {
                                    "address": "1244 Allappuzha (Alleppey) Place",
                                    "district": "Buenos Aires",
                                    "phone": "991802825778",
                                    "city": "Vicente López"
                                },
                                {
                                    "address": "758 Korolev Parkway",
                                    "district": "Andhra Pradesh",
                                    "phone": "441628280920",
                                    "city": "Vijayawada"
                                },
                                {
                                    "address": "306 Antofagasta Place",
                                    "district": "Esprito Santo",
                                    "phone": "378318851631",
                                    "city": "Vila Velha"
                                },
                                {
                                    "address": "1059 Yuncheng Avenue",
                                    "district": "Vilna",
                                    "phone": "107092893983",
                                    "city": "Vilnius"
                                },
                                {
                                    "address": "600 Purnea (Purnia) Avenue",
                                    "district": "Nghe An",
                                    "phone": "638409958875",
                                    "city": "Vinh"
                                },
                                {
                                    "address": "1133 Rizhao Avenue",
                                    "district": "Pernambuco",
                                    "phone": "600264533987",
                                    "city": "Vitória de Santo Antão"
                                },
                                {
                                    "address": "1944 Bamenda Way",
                                    "district": "Michigan",
                                    "phone": "75975221996",
                                    "city": "Warren"
                                },
                                {
                                    "address": "1464 Kursk Parkway",
                                    "district": "Shandong",
                                    "phone": "338758048786",
                                    "city": "Weifang"
                                },
                                {
                                    "address": "68 Molodetno Manor",
                                    "district": "Nordrhein-Westfalen",
                                    "phone": "146640639760",
                                    "city": "Witten"
                                },
                                {
                                    "address": "1411 Lillydale Drive",
                                    "district": "QLD",
                                    "phone": "6172235589",
                                    "city": "Woodridge"
                                },
                                {
                                    "address": "28 MySQL Boulevard",
                                    "district": "QLD",
                                    "phone": "",
                                    "city": "Woodridge"
                                },
                                {
                                    "address": "505 Madiun Boulevard",
                                    "district": "Dolnoslaskie",
                                    "phone": "970638808606",
                                    "city": "Wroclaw"
                                },
                                {
                                    "address": "1103 Bilbays Parkway",
                                    "district": "Hubei",
                                    "phone": "279979529227",
                                    "city": "Xi´angfan"
                                },
                                {
                                    "address": "1586 Guaruj Place",
                                    "district": "Hunan",
                                    "phone": "947233365992",
                                    "city": "Xi´angtan"
                                },
                                {
                                    "address": "415 Pune Avenue",
                                    "district": "Shandong",
                                    "phone": "203202500108",
                                    "city": "Xintai"
                                },
                                {
                                    "address": "1909 Benguela Lane",
                                    "district": "Henan",
                                    "phone": "624138001031",
                                    "city": "Xinxiang"
                                },
                                {
                                    "address": "808 Bhopal Manor",
                                    "district": "Haryana",
                                    "phone": "465887807014",
                                    "city": "Yamuna Nagar"
                                },
                                {
                                    "address": "962 Tama Loop",
                                    "district": "",
                                    "phone": "282667506728",
                                    "city": "Yangor"
                                },
                                {
                                    "address": "85 San Felipe de Puerto Plata Drive",
                                    "district": "Shandong",
                                    "phone": "170739645687",
                                    "city": "Yantai"
                                },
                                {
                                    "address": "114 Jalib al-Shuyukh Manor",
                                    "district": "Centre",
                                    "phone": "845378657301",
                                    "city": "Yaoundé"
                                },
                                {
                                    "address": "42 Brindisi Place",
                                    "district": "Yerevan",
                                    "phone": "42384721397",
                                    "city": "Yerevan"
                                },
                                {
                                    "address": "1297 Alvorada Parkway",
                                    "district": "Ningxia",
                                    "phone": "508348602835",
                                    "city": "Yinchuan"
                                },
                                {
                                    "address": "1993 0 Loop",
                                    "district": "Liaoning",
                                    "phone": "25865528181",
                                    "city": "Yingkou"
                                },
                                {
                                    "address": "1515 Korla Way",
                                    "district": "England",
                                    "phone": "959467760895",
                                    "city": "York"
                                },
                                {
                                    "address": "798 Cianjur Avenue",
                                    "district": "Shanxi",
                                    "phone": "499408708580",
                                    "city": "Yuncheng"
                                },
                                {
                                    "address": "867 Benin City Avenue",
                                    "district": "Henan",
                                    "phone": "168884817145",
                                    "city": "Yuzhou"
                                },
                                {
                                    "address": "832 Nakhon Sawan Manor",
                                    "district": "Inner Mongolia",
                                    "phone": "275595571388",
                                    "city": "Zalantun"
                                },
                                {
                                    "address": "1842 Luzinia Boulevard",
                                    "district": "Zanzibar West",
                                    "phone": "706878974831",
                                    "city": "Zanzibar"
                                },
                                {
                                    "address": "1778 Gijn Manor",
                                    "district": "Hubei",
                                    "phone": "288910576761",
                                    "city": "Zaoyang"
                                },
                                {
                                    "address": "1088 Ibirit Place",
                                    "district": "Jalisco",
                                    "phone": "49084281333",
                                    "city": "Zapopan"
                                },
                                {
                                    "address": "885 Yingkou Manor",
                                    "district": "Kaduna",
                                    "phone": "588964509072",
                                    "city": "Zaria"
                                },
                                {
                                    "address": "1378 Beira Loop",
                                    "district": "Krasnojarsk",
                                    "phone": "840957664136",
                                    "city": "Zeleznogorsk"
                                },
                                {
                                    "address": "521 San Juan Bautista Tuxtepec Place",
                                    "district": "Qaraghandy",
                                    "phone": "844018348565",
                                    "city": "Zhezqazghan"
                                },
                                {
                                    "address": "346 Cam Ranh Avenue",
                                    "district": "Zhejiang",
                                    "phone": "978430786151",
                                    "city": "Zhoushan"
                                },
                                {
                                    "address": "1889 Valparai Way",
                                    "district": "Ziguinchor",
                                    "phone": "670370974122",
                                    "city": "Ziguinchor"
                                }
                            ]
                        },
                        "text/html": [
                            "<table>",
                            "<tr><th>address</th><th>district</th><th>phone</th><th>city</th></tr>",
                            "<tr><td>741 Ambattur Manor</td><td>Noord-Brabant</td><td>302590383819</td><td>´s-Hertogenbosch</td></tr>",
                            "<tr><td>939 Probolinggo Loop</td><td>Galicia</td><td>680428310138</td><td>A Coruña (La Coruña)</td></tr>",
                            "<tr><td>733 Mandaluyong Place</td><td>Asir</td><td>196568435814</td><td>Abha</td></tr>",
                            "<tr><td>535 Ahmadnagar Manor</td><td>Abu Dhabi</td><td>985109775584</td><td>Abu Dhabi</td></tr>",
                            "<tr><td>1789 Saint-Denis Parkway</td><td>Coahuila de Zaragoza</td><td>936806643983</td><td>Acuña</td></tr>",
                            "<tr><td>663 Baha Blanca Parkway</td><td>Adana</td><td>834418779292</td><td>Adana</td></tr>",
                            "<tr><td>614 Pak Kret Street</td><td>Addis Abeba</td><td>47808359842</td><td>Addis Abeba</td></tr>",
                            "<tr><td>751 Lima Loop</td><td>Aden</td><td>756460337785</td><td>Aden</td></tr>",
                            "<tr><td>230 Urawa Drive</td><td>Andhra Pradesh</td><td>166898395731</td><td>Adoni</td></tr>",
                            "<tr><td>758 Junan Lane</td><td>Gois</td><td>935448624185</td><td>Águas Lindas de Goiás</td></tr>",
                            "<tr><td>922 Vila Velha Loop</td><td>Maharashtra</td><td>510737228015</td><td>Ahmadnagar</td></tr>",
                            "<tr><td>923 Tangail Boulevard</td><td>Tokyo-to</td><td>315528269898</td><td>Akishima</td></tr>",
                            "<tr><td>98 Pyongyang Boulevard</td><td>Ohio</td><td>191958435142</td><td>Akron</td></tr>",
                            "<tr><td>669 Firozabad Loop</td><td>Abu Dhabi</td><td>412903167998</td><td>al-Ayn</td></tr>",
                            "<tr><td>1124 Buenaventura Drive</td><td>Mekka</td><td>407733804223</td><td>al-Hawiya</td></tr>",
                            "<tr><td>1759 Niznekamsk Avenue</td><td>al-Manama</td><td>864392582257</td><td>al-Manama</td></tr>",
                            "<tr><td>1152 Citrus Heights Manor</td><td>al-Qadarif</td><td>765957414528</td><td>al-Qadarif</td></tr>",
                            "<tr><td>289 Santo Andr Manor</td><td>al-Sharqiya</td><td>214976066017</td><td>al-Qatif</td></tr>",
                            "<tr><td>127 Purnea (Purnia) Manor</td><td>Piemonte</td><td>911872220378</td><td>Alessandria</td></tr>",
                            "<tr><td>431 Xi´angtan Avenue</td><td>Kerala</td><td>230250973122</td><td>Allappuzha (Alleppey)</td></tr>",
                            "<tr><td>397 Sunnyvale Avenue</td><td>Guanajuato</td><td>680851640676</td><td>Allende</td></tr>",
                            "<tr><td>1623 Kingstown Drive</td><td>Buenos Aires</td><td>296394569728</td><td>Almirante Brown</td></tr>",
                            "<tr><td>1407 Pachuca de Soto Place</td><td>Rio Grande do Sul</td><td>380077794770</td><td>Alvorada</td></tr>",
                            "<tr><td>1014 Loja Manor</td><td>Tamil Nadu</td><td>460795526514</td><td>Ambattur</td></tr>",
                            "<tr><td>992 Klerksdorp Loop</td><td>Utrecht</td><td>855290087237</td><td>Amersfoort</td></tr>",
                            "<tr><td>949 Allende Lane</td><td>Uttar Pradesh</td><td>122981120653</td><td>Amroha</td></tr>",
                            "<tr><td>356 Olomouc Manor</td><td>Gois</td><td>22326410776</td><td>Anápolis</td></tr>",
                            "<tr><td>1354 Siegen Street</td><td>Rio de Janeiro</td><td>573441801529</td><td>Angra dos Reis</td></tr>",
                            "<tr><td>1718 Valencia Street</td><td>Antofagasta</td><td>675292816413</td><td>Antofagasta</td></tr>",
                            "<tr><td>1201 Qomsheh Manor</td><td>Gois</td><td>873492228462</td><td>Aparecida de Goiânia</td></tr>",
                            "<tr><td>1749 Daxian Place</td><td>Gelderland</td><td>963369996279</td><td>Apeldoorn</td></tr>",
                            "<tr><td>1692 Ede Loop</td><td>São Paulo</td><td>918711376618</td><td>Araçatuba</td></tr>",
                            "<tr><td>334 Munger (Monghyr) Lane</td><td>Markazi</td><td>481183273622</td><td>Arak</td></tr>",
                            "<tr><td>1009 Zanzibar Lane</td><td>Arecibo</td><td>102396298916</td><td>Arecibo</td></tr>",
                            "<tr><td>913 Coacalco de Berriozbal Loop</td><td>Texas</td><td>262088367001</td><td>Arlington</td></tr>",
                            "<tr><td>659 Vaduz Drive</td><td>Ha Darom</td><td>709935135487</td><td>Ashdod</td></tr>",
                            "<tr><td>387 Mwene-Ditu Drive</td><td>Ahal</td><td>764477681869</td><td>Ashgabat</td></tr>",
                            "<tr><td>632 Usolje-Sibirskoje Parkway</td><td>Ha Darom</td><td>667648979883</td><td>Ashqelon</td></tr>",
                            "<tr><td>201 Effon-Alaiye Way</td><td>Asunción</td><td>684192903087</td><td>Asunción</td></tr>",
                            "<tr><td>692 Joliet Street</td><td>Attika</td><td>448477190408</td><td>Athenai</td></tr>",
                            "<tr><td>125 Citt del Vaticano Boulevard</td><td>Puebla</td><td>48417642933</td><td>Atlixco</td></tr>",
                            "<tr><td>616 Hagonoy Avenue</td><td>Krasnojarsk</td><td>604177838256</td><td>Atšinsk</td></tr>",
                            "<tr><td>1308 Arecibo Way</td><td>Georgia</td><td>6171054059</td><td>Augusta-Richmond County</td></tr>",
                            "<tr><td>587 Benguela Manor</td><td>Illinois</td><td>165450987037</td><td>Aurora</td></tr>",
                            "<tr><td>43 Vilnius Manor</td><td>Colorado</td><td>484500282381</td><td>Aurora</td></tr>",
                            "<tr><td>1229 Varanasi (Benares) Manor</td><td>Buenos Aires</td><td>817740355461</td><td>Avellaneda</td></tr>",
                            "<tr><td>1190 0 Place</td><td>Rio Grande do Sul</td><td>841876514789</td><td>Bagé</td></tr>",
                            "<tr><td>1427 A Corua (La Corua) Place</td><td>Buenos Aires</td><td>972574862516</td><td>Bahía Blanca</td></tr>",
                            "<tr><td>183 Haiphong Street</td><td>Jilin</td><td>488600270038</td><td>Baicheng</td></tr>",
                            "<tr><td>362 Rajkot Lane</td><td>Gansu</td><td>962020153680</td><td>Baiyin</td></tr>",
                            "<tr><td>431 Szkesfehrvr Avenue</td><td>Baki</td><td>119501405123</td><td>Baku</td></tr>",
                            "<tr><td>1697 Kowloon and New Kowloon Loop</td><td>Moskova</td><td>499352017190</td><td>Balašiha</td></tr>",
                            "<tr><td>1912 Emeishan Drive</td><td>Balikesir</td><td>99883471275</td><td>Balikesir</td></tr>",
                            "<tr><td>624 Oshawa Boulevard</td><td>West Bengali</td><td>49677664184</td><td>Balurghat</td></tr>",
                            "<tr><td>1641 Changhwa Place</td><td>Nord-Ouest</td><td>256546485220</td><td>Bamenda</td></tr>",
                            "<tr><td>1370 Le Mans Avenue</td><td>Brunei and Muara</td><td>345679835036</td><td>Bandar Seri Begawan</td></tr>",
                            "<tr><td>247 Jining Parkway</td><td>Banjul</td><td>170115379190</td><td>Banjul</td></tr>",
                            "<tr><td>502 Mandi Bahauddin Parkway</td><td>Anzotegui</td><td>618156722572</td><td>Barcelona</td></tr>",
                            "<tr><td>915 Ponce Place</td><td>Basel-Stadt</td><td>1395251317</td><td>Basel</td></tr>",
                            "<tr><td>1542 Lubumbashi Boulevard</td><td>Tel Aviv</td><td>508800331065</td><td>Bat Yam</td></tr>",
                            "<tr><td>29 Pyongyang Loop</td><td>Batman</td><td>734780743462</td><td>Batman</td></tr>",
                            "<tr><td>1924 Shimonoseki Drive</td><td>Batna</td><td>406784385440</td><td>Batna</td></tr>",
                            "<tr><td>1768 Udine Loop</td><td>Battambang</td><td>448876499197</td><td>Battambang</td></tr>",
                            "<tr><td>492 Cam Ranh Street</td><td>Eastern Visayas</td><td>565018274456</td><td>Baybay</td></tr>",
                            "<tr><td>1166 Changhwa Street</td><td>Caraga</td><td>650752094490</td><td>Bayugan</td></tr>",
                            "<tr><td>1031 Daugavpils Parkway</td><td>Béchar</td><td>107137400143</td><td>Béchar</td></tr>",
                            "<tr><td>771 Yaound Manor</td><td>Sofala</td><td>245477603573</td><td>Beira</td></tr>",
                            "<tr><td>1163 London Parkway</td><td>Par</td><td>675120358494</td><td>Belém</td></tr>",
                            "<tr><td>660 Jedda Boulevard</td><td>Washington</td><td>168758068397</td><td>Bellevue</td></tr>",
                            "<tr><td>486 Ondo Parkway</td><td>Benguela</td><td>105882218332</td><td>Benguela</td></tr>",
                            "<tr><td>454 Qinhuangdao Drive</td><td>Tadla-Azilal</td><td>786270036240</td><td>Beni-Mellal</td></tr>",
                            "<tr><td>1279 Udine Parkway</td><td>Edo &amp; Delta</td><td>195003555232</td><td>Benin City</td></tr>",
                            "<tr><td>231 Kaliningrad Place</td><td>Lombardia</td><td>575081026569</td><td>Bergamo</td></tr>",
                            "<tr><td>126 Acua Parkway</td><td>West Bengali</td><td>480039662421</td><td>Berhampore (Baharampur)</td></tr>",
                            "<tr><td>185 Novi Sad Place</td><td>Bern</td><td>904253967161</td><td>Bern</td></tr>",
                            "<tr><td>97 Mogiljov Lane</td><td>Gujarat</td><td>924815207181</td><td>Bhavnagar</td></tr>",
                            "<tr><td>43 Dadu Avenue</td><td>Rajasthan</td><td>95666951770</td><td>Bhilwara</td></tr>",
                            "<tr><td>635 Brest Manor</td><td>Andhra Pradesh</td><td>80593242951</td><td>Bhimavaram</td></tr>",
                            "<tr><td>419 Iligan Lane</td><td>Madhya Pradesh</td><td>990911107354</td><td>Bhopal</td></tr>",
                            "<tr><td>642 Nador Drive</td><td>Maharashtra</td><td>369050085652</td><td>Bhusawal</td></tr>",
                            "<tr><td>1257 Guadalajara Street</td><td>Karnataka</td><td>195337700615</td><td>Bijapur</td></tr>",
                            "<tr><td>1741 Hoshiarpur Boulevard</td><td>al-Sharqiya</td><td>855066328617</td><td>Bilbays</td></tr>",
                            "<tr><td>1332 Gaziantep Lane</td><td>Shandong</td><td>383353187467</td><td>Binzhou</td></tr>",
                            "<tr><td>470 Boksburg Street</td><td>Central</td><td>908029859266</td><td>Birgunj</td></tr>",
                            "<tr><td>152 Kitwe Parkway</td><td>Caraga</td><td>835433605312</td><td>Bislig</td></tr>",
                            "<tr><td>1304 ´s-Hertogenbosch Way</td><td>Santa Catarina</td><td>90336226227</td><td>Blumenau</td></tr>",
                            "<tr><td>1293 Nam Dinh Way</td><td>Roraima</td><td>697656479977</td><td>Boa Vista</td></tr>",
                            "<tr><td>569 Baicheng Lane</td><td>Gauteng</td><td>490211944645</td><td>Boksburg</td></tr>",
                            "<tr><td>1256 Bislig Boulevard</td><td>Botosani</td><td>479007229460</td><td>Botosani</td></tr>",
                            "<tr><td>898 Belm Manor</td><td>Free State</td><td>707169393853</td><td>Botshabelo</td></tr>",
                            "<tr><td>1557 Ktahya Boulevard</td><td>England</td><td>720998247660</td><td>Bradford</td></tr>",
                            "<tr><td>981 Kumbakonam Place</td><td>Distrito Federal</td><td>829116184079</td><td>Brasília</td></tr>",
                            "<tr><td>482 Kowloon and New Kowloon Manor</td><td>Bratislava</td><td>738968474939</td><td>Bratislava</td></tr>",
                            "<tr><td>1224 Huejutla de Reyes Boulevard</td><td>Lombardia</td><td>806016930576</td><td>Brescia</td></tr>",
                            "<tr><td>1346 Mysore Drive</td><td>Bretagne</td><td>516647474029</td><td>Brest</td></tr>",
                            "<tr><td>1 Valle de Santiago Avenue</td><td>Apulia</td><td>465897838272</td><td>Brindisi</td></tr>",
                            "<tr><td>782 Mosul Street</td><td>Massachusetts</td><td>885899703621</td><td>Brockton</td></tr>",
                            "<tr><td>1342 Abha Boulevard</td><td>Bukarest</td><td>997453607116</td><td>Bucuresti</td></tr>",
                            "<tr><td>98 Stara Zagora Boulevard</td><td>Valle</td><td>610173756082</td><td>Buenaventura</td></tr>",
                            "<tr><td>1769 Iwaki Lane</td><td>Kujawsko-Pomorskie</td><td>556100547674</td><td>Bydgoszcz</td></tr>",
                            "<tr><td>1061 Ede Avenue</td><td>Southern Tagalog</td><td>333390595558</td><td>Cabuyao</td></tr>",
                            "<tr><td>827 Yuncheng Drive</td><td>Callao</td><td>504434452842</td><td>Callao</td></tr>",
                            "<tr><td>1817 Livorno Way</td><td>Khanh Hoa</td><td>478380208348</td><td>Cam Ranh</td></tr>",
                            "<tr><td>1427 Tabuk Place</td><td>Florida</td><td>214756839122</td><td>Cape Coral</td></tr>",
                            "<tr><td>1378 Alvorada Avenue</td><td>Distrito Federal</td><td>272234298332</td><td>Caracas</td></tr>",
                            "<tr><td>1819 Alessandria Loop</td><td>Campeche</td><td>377633994405</td><td>Carmen</td></tr>",
                            "<tr><td>717 Changzhou Lane</td><td>Southern Tagalog</td><td>426255288071</td><td>Cavite</td></tr>",
                            "<tr><td>698 Otsu Street</td><td>Cayenne</td><td>409983924481</td><td>Cayenne</td></tr>",
                            "<tr><td>1402 Zanzibar Boulevard</td><td>Guanajuato</td><td>387448063440</td><td>Celaya</td></tr>",
                            "<tr><td>1540 Wroclaw Drive</td><td>Maharashtra</td><td>182363341674</td><td>Chandrapur</td></tr>",
                            "<tr><td>1551 Rampur Lane</td><td>Changhwa</td><td>251164340471</td><td>Changhwa</td></tr>",
                            "<tr><td>817 Bradford Loop</td><td>Ji´angsu</td><td>264286442804</td><td>Changzhou</td></tr>",
                            "<tr><td>1747 Rustenburg Place</td><td>Bihar</td><td>442673923363</td><td>Chapra</td></tr>",
                            "<tr><td>264 Bhimavaram Manor</td><td>St Thomas</td><td>302526949177</td><td>Charlotte Amalie</td></tr>",
                            "<tr><td>1497 Fengshan Drive</td><td>KwaZulu-Natal</td><td>368738360376</td><td>Chatsworth</td></tr>",
                            "<tr><td>1942 Ciparay Parkway</td><td>Cheju</td><td>978987363654</td><td>Cheju</td></tr>",
                            "<tr><td>1947 Poos de Caldas Boulevard</td><td>Chiayi</td><td>427454485876</td><td>Chiayi</td></tr>",
                            "<tr><td>269 Cam Ranh Parkway</td><td>Chisinau</td><td>489783829737</td><td>Chisinau</td></tr>",
                            "<tr><td>608 Birgunj Parkway</td><td>Taipei</td><td>627425618482</td><td>Chungho</td></tr>",
                            "<tr><td>1445 Carmen Parkway</td><td>West Java</td><td>598912394463</td><td>Cianjur</td></tr>",
                            "<tr><td>47 Syktyvkar Lane</td><td>West Java</td><td>63937119031</td><td>Ciomas</td></tr>",
                            "<tr><td>1860 Taguig Loop</td><td>West Java</td><td>38158430589</td><td>Ciparay</td></tr>",
                            "<tr><td>770 Bydgoszcz Avenue</td><td>California</td><td>517338314235</td><td>Citrus Heights</td></tr>",
                            "<tr><td>18 Duisburg Boulevard</td><td></td><td>998009777982</td><td>Città del Vaticano</td></tr>",
                            "<tr><td>1679 Antofagasta Street</td><td>Alto Paran</td><td>905903574913</td><td>Ciudad del Este</td></tr>",
                            "<tr><td>1666 Beni-Mellal Place</td><td>Tennessee</td><td>9099941466</td><td>Clarksville</td></tr>",
                            "<tr><td>1473 Changhwa Parkway</td><td>Mxico</td><td>266798132374</td><td>Coacalco de Berriozábal</td></tr>",
                            "<tr><td>1785 So Bernardo do Campo Street</td><td>Veracruz</td><td>684529463244</td><td>Coatzacoalcos</td></tr>",
                            "<tr><td>533 al-Ayn Boulevard</td><td>California</td><td>662227486184</td><td>Compton</td></tr>",
                            "<tr><td>568 Dhule (Dhulia) Loop</td><td>Coquimbo</td><td>602101369463</td><td>Coquimbo</td></tr>",
                            "<tr><td>96 Tafuna Way</td><td>Córdoba</td><td>934730187245</td><td>Córdoba</td></tr>",
                            "<tr><td>1447 Chatsworth Place</td><td>Chihuahua</td><td>769370126331</td><td>Cuauhtémoc</td></tr>",
                            "<tr><td>479 San Felipe del Progreso Avenue</td><td>Morelos</td><td>869051782691</td><td>Cuautla</td></tr>",
                            "<tr><td>186 Skikda Lane</td><td>Morelos</td><td>14465669789</td><td>Cuernavaca</td></tr>",
                            "<tr><td>1079 Tel Aviv-Jaffa Boulevard</td><td>Sucre</td><td>358178933857</td><td>Cumaná</td></tr>",
                            "<tr><td>1405 Hagonoy Avenue</td><td>Slaskie</td><td>867287719310</td><td>Czestochowa</td></tr>",
                            "<tr><td>966 Arecibo Loop</td><td>Sind</td><td>15273765306</td><td>Dadu</td></tr>",
                            "<tr><td>530 Lausanne Lane</td><td>Texas</td><td>775235029633</td><td>Dallas</td></tr>",
                            "<tr><td>1158 Mandi Bahauddin Parkway</td><td>Shanxi</td><td>276555730211</td><td>Datong</td></tr>",
                            "<tr><td>1673 Tangail Drive</td><td>Daugavpils</td><td>627924259271</td><td>Daugavpils</td></tr>",
                            "<tr><td>217 Botshabelo Place</td><td>Southern Mindanao</td><td>665356572025</td><td>Davao</td></tr>",
                            "<tr><td>1966 Amroha Avenue</td><td>Sichuan</td><td>333489324603</td><td>Daxian</td></tr>",
                            "<tr><td>32 Pudukkottai Lane</td><td>Ohio</td><td>967274728547</td><td>Dayton</td></tr>",
                            "<tr><td>1936 Lapu-Lapu Parkway</td><td>Bauchi &amp; Gombe</td><td>653436985797</td><td>Deba Habe</td></tr>",
                            "<tr><td>698 Jelets Boulevard</td><td>Denizli</td><td>975185523021</td><td>Denizli</td></tr>",
                            "<tr><td>1838 Tabriz Lane</td><td>Dhaka</td><td>38988715447</td><td>Dhaka</td></tr>",
                            "<tr><td>495 Bhimavaram Lane</td><td>Maharashtra</td><td>82088937724</td><td>Dhule (Dhulia)</td></tr>",
                            "<tr><td>1322 Mosul Parkway</td><td>Shandong</td><td>268053970382</td><td>Dongying</td></tr>",
                            "<tr><td>44 Najafabad Way</td><td>Baskimaa</td><td>96604821070</td><td>Donostia-San Sebastián</td></tr>",
                            "<tr><td>241 Mosul Lane</td><td>Risaralda</td><td>765345144779</td><td>Dos Quebradas</td></tr>",
                            "<tr><td>442 Rae Bareli Place</td><td>Nordrhein-Westfalen</td><td>886636413768</td><td>Duisburg</td></tr>",
                            "<tr><td>483 Ljubertsy Parkway</td><td>Scotland</td><td>581174211853</td><td>Dundee</td></tr>",
                            "<tr><td>740 Udaipur Lane</td><td>Nizni Novgorod</td><td>497288595103</td><td>Dzerzinsk</td></tr>",
                            "<tr><td>1217 Konotop Avenue</td><td>Gelderland</td><td>718917251754</td><td>Ede</td></tr>",
                            "<tr><td>1155 Liaocheng Place</td><td>Oyo &amp; Osun</td><td>558236142492</td><td>Effon-Alaiye</td></tr>",
                            "<tr><td>659 Gatineau Boulevard</td><td>La Paz</td><td>205524798287</td><td>El Alto</td></tr>",
                            "<tr><td>814 Simferopol Loop</td><td>Sinaloa</td><td>524567129902</td><td>El Fuerte</td></tr>",
                            "<tr><td>1866 al-Qatif Avenue</td><td>California</td><td>546793516940</td><td>El Monte</td></tr>",
                            "<tr><td>270 Toulon Boulevard</td><td>Kalmykia</td><td>407752414682</td><td>Elista</td></tr>",
                            "<tr><td>753 Ilorin Avenue</td><td>Sichuan</td><td>464511145118</td><td>Emeishan</td></tr>",
                            "<tr><td>1854 Okara Boulevard</td><td>Drenthe</td><td>131912793873</td><td>Emmen</td></tr>",
                            "<tr><td>804 Elista Drive</td><td>Hubei</td><td>379804592943</td><td>Enshi</td></tr>",
                            "<tr><td>319 Springs Loop</td><td>Baijeri</td><td>72524459905</td><td>Erlangen</td></tr>",
                            "<tr><td>203 Tambaram Street</td><td>Buenos Aires</td><td>411549550611</td><td>Escobar</td></tr>",
                            "<tr><td>1531 Sal Drive</td><td>Esfahan</td><td>648856936185</td><td>Esfahan</td></tr>",
                            "<tr><td>1269 Ipoh Avenue</td><td>Eskisehir</td><td>402630109080</td><td>Eskisehir</td></tr>",
                            "<tr><td>211 Chiayi Drive</td><td>Uttar Pradesh</td><td>665993880048</td><td>Etawah</td></tr>",
                            "<tr><td>166 Jinchang Street</td><td>Buenos Aires</td><td>717566026669</td><td>Ezeiza</td></tr>",
                            "<tr><td>1774 Yaound Place</td><td>Hubei</td><td>613124286867</td><td>Ezhou</td></tr>",
                            "<tr><td>1447 Imus Way</td><td>Tahiti</td><td>539758313890</td><td>Faaa</td></tr>",
                            "<tr><td>1568 Celaya Parkway</td><td>Kaohsiung</td><td>278669994384</td><td>Fengshan</td></tr>",
                            "<tr><td>9 San Miguel de Tucumn Manor</td><td>Uttar Pradesh</td><td>956188728558</td><td>Firozabad</td></tr>",
                            "<tr><td>734 Tanshui Avenue</td><td>Caquet</td><td>366776723320</td><td>Florencia</td></tr>",
                            "<tr><td>1135 Izumisano Parkway</td><td>California</td><td>171822533480</td><td>Fontana</td></tr>",
                            "<tr><td>928 Jaffna Loop</td><td>Hiroshima</td><td>581852137991</td><td>Fukuyama</td></tr>",
                            "<tr><td>454 Nakhon Sawan Boulevard</td><td>Funafuti</td><td>963887147572</td><td>Funafuti</td></tr>",
                            "<tr><td>1333 Haldia Street</td><td>Jilin</td><td>408304391718</td><td>Fuyu</td></tr>",
                            "<tr><td>1308 Sumy Loop</td><td>Fujian</td><td>583021225407</td><td>Fuzhou</td></tr>",
                            "<tr><td>1967 Sincelejo Place</td><td>Gujarat</td><td>577812616052</td><td>Gandhinagar</td></tr>",
                            "<tr><td>1895 Zhezqazghan Drive</td><td>California</td><td>137809746111</td><td>Garden Grove</td></tr>",
                            "<tr><td>1894 Boa Vista Way</td><td>Texas</td><td>239357986667</td><td>Garland</td></tr>",
                            "<tr><td>1153 Allende Way</td><td>Québec</td><td>856872225376</td><td>Gatineau</td></tr>",
                            "<tr><td>984 Novoterkassk Loop</td><td>Gaziantep</td><td>435118527255</td><td>Gaziantep</td></tr>",
                            "<tr><td>331 Bydgoszcz Parkway</td><td>Asturia</td><td>537374465982</td><td>Gijón</td></tr>",
                            "<tr><td>118 Jaffna Loop</td><td>Northern Mindanao</td><td>325526730021</td><td>Gingoog</td></tr>",
                            "<tr><td>984 Effon-Alaiye Avenue</td><td>Gois</td><td>132986892228</td><td>Goiânia</td></tr>",
                            "<tr><td>1688 Nador Lane</td><td>Sulawesi Utara</td><td>652218196731</td><td>Gorontalo</td></tr>",
                            "<tr><td>333 Goinia Way</td><td>Texas</td><td>909029256431</td><td>Grand Prairie</td></tr>",
                            "<tr><td>1010 Klerksdorp Way</td><td>Steiermark</td><td>493008546874</td><td>Graz</td></tr>",
                            "<tr><td>369 Papeete Way</td><td>North Carolina</td><td>170117068815</td><td>Greensboro</td></tr>",
                            "<tr><td>817 Laredo Avenue</td><td>Jalisco</td><td>151249681135</td><td>Guadalajara</td></tr>",
                            "<tr><td>259 Ipoh Drive</td><td>São Paulo</td><td>419009857119</td><td>Guarujá</td></tr>",
                            "<tr><td>1049 Matamoros Parkway</td><td>Karnataka</td><td>960505250340</td><td>Gulbarga</td></tr>",
                            "<tr><td>127 Iwakuni Boulevard</td><td>Central Luzon</td><td>987442542471</td><td>Hagonoy</td></tr>",
                            "<tr><td>904 Clarksville Drive</td><td>Zhejiang</td><td>955349440539</td><td>Haining</td></tr>",
                            "<tr><td>1149 A Corua (La Corua) Boulevard</td><td>Haiphong</td><td>470884141195</td><td>Haiphong</td></tr>",
                            "<tr><td>435 0 Way</td><td>West Bengali</td><td>760171523969</td><td>Haldia</td></tr>",
                            "<tr><td>1844 Usak Avenue</td><td>Nova Scotia</td><td>164414772677</td><td>Halifax</td></tr>",
                            "<tr><td>1027 Banjul Place</td><td>West Bengali</td><td>538241037443</td><td>Halisahar</td></tr>",
                            "<tr><td>1966 Tonghae Street</td><td>Anhalt Sachsen</td><td>567359279425</td><td>Halle/Saale</td></tr>",
                            "<tr><td>154 Tallahassee Loop</td><td>Xinxiang</td><td>935508855935</td><td>Hami</td></tr>",
                            "<tr><td>478 Joliet Way</td><td>Hamilton</td><td>657282285970</td><td>Hamilton</td></tr>",
                            "<tr><td>68 Ponce Parkway</td><td>Hanoi</td><td>870635127812</td><td>Hanoi</td></tr>",
                            "<tr><td>781 Shimonoseki Drive</td><td>Michoacn de Ocampo</td><td>632316273199</td><td>Hidalgo</td></tr>",
                            "<tr><td>446 Kirovo-Tepetsk Lane</td><td>Osaka</td><td>303967439816</td><td>Higashiosaka</td></tr>",
                            "<tr><td>345 Oshawa Boulevard</td><td>Tokyo-to</td><td>104491201771</td><td>Hino</td></tr>",
                            "<tr><td>1635 Kuwana Boulevard</td><td>Hiroshima</td><td>710603868323</td><td>Hiroshima</td></tr>",
                            "<tr><td>434 Ourense (Orense) Manor</td><td>Hodeida</td><td>562370137426</td><td>Hodeida</td></tr>",
                            "<tr><td>1587 Sullana Lane</td><td>Inner Mongolia</td><td>468060467018</td><td>Hohhot</td></tr>",
                            "<tr><td>791 Salinas Street</td><td>Punjab</td><td>129953030512</td><td>Hoshiarpur</td></tr>",
                            "<tr><td>381 Kabul Way</td><td>Taipei</td><td>55477302294</td><td>Hsichuh</td></tr>",
                            "<tr><td>500 Lincoln Parkway</td><td>Ji´angsu</td><td>550306965159</td><td>Huai´an</td></tr>",
                            "<tr><td>1746 Faaa Way</td><td>Huánuco</td><td>863080561151</td><td>Huánuco</td></tr>",
                            "<tr><td>788 Atinsk Street</td><td>Karnataka</td><td>146497509724</td><td>Hubli-Dharwad</td></tr>",
                            "<tr><td>966 Asuncin Way</td><td>Hidalgo</td><td>995527378381</td><td>Huejutla de Reyes</td></tr>",
                            "<tr><td>1002 Ahmadnagar Manor</td><td>Mxico</td><td>371490777743</td><td>Huixquilucan</td></tr>",
                            "<tr><td>543 Bergamo Avenue</td><td>Minas Gerais</td><td>103602195112</td><td>Ibirité</td></tr>",
                            "<tr><td>1736 Cavite Place</td><td>Qina</td><td>431770603551</td><td>Idfu</td></tr>",
                            "<tr><td>1888 Kabul Drive</td><td>Oyo &amp; Osun</td><td>701457319790</td><td>Ife</td></tr>",
                            "<tr><td>955 Bamenda Way</td><td>Ondo &amp; Ekiti</td><td>768481779568</td><td>Ikerre</td></tr>",
                            "<tr><td>951 Springs Lane</td><td>Central Mindanao</td><td>165164761435</td><td>Iligan</td></tr>",
                            "<tr><td>1177 Jelets Way</td><td>Kwara &amp; Kogi</td><td>484292626944</td><td>Ilorin</td></tr>",
                            "<tr><td>953 Hodeida Street</td><td>Southern Tagalog</td><td>53912826864</td><td>Imus</td></tr>",
                            "<tr><td>457 Tongliao Loop</td><td>Bursa</td><td>880756161823</td><td>Inegöl</td></tr>",
                            "<tr><td>316 Uruapan Street</td><td>Perak</td><td>275788967899</td><td>Ipoh</td></tr>",
                            "<tr><td>1949 Sanya Street</td><td>Gumma</td><td>132100972047</td><td>Isesaki</td></tr>",
                            "<tr><td>1867 San Juan Bautista Tuxtepec Avenue</td><td>Ivanovo</td><td>547003310357</td><td>Ivanovo</td></tr>",
                            "<tr><td>1148 Saarbrcken Parkway</td><td>Fukushima</td><td>137773001988</td><td>Iwaki</td></tr>",
                            "<tr><td>1964 Allappuzha (Alleppey) Street</td><td>Yamaguchi</td><td>920811325222</td><td>Iwakuni</td></tr>",
                            "<tr><td>168 Cianjur Manor</td><td>Saitama</td><td>679095087143</td><td>Iwatsuki</td></tr>",
                            "<tr><td>767 Pyongyang Drive</td><td>Osaka</td><td>667736124769</td><td>Izumisano</td></tr>",
                            "<tr><td>692 Amroha Drive</td><td>Northern</td><td>359478883004</td><td>Jaffna</td></tr>",
                            "<tr><td>81 Hodeida Way</td><td>Rajasthan</td><td>250767749542</td><td>Jaipur</td></tr>",
                            "<tr><td>456 Escobar Way</td><td>Jakarta Raya</td><td>719202533520</td><td>Jakarta</td></tr>",
                            "<tr><td>346 Skikda Parkway</td><td>Hawalli</td><td>630424482919</td><td>Jalib al-Shuyukh</td></tr>",
                            "<tr><td>1816 Bydgoszcz Loop</td><td>Dhaka</td><td>965273813662</td><td>Jamalpur</td></tr>",
                            "<tr><td>810 Palghat (Palakkad) Boulevard</td><td>Jaroslavl</td><td>516331171356</td><td>Jaroslavl</td></tr>",
                            "<tr><td>1050 Garden Grove Avenue</td><td>Slaskie</td><td>973047364353</td><td>Jastrzebie-Zdrój</td></tr>",
                            "<tr><td>725 Isesaki Place</td><td>Mekka</td><td>876295323994</td><td>Jedda</td></tr>",
                            "<tr><td>1913 Kamakura Place</td><td>Lipetsk</td><td>942570536750</td><td>Jelets</td></tr>",
                            "<tr><td>176 Mandaluyong Place</td><td>Uttar Pradesh</td><td>627705991774</td><td>Jhansi</td></tr>",
                            "<tr><td>475 Atinsk Way</td><td>Gansu</td><td>201705577290</td><td>Jinchang</td></tr>",
                            "<tr><td>1837 Kaduna Parkway</td><td>Inner Mongolia</td><td>640843562301</td><td>Jining</td></tr>",
                            "<tr><td>844 Bucuresti Place</td><td>Liaoning</td><td>935952366111</td><td>Jinzhou</td></tr>",
                            "<tr><td>60 Poos de Caldas Street</td><td>Rajasthan</td><td>963063788669</td><td>Jodhpur</td></tr>",
                            "<tr><td>270 Tambaram Parkway</td><td>Gauteng</td><td>248446668735</td><td>Johannesburg</td></tr>",
                            "<tr><td>786 Matsue Way</td><td>Illinois</td><td>111177206479</td><td>Joliet</td></tr>",
                            "<tr><td>760 Miyakonojo Drive</td><td>Guerrero</td><td>294449058179</td><td>José Azueta</td></tr>",
                            "<tr><td>433 Florencia Street</td><td>Chihuahua</td><td>561729882725</td><td>Juárez</td></tr>",
                            "<tr><td>686 Garland Manor</td><td>Cear</td><td>69493378813</td><td>Juazeiro do Norte</td></tr>",
                            "<tr><td>32 Liaocheng Way</td><td>Minas Gerais</td><td>410877354933</td><td>Juiz de Fora</td></tr>",
                            "<tr><td>722 Bradford Lane</td><td>Shandong</td><td>746251338300</td><td>Junan</td></tr>",
                            "<tr><td>1168 Najafabad Parkway</td><td>Kabol</td><td>886649065861</td><td>Kabul</td></tr>",
                            "<tr><td>320 Brest Avenue</td><td>Kaduna</td><td>747791594069</td><td>Kaduna</td></tr>",
                            "<tr><td>1287 Xi´angfan Boulevard</td><td>Gifu</td><td>819416131190</td><td>Kakamigahara</td></tr>",
                            "<tr><td>1883 Maikop Lane</td><td>Kaliningrad</td><td>96110042435</td><td>Kaliningrad</td></tr>",
                            "<tr><td>906 Goinia Way</td><td>Wielkopolskie</td><td>701767622697</td><td>Kalisz</td></tr>",
                            "<tr><td>586 Tete Way</td><td>Kanagawa</td><td>18581624103</td><td>Kamakura</td></tr>",
                            "<tr><td>33 Gorontalo Way</td><td>West Bengali</td><td>745994947458</td><td>Kamarhati</td></tr>",
                            "<tr><td>1793 Meixian Place</td><td>Hmelnytskyi</td><td>619966287415</td><td>Kamjanets-Podilskyi</td></tr>",
                            "<tr><td>886 Tonghae Place</td><td>Volgograd</td><td>711928348157</td><td>Kamyšin</td></tr>",
                            "<tr><td>1421 Quilmes Lane</td><td>Ishikawa</td><td>135407755975</td><td>Kanazawa</td></tr>",
                            "<tr><td>1013 Tabuk Boulevard</td><td>West Bengali</td><td>158399646978</td><td>Kanchrapara</td></tr>",
                            "<tr><td>1191 Sungai Petani Boulevard</td><td>Missouri</td><td>983259819766</td><td>Kansas City</td></tr>",
                            "<tr><td>1884 Shikarpur Avenue</td><td>Haryana</td><td>959949395183</td><td>Karnal</td></tr>",
                            "<tr><td>1948 Bayugan Parkway</td><td>Bihar</td><td>987306329957</td><td>Katihar</td></tr>",
                            "<tr><td>220 Hidalgo Drive</td><td>Kermanshah</td><td>342720754566</td><td>Kermanshah</td></tr>",
                            "<tr><td>374 Bat Yam Boulevard</td><td>Kilis</td><td>923261616249</td><td>Kilis</td></tr>",
                            "<tr><td>1417 Lancaster Avenue</td><td>Northern Cape</td><td>272572357893</td><td>Kimberley</td></tr>",
                            "<tr><td>588 Vila Velha Manor</td><td>Kyongsangbuk</td><td>333339908719</td><td>Kimchon</td></tr>",
                            "<tr><td>1016 Iwakuni Street</td><td>St George</td><td>961370847344</td><td>Kingstown</td></tr>",
                            "<tr><td>1089 Iwatsuki Avenue</td><td>Kirov</td><td>866092335135</td><td>Kirovo-Tšepetsk</td></tr>",
                            "<tr><td>447 Surakarta Loop</td><td>Nyanza</td><td>940830176580</td><td>Kisumu</td></tr>",
                            "<tr><td>1836 Korla Parkway</td><td>Copperbelt</td><td>689681677428</td><td>Kitwe</td></tr>",
                            "<tr><td>682 Junan Way</td><td>North West</td><td>622255216127</td><td>Klerksdorp</td></tr>",
                            "<tr><td>661 Chisinau Lane</td><td>Pietari</td><td>816436065431</td><td>Kolpino</td></tr>",
                            "<tr><td>182 Nuku´alofa Drive</td><td>Sumy</td><td>426346224043</td><td>Konotop</td></tr>",
                            "<tr><td>454 Patiala Lane</td><td>Fukushima</td><td>794553031307</td><td>Koriyama</td></tr>",
                            "<tr><td>226 Halifax Street</td><td>Xinxiang</td><td>790651020929</td><td>Korla</td></tr>",
                            "<tr><td>954 Lapu-Lapu Way</td><td>Moskova</td><td>737229003916</td><td>Korolev</td></tr>",
                            "<tr><td>1912 Allende Manor</td><td>Kowloon and New Kowl</td><td>172262454487</td><td>Kowloon and New Kowloon</td></tr>",
                            "<tr><td>900 Santiago de Compostela Parkway</td><td>Central Serbia</td><td>716571220373</td><td>Kragujevac</td></tr>",
                            "<tr><td>1114 Liepaja Street</td><td>Sarawak</td><td>212869228936</td><td>Kuching</td></tr>",
                            "<tr><td>1675 Xi´angfan Manor</td><td>Tamil Nadu</td><td>271149517630</td><td>Kumbakonam</td></tr>",
                            "<tr><td>61 Tama Street</td><td>Okayama</td><td>708403338270</td><td>Kurashiki</td></tr>",
                            "<tr><td>1618 Olomouc Manor</td><td>Kurgan</td><td>96846695220</td><td>Kurgan</td></tr>",
                            "<tr><td>746 Joliet Lane</td><td>Kursk</td><td>688485191923</td><td>Kursk</td></tr>",
                            "<tr><td>848 Tafuna Manor</td><td>Kütahya</td><td>614935229095</td><td>Kütahya</td></tr>",
                            "<tr><td>958 Sagamihara Lane</td><td>Mie</td><td>427274926505</td><td>Kuwana</td></tr>",
                            "<tr><td>184 Mandaluyong Street</td><td>Baja California Sur</td><td>488425406814</td><td>La Paz</td></tr>",
                            "<tr><td>1926 El Alto Avenue</td><td>Buenos Aires</td><td>846225459260</td><td>La Plata</td></tr>",
                            "<tr><td>1245 Ibirit Way</td><td>La Romana</td><td>331888642162</td><td>La Romana</td></tr>",
                            "<tr><td>1560 Jelets Boulevard</td><td>Shandong</td><td>189446090264</td><td>Laiwu</td></tr>",
                            "<tr><td>793 Cam Ranh Avenue</td><td>California</td><td>824370924746</td><td>Lancaster</td></tr>",
                            "<tr><td>1557 Cape Coral Parkway</td><td>Hubei</td><td>368284120423</td><td>Laohekou</td></tr>",
                            "<tr><td>582 Papeete Loop</td><td>Central Visayas</td><td>569868543137</td><td>Lapu-Lapu</td></tr>",
                            "<tr><td>1795 Santiago de Compostela Way</td><td>Texas</td><td>860452626434</td><td>Laredo</td></tr>",
                            "<tr><td>1331 Usak Boulevard</td><td>Vaud</td><td>145308717464</td><td>Lausanne</td></tr>",
                            "<tr><td>1740 Le Mans Loop</td><td>Pays de la Loire</td><td>168476538960</td><td>Le Mans</td></tr>",
                            "<tr><td>1762 Paarl Parkway</td><td>Hunan</td><td>192459639410</td><td>Lengshuijiang</td></tr>",
                            "<tr><td>1052 Pathankot Avenue</td><td>Sichuan</td><td>128499386727</td><td>Leshan</td></tr>",
                            "<tr><td>47 MySakila Drive</td><td>Alberta</td><td></td><td>Lethbridge</td></tr>",
                            "<tr><td>23 Workhaven Lane</td><td>Alberta</td><td>14033335568</td><td>Lethbridge</td></tr>",
                            "<tr><td>1078 Stara Zagora Drive</td><td>Aceh</td><td>932992626595</td><td>Lhokseumawe</td></tr>",
                            "<tr><td>1854 Tieli Street</td><td>Shandong</td><td>509492324775</td><td>Liaocheng</td></tr>",
                            "<tr><td>1780 Hino Boulevard</td><td>Liepaja</td><td>902731229323</td><td>Liepaja</td></tr>",
                            "<tr><td>710 San Felipe del Progreso Avenue</td><td>Lilongwe</td><td>843801144113</td><td>Lilongwe</td></tr>",
                            "<tr><td>1175 Tanauan Way</td><td>Lima</td><td>937222955822</td><td>Lima</td></tr>",
                            "<tr><td>1214 Hanoi Way</td><td>Nebraska</td><td>491001136577</td><td>Lincoln</td></tr>",
                            "<tr><td>1440 Compton Place</td><td>North Austria</td><td>931059836497</td><td>Linz</td></tr>",
                            "<tr><td>1998 Halifax Drive</td><td>Lipetsk</td><td>177727722820</td><td>Lipetsk</td></tr>",
                            "<tr><td>379 Lublin Parkway</td><td>Toscana</td><td>921960450089</td><td>Livorno</td></tr>",
                            "<tr><td>1623 Baha Blanca Manor</td><td>Moskova</td><td>149981248346</td><td>Ljubertsy</td></tr>",
                            "<tr><td>1074 Sanaa Parkway</td><td>Loja</td><td>154124128457</td><td>Loja</td></tr>",
                            "<tr><td>548 Uruapan Street</td><td>Ontario</td><td>879347453467</td><td>London</td></tr>",
                            "<tr><td>1497 Yuzhou Drive</td><td>England</td><td>246810237916</td><td>London</td></tr>",
                            "<tr><td>414 Mandaluyong Street</td><td>Lubelskie</td><td>52709222667</td><td>Lublin</td></tr>",
                            "<tr><td>514 Ife Way</td><td>Shaba</td><td>900235712074</td><td>Lubumbashi</td></tr>",
                            "<tr><td>1668 Anpolis Street</td><td>Taipei</td><td>525255540978</td><td>Lungtan</td></tr>",
                            "<tr><td>1839 Szkesfehrvr Parkway</td><td>Gois</td><td>947468818183</td><td>Luziânia</td></tr>",
                            "<tr><td>519 Brescia Parkway</td><td>East Java</td><td>793996678771</td><td>Madiun</td></tr>",
                            "<tr><td>320 Baiyin Parkway</td><td>Mahajanga</td><td>223664661973</td><td>Mahajanga</td></tr>",
                            "<tr><td>1157 Nyeri Loop</td><td>Adygea</td><td>262744791493</td><td>Maikop</td></tr>",
                            "<tr><td>1150 Kimchon Manor</td><td>Skne ln</td><td>663449333709</td><td>Malmö</td></tr>",
                            "<tr><td>401 Sucre Boulevard</td><td>New Hampshire</td><td>486395999608</td><td>Manchester</td></tr>",
                            "<tr><td>1831 Nam Dinh Loop</td><td>National Capital Reg</td><td>322888976727</td><td>Mandaluyong</td></tr>",
                            "<tr><td>1820 Maring Parkway</td><td>Punjab</td><td>99760893676</td><td>Mandi Bahauddin</td></tr>",
                            "<tr><td>1074 Binzhou Manor</td><td>Baden-Wrttemberg</td><td>331132568928</td><td>Mannheim</td></tr>",
                            "<tr><td>138 Caracas Boulevard</td><td>Zulia</td><td>974433019532</td><td>Maracaíbo</td></tr>",
                            "<tr><td>1688 Okara Way</td><td>Nothwest Border Prov</td><td>144453869132</td><td>Mardan</td></tr>",
                            "<tr><td>829 Grand Prairie Way</td><td>Paraná</td><td>741070712873</td><td>Maringá</td></tr>",
                            "<tr><td>613 Korolev Drive</td><td>Masqat</td><td>380657522649</td><td>Masqat</td></tr>",
                            "<tr><td>146 Johannesburg Way</td><td>Tamaulipas</td><td>953689007081</td><td>Matamoros</td></tr>",
                            "<tr><td>619 Hunuco Avenue</td><td>Shimane</td><td>142596392389</td><td>Matsue</td></tr>",
                            "<tr><td>1952 Chatsworth Drive</td><td>Guangdong</td><td>991562402283</td><td>Meixian</td></tr>",
                            "<tr><td>682 Garden Grove Place</td><td>Tennessee</td><td>72136330362</td><td>Memphis</td></tr>",
                            "<tr><td>1532 Dzerzinsk Way</td><td>Buenos Aires</td><td>330838016880</td><td>Merlo</td></tr>",
                            "<tr><td>785 Vaduz Street</td><td>Baja California</td><td>895616862749</td><td>Mexicali</td></tr>",
                            "<tr><td>651 Pathankot Loop</td><td>Maharashtra</td><td>139378397418</td><td>Miraj</td></tr>",
                            "<tr><td>775 ostka Drive</td><td>al-Daqahliya</td><td>171973024401</td><td>Mit Ghamr</td></tr>",
                            "<tr><td>752 Ondo Loop</td><td>Miyazaki</td><td>134673576619</td><td>Miyakonojo</td></tr>",
                            "<tr><td>556 Asuncin Way</td><td>Mogiljov</td><td>338244023543</td><td>Mogiljov</td></tr>",
                            "<tr><td>1027 Songkhla Manor</td><td>Minsk</td><td>563660187896</td><td>Molodetšno</td></tr>",
                            "<tr><td>1351 Sousse Lane</td><td>Coahuila de Zaragoza</td><td>203804046132</td><td>Monclova</td></tr>",
                            "<tr><td>51 Laredo Avenue</td><td>Sagaing</td><td>884536620568</td><td>Monywa</td></tr>",
                            "<tr><td>46 Pjatigorsk Lane</td><td>Moscow (City)</td><td>262076994845</td><td>Moscow</td></tr>",
                            "<tr><td>1208 Tama Loop</td><td>Ninawa</td><td>954786054144</td><td>Mosul</td></tr>",
                            "<tr><td>1752 So Leopoldo Parkway</td><td>Taka-Karpatia</td><td>252265130067</td><td>Mukatševe</td></tr>",
                            "<tr><td>1425 Shikarpur Manor</td><td>Bihar</td><td>678220867005</td><td>Munger (Monghyr)</td></tr>",
                            "<tr><td>64 Korla Street</td><td>Mwanza</td><td>510383179153</td><td>Mwanza</td></tr>",
                            "<tr><td>1519 Santiago de los Caballeros Loop</td><td>East Kasai</td><td>409315295763</td><td>Mwene-Ditu</td></tr>",
                            "<tr><td>1566 Inegl Manor</td><td>Mandalay</td><td>705814003527</td><td>Myingyan</td></tr>",
                            "<tr><td>1213 Ranchi Parkway</td><td>Karnataka</td><td>800024380485</td><td>Mysore</td></tr>",
                            "<tr><td>207 Cuernavaca Loop</td><td>Tatarstan</td><td>782900030287</td><td>Nabereznyje Tšelny</td></tr>",
                            "<tr><td>596 Huixquilucan Place</td><td>Nampula</td><td>342709348083</td><td>Naçala-Porto</td></tr>",
                            "<tr><td>671 Graz Street</td><td>Oriental</td><td>680768868518</td><td>Nador</td></tr>",
                            "<tr><td>1963 Moscow Place</td><td>Assam</td><td>761379480249</td><td>Nagaon</td></tr>",
                            "<tr><td>17 Kabul Boulevard</td><td>Chiba</td><td>697760867968</td><td>Nagareyama</td></tr>",
                            "<tr><td>1922 Miraj Way</td><td>Esfahan</td><td>320471479776</td><td>Najafabad</td></tr>",
                            "<tr><td>647 A Corua (La Corua) Street</td><td>Chollanam</td><td>792557457753</td><td>Naju</td></tr>",
                            "<tr><td>1337 Mit Ghamr Avenue</td><td>Nakhon Sawan</td><td>175283210378</td><td>Nakhon Sawan</td></tr>",
                            "<tr><td>1786 Salinas Place</td><td>Nam Ha</td><td>206060652238</td><td>Nam Dinh</td></tr>",
                            "<tr><td>368 Hunuco Boulevard</td><td>Namibe</td><td>106439158941</td><td>Namibe</td></tr>",
                            "<tr><td>53 Idfu Parkway</td><td>Nantou</td><td>10655648674</td><td>Nantou</td></tr>",
                            "<tr><td>1440 Fukuyama Loop</td><td>Henan</td><td>912257250465</td><td>Nanyang</td></tr>",
                            "<tr><td>195 Ilorin Street</td><td>Chari-Baguirmi</td><td>8912935608</td><td>NDjamna</td></tr>",
                            "<tr><td>1766 Almirante Brown Street</td><td>KwaZulu-Natal</td><td>617567598243</td><td>Newcastle</td></tr>",
                            "<tr><td>1107 Nakhon Sawan Avenue</td><td>Mxico</td><td>867546627903</td><td>Nezahualcóyotl</td></tr>",
                            "<tr><td>617 Klerksdorp Place</td><td>Khanh Hoa</td><td>574973479129</td><td>Nha Trang</td></tr>",
                            "<tr><td>909 Garland Manor</td><td>Tatarstan</td><td>705800322606</td><td>Niznekamsk</td></tr>",
                            "<tr><td>1917 Kumbakonam Parkway</td><td>Vojvodina</td><td>698182547686</td><td>Novi Sad</td></tr>",
                            "<tr><td>1077 San Felipe de Puerto Plata Place</td><td>Rostov-na-Donu</td><td>812824036424</td><td>Novotšerkassk</td></tr>",
                            "<tr><td>1516 Escobar Drive</td><td>Tongatapu</td><td>64536069371</td><td>Nuku´alofa</td></tr>",
                            "<tr><td>850 Salala Loop</td><td>Kitaa</td><td>403404780639</td><td>Nuuk</td></tr>",
                            "<tr><td>1658 Jastrzebie-Zdrj Loop</td><td>Central</td><td>568367775448</td><td>Nyeri</td></tr>",
                            "<tr><td>1848 Salala Boulevard</td><td>Miranda</td><td>48265851133</td><td>Ocumare del Tuy</td></tr>",
                            "<tr><td>556 Baybay Manor</td><td>Oyo &amp; Osun</td><td>363982224739</td><td>Ogbomosho</td></tr>",
                            "<tr><td>734 Bchar Place</td><td>Punjab</td><td>280578750435</td><td>Okara</td></tr>",
                            "<tr><td>591 Sungai Petani Drive</td><td>Okayama</td><td>37247325001</td><td>Okayama</td></tr>",
                            "<tr><td>1565 Tangail Manor</td><td>Okinawa</td><td>634445428822</td><td>Okinawa</td></tr>",
                            "<tr><td>682 Halisahar Place</td><td>Severn Morava</td><td>475553436330</td><td>Olomouc</td></tr>",
                            "<tr><td>115 Hidalgo Parkway</td><td>Khartum</td><td>307703950263</td><td>Omdurman</td></tr>",
                            "<tr><td>1266 Laredo Parkway</td><td>Saitama</td><td>1483365694</td><td>Omiya</td></tr>",
                            "<tr><td>1367 Yantai Manor</td><td>Ondo &amp; Ekiti</td><td>889538496300</td><td>Ondo</td></tr>",
                            "<tr><td>124 al-Manama Way</td><td>Hiroshima</td><td>647899404952</td><td>Onomichi</td></tr>",
                            "<tr><td>891 Novi Sad Manor</td><td>Ontario</td><td>247646995453</td><td>Oshawa</td></tr>",
                            "<tr><td>270 Amroha Parkway</td><td>Osmaniye</td><td>695479687538</td><td>Osmaniye</td></tr>",
                            "<tr><td>1336 Benin City Drive</td><td>Shiga</td><td>341242939532</td><td>Otsu</td></tr>",
                            "<tr><td>898 Jining Lane</td><td>Pohjois-Pohjanmaa</td><td>161643343536</td><td>Oulu</td></tr>",
                            "<tr><td>1469 Plock Lane</td><td>Galicia</td><td>622884741180</td><td>Ourense (Orense)</td></tr>",
                            "<tr><td>1006 Santa Brbara dOeste Manor</td><td>Ondo &amp; Ekiti</td><td>85059738746</td><td>Owo</td></tr>",
                            "<tr><td>786 Stara Zagora Way</td><td>Oyo &amp; Osun</td><td>716256596301</td><td>Oyo</td></tr>",
                            "<tr><td>1351 Aparecida de Goinia Parkway</td><td>Northern Mindanao</td><td>959834530529</td><td>Ozamis</td></tr>",
                            "<tr><td>1443 Mardan Street</td><td>Western Cape</td><td>231383037471</td><td>Paarl</td></tr>",
                            "<tr><td>1698 Southport Loop</td><td>Hidalgo</td><td>754358349853</td><td>Pachuca de Soto</td></tr>",
                            "<tr><td>1632 Bislig Avenue</td><td>Nonthaburi</td><td>471675840679</td><td>Pak Kret</td></tr>",
                            "<tr><td>1519 Ilorin Place</td><td>Kerala</td><td>357445645426</td><td>Palghat (Palakkad)</td></tr>",
                            "<tr><td>1658 Cuman Loop</td><td>Sumatera Selatan</td><td>784907335610</td><td>Pangkal Pinang</td></tr>",
                            "<tr><td>1668 Saint Louis Place</td><td>Tahiti</td><td>347487831378</td><td>Papeete</td></tr>",
                            "<tr><td>41 El Alto Parkway</td><td>Maharashtra</td><td>51917807050</td><td>Parbhani</td></tr>",
                            "<tr><td>1697 Tanauan Lane</td><td>Punjab</td><td>4764773857</td><td>Pathankot</td></tr>",
                            "<tr><td>951 Stara Zagora Manor</td><td>Punjab</td><td>429925609431</td><td>Patiala</td></tr>",
                            "<tr><td>1101 Bucuresti Boulevard</td><td>West Greece</td><td>199514580428</td><td>Patras</td></tr>",
                            "<tr><td>602 Paarl Street</td><td>Pavlodar</td><td>896314772871</td><td>Pavlodar</td></tr>",
                            "<tr><td>544 Malm Parkway</td><td>Central Java</td><td>386759646229</td><td>Pemalang</td></tr>",
                            "<tr><td>1980 Kamjanets-Podilskyi Street</td><td>Illinois</td><td>874337098891</td><td>Peoria</td></tr>",
                            "<tr><td>1410 Benin City Parkway</td><td>Risaralda</td><td>104150372603</td><td>Pereira</td></tr>",
                            "<tr><td>754 Valencia Place</td><td>Phnom Penh</td><td>594319417514</td><td>Phnom Penh</td></tr>",
                            "<tr><td>1294 Firozabad Drive</td><td>Ji´angxi</td><td>161801569569</td><td>Pingxiang</td></tr>",
                            "<tr><td>185 Mannheim Lane</td><td>Stavropol</td><td>589377568313</td><td>Pjatigorsk</td></tr>",
                            "<tr><td>1501 Pangkal Pinang Avenue</td><td>Mazowieckie</td><td>770864062795</td><td>Plock</td></tr>",
                            "<tr><td>1666 Qomsheh Drive</td><td>São Paulo</td><td>582835362905</td><td>Poá</td></tr>",
                            "<tr><td>1338 Zalantun Lane</td><td>Minas Gerais</td><td>840522972766</td><td>Poços de Caldas</td></tr>",
                            "<tr><td>1405 Chisinau Place</td><td>Ponce</td><td>62781725285</td><td>Ponce</td></tr>",
                            "<tr><td>1152 al-Qatif Lane</td><td>Kalimantan Barat</td><td>131370665218</td><td>Pontianak</td></tr>",
                            "<tr><td>816 Cayenne Parkway</td><td>Manab</td><td>282874611748</td><td>Portoviejo</td></tr>",
                            "<tr><td>154 Oshawa Manor</td><td>East Java</td><td>440365973660</td><td>Probolinggo</td></tr>",
                            "<tr><td>1661 Abha Drive</td><td>Tamil Nadu</td><td>270456873752</td><td>Pudukkottai</td></tr>",
                            "<tr><td>943 Johannesburg Avenue</td><td>Maharashtra</td><td>90921003005</td><td>Pune</td></tr>",
                            "<tr><td>1596 Acua Parkway</td><td>Jharkhand</td><td>157133457169</td><td>Purnea (Purnia)</td></tr>",
                            "<tr><td>1003 Qinhuangdao Street</td><td>West Java</td><td>35533115997</td><td>Purwakarta</td></tr>",
                            "<tr><td>1386 Nakhon Sawan Boulevard</td><td>Pyongyang-si</td><td>368899174225</td><td>Pyongyang</td></tr>",
                            "<tr><td>765 Southampton Drive</td><td>al-Qalyubiya</td><td>23712411567</td><td>Qalyub</td></tr>",
                            "<tr><td>1246 Boksburg Parkway</td><td>Hebei</td><td>890283544295</td><td>Qinhuangdao</td></tr>",
                            "<tr><td>76 Kermanshah Manor</td><td>Esfahan</td><td>762361821578</td><td>Qomsheh</td></tr>",
                            "<tr><td>773 Dallas Manor</td><td>Buenos Aires</td><td>914466027044</td><td>Quilmes</td></tr>",
                            "<tr><td>936 Salzburg Lane</td><td>Uttar Pradesh</td><td>875756771675</td><td>Rae Bareli</td></tr>",
                            "<tr><td>1447 Imus Place</td><td>Gujarat</td><td>62127829280</td><td>Rajkot</td></tr>",
                            "<tr><td>1920 Weifang Avenue</td><td>Uttar Pradesh</td><td>869507847714</td><td>Rampur</td></tr>",
                            "<tr><td>1872 Toulon Loop</td><td>OHiggins</td><td>928809465153</td><td>Rancagua</td></tr>",
                            "<tr><td>604 Bern Place</td><td>Jharkhand</td><td>620719383725</td><td>Ranchi</td></tr>",
                            "<tr><td>432 Garden Grove Street</td><td>Ontario</td><td>615964523510</td><td>Richmond Hill</td></tr>",
                            "<tr><td>1206 Dos Quebradas Place</td><td>São Paulo</td><td>241832790687</td><td>Rio Claro</td></tr>",
                            "<tr><td>1954 Kowloon and New Kowloon Way</td><td>Chimborazo</td><td>898559280434</td><td>Ríobamba</td></tr>",
                            "<tr><td>1060 Tandil Lane</td><td>Shandong</td><td>211256301880</td><td>Rizhao</td></tr>",
                            "<tr><td>1936 Cuman Avenue</td><td>Virginia</td><td>976798660411</td><td>Roanoke</td></tr>",
                            "<tr><td>1485 Bratislava Place</td><td>Illinois</td><td>924663855568</td><td>Rockford</td></tr>",
                            "<tr><td>191 Jos Azueta Parkway</td><td>Ruse</td><td>932156667696</td><td>Ruse</td></tr>",
                            "<tr><td>1639 Saarbrcken Drive</td><td>North West</td><td>328494873422</td><td>Rustenburg</td></tr>",
                            "<tr><td>430 Alessandria Loop</td><td>Saarland</td><td>669828224459</td><td>Saarbrücken</td></tr>",
                            "<tr><td>1542 Tarlac Parkway</td><td>Kanagawa</td><td>635297277345</td><td>Sagamihara</td></tr>",
                            "<tr><td>1717 Guadalajara Lane</td><td>Missouri</td><td>914090181665</td><td>Saint Louis</td></tr>",
                            "<tr><td>1952 Pune Lane</td><td>Saint-Denis</td><td>354615066969</td><td>Saint-Denis</td></tr>",
                            "<tr><td>1416 San Juan Bautista Tuxtepec Avenue</td><td>Zufar</td><td>144206758053</td><td>Salala</td></tr>",
                            "<tr><td>144 South Hill Loop</td><td>Guanajuato</td><td>45387294817</td><td>Salamanca</td></tr>",
                            "<tr><td>28 Charlotte Amalie Street</td><td>Rabat-Sal-Zammour-Z</td><td>161968374323</td><td>Salé</td></tr>",
                            "<tr><td>920 Kumbakonam Loop</td><td>California</td><td>685010736240</td><td>Salinas</td></tr>",
                            "<tr><td>1587 Loja Manor</td><td>Salzburg</td><td>621625204422</td><td>Salzburg</td></tr>",
                            "<tr><td>866 Shivapuri Manor</td><td>Uttar Pradesh</td><td>778502731092</td><td>Sambhal</td></tr>",
                            "<tr><td>1121 Loja Avenue</td><td>California</td><td>838635286649</td><td>San Bernardino</td></tr>",
                            "<tr><td>437 Chungho Drive</td><td>Puerto Plata</td><td>491271355190</td><td>San Felipe de Puerto Plata</td></tr>",
                            "<tr><td>1145 Vilnius Manor</td><td>Mxico</td><td>674805712553</td><td>San Felipe del Progreso</td></tr>",
                            "<tr><td>355 Vitria de Santo Anto Way</td><td>Oaxaca</td><td>548003849552</td><td>San Juan Bautista Tuxtepec</td></tr>",
                            "<tr><td>1628 Nagareyama Lane</td><td>Central</td><td>20064292617</td><td>San Lorenzo</td></tr>",
                            "<tr><td>1483 Pathankot Street</td><td>Tucumn</td><td>686015532180</td><td>San Miguel de Tucumán</td></tr>",
                            "<tr><td>687 Alessandria Parkway</td><td>Sanaa</td><td>407218522294</td><td>Sanaa</td></tr>",
                            "<tr><td>1891 Rizhao Boulevard</td><td>São Paulo</td><td>391065549876</td><td>Santa Brbara dOeste</td></tr>",
                            "<tr><td>430 Kumbakonam Drive</td><td>Santa Fé</td><td>105470691550</td><td>Santa Fé</td></tr>",
                            "<tr><td>1176 Southend-on-Sea Manor</td><td>Southern Tagalog</td><td>236679267178</td><td>Santa Rosa</td></tr>",
                            "<tr><td>1764 Jalib al-Shuyukh Parkway</td><td>Galicia</td><td>84794532510</td><td>Santiago de Compostela</td></tr>",
                            "<tr><td>532 Toulon Street</td><td>Santiago</td><td>46871694740</td><td>Santiago de los Caballeros</td></tr>",
                            "<tr><td>519 Nyeri Manor</td><td>São Paulo</td><td>764680915323</td><td>Santo André</td></tr>",
                            "<tr><td>390 Wroclaw Way</td><td>Hainan</td><td>357593328658</td><td>Sanya</td></tr>",
                            "<tr><td>1715 Okayama Street</td><td>São Paulo</td><td>169352919175</td><td>São Bernardo do Campo</td></tr>",
                            "<tr><td>614 Denizli Parkway</td><td>Rio Grande do Sul</td><td>876491807547</td><td>São Leopoldo</td></tr>",
                            "<tr><td>1913 Hanoi Way</td><td>Nagasaki</td><td>28303384290</td><td>Sasebo</td></tr>",
                            "<tr><td>45 Aparecida de Goinia Place</td><td>Madhya Pradesh</td><td>650496654258</td><td>Satna</td></tr>",
                            "<tr><td>1727 Matamoros Place</td><td>Sawhaj</td><td>129673677866</td><td>Sawhaj</td></tr>",
                            "<tr><td>1407 Surakarta Manor</td><td>Moskova</td><td>324346485054</td><td>Serpuhov</td></tr>",
                            "<tr><td>927 Barcelona Street</td><td>Chaharmahal va Bakht</td><td>951486492670</td><td>Shahr-e Kord</td></tr>",
                            "<tr><td>1269 Botosani Manor</td><td>Guangdong</td><td>736517327853</td><td>Shanwei</td></tr>",
                            "<tr><td>1909 Dayton Avenue</td><td>Guangdong</td><td>702955450528</td><td>Shaoguan</td></tr>",
                            "<tr><td>1192 Tongliao Street</td><td>Sharja</td><td>350970907017</td><td>Sharja</td></tr>",
                            "<tr><td>686 Donostia-San Sebastin Lane</td><td>Guangdong</td><td>71857599858</td><td>Shenzhen</td></tr>",
                            "<tr><td>934 San Felipe de Puerto Plata Street</td><td>Sind</td><td>196495945706</td><td>Shikarpur</td></tr>",
                            "<tr><td>1964 Gijn Manor</td><td>Karnataka</td><td>918119601885</td><td>Shimoga</td></tr>",
                            "<tr><td>786 Aurora Avenue</td><td>Yamaguchi</td><td>18461860151</td><td>Shimonoseki</td></tr>",
                            "<tr><td>57 Arlington Manor</td><td>Madhya Pradesh</td><td>990214419142</td><td>Shivapuri</td></tr>",
                            "<tr><td>1987 Coacalco de Berriozbal Loop</td><td>al-Qalyubiya</td><td>787654415858</td><td>Shubra al-Khayma</td></tr>",
                            "<tr><td>1792 Valle de la Pascua Place</td><td>Nordrhein-Westfalen</td><td>419419591240</td><td>Siegen</td></tr>",
                            "<tr><td>1197 Sokoto Boulevard</td><td>West Bengali</td><td>868602816371</td><td>Siliguri (Shiliguri)</td></tr>",
                            "<tr><td>927 Baha Blanca Parkway</td><td>Krim</td><td>821972242086</td><td>Simferopol</td></tr>",
                            "<tr><td>1740 Portoviejo Avenue</td><td>Sucre</td><td>198123170793</td><td>Sincelejo</td></tr>",
                            "<tr><td>956 Nam Dinh Manor</td><td>Kerman</td><td>474047727727</td><td>Sirjan</td></tr>",
                            "<tr><td>680 A Corua (La Corua) Manor</td><td>Sivas</td><td>158326114853</td><td>Sivas</td></tr>",
                            "<tr><td>757 Rustenburg Avenue</td><td>Skikda</td><td>506134035434</td><td>Skikda</td></tr>",
                            "<tr><td>801 Hagonoy Drive</td><td>Smolensk</td><td>237426099212</td><td>Smolensk</td></tr>",
                            "<tr><td>656 Matamoros Drive</td><td>Boyac</td><td>17305839123</td><td>Sogamoso</td></tr>",
                            "<tr><td>1342 Sharja Way</td><td>Sokoto &amp; Kebbi &amp; Zam</td><td>946114054231</td><td>Sokoto</td></tr>",
                            "<tr><td>870 Ashqelon Loop</td><td>Songkhla</td><td>135117278909</td><td>Songkhla</td></tr>",
                            "<tr><td>1957 Yantai Lane</td><td>São Paulo</td><td>704948322302</td><td>Sorocaba</td></tr>",
                            "<tr><td>999 Sanaa Loop</td><td>Gauteng</td><td>918032330119</td><td>Soshanguve</td></tr>",
                            "<tr><td>421 Yaound Street</td><td>Sumy</td><td>726875628268</td><td>Šostka</td></tr>",
                            "<tr><td>507 Smolensk Loop</td><td>Sousse</td><td>80303246192</td><td>Sousse</td></tr>",
                            "<tr><td>1368 Maracabo Boulevard</td><td></td><td>934352415130</td><td>South Hill</td></tr>",
                            "<tr><td>1584 Ljubertsy Lane</td><td>England</td><td>285710089439</td><td>Southampton</td></tr>",
                            "<tr><td>360 Toulouse Parkway</td><td>England</td><td>949312333307</td><td>Southend-on-Sea</td></tr>",
                            "<tr><td>869 Shikarpur Way</td><td>England</td><td>590764256785</td><td>Southport</td></tr>",
                            "<tr><td>929 Tallahassee Loop</td><td>Gauteng</td><td>800716535041</td><td>Springs</td></tr>",
                            "<tr><td>1229 Valencia Parkway</td><td>Haskovo</td><td>352679173732</td><td>Stara Zagora</td></tr>",
                            "<tr><td>879 Newcastle Way</td><td>Michigan</td><td>206841104594</td><td>Sterling Heights</td></tr>",
                            "<tr><td>808 Naala-Porto Parkway</td><td>England</td><td>553452430707</td><td>Stockport</td></tr>",
                            "<tr><td>287 Cuautla Boulevard</td><td>Chuquisaca</td><td>82619513349</td><td>Sucre</td></tr>",
                            "<tr><td>1574 Goinia Boulevard</td><td>Heilongjiang</td><td>59634255214</td><td>Suihua</td></tr>",
                            "<tr><td>1103 Quilmes Boulevard</td><td>Piura</td><td>644021380889</td><td>Sullana</td></tr>",
                            "<tr><td>319 Plock Parkway</td><td>Istanbul</td><td>854259976812</td><td>Sultanbeyli</td></tr>",
                            "<tr><td>503 Sogamoso Loop</td><td>Sumqayit</td><td>834626715837</td><td>Sumqayit</td></tr>",
                            "<tr><td>140 Chiayi Parkway</td><td>Sumy</td><td>855863906434</td><td>Sumy</td></tr>",
                            "<tr><td>715 So Bernardo do Campo Lane</td><td>Kedah</td><td>181179321332</td><td>Sungai Petani</td></tr>",
                            "<tr><td>226 Brest Manor</td><td>California</td><td>785881412500</td><td>Sunnyvale</td></tr>",
                            "<tr><td>1947 Paarl Way</td><td>Central Java</td><td>834061016202</td><td>Surakarta</td></tr>",
                            "<tr><td>1823 Hoshiarpur Lane</td><td>Komi</td><td>307133768620</td><td>Syktyvkar</td></tr>",
                            "<tr><td>1926 Gingoog Street</td><td>Sisilia</td><td>469738825391</td><td>Syrakusa</td></tr>",
                            "<tr><td>42 Fontana Avenue</td><td>Fejr</td><td>437829801725</td><td>Székesfehérvár</td></tr>",
                            "<tr><td>605 Rio Claro Parkway</td><td>Tabora</td><td>352469351088</td><td>Tabora</td></tr>",
                            "<tr><td>600 Bradford Street</td><td>East Azerbaidzan</td><td>117592274996</td><td>Tabriz</td></tr>",
                            "<tr><td>780 Kimberley Way</td><td>Tabuk</td><td>824396883951</td><td>Tabuk</td></tr>",
                            "<tr><td>1892 Nabereznyje Telny Lane</td><td>Tutuila</td><td>478229987054</td><td>Tafuna</td></tr>",
                            "<tr><td>89 Allappuzha (Alleppey) Manor</td><td>National Capital Reg</td><td>255800440636</td><td>Taguig</td></tr>",
                            "<tr><td>1001 Miyakonojo Lane</td><td>Taizz</td><td>584316724815</td><td>Taizz</td></tr>",
                            "<tr><td>48 Maracabo Place</td><td>Central Luzon</td><td>82671830126</td><td>Talavera</td></tr>",
                            "<tr><td>1309 Weifang Street</td><td>Florida</td><td>435785045362</td><td>Tallahassee</td></tr>",
                            "<tr><td>102 Chapra Drive</td><td>Ibaragi</td><td>776031833752</td><td>Tama</td></tr>",
                            "<tr><td>1993 Tabuk Lane</td><td>Tamil Nadu</td><td>648482415405</td><td>Tambaram</td></tr>",
                            "<tr><td>1191 Tandil Drive</td><td>Southern Tagalog</td><td>45554316010</td><td>Tanauan</td></tr>",
                            "<tr><td>88 Nagaon Manor</td><td>Buenos Aires</td><td>779461480495</td><td>Tandil</td></tr>",
                            "<tr><td>262 A Corua (La Corua) Parkway</td><td>Dhaka</td><td>892775750063</td><td>Tangail</td></tr>",
                            "<tr><td>1489 Kakamigahara Lane</td><td>Taipei</td><td>29341849811</td><td>Tanshui</td></tr>",
                            "<tr><td>1479 Rustenburg Boulevard</td><td>Southern Tagalog</td><td>727785483194</td><td>Tanza</td></tr>",
                            "<tr><td>947 Trshavn Place</td><td>Central Luzon</td><td>50898428626</td><td>Tarlac</td></tr>",
                            "<tr><td>842 Salzburg Lane</td><td>Adana</td><td>697151428760</td><td>Tarsus</td></tr>",
                            "<tr><td>1289 Belm Boulevard</td><td>Tartumaa</td><td>237368926031</td><td>Tartu</td></tr>",
                            "<tr><td>935 Aden Boulevard</td><td>Central Java</td><td>335052544020</td><td>Tegal</td></tr>",
                            "<tr><td>97 Shimoga Avenue</td><td>Tel Aviv</td><td>177167004331</td><td>Tel Aviv-Jaffa</td></tr>",
                            "<tr><td>1599 Plock Drive</td><td>Tete</td><td>817248913162</td><td>Tete</td></tr>",
                            "<tr><td>1760 Oshawa Manor</td><td>Tianjin</td><td>56257502250</td><td>Tianjin</td></tr>",
                            "<tr><td>1908 Gaziantep Place</td><td>Liaoning</td><td>108053751300</td><td>Tiefa</td></tr>",
                            "<tr><td>1325 Fukuyama Street</td><td>Heilongjiang</td><td>288241215394</td><td>Tieli</td></tr>",
                            "<tr><td>539 Hami Way</td><td>Tokat</td><td>525518075499</td><td>Tokat</td></tr>",
                            "<tr><td>193 Bhusawal Place</td><td>Kang-won</td><td>745267607502</td><td>Tonghae</td></tr>",
                            "<tr><td>105 Dzerzinsk Manor</td><td>Inner Mongolia</td><td>240776414296</td><td>Tongliao</td></tr>",
                            "<tr><td>261 Saint Louis Way</td><td>Coahuila de Zaragoza</td><td>321944036800</td><td>Torreón</td></tr>",
                            "<tr><td>1359 Zhoushan Parkway</td><td>Streymoyar</td><td>46568045367</td><td>Tórshavn</td></tr>",
                            "<tr><td>1029 Dzerzinsk Manor</td><td>Ynlin</td><td>33173584456</td><td>Touliu</td></tr>",
                            "<tr><td>1386 Yangor Avenue</td><td>Provence-Alpes-Cte</td><td>449216226468</td><td>Toulon</td></tr>",
                            "<tr><td>391 Callao Drive</td><td>Midi-Pyrnes</td><td>440512153169</td><td>Toulouse</td></tr>",
                            "<tr><td>1923 Stara Zagora Lane</td><td>Nantou</td><td>182178609211</td><td>Tsaotun</td></tr>",
                            "<tr><td>469 Nakhon Sawan Street</td><td>Tuvassia</td><td>689199636560</td><td>Tšeboksary</td></tr>",
                            "<tr><td>1404 Taguig Drive</td><td>Okayama</td><td>572068624538</td><td>Tsuyama</td></tr>",
                            "<tr><td>862 Xintai Lane</td><td>Cagayan Valley</td><td>265153400632</td><td>Tuguegarao</td></tr>",
                            "<tr><td>1642 Charlotte Amalie Drive</td><td>Slaskie</td><td>821476736117</td><td>Tychy</td></tr>",
                            "<tr><td>1877 Ezhou Lane</td><td>Rajasthan</td><td>264541743403</td><td>Udaipur</td></tr>",
                            "<tr><td>1986 Sivas Place</td><td>Friuli-Venezia Giuli</td><td>182059202712</td><td>Udine</td></tr>",
                            "<tr><td>496 Celaya Drive</td><td>Nagano</td><td>759586584889</td><td>Ueda</td></tr>",
                            "<tr><td>300 Junan Street</td><td>Kyonggi</td><td>890289150158</td><td>Uijongbu</td></tr>",
                            "<tr><td>1704 Tambaram Manor</td><td>West Bengali</td><td>39463554936</td><td>Uluberia</td></tr>",
                            "<tr><td>1337 Lincoln Parkway</td><td>Saitama</td><td>597815221267</td><td>Urawa</td></tr>",
                            "<tr><td>251 Florencia Drive</td><td>Michoacn de Ocampo</td><td>118011831565</td><td>Uruapan</td></tr>",
                            "<tr><td>1215 Pyongyang Parkway</td><td>Usak</td><td>646237101779</td><td>Usak</td></tr>",
                            "<tr><td>1621 Tongliao Avenue</td><td>Irkutsk</td><td>209342540247</td><td>Usolje-Sibirskoje</td></tr>",
                            "<tr><td>954 Kimchon Place</td><td>West Bengali</td><td>541327526474</td><td>Uttarpara-Kotrung</td></tr>",
                            "<tr><td>943 Tokat Street</td><td>Vaduz</td><td>889318963672</td><td>Vaduz</td></tr>",
                            "<tr><td>163 Augusta-Richmond County Loop</td><td>Carabobo</td><td>754579047924</td><td>Valencia</td></tr>",
                            "<tr><td>544 Tarsus Boulevard</td><td>Gurico</td><td>892523334</td><td>Valle de la Pascua</td></tr>",
                            "<tr><td>86 Higashiosaka Lane</td><td>Guanajuato</td><td>957128697225</td><td>Valle de Santiago</td></tr>",
                            "<tr><td>990 Etawah Loop</td><td>Tamil Nadu</td><td>206169448769</td><td>Valparai</td></tr>",
                            "<tr><td>983 Santa F Way</td><td>British Colombia</td><td>145720452260</td><td>Vancouver</td></tr>",
                            "<tr><td>117 Boa Vista Way</td><td>Uttar Pradesh</td><td>677976133614</td><td>Varanasi (Benares)</td></tr>",
                            "<tr><td>1244 Allappuzha (Alleppey) Place</td><td>Buenos Aires</td><td>991802825778</td><td>Vicente López</td></tr>",
                            "<tr><td>758 Korolev Parkway</td><td>Andhra Pradesh</td><td>441628280920</td><td>Vijayawada</td></tr>",
                            "<tr><td>306 Antofagasta Place</td><td>Esprito Santo</td><td>378318851631</td><td>Vila Velha</td></tr>",
                            "<tr><td>1059 Yuncheng Avenue</td><td>Vilna</td><td>107092893983</td><td>Vilnius</td></tr>",
                            "<tr><td>600 Purnea (Purnia) Avenue</td><td>Nghe An</td><td>638409958875</td><td>Vinh</td></tr>",
                            "<tr><td>1133 Rizhao Avenue</td><td>Pernambuco</td><td>600264533987</td><td>Vitória de Santo Antão</td></tr>",
                            "<tr><td>1944 Bamenda Way</td><td>Michigan</td><td>75975221996</td><td>Warren</td></tr>",
                            "<tr><td>1464 Kursk Parkway</td><td>Shandong</td><td>338758048786</td><td>Weifang</td></tr>",
                            "<tr><td>68 Molodetno Manor</td><td>Nordrhein-Westfalen</td><td>146640639760</td><td>Witten</td></tr>",
                            "<tr><td>1411 Lillydale Drive</td><td>QLD</td><td>6172235589</td><td>Woodridge</td></tr>",
                            "<tr><td>28 MySQL Boulevard</td><td>QLD</td><td></td><td>Woodridge</td></tr>",
                            "<tr><td>505 Madiun Boulevard</td><td>Dolnoslaskie</td><td>970638808606</td><td>Wroclaw</td></tr>",
                            "<tr><td>1103 Bilbays Parkway</td><td>Hubei</td><td>279979529227</td><td>Xi´angfan</td></tr>",
                            "<tr><td>1586 Guaruj Place</td><td>Hunan</td><td>947233365992</td><td>Xi´angtan</td></tr>",
                            "<tr><td>415 Pune Avenue</td><td>Shandong</td><td>203202500108</td><td>Xintai</td></tr>",
                            "<tr><td>1909 Benguela Lane</td><td>Henan</td><td>624138001031</td><td>Xinxiang</td></tr>",
                            "<tr><td>808 Bhopal Manor</td><td>Haryana</td><td>465887807014</td><td>Yamuna Nagar</td></tr>",
                            "<tr><td>962 Tama Loop</td><td></td><td>282667506728</td><td>Yangor</td></tr>",
                            "<tr><td>85 San Felipe de Puerto Plata Drive</td><td>Shandong</td><td>170739645687</td><td>Yantai</td></tr>",
                            "<tr><td>114 Jalib al-Shuyukh Manor</td><td>Centre</td><td>845378657301</td><td>Yaoundé</td></tr>",
                            "<tr><td>42 Brindisi Place</td><td>Yerevan</td><td>42384721397</td><td>Yerevan</td></tr>",
                            "<tr><td>1297 Alvorada Parkway</td><td>Ningxia</td><td>508348602835</td><td>Yinchuan</td></tr>",
                            "<tr><td>1993 0 Loop</td><td>Liaoning</td><td>25865528181</td><td>Yingkou</td></tr>",
                            "<tr><td>1515 Korla Way</td><td>England</td><td>959467760895</td><td>York</td></tr>",
                            "<tr><td>798 Cianjur Avenue</td><td>Shanxi</td><td>499408708580</td><td>Yuncheng</td></tr>",
                            "<tr><td>867 Benin City Avenue</td><td>Henan</td><td>168884817145</td><td>Yuzhou</td></tr>",
                            "<tr><td>832 Nakhon Sawan Manor</td><td>Inner Mongolia</td><td>275595571388</td><td>Zalantun</td></tr>",
                            "<tr><td>1842 Luzinia Boulevard</td><td>Zanzibar West</td><td>706878974831</td><td>Zanzibar</td></tr>",
                            "<tr><td>1778 Gijn Manor</td><td>Hubei</td><td>288910576761</td><td>Zaoyang</td></tr>",
                            "<tr><td>1088 Ibirit Place</td><td>Jalisco</td><td>49084281333</td><td>Zapopan</td></tr>",
                            "<tr><td>885 Yingkou Manor</td><td>Kaduna</td><td>588964509072</td><td>Zaria</td></tr>",
                            "<tr><td>1378 Beira Loop</td><td>Krasnojarsk</td><td>840957664136</td><td>Zeleznogorsk</td></tr>",
                            "<tr><td>521 San Juan Bautista Tuxtepec Place</td><td>Qaraghandy</td><td>844018348565</td><td>Zhezqazghan</td></tr>",
                            "<tr><td>346 Cam Ranh Avenue</td><td>Zhejiang</td><td>978430786151</td><td>Zhoushan</td></tr>",
                            "<tr><td>1889 Valparai Way</td><td>Ziguinchor</td><td>670370974122</td><td>Ziguinchor</td></tr>",
                            "</table>"
                        ]
                    }
                }
            ],
            "execution_count": 12
        },
        {
            "cell_type": "code",
            "source": [
                "-- fetch customers name and address by inner join"
            ],
            "metadata": {
                "language": "sql",
                "azdata_cell_guid": "fd093cfb-81c3-4c85-9809-54db0209b4ec"
            },
            "outputs": [],
            "execution_count": null
        },
        {
            "cell_type": "code",
            "source": [
                "drop table if exists family;\r\n",
                "create table family (\r\n",
                "    id int primary key,\r\n",
                "    cust_id int,\r\n",
                "    members int,\r\n",
                "    children int default 0\r\n",
                ")"
            ],
            "metadata": {
                "language": "sql",
                "azdata_cell_guid": "84e4d96c-2e2f-4877-bec0-31721d9521a2",
                "tags": []
            },
            "outputs": [
                {
                    "output_type": "display_data",
                    "data": {
                        "text/html": "Commands completed successfully"
                    },
                    "metadata": {}
                },
                {
                    "output_type": "display_data",
                    "data": {
                        "text/html": "Commands completed successfully"
                    },
                    "metadata": {}
                },
                {
                    "output_type": "display_data",
                    "data": {
                        "text/html": "Total execution time: 00:00:00.013"
                    },
                    "metadata": {}
                }
            ],
            "execution_count": 24
        },
        {
            "cell_type": "code",
            "source": [
                "INSERT into family VALUES (1, 1, 4, 1);\r\n",
                "INSERT into family VALUES (2, 2, 5, 1);\r\n",
                "INSERT into family VALUES (3, 3, 3, 0);\r\n",
                "INSERT into family VALUES (4, 4, 6, 3);\r\n",
                "INSERT into family VALUES (5, 5, 10, 5);"
            ],
            "metadata": {
                "language": "sql",
                "azdata_cell_guid": "8b03a06b-d1a8-4f44-9ed8-97be96db9f1a",
                "tags": []
            },
            "outputs": [
                {
                    "output_type": "display_data",
                    "data": {
                        "text/html": "Commands completed successfully"
                    },
                    "metadata": {}
                },
                {
                    "output_type": "display_data",
                    "data": {
                        "text/html": "Commands completed successfully"
                    },
                    "metadata": {}
                },
                {
                    "output_type": "display_data",
                    "data": {
                        "text/html": "Commands completed successfully"
                    },
                    "metadata": {}
                },
                {
                    "output_type": "display_data",
                    "data": {
                        "text/html": "Commands completed successfully"
                    },
                    "metadata": {}
                },
                {
                    "output_type": "display_data",
                    "data": {
                        "text/html": "Commands completed successfully"
                    },
                    "metadata": {}
                },
                {
                    "output_type": "display_data",
                    "data": {
                        "text/html": "Total execution time: 00:00:00.005"
                    },
                    "metadata": {}
                }
            ],
            "execution_count": 25
        },
        {
            "cell_type": "code",
            "source": [
                "SELECT\r\n",
                "    customer.first_name,\r\n",
                "    family.members,\r\n",
                "    family.children\r\n",
                "FROM customer   join family \r\n",
                "on customer.customer_id = family.cust_id;"
            ],
            "metadata": {
                "language": "sql",
                "azdata_cell_guid": "e624baf6-8758-4112-aaaf-146625a1bb73"
            },
            "outputs": [
                {
                    "output_type": "display_data",
                    "data": {
                        "text/html": "(5 row(s) affected)"
                    },
                    "metadata": {}
                },
                {
                    "output_type": "display_data",
                    "data": {
                        "text/html": "Total execution time: 00:00:01.004"
                    },
                    "metadata": {}
                },
                {
                    "output_type": "execute_result",
                    "metadata": {},
                    "execution_count": 32,
                    "data": {
                        "application/vnd.dataresource+json": {
                            "schema": {
                                "fields": [
                                    {
                                        "name": "first_name"
                                    },
                                    {
                                        "name": "members"
                                    },
                                    {
                                        "name": "children"
                                    }
                                ]
                            },
                            "data": [
                                {
                                    "first_name": "MARY",
                                    "members": "4",
                                    "children": "1"
                                },
                                {
                                    "first_name": "PATRICIA",
                                    "members": "5",
                                    "children": "1"
                                },
                                {
                                    "first_name": "LINDA",
                                    "members": "3",
                                    "children": "0"
                                },
                                {
                                    "first_name": "BARBARA",
                                    "members": "6",
                                    "children": "3"
                                },
                                {
                                    "first_name": "ELIZABETH",
                                    "members": "10",
                                    "children": "5"
                                }
                            ]
                        },
                        "text/html": [
                            "<table>",
                            "<tr><th>first_name</th><th>members</th><th>children</th></tr>",
                            "<tr><td>MARY</td><td>4</td><td>1</td></tr>",
                            "<tr><td>PATRICIA</td><td>5</td><td>1</td></tr>",
                            "<tr><td>LINDA</td><td>3</td><td>0</td></tr>",
                            "<tr><td>BARBARA</td><td>6</td><td>3</td></tr>",
                            "<tr><td>ELIZABETH</td><td>10</td><td>5</td></tr>",
                            "</table>"
                        ]
                    }
                }
            ],
            "execution_count": 32
        },
        {
            "cell_type": "code",
            "source": [
                "SELECT\r\n",
                "    customer.first_name,\r\n",
                "    family.members,\r\n",
                "    family.children\r\n",
                "FROM customer left join family \r\n",
                "on customer.customer_id = family.cust_id;"
            ],
            "metadata": {
                "language": "sql",
                "azdata_cell_guid": "1752375e-ecc7-419e-8e2c-f92326638aab"
            },
            "outputs": [
                {
                    "output_type": "display_data",
                    "data": {
                        "text/html": "(599 row(s) affected)"
                    },
                    "metadata": {}
                },
                {
                    "output_type": "display_data",
                    "data": {
                        "text/html": "Total execution time: 00:00:01.005"
                    },
                    "metadata": {}
                },
                {
                    "output_type": "execute_result",
                    "metadata": {},
                    "execution_count": 33,
                    "data": {
                        "application/vnd.dataresource+json": {
                            "schema": {
                                "fields": [
                                    {
                                        "name": "first_name"
                                    },
                                    {
                                        "name": "members"
                                    },
                                    {
                                        "name": "children"
                                    }
                                ]
                            },
                            "data": [
                                {
                                    "first_name": "MARY",
                                    "members": "4",
                                    "children": "1"
                                },
                                {
                                    "first_name": "PATRICIA",
                                    "members": "5",
                                    "children": "1"
                                },
                                {
                                    "first_name": "LINDA",
                                    "members": "3",
                                    "children": "0"
                                },
                                {
                                    "first_name": "BARBARA",
                                    "members": "6",
                                    "children": "3"
                                },
                                {
                                    "first_name": "ELIZABETH",
                                    "members": "10",
                                    "children": "5"
                                },
                                {
                                    "first_name": "JENNIFER",
                                    "members": "NULL",
                                    "children": "NULL"
                                },
                                {
                                    "first_name": "MARIA",
                                    "members": "NULL",
                                    "children": "NULL"
                                },
                                {
                                    "first_name": "SUSAN",
                                    "members": "NULL",
                                    "children": "NULL"
                                },
                                {
                                    "first_name": "MARGARET",
                                    "members": "NULL",
                                    "children": "NULL"
                                },
                                {
                                    "first_name": "DOROTHY",
                                    "members": "NULL",
                                    "children": "NULL"
                                },
                                {
                                    "first_name": "LISA",
                                    "members": "NULL",
                                    "children": "NULL"
                                },
                                {
                                    "first_name": "NANCY",
                                    "members": "NULL",
                                    "children": "NULL"
                                },
                                {
                                    "first_name": "KAREN",
                                    "members": "NULL",
                                    "children": "NULL"
                                },
                                {
                                    "first_name": "BETTY",
                                    "members": "NULL",
                                    "children": "NULL"
                                },
                                {
                                    "first_name": "HELEN",
                                    "members": "NULL",
                                    "children": "NULL"
                                },
                                {
                                    "first_name": "SANDRA",
                                    "members": "NULL",
                                    "children": "NULL"
                                },
                                {
                                    "first_name": "DONNA",
                                    "members": "NULL",
                                    "children": "NULL"
                                },
                                {
                                    "first_name": "CAROL",
                                    "members": "NULL",
                                    "children": "NULL"
                                },
                                {
                                    "first_name": "RUTH",
                                    "members": "NULL",
                                    "children": "NULL"
                                },
                                {
                                    "first_name": "SHARON",
                                    "members": "NULL",
                                    "children": "NULL"
                                },
                                {
                                    "first_name": "MICHELLE",
                                    "members": "NULL",
                                    "children": "NULL"
                                },
                                {
                                    "first_name": "LAURA",
                                    "members": "NULL",
                                    "children": "NULL"
                                },
                                {
                                    "first_name": "SARAH",
                                    "members": "NULL",
                                    "children": "NULL"
                                },
                                {
                                    "first_name": "KIMBERLY",
                                    "members": "NULL",
                                    "children": "NULL"
                                },
                                {
                                    "first_name": "DEBORAH",
                                    "members": "NULL",
                                    "children": "NULL"
                                },
                                {
                                    "first_name": "JESSICA",
                                    "members": "NULL",
                                    "children": "NULL"
                                },
                                {
                                    "first_name": "SHIRLEY",
                                    "members": "NULL",
                                    "children": "NULL"
                                },
                                {
                                    "first_name": "CYNTHIA",
                                    "members": "NULL",
                                    "children": "NULL"
                                },
                                {
                                    "first_name": "ANGELA",
                                    "members": "NULL",
                                    "children": "NULL"
                                },
                                {
                                    "first_name": "MELISSA",
                                    "members": "NULL",
                                    "children": "NULL"
                                },
                                {
                                    "first_name": "BRENDA",
                                    "members": "NULL",
                                    "children": "NULL"
                                },
                                {
                                    "first_name": "AMY",
                                    "members": "NULL",
                                    "children": "NULL"
                                },
                                {
                                    "first_name": "ANNA",
                                    "members": "NULL",
                                    "children": "NULL"
                                },
                                {
                                    "first_name": "REBECCA",
                                    "members": "NULL",
                                    "children": "NULL"
                                },
                                {
                                    "first_name": "VIRGINIA",
                                    "members": "NULL",
                                    "children": "NULL"
                                },
                                {
                                    "first_name": "KATHLEEN",
                                    "members": "NULL",
                                    "children": "NULL"
                                },
                                {
                                    "first_name": "PAMELA",
                                    "members": "NULL",
                                    "children": "NULL"
                                },
                                {
                                    "first_name": "MARTHA",
                                    "members": "NULL",
                                    "children": "NULL"
                                },
                                {
                                    "first_name": "DEBRA",
                                    "members": "NULL",
                                    "children": "NULL"
                                },
                                {
                                    "first_name": "AMANDA",
                                    "members": "NULL",
                                    "children": "NULL"
                                },
                                {
                                    "first_name": "STEPHANIE",
                                    "members": "NULL",
                                    "children": "NULL"
                                },
                                {
                                    "first_name": "CAROLYN",
                                    "members": "NULL",
                                    "children": "NULL"
                                },
                                {
                                    "first_name": "CHRISTINE",
                                    "members": "NULL",
                                    "children": "NULL"
                                },
                                {
                                    "first_name": "MARIE",
                                    "members": "NULL",
                                    "children": "NULL"
                                },
                                {
                                    "first_name": "JANET",
                                    "members": "NULL",
                                    "children": "NULL"
                                },
                                {
                                    "first_name": "CATHERINE",
                                    "members": "NULL",
                                    "children": "NULL"
                                },
                                {
                                    "first_name": "FRANCES",
                                    "members": "NULL",
                                    "children": "NULL"
                                },
                                {
                                    "first_name": "ANN",
                                    "members": "NULL",
                                    "children": "NULL"
                                },
                                {
                                    "first_name": "JOYCE",
                                    "members": "NULL",
                                    "children": "NULL"
                                },
                                {
                                    "first_name": "DIANE",
                                    "members": "NULL",
                                    "children": "NULL"
                                },
                                {
                                    "first_name": "ALICE",
                                    "members": "NULL",
                                    "children": "NULL"
                                },
                                {
                                    "first_name": "JULIE",
                                    "members": "NULL",
                                    "children": "NULL"
                                },
                                {
                                    "first_name": "HEATHER",
                                    "members": "NULL",
                                    "children": "NULL"
                                },
                                {
                                    "first_name": "TERESA",
                                    "members": "NULL",
                                    "children": "NULL"
                                },
                                {
                                    "first_name": "DORIS",
                                    "members": "NULL",
                                    "children": "NULL"
                                },
                                {
                                    "first_name": "GLORIA",
                                    "members": "NULL",
                                    "children": "NULL"
                                },
                                {
                                    "first_name": "EVELYN",
                                    "members": "NULL",
                                    "children": "NULL"
                                },
                                {
                                    "first_name": "JEAN",
                                    "members": "NULL",
                                    "children": "NULL"
                                },
                                {
                                    "first_name": "CHERYL",
                                    "members": "NULL",
                                    "children": "NULL"
                                },
                                {
                                    "first_name": "MILDRED",
                                    "members": "NULL",
                                    "children": "NULL"
                                },
                                {
                                    "first_name": "KATHERINE",
                                    "members": "NULL",
                                    "children": "NULL"
                                },
                                {
                                    "first_name": "JOAN",
                                    "members": "NULL",
                                    "children": "NULL"
                                },
                                {
                                    "first_name": "ASHLEY",
                                    "members": "NULL",
                                    "children": "NULL"
                                },
                                {
                                    "first_name": "JUDITH",
                                    "members": "NULL",
                                    "children": "NULL"
                                },
                                {
                                    "first_name": "ROSE",
                                    "members": "NULL",
                                    "children": "NULL"
                                },
                                {
                                    "first_name": "JANICE",
                                    "members": "NULL",
                                    "children": "NULL"
                                },
                                {
                                    "first_name": "KELLY",
                                    "members": "NULL",
                                    "children": "NULL"
                                },
                                {
                                    "first_name": "NICOLE",
                                    "members": "NULL",
                                    "children": "NULL"
                                },
                                {
                                    "first_name": "JUDY",
                                    "members": "NULL",
                                    "children": "NULL"
                                },
                                {
                                    "first_name": "CHRISTINA",
                                    "members": "NULL",
                                    "children": "NULL"
                                },
                                {
                                    "first_name": "KATHY",
                                    "members": "NULL",
                                    "children": "NULL"
                                },
                                {
                                    "first_name": "THERESA",
                                    "members": "NULL",
                                    "children": "NULL"
                                },
                                {
                                    "first_name": "BEVERLY",
                                    "members": "NULL",
                                    "children": "NULL"
                                },
                                {
                                    "first_name": "DENISE",
                                    "members": "NULL",
                                    "children": "NULL"
                                },
                                {
                                    "first_name": "TAMMY",
                                    "members": "NULL",
                                    "children": "NULL"
                                },
                                {
                                    "first_name": "IRENE",
                                    "members": "NULL",
                                    "children": "NULL"
                                },
                                {
                                    "first_name": "JANE",
                                    "members": "NULL",
                                    "children": "NULL"
                                },
                                {
                                    "first_name": "LORI",
                                    "members": "NULL",
                                    "children": "NULL"
                                },
                                {
                                    "first_name": "RACHEL",
                                    "members": "NULL",
                                    "children": "NULL"
                                },
                                {
                                    "first_name": "MARILYN",
                                    "members": "NULL",
                                    "children": "NULL"
                                },
                                {
                                    "first_name": "ANDREA",
                                    "members": "NULL",
                                    "children": "NULL"
                                },
                                {
                                    "first_name": "KATHRYN",
                                    "members": "NULL",
                                    "children": "NULL"
                                },
                                {
                                    "first_name": "LOUISE",
                                    "members": "NULL",
                                    "children": "NULL"
                                },
                                {
                                    "first_name": "SARA",
                                    "members": "NULL",
                                    "children": "NULL"
                                },
                                {
                                    "first_name": "ANNE",
                                    "members": "NULL",
                                    "children": "NULL"
                                },
                                {
                                    "first_name": "JACQUELINE",
                                    "members": "NULL",
                                    "children": "NULL"
                                },
                                {
                                    "first_name": "WANDA",
                                    "members": "NULL",
                                    "children": "NULL"
                                },
                                {
                                    "first_name": "BONNIE",
                                    "members": "NULL",
                                    "children": "NULL"
                                },
                                {
                                    "first_name": "JULIA",
                                    "members": "NULL",
                                    "children": "NULL"
                                },
                                {
                                    "first_name": "RUBY",
                                    "members": "NULL",
                                    "children": "NULL"
                                },
                                {
                                    "first_name": "LOIS",
                                    "members": "NULL",
                                    "children": "NULL"
                                },
                                {
                                    "first_name": "TINA",
                                    "members": "NULL",
                                    "children": "NULL"
                                },
                                {
                                    "first_name": "PHYLLIS",
                                    "members": "NULL",
                                    "children": "NULL"
                                },
                                {
                                    "first_name": "NORMA",
                                    "members": "NULL",
                                    "children": "NULL"
                                },
                                {
                                    "first_name": "PAULA",
                                    "members": "NULL",
                                    "children": "NULL"
                                },
                                {
                                    "first_name": "DIANA",
                                    "members": "NULL",
                                    "children": "NULL"
                                },
                                {
                                    "first_name": "ANNIE",
                                    "members": "NULL",
                                    "children": "NULL"
                                },
                                {
                                    "first_name": "LILLIAN",
                                    "members": "NULL",
                                    "children": "NULL"
                                },
                                {
                                    "first_name": "EMILY",
                                    "members": "NULL",
                                    "children": "NULL"
                                },
                                {
                                    "first_name": "ROBIN",
                                    "members": "NULL",
                                    "children": "NULL"
                                },
                                {
                                    "first_name": "PEGGY",
                                    "members": "NULL",
                                    "children": "NULL"
                                },
                                {
                                    "first_name": "CRYSTAL",
                                    "members": "NULL",
                                    "children": "NULL"
                                },
                                {
                                    "first_name": "GLADYS",
                                    "members": "NULL",
                                    "children": "NULL"
                                },
                                {
                                    "first_name": "RITA",
                                    "members": "NULL",
                                    "children": "NULL"
                                },
                                {
                                    "first_name": "DAWN",
                                    "members": "NULL",
                                    "children": "NULL"
                                },
                                {
                                    "first_name": "CONNIE",
                                    "members": "NULL",
                                    "children": "NULL"
                                },
                                {
                                    "first_name": "FLORENCE",
                                    "members": "NULL",
                                    "children": "NULL"
                                },
                                {
                                    "first_name": "TRACY",
                                    "members": "NULL",
                                    "children": "NULL"
                                },
                                {
                                    "first_name": "EDNA",
                                    "members": "NULL",
                                    "children": "NULL"
                                },
                                {
                                    "first_name": "TIFFANY",
                                    "members": "NULL",
                                    "children": "NULL"
                                },
                                {
                                    "first_name": "CARMEN",
                                    "members": "NULL",
                                    "children": "NULL"
                                },
                                {
                                    "first_name": "ROSA",
                                    "members": "NULL",
                                    "children": "NULL"
                                },
                                {
                                    "first_name": "CINDY",
                                    "members": "NULL",
                                    "children": "NULL"
                                },
                                {
                                    "first_name": "GRACE",
                                    "members": "NULL",
                                    "children": "NULL"
                                },
                                {
                                    "first_name": "WENDY",
                                    "members": "NULL",
                                    "children": "NULL"
                                },
                                {
                                    "first_name": "VICTORIA",
                                    "members": "NULL",
                                    "children": "NULL"
                                },
                                {
                                    "first_name": "EDITH",
                                    "members": "NULL",
                                    "children": "NULL"
                                },
                                {
                                    "first_name": "KIM",
                                    "members": "NULL",
                                    "children": "NULL"
                                },
                                {
                                    "first_name": "SHERRY",
                                    "members": "NULL",
                                    "children": "NULL"
                                },
                                {
                                    "first_name": "SYLVIA",
                                    "members": "NULL",
                                    "children": "NULL"
                                },
                                {
                                    "first_name": "JOSEPHINE",
                                    "members": "NULL",
                                    "children": "NULL"
                                },
                                {
                                    "first_name": "THELMA",
                                    "members": "NULL",
                                    "children": "NULL"
                                },
                                {
                                    "first_name": "SHANNON",
                                    "members": "NULL",
                                    "children": "NULL"
                                },
                                {
                                    "first_name": "SHEILA",
                                    "members": "NULL",
                                    "children": "NULL"
                                },
                                {
                                    "first_name": "ETHEL",
                                    "members": "NULL",
                                    "children": "NULL"
                                },
                                {
                                    "first_name": "ELLEN",
                                    "members": "NULL",
                                    "children": "NULL"
                                },
                                {
                                    "first_name": "ELAINE",
                                    "members": "NULL",
                                    "children": "NULL"
                                },
                                {
                                    "first_name": "MARJORIE",
                                    "members": "NULL",
                                    "children": "NULL"
                                },
                                {
                                    "first_name": "CARRIE",
                                    "members": "NULL",
                                    "children": "NULL"
                                },
                                {
                                    "first_name": "CHARLOTTE",
                                    "members": "NULL",
                                    "children": "NULL"
                                },
                                {
                                    "first_name": "MONICA",
                                    "members": "NULL",
                                    "children": "NULL"
                                },
                                {
                                    "first_name": "ESTHER",
                                    "members": "NULL",
                                    "children": "NULL"
                                },
                                {
                                    "first_name": "PAULINE",
                                    "members": "NULL",
                                    "children": "NULL"
                                },
                                {
                                    "first_name": "EMMA",
                                    "members": "NULL",
                                    "children": "NULL"
                                },
                                {
                                    "first_name": "JUANITA",
                                    "members": "NULL",
                                    "children": "NULL"
                                },
                                {
                                    "first_name": "ANITA",
                                    "members": "NULL",
                                    "children": "NULL"
                                },
                                {
                                    "first_name": "RHONDA",
                                    "members": "NULL",
                                    "children": "NULL"
                                },
                                {
                                    "first_name": "HAZEL",
                                    "members": "NULL",
                                    "children": "NULL"
                                },
                                {
                                    "first_name": "AMBER",
                                    "members": "NULL",
                                    "children": "NULL"
                                },
                                {
                                    "first_name": "EVA",
                                    "members": "NULL",
                                    "children": "NULL"
                                },
                                {
                                    "first_name": "DEBBIE",
                                    "members": "NULL",
                                    "children": "NULL"
                                },
                                {
                                    "first_name": "APRIL",
                                    "members": "NULL",
                                    "children": "NULL"
                                },
                                {
                                    "first_name": "LESLIE",
                                    "members": "NULL",
                                    "children": "NULL"
                                },
                                {
                                    "first_name": "CLARA",
                                    "members": "NULL",
                                    "children": "NULL"
                                },
                                {
                                    "first_name": "LUCILLE",
                                    "members": "NULL",
                                    "children": "NULL"
                                },
                                {
                                    "first_name": "JAMIE",
                                    "members": "NULL",
                                    "children": "NULL"
                                },
                                {
                                    "first_name": "JOANNE",
                                    "members": "NULL",
                                    "children": "NULL"
                                },
                                {
                                    "first_name": "ELEANOR",
                                    "members": "NULL",
                                    "children": "NULL"
                                },
                                {
                                    "first_name": "VALERIE",
                                    "members": "NULL",
                                    "children": "NULL"
                                },
                                {
                                    "first_name": "DANIELLE",
                                    "members": "NULL",
                                    "children": "NULL"
                                },
                                {
                                    "first_name": "MEGAN",
                                    "members": "NULL",
                                    "children": "NULL"
                                },
                                {
                                    "first_name": "ALICIA",
                                    "members": "NULL",
                                    "children": "NULL"
                                },
                                {
                                    "first_name": "SUZANNE",
                                    "members": "NULL",
                                    "children": "NULL"
                                },
                                {
                                    "first_name": "MICHELE",
                                    "members": "NULL",
                                    "children": "NULL"
                                },
                                {
                                    "first_name": "GAIL",
                                    "members": "NULL",
                                    "children": "NULL"
                                },
                                {
                                    "first_name": "BERTHA",
                                    "members": "NULL",
                                    "children": "NULL"
                                },
                                {
                                    "first_name": "DARLENE",
                                    "members": "NULL",
                                    "children": "NULL"
                                },
                                {
                                    "first_name": "VERONICA",
                                    "members": "NULL",
                                    "children": "NULL"
                                },
                                {
                                    "first_name": "JILL",
                                    "members": "NULL",
                                    "children": "NULL"
                                },
                                {
                                    "first_name": "ERIN",
                                    "members": "NULL",
                                    "children": "NULL"
                                },
                                {
                                    "first_name": "GERALDINE",
                                    "members": "NULL",
                                    "children": "NULL"
                                },
                                {
                                    "first_name": "LAUREN",
                                    "members": "NULL",
                                    "children": "NULL"
                                },
                                {
                                    "first_name": "CATHY",
                                    "members": "NULL",
                                    "children": "NULL"
                                },
                                {
                                    "first_name": "JOANN",
                                    "members": "NULL",
                                    "children": "NULL"
                                },
                                {
                                    "first_name": "LORRAINE",
                                    "members": "NULL",
                                    "children": "NULL"
                                },
                                {
                                    "first_name": "LYNN",
                                    "members": "NULL",
                                    "children": "NULL"
                                },
                                {
                                    "first_name": "SALLY",
                                    "members": "NULL",
                                    "children": "NULL"
                                },
                                {
                                    "first_name": "REGINA",
                                    "members": "NULL",
                                    "children": "NULL"
                                },
                                {
                                    "first_name": "ERICA",
                                    "members": "NULL",
                                    "children": "NULL"
                                },
                                {
                                    "first_name": "BEATRICE",
                                    "members": "NULL",
                                    "children": "NULL"
                                },
                                {
                                    "first_name": "DOLORES",
                                    "members": "NULL",
                                    "children": "NULL"
                                },
                                {
                                    "first_name": "BERNICE",
                                    "members": "NULL",
                                    "children": "NULL"
                                },
                                {
                                    "first_name": "AUDREY",
                                    "members": "NULL",
                                    "children": "NULL"
                                },
                                {
                                    "first_name": "YVONNE",
                                    "members": "NULL",
                                    "children": "NULL"
                                },
                                {
                                    "first_name": "ANNETTE",
                                    "members": "NULL",
                                    "children": "NULL"
                                },
                                {
                                    "first_name": "JUNE",
                                    "members": "NULL",
                                    "children": "NULL"
                                },
                                {
                                    "first_name": "SAMANTHA",
                                    "members": "NULL",
                                    "children": "NULL"
                                },
                                {
                                    "first_name": "MARION",
                                    "members": "NULL",
                                    "children": "NULL"
                                },
                                {
                                    "first_name": "DANA",
                                    "members": "NULL",
                                    "children": "NULL"
                                },
                                {
                                    "first_name": "STACY",
                                    "members": "NULL",
                                    "children": "NULL"
                                },
                                {
                                    "first_name": "ANA",
                                    "members": "NULL",
                                    "children": "NULL"
                                },
                                {
                                    "first_name": "RENEE",
                                    "members": "NULL",
                                    "children": "NULL"
                                },
                                {
                                    "first_name": "IDA",
                                    "members": "NULL",
                                    "children": "NULL"
                                },
                                {
                                    "first_name": "VIVIAN",
                                    "members": "NULL",
                                    "children": "NULL"
                                },
                                {
                                    "first_name": "ROBERTA",
                                    "members": "NULL",
                                    "children": "NULL"
                                },
                                {
                                    "first_name": "HOLLY",
                                    "members": "NULL",
                                    "children": "NULL"
                                },
                                {
                                    "first_name": "BRITTANY",
                                    "members": "NULL",
                                    "children": "NULL"
                                },
                                {
                                    "first_name": "MELANIE",
                                    "members": "NULL",
                                    "children": "NULL"
                                },
                                {
                                    "first_name": "LORETTA",
                                    "members": "NULL",
                                    "children": "NULL"
                                },
                                {
                                    "first_name": "YOLANDA",
                                    "members": "NULL",
                                    "children": "NULL"
                                },
                                {
                                    "first_name": "JEANETTE",
                                    "members": "NULL",
                                    "children": "NULL"
                                },
                                {
                                    "first_name": "LAURIE",
                                    "members": "NULL",
                                    "children": "NULL"
                                },
                                {
                                    "first_name": "KATIE",
                                    "members": "NULL",
                                    "children": "NULL"
                                },
                                {
                                    "first_name": "KRISTEN",
                                    "members": "NULL",
                                    "children": "NULL"
                                },
                                {
                                    "first_name": "VANESSA",
                                    "members": "NULL",
                                    "children": "NULL"
                                },
                                {
                                    "first_name": "ALMA",
                                    "members": "NULL",
                                    "children": "NULL"
                                },
                                {
                                    "first_name": "SUE",
                                    "members": "NULL",
                                    "children": "NULL"
                                },
                                {
                                    "first_name": "ELSIE",
                                    "members": "NULL",
                                    "children": "NULL"
                                },
                                {
                                    "first_name": "BETH",
                                    "members": "NULL",
                                    "children": "NULL"
                                },
                                {
                                    "first_name": "JEANNE",
                                    "members": "NULL",
                                    "children": "NULL"
                                },
                                {
                                    "first_name": "VICKI",
                                    "members": "NULL",
                                    "children": "NULL"
                                },
                                {
                                    "first_name": "CARLA",
                                    "members": "NULL",
                                    "children": "NULL"
                                },
                                {
                                    "first_name": "TARA",
                                    "members": "NULL",
                                    "children": "NULL"
                                },
                                {
                                    "first_name": "ROSEMARY",
                                    "members": "NULL",
                                    "children": "NULL"
                                },
                                {
                                    "first_name": "EILEEN",
                                    "members": "NULL",
                                    "children": "NULL"
                                },
                                {
                                    "first_name": "TERRI",
                                    "members": "NULL",
                                    "children": "NULL"
                                },
                                {
                                    "first_name": "GERTRUDE",
                                    "members": "NULL",
                                    "children": "NULL"
                                },
                                {
                                    "first_name": "LUCY",
                                    "members": "NULL",
                                    "children": "NULL"
                                },
                                {
                                    "first_name": "TONYA",
                                    "members": "NULL",
                                    "children": "NULL"
                                },
                                {
                                    "first_name": "ELLA",
                                    "members": "NULL",
                                    "children": "NULL"
                                },
                                {
                                    "first_name": "STACEY",
                                    "members": "NULL",
                                    "children": "NULL"
                                },
                                {
                                    "first_name": "WILMA",
                                    "members": "NULL",
                                    "children": "NULL"
                                },
                                {
                                    "first_name": "GINA",
                                    "members": "NULL",
                                    "children": "NULL"
                                },
                                {
                                    "first_name": "KRISTIN",
                                    "members": "NULL",
                                    "children": "NULL"
                                },
                                {
                                    "first_name": "JESSIE",
                                    "members": "NULL",
                                    "children": "NULL"
                                },
                                {
                                    "first_name": "NATALIE",
                                    "members": "NULL",
                                    "children": "NULL"
                                },
                                {
                                    "first_name": "AGNES",
                                    "members": "NULL",
                                    "children": "NULL"
                                },
                                {
                                    "first_name": "VERA",
                                    "members": "NULL",
                                    "children": "NULL"
                                },
                                {
                                    "first_name": "WILLIE",
                                    "members": "NULL",
                                    "children": "NULL"
                                },
                                {
                                    "first_name": "CHARLENE",
                                    "members": "NULL",
                                    "children": "NULL"
                                },
                                {
                                    "first_name": "BESSIE",
                                    "members": "NULL",
                                    "children": "NULL"
                                },
                                {
                                    "first_name": "DELORES",
                                    "members": "NULL",
                                    "children": "NULL"
                                },
                                {
                                    "first_name": "MELINDA",
                                    "members": "NULL",
                                    "children": "NULL"
                                },
                                {
                                    "first_name": "PEARL",
                                    "members": "NULL",
                                    "children": "NULL"
                                },
                                {
                                    "first_name": "ARLENE",
                                    "members": "NULL",
                                    "children": "NULL"
                                },
                                {
                                    "first_name": "MAUREEN",
                                    "members": "NULL",
                                    "children": "NULL"
                                },
                                {
                                    "first_name": "COLLEEN",
                                    "members": "NULL",
                                    "children": "NULL"
                                },
                                {
                                    "first_name": "ALLISON",
                                    "members": "NULL",
                                    "children": "NULL"
                                },
                                {
                                    "first_name": "TAMARA",
                                    "members": "NULL",
                                    "children": "NULL"
                                },
                                {
                                    "first_name": "JOY",
                                    "members": "NULL",
                                    "children": "NULL"
                                },
                                {
                                    "first_name": "GEORGIA",
                                    "members": "NULL",
                                    "children": "NULL"
                                },
                                {
                                    "first_name": "CONSTANCE",
                                    "members": "NULL",
                                    "children": "NULL"
                                },
                                {
                                    "first_name": "LILLIE",
                                    "members": "NULL",
                                    "children": "NULL"
                                },
                                {
                                    "first_name": "CLAUDIA",
                                    "members": "NULL",
                                    "children": "NULL"
                                },
                                {
                                    "first_name": "JACKIE",
                                    "members": "NULL",
                                    "children": "NULL"
                                },
                                {
                                    "first_name": "MARCIA",
                                    "members": "NULL",
                                    "children": "NULL"
                                },
                                {
                                    "first_name": "TANYA",
                                    "members": "NULL",
                                    "children": "NULL"
                                },
                                {
                                    "first_name": "NELLIE",
                                    "members": "NULL",
                                    "children": "NULL"
                                },
                                {
                                    "first_name": "MINNIE",
                                    "members": "NULL",
                                    "children": "NULL"
                                },
                                {
                                    "first_name": "MARLENE",
                                    "members": "NULL",
                                    "children": "NULL"
                                },
                                {
                                    "first_name": "HEIDI",
                                    "members": "NULL",
                                    "children": "NULL"
                                },
                                {
                                    "first_name": "GLENDA",
                                    "members": "NULL",
                                    "children": "NULL"
                                },
                                {
                                    "first_name": "LYDIA",
                                    "members": "NULL",
                                    "children": "NULL"
                                },
                                {
                                    "first_name": "VIOLA",
                                    "members": "NULL",
                                    "children": "NULL"
                                },
                                {
                                    "first_name": "COURTNEY",
                                    "members": "NULL",
                                    "children": "NULL"
                                },
                                {
                                    "first_name": "MARIAN",
                                    "members": "NULL",
                                    "children": "NULL"
                                },
                                {
                                    "first_name": "STELLA",
                                    "members": "NULL",
                                    "children": "NULL"
                                },
                                {
                                    "first_name": "CAROLINE",
                                    "members": "NULL",
                                    "children": "NULL"
                                },
                                {
                                    "first_name": "DORA",
                                    "members": "NULL",
                                    "children": "NULL"
                                },
                                {
                                    "first_name": "JO",
                                    "members": "NULL",
                                    "children": "NULL"
                                },
                                {
                                    "first_name": "VICKIE",
                                    "members": "NULL",
                                    "children": "NULL"
                                },
                                {
                                    "first_name": "MATTIE",
                                    "members": "NULL",
                                    "children": "NULL"
                                },
                                {
                                    "first_name": "TERRY",
                                    "members": "NULL",
                                    "children": "NULL"
                                },
                                {
                                    "first_name": "MAXINE",
                                    "members": "NULL",
                                    "children": "NULL"
                                },
                                {
                                    "first_name": "IRMA",
                                    "members": "NULL",
                                    "children": "NULL"
                                },
                                {
                                    "first_name": "MABEL",
                                    "members": "NULL",
                                    "children": "NULL"
                                },
                                {
                                    "first_name": "MARSHA",
                                    "members": "NULL",
                                    "children": "NULL"
                                },
                                {
                                    "first_name": "MYRTLE",
                                    "members": "NULL",
                                    "children": "NULL"
                                },
                                {
                                    "first_name": "LENA",
                                    "members": "NULL",
                                    "children": "NULL"
                                },
                                {
                                    "first_name": "CHRISTY",
                                    "members": "NULL",
                                    "children": "NULL"
                                },
                                {
                                    "first_name": "DEANNA",
                                    "members": "NULL",
                                    "children": "NULL"
                                },
                                {
                                    "first_name": "PATSY",
                                    "members": "NULL",
                                    "children": "NULL"
                                },
                                {
                                    "first_name": "HILDA",
                                    "members": "NULL",
                                    "children": "NULL"
                                },
                                {
                                    "first_name": "GWENDOLYN",
                                    "members": "NULL",
                                    "children": "NULL"
                                },
                                {
                                    "first_name": "JENNIE",
                                    "members": "NULL",
                                    "children": "NULL"
                                },
                                {
                                    "first_name": "NORA",
                                    "members": "NULL",
                                    "children": "NULL"
                                },
                                {
                                    "first_name": "MARGIE",
                                    "members": "NULL",
                                    "children": "NULL"
                                },
                                {
                                    "first_name": "NINA",
                                    "members": "NULL",
                                    "children": "NULL"
                                },
                                {
                                    "first_name": "CASSANDRA",
                                    "members": "NULL",
                                    "children": "NULL"
                                },
                                {
                                    "first_name": "LEAH",
                                    "members": "NULL",
                                    "children": "NULL"
                                },
                                {
                                    "first_name": "PENNY",
                                    "members": "NULL",
                                    "children": "NULL"
                                },
                                {
                                    "first_name": "KAY",
                                    "members": "NULL",
                                    "children": "NULL"
                                },
                                {
                                    "first_name": "PRISCILLA",
                                    "members": "NULL",
                                    "children": "NULL"
                                },
                                {
                                    "first_name": "NAOMI",
                                    "members": "NULL",
                                    "children": "NULL"
                                },
                                {
                                    "first_name": "CAROLE",
                                    "members": "NULL",
                                    "children": "NULL"
                                },
                                {
                                    "first_name": "BRANDY",
                                    "members": "NULL",
                                    "children": "NULL"
                                },
                                {
                                    "first_name": "OLGA",
                                    "members": "NULL",
                                    "children": "NULL"
                                },
                                {
                                    "first_name": "BILLIE",
                                    "members": "NULL",
                                    "children": "NULL"
                                },
                                {
                                    "first_name": "DIANNE",
                                    "members": "NULL",
                                    "children": "NULL"
                                },
                                {
                                    "first_name": "TRACEY",
                                    "members": "NULL",
                                    "children": "NULL"
                                },
                                {
                                    "first_name": "LEONA",
                                    "members": "NULL",
                                    "children": "NULL"
                                },
                                {
                                    "first_name": "JENNY",
                                    "members": "NULL",
                                    "children": "NULL"
                                },
                                {
                                    "first_name": "FELICIA",
                                    "members": "NULL",
                                    "children": "NULL"
                                },
                                {
                                    "first_name": "SONIA",
                                    "members": "NULL",
                                    "children": "NULL"
                                },
                                {
                                    "first_name": "MIRIAM",
                                    "members": "NULL",
                                    "children": "NULL"
                                },
                                {
                                    "first_name": "VELMA",
                                    "members": "NULL",
                                    "children": "NULL"
                                },
                                {
                                    "first_name": "BECKY",
                                    "members": "NULL",
                                    "children": "NULL"
                                },
                                {
                                    "first_name": "BOBBIE",
                                    "members": "NULL",
                                    "children": "NULL"
                                },
                                {
                                    "first_name": "VIOLET",
                                    "members": "NULL",
                                    "children": "NULL"
                                },
                                {
                                    "first_name": "KRISTINA",
                                    "members": "NULL",
                                    "children": "NULL"
                                },
                                {
                                    "first_name": "TONI",
                                    "members": "NULL",
                                    "children": "NULL"
                                },
                                {
                                    "first_name": "MISTY",
                                    "members": "NULL",
                                    "children": "NULL"
                                },
                                {
                                    "first_name": "MAE",
                                    "members": "NULL",
                                    "children": "NULL"
                                },
                                {
                                    "first_name": "SHELLY",
                                    "members": "NULL",
                                    "children": "NULL"
                                },
                                {
                                    "first_name": "DAISY",
                                    "members": "NULL",
                                    "children": "NULL"
                                },
                                {
                                    "first_name": "RAMONA",
                                    "members": "NULL",
                                    "children": "NULL"
                                },
                                {
                                    "first_name": "SHERRI",
                                    "members": "NULL",
                                    "children": "NULL"
                                },
                                {
                                    "first_name": "ERIKA",
                                    "members": "NULL",
                                    "children": "NULL"
                                },
                                {
                                    "first_name": "JAMES",
                                    "members": "NULL",
                                    "children": "NULL"
                                },
                                {
                                    "first_name": "JOHN",
                                    "members": "NULL",
                                    "children": "NULL"
                                },
                                {
                                    "first_name": "ROBERT",
                                    "members": "NULL",
                                    "children": "NULL"
                                },
                                {
                                    "first_name": "MICHAEL",
                                    "members": "NULL",
                                    "children": "NULL"
                                },
                                {
                                    "first_name": "WILLIAM",
                                    "members": "NULL",
                                    "children": "NULL"
                                },
                                {
                                    "first_name": "DAVID",
                                    "members": "NULL",
                                    "children": "NULL"
                                },
                                {
                                    "first_name": "RICHARD",
                                    "members": "NULL",
                                    "children": "NULL"
                                },
                                {
                                    "first_name": "CHARLES",
                                    "members": "NULL",
                                    "children": "NULL"
                                },
                                {
                                    "first_name": "JOSEPH",
                                    "members": "NULL",
                                    "children": "NULL"
                                },
                                {
                                    "first_name": "THOMAS",
                                    "members": "NULL",
                                    "children": "NULL"
                                },
                                {
                                    "first_name": "CHRISTOPHER",
                                    "members": "NULL",
                                    "children": "NULL"
                                },
                                {
                                    "first_name": "DANIEL",
                                    "members": "NULL",
                                    "children": "NULL"
                                },
                                {
                                    "first_name": "PAUL",
                                    "members": "NULL",
                                    "children": "NULL"
                                },
                                {
                                    "first_name": "MARK",
                                    "members": "NULL",
                                    "children": "NULL"
                                },
                                {
                                    "first_name": "DONALD",
                                    "members": "NULL",
                                    "children": "NULL"
                                },
                                {
                                    "first_name": "GEORGE",
                                    "members": "NULL",
                                    "children": "NULL"
                                },
                                {
                                    "first_name": "KENNETH",
                                    "members": "NULL",
                                    "children": "NULL"
                                },
                                {
                                    "first_name": "STEVEN",
                                    "members": "NULL",
                                    "children": "NULL"
                                },
                                {
                                    "first_name": "EDWARD",
                                    "members": "NULL",
                                    "children": "NULL"
                                },
                                {
                                    "first_name": "BRIAN",
                                    "members": "NULL",
                                    "children": "NULL"
                                },
                                {
                                    "first_name": "RONALD",
                                    "members": "NULL",
                                    "children": "NULL"
                                },
                                {
                                    "first_name": "ANTHONY",
                                    "members": "NULL",
                                    "children": "NULL"
                                },
                                {
                                    "first_name": "KEVIN",
                                    "members": "NULL",
                                    "children": "NULL"
                                },
                                {
                                    "first_name": "JASON",
                                    "members": "NULL",
                                    "children": "NULL"
                                },
                                {
                                    "first_name": "MATTHEW",
                                    "members": "NULL",
                                    "children": "NULL"
                                },
                                {
                                    "first_name": "GARY",
                                    "members": "NULL",
                                    "children": "NULL"
                                },
                                {
                                    "first_name": "TIMOTHY",
                                    "members": "NULL",
                                    "children": "NULL"
                                },
                                {
                                    "first_name": "JOSE",
                                    "members": "NULL",
                                    "children": "NULL"
                                },
                                {
                                    "first_name": "LARRY",
                                    "members": "NULL",
                                    "children": "NULL"
                                },
                                {
                                    "first_name": "JEFFREY",
                                    "members": "NULL",
                                    "children": "NULL"
                                },
                                {
                                    "first_name": "FRANK",
                                    "members": "NULL",
                                    "children": "NULL"
                                },
                                {
                                    "first_name": "SCOTT",
                                    "members": "NULL",
                                    "children": "NULL"
                                },
                                {
                                    "first_name": "ERIC",
                                    "members": "NULL",
                                    "children": "NULL"
                                },
                                {
                                    "first_name": "STEPHEN",
                                    "members": "NULL",
                                    "children": "NULL"
                                },
                                {
                                    "first_name": "ANDREW",
                                    "members": "NULL",
                                    "children": "NULL"
                                },
                                {
                                    "first_name": "RAYMOND",
                                    "members": "NULL",
                                    "children": "NULL"
                                },
                                {
                                    "first_name": "GREGORY",
                                    "members": "NULL",
                                    "children": "NULL"
                                },
                                {
                                    "first_name": "JOSHUA",
                                    "members": "NULL",
                                    "children": "NULL"
                                },
                                {
                                    "first_name": "JERRY",
                                    "members": "NULL",
                                    "children": "NULL"
                                },
                                {
                                    "first_name": "DENNIS",
                                    "members": "NULL",
                                    "children": "NULL"
                                },
                                {
                                    "first_name": "WALTER",
                                    "members": "NULL",
                                    "children": "NULL"
                                },
                                {
                                    "first_name": "PATRICK",
                                    "members": "NULL",
                                    "children": "NULL"
                                },
                                {
                                    "first_name": "PETER",
                                    "members": "NULL",
                                    "children": "NULL"
                                },
                                {
                                    "first_name": "HAROLD",
                                    "members": "NULL",
                                    "children": "NULL"
                                },
                                {
                                    "first_name": "DOUGLAS",
                                    "members": "NULL",
                                    "children": "NULL"
                                },
                                {
                                    "first_name": "HENRY",
                                    "members": "NULL",
                                    "children": "NULL"
                                },
                                {
                                    "first_name": "CARL",
                                    "members": "NULL",
                                    "children": "NULL"
                                },
                                {
                                    "first_name": "ARTHUR",
                                    "members": "NULL",
                                    "children": "NULL"
                                },
                                {
                                    "first_name": "RYAN",
                                    "members": "NULL",
                                    "children": "NULL"
                                },
                                {
                                    "first_name": "ROGER",
                                    "members": "NULL",
                                    "children": "NULL"
                                },
                                {
                                    "first_name": "JOE",
                                    "members": "NULL",
                                    "children": "NULL"
                                },
                                {
                                    "first_name": "JUAN",
                                    "members": "NULL",
                                    "children": "NULL"
                                },
                                {
                                    "first_name": "JACK",
                                    "members": "NULL",
                                    "children": "NULL"
                                },
                                {
                                    "first_name": "ALBERT",
                                    "members": "NULL",
                                    "children": "NULL"
                                },
                                {
                                    "first_name": "JONATHAN",
                                    "members": "NULL",
                                    "children": "NULL"
                                },
                                {
                                    "first_name": "JUSTIN",
                                    "members": "NULL",
                                    "children": "NULL"
                                },
                                {
                                    "first_name": "TERRY",
                                    "members": "NULL",
                                    "children": "NULL"
                                },
                                {
                                    "first_name": "GERALD",
                                    "members": "NULL",
                                    "children": "NULL"
                                },
                                {
                                    "first_name": "KEITH",
                                    "members": "NULL",
                                    "children": "NULL"
                                },
                                {
                                    "first_name": "SAMUEL",
                                    "members": "NULL",
                                    "children": "NULL"
                                },
                                {
                                    "first_name": "WILLIE",
                                    "members": "NULL",
                                    "children": "NULL"
                                },
                                {
                                    "first_name": "RALPH",
                                    "members": "NULL",
                                    "children": "NULL"
                                },
                                {
                                    "first_name": "LAWRENCE",
                                    "members": "NULL",
                                    "children": "NULL"
                                },
                                {
                                    "first_name": "NICHOLAS",
                                    "members": "NULL",
                                    "children": "NULL"
                                },
                                {
                                    "first_name": "ROY",
                                    "members": "NULL",
                                    "children": "NULL"
                                },
                                {
                                    "first_name": "BENJAMIN",
                                    "members": "NULL",
                                    "children": "NULL"
                                },
                                {
                                    "first_name": "BRUCE",
                                    "members": "NULL",
                                    "children": "NULL"
                                },
                                {
                                    "first_name": "BRANDON",
                                    "members": "NULL",
                                    "children": "NULL"
                                },
                                {
                                    "first_name": "ADAM",
                                    "members": "NULL",
                                    "children": "NULL"
                                },
                                {
                                    "first_name": "HARRY",
                                    "members": "NULL",
                                    "children": "NULL"
                                },
                                {
                                    "first_name": "FRED",
                                    "members": "NULL",
                                    "children": "NULL"
                                },
                                {
                                    "first_name": "WAYNE",
                                    "members": "NULL",
                                    "children": "NULL"
                                },
                                {
                                    "first_name": "BILLY",
                                    "members": "NULL",
                                    "children": "NULL"
                                },
                                {
                                    "first_name": "STEVE",
                                    "members": "NULL",
                                    "children": "NULL"
                                },
                                {
                                    "first_name": "LOUIS",
                                    "members": "NULL",
                                    "children": "NULL"
                                },
                                {
                                    "first_name": "JEREMY",
                                    "members": "NULL",
                                    "children": "NULL"
                                },
                                {
                                    "first_name": "AARON",
                                    "members": "NULL",
                                    "children": "NULL"
                                },
                                {
                                    "first_name": "RANDY",
                                    "members": "NULL",
                                    "children": "NULL"
                                },
                                {
                                    "first_name": "HOWARD",
                                    "members": "NULL",
                                    "children": "NULL"
                                },
                                {
                                    "first_name": "EUGENE",
                                    "members": "NULL",
                                    "children": "NULL"
                                },
                                {
                                    "first_name": "CARLOS",
                                    "members": "NULL",
                                    "children": "NULL"
                                },
                                {
                                    "first_name": "RUSSELL",
                                    "members": "NULL",
                                    "children": "NULL"
                                },
                                {
                                    "first_name": "BOBBY",
                                    "members": "NULL",
                                    "children": "NULL"
                                },
                                {
                                    "first_name": "VICTOR",
                                    "members": "NULL",
                                    "children": "NULL"
                                },
                                {
                                    "first_name": "MARTIN",
                                    "members": "NULL",
                                    "children": "NULL"
                                },
                                {
                                    "first_name": "ERNEST",
                                    "members": "NULL",
                                    "children": "NULL"
                                },
                                {
                                    "first_name": "PHILLIP",
                                    "members": "NULL",
                                    "children": "NULL"
                                },
                                {
                                    "first_name": "TODD",
                                    "members": "NULL",
                                    "children": "NULL"
                                },
                                {
                                    "first_name": "JESSE",
                                    "members": "NULL",
                                    "children": "NULL"
                                },
                                {
                                    "first_name": "CRAIG",
                                    "members": "NULL",
                                    "children": "NULL"
                                },
                                {
                                    "first_name": "ALAN",
                                    "members": "NULL",
                                    "children": "NULL"
                                },
                                {
                                    "first_name": "SHAWN",
                                    "members": "NULL",
                                    "children": "NULL"
                                },
                                {
                                    "first_name": "CLARENCE",
                                    "members": "NULL",
                                    "children": "NULL"
                                },
                                {
                                    "first_name": "SEAN",
                                    "members": "NULL",
                                    "children": "NULL"
                                },
                                {
                                    "first_name": "PHILIP",
                                    "members": "NULL",
                                    "children": "NULL"
                                },
                                {
                                    "first_name": "CHRIS",
                                    "members": "NULL",
                                    "children": "NULL"
                                },
                                {
                                    "first_name": "JOHNNY",
                                    "members": "NULL",
                                    "children": "NULL"
                                },
                                {
                                    "first_name": "EARL",
                                    "members": "NULL",
                                    "children": "NULL"
                                },
                                {
                                    "first_name": "JIMMY",
                                    "members": "NULL",
                                    "children": "NULL"
                                },
                                {
                                    "first_name": "ANTONIO",
                                    "members": "NULL",
                                    "children": "NULL"
                                },
                                {
                                    "first_name": "DANNY",
                                    "members": "NULL",
                                    "children": "NULL"
                                },
                                {
                                    "first_name": "BRYAN",
                                    "members": "NULL",
                                    "children": "NULL"
                                },
                                {
                                    "first_name": "TONY",
                                    "members": "NULL",
                                    "children": "NULL"
                                },
                                {
                                    "first_name": "LUIS",
                                    "members": "NULL",
                                    "children": "NULL"
                                },
                                {
                                    "first_name": "MIKE",
                                    "members": "NULL",
                                    "children": "NULL"
                                },
                                {
                                    "first_name": "STANLEY",
                                    "members": "NULL",
                                    "children": "NULL"
                                },
                                {
                                    "first_name": "LEONARD",
                                    "members": "NULL",
                                    "children": "NULL"
                                },
                                {
                                    "first_name": "NATHAN",
                                    "members": "NULL",
                                    "children": "NULL"
                                },
                                {
                                    "first_name": "DALE",
                                    "members": "NULL",
                                    "children": "NULL"
                                },
                                {
                                    "first_name": "MANUEL",
                                    "members": "NULL",
                                    "children": "NULL"
                                },
                                {
                                    "first_name": "RODNEY",
                                    "members": "NULL",
                                    "children": "NULL"
                                },
                                {
                                    "first_name": "CURTIS",
                                    "members": "NULL",
                                    "children": "NULL"
                                },
                                {
                                    "first_name": "NORMAN",
                                    "members": "NULL",
                                    "children": "NULL"
                                },
                                {
                                    "first_name": "ALLEN",
                                    "members": "NULL",
                                    "children": "NULL"
                                },
                                {
                                    "first_name": "MARVIN",
                                    "members": "NULL",
                                    "children": "NULL"
                                },
                                {
                                    "first_name": "VINCENT",
                                    "members": "NULL",
                                    "children": "NULL"
                                },
                                {
                                    "first_name": "GLENN",
                                    "members": "NULL",
                                    "children": "NULL"
                                },
                                {
                                    "first_name": "JEFFERY",
                                    "members": "NULL",
                                    "children": "NULL"
                                },
                                {
                                    "first_name": "TRAVIS",
                                    "members": "NULL",
                                    "children": "NULL"
                                },
                                {
                                    "first_name": "JEFF",
                                    "members": "NULL",
                                    "children": "NULL"
                                },
                                {
                                    "first_name": "CHAD",
                                    "members": "NULL",
                                    "children": "NULL"
                                },
                                {
                                    "first_name": "JACOB",
                                    "members": "NULL",
                                    "children": "NULL"
                                },
                                {
                                    "first_name": "LEE",
                                    "members": "NULL",
                                    "children": "NULL"
                                },
                                {
                                    "first_name": "MELVIN",
                                    "members": "NULL",
                                    "children": "NULL"
                                },
                                {
                                    "first_name": "ALFRED",
                                    "members": "NULL",
                                    "children": "NULL"
                                },
                                {
                                    "first_name": "KYLE",
                                    "members": "NULL",
                                    "children": "NULL"
                                },
                                {
                                    "first_name": "FRANCIS",
                                    "members": "NULL",
                                    "children": "NULL"
                                },
                                {
                                    "first_name": "BRADLEY",
                                    "members": "NULL",
                                    "children": "NULL"
                                },
                                {
                                    "first_name": "JESUS",
                                    "members": "NULL",
                                    "children": "NULL"
                                },
                                {
                                    "first_name": "HERBERT",
                                    "members": "NULL",
                                    "children": "NULL"
                                },
                                {
                                    "first_name": "FREDERICK",
                                    "members": "NULL",
                                    "children": "NULL"
                                },
                                {
                                    "first_name": "RAY",
                                    "members": "NULL",
                                    "children": "NULL"
                                },
                                {
                                    "first_name": "JOEL",
                                    "members": "NULL",
                                    "children": "NULL"
                                },
                                {
                                    "first_name": "EDWIN",
                                    "members": "NULL",
                                    "children": "NULL"
                                },
                                {
                                    "first_name": "DON",
                                    "members": "NULL",
                                    "children": "NULL"
                                },
                                {
                                    "first_name": "EDDIE",
                                    "members": "NULL",
                                    "children": "NULL"
                                },
                                {
                                    "first_name": "RICKY",
                                    "members": "NULL",
                                    "children": "NULL"
                                },
                                {
                                    "first_name": "TROY",
                                    "members": "NULL",
                                    "children": "NULL"
                                },
                                {
                                    "first_name": "RANDALL",
                                    "members": "NULL",
                                    "children": "NULL"
                                },
                                {
                                    "first_name": "BARRY",
                                    "members": "NULL",
                                    "children": "NULL"
                                },
                                {
                                    "first_name": "ALEXANDER",
                                    "members": "NULL",
                                    "children": "NULL"
                                },
                                {
                                    "first_name": "BERNARD",
                                    "members": "NULL",
                                    "children": "NULL"
                                },
                                {
                                    "first_name": "MARIO",
                                    "members": "NULL",
                                    "children": "NULL"
                                },
                                {
                                    "first_name": "LEROY",
                                    "members": "NULL",
                                    "children": "NULL"
                                },
                                {
                                    "first_name": "FRANCISCO",
                                    "members": "NULL",
                                    "children": "NULL"
                                },
                                {
                                    "first_name": "MARCUS",
                                    "members": "NULL",
                                    "children": "NULL"
                                },
                                {
                                    "first_name": "MICHEAL",
                                    "members": "NULL",
                                    "children": "NULL"
                                },
                                {
                                    "first_name": "THEODORE",
                                    "members": "NULL",
                                    "children": "NULL"
                                },
                                {
                                    "first_name": "CLIFFORD",
                                    "members": "NULL",
                                    "children": "NULL"
                                },
                                {
                                    "first_name": "MIGUEL",
                                    "members": "NULL",
                                    "children": "NULL"
                                },
                                {
                                    "first_name": "OSCAR",
                                    "members": "NULL",
                                    "children": "NULL"
                                },
                                {
                                    "first_name": "JAY",
                                    "members": "NULL",
                                    "children": "NULL"
                                },
                                {
                                    "first_name": "JIM",
                                    "members": "NULL",
                                    "children": "NULL"
                                },
                                {
                                    "first_name": "TOM",
                                    "members": "NULL",
                                    "children": "NULL"
                                },
                                {
                                    "first_name": "CALVIN",
                                    "members": "NULL",
                                    "children": "NULL"
                                },
                                {
                                    "first_name": "ALEX",
                                    "members": "NULL",
                                    "children": "NULL"
                                },
                                {
                                    "first_name": "JON",
                                    "members": "NULL",
                                    "children": "NULL"
                                },
                                {
                                    "first_name": "RONNIE",
                                    "members": "NULL",
                                    "children": "NULL"
                                },
                                {
                                    "first_name": "BILL",
                                    "members": "NULL",
                                    "children": "NULL"
                                },
                                {
                                    "first_name": "LLOYD",
                                    "members": "NULL",
                                    "children": "NULL"
                                },
                                {
                                    "first_name": "TOMMY",
                                    "members": "NULL",
                                    "children": "NULL"
                                },
                                {
                                    "first_name": "LEON",
                                    "members": "NULL",
                                    "children": "NULL"
                                },
                                {
                                    "first_name": "DEREK",
                                    "members": "NULL",
                                    "children": "NULL"
                                },
                                {
                                    "first_name": "WARREN",
                                    "members": "NULL",
                                    "children": "NULL"
                                },
                                {
                                    "first_name": "DARRELL",
                                    "members": "NULL",
                                    "children": "NULL"
                                },
                                {
                                    "first_name": "JEROME",
                                    "members": "NULL",
                                    "children": "NULL"
                                },
                                {
                                    "first_name": "FLOYD",
                                    "members": "NULL",
                                    "children": "NULL"
                                },
                                {
                                    "first_name": "LEO",
                                    "members": "NULL",
                                    "children": "NULL"
                                },
                                {
                                    "first_name": "ALVIN",
                                    "members": "NULL",
                                    "children": "NULL"
                                },
                                {
                                    "first_name": "TIM",
                                    "members": "NULL",
                                    "children": "NULL"
                                },
                                {
                                    "first_name": "WESLEY",
                                    "members": "NULL",
                                    "children": "NULL"
                                },
                                {
                                    "first_name": "GORDON",
                                    "members": "NULL",
                                    "children": "NULL"
                                },
                                {
                                    "first_name": "DEAN",
                                    "members": "NULL",
                                    "children": "NULL"
                                },
                                {
                                    "first_name": "GREG",
                                    "members": "NULL",
                                    "children": "NULL"
                                },
                                {
                                    "first_name": "JORGE",
                                    "members": "NULL",
                                    "children": "NULL"
                                },
                                {
                                    "first_name": "DUSTIN",
                                    "members": "NULL",
                                    "children": "NULL"
                                },
                                {
                                    "first_name": "PEDRO",
                                    "members": "NULL",
                                    "children": "NULL"
                                },
                                {
                                    "first_name": "DERRICK",
                                    "members": "NULL",
                                    "children": "NULL"
                                },
                                {
                                    "first_name": "DAN",
                                    "members": "NULL",
                                    "children": "NULL"
                                },
                                {
                                    "first_name": "LEWIS",
                                    "members": "NULL",
                                    "children": "NULL"
                                },
                                {
                                    "first_name": "ZACHARY",
                                    "members": "NULL",
                                    "children": "NULL"
                                },
                                {
                                    "first_name": "COREY",
                                    "members": "NULL",
                                    "children": "NULL"
                                },
                                {
                                    "first_name": "HERMAN",
                                    "members": "NULL",
                                    "children": "NULL"
                                },
                                {
                                    "first_name": "MAURICE",
                                    "members": "NULL",
                                    "children": "NULL"
                                },
                                {
                                    "first_name": "VERNON",
                                    "members": "NULL",
                                    "children": "NULL"
                                },
                                {
                                    "first_name": "ROBERTO",
                                    "members": "NULL",
                                    "children": "NULL"
                                },
                                {
                                    "first_name": "CLYDE",
                                    "members": "NULL",
                                    "children": "NULL"
                                },
                                {
                                    "first_name": "GLEN",
                                    "members": "NULL",
                                    "children": "NULL"
                                },
                                {
                                    "first_name": "HECTOR",
                                    "members": "NULL",
                                    "children": "NULL"
                                },
                                {
                                    "first_name": "SHANE",
                                    "members": "NULL",
                                    "children": "NULL"
                                },
                                {
                                    "first_name": "RICARDO",
                                    "members": "NULL",
                                    "children": "NULL"
                                },
                                {
                                    "first_name": "SAM",
                                    "members": "NULL",
                                    "children": "NULL"
                                },
                                {
                                    "first_name": "RICK",
                                    "members": "NULL",
                                    "children": "NULL"
                                },
                                {
                                    "first_name": "LESTER",
                                    "members": "NULL",
                                    "children": "NULL"
                                },
                                {
                                    "first_name": "BRENT",
                                    "members": "NULL",
                                    "children": "NULL"
                                },
                                {
                                    "first_name": "RAMON",
                                    "members": "NULL",
                                    "children": "NULL"
                                },
                                {
                                    "first_name": "CHARLIE",
                                    "members": "NULL",
                                    "children": "NULL"
                                },
                                {
                                    "first_name": "TYLER",
                                    "members": "NULL",
                                    "children": "NULL"
                                },
                                {
                                    "first_name": "GILBERT",
                                    "members": "NULL",
                                    "children": "NULL"
                                },
                                {
                                    "first_name": "GENE",
                                    "members": "NULL",
                                    "children": "NULL"
                                },
                                {
                                    "first_name": "MARC",
                                    "members": "NULL",
                                    "children": "NULL"
                                },
                                {
                                    "first_name": "REGINALD",
                                    "members": "NULL",
                                    "children": "NULL"
                                },
                                {
                                    "first_name": "RUBEN",
                                    "members": "NULL",
                                    "children": "NULL"
                                },
                                {
                                    "first_name": "BRETT",
                                    "members": "NULL",
                                    "children": "NULL"
                                },
                                {
                                    "first_name": "ANGEL",
                                    "members": "NULL",
                                    "children": "NULL"
                                },
                                {
                                    "first_name": "NATHANIEL",
                                    "members": "NULL",
                                    "children": "NULL"
                                },
                                {
                                    "first_name": "RAFAEL",
                                    "members": "NULL",
                                    "children": "NULL"
                                },
                                {
                                    "first_name": "LESLIE",
                                    "members": "NULL",
                                    "children": "NULL"
                                },
                                {
                                    "first_name": "EDGAR",
                                    "members": "NULL",
                                    "children": "NULL"
                                },
                                {
                                    "first_name": "MILTON",
                                    "members": "NULL",
                                    "children": "NULL"
                                },
                                {
                                    "first_name": "RAUL",
                                    "members": "NULL",
                                    "children": "NULL"
                                },
                                {
                                    "first_name": "BEN",
                                    "members": "NULL",
                                    "children": "NULL"
                                },
                                {
                                    "first_name": "CHESTER",
                                    "members": "NULL",
                                    "children": "NULL"
                                },
                                {
                                    "first_name": "CECIL",
                                    "members": "NULL",
                                    "children": "NULL"
                                },
                                {
                                    "first_name": "DUANE",
                                    "members": "NULL",
                                    "children": "NULL"
                                },
                                {
                                    "first_name": "FRANKLIN",
                                    "members": "NULL",
                                    "children": "NULL"
                                },
                                {
                                    "first_name": "ANDRE",
                                    "members": "NULL",
                                    "children": "NULL"
                                },
                                {
                                    "first_name": "ELMER",
                                    "members": "NULL",
                                    "children": "NULL"
                                },
                                {
                                    "first_name": "BRAD",
                                    "members": "NULL",
                                    "children": "NULL"
                                },
                                {
                                    "first_name": "GABRIEL",
                                    "members": "NULL",
                                    "children": "NULL"
                                },
                                {
                                    "first_name": "RON",
                                    "members": "NULL",
                                    "children": "NULL"
                                },
                                {
                                    "first_name": "MITCHELL",
                                    "members": "NULL",
                                    "children": "NULL"
                                },
                                {
                                    "first_name": "ROLAND",
                                    "members": "NULL",
                                    "children": "NULL"
                                },
                                {
                                    "first_name": "ARNOLD",
                                    "members": "NULL",
                                    "children": "NULL"
                                },
                                {
                                    "first_name": "HARVEY",
                                    "members": "NULL",
                                    "children": "NULL"
                                },
                                {
                                    "first_name": "JARED",
                                    "members": "NULL",
                                    "children": "NULL"
                                },
                                {
                                    "first_name": "ADRIAN",
                                    "members": "NULL",
                                    "children": "NULL"
                                },
                                {
                                    "first_name": "KARL",
                                    "members": "NULL",
                                    "children": "NULL"
                                },
                                {
                                    "first_name": "CORY",
                                    "members": "NULL",
                                    "children": "NULL"
                                },
                                {
                                    "first_name": "CLAUDE",
                                    "members": "NULL",
                                    "children": "NULL"
                                },
                                {
                                    "first_name": "ERIK",
                                    "members": "NULL",
                                    "children": "NULL"
                                },
                                {
                                    "first_name": "DARRYL",
                                    "members": "NULL",
                                    "children": "NULL"
                                },
                                {
                                    "first_name": "JAMIE",
                                    "members": "NULL",
                                    "children": "NULL"
                                },
                                {
                                    "first_name": "NEIL",
                                    "members": "NULL",
                                    "children": "NULL"
                                },
                                {
                                    "first_name": "JESSIE",
                                    "members": "NULL",
                                    "children": "NULL"
                                },
                                {
                                    "first_name": "CHRISTIAN",
                                    "members": "NULL",
                                    "children": "NULL"
                                },
                                {
                                    "first_name": "JAVIER",
                                    "members": "NULL",
                                    "children": "NULL"
                                },
                                {
                                    "first_name": "FERNANDO",
                                    "members": "NULL",
                                    "children": "NULL"
                                },
                                {
                                    "first_name": "CLINTON",
                                    "members": "NULL",
                                    "children": "NULL"
                                },
                                {
                                    "first_name": "TED",
                                    "members": "NULL",
                                    "children": "NULL"
                                },
                                {
                                    "first_name": "MATHEW",
                                    "members": "NULL",
                                    "children": "NULL"
                                },
                                {
                                    "first_name": "TYRONE",
                                    "members": "NULL",
                                    "children": "NULL"
                                },
                                {
                                    "first_name": "DARREN",
                                    "members": "NULL",
                                    "children": "NULL"
                                },
                                {
                                    "first_name": "LONNIE",
                                    "members": "NULL",
                                    "children": "NULL"
                                },
                                {
                                    "first_name": "LANCE",
                                    "members": "NULL",
                                    "children": "NULL"
                                },
                                {
                                    "first_name": "CODY",
                                    "members": "NULL",
                                    "children": "NULL"
                                },
                                {
                                    "first_name": "JULIO",
                                    "members": "NULL",
                                    "children": "NULL"
                                },
                                {
                                    "first_name": "KELLY",
                                    "members": "NULL",
                                    "children": "NULL"
                                },
                                {
                                    "first_name": "KURT",
                                    "members": "NULL",
                                    "children": "NULL"
                                },
                                {
                                    "first_name": "ALLAN",
                                    "members": "NULL",
                                    "children": "NULL"
                                },
                                {
                                    "first_name": "NELSON",
                                    "members": "NULL",
                                    "children": "NULL"
                                },
                                {
                                    "first_name": "GUY",
                                    "members": "NULL",
                                    "children": "NULL"
                                },
                                {
                                    "first_name": "CLAYTON",
                                    "members": "NULL",
                                    "children": "NULL"
                                },
                                {
                                    "first_name": "HUGH",
                                    "members": "NULL",
                                    "children": "NULL"
                                },
                                {
                                    "first_name": "MAX",
                                    "members": "NULL",
                                    "children": "NULL"
                                },
                                {
                                    "first_name": "DWAYNE",
                                    "members": "NULL",
                                    "children": "NULL"
                                },
                                {
                                    "first_name": "DWIGHT",
                                    "members": "NULL",
                                    "children": "NULL"
                                },
                                {
                                    "first_name": "ARMANDO",
                                    "members": "NULL",
                                    "children": "NULL"
                                },
                                {
                                    "first_name": "FELIX",
                                    "members": "NULL",
                                    "children": "NULL"
                                },
                                {
                                    "first_name": "JIMMIE",
                                    "members": "NULL",
                                    "children": "NULL"
                                },
                                {
                                    "first_name": "EVERETT",
                                    "members": "NULL",
                                    "children": "NULL"
                                },
                                {
                                    "first_name": "JORDAN",
                                    "members": "NULL",
                                    "children": "NULL"
                                },
                                {
                                    "first_name": "IAN",
                                    "members": "NULL",
                                    "children": "NULL"
                                },
                                {
                                    "first_name": "WALLACE",
                                    "members": "NULL",
                                    "children": "NULL"
                                },
                                {
                                    "first_name": "KEN",
                                    "members": "NULL",
                                    "children": "NULL"
                                },
                                {
                                    "first_name": "BOB",
                                    "members": "NULL",
                                    "children": "NULL"
                                },
                                {
                                    "first_name": "JAIME",
                                    "members": "NULL",
                                    "children": "NULL"
                                },
                                {
                                    "first_name": "CASEY",
                                    "members": "NULL",
                                    "children": "NULL"
                                },
                                {
                                    "first_name": "ALFREDO",
                                    "members": "NULL",
                                    "children": "NULL"
                                },
                                {
                                    "first_name": "ALBERTO",
                                    "members": "NULL",
                                    "children": "NULL"
                                },
                                {
                                    "first_name": "DAVE",
                                    "members": "NULL",
                                    "children": "NULL"
                                },
                                {
                                    "first_name": "IVAN",
                                    "members": "NULL",
                                    "children": "NULL"
                                },
                                {
                                    "first_name": "JOHNNIE",
                                    "members": "NULL",
                                    "children": "NULL"
                                },
                                {
                                    "first_name": "SIDNEY",
                                    "members": "NULL",
                                    "children": "NULL"
                                },
                                {
                                    "first_name": "BYRON",
                                    "members": "NULL",
                                    "children": "NULL"
                                },
                                {
                                    "first_name": "JULIAN",
                                    "members": "NULL",
                                    "children": "NULL"
                                },
                                {
                                    "first_name": "ISAAC",
                                    "members": "NULL",
                                    "children": "NULL"
                                },
                                {
                                    "first_name": "MORRIS",
                                    "members": "NULL",
                                    "children": "NULL"
                                },
                                {
                                    "first_name": "CLIFTON",
                                    "members": "NULL",
                                    "children": "NULL"
                                },
                                {
                                    "first_name": "WILLARD",
                                    "members": "NULL",
                                    "children": "NULL"
                                },
                                {
                                    "first_name": "DARYL",
                                    "members": "NULL",
                                    "children": "NULL"
                                },
                                {
                                    "first_name": "ROSS",
                                    "members": "NULL",
                                    "children": "NULL"
                                },
                                {
                                    "first_name": "VIRGIL",
                                    "members": "NULL",
                                    "children": "NULL"
                                },
                                {
                                    "first_name": "ANDY",
                                    "members": "NULL",
                                    "children": "NULL"
                                },
                                {
                                    "first_name": "MARSHALL",
                                    "members": "NULL",
                                    "children": "NULL"
                                },
                                {
                                    "first_name": "SALVADOR",
                                    "members": "NULL",
                                    "children": "NULL"
                                },
                                {
                                    "first_name": "PERRY",
                                    "members": "NULL",
                                    "children": "NULL"
                                },
                                {
                                    "first_name": "KIRK",
                                    "members": "NULL",
                                    "children": "NULL"
                                },
                                {
                                    "first_name": "SERGIO",
                                    "members": "NULL",
                                    "children": "NULL"
                                },
                                {
                                    "first_name": "MARION",
                                    "members": "NULL",
                                    "children": "NULL"
                                },
                                {
                                    "first_name": "TRACY",
                                    "members": "NULL",
                                    "children": "NULL"
                                },
                                {
                                    "first_name": "SETH",
                                    "members": "NULL",
                                    "children": "NULL"
                                },
                                {
                                    "first_name": "KENT",
                                    "members": "NULL",
                                    "children": "NULL"
                                },
                                {
                                    "first_name": "TERRANCE",
                                    "members": "NULL",
                                    "children": "NULL"
                                },
                                {
                                    "first_name": "RENE",
                                    "members": "NULL",
                                    "children": "NULL"
                                },
                                {
                                    "first_name": "EDUARDO",
                                    "members": "NULL",
                                    "children": "NULL"
                                },
                                {
                                    "first_name": "TERRENCE",
                                    "members": "NULL",
                                    "children": "NULL"
                                },
                                {
                                    "first_name": "ENRIQUE",
                                    "members": "NULL",
                                    "children": "NULL"
                                },
                                {
                                    "first_name": "FREDDIE",
                                    "members": "NULL",
                                    "children": "NULL"
                                },
                                {
                                    "first_name": "WADE",
                                    "members": "NULL",
                                    "children": "NULL"
                                },
                                {
                                    "first_name": "AUSTIN",
                                    "members": "NULL",
                                    "children": "NULL"
                                }
                            ]
                        },
                        "text/html": [
                            "<table>",
                            "<tr><th>first_name</th><th>members</th><th>children</th></tr>",
                            "<tr><td>MARY</td><td>4</td><td>1</td></tr>",
                            "<tr><td>PATRICIA</td><td>5</td><td>1</td></tr>",
                            "<tr><td>LINDA</td><td>3</td><td>0</td></tr>",
                            "<tr><td>BARBARA</td><td>6</td><td>3</td></tr>",
                            "<tr><td>ELIZABETH</td><td>10</td><td>5</td></tr>",
                            "<tr><td>JENNIFER</td><td>NULL</td><td>NULL</td></tr>",
                            "<tr><td>MARIA</td><td>NULL</td><td>NULL</td></tr>",
                            "<tr><td>SUSAN</td><td>NULL</td><td>NULL</td></tr>",
                            "<tr><td>MARGARET</td><td>NULL</td><td>NULL</td></tr>",
                            "<tr><td>DOROTHY</td><td>NULL</td><td>NULL</td></tr>",
                            "<tr><td>LISA</td><td>NULL</td><td>NULL</td></tr>",
                            "<tr><td>NANCY</td><td>NULL</td><td>NULL</td></tr>",
                            "<tr><td>KAREN</td><td>NULL</td><td>NULL</td></tr>",
                            "<tr><td>BETTY</td><td>NULL</td><td>NULL</td></tr>",
                            "<tr><td>HELEN</td><td>NULL</td><td>NULL</td></tr>",
                            "<tr><td>SANDRA</td><td>NULL</td><td>NULL</td></tr>",
                            "<tr><td>DONNA</td><td>NULL</td><td>NULL</td></tr>",
                            "<tr><td>CAROL</td><td>NULL</td><td>NULL</td></tr>",
                            "<tr><td>RUTH</td><td>NULL</td><td>NULL</td></tr>",
                            "<tr><td>SHARON</td><td>NULL</td><td>NULL</td></tr>",
                            "<tr><td>MICHELLE</td><td>NULL</td><td>NULL</td></tr>",
                            "<tr><td>LAURA</td><td>NULL</td><td>NULL</td></tr>",
                            "<tr><td>SARAH</td><td>NULL</td><td>NULL</td></tr>",
                            "<tr><td>KIMBERLY</td><td>NULL</td><td>NULL</td></tr>",
                            "<tr><td>DEBORAH</td><td>NULL</td><td>NULL</td></tr>",
                            "<tr><td>JESSICA</td><td>NULL</td><td>NULL</td></tr>",
                            "<tr><td>SHIRLEY</td><td>NULL</td><td>NULL</td></tr>",
                            "<tr><td>CYNTHIA</td><td>NULL</td><td>NULL</td></tr>",
                            "<tr><td>ANGELA</td><td>NULL</td><td>NULL</td></tr>",
                            "<tr><td>MELISSA</td><td>NULL</td><td>NULL</td></tr>",
                            "<tr><td>BRENDA</td><td>NULL</td><td>NULL</td></tr>",
                            "<tr><td>AMY</td><td>NULL</td><td>NULL</td></tr>",
                            "<tr><td>ANNA</td><td>NULL</td><td>NULL</td></tr>",
                            "<tr><td>REBECCA</td><td>NULL</td><td>NULL</td></tr>",
                            "<tr><td>VIRGINIA</td><td>NULL</td><td>NULL</td></tr>",
                            "<tr><td>KATHLEEN</td><td>NULL</td><td>NULL</td></tr>",
                            "<tr><td>PAMELA</td><td>NULL</td><td>NULL</td></tr>",
                            "<tr><td>MARTHA</td><td>NULL</td><td>NULL</td></tr>",
                            "<tr><td>DEBRA</td><td>NULL</td><td>NULL</td></tr>",
                            "<tr><td>AMANDA</td><td>NULL</td><td>NULL</td></tr>",
                            "<tr><td>STEPHANIE</td><td>NULL</td><td>NULL</td></tr>",
                            "<tr><td>CAROLYN</td><td>NULL</td><td>NULL</td></tr>",
                            "<tr><td>CHRISTINE</td><td>NULL</td><td>NULL</td></tr>",
                            "<tr><td>MARIE</td><td>NULL</td><td>NULL</td></tr>",
                            "<tr><td>JANET</td><td>NULL</td><td>NULL</td></tr>",
                            "<tr><td>CATHERINE</td><td>NULL</td><td>NULL</td></tr>",
                            "<tr><td>FRANCES</td><td>NULL</td><td>NULL</td></tr>",
                            "<tr><td>ANN</td><td>NULL</td><td>NULL</td></tr>",
                            "<tr><td>JOYCE</td><td>NULL</td><td>NULL</td></tr>",
                            "<tr><td>DIANE</td><td>NULL</td><td>NULL</td></tr>",
                            "<tr><td>ALICE</td><td>NULL</td><td>NULL</td></tr>",
                            "<tr><td>JULIE</td><td>NULL</td><td>NULL</td></tr>",
                            "<tr><td>HEATHER</td><td>NULL</td><td>NULL</td></tr>",
                            "<tr><td>TERESA</td><td>NULL</td><td>NULL</td></tr>",
                            "<tr><td>DORIS</td><td>NULL</td><td>NULL</td></tr>",
                            "<tr><td>GLORIA</td><td>NULL</td><td>NULL</td></tr>",
                            "<tr><td>EVELYN</td><td>NULL</td><td>NULL</td></tr>",
                            "<tr><td>JEAN</td><td>NULL</td><td>NULL</td></tr>",
                            "<tr><td>CHERYL</td><td>NULL</td><td>NULL</td></tr>",
                            "<tr><td>MILDRED</td><td>NULL</td><td>NULL</td></tr>",
                            "<tr><td>KATHERINE</td><td>NULL</td><td>NULL</td></tr>",
                            "<tr><td>JOAN</td><td>NULL</td><td>NULL</td></tr>",
                            "<tr><td>ASHLEY</td><td>NULL</td><td>NULL</td></tr>",
                            "<tr><td>JUDITH</td><td>NULL</td><td>NULL</td></tr>",
                            "<tr><td>ROSE</td><td>NULL</td><td>NULL</td></tr>",
                            "<tr><td>JANICE</td><td>NULL</td><td>NULL</td></tr>",
                            "<tr><td>KELLY</td><td>NULL</td><td>NULL</td></tr>",
                            "<tr><td>NICOLE</td><td>NULL</td><td>NULL</td></tr>",
                            "<tr><td>JUDY</td><td>NULL</td><td>NULL</td></tr>",
                            "<tr><td>CHRISTINA</td><td>NULL</td><td>NULL</td></tr>",
                            "<tr><td>KATHY</td><td>NULL</td><td>NULL</td></tr>",
                            "<tr><td>THERESA</td><td>NULL</td><td>NULL</td></tr>",
                            "<tr><td>BEVERLY</td><td>NULL</td><td>NULL</td></tr>",
                            "<tr><td>DENISE</td><td>NULL</td><td>NULL</td></tr>",
                            "<tr><td>TAMMY</td><td>NULL</td><td>NULL</td></tr>",
                            "<tr><td>IRENE</td><td>NULL</td><td>NULL</td></tr>",
                            "<tr><td>JANE</td><td>NULL</td><td>NULL</td></tr>",
                            "<tr><td>LORI</td><td>NULL</td><td>NULL</td></tr>",
                            "<tr><td>RACHEL</td><td>NULL</td><td>NULL</td></tr>",
                            "<tr><td>MARILYN</td><td>NULL</td><td>NULL</td></tr>",
                            "<tr><td>ANDREA</td><td>NULL</td><td>NULL</td></tr>",
                            "<tr><td>KATHRYN</td><td>NULL</td><td>NULL</td></tr>",
                            "<tr><td>LOUISE</td><td>NULL</td><td>NULL</td></tr>",
                            "<tr><td>SARA</td><td>NULL</td><td>NULL</td></tr>",
                            "<tr><td>ANNE</td><td>NULL</td><td>NULL</td></tr>",
                            "<tr><td>JACQUELINE</td><td>NULL</td><td>NULL</td></tr>",
                            "<tr><td>WANDA</td><td>NULL</td><td>NULL</td></tr>",
                            "<tr><td>BONNIE</td><td>NULL</td><td>NULL</td></tr>",
                            "<tr><td>JULIA</td><td>NULL</td><td>NULL</td></tr>",
                            "<tr><td>RUBY</td><td>NULL</td><td>NULL</td></tr>",
                            "<tr><td>LOIS</td><td>NULL</td><td>NULL</td></tr>",
                            "<tr><td>TINA</td><td>NULL</td><td>NULL</td></tr>",
                            "<tr><td>PHYLLIS</td><td>NULL</td><td>NULL</td></tr>",
                            "<tr><td>NORMA</td><td>NULL</td><td>NULL</td></tr>",
                            "<tr><td>PAULA</td><td>NULL</td><td>NULL</td></tr>",
                            "<tr><td>DIANA</td><td>NULL</td><td>NULL</td></tr>",
                            "<tr><td>ANNIE</td><td>NULL</td><td>NULL</td></tr>",
                            "<tr><td>LILLIAN</td><td>NULL</td><td>NULL</td></tr>",
                            "<tr><td>EMILY</td><td>NULL</td><td>NULL</td></tr>",
                            "<tr><td>ROBIN</td><td>NULL</td><td>NULL</td></tr>",
                            "<tr><td>PEGGY</td><td>NULL</td><td>NULL</td></tr>",
                            "<tr><td>CRYSTAL</td><td>NULL</td><td>NULL</td></tr>",
                            "<tr><td>GLADYS</td><td>NULL</td><td>NULL</td></tr>",
                            "<tr><td>RITA</td><td>NULL</td><td>NULL</td></tr>",
                            "<tr><td>DAWN</td><td>NULL</td><td>NULL</td></tr>",
                            "<tr><td>CONNIE</td><td>NULL</td><td>NULL</td></tr>",
                            "<tr><td>FLORENCE</td><td>NULL</td><td>NULL</td></tr>",
                            "<tr><td>TRACY</td><td>NULL</td><td>NULL</td></tr>",
                            "<tr><td>EDNA</td><td>NULL</td><td>NULL</td></tr>",
                            "<tr><td>TIFFANY</td><td>NULL</td><td>NULL</td></tr>",
                            "<tr><td>CARMEN</td><td>NULL</td><td>NULL</td></tr>",
                            "<tr><td>ROSA</td><td>NULL</td><td>NULL</td></tr>",
                            "<tr><td>CINDY</td><td>NULL</td><td>NULL</td></tr>",
                            "<tr><td>GRACE</td><td>NULL</td><td>NULL</td></tr>",
                            "<tr><td>WENDY</td><td>NULL</td><td>NULL</td></tr>",
                            "<tr><td>VICTORIA</td><td>NULL</td><td>NULL</td></tr>",
                            "<tr><td>EDITH</td><td>NULL</td><td>NULL</td></tr>",
                            "<tr><td>KIM</td><td>NULL</td><td>NULL</td></tr>",
                            "<tr><td>SHERRY</td><td>NULL</td><td>NULL</td></tr>",
                            "<tr><td>SYLVIA</td><td>NULL</td><td>NULL</td></tr>",
                            "<tr><td>JOSEPHINE</td><td>NULL</td><td>NULL</td></tr>",
                            "<tr><td>THELMA</td><td>NULL</td><td>NULL</td></tr>",
                            "<tr><td>SHANNON</td><td>NULL</td><td>NULL</td></tr>",
                            "<tr><td>SHEILA</td><td>NULL</td><td>NULL</td></tr>",
                            "<tr><td>ETHEL</td><td>NULL</td><td>NULL</td></tr>",
                            "<tr><td>ELLEN</td><td>NULL</td><td>NULL</td></tr>",
                            "<tr><td>ELAINE</td><td>NULL</td><td>NULL</td></tr>",
                            "<tr><td>MARJORIE</td><td>NULL</td><td>NULL</td></tr>",
                            "<tr><td>CARRIE</td><td>NULL</td><td>NULL</td></tr>",
                            "<tr><td>CHARLOTTE</td><td>NULL</td><td>NULL</td></tr>",
                            "<tr><td>MONICA</td><td>NULL</td><td>NULL</td></tr>",
                            "<tr><td>ESTHER</td><td>NULL</td><td>NULL</td></tr>",
                            "<tr><td>PAULINE</td><td>NULL</td><td>NULL</td></tr>",
                            "<tr><td>EMMA</td><td>NULL</td><td>NULL</td></tr>",
                            "<tr><td>JUANITA</td><td>NULL</td><td>NULL</td></tr>",
                            "<tr><td>ANITA</td><td>NULL</td><td>NULL</td></tr>",
                            "<tr><td>RHONDA</td><td>NULL</td><td>NULL</td></tr>",
                            "<tr><td>HAZEL</td><td>NULL</td><td>NULL</td></tr>",
                            "<tr><td>AMBER</td><td>NULL</td><td>NULL</td></tr>",
                            "<tr><td>EVA</td><td>NULL</td><td>NULL</td></tr>",
                            "<tr><td>DEBBIE</td><td>NULL</td><td>NULL</td></tr>",
                            "<tr><td>APRIL</td><td>NULL</td><td>NULL</td></tr>",
                            "<tr><td>LESLIE</td><td>NULL</td><td>NULL</td></tr>",
                            "<tr><td>CLARA</td><td>NULL</td><td>NULL</td></tr>",
                            "<tr><td>LUCILLE</td><td>NULL</td><td>NULL</td></tr>",
                            "<tr><td>JAMIE</td><td>NULL</td><td>NULL</td></tr>",
                            "<tr><td>JOANNE</td><td>NULL</td><td>NULL</td></tr>",
                            "<tr><td>ELEANOR</td><td>NULL</td><td>NULL</td></tr>",
                            "<tr><td>VALERIE</td><td>NULL</td><td>NULL</td></tr>",
                            "<tr><td>DANIELLE</td><td>NULL</td><td>NULL</td></tr>",
                            "<tr><td>MEGAN</td><td>NULL</td><td>NULL</td></tr>",
                            "<tr><td>ALICIA</td><td>NULL</td><td>NULL</td></tr>",
                            "<tr><td>SUZANNE</td><td>NULL</td><td>NULL</td></tr>",
                            "<tr><td>MICHELE</td><td>NULL</td><td>NULL</td></tr>",
                            "<tr><td>GAIL</td><td>NULL</td><td>NULL</td></tr>",
                            "<tr><td>BERTHA</td><td>NULL</td><td>NULL</td></tr>",
                            "<tr><td>DARLENE</td><td>NULL</td><td>NULL</td></tr>",
                            "<tr><td>VERONICA</td><td>NULL</td><td>NULL</td></tr>",
                            "<tr><td>JILL</td><td>NULL</td><td>NULL</td></tr>",
                            "<tr><td>ERIN</td><td>NULL</td><td>NULL</td></tr>",
                            "<tr><td>GERALDINE</td><td>NULL</td><td>NULL</td></tr>",
                            "<tr><td>LAUREN</td><td>NULL</td><td>NULL</td></tr>",
                            "<tr><td>CATHY</td><td>NULL</td><td>NULL</td></tr>",
                            "<tr><td>JOANN</td><td>NULL</td><td>NULL</td></tr>",
                            "<tr><td>LORRAINE</td><td>NULL</td><td>NULL</td></tr>",
                            "<tr><td>LYNN</td><td>NULL</td><td>NULL</td></tr>",
                            "<tr><td>SALLY</td><td>NULL</td><td>NULL</td></tr>",
                            "<tr><td>REGINA</td><td>NULL</td><td>NULL</td></tr>",
                            "<tr><td>ERICA</td><td>NULL</td><td>NULL</td></tr>",
                            "<tr><td>BEATRICE</td><td>NULL</td><td>NULL</td></tr>",
                            "<tr><td>DOLORES</td><td>NULL</td><td>NULL</td></tr>",
                            "<tr><td>BERNICE</td><td>NULL</td><td>NULL</td></tr>",
                            "<tr><td>AUDREY</td><td>NULL</td><td>NULL</td></tr>",
                            "<tr><td>YVONNE</td><td>NULL</td><td>NULL</td></tr>",
                            "<tr><td>ANNETTE</td><td>NULL</td><td>NULL</td></tr>",
                            "<tr><td>JUNE</td><td>NULL</td><td>NULL</td></tr>",
                            "<tr><td>SAMANTHA</td><td>NULL</td><td>NULL</td></tr>",
                            "<tr><td>MARION</td><td>NULL</td><td>NULL</td></tr>",
                            "<tr><td>DANA</td><td>NULL</td><td>NULL</td></tr>",
                            "<tr><td>STACY</td><td>NULL</td><td>NULL</td></tr>",
                            "<tr><td>ANA</td><td>NULL</td><td>NULL</td></tr>",
                            "<tr><td>RENEE</td><td>NULL</td><td>NULL</td></tr>",
                            "<tr><td>IDA</td><td>NULL</td><td>NULL</td></tr>",
                            "<tr><td>VIVIAN</td><td>NULL</td><td>NULL</td></tr>",
                            "<tr><td>ROBERTA</td><td>NULL</td><td>NULL</td></tr>",
                            "<tr><td>HOLLY</td><td>NULL</td><td>NULL</td></tr>",
                            "<tr><td>BRITTANY</td><td>NULL</td><td>NULL</td></tr>",
                            "<tr><td>MELANIE</td><td>NULL</td><td>NULL</td></tr>",
                            "<tr><td>LORETTA</td><td>NULL</td><td>NULL</td></tr>",
                            "<tr><td>YOLANDA</td><td>NULL</td><td>NULL</td></tr>",
                            "<tr><td>JEANETTE</td><td>NULL</td><td>NULL</td></tr>",
                            "<tr><td>LAURIE</td><td>NULL</td><td>NULL</td></tr>",
                            "<tr><td>KATIE</td><td>NULL</td><td>NULL</td></tr>",
                            "<tr><td>KRISTEN</td><td>NULL</td><td>NULL</td></tr>",
                            "<tr><td>VANESSA</td><td>NULL</td><td>NULL</td></tr>",
                            "<tr><td>ALMA</td><td>NULL</td><td>NULL</td></tr>",
                            "<tr><td>SUE</td><td>NULL</td><td>NULL</td></tr>",
                            "<tr><td>ELSIE</td><td>NULL</td><td>NULL</td></tr>",
                            "<tr><td>BETH</td><td>NULL</td><td>NULL</td></tr>",
                            "<tr><td>JEANNE</td><td>NULL</td><td>NULL</td></tr>",
                            "<tr><td>VICKI</td><td>NULL</td><td>NULL</td></tr>",
                            "<tr><td>CARLA</td><td>NULL</td><td>NULL</td></tr>",
                            "<tr><td>TARA</td><td>NULL</td><td>NULL</td></tr>",
                            "<tr><td>ROSEMARY</td><td>NULL</td><td>NULL</td></tr>",
                            "<tr><td>EILEEN</td><td>NULL</td><td>NULL</td></tr>",
                            "<tr><td>TERRI</td><td>NULL</td><td>NULL</td></tr>",
                            "<tr><td>GERTRUDE</td><td>NULL</td><td>NULL</td></tr>",
                            "<tr><td>LUCY</td><td>NULL</td><td>NULL</td></tr>",
                            "<tr><td>TONYA</td><td>NULL</td><td>NULL</td></tr>",
                            "<tr><td>ELLA</td><td>NULL</td><td>NULL</td></tr>",
                            "<tr><td>STACEY</td><td>NULL</td><td>NULL</td></tr>",
                            "<tr><td>WILMA</td><td>NULL</td><td>NULL</td></tr>",
                            "<tr><td>GINA</td><td>NULL</td><td>NULL</td></tr>",
                            "<tr><td>KRISTIN</td><td>NULL</td><td>NULL</td></tr>",
                            "<tr><td>JESSIE</td><td>NULL</td><td>NULL</td></tr>",
                            "<tr><td>NATALIE</td><td>NULL</td><td>NULL</td></tr>",
                            "<tr><td>AGNES</td><td>NULL</td><td>NULL</td></tr>",
                            "<tr><td>VERA</td><td>NULL</td><td>NULL</td></tr>",
                            "<tr><td>WILLIE</td><td>NULL</td><td>NULL</td></tr>",
                            "<tr><td>CHARLENE</td><td>NULL</td><td>NULL</td></tr>",
                            "<tr><td>BESSIE</td><td>NULL</td><td>NULL</td></tr>",
                            "<tr><td>DELORES</td><td>NULL</td><td>NULL</td></tr>",
                            "<tr><td>MELINDA</td><td>NULL</td><td>NULL</td></tr>",
                            "<tr><td>PEARL</td><td>NULL</td><td>NULL</td></tr>",
                            "<tr><td>ARLENE</td><td>NULL</td><td>NULL</td></tr>",
                            "<tr><td>MAUREEN</td><td>NULL</td><td>NULL</td></tr>",
                            "<tr><td>COLLEEN</td><td>NULL</td><td>NULL</td></tr>",
                            "<tr><td>ALLISON</td><td>NULL</td><td>NULL</td></tr>",
                            "<tr><td>TAMARA</td><td>NULL</td><td>NULL</td></tr>",
                            "<tr><td>JOY</td><td>NULL</td><td>NULL</td></tr>",
                            "<tr><td>GEORGIA</td><td>NULL</td><td>NULL</td></tr>",
                            "<tr><td>CONSTANCE</td><td>NULL</td><td>NULL</td></tr>",
                            "<tr><td>LILLIE</td><td>NULL</td><td>NULL</td></tr>",
                            "<tr><td>CLAUDIA</td><td>NULL</td><td>NULL</td></tr>",
                            "<tr><td>JACKIE</td><td>NULL</td><td>NULL</td></tr>",
                            "<tr><td>MARCIA</td><td>NULL</td><td>NULL</td></tr>",
                            "<tr><td>TANYA</td><td>NULL</td><td>NULL</td></tr>",
                            "<tr><td>NELLIE</td><td>NULL</td><td>NULL</td></tr>",
                            "<tr><td>MINNIE</td><td>NULL</td><td>NULL</td></tr>",
                            "<tr><td>MARLENE</td><td>NULL</td><td>NULL</td></tr>",
                            "<tr><td>HEIDI</td><td>NULL</td><td>NULL</td></tr>",
                            "<tr><td>GLENDA</td><td>NULL</td><td>NULL</td></tr>",
                            "<tr><td>LYDIA</td><td>NULL</td><td>NULL</td></tr>",
                            "<tr><td>VIOLA</td><td>NULL</td><td>NULL</td></tr>",
                            "<tr><td>COURTNEY</td><td>NULL</td><td>NULL</td></tr>",
                            "<tr><td>MARIAN</td><td>NULL</td><td>NULL</td></tr>",
                            "<tr><td>STELLA</td><td>NULL</td><td>NULL</td></tr>",
                            "<tr><td>CAROLINE</td><td>NULL</td><td>NULL</td></tr>",
                            "<tr><td>DORA</td><td>NULL</td><td>NULL</td></tr>",
                            "<tr><td>JO</td><td>NULL</td><td>NULL</td></tr>",
                            "<tr><td>VICKIE</td><td>NULL</td><td>NULL</td></tr>",
                            "<tr><td>MATTIE</td><td>NULL</td><td>NULL</td></tr>",
                            "<tr><td>TERRY</td><td>NULL</td><td>NULL</td></tr>",
                            "<tr><td>MAXINE</td><td>NULL</td><td>NULL</td></tr>",
                            "<tr><td>IRMA</td><td>NULL</td><td>NULL</td></tr>",
                            "<tr><td>MABEL</td><td>NULL</td><td>NULL</td></tr>",
                            "<tr><td>MARSHA</td><td>NULL</td><td>NULL</td></tr>",
                            "<tr><td>MYRTLE</td><td>NULL</td><td>NULL</td></tr>",
                            "<tr><td>LENA</td><td>NULL</td><td>NULL</td></tr>",
                            "<tr><td>CHRISTY</td><td>NULL</td><td>NULL</td></tr>",
                            "<tr><td>DEANNA</td><td>NULL</td><td>NULL</td></tr>",
                            "<tr><td>PATSY</td><td>NULL</td><td>NULL</td></tr>",
                            "<tr><td>HILDA</td><td>NULL</td><td>NULL</td></tr>",
                            "<tr><td>GWENDOLYN</td><td>NULL</td><td>NULL</td></tr>",
                            "<tr><td>JENNIE</td><td>NULL</td><td>NULL</td></tr>",
                            "<tr><td>NORA</td><td>NULL</td><td>NULL</td></tr>",
                            "<tr><td>MARGIE</td><td>NULL</td><td>NULL</td></tr>",
                            "<tr><td>NINA</td><td>NULL</td><td>NULL</td></tr>",
                            "<tr><td>CASSANDRA</td><td>NULL</td><td>NULL</td></tr>",
                            "<tr><td>LEAH</td><td>NULL</td><td>NULL</td></tr>",
                            "<tr><td>PENNY</td><td>NULL</td><td>NULL</td></tr>",
                            "<tr><td>KAY</td><td>NULL</td><td>NULL</td></tr>",
                            "<tr><td>PRISCILLA</td><td>NULL</td><td>NULL</td></tr>",
                            "<tr><td>NAOMI</td><td>NULL</td><td>NULL</td></tr>",
                            "<tr><td>CAROLE</td><td>NULL</td><td>NULL</td></tr>",
                            "<tr><td>BRANDY</td><td>NULL</td><td>NULL</td></tr>",
                            "<tr><td>OLGA</td><td>NULL</td><td>NULL</td></tr>",
                            "<tr><td>BILLIE</td><td>NULL</td><td>NULL</td></tr>",
                            "<tr><td>DIANNE</td><td>NULL</td><td>NULL</td></tr>",
                            "<tr><td>TRACEY</td><td>NULL</td><td>NULL</td></tr>",
                            "<tr><td>LEONA</td><td>NULL</td><td>NULL</td></tr>",
                            "<tr><td>JENNY</td><td>NULL</td><td>NULL</td></tr>",
                            "<tr><td>FELICIA</td><td>NULL</td><td>NULL</td></tr>",
                            "<tr><td>SONIA</td><td>NULL</td><td>NULL</td></tr>",
                            "<tr><td>MIRIAM</td><td>NULL</td><td>NULL</td></tr>",
                            "<tr><td>VELMA</td><td>NULL</td><td>NULL</td></tr>",
                            "<tr><td>BECKY</td><td>NULL</td><td>NULL</td></tr>",
                            "<tr><td>BOBBIE</td><td>NULL</td><td>NULL</td></tr>",
                            "<tr><td>VIOLET</td><td>NULL</td><td>NULL</td></tr>",
                            "<tr><td>KRISTINA</td><td>NULL</td><td>NULL</td></tr>",
                            "<tr><td>TONI</td><td>NULL</td><td>NULL</td></tr>",
                            "<tr><td>MISTY</td><td>NULL</td><td>NULL</td></tr>",
                            "<tr><td>MAE</td><td>NULL</td><td>NULL</td></tr>",
                            "<tr><td>SHELLY</td><td>NULL</td><td>NULL</td></tr>",
                            "<tr><td>DAISY</td><td>NULL</td><td>NULL</td></tr>",
                            "<tr><td>RAMONA</td><td>NULL</td><td>NULL</td></tr>",
                            "<tr><td>SHERRI</td><td>NULL</td><td>NULL</td></tr>",
                            "<tr><td>ERIKA</td><td>NULL</td><td>NULL</td></tr>",
                            "<tr><td>JAMES</td><td>NULL</td><td>NULL</td></tr>",
                            "<tr><td>JOHN</td><td>NULL</td><td>NULL</td></tr>",
                            "<tr><td>ROBERT</td><td>NULL</td><td>NULL</td></tr>",
                            "<tr><td>MICHAEL</td><td>NULL</td><td>NULL</td></tr>",
                            "<tr><td>WILLIAM</td><td>NULL</td><td>NULL</td></tr>",
                            "<tr><td>DAVID</td><td>NULL</td><td>NULL</td></tr>",
                            "<tr><td>RICHARD</td><td>NULL</td><td>NULL</td></tr>",
                            "<tr><td>CHARLES</td><td>NULL</td><td>NULL</td></tr>",
                            "<tr><td>JOSEPH</td><td>NULL</td><td>NULL</td></tr>",
                            "<tr><td>THOMAS</td><td>NULL</td><td>NULL</td></tr>",
                            "<tr><td>CHRISTOPHER</td><td>NULL</td><td>NULL</td></tr>",
                            "<tr><td>DANIEL</td><td>NULL</td><td>NULL</td></tr>",
                            "<tr><td>PAUL</td><td>NULL</td><td>NULL</td></tr>",
                            "<tr><td>MARK</td><td>NULL</td><td>NULL</td></tr>",
                            "<tr><td>DONALD</td><td>NULL</td><td>NULL</td></tr>",
                            "<tr><td>GEORGE</td><td>NULL</td><td>NULL</td></tr>",
                            "<tr><td>KENNETH</td><td>NULL</td><td>NULL</td></tr>",
                            "<tr><td>STEVEN</td><td>NULL</td><td>NULL</td></tr>",
                            "<tr><td>EDWARD</td><td>NULL</td><td>NULL</td></tr>",
                            "<tr><td>BRIAN</td><td>NULL</td><td>NULL</td></tr>",
                            "<tr><td>RONALD</td><td>NULL</td><td>NULL</td></tr>",
                            "<tr><td>ANTHONY</td><td>NULL</td><td>NULL</td></tr>",
                            "<tr><td>KEVIN</td><td>NULL</td><td>NULL</td></tr>",
                            "<tr><td>JASON</td><td>NULL</td><td>NULL</td></tr>",
                            "<tr><td>MATTHEW</td><td>NULL</td><td>NULL</td></tr>",
                            "<tr><td>GARY</td><td>NULL</td><td>NULL</td></tr>",
                            "<tr><td>TIMOTHY</td><td>NULL</td><td>NULL</td></tr>",
                            "<tr><td>JOSE</td><td>NULL</td><td>NULL</td></tr>",
                            "<tr><td>LARRY</td><td>NULL</td><td>NULL</td></tr>",
                            "<tr><td>JEFFREY</td><td>NULL</td><td>NULL</td></tr>",
                            "<tr><td>FRANK</td><td>NULL</td><td>NULL</td></tr>",
                            "<tr><td>SCOTT</td><td>NULL</td><td>NULL</td></tr>",
                            "<tr><td>ERIC</td><td>NULL</td><td>NULL</td></tr>",
                            "<tr><td>STEPHEN</td><td>NULL</td><td>NULL</td></tr>",
                            "<tr><td>ANDREW</td><td>NULL</td><td>NULL</td></tr>",
                            "<tr><td>RAYMOND</td><td>NULL</td><td>NULL</td></tr>",
                            "<tr><td>GREGORY</td><td>NULL</td><td>NULL</td></tr>",
                            "<tr><td>JOSHUA</td><td>NULL</td><td>NULL</td></tr>",
                            "<tr><td>JERRY</td><td>NULL</td><td>NULL</td></tr>",
                            "<tr><td>DENNIS</td><td>NULL</td><td>NULL</td></tr>",
                            "<tr><td>WALTER</td><td>NULL</td><td>NULL</td></tr>",
                            "<tr><td>PATRICK</td><td>NULL</td><td>NULL</td></tr>",
                            "<tr><td>PETER</td><td>NULL</td><td>NULL</td></tr>",
                            "<tr><td>HAROLD</td><td>NULL</td><td>NULL</td></tr>",
                            "<tr><td>DOUGLAS</td><td>NULL</td><td>NULL</td></tr>",
                            "<tr><td>HENRY</td><td>NULL</td><td>NULL</td></tr>",
                            "<tr><td>CARL</td><td>NULL</td><td>NULL</td></tr>",
                            "<tr><td>ARTHUR</td><td>NULL</td><td>NULL</td></tr>",
                            "<tr><td>RYAN</td><td>NULL</td><td>NULL</td></tr>",
                            "<tr><td>ROGER</td><td>NULL</td><td>NULL</td></tr>",
                            "<tr><td>JOE</td><td>NULL</td><td>NULL</td></tr>",
                            "<tr><td>JUAN</td><td>NULL</td><td>NULL</td></tr>",
                            "<tr><td>JACK</td><td>NULL</td><td>NULL</td></tr>",
                            "<tr><td>ALBERT</td><td>NULL</td><td>NULL</td></tr>",
                            "<tr><td>JONATHAN</td><td>NULL</td><td>NULL</td></tr>",
                            "<tr><td>JUSTIN</td><td>NULL</td><td>NULL</td></tr>",
                            "<tr><td>TERRY</td><td>NULL</td><td>NULL</td></tr>",
                            "<tr><td>GERALD</td><td>NULL</td><td>NULL</td></tr>",
                            "<tr><td>KEITH</td><td>NULL</td><td>NULL</td></tr>",
                            "<tr><td>SAMUEL</td><td>NULL</td><td>NULL</td></tr>",
                            "<tr><td>WILLIE</td><td>NULL</td><td>NULL</td></tr>",
                            "<tr><td>RALPH</td><td>NULL</td><td>NULL</td></tr>",
                            "<tr><td>LAWRENCE</td><td>NULL</td><td>NULL</td></tr>",
                            "<tr><td>NICHOLAS</td><td>NULL</td><td>NULL</td></tr>",
                            "<tr><td>ROY</td><td>NULL</td><td>NULL</td></tr>",
                            "<tr><td>BENJAMIN</td><td>NULL</td><td>NULL</td></tr>",
                            "<tr><td>BRUCE</td><td>NULL</td><td>NULL</td></tr>",
                            "<tr><td>BRANDON</td><td>NULL</td><td>NULL</td></tr>",
                            "<tr><td>ADAM</td><td>NULL</td><td>NULL</td></tr>",
                            "<tr><td>HARRY</td><td>NULL</td><td>NULL</td></tr>",
                            "<tr><td>FRED</td><td>NULL</td><td>NULL</td></tr>",
                            "<tr><td>WAYNE</td><td>NULL</td><td>NULL</td></tr>",
                            "<tr><td>BILLY</td><td>NULL</td><td>NULL</td></tr>",
                            "<tr><td>STEVE</td><td>NULL</td><td>NULL</td></tr>",
                            "<tr><td>LOUIS</td><td>NULL</td><td>NULL</td></tr>",
                            "<tr><td>JEREMY</td><td>NULL</td><td>NULL</td></tr>",
                            "<tr><td>AARON</td><td>NULL</td><td>NULL</td></tr>",
                            "<tr><td>RANDY</td><td>NULL</td><td>NULL</td></tr>",
                            "<tr><td>HOWARD</td><td>NULL</td><td>NULL</td></tr>",
                            "<tr><td>EUGENE</td><td>NULL</td><td>NULL</td></tr>",
                            "<tr><td>CARLOS</td><td>NULL</td><td>NULL</td></tr>",
                            "<tr><td>RUSSELL</td><td>NULL</td><td>NULL</td></tr>",
                            "<tr><td>BOBBY</td><td>NULL</td><td>NULL</td></tr>",
                            "<tr><td>VICTOR</td><td>NULL</td><td>NULL</td></tr>",
                            "<tr><td>MARTIN</td><td>NULL</td><td>NULL</td></tr>",
                            "<tr><td>ERNEST</td><td>NULL</td><td>NULL</td></tr>",
                            "<tr><td>PHILLIP</td><td>NULL</td><td>NULL</td></tr>",
                            "<tr><td>TODD</td><td>NULL</td><td>NULL</td></tr>",
                            "<tr><td>JESSE</td><td>NULL</td><td>NULL</td></tr>",
                            "<tr><td>CRAIG</td><td>NULL</td><td>NULL</td></tr>",
                            "<tr><td>ALAN</td><td>NULL</td><td>NULL</td></tr>",
                            "<tr><td>SHAWN</td><td>NULL</td><td>NULL</td></tr>",
                            "<tr><td>CLARENCE</td><td>NULL</td><td>NULL</td></tr>",
                            "<tr><td>SEAN</td><td>NULL</td><td>NULL</td></tr>",
                            "<tr><td>PHILIP</td><td>NULL</td><td>NULL</td></tr>",
                            "<tr><td>CHRIS</td><td>NULL</td><td>NULL</td></tr>",
                            "<tr><td>JOHNNY</td><td>NULL</td><td>NULL</td></tr>",
                            "<tr><td>EARL</td><td>NULL</td><td>NULL</td></tr>",
                            "<tr><td>JIMMY</td><td>NULL</td><td>NULL</td></tr>",
                            "<tr><td>ANTONIO</td><td>NULL</td><td>NULL</td></tr>",
                            "<tr><td>DANNY</td><td>NULL</td><td>NULL</td></tr>",
                            "<tr><td>BRYAN</td><td>NULL</td><td>NULL</td></tr>",
                            "<tr><td>TONY</td><td>NULL</td><td>NULL</td></tr>",
                            "<tr><td>LUIS</td><td>NULL</td><td>NULL</td></tr>",
                            "<tr><td>MIKE</td><td>NULL</td><td>NULL</td></tr>",
                            "<tr><td>STANLEY</td><td>NULL</td><td>NULL</td></tr>",
                            "<tr><td>LEONARD</td><td>NULL</td><td>NULL</td></tr>",
                            "<tr><td>NATHAN</td><td>NULL</td><td>NULL</td></tr>",
                            "<tr><td>DALE</td><td>NULL</td><td>NULL</td></tr>",
                            "<tr><td>MANUEL</td><td>NULL</td><td>NULL</td></tr>",
                            "<tr><td>RODNEY</td><td>NULL</td><td>NULL</td></tr>",
                            "<tr><td>CURTIS</td><td>NULL</td><td>NULL</td></tr>",
                            "<tr><td>NORMAN</td><td>NULL</td><td>NULL</td></tr>",
                            "<tr><td>ALLEN</td><td>NULL</td><td>NULL</td></tr>",
                            "<tr><td>MARVIN</td><td>NULL</td><td>NULL</td></tr>",
                            "<tr><td>VINCENT</td><td>NULL</td><td>NULL</td></tr>",
                            "<tr><td>GLENN</td><td>NULL</td><td>NULL</td></tr>",
                            "<tr><td>JEFFERY</td><td>NULL</td><td>NULL</td></tr>",
                            "<tr><td>TRAVIS</td><td>NULL</td><td>NULL</td></tr>",
                            "<tr><td>JEFF</td><td>NULL</td><td>NULL</td></tr>",
                            "<tr><td>CHAD</td><td>NULL</td><td>NULL</td></tr>",
                            "<tr><td>JACOB</td><td>NULL</td><td>NULL</td></tr>",
                            "<tr><td>LEE</td><td>NULL</td><td>NULL</td></tr>",
                            "<tr><td>MELVIN</td><td>NULL</td><td>NULL</td></tr>",
                            "<tr><td>ALFRED</td><td>NULL</td><td>NULL</td></tr>",
                            "<tr><td>KYLE</td><td>NULL</td><td>NULL</td></tr>",
                            "<tr><td>FRANCIS</td><td>NULL</td><td>NULL</td></tr>",
                            "<tr><td>BRADLEY</td><td>NULL</td><td>NULL</td></tr>",
                            "<tr><td>JESUS</td><td>NULL</td><td>NULL</td></tr>",
                            "<tr><td>HERBERT</td><td>NULL</td><td>NULL</td></tr>",
                            "<tr><td>FREDERICK</td><td>NULL</td><td>NULL</td></tr>",
                            "<tr><td>RAY</td><td>NULL</td><td>NULL</td></tr>",
                            "<tr><td>JOEL</td><td>NULL</td><td>NULL</td></tr>",
                            "<tr><td>EDWIN</td><td>NULL</td><td>NULL</td></tr>",
                            "<tr><td>DON</td><td>NULL</td><td>NULL</td></tr>",
                            "<tr><td>EDDIE</td><td>NULL</td><td>NULL</td></tr>",
                            "<tr><td>RICKY</td><td>NULL</td><td>NULL</td></tr>",
                            "<tr><td>TROY</td><td>NULL</td><td>NULL</td></tr>",
                            "<tr><td>RANDALL</td><td>NULL</td><td>NULL</td></tr>",
                            "<tr><td>BARRY</td><td>NULL</td><td>NULL</td></tr>",
                            "<tr><td>ALEXANDER</td><td>NULL</td><td>NULL</td></tr>",
                            "<tr><td>BERNARD</td><td>NULL</td><td>NULL</td></tr>",
                            "<tr><td>MARIO</td><td>NULL</td><td>NULL</td></tr>",
                            "<tr><td>LEROY</td><td>NULL</td><td>NULL</td></tr>",
                            "<tr><td>FRANCISCO</td><td>NULL</td><td>NULL</td></tr>",
                            "<tr><td>MARCUS</td><td>NULL</td><td>NULL</td></tr>",
                            "<tr><td>MICHEAL</td><td>NULL</td><td>NULL</td></tr>",
                            "<tr><td>THEODORE</td><td>NULL</td><td>NULL</td></tr>",
                            "<tr><td>CLIFFORD</td><td>NULL</td><td>NULL</td></tr>",
                            "<tr><td>MIGUEL</td><td>NULL</td><td>NULL</td></tr>",
                            "<tr><td>OSCAR</td><td>NULL</td><td>NULL</td></tr>",
                            "<tr><td>JAY</td><td>NULL</td><td>NULL</td></tr>",
                            "<tr><td>JIM</td><td>NULL</td><td>NULL</td></tr>",
                            "<tr><td>TOM</td><td>NULL</td><td>NULL</td></tr>",
                            "<tr><td>CALVIN</td><td>NULL</td><td>NULL</td></tr>",
                            "<tr><td>ALEX</td><td>NULL</td><td>NULL</td></tr>",
                            "<tr><td>JON</td><td>NULL</td><td>NULL</td></tr>",
                            "<tr><td>RONNIE</td><td>NULL</td><td>NULL</td></tr>",
                            "<tr><td>BILL</td><td>NULL</td><td>NULL</td></tr>",
                            "<tr><td>LLOYD</td><td>NULL</td><td>NULL</td></tr>",
                            "<tr><td>TOMMY</td><td>NULL</td><td>NULL</td></tr>",
                            "<tr><td>LEON</td><td>NULL</td><td>NULL</td></tr>",
                            "<tr><td>DEREK</td><td>NULL</td><td>NULL</td></tr>",
                            "<tr><td>WARREN</td><td>NULL</td><td>NULL</td></tr>",
                            "<tr><td>DARRELL</td><td>NULL</td><td>NULL</td></tr>",
                            "<tr><td>JEROME</td><td>NULL</td><td>NULL</td></tr>",
                            "<tr><td>FLOYD</td><td>NULL</td><td>NULL</td></tr>",
                            "<tr><td>LEO</td><td>NULL</td><td>NULL</td></tr>",
                            "<tr><td>ALVIN</td><td>NULL</td><td>NULL</td></tr>",
                            "<tr><td>TIM</td><td>NULL</td><td>NULL</td></tr>",
                            "<tr><td>WESLEY</td><td>NULL</td><td>NULL</td></tr>",
                            "<tr><td>GORDON</td><td>NULL</td><td>NULL</td></tr>",
                            "<tr><td>DEAN</td><td>NULL</td><td>NULL</td></tr>",
                            "<tr><td>GREG</td><td>NULL</td><td>NULL</td></tr>",
                            "<tr><td>JORGE</td><td>NULL</td><td>NULL</td></tr>",
                            "<tr><td>DUSTIN</td><td>NULL</td><td>NULL</td></tr>",
                            "<tr><td>PEDRO</td><td>NULL</td><td>NULL</td></tr>",
                            "<tr><td>DERRICK</td><td>NULL</td><td>NULL</td></tr>",
                            "<tr><td>DAN</td><td>NULL</td><td>NULL</td></tr>",
                            "<tr><td>LEWIS</td><td>NULL</td><td>NULL</td></tr>",
                            "<tr><td>ZACHARY</td><td>NULL</td><td>NULL</td></tr>",
                            "<tr><td>COREY</td><td>NULL</td><td>NULL</td></tr>",
                            "<tr><td>HERMAN</td><td>NULL</td><td>NULL</td></tr>",
                            "<tr><td>MAURICE</td><td>NULL</td><td>NULL</td></tr>",
                            "<tr><td>VERNON</td><td>NULL</td><td>NULL</td></tr>",
                            "<tr><td>ROBERTO</td><td>NULL</td><td>NULL</td></tr>",
                            "<tr><td>CLYDE</td><td>NULL</td><td>NULL</td></tr>",
                            "<tr><td>GLEN</td><td>NULL</td><td>NULL</td></tr>",
                            "<tr><td>HECTOR</td><td>NULL</td><td>NULL</td></tr>",
                            "<tr><td>SHANE</td><td>NULL</td><td>NULL</td></tr>",
                            "<tr><td>RICARDO</td><td>NULL</td><td>NULL</td></tr>",
                            "<tr><td>SAM</td><td>NULL</td><td>NULL</td></tr>",
                            "<tr><td>RICK</td><td>NULL</td><td>NULL</td></tr>",
                            "<tr><td>LESTER</td><td>NULL</td><td>NULL</td></tr>",
                            "<tr><td>BRENT</td><td>NULL</td><td>NULL</td></tr>",
                            "<tr><td>RAMON</td><td>NULL</td><td>NULL</td></tr>",
                            "<tr><td>CHARLIE</td><td>NULL</td><td>NULL</td></tr>",
                            "<tr><td>TYLER</td><td>NULL</td><td>NULL</td></tr>",
                            "<tr><td>GILBERT</td><td>NULL</td><td>NULL</td></tr>",
                            "<tr><td>GENE</td><td>NULL</td><td>NULL</td></tr>",
                            "<tr><td>MARC</td><td>NULL</td><td>NULL</td></tr>",
                            "<tr><td>REGINALD</td><td>NULL</td><td>NULL</td></tr>",
                            "<tr><td>RUBEN</td><td>NULL</td><td>NULL</td></tr>",
                            "<tr><td>BRETT</td><td>NULL</td><td>NULL</td></tr>",
                            "<tr><td>ANGEL</td><td>NULL</td><td>NULL</td></tr>",
                            "<tr><td>NATHANIEL</td><td>NULL</td><td>NULL</td></tr>",
                            "<tr><td>RAFAEL</td><td>NULL</td><td>NULL</td></tr>",
                            "<tr><td>LESLIE</td><td>NULL</td><td>NULL</td></tr>",
                            "<tr><td>EDGAR</td><td>NULL</td><td>NULL</td></tr>",
                            "<tr><td>MILTON</td><td>NULL</td><td>NULL</td></tr>",
                            "<tr><td>RAUL</td><td>NULL</td><td>NULL</td></tr>",
                            "<tr><td>BEN</td><td>NULL</td><td>NULL</td></tr>",
                            "<tr><td>CHESTER</td><td>NULL</td><td>NULL</td></tr>",
                            "<tr><td>CECIL</td><td>NULL</td><td>NULL</td></tr>",
                            "<tr><td>DUANE</td><td>NULL</td><td>NULL</td></tr>",
                            "<tr><td>FRANKLIN</td><td>NULL</td><td>NULL</td></tr>",
                            "<tr><td>ANDRE</td><td>NULL</td><td>NULL</td></tr>",
                            "<tr><td>ELMER</td><td>NULL</td><td>NULL</td></tr>",
                            "<tr><td>BRAD</td><td>NULL</td><td>NULL</td></tr>",
                            "<tr><td>GABRIEL</td><td>NULL</td><td>NULL</td></tr>",
                            "<tr><td>RON</td><td>NULL</td><td>NULL</td></tr>",
                            "<tr><td>MITCHELL</td><td>NULL</td><td>NULL</td></tr>",
                            "<tr><td>ROLAND</td><td>NULL</td><td>NULL</td></tr>",
                            "<tr><td>ARNOLD</td><td>NULL</td><td>NULL</td></tr>",
                            "<tr><td>HARVEY</td><td>NULL</td><td>NULL</td></tr>",
                            "<tr><td>JARED</td><td>NULL</td><td>NULL</td></tr>",
                            "<tr><td>ADRIAN</td><td>NULL</td><td>NULL</td></tr>",
                            "<tr><td>KARL</td><td>NULL</td><td>NULL</td></tr>",
                            "<tr><td>CORY</td><td>NULL</td><td>NULL</td></tr>",
                            "<tr><td>CLAUDE</td><td>NULL</td><td>NULL</td></tr>",
                            "<tr><td>ERIK</td><td>NULL</td><td>NULL</td></tr>",
                            "<tr><td>DARRYL</td><td>NULL</td><td>NULL</td></tr>",
                            "<tr><td>JAMIE</td><td>NULL</td><td>NULL</td></tr>",
                            "<tr><td>NEIL</td><td>NULL</td><td>NULL</td></tr>",
                            "<tr><td>JESSIE</td><td>NULL</td><td>NULL</td></tr>",
                            "<tr><td>CHRISTIAN</td><td>NULL</td><td>NULL</td></tr>",
                            "<tr><td>JAVIER</td><td>NULL</td><td>NULL</td></tr>",
                            "<tr><td>FERNANDO</td><td>NULL</td><td>NULL</td></tr>",
                            "<tr><td>CLINTON</td><td>NULL</td><td>NULL</td></tr>",
                            "<tr><td>TED</td><td>NULL</td><td>NULL</td></tr>",
                            "<tr><td>MATHEW</td><td>NULL</td><td>NULL</td></tr>",
                            "<tr><td>TYRONE</td><td>NULL</td><td>NULL</td></tr>",
                            "<tr><td>DARREN</td><td>NULL</td><td>NULL</td></tr>",
                            "<tr><td>LONNIE</td><td>NULL</td><td>NULL</td></tr>",
                            "<tr><td>LANCE</td><td>NULL</td><td>NULL</td></tr>",
                            "<tr><td>CODY</td><td>NULL</td><td>NULL</td></tr>",
                            "<tr><td>JULIO</td><td>NULL</td><td>NULL</td></tr>",
                            "<tr><td>KELLY</td><td>NULL</td><td>NULL</td></tr>",
                            "<tr><td>KURT</td><td>NULL</td><td>NULL</td></tr>",
                            "<tr><td>ALLAN</td><td>NULL</td><td>NULL</td></tr>",
                            "<tr><td>NELSON</td><td>NULL</td><td>NULL</td></tr>",
                            "<tr><td>GUY</td><td>NULL</td><td>NULL</td></tr>",
                            "<tr><td>CLAYTON</td><td>NULL</td><td>NULL</td></tr>",
                            "<tr><td>HUGH</td><td>NULL</td><td>NULL</td></tr>",
                            "<tr><td>MAX</td><td>NULL</td><td>NULL</td></tr>",
                            "<tr><td>DWAYNE</td><td>NULL</td><td>NULL</td></tr>",
                            "<tr><td>DWIGHT</td><td>NULL</td><td>NULL</td></tr>",
                            "<tr><td>ARMANDO</td><td>NULL</td><td>NULL</td></tr>",
                            "<tr><td>FELIX</td><td>NULL</td><td>NULL</td></tr>",
                            "<tr><td>JIMMIE</td><td>NULL</td><td>NULL</td></tr>",
                            "<tr><td>EVERETT</td><td>NULL</td><td>NULL</td></tr>",
                            "<tr><td>JORDAN</td><td>NULL</td><td>NULL</td></tr>",
                            "<tr><td>IAN</td><td>NULL</td><td>NULL</td></tr>",
                            "<tr><td>WALLACE</td><td>NULL</td><td>NULL</td></tr>",
                            "<tr><td>KEN</td><td>NULL</td><td>NULL</td></tr>",
                            "<tr><td>BOB</td><td>NULL</td><td>NULL</td></tr>",
                            "<tr><td>JAIME</td><td>NULL</td><td>NULL</td></tr>",
                            "<tr><td>CASEY</td><td>NULL</td><td>NULL</td></tr>",
                            "<tr><td>ALFREDO</td><td>NULL</td><td>NULL</td></tr>",
                            "<tr><td>ALBERTO</td><td>NULL</td><td>NULL</td></tr>",
                            "<tr><td>DAVE</td><td>NULL</td><td>NULL</td></tr>",
                            "<tr><td>IVAN</td><td>NULL</td><td>NULL</td></tr>",
                            "<tr><td>JOHNNIE</td><td>NULL</td><td>NULL</td></tr>",
                            "<tr><td>SIDNEY</td><td>NULL</td><td>NULL</td></tr>",
                            "<tr><td>BYRON</td><td>NULL</td><td>NULL</td></tr>",
                            "<tr><td>JULIAN</td><td>NULL</td><td>NULL</td></tr>",
                            "<tr><td>ISAAC</td><td>NULL</td><td>NULL</td></tr>",
                            "<tr><td>MORRIS</td><td>NULL</td><td>NULL</td></tr>",
                            "<tr><td>CLIFTON</td><td>NULL</td><td>NULL</td></tr>",
                            "<tr><td>WILLARD</td><td>NULL</td><td>NULL</td></tr>",
                            "<tr><td>DARYL</td><td>NULL</td><td>NULL</td></tr>",
                            "<tr><td>ROSS</td><td>NULL</td><td>NULL</td></tr>",
                            "<tr><td>VIRGIL</td><td>NULL</td><td>NULL</td></tr>",
                            "<tr><td>ANDY</td><td>NULL</td><td>NULL</td></tr>",
                            "<tr><td>MARSHALL</td><td>NULL</td><td>NULL</td></tr>",
                            "<tr><td>SALVADOR</td><td>NULL</td><td>NULL</td></tr>",
                            "<tr><td>PERRY</td><td>NULL</td><td>NULL</td></tr>",
                            "<tr><td>KIRK</td><td>NULL</td><td>NULL</td></tr>",
                            "<tr><td>SERGIO</td><td>NULL</td><td>NULL</td></tr>",
                            "<tr><td>MARION</td><td>NULL</td><td>NULL</td></tr>",
                            "<tr><td>TRACY</td><td>NULL</td><td>NULL</td></tr>",
                            "<tr><td>SETH</td><td>NULL</td><td>NULL</td></tr>",
                            "<tr><td>KENT</td><td>NULL</td><td>NULL</td></tr>",
                            "<tr><td>TERRANCE</td><td>NULL</td><td>NULL</td></tr>",
                            "<tr><td>RENE</td><td>NULL</td><td>NULL</td></tr>",
                            "<tr><td>EDUARDO</td><td>NULL</td><td>NULL</td></tr>",
                            "<tr><td>TERRENCE</td><td>NULL</td><td>NULL</td></tr>",
                            "<tr><td>ENRIQUE</td><td>NULL</td><td>NULL</td></tr>",
                            "<tr><td>FREDDIE</td><td>NULL</td><td>NULL</td></tr>",
                            "<tr><td>WADE</td><td>NULL</td><td>NULL</td></tr>",
                            "<tr><td>AUSTIN</td><td>NULL</td><td>NULL</td></tr>",
                            "</table>"
                        ]
                    }
                }
            ],
            "execution_count": 33
        },
        {
            "cell_type": "code",
            "source": [
                "INSERT into family VALUES (6, 1000, 5, 2);\r\n",
                "INSERT into family VALUES (7, 1001, 10, 3);"
            ],
            "metadata": {
                "language": "sql",
                "azdata_cell_guid": "858ac32e-c7d5-4c2b-90c9-1e3f51707068"
            },
            "outputs": [
                {
                    "output_type": "display_data",
                    "data": {
                        "text/html": "Commands completed successfully"
                    },
                    "metadata": {}
                },
                {
                    "output_type": "display_data",
                    "data": {
                        "text/html": "Commands completed successfully"
                    },
                    "metadata": {}
                },
                {
                    "output_type": "display_data",
                    "data": {
                        "text/html": "Total execution time: 00:00:00.003"
                    },
                    "metadata": {}
                }
            ],
            "execution_count": 29
        },
        {
            "cell_type": "code",
            "source": [
                "SELECT\r\n",
                "    customer.first_name,\r\n",
                "    family.members,\r\n",
                "    family.children\r\n",
                "FROM customer right join family \r\n",
                "on customer.customer_id = family.cust_id;"
            ],
            "metadata": {
                "language": "sql",
                "azdata_cell_guid": "24637be6-27a9-41c2-95c4-3c387898bbed"
            },
            "outputs": [
{
    "output_type": "display_data",
    "data": {
        "text/html": "(7 row(s) affected)"
    },
    "metadata": {}
}, {
    "output_type": "display_data",
    "data": {
        "text/html": "Total execution time: 00:00:01.016"
    },
    "metadata": {}
}, {
    "output_type": "execute_result",
    "metadata": {},
    "execution_count": 34,
    "data": {
        "application/vnd.dataresource+json": {
            "schema": {
                "fields": [
                    {
                        "name": "first_name"
                    },
                    {
                        "name": "members"
                    },
                    {
                        "name": "children"
                    }
                ]
            },
            "data": [
                {
                    "first_name": "MARY",
                    "members": "4",
                    "children": "1"
                },
                {
                    "first_name": "PATRICIA",
                    "members": "5",
                    "children": "1"
                },
                {
                    "first_name": "LINDA",
                    "members": "3",
                    "children": "0"
                },
                {
                    "first_name": "BARBARA",
                    "members": "6",
                    "children": "3"
                },
                {
                    "first_name": "ELIZABETH",
                    "members": "10",
                    "children": "5"
                },
                {
                    "first_name": "NULL",
                    "members": "5",
                    "children": "2"
                },
                {
                    "first_name": "NULL",
                    "members": "10",
                    "children": "3"
                }
            ]
        },
        "text/html": [
            "<table>",
            "<tr><th>first_name</th><th>members</th><th>children</th></tr>",
            "<tr><td>MARY</td><td>4</td><td>1</td></tr>",
            "<tr><td>PATRICIA</td><td>5</td><td>1</td></tr>",
            "<tr><td>LINDA</td><td>3</td><td>0</td></tr>",
            "<tr><td>BARBARA</td><td>6</td><td>3</td></tr>",
            "<tr><td>ELIZABETH</td><td>10</td><td>5</td></tr>",
            "<tr><td>NULL</td><td>5</td><td>2</td></tr>",
            "<tr><td>NULL</td><td>10</td><td>3</td></tr>",
            "</table>"
        ]
    }
}
],
            "execution_count": 34
        }
    ]
}